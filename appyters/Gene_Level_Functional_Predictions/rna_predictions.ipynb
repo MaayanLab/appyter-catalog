{
 "cells": [
  {
   "cell_type": "code",
   "execution_count": null,
   "metadata": {},
   "outputs": [],
   "source": [
    "#%%appyter init\n",
    "from appyter import magic\n",
    "magic.init(lambda _=globals: _())"
   ]
  },
  {
   "cell_type": "code",
   "execution_count": null,
   "metadata": {},
   "outputs": [],
   "source": [
    "%%appyter code_exec\n",
    "\n",
    "{% do SectionField(\n",
    "    name='Datasets',\n",
    "    title='Coding/Noncoding Gene Selection',\n",
    "    img='TCGA.png'\n",
    ")%}\n",
    "\n",
    "gene = {{ AutocompleteField(\n",
    "    name='gene_input',\n",
    "    file_path=\"https://appyters.maayanlab.cloud/storage/ncRNA_predictions/TCGA.json\",\n",
    "    label='autocomplete',\n",
    "    title='Search Gene Symbol:',\n",
    "    description='Select a gene among 38,550 genes found in TCGA',\n",
    "    section='Datasets',\n",
    "    default='TSPAN6'\n",
    ")}}"
   ]
  },
  {
   "cell_type": "code",
   "execution_count": null,
   "metadata": {},
   "outputs": [],
   "source": [
    "import h5py\n",
    "import pandas as pd\n",
    "import numpy as np\n",
    "from tqdm import trange, tqdm\n",
    "from scipy.stats import zscore\n",
    "import urllib.request\n",
    "from sklearn.metrics import roc_curve, roc_auc_score\n",
    "from matplotlib import pyplot\n",
    "from IPython.display import clear_output, display_html, HTML \n",
    "import requests\n",
    "import os\n",
    "from maayanlab_bioinformatics.harmonization import ncbi_genes\n",
    "import s3fs\n",
    "import base64\n",
    "import json"
   ]
  },
  {
   "cell_type": "markdown",
   "metadata": {},
   "source": [
    "# Fetch and load data"
   ]
  },
  {
   "cell_type": "markdown",
   "metadata": {},
   "source": [
    "Fetch and load prepared TCGA correlation matrix into a DataFrame - 38550 coding and noncoding genes"
   ]
  },
  {
   "cell_type": "code",
   "execution_count": null,
   "metadata": {},
   "outputs": [],
   "source": [
    "s3 = s3fs.S3FileSystem(anon=True, client_kwargs={'endpoint_url': 'https://appyters.maayanlab.cloud/storage'})"
   ]
  },
  {
   "cell_type": "code",
   "execution_count": null,
   "metadata": {},
   "outputs": [],
   "source": [
    "with s3.open(\"ncRNA_predictions/tcga_cor.h5\") as s3f:\n",
    "    with h5py.File(s3f, 'r') as f: \n",
    "        tcga_genes = np.transpose([str(g[0])[2:-1] for g in f['tcga_genes']])\n",
    "        gene_idx = np.where(tcga_genes == gene)[0][0]\n",
    "        tcga_cor = pd.DataFrame(f['corr_matrix'][gene_idx], index=tcga_genes, columns=[gene])"
   ]
  },
  {
   "cell_type": "markdown",
   "metadata": {},
   "source": [
    "Fetch and load prepared ARCHS4 human correlation matrix into a DataFrame - 26415 coding genes"
   ]
  },
  {
   "cell_type": "code",
   "execution_count": null,
   "metadata": {},
   "outputs": [],
   "source": [
    "with s3.open(\"ncRNA_predictions/human_correlation.h5\") as s3f:\n",
    "    with h5py.File(s3f, 'r') as f:\n",
    "        archs4_genes = np.transpose([str(g[0])[2:-1] for g in f['genes']])\n",
    "        if gene in set(archs4_genes):\n",
    "            gene_idx = np.where(archs4_genes == gene)[0][0]\n",
    "            filtered_genes = [str(g[0])[2:-1] for g in f['filtered_genes']] # only genes found in gene set libraries\n",
    "            archs4_cor = pd.DataFrame(f['human_correlation'][gene_idx], index=filtered_genes, columns=[gene])\n",
    "            archs4_cor.loc[gene] = 0\n",
    "        else: archs4_cor = pd.DataFrame()"
   ]
  },
  {
   "cell_type": "markdown",
   "metadata": {},
   "source": [
    "Fetch reference prediction matrices prepared from Enrichr [gene set libraries](https://amp.pharm.mssm.edu/Enrichr/#stats)."
   ]
  },
  {
   "cell_type": "code",
   "execution_count": null,
   "metadata": {},
   "outputs": [],
   "source": [
    "libraries = ['GO_Biological_Process_2018', 'ChEA_2016', 'MGI_Mammalian_Phenotype_Level_4_2019', 'KEGG_2019_Human',\n",
    "              'KEA_2015', 'Human_Phenotype_Ontology', 'WikiPathways_2019_Human']"
   ]
  },
  {
   "cell_type": "code",
   "execution_count": null,
   "metadata": {},
   "outputs": [],
   "source": [
    "gene_set_libraries = {}\n",
    "with s3.open(\"ncRNA_predictions/gene_set_libraries\") as s3f:\n",
    "    with h5py.File(s3f, 'r') as f:\n",
    "        for idx in trange(len(libraries)):\n",
    "            library = libraries[idx]\n",
    "            if library in list(f.keys()):\n",
    "                gene_set_libraries[library] = np.array(f[library]['gslib'])"
   ]
  },
  {
   "cell_type": "markdown",
   "metadata": {},
   "source": [
    "Fetch NCBI data to determine gene types."
   ]
  },
  {
   "cell_type": "code",
   "execution_count": null,
   "metadata": {},
   "outputs": [],
   "source": [
    "ncbi = pd.DataFrame(ncbi_genes.ncbi_genes_fetch())\n",
    "all_symbols = ncbi.Symbol.values\n",
    "ncbi = ncbi[[\"type_of_gene\"]]\n",
    "ncbi[\"Symbol\"] = all_symbols\n",
    "ncbi = ncbi.set_index(\"Symbol\")\n",
    "symbol_to_gene_type = ncbi.to_dict()[\"type_of_gene\"]"
   ]
  },
  {
   "cell_type": "markdown",
   "metadata": {},
   "source": [
    "# Predicting the top correlated functions and genes\n",
    "\n",
    "In this section, we define a pipeline with functions that will determine the top functions correlated to the user-inputted gene for each Enrichr library, and the top correlated genes, for both TCGA and ARCHS4."
   ]
  },
  {
   "cell_type": "markdown",
   "metadata": {},
   "source": [
    "Given a gene set library's name, pull the library from Enrichr and return a dictionary with functions as keys and genes as values and a sorted set of the gene set library's genes."
   ]
  },
  {
   "cell_type": "code",
   "execution_count": null,
   "metadata": {},
   "outputs": [],
   "source": [
    "def gene_set_dictionaries(library):\n",
    "    print(\"Creating dictionary from %s.\" % library)\n",
    "    enrichr_url = 'https://amp.pharm.mssm.edu/Enrichr/geneSetLibrary?mode=text&libraryName='\n",
    "    data = urllib.request.urlopen(enrichr_url + library)\n",
    "    function_to_genes = {}\n",
    "    gene_set = set() \n",
    "    for line in data:\n",
    "        lst = (str(line.strip())[2:-1]).split(r'\\t')\n",
    "        function = lst[0]\n",
    "        genes = lst[2:]\n",
    "        function_to_genes[function] = genes\n",
    "        gene_set.update(set(genes))\n",
    "    clear_output()\n",
    "    print(\"Completed creating dictionary from %s.\" % library)\n",
    "    return function_to_genes, sorted(gene_set)"
   ]
  },
  {
   "cell_type": "markdown",
   "metadata": {},
   "source": [
    "Given the function-to-gene dictionary and set of genes from the above function, create a binary matrix with genes as rows and functions as columns (value of 1 means the gene is associated with the given function)."
   ]
  },
  {
   "cell_type": "code",
   "execution_count": null,
   "metadata": {},
   "outputs": [],
   "source": [
    "def gs_binary_matrix(function_to_genes, gene_set):\n",
    "    print(\"Creating binary matrix.\")\n",
    "    binary_matrix = np.zeros((len(gene_set), len(function_to_genes)))\n",
    "    binary_matrix = pd.DataFrame(data=binary_matrix, index=gene_set, columns=list(function_to_genes.keys()))\n",
    "    for function in binary_matrix.columns: \n",
    "        gene_list = function_to_genes[function]\n",
    "        binary_matrix.loc[gene_list, function] += 1\n",
    "    clear_output()\n",
    "    print(\"Completed creating binary matrix.\")\n",
    "    return binary_matrix"
   ]
  },
  {
   "cell_type": "markdown",
   "metadata": {},
   "source": [
    "Given the library name as well as the function-to-gene dictionary and gene set from above, load the gene set prediction matrix as a DataFrame with genes as rows, functions as columns. In this prediction matrix, in each (gene, gene set/function) cell is the correlation of that gene for a given gene set (function) to every other gene in that gene set."
   ]
  },
  {
   "cell_type": "code",
   "execution_count": null,
   "metadata": {},
   "outputs": [],
   "source": [
    "def gene_set_library(library, function_to_genes, gene_set):\n",
    "    clear_output()\n",
    "    gslib = pd.DataFrame(gene_set_libraries[library], index=gene_set, columns=function_to_genes.keys())\n",
    "    return gslib"
   ]
  },
  {
   "cell_type": "code",
   "execution_count": null,
   "metadata": {},
   "outputs": [],
   "source": [
    "def new_gene_set_library(binary_matrix, function_to_genes):\n",
    "    cor = pd.DataFrame(np.corrcoef(binary_matrix), index=binary_matrix.index, columns=binary_matrix.index)\n",
    "    gslib = np.zeros((len(binary_matrix.index)))\n",
    "    gslib = pd.DataFrame(data=gslib, index=list(binary_matrix.index))\n",
    "    preds = []\n",
    "    for function in function_to_genes:\n",
    "        genes = function_to_genes[function]\n",
    "        preds.append(cor.loc[:, genes].mean(axis=1))\n",
    "    gslib = pd.concat(preds, axis=1)\n",
    "    gslib.columns = list(function_to_genes.keys())\n",
    "    return gslib"
   ]
  },
  {
   "cell_type": "markdown",
   "metadata": {},
   "source": [
    "Generate a new prediction matrix combining the gene set prediction matrix above and the TCGA or ARCHS4 correlation matrix. The following formula is used to make predictions about the chosen gene using the TCGA or ARCHS4 correlation matrix.\n",
    "\n",
    "<div style=margin-top:20px> \n",
    "    <img src=\"static/geneshot_formula.png\" width=\"50%\" height=\"50%\" style='border:0.1px solid light gray' />\n",
    "    <div style=text-align:center;margin-top:20px> \n",
    "        Fig. 1: Formula found in the <a href='https://academic.oup.com/nar/article/47/W1/W571/5494749'>Geneshot paper</a> to calculate the prediction matrix. G is the correlation matrix, GF is the gene set prediction matrix, and GF' is the new prediction matrix to make predictions about the given dataset. Note: the denominator should be GF instead of G.\n",
    "    </div>\n",
    "</div>"
   ]
  },
  {
   "cell_type": "code",
   "execution_count": null,
   "metadata": {},
   "outputs": [],
   "source": [
    "def prediction_matrix(gene, cor_matrix, gslib):\n",
    "    idx = [ g for g in gslib.index if g in cor_matrix.index ]\n",
    "    smaller_cor = cor_matrix.loc[idx] \n",
    "    smaller_gslib = gslib.loc[idx]\n",
    "    pred_matrix = np.dot(np.transpose(smaller_cor), smaller_gslib)\n",
    "    if gene in smaller_gslib.index: gslib = gslib.drop(index=gene)\n",
    "    function_sums = np.array(np.sum(gslib))\n",
    "    pred_matrix /= function_sums\n",
    "    return pd.DataFrame(data=np.transpose(pred_matrix), index=gslib.columns, columns=[gene])"
   ]
  },
  {
   "cell_type": "markdown",
   "metadata": {},
   "source": [
    "Return the top 50 most correlated functions and 100 most correlated genes associated with the given gene."
   ]
  },
  {
   "cell_type": "code",
   "execution_count": null,
   "metadata": {},
   "outputs": [],
   "source": [
    "def top_ranked(matrix, gene): \n",
    "    top = matrix.sort_values(ascending=False)\n",
    "    z_scores = pd.DataFrame(zscore(top), index=top.index)\n",
    "    genes = pd.DataFrame(list(top.index), index=top.index) \n",
    "    top = pd.concat([genes, top, z_scores], axis=1)\n",
    "    top.index = list(range(1, len(top)+1))\n",
    "    return top"
   ]
  },
  {
   "cell_type": "code",
   "execution_count": null,
   "metadata": {},
   "outputs": [],
   "source": [
    "def get_top_functions(matrix, gene, name):\n",
    "    top = top_ranked(matrix.loc[:,gene], gene).head(50)\n",
    "    top.columns = [\"%s - Annotation\" % name, \"%s - Score\" % name, \"%s - Z-Score\" % name]\n",
    "    return top"
   ]
  },
  {
   "cell_type": "code",
   "execution_count": null,
   "metadata": {},
   "outputs": [],
   "source": [
    "def get_top_genes(matrix, gene, name):\n",
    "    top = top_ranked(matrix.T.loc[gene], gene)\n",
    "    top.columns = [\"%s - Symbol\" % name, \"%s - Score\" % name, \"%s - Z-Score\" % name] \n",
    "    def id_to_type(key):\n",
    "        if (key in symbol_to_gene_type):\n",
    "            return symbol_to_gene_type[key]\n",
    "        else:\n",
    "            return None\n",
    "    gene_types = np.transpose([ id_to_type(key) for key in top.loc[:, '%s - Symbol' % name ]])\n",
    "    top.insert(1, \"%s - Annotation\" % name, gene_types)\n",
    "    top_ncRNA = None\n",
    "    if name == \"TCGA\": \n",
    "        top_ncRNA = top.loc[top['%s - Annotation' % name] == ('ncRNA' or 'rRNA' or 'snoRNA' or 'snRNA' or 'siRNA')].head(100)\n",
    "    return top.head(100), top_ncRNA"
   ]
  },
  {
   "cell_type": "markdown",
   "metadata": {},
   "source": [
    "Graph the AUROC for the TCGA and ARCHS4 predictions."
   ]
  },
  {
   "cell_type": "code",
   "execution_count": null,
   "metadata": {},
   "outputs": [],
   "source": [
    "def auc(binary_matrix, tcga_probs, archs4_probs, gene):\n",
    "    if gene not in binary_matrix.index: \n",
    "        print(\"Not enough gene annotations available.\")\n",
    "        return\n",
    "    tcga_probs = tcga_probs.fillna(tcga_probs.mean())\n",
    "    if not archs4_probs.empty: archs4_probs = archs4_probs.fillna(archs4_probs.mean())\n",
    "    y_true = binary_matrix.loc[gene]\n",
    "    ns_probs = [0 for _ in range(len(y_true))]\n",
    "    fpr, tpr, _ = roc_curve(y_true, tcga_probs)\n",
    "    apr, bpr, _ = roc_curve(y_true, archs4_probs)\n",
    "    ns_fpr, ns_tpr, _ = roc_curve(y_true, ns_probs)\n",
    "    tcga_auc = roc_auc_score(y_true, tcga_probs)\n",
    "    archs4_auc = roc_auc_score(y_true, archs4_probs)\n",
    "    pyplot.figure(figsize=(11,5))\n",
    "    pyplot.subplot(1,2,1)\n",
    "    pyplot.plot(ns_fpr, ns_tpr, linestyle='--')\n",
    "    pyplot.plot(fpr, tpr, marker='.')\n",
    "    pyplot.xlabel('False Positive Rate')\n",
    "    pyplot.ylabel('True Positive Rate')\n",
    "    pyplot.title(\"TCGA: \" + gene)\n",
    "    pyplot.text(0.75, 0.05, 'AUC: %.3f' % tcga_auc, fontsize=12)\n",
    "    \n",
    "    pyplot.subplot(1,2,2)\n",
    "    pyplot.plot(ns_fpr, ns_tpr, linestyle='--')\n",
    "    pyplot.plot(apr, bpr, marker='.')\n",
    "    pyplot.xlabel('False Positive Rate')\n",
    "    pyplot.ylabel('True Positive Rate')\n",
    "    pyplot.title(\"ARCHS4: \" + gene)\n",
    "    pyplot.text(0.75, 0.05, 'AUC: %.3f' % archs4_auc, fontsize=12)\n",
    "    pyplot.tight_layout()\n",
    "    pyplot.show()"
   ]
  },
  {
   "cell_type": "markdown",
   "metadata": {},
   "source": [
    "Process to determine top correlated functions using the above functions, display DataFrames alongside each other to facilitate comparison and a download link for the data."
   ]
  },
  {
   "cell_type": "code",
   "execution_count": null,
   "metadata": {},
   "outputs": [],
   "source": [
    "def functional_comparison(current_lib):\n",
    "    function_to_genes, gene_set = gene_set_dictionaries(current_lib)\n",
    "    binary_matrix = gs_binary_matrix(function_to_genes, gene_set)\n",
    "    if current_lib in gene_set_libraries: gslib = gene_set_library(current_lib, function_to_genes, gene_set)\n",
    "    else: gslib = new_gene_set_library(binary_matrix, function_to_genes)\n",
    "    tcga_pred_matrix = prediction_matrix(gene, tcga_cor, gslib)\n",
    "    clear_output()\n",
    "    print(\"Completed creating TCGA prediction matrix.\")\n",
    "    top_tcga_functions = get_top_functions(tcga_pred_matrix, gene, \"TCGA\")\n",
    "    if not archs4_cor.empty:\n",
    "        archs4_pred_matrix = prediction_matrix(gene, archs4_cor, gslib)\n",
    "        clear_output()\n",
    "        print(\"Completed creating ARCHS4 prediction matrix.\")\n",
    "        top_archs4_functions = get_top_functions(archs4_pred_matrix, gene, \"ARCHS4\")\n",
    "        combined_df = pd.concat([top_tcga_functions, top_archs4_functions], axis=1)\n",
    "    else:\n",
    "        archs4_pred_matrix = pd.DataFrame()\n",
    "        combined_df = top_tcga_functions\n",
    "    clear_output()\n",
    "    display(download_link(combined_df, \"Download top 50 predicted functions from %s\" % current_lib, \"T50_functions_%s.csv\" % current_lib)) \n",
    "    display_df(combined_df.head(10))\n",
    "    return binary_matrix, tcga_pred_matrix, archs4_pred_matrix"
   ]
  },
  {
   "cell_type": "code",
   "execution_count": null,
   "metadata": {},
   "outputs": [],
   "source": [
    "def display_df(df):\n",
    "#     symbol_indices = [i for i in df.columns if i.split(\" - \")[-1] == \"Symbol\"]\n",
    "#     if symbol_indices: n = df.style.set_table_attributes(\"style='max-width:95%;margin:auto'\").format(get_enrichr_link, subset=symbol_indices)\n",
    "    n = df.style.set_table_attributes(\"style='max-width:95%;margin:auto'\")\n",
    "    display_html(n._repr_html_(), raw=True)"
   ]
  },
  {
   "cell_type": "code",
   "execution_count": null,
   "metadata": {},
   "outputs": [],
   "source": [
    "def download_link(content, title, filename):  \n",
    "    csv = content.to_csv(index=False)\n",
    "    b64 = base64.b64encode(csv.encode())\n",
    "    payload = b64.decode()\n",
    "    html = '<a download=\"{filename}\" href=\"data:text/csv;base64,{payload}\" target=\"_blank\">{title}</a>'\n",
    "    html = html.format(payload=payload,title=title,filename=filename)\n",
    "    return HTML(html)"
   ]
  },
  {
   "cell_type": "code",
   "execution_count": null,
   "metadata": {},
   "outputs": [],
   "source": [
    "def predictions():\n",
    "    for library in libraries: \n",
    "        display(HTML('<h1> %s </h1>' % \" \".join(library.split(\"_\"))))\n",
    "        display(HTML('<div> Side-by-side comparison of the top </div>'))"
   ]
  },
  {
   "cell_type": "code",
   "execution_count": null,
   "metadata": {},
   "outputs": [],
   "source": [
    "def get_enrichr_link(genes, name):\n",
    "    ENRICHR_URL = 'http://amp.pharm.mssm.edu/Enrichr/addList'\n",
    "    genes_str = '\\n'.join(genes)\n",
    "    payload = {'list': (None, genes_str)}\n",
    "    response = requests.post(ENRICHR_URL, files=payload)\n",
    "    if not response.ok:\n",
    "        raise Exception('Error analyzing gene list')\n",
    "    dataset = json.loads(response.text)['shortId']\n",
    "    url = 'https://amp.pharm.mssm.edu/Enrichr/enrich?dataset=' + dataset \n",
    "    html = '<a href=\"%s\">Learn more about the top 100 correlated %s genes in Enrichr</a>' % (url, name)\n",
    "    display(HTML(html))"
   ]
  },
  {
   "cell_type": "markdown",
   "metadata": {},
   "source": [
    "# Predicted pathways (GO)"
   ]
  },
  {
   "cell_type": "markdown",
   "metadata": {},
   "source": [
    "Side-by-side comparison of the top predicted pathways."
   ]
  },
  {
   "cell_type": "code",
   "execution_count": null,
   "metadata": {},
   "outputs": [],
   "source": [
    "binary_matrix, tcga_pred_matrix, archs4_pred_matrix = functional_comparison(libraries[0])"
   ]
  },
  {
   "cell_type": "markdown",
   "metadata": {},
   "source": [
    "AUROC for the TCGA and ARCHS4-generated predictions."
   ]
  },
  {
   "cell_type": "code",
   "execution_count": null,
   "metadata": {},
   "outputs": [],
   "source": [
    "auc(binary_matrix, tcga_pred_matrix, archs4_pred_matrix, gene)"
   ]
  },
  {
   "cell_type": "markdown",
   "metadata": {},
   "source": [
    "# Predicted upstream transcription factors (ChEA)"
   ]
  },
  {
   "cell_type": "markdown",
   "metadata": {},
   "source": [
    "Side-by-side comparison of the top predicted upstream transcription factors."
   ]
  },
  {
   "cell_type": "code",
   "execution_count": null,
   "metadata": {},
   "outputs": [],
   "source": [
    "binary_matrix, tcga_pred_matrix, archs4_pred_matrix = functional_comparison(libraries[1])"
   ]
  },
  {
   "cell_type": "markdown",
   "metadata": {},
   "source": [
    "AUROC for the TCGA and ARCHS4-generated predictions."
   ]
  },
  {
   "cell_type": "code",
   "execution_count": null,
   "metadata": {},
   "outputs": [],
   "source": [
    "auc(binary_matrix, tcga_pred_matrix, archs4_pred_matrix, gene)"
   ]
  },
  {
   "cell_type": "markdown",
   "metadata": {},
   "source": [
    "# Predicted mouse phenotypes (MGI)"
   ]
  },
  {
   "cell_type": "markdown",
   "metadata": {},
   "source": [
    "Side-by-side comparison of the top predicted mouse phenotypes."
   ]
  },
  {
   "cell_type": "code",
   "execution_count": null,
   "metadata": {},
   "outputs": [],
   "source": [
    "binary_matrix, tcga_pred_matrix, archs4_pred_matrix = functional_comparison(libraries[2])"
   ]
  },
  {
   "cell_type": "markdown",
   "metadata": {},
   "source": [
    "AUROC for the TCGA and ARCHS4-generated predictions."
   ]
  },
  {
   "cell_type": "code",
   "execution_count": null,
   "metadata": {},
   "outputs": [],
   "source": [
    "auc(binary_matrix, tcga_pred_matrix, archs4_pred_matrix, gene)"
   ]
  },
  {
   "cell_type": "markdown",
   "metadata": {},
   "source": [
    "# Predicted pathways (KEGG)"
   ]
  },
  {
   "cell_type": "markdown",
   "metadata": {},
   "source": [
    "Side-by-side comparison of the top predicted pathways."
   ]
  },
  {
   "cell_type": "code",
   "execution_count": null,
   "metadata": {},
   "outputs": [],
   "source": [
    "binary_matrix, tcga_pred_matrix, archs4_pred_matrix = functional_comparison(libraries[3])"
   ]
  },
  {
   "cell_type": "markdown",
   "metadata": {},
   "source": [
    "AUROC for the TCGA and ARCHS4-generated predictions."
   ]
  },
  {
   "cell_type": "code",
   "execution_count": null,
   "metadata": {},
   "outputs": [],
   "source": [
    "auc(binary_matrix, tcga_pred_matrix, archs4_pred_matrix, gene)"
   ]
  },
  {
   "cell_type": "markdown",
   "metadata": {},
   "source": [
    "# Predicted kinase interactions (KEA)"
   ]
  },
  {
   "cell_type": "markdown",
   "metadata": {},
   "source": [
    "Side-by-side comparison of the top predicted kinase interactions."
   ]
  },
  {
   "cell_type": "code",
   "execution_count": null,
   "metadata": {},
   "outputs": [],
   "source": [
    "binary_matrix, tcga_pred_matrix, archs4_pred_matrix = functional_comparison(libraries[4])"
   ]
  },
  {
   "cell_type": "markdown",
   "metadata": {},
   "source": [
    "AUROC for the TCGA and ARCHS4-generated predictions."
   ]
  },
  {
   "cell_type": "code",
   "execution_count": null,
   "metadata": {},
   "outputs": [],
   "source": [
    "auc(binary_matrix, tcga_pred_matrix, archs4_pred_matrix, gene)"
   ]
  },
  {
   "cell_type": "markdown",
   "metadata": {},
   "source": [
    "# Predicted human phenotypes"
   ]
  },
  {
   "cell_type": "markdown",
   "metadata": {},
   "source": [
    "Side-by-side comparison of the top predicted human phenotypes."
   ]
  },
  {
   "cell_type": "code",
   "execution_count": null,
   "metadata": {},
   "outputs": [],
   "source": [
    "binary_matrix, tcga_pred_matrix, archs4_pred_matrix = functional_comparison(libraries[5])"
   ]
  },
  {
   "cell_type": "markdown",
   "metadata": {},
   "source": [
    "AUROC for the TCGA and ARCHS4-generated predictions."
   ]
  },
  {
   "cell_type": "code",
   "execution_count": null,
   "metadata": {},
   "outputs": [],
   "source": [
    "auc(binary_matrix, tcga_pred_matrix, archs4_pred_matrix, gene)"
   ]
  },
  {
   "cell_type": "markdown",
   "metadata": {},
   "source": [
    "# Predicted Biological Pathways (WikiPathways)"
   ]
  },
  {
   "cell_type": "markdown",
   "metadata": {},
   "source": [
    "Side-by-side comparison of the top predicted biological pathways from WikiPathways."
   ]
  },
  {
   "cell_type": "code",
   "execution_count": null,
   "metadata": {},
   "outputs": [],
   "source": [
    "binary_matrix, tcga_pred_matrix, archs4_pred_matrix = functional_comparison(libraries[-1])"
   ]
  },
  {
   "cell_type": "markdown",
   "metadata": {},
   "source": [
    "AUROC for the TCGA and ARCHS4-generated predictions."
   ]
  },
  {
   "cell_type": "code",
   "execution_count": null,
   "metadata": {},
   "outputs": [],
   "source": [
    "auc(binary_matrix, tcga_pred_matrix, archs4_pred_matrix, gene)"
   ]
  },
  {
   "cell_type": "markdown",
   "metadata": {},
   "source": [
    "# Top coding and non-coding genes\n",
    "Side-by-side comparison of the top correlated genes."
   ]
  },
  {
   "cell_type": "markdown",
   "metadata": {},
   "source": [
    "The top 100 most correlated genes."
   ]
  },
  {
   "cell_type": "code",
   "execution_count": null,
   "metadata": {},
   "outputs": [],
   "source": [
    "top_tcga_genes, top_ncRNA = get_top_genes(tcga_cor, gene, \"TCGA\")\n",
    "top_archs4_genes, _ = get_top_genes(archs4_cor, gene, \"ARCHS4\")\n",
    "combined_genes = pd.concat([top_tcga_genes, top_archs4_genes], axis=1)\n",
    "display(download_link(combined_genes, \"Download top 100 most correlated genes\", \"most_correlated_genes.csv\"))\n",
    "get_enrichr_link(combined_genes['TCGA - Symbol'], 'TCGA')\n",
    "get_enrichr_link(combined_genes['ARCHS4 - Symbol'], 'ARCHS4')\n",
    "display_df(combined_genes)"
   ]
  },
  {
   "cell_type": "markdown",
   "metadata": {},
   "source": [
    "The gene types of the top 100 most correlated genes."
   ]
  },
  {
   "cell_type": "code",
   "execution_count": null,
   "metadata": {},
   "outputs": [],
   "source": [
    "filtered_tcga_types = np.transpose(list(combined_genes['TCGA - Annotation']))\n",
    "filtered_tcga_types = filtered_tcga_types[filtered_tcga_types!=None]\n",
    "filtered_archs4_types = np.transpose(list(combined_genes['ARCHS4 - Annotation']))\n",
    "filtered_archs4_types = filtered_archs4_types[filtered_archs4_types!=None]\n",
    "tcga_counts = np.unique(filtered_tcga_types, return_counts=True)\n",
    "archs4_counts = np.unique(filtered_archs4_types, return_counts=True)\n",
    "rows = list( set(tcga_counts[0]) | set(archs4_counts[0]) )\n",
    "gene_types = pd.DataFrame(0, index = rows, columns=[\"TCGA\", \"ARCHS4\"])\n",
    "gene_types.loc[tcga_counts[0], \"TCGA\"] = tcga_counts[1]\n",
    "gene_types.loc[archs4_counts[0], \"ARCHS4\"] = archs4_counts[1]\n",
    "if \"unknown\" in gene_types.columns: gene_types.loc[\"unknown\"] += [100 - sum(tcga_counts[1]), 100 - sum(archs4_counts[1])]\n",
    "else: gene_types.loc[\"unknown\"] = [100 - sum(tcga_counts[1]), 100 - sum(archs4_counts[1])]\n",
    "display_df(gene_types)"
   ]
  },
  {
   "cell_type": "markdown",
   "metadata": {},
   "source": [
    "The top 100 most correlated noncoding genes. "
   ]
  },
  {
   "cell_type": "code",
   "execution_count": null,
   "metadata": {},
   "outputs": [],
   "source": [
    "display(download_link(top_ncRNA, \"Download top 100 ncRNA\", \"top_100_ncRNA.csv\"))\n",
    "get_enrichr_link(top_ncRNA['TCGA - Symbol'], 'ncRNA')\n",
    "display_df(top_ncRNA)"
   ]
  }
 ],
 "metadata": {
  "kernelspec": {
   "display_name": "venv",
   "language": "python",
   "name": "venv"
  },
  "language_info": {
   "codemirror_mode": {
    "name": "ipython",
    "version": 3
   },
   "file_extension": ".py",
   "mimetype": "text/x-python",
   "name": "python",
   "nbconvert_exporter": "python",
   "pygments_lexer": "ipython3",
   "version": "3.8.3"
  }
 },
 "nbformat": 4,
 "nbformat_minor": 4
}
