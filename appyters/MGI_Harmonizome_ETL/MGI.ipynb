{
 "cells": [
  {
   "cell_type": "markdown",
   "metadata": {},
   "source": [
    "# Harmonizome ETL: Mouse Gene Ontology (MGI)"
   ]
  },
  {
   "cell_type": "markdown",
   "metadata": {},
   "source": [
    "Created by: Charles Dai <br>\n",
    "Credit to: Moshe Silverstein\n",
    "\n",
    "Data Source: http://www.informatics.jax.org/downloads/reports/index.html"
   ]
  },
  {
   "cell_type": "code",
   "execution_count": null,
   "metadata": {},
   "outputs": [],
   "source": [
    "#%%appyter init\n",
    "from appyter import magic\n",
    "magic.init(lambda _=globals: _())"
   ]
  },
  {
   "cell_type": "code",
   "execution_count": null,
   "metadata": {},
   "outputs": [],
   "source": [
    "import sys\n",
    "import os\n",
    "from datetime import date\n",
    "\n",
    "import numpy as np\n",
    "import pandas as pd\n",
    "import matplotlib.pyplot as plt\n",
    "%matplotlib inline\n",
    "\n",
    "import harmonizome.utility_functions as uf\n",
    "import harmonizome.lookup as lookup"
   ]
  },
  {
   "cell_type": "code",
   "execution_count": null,
   "metadata": {},
   "outputs": [],
   "source": [
    "%load_ext autoreload\n",
    "%autoreload 2"
   ]
  },
  {
   "cell_type": "markdown",
   "metadata": {},
   "source": [
    "### Notebook Information"
   ]
  },
  {
   "cell_type": "code",
   "execution_count": null,
   "metadata": {},
   "outputs": [],
   "source": [
    "print('This notebook was run on:', date.today(), '\\nPython version:', sys.version)"
   ]
  },
  {
   "cell_type": "markdown",
   "metadata": {},
   "source": [
    "# Initialization"
   ]
  },
  {
   "cell_type": "code",
   "execution_count": null,
   "metadata": {},
   "outputs": [],
   "source": [
    "%%appyter hide_code\n",
    "\n",
    "{% do SectionField(\n",
    "    name='data',\n",
    "    title='Upload Data',\n",
    "    img='load_icon.png'\n",
    ") %}"
   ]
  },
  {
   "cell_type": "code",
   "execution_count": null,
   "metadata": {},
   "outputs": [],
   "source": [
    "%%appyter code_eval\n",
    "\n",
    "{% do DescriptionField(\n",
    "    name='description',\n",
    "    text='The examples below were sourced from <a href=\"http://www.informatics.jax.org/downloads/reports/index.html\" target=\"_blank\">www.informatics.jax.org</a>. If clicking on the examples does not work, they should be downloaded directly from the source website.',\n",
    "    section='data'\n",
    ") %}\n",
    "\n",
    "{% set df_file = FileField(\n",
    "    constraint='.*\\.rpt$',\n",
    "    name='gene_phenotype', \n",
    "    label='Genotypes and Phenotype Annotations (rpt)', \n",
    "    default='MGI_GenePheno.rpt',\n",
    "    examples={\n",
    "        'MGI_GenePheno.rpt': 'http://www.informatics.jax.org/downloads/reports/MGI_GenePheno.rpt'\n",
    "    },\n",
    "    section='data'\n",
    ") %}\n",
    "\n",
    "{% set gene_file = FileField(\n",
    "    constraint='.*\\.rpt$',\n",
    "    name='gene_metadata', \n",
    "    label='MGI Genetic Markers (rpt)', \n",
    "    default='MRK_GXDAssay.rpt',\n",
    "    examples={\n",
    "        'MRK_GXDAssay.rpt': 'http://www.informatics.jax.org/downloads/reports/MRK_GXDAssay.rpt'\n",
    "    },\n",
    "    section='data'\n",
    ") %}\n",
    "\n",
    "{% set ontology_file = FileField(\n",
    "    constraint='.*\\.rpt$',\n",
    "    name='phenotype_vocabulary', \n",
    "    label='Mammalian Phenotype Vocabulary (rpt)', \n",
    "    default='VOC_MammalianPhenotype.rpt',\n",
    "    examples={\n",
    "        'VOC_MammalianPhenotype.rpt': 'http://www.informatics.jax.org/downloads/reports/VOC_MammalianPhenotype.rpt'\n",
    "    },\n",
    "    section='data'\n",
    ") %}"
   ]
  },
  {
   "cell_type": "markdown",
   "metadata": {},
   "source": [
    "### Load Mapping Dictionaries"
   ]
  },
  {
   "cell_type": "code",
   "execution_count": null,
   "metadata": {},
   "outputs": [],
   "source": [
    "symbol_lookup, geneid_lookup = lookup.get_lookups()"
   ]
  },
  {
   "cell_type": "markdown",
   "metadata": {},
   "source": [
    "### Output Path"
   ]
  },
  {
   "cell_type": "code",
   "execution_count": null,
   "metadata": {},
   "outputs": [],
   "source": [
    "output_name = 'mgi'\n",
    "\n",
    "path = 'Output/MGI'\n",
    "if not os.path.exists(path):\n",
    "    os.makedirs(path)"
   ]
  },
  {
   "cell_type": "markdown",
   "metadata": {},
   "source": [
    "# Load Data"
   ]
  },
  {
   "cell_type": "code",
   "execution_count": null,
   "metadata": {},
   "outputs": [],
   "source": [
    "%%appyter code_exec\n",
    "\n",
    "df = pd.read_csv(\n",
    "    {{df_file}}, \n",
    "    header=None, usecols=[4, 6], names=['Phenotype ID', 'MGI Marker'], sep='\\t')"
   ]
  },
  {
   "cell_type": "code",
   "execution_count": null,
   "metadata": {},
   "outputs": [],
   "source": [
    "df.head()"
   ]
  },
  {
   "cell_type": "code",
   "execution_count": null,
   "metadata": {},
   "outputs": [],
   "source": [
    "df.shape"
   ]
  },
  {
   "cell_type": "markdown",
   "metadata": {},
   "source": [
    "## Load Gene Metadata"
   ]
  },
  {
   "cell_type": "code",
   "execution_count": null,
   "metadata": {},
   "outputs": [],
   "source": [
    "%%appyter code_exec\n",
    "\n",
    "gene_meta = pd.read_csv(\n",
    "    {{gene_file}}, \n",
    "    header=None, usecols=[0, 1], index_col=0, sep='\\t')"
   ]
  },
  {
   "cell_type": "code",
   "execution_count": null,
   "metadata": {},
   "outputs": [],
   "source": [
    "gene_meta.head()"
   ]
  },
  {
   "cell_type": "code",
   "execution_count": null,
   "metadata": {},
   "outputs": [],
   "source": [
    "gene_meta.shape"
   ]
  },
  {
   "cell_type": "markdown",
   "metadata": {},
   "source": [
    "# Load Ontology Metadata"
   ]
  },
  {
   "cell_type": "code",
   "execution_count": null,
   "metadata": {},
   "outputs": [],
   "source": [
    "%%appyter code_exec\n",
    "\n",
    "ontology = pd.read_csv(\n",
    "    {{ontology_file}}, \n",
    "    header=None, usecols=[0, 1], index_col=0, sep='\\t')"
   ]
  },
  {
   "cell_type": "code",
   "execution_count": null,
   "metadata": {},
   "outputs": [],
   "source": [
    "ontology.head()"
   ]
  },
  {
   "cell_type": "code",
   "execution_count": null,
   "metadata": {},
   "outputs": [],
   "source": [
    "ontology.shape"
   ]
  },
  {
   "cell_type": "markdown",
   "metadata": {},
   "source": [
    "# Pre-process Data"
   ]
  },
  {
   "cell_type": "markdown",
   "metadata": {},
   "source": [
    "## Split Marker Lists"
   ]
  },
  {
   "cell_type": "code",
   "execution_count": null,
   "metadata": {},
   "outputs": [],
   "source": [
    "df = df.dropna()\n",
    "df['MGI Marker'] = df['MGI Marker'].str.split(pat='\\|')\n",
    "df = df.explode('MGI Marker')\n",
    "df.head()"
   ]
  },
  {
   "cell_type": "code",
   "execution_count": null,
   "metadata": {},
   "outputs": [],
   "source": [
    "df.shape"
   ]
  },
  {
   "cell_type": "markdown",
   "metadata": {},
   "source": [
    "## Map Marker to Gene"
   ]
  },
  {
   "cell_type": "code",
   "execution_count": null,
   "metadata": {},
   "outputs": [],
   "source": [
    "df['MGI Marker'] = gene_meta.reindex(df['MGI Marker'])[1].reset_index(drop=True)\n",
    "df.head()"
   ]
  },
  {
   "cell_type": "markdown",
   "metadata": {},
   "source": [
    "## Map Phenotype ID to Phenotype"
   ]
  },
  {
   "cell_type": "code",
   "execution_count": null,
   "metadata": {},
   "outputs": [],
   "source": [
    "df['Phenotype ID'] = ontology.reindex(df['Phenotype ID'])[1].reset_index(drop=True)\n",
    "df = df.set_index('MGI Marker')\n",
    "df.index.name = 'Gene Symbol'\n",
    "df.columns = ['Phenotype']\n",
    "df.head()"
   ]
  },
  {
   "cell_type": "markdown",
   "metadata": {},
   "source": [
    "# Filter Data"
   ]
  },
  {
   "cell_type": "markdown",
   "metadata": {},
   "source": [
    "## Map Gene Symbols to Up-to-date Approved Gene Symbols"
   ]
  },
  {
   "cell_type": "code",
   "execution_count": null,
   "metadata": {},
   "outputs": [],
   "source": [
    "df = uf.map_symbols(df, symbol_lookup, remove_duplicates=True)\n",
    "df.shape"
   ]
  },
  {
   "cell_type": "markdown",
   "metadata": {},
   "source": [
    "# Analyze Data"
   ]
  },
  {
   "cell_type": "markdown",
   "metadata": {},
   "source": [
    "## Create Binary Matrix"
   ]
  },
  {
   "cell_type": "code",
   "execution_count": null,
   "metadata": {},
   "outputs": [],
   "source": [
    "binary_matrix = uf.binary_matrix(df)\n",
    "binary_matrix.head()"
   ]
  },
  {
   "cell_type": "code",
   "execution_count": null,
   "metadata": {},
   "outputs": [],
   "source": [
    "binary_matrix.shape"
   ]
  },
  {
   "cell_type": "code",
   "execution_count": null,
   "metadata": {},
   "outputs": [],
   "source": [
    "uf.save_data(binary_matrix, path, output_name + '_binary_matrix', \n",
    "            compression='npz', dtype=np.uint8)"
   ]
  },
  {
   "cell_type": "markdown",
   "metadata": {},
   "source": [
    "## Create Gene List"
   ]
  },
  {
   "cell_type": "code",
   "execution_count": null,
   "metadata": {},
   "outputs": [],
   "source": [
    "gene_list = uf.gene_list(binary_matrix, geneid_lookup)\n",
    "gene_list.head()"
   ]
  },
  {
   "cell_type": "code",
   "execution_count": null,
   "metadata": {},
   "outputs": [],
   "source": [
    "gene_list.shape"
   ]
  },
  {
   "cell_type": "code",
   "execution_count": null,
   "metadata": {},
   "outputs": [],
   "source": [
    "uf.save_data(gene_list, path, output_name + '_gene_list',\n",
    "            ext='tsv', compression='gzip', index=False)"
   ]
  },
  {
   "cell_type": "markdown",
   "metadata": {},
   "source": [
    "## Create Attribute List"
   ]
  },
  {
   "cell_type": "code",
   "execution_count": null,
   "metadata": {},
   "outputs": [],
   "source": [
    "attribute_list = uf.attribute_list(binary_matrix)\n",
    "attribute_list.head()"
   ]
  },
  {
   "cell_type": "code",
   "execution_count": null,
   "metadata": {},
   "outputs": [],
   "source": [
    "attribute_list.shape"
   ]
  },
  {
   "cell_type": "code",
   "execution_count": null,
   "metadata": {},
   "outputs": [],
   "source": [
    "uf.save_data(attribute_list, path, output_name + '_attribute_list',\n",
    "            ext='tsv', compression='gzip')"
   ]
  },
  {
   "cell_type": "markdown",
   "metadata": {},
   "source": [
    "## Create Gene and Attribute Set Libraries"
   ]
  },
  {
   "cell_type": "code",
   "execution_count": null,
   "metadata": {},
   "outputs": [],
   "source": [
    "uf.save_setlib(binary_matrix, 'gene', 'up', path, output_name + '_gene_up_set')"
   ]
  },
  {
   "cell_type": "code",
   "execution_count": null,
   "metadata": {},
   "outputs": [],
   "source": [
    "uf.save_setlib(binary_matrix, 'attribute', 'up', path, \n",
    "                           output_name + '_attribute_up_set')"
   ]
  },
  {
   "cell_type": "markdown",
   "metadata": {},
   "source": [
    "## Create Attribute Similarity Matrix"
   ]
  },
  {
   "cell_type": "code",
   "execution_count": null,
   "metadata": {},
   "outputs": [],
   "source": [
    "attribute_similarity_matrix = uf.similarity_matrix(binary_matrix.T, 'jaccard', sparse=True)\n",
    "attribute_similarity_matrix.head()"
   ]
  },
  {
   "cell_type": "code",
   "execution_count": null,
   "metadata": {},
   "outputs": [],
   "source": [
    "uf.save_data(attribute_similarity_matrix, path,\n",
    "            output_name + '_attribute_similarity_matrix', \n",
    "            compression='npz', symmetric=True, dtype=np.float32)"
   ]
  },
  {
   "cell_type": "markdown",
   "metadata": {},
   "source": [
    "## Create Gene Similarity Matrix"
   ]
  },
  {
   "cell_type": "code",
   "execution_count": null,
   "metadata": {},
   "outputs": [],
   "source": [
    "gene_similarity_matrix = uf.similarity_matrix(binary_matrix, 'jaccard', sparse=True)\n",
    "gene_similarity_matrix.head()"
   ]
  },
  {
   "cell_type": "code",
   "execution_count": null,
   "metadata": {},
   "outputs": [],
   "source": [
    "uf.save_data(gene_similarity_matrix, path, \n",
    "            output_name + '_gene_similarity_matrix',\n",
    "            compression='npz', symmetric=True, dtype=np.float32)"
   ]
  },
  {
   "cell_type": "markdown",
   "metadata": {},
   "source": [
    "## Create Gene-Attribute Edge List"
   ]
  },
  {
   "cell_type": "code",
   "execution_count": null,
   "metadata": {},
   "outputs": [],
   "source": [
    "edge_list = uf.edge_list(binary_matrix)\n",
    "uf.save_data(edge_list, path, output_name + '_edge_list', \n",
    "        ext='tsv', compression='gzip')"
   ]
  },
  {
   "cell_type": "markdown",
   "metadata": {},
   "source": [
    "# Create Downloadable Save File"
   ]
  },
  {
   "cell_type": "code",
   "execution_count": null,
   "metadata": {},
   "outputs": [],
   "source": [
    "uf.archive(path)"
   ]
  },
  {
   "cell_type": "markdown",
   "metadata": {},
   "source": [
    "### Link to download output files: [click here](./output_archive.zip)"
   ]
  }
 ],
 "metadata": {
  "kernelspec": {
   "display_name": "Python 3.8.0 64-bit ('harmonizome': venv)",
   "name": "python38064bitharmonizomevenve1fd62c035f347dbaffce382c9034785"
  },
  "language_info": {
   "codemirror_mode": {
    "name": "ipython",
    "version": 3
   },
   "file_extension": ".py",
   "mimetype": "text/x-python",
   "name": "python",
   "nbconvert_exporter": "python",
   "pygments_lexer": "ipython3",
   "version": "3.8.0-final"
  }
 },
 "nbformat": 4,
 "nbformat_minor": 2
}
