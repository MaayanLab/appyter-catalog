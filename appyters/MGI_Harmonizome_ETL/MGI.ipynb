{
    "cells": [
        {
            "cell_type": "markdown",
            "metadata": {},
            "source": [
                "# Mouse Gene Ontology (MGI)"
            ]
        },
        {
            "cell_type": "markdown",
            "metadata": {},
            "source": [
                "Created by: Charles Dai <br>\n",
                "Credit to: Moshe Silverstein\n",
                "\n",
                "Data Source: http://www.informatics.jax.org/downloads/reports/index.html"
            ]
        },
        {
            "cell_type": "code",
            "execution_count": 1,
            "metadata": {},
            "outputs": [],
            "source": [
                "# appyter init\n",
                "from appyter import magic\n",
                "magic.init(lambda _=globals: _())"
            ]
        },
        {
            "cell_type": "code",
            "execution_count": 2,
            "metadata": {},
            "outputs": [],
            "source": [
                "import sys\n",
                "import os\n",
                "from datetime import date\n",
                "\n",
                "import numpy as np\n",
                "import pandas as pd\n",
                "import matplotlib.pyplot as plt\n",
                "%matplotlib inline\n",
                "\n",
                "import harmonizome.utility_functions as uf\n",
                "import harmonizome.lookup as lookup"
            ]
        },
        {
            "cell_type": "code",
            "execution_count": 3,
            "metadata": {},
            "outputs": [],
            "source": [
                "# from clustergrammer_widget import *\n",
                "# net = Network(clustergrammer_widget)"
            ]
        },
        {
            "cell_type": "code",
            "execution_count": 4,
            "metadata": {},
            "outputs": [],
            "source": [
                "%load_ext autoreload\n",
                "%autoreload 2"
            ]
        },
        {
            "cell_type": "markdown",
            "metadata": {},
            "source": [
                "### Notebook Information"
            ]
        },
        {
            "cell_type": "code",
            "execution_count": 5,
            "metadata": {
                "tags": []
            },
            "outputs": [
                {
                    "output_type": "stream",
                    "name": "stdout",
                    "text": "This notebook was run on: 2020-06-28 \nPython version: 3.8.0 (default, Oct 28 2019, 16:14:01) \n[GCC 8.3.0]\n"
                }
            ],
            "source": [
                "print('This notebook was run on:', date.today(), '\\nPython version:', sys.version)"
            ]
        },
        {
            "cell_type": "markdown",
            "metadata": {},
            "source": [
                "# Initialization"
            ]
        },
        {
            "cell_type": "markdown",
            "metadata": {},
            "source": [
                "### Load Mapping Dictionaries"
            ]
        },
        {
            "cell_type": "code",
            "execution_count": 6,
            "metadata": {
                "tags": []
            },
            "outputs": [
                {
                    "output_type": "stream",
                    "name": "stderr",
                    "text": "Gathering sources: 100%|██████████| 3/3 [00:10<00:00,  3.39s/it]\n"
                }
            ],
            "source": [
                "symbol_lookup, geneid_lookup = lookup.get_lookups()"
            ]
        },
        {
            "cell_type": "markdown",
            "metadata": {},
            "source": [
                "### Output Path"
            ]
        },
        {
            "cell_type": "code",
            "execution_count": null,
            "metadata": {},
            "outputs": [],
            "source": [
                "output_name = 'mgi'\n",
                "\n",
                "path = 'Output/MGI'\n",
                "if not os.path.exists(path):\n",
                "    os.makedirs(path)"
            ]
        },
        {
            "cell_type": "code",
            "execution_count": 10,
            "metadata": {},
            "outputs": [],
            "source": [
                "%%appyter hide_code\n",
                "{% do SectionField(\n",
                "    name='data',\n",
                "    title='Load Data',\n",
                "    subtitle='Upload Files from the Mouse Gene Ontology (MGI) Dataset',\n",
                ") %}"
            ]
        },
        {
            "cell_type": "markdown",
            "metadata": {},
            "source": [
                "# Load Data"
            ]
        },
        {
            "cell_type": "code",
            "execution_count": 11,
            "metadata": {},
            "outputs": [
                {
                    "output_type": "display_data",
                    "data": {
                        "text/plain": "<IPython.core.display.Markdown object>",
                        "text/markdown": "```python\n\ndf = pd.read_csv('Input/MGI/MGI_GenePheno.rpt', header=None, usecols=[4, 6], names=['Phenotype ID', 'MGI Marker'], sep='\\t')\n```"
                    },
                    "metadata": {}
                }
            ],
            "source": [
                "%%appyter code_exec\n",
                "\n",
                "df = pd.read_csv({{FileField(\n",
                "    constraint='.*\\.rpt$',\n",
                "    name='gene_phenotype', \n",
                "    label='Genotypes and Phenotype Annotations (rpt)', \n",
                "    default='Input/MGI/MGI_GenePheno.rpt',\n",
                "    section='data')\n",
                "}}, header=None, usecols=[4, 6], names=['Phenotype ID', 'MGI Marker'], sep='\\t')"
            ]
        },
        {
            "cell_type": "code",
            "execution_count": 12,
            "metadata": {},
            "outputs": [
                {
                    "output_type": "execute_result",
                    "data": {
                        "text/plain": "  Phenotype ID MGI Marker\n0   MP:0000600  MGI:97874\n1   MP:0001716  MGI:97874\n2   MP:0001698  MGI:97874\n3   MP:0001092  MGI:97874\n4   MP:0000961  MGI:97874",
                        "text/html": "<div>\n<style scoped>\n    .dataframe tbody tr th:only-of-type {\n        vertical-align: middle;\n    }\n\n    .dataframe tbody tr th {\n        vertical-align: top;\n    }\n\n    .dataframe thead th {\n        text-align: right;\n    }\n</style>\n<table border=\"1\" class=\"dataframe\">\n  <thead>\n    <tr style=\"text-align: right;\">\n      <th></th>\n      <th>Phenotype ID</th>\n      <th>MGI Marker</th>\n    </tr>\n  </thead>\n  <tbody>\n    <tr>\n      <th>0</th>\n      <td>MP:0000600</td>\n      <td>MGI:97874</td>\n    </tr>\n    <tr>\n      <th>1</th>\n      <td>MP:0001716</td>\n      <td>MGI:97874</td>\n    </tr>\n    <tr>\n      <th>2</th>\n      <td>MP:0001698</td>\n      <td>MGI:97874</td>\n    </tr>\n    <tr>\n      <th>3</th>\n      <td>MP:0001092</td>\n      <td>MGI:97874</td>\n    </tr>\n    <tr>\n      <th>4</th>\n      <td>MP:0000961</td>\n      <td>MGI:97874</td>\n    </tr>\n  </tbody>\n</table>\n</div>"
                    },
                    "metadata": {},
                    "execution_count": 12
                }
            ],
            "source": [
                "df.head()"
            ]
        },
        {
            "cell_type": "code",
            "execution_count": 13,
            "metadata": {},
            "outputs": [
                {
                    "output_type": "execute_result",
                    "data": {
                        "text/plain": "(231666, 2)"
                    },
                    "metadata": {},
                    "execution_count": 13
                }
            ],
            "source": [
                "df.shape"
            ]
        },
        {
            "cell_type": "markdown",
            "metadata": {},
            "source": [
                "## Load Gene Metadata"
            ]
        },
        {
            "cell_type": "code",
            "execution_count": 14,
            "metadata": {},
            "outputs": [
                {
                    "output_type": "display_data",
                    "data": {
                        "text/plain": "<IPython.core.display.Markdown object>",
                        "text/markdown": "```python\n\ngene_meta = pd.read_csv('Input/MGI/MRK_GXDAssay.rpt', header=None, usecols=[0, 1], index_col=0, sep='\\t')\n```"
                    },
                    "metadata": {}
                }
            ],
            "source": [
                "%%appyter code_exec\n",
                "\n",
                "gene_meta = pd.read_csv({{FileField(\n",
                "    constraint='.*\\.rpt$',\n",
                "    name='gene_metadata', \n",
                "    label='MGI Genetic Markers (rpt)', \n",
                "    default='Input/MGI/MRK_GXDAssay.rpt',\n",
                "    section='data')\n",
                "}}, header=None, usecols=[0, 1], index_col=0, sep='\\t')"
            ]
        },
        {
            "cell_type": "code",
            "execution_count": 15,
            "metadata": {},
            "outputs": [
                {
                    "output_type": "execute_result",
                    "data": {
                        "text/plain": "                  1\n0                  \nMGI:1353431  Pcsk1n\nMGI:2177151  Cd99l2\nMGI:1916858  Sec24d\nMGI:1915444  Ndufb4\nMGI:1923953    Cpb1",
                        "text/html": "<div>\n<style scoped>\n    .dataframe tbody tr th:only-of-type {\n        vertical-align: middle;\n    }\n\n    .dataframe tbody tr th {\n        vertical-align: top;\n    }\n\n    .dataframe thead th {\n        text-align: right;\n    }\n</style>\n<table border=\"1\" class=\"dataframe\">\n  <thead>\n    <tr style=\"text-align: right;\">\n      <th></th>\n      <th>1</th>\n    </tr>\n    <tr>\n      <th>0</th>\n      <th></th>\n    </tr>\n  </thead>\n  <tbody>\n    <tr>\n      <th>MGI:1353431</th>\n      <td>Pcsk1n</td>\n    </tr>\n    <tr>\n      <th>MGI:2177151</th>\n      <td>Cd99l2</td>\n    </tr>\n    <tr>\n      <th>MGI:1916858</th>\n      <td>Sec24d</td>\n    </tr>\n    <tr>\n      <th>MGI:1915444</th>\n      <td>Ndufb4</td>\n    </tr>\n    <tr>\n      <th>MGI:1923953</th>\n      <td>Cpb1</td>\n    </tr>\n  </tbody>\n</table>\n</div>"
                    },
                    "metadata": {},
                    "execution_count": 15
                }
            ],
            "source": [
                "gene_meta.head()"
            ]
        },
        {
            "cell_type": "code",
            "execution_count": 16,
            "metadata": {},
            "outputs": [
                {
                    "output_type": "execute_result",
                    "data": {
                        "text/plain": "(14934, 1)"
                    },
                    "metadata": {},
                    "execution_count": 16
                }
            ],
            "source": [
                "gene_meta.shape"
            ]
        },
        {
            "cell_type": "markdown",
            "metadata": {},
            "source": [
                "# Load Ontology Metadata"
            ]
        },
        {
            "cell_type": "code",
            "execution_count": 17,
            "metadata": {},
            "outputs": [
                {
                    "output_type": "display_data",
                    "data": {
                        "text/plain": "<IPython.core.display.Markdown object>",
                        "text/markdown": "```python\n\nontology = pd.read_csv('Input/MGI/VOC_MammalianPhenotype.rpt', header=None, usecols=[0, 1], index_col=0, sep='\\t')\n```"
                    },
                    "metadata": {}
                }
            ],
            "source": [
                "%%appyter code_exec\n",
                "\n",
                "ontology = pd.read_csv({{FileField(\n",
                "    constraint='.*\\.rpt$',\n",
                "    name='phenotype_vocabulary', \n",
                "    label='Mammalian Phenotype Vocabulary (rpt)', \n",
                "    default='Input/MGI/VOC_MammalianPhenotype.rpt',\n",
                "    section='data')\n",
                "}}, header=None, usecols=[0, 1], index_col=0, sep='\\t')"
            ]
        },
        {
            "cell_type": "code",
            "execution_count": 18,
            "metadata": {},
            "outputs": [
                {
                    "output_type": "execute_result",
                    "data": {
                        "text/plain": "                                                1\n0                                                \nMP:0000001                    mammalian phenotype\nMP:0000002                    obsolete Morphology\nMP:0000003     abnormal adipose tissue morphology\nMP:0000005  increased brown adipose tissue amount\nMP:0000008  increased white adipose tissue amount",
                        "text/html": "<div>\n<style scoped>\n    .dataframe tbody tr th:only-of-type {\n        vertical-align: middle;\n    }\n\n    .dataframe tbody tr th {\n        vertical-align: top;\n    }\n\n    .dataframe thead th {\n        text-align: right;\n    }\n</style>\n<table border=\"1\" class=\"dataframe\">\n  <thead>\n    <tr style=\"text-align: right;\">\n      <th></th>\n      <th>1</th>\n    </tr>\n    <tr>\n      <th>0</th>\n      <th></th>\n    </tr>\n  </thead>\n  <tbody>\n    <tr>\n      <th>MP:0000001</th>\n      <td>mammalian phenotype</td>\n    </tr>\n    <tr>\n      <th>MP:0000002</th>\n      <td>obsolete Morphology</td>\n    </tr>\n    <tr>\n      <th>MP:0000003</th>\n      <td>abnormal adipose tissue morphology</td>\n    </tr>\n    <tr>\n      <th>MP:0000005</th>\n      <td>increased brown adipose tissue amount</td>\n    </tr>\n    <tr>\n      <th>MP:0000008</th>\n      <td>increased white adipose tissue amount</td>\n    </tr>\n  </tbody>\n</table>\n</div>"
                    },
                    "metadata": {},
                    "execution_count": 18
                }
            ],
            "source": [
                "ontology.head()"
            ]
        },
        {
            "cell_type": "code",
            "execution_count": 19,
            "metadata": {},
            "outputs": [
                {
                    "output_type": "execute_result",
                    "data": {
                        "text/plain": "(13491, 1)"
                    },
                    "metadata": {},
                    "execution_count": 19
                }
            ],
            "source": [
                "ontology.shape"
            ]
        },
        {
            "cell_type": "markdown",
            "metadata": {},
            "source": [
                "# Pre-process Data"
            ]
        },
        {
            "cell_type": "markdown",
            "metadata": {},
            "source": [
                "## Split Marker Lists"
            ]
        },
        {
            "cell_type": "code",
            "execution_count": 20,
            "metadata": {},
            "outputs": [
                {
                    "output_type": "execute_result",
                    "data": {
                        "text/plain": "  Phenotype ID MGI Marker\n0   MP:0000600  MGI:97874\n1   MP:0001716  MGI:97874\n2   MP:0001698  MGI:97874\n3   MP:0001092  MGI:97874\n4   MP:0000961  MGI:97874",
                        "text/html": "<div>\n<style scoped>\n    .dataframe tbody tr th:only-of-type {\n        vertical-align: middle;\n    }\n\n    .dataframe tbody tr th {\n        vertical-align: top;\n    }\n\n    .dataframe thead th {\n        text-align: right;\n    }\n</style>\n<table border=\"1\" class=\"dataframe\">\n  <thead>\n    <tr style=\"text-align: right;\">\n      <th></th>\n      <th>Phenotype ID</th>\n      <th>MGI Marker</th>\n    </tr>\n  </thead>\n  <tbody>\n    <tr>\n      <th>0</th>\n      <td>MP:0000600</td>\n      <td>MGI:97874</td>\n    </tr>\n    <tr>\n      <th>1</th>\n      <td>MP:0001716</td>\n      <td>MGI:97874</td>\n    </tr>\n    <tr>\n      <th>2</th>\n      <td>MP:0001698</td>\n      <td>MGI:97874</td>\n    </tr>\n    <tr>\n      <th>3</th>\n      <td>MP:0001092</td>\n      <td>MGI:97874</td>\n    </tr>\n    <tr>\n      <th>4</th>\n      <td>MP:0000961</td>\n      <td>MGI:97874</td>\n    </tr>\n  </tbody>\n</table>\n</div>"
                    },
                    "metadata": {},
                    "execution_count": 20
                }
            ],
            "source": [
                "df = df.dropna()\n",
                "df['MGI Marker'] = df['MGI Marker'].str.split(pat='\\|')\n",
                "df = df.explode('MGI Marker')\n",
                "df.head()"
            ]
        },
        {
            "cell_type": "code",
            "execution_count": 21,
            "metadata": {},
            "outputs": [
                {
                    "output_type": "execute_result",
                    "data": {
                        "text/plain": "(231668, 2)"
                    },
                    "metadata": {},
                    "execution_count": 21
                }
            ],
            "source": [
                "df.shape"
            ]
        },
        {
            "cell_type": "markdown",
            "metadata": {},
            "source": [
                "## Map Marker to Gene"
            ]
        },
        {
            "cell_type": "code",
            "execution_count": 22,
            "metadata": {},
            "outputs": [
                {
                    "output_type": "execute_result",
                    "data": {
                        "text/plain": "  Phenotype ID MGI Marker\n0   MP:0000600        Rb1\n1   MP:0001716        Rb1\n2   MP:0001698        Rb1\n3   MP:0001092        Rb1\n4   MP:0000961        Rb1",
                        "text/html": "<div>\n<style scoped>\n    .dataframe tbody tr th:only-of-type {\n        vertical-align: middle;\n    }\n\n    .dataframe tbody tr th {\n        vertical-align: top;\n    }\n\n    .dataframe thead th {\n        text-align: right;\n    }\n</style>\n<table border=\"1\" class=\"dataframe\">\n  <thead>\n    <tr style=\"text-align: right;\">\n      <th></th>\n      <th>Phenotype ID</th>\n      <th>MGI Marker</th>\n    </tr>\n  </thead>\n  <tbody>\n    <tr>\n      <th>0</th>\n      <td>MP:0000600</td>\n      <td>Rb1</td>\n    </tr>\n    <tr>\n      <th>1</th>\n      <td>MP:0001716</td>\n      <td>Rb1</td>\n    </tr>\n    <tr>\n      <th>2</th>\n      <td>MP:0001698</td>\n      <td>Rb1</td>\n    </tr>\n    <tr>\n      <th>3</th>\n      <td>MP:0001092</td>\n      <td>Rb1</td>\n    </tr>\n    <tr>\n      <th>4</th>\n      <td>MP:0000961</td>\n      <td>Rb1</td>\n    </tr>\n  </tbody>\n</table>\n</div>"
                    },
                    "metadata": {},
                    "execution_count": 22
                }
            ],
            "source": [
                "df['MGI Marker'] = gene_meta.reindex(df['MGI Marker'])[1].reset_index(drop=True)\n",
                "df.head()"
            ]
        },
        {
            "cell_type": "markdown",
            "metadata": {},
            "source": [
                "## Map Phenotype ID to Phenotype"
            ]
        },
        {
            "cell_type": "code",
            "execution_count": 23,
            "metadata": {},
            "outputs": [
                {
                    "output_type": "execute_result",
                    "data": {
                        "text/plain": "                                            Phenotype\nGene Symbol                                          \nRb1                                  liver hypoplasia\nRb1            abnormal placenta labyrinth morphology\nRb1                             decreased embryo size\nRb1           abnormal trigeminal ganglion morphology\nRb1          abnormal dorsal root ganglion morphology",
                        "text/html": "<div>\n<style scoped>\n    .dataframe tbody tr th:only-of-type {\n        vertical-align: middle;\n    }\n\n    .dataframe tbody tr th {\n        vertical-align: top;\n    }\n\n    .dataframe thead th {\n        text-align: right;\n    }\n</style>\n<table border=\"1\" class=\"dataframe\">\n  <thead>\n    <tr style=\"text-align: right;\">\n      <th></th>\n      <th>Phenotype</th>\n    </tr>\n    <tr>\n      <th>Gene Symbol</th>\n      <th></th>\n    </tr>\n  </thead>\n  <tbody>\n    <tr>\n      <th>Rb1</th>\n      <td>liver hypoplasia</td>\n    </tr>\n    <tr>\n      <th>Rb1</th>\n      <td>abnormal placenta labyrinth morphology</td>\n    </tr>\n    <tr>\n      <th>Rb1</th>\n      <td>decreased embryo size</td>\n    </tr>\n    <tr>\n      <th>Rb1</th>\n      <td>abnormal trigeminal ganglion morphology</td>\n    </tr>\n    <tr>\n      <th>Rb1</th>\n      <td>abnormal dorsal root ganglion morphology</td>\n    </tr>\n  </tbody>\n</table>\n</div>"
                    },
                    "metadata": {},
                    "execution_count": 23
                }
            ],
            "source": [
                "df['Phenotype ID'] = ontology.reindex(df['Phenotype ID'])[1].reset_index(drop=True)\n",
                "df = df.set_index('MGI Marker')\n",
                "df.index.name = 'Gene Symbol'\n",
                "df.columns = ['Phenotype']\n",
                "df.head()"
            ]
        },
        {
            "cell_type": "markdown",
            "metadata": {},
            "source": [
                "# Filter Data"
            ]
        },
        {
            "cell_type": "markdown",
            "metadata": {},
            "source": [
                "## Map Gene Symbols to Up-to-date Approved Gene Symbols"
            ]
        },
        {
            "cell_type": "code",
            "execution_count": 24,
            "metadata": {
                "tags": []
            },
            "outputs": [
                {
                    "output_type": "stream",
                    "name": "stderr",
                    "text": "100%|██████████| 231668/231668 [00:00<00:00, 548004.22it/s]\n"
                },
                {
                    "output_type": "execute_result",
                    "data": {
                        "text/plain": "(160160, 1)"
                    },
                    "metadata": {},
                    "execution_count": 24
                }
            ],
            "source": [
                "df = uf.map_symbols(df, symbol_lookup, remove_duplicates=True)\n",
                "df.shape"
            ]
        },
        {
            "cell_type": "markdown",
            "metadata": {},
            "source": [
                "# Analyze Data"
            ]
        },
        {
            "cell_type": "markdown",
            "metadata": {},
            "source": [
                "## Create Binary Matrix"
            ]
        },
        {
            "cell_type": "code",
            "execution_count": null,
            "metadata": {},
            "outputs": [],
            "source": [
                "binary_matrix = uf.binary_matrix(df)\n",
                "binary_matrix.head()"
            ]
        },
        {
            "cell_type": "code",
            "execution_count": null,
            "metadata": {},
            "outputs": [],
            "source": [
                "binary_matrix.shape"
            ]
        },
        {
            "cell_type": "code",
            "execution_count": null,
            "metadata": {},
            "outputs": [],
            "source": [
                "uf.save_data(binary_matrix, path, output_name + '_binary_matrix', \n",
                "            compression='npz', dtype=np.uint8)"
            ]
        },
        {
            "cell_type": "markdown",
            "metadata": {},
            "source": [
                "## Create Gene List"
            ]
        },
        {
            "cell_type": "code",
            "execution_count": null,
            "metadata": {},
            "outputs": [],
            "source": [
                "gene_list = uf.gene_list(binary_matrix, geneid_lookup)\n",
                "gene_list.head()"
            ]
        },
        {
            "cell_type": "code",
            "execution_count": null,
            "metadata": {},
            "outputs": [],
            "source": [
                "gene_list.shape"
            ]
        },
        {
            "cell_type": "code",
            "execution_count": null,
            "metadata": {},
            "outputs": [],
            "source": [
                "uf.save_data(gene_list, path, output_name + '_gene_list',\n",
                "            ext='tsv', compression='gzip', index=False)"
            ]
        },
        {
            "cell_type": "markdown",
            "metadata": {},
            "source": [
                "## Create Attribute List"
            ]
        },
        {
            "cell_type": "code",
            "execution_count": null,
            "metadata": {},
            "outputs": [],
            "source": [
                "attribute_list = uf.attribute_list(binary_matrix)\n",
                "attribute_list.head()"
            ]
        },
        {
            "cell_type": "code",
            "execution_count": null,
            "metadata": {},
            "outputs": [],
            "source": [
                "attribute_list.shape"
            ]
        },
        {
            "cell_type": "code",
            "execution_count": null,
            "metadata": {},
            "outputs": [],
            "source": [
                "uf.save_data(attribute_list, path, output_name + '_attribute_list',\n",
                "            ext='tsv', compression='gzip')"
            ]
        },
        {
            "cell_type": "markdown",
            "metadata": {},
            "source": [
                "## Create Gene and Attribute Set Libraries"
            ]
        },
        {
            "cell_type": "code",
            "execution_count": null,
            "metadata": {},
            "outputs": [],
            "source": [
                "uf.save_setlib(binary_matrix, 'gene', 'up', path, output_name + '_gene_up_set')"
            ]
        },
        {
            "cell_type": "code",
            "execution_count": null,
            "metadata": {},
            "outputs": [],
            "source": [
                "uf.save_setlib(binary_matrix, 'attribute', 'up', path, \n",
                "                           output_name + '_attribute_up_set')"
            ]
        },
        {
            "cell_type": "markdown",
            "metadata": {},
            "source": [
                "## Create Attribute Similarity Matrix"
            ]
        },
        {
            "cell_type": "code",
            "execution_count": null,
            "metadata": {},
            "outputs": [],
            "source": [
                "attribute_similarity_matrix = uf.similarity_matrix(binary_matrix.T, 'jaccard', sparse=True)\n",
                "attribute_similarity_matrix.head()"
            ]
        },
        {
            "cell_type": "code",
            "execution_count": null,
            "metadata": {},
            "outputs": [],
            "source": [
                "uf.save_data(attribute_similarity_matrix, path,\n",
                "            output_name + '_attribute_similarity_matrix', \n",
                "            compression='npz', symmetric=True, dtype=np.float32)"
            ]
        },
        {
            "cell_type": "code",
            "execution_count": null,
            "metadata": {},
            "outputs": [],
            "source": [
                "# net.load_df(attribute_similarity_matrix.iloc[:,:].copy())\n",
                "# net.filter_N_top('row', rank_type='sum', N_top=300)\n",
                "# net.cluster()\n",
                "# net.widget()"
            ]
        },
        {
            "cell_type": "markdown",
            "metadata": {},
            "source": [
                "## Create Gene Similarity Matrix"
            ]
        },
        {
            "cell_type": "code",
            "execution_count": null,
            "metadata": {},
            "outputs": [],
            "source": [
                "gene_similarity_matrix = uf.similarity_matrix(binary_matrix, 'jaccard', sparse=True)\n",
                "gene_similarity_matrix.head()"
            ]
        },
        {
            "cell_type": "code",
            "execution_count": null,
            "metadata": {},
            "outputs": [],
            "source": [
                "uf.save_data(gene_similarity_matrix, path, \n",
                "            output_name + '_gene_similarity_matrix',\n",
                "            compression='npz', symmetric=True, dtype=np.float32)"
            ]
        },
        {
            "cell_type": "markdown",
            "metadata": {},
            "source": [
                "## Create Gene-Attribute Edge List"
            ]
        },
        {
            "cell_type": "code",
            "execution_count": null,
            "metadata": {},
            "outputs": [],
            "source": [
                "edge_list = uf.edge_list(binary_matrix)\n",
                "uf.save_data(edge_list, path, output_name + '_edge_list', \n",
                "        ext='tsv', compression='gzip')"
            ]
        },
        {
            "cell_type": "markdown",
            "metadata": {},
            "source": [
                "# Create Downloadable Save File"
            ]
        },
        {
            "cell_type": "code",
            "execution_count": null,
            "metadata": {},
            "outputs": [],
            "source": [
                "uf.archive(path)"
            ]
        },
        {
            "cell_type": "markdown",
            "metadata": {},
            "source": [
                "### Link to download output files: [click here](./output_archive.zip)"
            ]
        }
    ],
    "metadata": {
        "kernelspec": {
            "display_name": "Python 3.8.0 64-bit ('harmonizome': venv)",
            "name": "python38064bitharmonizomevenve1fd62c035f347dbaffce382c9034785"
        },
        "language_info": {
            "codemirror_mode": {
                "name": "ipython",
                "version": 3
            },
            "file_extension": ".py",
            "mimetype": "text/x-python",
            "name": "python",
            "nbconvert_exporter": "python",
            "pygments_lexer": "ipython3",
            "version": "3.8.0-final"
        },
        "orig_nbformat": 2
    },
    "nbformat": 4,
    "nbformat_minor": 2
}