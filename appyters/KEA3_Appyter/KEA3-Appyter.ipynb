{
 "cells": [
  {
   "cell_type": "code",
   "execution_count": null,
   "metadata": {},
   "outputs": [],
   "source": [
    "#%%appyter init\n",
    "from appyter import magic\n",
    "magic.init(lambda _=globals: _())"
   ]
  },
  {
   "cell_type": "code",
   "execution_count": null,
   "metadata": {},
   "outputs": [],
   "source": [
    "%%appyter code_exec\n",
    "\n",
    "{% set title = StringField(\n",
    "    name='title',\n",
    "    label='Notebook name',\n",
    "    default='KEA3 Appyter',\n",
    "    section=\"PRIMARY\",\n",
    ") %}"
   ]
  },
  {
   "cell_type": "code",
   "execution_count": null,
   "metadata": {},
   "outputs": [],
   "source": [
    "%%appyter markdown\n",
    "<center>\n",
    "    <h2>{{ title }}</h2>\n",
    "    <div style=\"font-size: 1.5rem; font-weight: 300\">An appyter interface to the kinase enrichment analysis (KEA) database and enrichment analysis tool</div>\n",
    "</center>"
   ]
  },
  {
   "cell_type": "code",
   "execution_count": null,
   "metadata": {},
   "outputs": [],
   "source": [
    "import json\n",
    "import requests\n",
    "from time import sleep\n",
    "from tabulate import tabulate\n",
    "from IPython.display import HTML, display, Image, FileLink, Markdown\n",
    "import plotly.graph_objects as go\n",
    "import kaleido\n",
    "import os "
   ]
  },
  {
   "cell_type": "code",
   "execution_count": null,
   "metadata": {},
   "outputs": [],
   "source": [
    "def get_kea3_results(gene_set, query_name):\n",
    "    ADDLIST_URL = 'https://maayanlab.cloud/kea3/api/enrich/'\n",
    "    payload = {\n",
    "        'gene_set': gene_set,\n",
    "        'query_name': query_name\n",
    "    }\n",
    "\n",
    "    response = requests.post(ADDLIST_URL, data=json.dumps(payload))\n",
    "    if not response.ok:\n",
    "        raise Exception('Error analyzing gene list')\n",
    "    sleep(1)\n",
    "\n",
    "    return json.loads(response.text)"
   ]
  },
  {
   "cell_type": "code",
   "execution_count": null,
   "metadata": {},
   "outputs": [],
   "source": [
    "def display_tables(lib, title):\n",
    "    display(HTML(f'<h3>{title}</h3>'))\n",
    "    for lib_name in lib:\n",
    "        display(HTML(f'<h4>{lib_name}</h4>'))\n",
    "        res_int = [[r['Rank'], r['TF'], f'{r[\"Intersect\"]}/{r[\"Set length\"]}', r['FET p-value'], r['FDR'], r['Odds Ratio'], f\"{', '.join(r['Overlapping_Genes'].split(',')[0:10])}, ...\"] for r in results[lib_name][:num_kinases]]\n",
    "        display(HTML(tabulate(res_int, ['Rank', 'Kinase', 'Overlap', 'FET p-value', 'FDR', 'Odds Ratio', 'Overlapping Genes'], tablefmt='html')))\n",
    "        tsv_name = f\"{lib_name.replace(' ', '_')}.tsv\"\n",
    "        with open(tsv_name, 'w') as tsv_file:\n",
    "            tsv_file.write(tabulate(res_int, ['Rank', 'Kinase', 'Overlap', 'FET p-value', 'FDR', 'Odds Ratio', 'Overlapping Genes'], tablefmt='tsv'))\n",
    "        display(HTML(f'<a href=\"{tsv_name}\">Download table in .tsv</a>'))"
   ]
  },
  {
   "cell_type": "code",
   "execution_count": null,
   "metadata": {},
   "outputs": [],
   "source": [
    "%%appyter hide_code\n",
    "\n",
    "{% do SectionField(name ='section', title = 'Perform Kinase Enrichment Analysis on a Gene/Protein List', \n",
    "                   subtitle = 'Kinase Enrichment Analysis 3 (KEA3) infers upstream kinases whose putative substrates are ' +\n",
    "                               'overrepresented in a user-inputted list of genes or differentially phosphorylated proteins. ' +\n",
    "                               'The KEA3 database contains putative kinase-substrate interactions collected from publicly ' +\n",
    "                               'available datasets. Upload -OR- input a gene/protein list to retrieve the top associated kinases.', \n",
    "                   img = 'KEA3_transparent_logo.png')%}"
   ]
  },
  {
   "cell_type": "markdown",
   "metadata": {},
   "source": [
    "## Get input list\n",
    "Libraries are supersets of kinase substrate sets that are aggregated based on the database from which they are derived."
   ]
  },
  {
   "cell_type": "code",
   "execution_count": null,
   "metadata": {},
   "outputs": [],
   "source": [
    "%%appyter code_exec\n",
    "\n",
    "gene_list_file = {{ FileField(\n",
    "        name = 'Upload gene/protein list',\n",
    "        label = 'Upload gene/protein list',\n",
    "        default = '',\n",
    "        examples = {'sample_gene_list.txt': 'https://raw.githubusercontent.com/MaayanLab/KEA3-Appyter/master/sample_gene_list.txt'},\n",
    "        section = 'section'\n",
    "    )}}\n",
    "\n",
    "gene_list_input = {{ TextField(\n",
    "        name = 'Input gene/protein list',\n",
    "        label = 'Input gene/protein list (one per row)',\n",
    "        default = 'ZNF264 \\nTMPO \\nISL2 \\nMAP3K8 \\nEFNB1 \\nEIF3C \\nOSBPL11 \\nABCF1 \\nUTRN \\nOPRK1 \\nTSC1 ' +\n",
    "                    '\\nGAB2 \\nRPS3P2 \\nDDX3X \\nPPP1CA \\nNF2 \\nRBM3 \\nIRAK1 \\nKCNH2 \\nNPR1 \\nMOCOS \\nITSN2 ' +\n",
    "                    '\\nMITF \\nARAF \\nDAPK2 \\nEPHB2 \\nCACNA1G \\nYWHAZ \\nGMFB',\n",
    "        section = 'section',\n",
    "    )}}\n",
    "\n",
    "\n",
    "# Number of ranked kinases to display for the tables\n",
    "num_kinases = {{ IntField(\n",
    "        name = 'Input number of top kinases to display',\n",
    "        label = 'Number of top kinases for tables',\n",
    "        description = 'Input any integer from 1 to 100',\n",
    "        default = 10,\n",
    "        min = 1, \n",
    "        max = 100,\n",
    "        section = 'section'\n",
    "    )}}"
   ]
  },
  {
   "cell_type": "code",
   "execution_count": null,
   "metadata": {},
   "outputs": [],
   "source": [
    "gene_input = None\n",
    "\n",
    "# MeanRank threshold\n",
    "threshold = 3\n",
    "\n",
    "if gene_list_file:\n",
    "    gene_list_file = open(gene_list_file,'r')\n",
    "    gene_input = gene_list_file.read()\n",
    "    gene_list_file.close()\n",
    "elif gene_list_input:\n",
    "    gene_input = gene_list_input\n",
    "else:\n",
    "    display(HTML('<h2>No kinase list was inputted or uploaded.</h2>'))"
   ]
  },
  {
   "cell_type": "markdown",
   "metadata": {},
   "source": [
    "## Bar charts"
   ]
  },
  {
   "cell_type": "code",
   "execution_count": null,
   "metadata": {},
   "outputs": [],
   "source": [
    "if gene_input:\n",
    "    genes = [x.strip() for x in gene_input.split('\\n')]\n",
    "    results = get_kea3_results(genes, 'Query')\n",
    "    k_libs_palette = {'BioGRID': 'rgb(196, 8, 8)', 'ChengKSIN': 'rgb(244, 109, 67)', 'ChengPPI': 'rgb(242, 172, 68)',\n",
    "                      'HIPPIE': 'rgb(236, 252, 68)', 'mentha': 'rgb(165, 242, 162)', 'MINT': 'rgb(92, 217, 78)',\n",
    "                      'PhosDAll': 'rgb(0, 138, 64)', 'prePPI': 'rgb(96, 191, 235)', 'PTMsigDB': 'rgb(14, 130, 201)',\n",
    "                      'STRING': 'rgb(58, 50, 168)', 'STRING.bind': 'rgb(158, 50, 168)'}\n",
    "    \n",
    "    k_libs_means = {'STRING.bind': [0] * 10, 'ChengPPI': [0] * 10, 'PhosDAll': [0] * 10, 'BioGRID': [0] * 10,\n",
    "                    'HIPPIE': [0] * 10, 'ChengKSIN': [0] * 10,\n",
    "                    'STRING': [0] * 10, 'MINT': [0] * 10, 'mentha': [0] * 10, 'prePPI': [0] * 10,\n",
    "                    'PTMsigDB': [0] * 10}\n",
    "\n",
    "    libs_sorted = ['BioGRID', 'ChengKSIN', 'ChengPPI', 'HIPPIE', 'mentha', 'MINT', 'PhosDAll', 'prePPI', 'PTMsigDB', 'STRING', 'STRING.bind']\n",
    "    \n",
    "    results_mr_t = [r for r in results['Integrated--meanRank'] if len(r['Library'].split(';')) >= threshold][:num_kinases]\n",
    "    # results_mr_t.sort(key=lambda kin: sum([int(k.split(',')[1]) for k in kin['Library'].split(';')]))\n",
    "    results_mr_t = results_mr_t[::-1]\n",
    "    sorted_kinases = [k['TF'] for k in results_mr_t[:num_kinases]]\n",
    "\n",
    "    for i, kin in enumerate(results_mr_t[:num_kinases]):\n",
    "        scores = kin['Library'].split(';')\n",
    "        for s in scores:\n",
    "            l, s = s.split(',')\n",
    "            k_libs_means[l][i] = int(s)\n",
    "\n",
    "    fig = go.Figure(data=[go.Bar(name=k_lib, x=k_libs_means[k_lib], y=sorted_kinases,\n",
    "                                 marker=go.bar.Marker(color=k_libs_palette[k_lib]), orientation='h') for k_lib in\n",
    "                          libs_sorted])\n",
    "\n",
    "    fig.update_layout(barmode='stack')\n",
    "    fig.update_layout(title={\n",
    "        'text': 'Stacked Bar Chart of Sum of Ranks in Different Libraries',\n",
    "        'y': 0.87,\n",
    "        'x': 0.5,\n",
    "        'xanchor': 'center',\n",
    "        'yanchor': 'top',\n",
    "    },\n",
    "        xaxis_title='Sum of Ranks in Different Libraries',\n",
    "        yaxis_title='Kinases',\n",
    "        font=dict(\n",
    "            size=16,\n",
    "            color='black'\n",
    "        )\n",
    "    )\n",
    "\n",
    "    display(HTML(\n",
    "        '<h2>This interactive bar chart summarizes the ranks of the top kinases from the different libraries.</h2>'))\n",
    "    display(HTML(\n",
    "        f'<i>Kinases are sorted by MeanRank. Only kinases with at least {threshold} contributed libraries are shown. ' +\n",
    "        'To download the file as a PNG, click the camera button in the upper right corner of the chart.</i>'))\n",
    "    fig.show()"
   ]
  },
  {
   "cell_type": "markdown",
   "metadata": {},
   "source": [
    "## Tables"
   ]
  },
  {
   "cell_type": "code",
   "execution_count": null,
   "metadata": {},
   "outputs": [],
   "source": [
    "if gene_input:\n",
    "    display(HTML('<h2>The following tables display the integrated (summarizing) results of the top kinases.</h2>'))\n",
    "    \n",
    "    display(HTML('<h4>MeanRank</h4>'))\n",
    "    res_mr = [[r['Rank'], r['TF'], r['Score'], r['Library'].replace(',', ': ').replace(';', ', '), f\"{', '.join(r['Overlapping_Genes'].split(',')[0:10])}, ...\"] for r in results['Integrated--meanRank'][:num_kinases]]\n",
    "    display(HTML(tabulate(res_mr, ['Rank', 'Kinase', 'MeanRank', 'Libraries Ranks', 'Overlapping Genes'], tablefmt='html')))\n",
    "    \n",
    "    display(HTML('<h4>TopRank</h4>'))\n",
    "    res_tr = [[r['Rank'], r['TF'], r['Score'], r['Library'].replace(',', ': ').replace(';', ', '), f\"{', '.join(r['Overlapping_Genes'].split(',')[0:10])}, ...\"] for r in results['Integrated--topRank'][:num_kinases]]\n",
    "    display(HTML(tabulate(res_tr, ['Rank', 'Kinase', 'TopRank', 'Libraries Ranks','Overlapping Genes'], tablefmt='html')))\n",
    "\n",
    "    display(HTML('<h2>The following tables display the rankings of the top kinases from each library.</h2>'))\n",
    "\n",
    "    display_tables(['ChengKSIN', 'PTMsigDB', 'PhosDAll'], 'Kinase-substrate interaction')\n",
    "    display_tables(['prePPI', 'BioGRID', 'mentha', 'MINT','HIPPIE', 'STRING.bind',  'ChengPPI'], 'Protein-protein interaction')\n",
    "    display_tables(['STRING'], 'All associations')"
   ]
  }
 ],
 "metadata": {
  "kernelspec": {
   "display_name": "Python 3",
   "language": "python",
   "name": "python3"
  },
  "language_info": {
   "codemirror_mode": {
    "name": "ipython",
    "version": 3
   },
   "file_extension": ".py",
   "mimetype": "text/x-python",
   "name": "python",
   "nbconvert_exporter": "python",
   "pygments_lexer": "ipython3",
   "version": "3.9.2"
  }
 },
 "nbformat": 4,
 "nbformat_minor": 4
}
