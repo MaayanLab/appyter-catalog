{
 "cells": [
  {
   "cell_type": "markdown",
   "metadata": {},
   "source": [
    "# Harmonizome ETL: Reactome"
   ]
  },
  {
   "cell_type": "markdown",
   "metadata": {},
   "source": [
    "### Authors\n",
    "Moshe Silverstein, Charles Dai, Ido Diamant  \n",
    "  \n",
    "Ma’ayan Lab, Mount Sinai Center for Bioinformatics, Department of Pharmacological Sciences  \n",
    "Icahn School of Medicine at Mount Sinai, New York, NY 10029 USA"
   ]
  },
  {
   "cell_type": "markdown",
   "metadata": {},
   "source": [
    "[Reactome](https://reactome.org/) is a database of manually curated pathways. It provides tools for the visualization, interpretation, and analysis of pathway knowledge.  \n",
    "\n",
    "This appyter takes data from the Reactome Pathways Gene Set and outputs files that are usable for Machine Learning and other applications. It processes the [ReactomePathways.gmt.zip](https://reactome.org/download/current/ReactomePathways.gmt.zip) file downloaded on 09-19-2022.\n",
    "  \n",
    "The Appyter uses the NCBI database to map the gene names to a set of approved gene symbols so that synonymous genes are mapped to the same symbol.  \n",
    "\n",
    "The Appyter creates gene and attribute similarity matrices, which contain the Jaccard Index between any two gene sets or attribute sets.  \n",
    "    \n",
    "The following output files are made available for download:  \n",
    "* A binary matrix\n",
    "* Gene list\n",
    "* Attribute list\n",
    "* A gene set library: for each attribute (pathway), a list of genes that are associated with the attribute\n",
    "* An attribute set library: for each gene, a list of attributes (pathways) that are associated with each gene\n",
    "* Gene-gene similarity matrix\n",
    "* Attribute-attribute similarity matrix\n",
    "* Gene-attribute edge list: a list of gene-attribute pairs and the strength of each \n",
    "association\n",
    "* Serialized data for Knowledge Graph ingestion: a list of gene and pathway nodes, and gene &rarr; pathway edges  \n",
    "  \n",
    "A ZIP archive containing these files is provided at the bottom of the report."
   ]
  },
  {
   "cell_type": "code",
   "execution_count": null,
   "metadata": {},
   "outputs": [],
   "source": [
    "#%%appyter init\n",
    "from appyter import magic\n",
    "magic.init(lambda _=globals: _())"
   ]
  },
  {
   "cell_type": "code",
   "execution_count": null,
   "metadata": {},
   "outputs": [],
   "source": [
    "import os\n",
    "import sys\n",
    "from datetime import date\n",
    "from tqdm import tqdm\n",
    "from PIL import Image\n",
    "\n",
    "import numpy as np\n",
    "import pandas as pd\n",
    "import json\n",
    "from sklearn.feature_extraction.text import TfidfVectorizer\n",
    "import anndata\n",
    "import scanpy as sc\n",
    "from IPython.display import FileLink, FileLinks\n",
    "\n",
    "import harmonizome.utility_functions as uf\n",
    "import harmonizome.lookup as lookup\n",
    "\n",
    "from bokeh.io import output_notebook, export_svg\n",
    "from bokeh.io.export import get_screenshot_as_png\n",
    "from bokeh.plotting import figure, show\n",
    "from bokeh.models import HoverTool, ColumnDataSource\n",
    "from bokeh.palettes import Category20"
   ]
  },
  {
   "cell_type": "code",
   "execution_count": null,
   "metadata": {},
   "outputs": [],
   "source": [
    "%load_ext autoreload\n",
    "%autoreload 2"
   ]
  },
  {
   "cell_type": "markdown",
   "metadata": {},
   "source": [
    "# Initilization"
   ]
  },
  {
   "cell_type": "code",
   "execution_count": null,
   "metadata": {},
   "outputs": [],
   "source": [
    "%%appyter hide_code\n",
    "{% do SectionField(\n",
    "    name= 'data',\n",
    "    title= 'Upload Data',\n",
    "    img='load_icon.png'\n",
    ")%}"
   ]
  },
  {
   "cell_type": "code",
   "execution_count": null,
   "metadata": {},
   "outputs": [],
   "source": [
    "%%appyter code_eval\n",
    "{% do DescriptionField(\n",
    "    name= 'Description',\n",
    "    text= 'The example below was sourced from <a href=\"http://reactome.org/pages/download=data/\" target =\"_blank\">reactome.org</a>. If clicking on the example does not work, it should be downloaded directly from the source.',\n",
    "    section='data'\n",
    ")%}\n",
    "\n",
    "{% set df_file = FileField(\n",
    "    constrant= '.*.gmt(.zip)?',\n",
    "    name= 'pathways_gene',\n",
    "    label= 'Pathway Gene Set (gmt.zip)',\n",
    "    default= 'ReactomePathways.gmt.zip',\n",
    "    examples= {\n",
    "        'ReactomePathways.gmt.zip': 'https://reactome.org/download/current/ReactomePathways.gmt.zip'\n",
    "    },\n",
    "    section= 'data'\n",
    ")%}"
   ]
  },
  {
   "cell_type": "code",
   "execution_count": null,
   "metadata": {},
   "outputs": [],
   "source": [
    "output_notebook()"
   ]
  },
  {
   "cell_type": "markdown",
   "metadata": {},
   "source": [
    "## Load and Save Mapping Dictionaries"
   ]
  },
  {
   "cell_type": "code",
   "execution_count": null,
   "metadata": {},
   "outputs": [],
   "source": [
    "symbol_lookup, geneid_lookup = lookup.get_lookups()"
   ]
  },
  {
   "cell_type": "markdown",
   "metadata": {},
   "source": [
    "## Create Output Path  \n",
    "Creates a folder to store output files"
   ]
  },
  {
   "cell_type": "code",
   "execution_count": null,
   "metadata": {},
   "outputs": [],
   "source": [
    "output_name = 'reactome'\n",
    "\n",
    "path = 'output'\n",
    "if not os.path.exists(path):\n",
    "    os.makedirs(path)"
   ]
  },
  {
   "cell_type": "markdown",
   "metadata": {},
   "source": [
    "# Load Data"
   ]
  },
  {
   "cell_type": "code",
   "execution_count": null,
   "metadata": {},
   "outputs": [],
   "source": [
    "%%appyter code_exec\n",
    "\n",
    "df = pd.read_csv(\n",
    "    {{df_file}},\n",
    "    sep='%', header= None)"
   ]
  },
  {
   "cell_type": "code",
   "execution_count": null,
   "metadata": {},
   "outputs": [],
   "source": [
    "display(df.head())\n",
    "df.shape"
   ]
  },
  {
   "cell_type": "markdown",
   "metadata": {},
   "source": [
    "# Pre-process Data"
   ]
  },
  {
   "cell_type": "code",
   "execution_count": null,
   "metadata": {},
   "outputs": [],
   "source": [
    "df[0], df[1] = df[0].str.split('\\t').str[0] + ' ' + df[0].str.split('\\t').str[1], df[0].str.split('\\t').str[2:]\n",
    "df.columns= ['Pathway', 'Gene Symbol']\n",
    "df['Pathway'] = df['Pathway'].str.normalize('NFKD').str.encode('ascii', errors='ignore').str.decode('utf-8')\n",
    "\n",
    "dupes = df.shape[0]\n",
    "df[\"Genes\"] = df[\"Gene Symbol\"].apply(' '.join)\n",
    "df = df.drop_duplicates(\"Genes\")\n",
    "df = df.drop(columns=[\"Genes\"])\n",
    "\n",
    "\n",
    "display(df.head())\n",
    "display(df.shape)\n",
    "\n",
    "print(\"Found \" + str(dupes-df.shape[0]) + \" gene sets with duplicate genes, keeping first instance of each.\")"
   ]
  },
  {
   "cell_type": "code",
   "execution_count": null,
   "metadata": {},
   "outputs": [],
   "source": [
    "# Create copy of df to be used in statistics and histogram\n",
    "geneSetLibrary = df.copy()\n",
    "geneSetLibrary[\"Genes\"] = geneSetLibrary[\"Gene Symbol\"].apply(' '.join)\n",
    "geneSetLibrary[\"Gene Set Length\"] = geneSetLibrary[\"Gene Symbol\"].apply(len)\n",
    "geneSetLibrary = geneSetLibrary.drop(columns= [\"Gene Symbol\"])\n",
    "\n",
    "display(geneSetLibrary.head())\n",
    "geneSetLibrary.shape"
   ]
  },
  {
   "cell_type": "code",
   "execution_count": null,
   "metadata": {},
   "outputs": [],
   "source": [
    "df = df.explode('Gene Symbol')\n",
    "df = df.set_index('Gene Symbol')\n",
    "display(df.head())\n",
    "df.shape"
   ]
  },
  {
   "cell_type": "markdown",
   "metadata": {},
   "source": [
    "# Filter Data"
   ]
  },
  {
   "cell_type": "markdown",
   "metadata": {},
   "source": [
    "## Map Gene Symbols to Up-to-Date Approved Gene Symbols"
   ]
  },
  {
   "cell_type": "code",
   "execution_count": null,
   "metadata": {},
   "outputs": [],
   "source": [
    "dupes = df.shape[0]\n",
    "count = 0\n",
    "df = uf.map_symbols(df, symbol_lookup, remove_duplicates=True)\n",
    "\n",
    "while (dupes-df.shape[0]-count) != 0:\n",
    "    df = uf.map_symbols(df, symbol_lookup, remove_duplicates=True)\n",
    "    count = (dupes-df.shape[0])\n",
    "\n",
    "display(df.head())\n",
    "df.shape\n",
    "\n",
    "print(\"Found \" + str(dupes-df.shape[0]) + \" synonymous genes, keeping first instance of each.\")"
   ]
  },
  {
   "cell_type": "markdown",
   "metadata": {},
   "source": [
    "# Analyze Data"
   ]
  },
  {
   "cell_type": "markdown",
   "metadata": {},
   "source": [
    "## Generate Dataset Statistics"
   ]
  },
  {
   "cell_type": "code",
   "execution_count": null,
   "metadata": {},
   "outputs": [],
   "source": [
    "stats = pd.DataFrame()\n",
    "stats.index = [\"Genes\", \"Terms\", \"Mean Genes/Term\"]\n",
    "genestats = df.groupby(\"Gene Symbol\")\n",
    "pathstats = df.groupby(\"Pathway\")\n",
    "stats[\"Statistics\"] = [len(genestats), len(pathstats), str(round(len(genestats)/len(pathstats),3))]\n",
    "stats.head()"
   ]
  },
  {
   "cell_type": "markdown",
   "metadata": {},
   "source": [
    "## Create Binary Matrix"
   ]
  },
  {
   "cell_type": "code",
   "execution_count": null,
   "metadata": {},
   "outputs": [],
   "source": [
    "binary_matrix = uf.binary_matrix(df)\n",
    "display(binary_matrix.head())\n",
    "binary_matrix.shape"
   ]
  },
  {
   "cell_type": "code",
   "execution_count": null,
   "metadata": {},
   "outputs": [],
   "source": [
    "uf.save_data(binary_matrix, path, output_name + '_binary_matrix',\n",
    "            dtype=np.uint8)"
   ]
  },
  {
   "cell_type": "markdown",
   "metadata": {},
   "source": [
    "## Create Gene List"
   ]
  },
  {
   "cell_type": "code",
   "execution_count": null,
   "metadata": {},
   "outputs": [],
   "source": [
    "gene_list = uf.gene_list(binary_matrix, geneid_lookup)\n",
    "display(gene_list.head())\n",
    "gene_list.shape"
   ]
  },
  {
   "cell_type": "code",
   "execution_count": null,
   "metadata": {},
   "outputs": [],
   "source": [
    "uf.save_data(gene_list, path, output_name + '_gene_list',\n",
    "             ext= 'tsv', index=False)"
   ]
  },
  {
   "cell_type": "markdown",
   "metadata": {},
   "source": [
    "## Create Attribute List"
   ]
  },
  {
   "cell_type": "code",
   "execution_count": null,
   "metadata": {},
   "outputs": [],
   "source": [
    "attribute_list = uf.attribute_list(binary_matrix)\n",
    "display(attribute_list.head())\n",
    "attribute_list.shape"
   ]
  },
  {
   "cell_type": "code",
   "execution_count": null,
   "metadata": {},
   "outputs": [],
   "source": [
    "uf.save_data(attribute_list, path, output_name + '_attribute_list',\n",
    "             ext= 'tsv')"
   ]
  },
  {
   "cell_type": "markdown",
   "metadata": {},
   "source": [
    "## Create Gene Set Library and Attribute Set Library"
   ]
  },
  {
   "cell_type": "code",
   "execution_count": null,
   "metadata": {},
   "outputs": [],
   "source": [
    "uf.save_setlib(binary_matrix, 'gene', 'up', path, output_name + '_gene_set')"
   ]
  },
  {
   "cell_type": "code",
   "execution_count": null,
   "metadata": {},
   "outputs": [],
   "source": [
    "uf.save_setlib(binary_matrix, 'attribute', 'up', path, output_name + '_attribute_set')"
   ]
  },
  {
   "cell_type": "markdown",
   "metadata": {},
   "source": [
    "## Create Gene Similarity Matrix"
   ]
  },
  {
   "cell_type": "code",
   "execution_count": null,
   "metadata": {},
   "outputs": [],
   "source": [
    "gene_similarity_matrix = uf.similarity_matrix(binary_matrix, 'jaccard', sparse=True)\n",
    "gene_similarity_matrix.head()"
   ]
  },
  {
   "cell_type": "code",
   "execution_count": null,
   "metadata": {},
   "outputs": [],
   "source": [
    "uf.save_data(gene_similarity_matrix, path, \n",
    "             output_name + '_gene_similarity_matrix', \n",
    "            symmetric=True, dtype=np.float32)"
   ]
  },
  {
   "cell_type": "markdown",
   "metadata": {},
   "source": [
    "## Create Attribute Similarity Matrix"
   ]
  },
  {
   "cell_type": "code",
   "execution_count": null,
   "metadata": {},
   "outputs": [],
   "source": [
    "attribute_similarity_matrix = uf.similarity_matrix(binary_matrix.T, 'jaccard', sparse=True)\n",
    "attribute_similarity_matrix.head()"
   ]
  },
  {
   "cell_type": "code",
   "execution_count": null,
   "metadata": {},
   "outputs": [],
   "source": [
    "uf.save_data(attribute_similarity_matrix, path, \n",
    "             output_name + '_attribute_similarity_matrix', \n",
    "            symmetric=True, dtype=np.float32)"
   ]
  },
  {
   "cell_type": "markdown",
   "metadata": {},
   "source": [
    "## Create Gene-Attribute Edge List"
   ]
  },
  {
   "cell_type": "code",
   "execution_count": null,
   "metadata": {},
   "outputs": [],
   "source": [
    "edge_list = uf.edge_list(binary_matrix)\n",
    "uf.save_data(edge_list, path, output_name + '_edge_list',\n",
    "             ext='tsv')"
   ]
  },
  {
   "cell_type": "markdown",
   "metadata": {},
   "source": [
    "## Serialize Data for Knowledge Graph Ingestion"
   ]
  },
  {
   "cell_type": "code",
   "execution_count": null,
   "metadata": {},
   "outputs": [],
   "source": [
    "pathwayid_lookup = attribute_list.copy(deep=True).reset_index()\n",
    "pathwayid_lookup['Pathway'], pathwayid_lookup['Pathway ID'] = pathwayid_lookup['index'].apply(str.split)[:].str[:-1].apply(' '.join), pathwayid_lookup['index'].apply(str.split)[:].str[-1]\n",
    "pathwayid_lookup.set_index('index', inplace=True)\n",
    "pathwayid_lookup = pathwayid_lookup.to_dict()"
   ]
  },
  {
   "cell_type": "code",
   "execution_count": null,
   "metadata": {},
   "outputs": [],
   "source": [
    "nodes = {}\n",
    "\n",
    "for gene in geneid_lookup:\n",
    "    nodes[gene] = {\n",
    "            gene:{\n",
    "                \"type\": \"gene\",\n",
    "                \"properties\": {\n",
    "                    \"id\": str(geneid_lookup[gene]),\n",
    "                    \"label\": gene,\n",
    "                    \"URI\": \"https://www.ncbi.nlm.nih.gov/gene/\"+str(geneid_lookup[gene])\n",
    "                }\n",
    "            }\n",
    "        }\n",
    "for pathway in pathwayid_lookup['Pathway']:\n",
    "    nodes[pathwayid_lookup['Pathway'][pathway]] = {\n",
    "            pathwayid_lookup['Pathway'][pathway]:{\n",
    "                \"type\": \"pathway\",\n",
    "                \"properties\": {\n",
    "                    \"id\": str(pathwayid_lookup['Pathway ID'][pathway]),\n",
    "                    \"label\": pathwayid_lookup['Pathway'][pathway],\n",
    "                    \"URI\": \"https://www.reactome.org/content/detail/\"+str(pathwayid_lookup['Pathway ID'][pathway])\n",
    "                }\n",
    "            }\n",
    "        }"
   ]
  },
  {
   "cell_type": "code",
   "execution_count": null,
   "metadata": {},
   "outputs": [],
   "source": [
    "edges = []\n",
    "arr = binary_matrix.reset_index(drop=True).to_numpy(dtype=np.int_)\n",
    "    \n",
    "w, h = arr.shape\n",
    "for i in tqdm(range(h)):\n",
    "    sources = [*binary_matrix.index[arr[:, i] == 1]]\n",
    "    for source in sources:\n",
    "        edges.append(\n",
    "            {\n",
    "                \"source\": source,\n",
    "                \"relation\": \"participates in\",\n",
    "                \"target\":pathwayid_lookup['Pathway'][str(binary_matrix.columns[i])],\n",
    "                \"properties\": {\n",
    "                    \"id\": str(source)+\" -> \"+pathwayid_lookup['Pathway'][str(binary_matrix.columns[i])],\n",
    "                    \"source_id\": str(geneid_lookup[source]),\n",
    "                    \"target_id\": str(pathwayid_lookup['Pathway ID'][binary_matrix.columns[i]]),\n",
    "                    \"directed\": True\n",
    "                }\n",
    "            }\n",
    "        )"
   ]
  },
  {
   "cell_type": "code",
   "execution_count": null,
   "metadata": {},
   "outputs": [],
   "source": [
    "with open(path + \"/\" + output_name + \"_serialization_for_kg.json\",\"w\") as serialize:       \n",
    "    serial = json.dump(\n",
    "        {\n",
    "            \"Version\":\"1\", \n",
    "            \"nodes\": nodes, \n",
    "            \"edges\": edges\n",
    "        }, indent=4, fp=serialize)"
   ]
  },
  {
   "cell_type": "markdown",
   "metadata": {},
   "source": [
    "# Visualize Data"
   ]
  },
  {
   "cell_type": "markdown",
   "metadata": {},
   "source": [
    "## Gene Set Histogram"
   ]
  },
  {
   "cell_type": "code",
   "execution_count": null,
   "metadata": {},
   "outputs": [],
   "source": [
    "geneSetLibrary.groupby(\"Gene Set Length\").describe()"
   ]
  },
  {
   "cell_type": "code",
   "execution_count": null,
   "metadata": {},
   "outputs": [],
   "source": [
    "group = geneSetLibrary.groupby(\"Gene Set Length\")\n",
    "source = ColumnDataSource(group)\n",
    "hist = figure(plot_width = 1000, \n",
    "        plot_height=500,\n",
    "        x_axis_type = \"log\",\n",
    "        # x_range=(0,max(geneSetLibrary[\"Gene Set Length\"])),\n",
    "        y_range=(0, max(group.Pathway.count())),\n",
    "        title=\"Gene Set Length in Reactome 2022 Library\",\n",
    "        x_axis_label = \"Gene Set Length\",\n",
    "        y_axis_label = \"Gene Sets\")\n",
    "hist.vbar(x=\"Gene Set Length\", top = \"Pathway_count\", line_color=\"black\", hover_fill_color=\"firebrick\", \n",
    "        hover_line_color=\"black\", hover_alpha=0.3, source=source)\n",
    "\n",
    "hist.xaxis.axis_label_text_font_style = 'normal'\n",
    "hist.xaxis.axis_label_text_font_size = '18px'\n",
    "hist.yaxis.axis_label_text_font_size = '18px'\n",
    "hist.yaxis.axis_label_text_font_style = 'normal'\n",
    "hist.title.align = 'center'\n",
    "hist.title.text_font_size = '18px'\n",
    "\n",
    "hist.add_tools(HoverTool(tooltips=\"\"\"\n",
    "        <div style=\"margin: 10\">\n",
    "            <div style=\"margin: 0 auto; width:150px;\">\n",
    "                <span style=\"font-size: 12px; font-weight: bold;\">Gene Set Length:</span>\n",
    "                <span style=\"font-size: 12px\">@{Gene Set Length}</span>\n",
    "            <div style=\"margin: 0 auto; width:300px;\">\n",
    "                <span style=\"font-size: 12px; font-weight: bold;\">Count:</span>\n",
    "                <span style=\"font-size: 12px\">@Pathway_count</span>\n",
    "            </div>\n",
    "        </div>\n",
    "    \"\"\"))\n",
    "\n",
    "show(hist)"
   ]
  },
  {
   "cell_type": "markdown",
   "metadata": {},
   "source": [
    "## UMAP Visualization"
   ]
  },
  {
   "cell_type": "code",
   "execution_count": null,
   "metadata": {},
   "outputs": [],
   "source": [
    "libDict = geneSetLibrary.set_index('Pathway').to_dict()['Genes']\n",
    "\n",
    "vec = TfidfVectorizer()\n",
    "X = vec.fit_transform(libDict.values())\n",
    "adata = anndata.AnnData(X, dtype='float32')\n",
    "adata.obs.index = libDict.keys()\n",
    "\n",
    "sc.pp.neighbors(adata, n_neighbors=25, use_rep='X')\n",
    "sc.tl.leiden(adata)\n",
    "sc.tl.umap(adata, a = 5.8, b = 0.55)\n",
    "\n",
    "new_order = adata.obs.sort_values(by='leiden').index.tolist()\n",
    "adata = adata[new_order,:]\n",
    "adata.obs['leiden'] = 'Cluster ' + adata.obs['leiden'].astype('object')\n",
    "\n",
    "mapped_df = pd.DataFrame(adata.obsm['X_umap'])\n",
    "mapped_df.columns = ['x', 'y']\n",
    "\n",
    "mapped_df['cluster'] = adata.obs['leiden'].values\n",
    "mapped_df['term'] = adata.obs.index\n",
    "\n",
    "clusters = pd.unique(mapped_df['cluster']).tolist()\n",
    "colors = list(Category20[20])[::2] + list(Category20[20])[1::2]\n",
    "color_mapper = {clusters[i]:colors[i%20] for i in range(len(clusters))}\n",
    "\n",
    "mapped_df['color'] = mapped_df['cluster'].apply(lambda x: color_mapper[x])\n",
    "\n",
    "mapped_df.head()"
   ]
  },
  {
   "cell_type": "code",
   "execution_count": null,
   "metadata": {},
   "outputs": [],
   "source": [
    "xlabel = 'UMAP 1'\n",
    "ylabel = 'UMAP 2'\n",
    "\n",
    "source2 = ColumnDataSource(\n",
    "        data=dict(\n",
    "            x = mapped_df.x,\n",
    "            y = mapped_df.y,\n",
    "            alpha = [0.7] * mapped_df.shape[0],\n",
    "            colors = mapped_df['color'], \n",
    "            size = [6] * mapped_df.shape[0],\n",
    "            gene_set = mapped_df['term'],\n",
    "            cluster = mapped_df['cluster']\n",
    "        )\n",
    "    )\n",
    "\n",
    "hover_emb = HoverTool(names=[\"df\"], tooltips=\"\"\"\n",
    "    <div style=\"margin: 10\">\n",
    "        <div style=\"margin: 0 auto; width:300px;\">\n",
    "            <span style=\"font-size: 12px; font-weight: bold;\">Gene Set:</span>\n",
    "            <span style=\"font-size: 12px\">@gene_set</span>\n",
    "        <div style=\"margin: 0 auto; width:300px;\">\n",
    "            <span style=\"font-size: 12px; font-weight: bold;\">Coordinates:</span>\n",
    "            <span style=\"font-size: 12px\">(@x,@y)</span>\n",
    "        <div style=\"margin: 0 auto; width:300px;\">\n",
    "            <span style=\"font-size: 12px; font-weight: bold;\">Cluster:</span>\n",
    "            <span style=\"font-size: 12px\">@cluster</span>\n",
    "        </div>\n",
    "    </div>\n",
    "    \"\"\")\n",
    "\n",
    "tools_emb = [hover_emb, 'pan', 'wheel_zoom', 'reset', 'save']\n",
    "title_emb = 'Gene Sets in Reactome Library'\n",
    "plot_emb = figure(plot_width=1000, plot_height=700, tools=tools_emb, title=title_emb, x_axis_label=xlabel, y_axis_label=ylabel)\n",
    "plot_emb.circle( 'x', 'y', source = source2, size='size',\n",
    "                alpha='alpha', line_alpha=0, line_width=0.01, name=\"df\", \n",
    "                fill_color = 'colors', \n",
    "                line_color=\"black\", hover_fill_color=\"firebrick\")\n",
    "plot_emb.xaxis.axis_label_text_font_style = 'normal'\n",
    "plot_emb.xaxis.axis_label_text_font_size = '18px'\n",
    "plot_emb.yaxis.axis_label_text_font_size = '18px'\n",
    "plot_emb.yaxis.axis_label_text_font_style = 'normal'\n",
    "plot_emb.title.align = 'center'\n",
    "plot_emb.title.text_font_size = '18px'\n",
    "\n",
    "show(plot_emb)"
   ]
  },
  {
   "cell_type": "markdown",
   "metadata": {},
   "source": [
    "# Downloadable File Links"
   ]
  },
  {
   "cell_type": "code",
   "execution_count": null,
   "metadata": {},
   "outputs": [],
   "source": [
    "uf.archive(path, output_name+\"_\")"
   ]
  },
  {
   "cell_type": "code",
   "execution_count": null,
   "metadata": {},
   "outputs": [],
   "source": [
    "display(FileLink('reactome_output_archive.zip', result_html_prefix='Archive of all files: '))\n",
    "display(FileLinks('output'))"
   ]
  }
 ],
 "metadata": {
  "kernelspec": {
   "display_name": "Python 3.10.4 ('appyter')",
   "language": "python",
   "name": "python3"
  },
  "language_info": {
   "codemirror_mode": {
    "name": "ipython",
    "version": 3
   },
   "file_extension": ".py",
   "mimetype": "text/x-python",
   "name": "python",
   "nbconvert_exporter": "python",
   "pygments_lexer": "ipython3",
   "version": "3.10.4"
  },
  "orig_nbformat": 4,
  "vscode": {
   "interpreter": {
    "hash": "36b64e778f8b0c3f01583b2eed08020222bb534e013a238936f90fb19a999c87"
   }
  }
 },
 "nbformat": 4,
 "nbformat_minor": 2
}
