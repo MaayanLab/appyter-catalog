{
    "cells": [
        {
            "cell_type": "markdown",
            "metadata": {},
            "source": [
                "# Reactome"
            ]
        },
        {
            "cell_type": "markdown",
            "metadata": {},
            "source": [
                "Created by: Charles Dai <br>\n",
                "Credit to: Moshe Silverstein\n",
                "\n",
                "Data Source: http://reactome.org/pages/download-data/"
            ]
        },
        {
            "cell_type": "code",
            "execution_count": 1,
            "metadata": {},
            "outputs": [],
            "source": [
                "# appyter init\n",
                "from appyter import magic\n",
                "magic.init(lambda _=globals: _())"
            ]
        },
        {
            "cell_type": "code",
            "execution_count": 2,
            "metadata": {},
            "outputs": [],
            "source": [
                "import sys\n",
                "import os\n",
                "from datetime import date\n",
                "\n",
                "import numpy as np\n",
                "import pandas as pd\n",
                "import matplotlib.pyplot as plt\n",
                "%matplotlib inline\n",
                "\n",
                "import harmonizome.utility_functions as uf\n",
                "import harmonizome.lookup as lookup"
            ]
        },
        {
            "cell_type": "code",
            "execution_count": 3,
            "metadata": {},
            "outputs": [],
            "source": [
                "# from clustergrammer_widget import *\n",
                "# net = Network(clustergrammer_widget)"
            ]
        },
        {
            "cell_type": "code",
            "execution_count": 4,
            "metadata": {},
            "outputs": [],
            "source": [
                "%load_ext autoreload\n",
                "%autoreload 2"
            ]
        },
        {
            "cell_type": "markdown",
            "metadata": {},
            "source": [
                "### Notebook Information"
            ]
        },
        {
            "cell_type": "code",
            "execution_count": 5,
            "metadata": {
                "tags": []
            },
            "outputs": [
                {
                    "output_type": "stream",
                    "name": "stdout",
                    "text": "This notebook was run on: 2020-06-29 \nPython version: 3.8.0 (default, Oct 28 2019, 16:14:01) \n[GCC 8.3.0]\n"
                }
            ],
            "source": [
                "print('This notebook was run on:', date.today(), '\\nPython version:', sys.version)"
            ]
        },
        {
            "cell_type": "markdown",
            "metadata": {},
            "source": [
                "# Initialization"
            ]
        },
        {
            "cell_type": "markdown",
            "metadata": {},
            "source": [
                "### Load Mapping Dictionaries"
            ]
        },
        {
            "cell_type": "code",
            "execution_count": 6,
            "metadata": {
                "tags": []
            },
            "outputs": [
                {
                    "output_type": "stream",
                    "name": "stderr",
                    "text": "Gathering sources: 100%|██████████| 3/3 [00:09<00:00,  3.23s/it]\n"
                }
            ],
            "source": [
                "symbol_lookup, geneid_lookup = lookup.get_lookups()"
            ]
        },
        {
            "cell_type": "markdown",
            "metadata": {},
            "source": [
                "### Output Path"
            ]
        },
        {
            "cell_type": "code",
            "execution_count": 7,
            "metadata": {},
            "outputs": [],
            "source": [
                "output_name = 'reactome'\n",
                "\n",
                "path = 'Output/Reactome'\n",
                "if not os.path.exists(path):\n",
                "    os.makedirs(path)"
            ]
        },
        {
            "cell_type": "code",
            "execution_count": 8,
            "metadata": {},
            "outputs": [],
            "source": [
                "%%appyter hide_code\n",
                "{% do SectionField(\n",
                "    name='data',\n",
                "    title='Load Data',\n",
                "    subtitle='Upload Files from the Reactome Pathways Database',\n",
                ") %}"
            ]
        },
        {
            "cell_type": "markdown",
            "metadata": {},
            "source": [
                "# Load Data"
            ]
        },
        {
            "cell_type": "code",
            "execution_count": 15,
            "metadata": {},
            "outputs": [
                {
                    "output_type": "display_data",
                    "data": {
                        "text/plain": "<IPython.core.display.Markdown object>",
                        "text/markdown": "```python\n\ndf = pd.read_csv('Input/Reactome/ReactomePathways.gmt.zip', sep='%', header=None)\n```"
                    },
                    "metadata": {}
                }
            ],
            "source": [
                "%%appyter code_exec\n",
                "\n",
                "df = pd.read_csv({{FileField(\n",
                "    constraint='.*\\.zip$',\n",
                "    name='pathways_gene', \n",
                "    label='Pathways Gene Set (gmt.zip)', \n",
                "    default='Input/Reactome/ReactomePathways.gmt.zip',\n",
                "    section='data')\n",
                "}}, sep='%', header=None)"
            ]
        },
        {
            "cell_type": "code",
            "execution_count": 16,
            "metadata": {},
            "outputs": [
                {
                    "output_type": "execute_result",
                    "data": {
                        "text/plain": "                                                   0\n0  2-LTR circle formation\\tR-HSA-164843\\tBANF1\\tH...\n1  5-Phosphoribose 1-diphosphate biosynthesis\\tR-...\n2  A tetrasaccharide linker sequence is required ...\n3  ABC transporter disorders\\tR-HSA-5619084\\tABCA...\n4  ABC transporters in lipid homeostasis\\tR-HSA-1...",
                        "text/html": "<div>\n<style scoped>\n    .dataframe tbody tr th:only-of-type {\n        vertical-align: middle;\n    }\n\n    .dataframe tbody tr th {\n        vertical-align: top;\n    }\n\n    .dataframe thead th {\n        text-align: right;\n    }\n</style>\n<table border=\"1\" class=\"dataframe\">\n  <thead>\n    <tr style=\"text-align: right;\">\n      <th></th>\n      <th>0</th>\n    </tr>\n  </thead>\n  <tbody>\n    <tr>\n      <th>0</th>\n      <td>2-LTR circle formation\\tR-HSA-164843\\tBANF1\\tH...</td>\n    </tr>\n    <tr>\n      <th>1</th>\n      <td>5-Phosphoribose 1-diphosphate biosynthesis\\tR-...</td>\n    </tr>\n    <tr>\n      <th>2</th>\n      <td>A tetrasaccharide linker sequence is required ...</td>\n    </tr>\n    <tr>\n      <th>3</th>\n      <td>ABC transporter disorders\\tR-HSA-5619084\\tABCA...</td>\n    </tr>\n    <tr>\n      <th>4</th>\n      <td>ABC transporters in lipid homeostasis\\tR-HSA-1...</td>\n    </tr>\n  </tbody>\n</table>\n</div>"
                    },
                    "metadata": {},
                    "execution_count": 16
                }
            ],
            "source": [
                "df.head()"
            ]
        },
        {
            "cell_type": "code",
            "execution_count": 17,
            "metadata": {},
            "outputs": [
                {
                    "output_type": "execute_result",
                    "data": {
                        "text/plain": "(2400, 1)"
                    },
                    "metadata": {},
                    "execution_count": 17
                }
            ],
            "source": [
                "df.shape"
            ]
        },
        {
            "cell_type": "markdown",
            "metadata": {},
            "source": [
                "# Pre-process Data"
            ]
        },
        {
            "cell_type": "markdown",
            "metadata": {},
            "source": [
                "## Separate and Split Gene List"
            ]
        },
        {
            "cell_type": "code",
            "execution_count": 12,
            "metadata": {},
            "outputs": [
                {
                    "output_type": "execute_result",
                    "data": {
                        "text/plain": "                                             Pathway  \\\n0                             2-LTR circle formation   \n1         5-Phosphoribose 1-diphosphate biosynthesis   \n2  A tetrasaccharide linker sequence is required ...   \n3                          ABC transporter disorders   \n4              ABC transporters in lipid homeostasis   \n\n                                         Gene Symbol  \n0  [R-HSA-164843, BANF1, HMGA1, LIG4, PSIP1, XRCC...  \n1               [R-HSA-73843, PRPS1, PRPS1L1, PRPS2]  \n2  [R-HSA-1971475, AGRN, B3GALT6, B3GAT1, B3GAT2,...  \n3  [R-HSA-5619084, ABCA1, ABCA12, ABCA3, ABCB11, ...  \n4  [R-HSA-1369062, ABCA10, ABCA12, ABCA2, ABCA3, ...  ",
                        "text/html": "<div>\n<style scoped>\n    .dataframe tbody tr th:only-of-type {\n        vertical-align: middle;\n    }\n\n    .dataframe tbody tr th {\n        vertical-align: top;\n    }\n\n    .dataframe thead th {\n        text-align: right;\n    }\n</style>\n<table border=\"1\" class=\"dataframe\">\n  <thead>\n    <tr style=\"text-align: right;\">\n      <th></th>\n      <th>Pathway</th>\n      <th>Gene Symbol</th>\n    </tr>\n  </thead>\n  <tbody>\n    <tr>\n      <th>0</th>\n      <td>2-LTR circle formation</td>\n      <td>[R-HSA-164843, BANF1, HMGA1, LIG4, PSIP1, XRCC...</td>\n    </tr>\n    <tr>\n      <th>1</th>\n      <td>5-Phosphoribose 1-diphosphate biosynthesis</td>\n      <td>[R-HSA-73843, PRPS1, PRPS1L1, PRPS2]</td>\n    </tr>\n    <tr>\n      <th>2</th>\n      <td>A tetrasaccharide linker sequence is required ...</td>\n      <td>[R-HSA-1971475, AGRN, B3GALT6, B3GAT1, B3GAT2,...</td>\n    </tr>\n    <tr>\n      <th>3</th>\n      <td>ABC transporter disorders</td>\n      <td>[R-HSA-5619084, ABCA1, ABCA12, ABCA3, ABCB11, ...</td>\n    </tr>\n    <tr>\n      <th>4</th>\n      <td>ABC transporters in lipid homeostasis</td>\n      <td>[R-HSA-1369062, ABCA10, ABCA12, ABCA2, ABCA3, ...</td>\n    </tr>\n  </tbody>\n</table>\n</div>"
                    },
                    "metadata": {},
                    "execution_count": 12
                }
            ],
            "source": [
                "df[0], df[1] = df[0].str.split('\\t').str[0], df[0].str.split('\\t').str[1:]\n",
                "df.columns=['Pathway', 'Gene Symbol']\n",
                "df.head()"
            ]
        },
        {
            "cell_type": "code",
            "execution_count": 13,
            "metadata": {},
            "outputs": [
                {
                    "output_type": "execute_result",
                    "data": {
                        "text/plain": "                             Pathway\nGene Symbol                         \nR-HSA-164843  2-LTR circle formation\nBANF1         2-LTR circle formation\nHMGA1         2-LTR circle formation\nLIG4          2-LTR circle formation\nPSIP1         2-LTR circle formation",
                        "text/html": "<div>\n<style scoped>\n    .dataframe tbody tr th:only-of-type {\n        vertical-align: middle;\n    }\n\n    .dataframe tbody tr th {\n        vertical-align: top;\n    }\n\n    .dataframe thead th {\n        text-align: right;\n    }\n</style>\n<table border=\"1\" class=\"dataframe\">\n  <thead>\n    <tr style=\"text-align: right;\">\n      <th></th>\n      <th>Pathway</th>\n    </tr>\n    <tr>\n      <th>Gene Symbol</th>\n      <th></th>\n    </tr>\n  </thead>\n  <tbody>\n    <tr>\n      <th>R-HSA-164843</th>\n      <td>2-LTR circle formation</td>\n    </tr>\n    <tr>\n      <th>BANF1</th>\n      <td>2-LTR circle formation</td>\n    </tr>\n    <tr>\n      <th>HMGA1</th>\n      <td>2-LTR circle formation</td>\n    </tr>\n    <tr>\n      <th>LIG4</th>\n      <td>2-LTR circle formation</td>\n    </tr>\n    <tr>\n      <th>PSIP1</th>\n      <td>2-LTR circle formation</td>\n    </tr>\n  </tbody>\n</table>\n</div>"
                    },
                    "metadata": {},
                    "execution_count": 13
                }
            ],
            "source": [
                "df = df.explode('Gene Symbol')\n",
                "df = df.set_index('Gene Symbol')\n",
                "df.head()"
            ]
        },
        {
            "cell_type": "markdown",
            "metadata": {},
            "source": [
                "# Filter Data"
            ]
        },
        {
            "cell_type": "markdown",
            "metadata": {},
            "source": [
                "## Map Gene Symbols to Up-to-date Approved Gene Symbols"
            ]
        },
        {
            "cell_type": "code",
            "execution_count": 14,
            "metadata": {
                "tags": []
            },
            "outputs": [
                {
                    "output_type": "stream",
                    "name": "stderr",
                    "text": "100%|██████████| 118714/118714 [00:00<00:00, 579593.74it/s]\n"
                },
                {
                    "output_type": "execute_result",
                    "data": {
                        "text/plain": "(113787, 1)"
                    },
                    "metadata": {},
                    "execution_count": 14
                }
            ],
            "source": [
                "df = uf.map_symbols(df, symbol_lookup, remove_duplicates=True)\n",
                "df.shape"
            ]
        },
        {
            "cell_type": "markdown",
            "metadata": {},
            "source": [
                "# Analyze Data"
            ]
        },
        {
            "cell_type": "markdown",
            "metadata": {},
            "source": [
                "## Create Binary Matrix"
            ]
        },
        {
            "cell_type": "code",
            "execution_count": null,
            "metadata": {},
            "outputs": [],
            "source": [
                "binary_matrix = uf.binary_matrix(df)\n",
                "binary_matrix.head()"
            ]
        },
        {
            "cell_type": "code",
            "execution_count": null,
            "metadata": {},
            "outputs": [],
            "source": [
                "binary_matrix.shape"
            ]
        },
        {
            "cell_type": "code",
            "execution_count": null,
            "metadata": {},
            "outputs": [],
            "source": [
                "uf.save_data(binary_matrix, path, output_name + '_binary_matrix', \n",
                "            compression='npz', dtype=np.uint8)"
            ]
        },
        {
            "cell_type": "markdown",
            "metadata": {},
            "source": [
                "## Create Gene List"
            ]
        },
        {
            "cell_type": "code",
            "execution_count": null,
            "metadata": {},
            "outputs": [],
            "source": [
                "gene_list = uf.gene_list(binary_matrix, geneid_lookup)\n",
                "gene_list.head()"
            ]
        },
        {
            "cell_type": "code",
            "execution_count": null,
            "metadata": {},
            "outputs": [],
            "source": [
                "gene_list.shape"
            ]
        },
        {
            "cell_type": "code",
            "execution_count": null,
            "metadata": {},
            "outputs": [],
            "source": [
                "uf.save_data(gene_list, path, output_name + '_gene_list',\n",
                "            ext='tsv', compression='gzip', index=False)"
            ]
        },
        {
            "cell_type": "markdown",
            "metadata": {},
            "source": [
                "## Create Attribute List"
            ]
        },
        {
            "cell_type": "code",
            "execution_count": null,
            "metadata": {},
            "outputs": [],
            "source": [
                "attribute_list = uf.attribute_list(binary_matrix)\n",
                "attribute_list.head()"
            ]
        },
        {
            "cell_type": "code",
            "execution_count": null,
            "metadata": {},
            "outputs": [],
            "source": [
                "attribute_list.shape"
            ]
        },
        {
            "cell_type": "code",
            "execution_count": null,
            "metadata": {},
            "outputs": [],
            "source": [
                "uf.save_data(attribute_list, path, output_name + '_attribute_list',\n",
                "            ext='tsv', compression='gzip')"
            ]
        },
        {
            "cell_type": "markdown",
            "metadata": {},
            "source": [
                "## Create Gene and Attribute Set Libraries"
            ]
        },
        {
            "cell_type": "code",
            "execution_count": null,
            "metadata": {},
            "outputs": [],
            "source": [
                "uf.save_setlib(binary_matrix, 'gene', 'up', path, output_name + '_gene_up_set')"
            ]
        },
        {
            "cell_type": "code",
            "execution_count": null,
            "metadata": {},
            "outputs": [],
            "source": [
                "uf.save_setlib(binary_matrix, 'attribute', 'up', path, \n",
                "                           output_name + '_attribute_up_set')"
            ]
        },
        {
            "cell_type": "markdown",
            "metadata": {},
            "source": [
                "## Create Attribute Similarity Matrix"
            ]
        },
        {
            "cell_type": "code",
            "execution_count": null,
            "metadata": {},
            "outputs": [],
            "source": [
                "attribute_similarity_matrix = uf.similarity_matrix(binary_matrix.T, 'jaccard', sparse=True)\n",
                "attribute_similarity_matrix.head()"
            ]
        },
        {
            "cell_type": "code",
            "execution_count": null,
            "metadata": {},
            "outputs": [],
            "source": [
                "uf.save_data(attribute_similarity_matrix, path,\n",
                "            output_name + '_attribute_similarity_matrix', \n",
                "            compression='npz', symmetric=True, dtype=np.float32)"
            ]
        },
        {
            "cell_type": "code",
            "execution_count": null,
            "metadata": {},
            "outputs": [],
            "source": [
                "# net.load_df(attribute_similarity_matrix.iloc[:,:].copy())\n",
                "# net.filter_N_top('row', rank_type='sum', N_top=300)\n",
                "# net.cluster()\n",
                "# net.widget()"
            ]
        },
        {
            "cell_type": "markdown",
            "metadata": {},
            "source": [
                "## Create Gene Similarity Matrix"
            ]
        },
        {
            "cell_type": "code",
            "execution_count": null,
            "metadata": {},
            "outputs": [],
            "source": [
                "gene_similarity_matrix = uf.similarity_matrix(binary_matrix, 'jaccard', sparse=True)\n",
                "gene_similarity_matrix.head()"
            ]
        },
        {
            "cell_type": "code",
            "execution_count": null,
            "metadata": {},
            "outputs": [],
            "source": [
                "uf.save_data(gene_similarity_matrix, path, \n",
                "            output_name + '_gene_similarity_matrix',\n",
                "            compression='npz', symmetric=True, dtype=np.float32)"
            ]
        },
        {
            "cell_type": "markdown",
            "metadata": {},
            "source": [
                "## Create Gene-Attribute Edge List"
            ]
        },
        {
            "cell_type": "code",
            "execution_count": null,
            "metadata": {},
            "outputs": [],
            "source": [
                "edge_list = uf.edge_list(binary_matrix)\n",
                "uf.save_data(edge_list, path, output_name + '_edge_list', \n",
                "        ext='tsv', compression='gzip')"
            ]
        },
        {
            "cell_type": "markdown",
            "metadata": {},
            "source": [
                "# Create Downloadable Save File"
            ]
        },
        {
            "cell_type": "code",
            "execution_count": null,
            "metadata": {},
            "outputs": [],
            "source": [
                "uf.archive(path)"
            ]
        },
        {
            "cell_type": "markdown",
            "metadata": {},
            "source": [
                "### Link to download output files: [click here](./output_archive.zip)"
            ]
        }
    ],
    "metadata": {
        "kernelspec": {
            "display_name": "Python 3.8.0 64-bit ('harmonizome': venv)",
            "name": "python38064bitharmonizomevenve1fd62c035f347dbaffce382c9034785"
        },
        "language_info": {
            "codemirror_mode": {
                "name": "ipython",
                "version": 3
            },
            "file_extension": ".py",
            "mimetype": "text/x-python",
            "name": "python",
            "nbconvert_exporter": "python",
            "pygments_lexer": "ipython3",
            "version": "3.8.0-final"
        },
        "orig_nbformat": 2
    },
    "nbformat": 4,
    "nbformat_minor": 2
}