{
 "cells": [
  {
   "cell_type": "markdown",
   "metadata": {
    "colab_type": "text",
    "id": "igA_NxFW0QzV"
   },
   "source": [
    "# Harmonizome ETL: DrugBank"
   ]
  },
  {
   "cell_type": "markdown",
   "metadata": {
    "colab_type": "text",
    "id": "_QasXOTv0QzW"
   },
   "source": [
    "Created by: Charles Dai <br>\n",
    "Credit to: Moshe Silverstein\n",
    "\n",
    "Data Source: https://www.drugbank.ca/releases/latest"
   ]
  },
  {
   "cell_type": "code",
   "execution_count": null,
   "metadata": {},
   "outputs": [],
   "source": [
    "# appyter init\n",
    "from appyter import magic\n",
    "magic.init(lambda _=globals: _())"
   ]
  },
  {
   "cell_type": "code",
   "execution_count": null,
   "metadata": {},
   "outputs": [],
   "source": [
    "import sys\n",
    "import os\n",
    "from datetime import date\n",
    "import zipfile\n",
    "\n",
    "import numpy as np\n",
    "import pandas as pd\n",
    "import matplotlib.pyplot as plt\n",
    "%matplotlib inline\n",
    "\n",
    "import harmonizome.utility_functions as uf\n",
    "import harmonizome.lookup as lookup"
   ]
  },
  {
   "cell_type": "code",
   "execution_count": null,
   "metadata": {},
   "outputs": [],
   "source": [
    "%load_ext autoreload\n",
    "%autoreload 2"
   ]
  },
  {
   "cell_type": "markdown",
   "metadata": {
    "colab_type": "text",
    "id": "FEpt2FYa0Qzl"
   },
   "source": [
    "### Notebook Information"
   ]
  },
  {
   "cell_type": "code",
   "execution_count": null,
   "metadata": {},
   "outputs": [],
   "source": [
    "print('This notebook was run on:', date.today(), '\\nPython version:', sys.version)"
   ]
  },
  {
   "cell_type": "markdown",
   "metadata": {
    "colab_type": "text",
    "id": "0jYq-qKz0Qzo"
   },
   "source": [
    "# Initialization"
   ]
  },
  {
   "cell_type": "code",
   "execution_count": null,
   "metadata": {},
   "outputs": [],
   "source": [
    "%%appyter hide_code\n",
    "\n",
    "{% do SectionField(\n",
    "    name='data',\n",
    "    title='Upload Data',\n",
    "    img='load_icon.png'\n",
    ") %}\n",
    "\n",
    "{% do SectionField(\n",
    "    name='settings',\n",
    "    title='Settings',\n",
    "    img='setting_icon.png'\n",
    ") %}"
   ]
  },
  {
   "cell_type": "code",
   "execution_count": null,
   "metadata": {},
   "outputs": [],
   "source": [
    "%%appyter code_eval\n",
    "\n",
    "{% do DescriptionField(\n",
    "    name='description',\n",
    "    text='The examples below were sourced from <a href=\"https://www.drugbank.ca/releases/latest\" target=\"_blank\">www.drugbank.ca</a>. The download requires a login so clicking on the examples may not work, in which case they should be downloaded directly from the source website.',\n",
    "    section='data'\n",
    ") %}\n",
    "\n",
    "{% set df_file = FileField(\n",
    "    constraint='.*\\.csv.zip$',\n",
    "    name='drug_identifiers', \n",
    "    label='Drug Identifiers Dataset (csv.zip)', \n",
    "    default='drugbank_all_target_polypeptide_ids.csv.zip',\n",
    "    examples={\n",
    "        'drugbank_all_target_polypeptide_ids.csv.zip': 'https://www.drugbank.ca/releases/5-1-7/downloads/target-all-polypeptide-ids'\n",
    "    },\n",
    "    section='data'\n",
    ") %}\n",
    "\n",
    "{% set drug_meta = FileField(\n",
    "    constraint='.*\\.zip$',\n",
    "    name='drug_metadata', \n",
    "    label='External Drug Links (csv.zip)', \n",
    "    default='drugbank_all_drug_links.csv.zip',\n",
    "    examples={\n",
    "        'drugbank_all_drug_links.csv.zip': 'https://www.drugbank.ca/releases/5-1-7/downloads/all-drug-links'\n",
    "    },\n",
    "    section='data'\n",
    ") %}"
   ]
  },
  {
   "cell_type": "code",
   "execution_count": null,
   "metadata": {},
   "outputs": [],
   "source": [
    "%%appyter code_eval\n",
    "\n",
    "{% set group = ChoiceField(\n",
    "    name='identifier',\n",
    "    label='Protein Identifier Group',\n",
    "    description='This will be used for the output file names.',\n",
    "    choices=['Target', 'Enzyme', 'Carrier', 'Transporter'],\n",
    "    default='Target',\n",
    "    section='settings'\n",
    ") %}"
   ]
  },
  {
   "cell_type": "markdown",
   "metadata": {
    "colab_type": "text",
    "id": "JdBPQTl70Qzr"
   },
   "source": [
    "### Load Mapping Dictionaries"
   ]
  },
  {
   "cell_type": "code",
   "execution_count": null,
   "metadata": {},
   "outputs": [],
   "source": [
    "symbol_lookup, geneid_lookup = lookup.get_lookups()"
   ]
  },
  {
   "cell_type": "markdown",
   "metadata": {
    "colab_type": "text",
    "id": "Ffj_aRNS0Qzu"
   },
   "source": [
    "### Output Path"
   ]
  },
  {
   "cell_type": "code",
   "execution_count": null,
   "metadata": {},
   "outputs": [],
   "source": [
    "%%appyter code_exec\n",
    "\n",
    "output_name = 'drugbank_' + '{{group}}'.lower()\n",
    "\n",
    "path = 'Output/DrugBank-' + '{{group}}'\n",
    "if not os.path.exists(path):\n",
    "    os.makedirs(path)"
   ]
  },
  {
   "cell_type": "markdown",
   "metadata": {
    "colab_type": "text",
    "id": "e36ONvOT0Qzy"
   },
   "source": [
    "# Load Data"
   ]
  },
  {
   "cell_type": "code",
   "execution_count": null,
   "metadata": {},
   "outputs": [],
   "source": [
    "%%appyter code_exec\n",
    "\n",
    "with zipfile.ZipFile({{df_file}}) as zipf:\n",
    "  with zipf.open('all.csv') as f:\n",
    "    df = pd.read_csv(f, usecols=['Gene Name', 'Drug IDs', 'Species'], index_col=0)"
   ]
  },
  {
   "cell_type": "code",
   "execution_count": null,
   "metadata": {},
   "outputs": [],
   "source": [
    "df.head()"
   ]
  },
  {
   "cell_type": "code",
   "execution_count": null,
   "metadata": {},
   "outputs": [],
   "source": [
    "df.shape"
   ]
  },
  {
   "cell_type": "markdown",
   "metadata": {
    "colab_type": "text",
    "id": "BWxQ7Ksf0Qz8"
   },
   "source": [
    "# Load Drug Metadata"
   ]
  },
  {
   "cell_type": "code",
   "execution_count": null,
   "metadata": {},
   "outputs": [],
   "source": [
    "%%appyter code_exec\n",
    "\n",
    "drug_meta = pd.read_csv(\n",
    "    {{drug_meta}}, \n",
    "    usecols=['DrugBank ID', 'Name'], index_col=0\n",
    ")"
   ]
  },
  {
   "cell_type": "code",
   "execution_count": null,
   "metadata": {},
   "outputs": [],
   "source": [
    "drug_meta.head()"
   ]
  },
  {
   "cell_type": "code",
   "execution_count": null,
   "metadata": {},
   "outputs": [],
   "source": [
    "drug_meta.shape"
   ]
  },
  {
   "cell_type": "markdown",
   "metadata": {
    "colab_type": "text",
    "id": "LKPQ8r8O0Q0D"
   },
   "source": [
    "# Pre-process Data"
   ]
  },
  {
   "cell_type": "markdown",
   "metadata": {
    "colab_type": "text",
    "id": "j_897lnE0Q0E"
   },
   "source": [
    "## Get Relevant Data"
   ]
  },
  {
   "cell_type": "code",
   "execution_count": null,
   "metadata": {},
   "outputs": [],
   "source": [
    "# Get Relevant Species\n",
    "df = df[np.logical_or.reduce([\n",
    "    df['Species'] == 'Humans',\n",
    "    df['Species'] == 'Mouse',\n",
    "    df['Species'] == 'Rat'\n",
    "])].drop('Species', axis=1)\n",
    "df.head()"
   ]
  },
  {
   "cell_type": "markdown",
   "metadata": {
    "colab_type": "text",
    "id": "h7NuOs2A0Q0H"
   },
   "source": [
    "## Split Drug ID list"
   ]
  },
  {
   "cell_type": "code",
   "execution_count": null,
   "metadata": {},
   "outputs": [],
   "source": [
    "df['Drug IDs'] = df['Drug IDs'].map(lambda x: x.split('; '))\n",
    "df = df.explode('Drug IDs').dropna()\n",
    "df.head()"
   ]
  },
  {
   "cell_type": "code",
   "execution_count": null,
   "metadata": {},
   "outputs": [],
   "source": [
    "df.shape"
   ]
  },
  {
   "cell_type": "markdown",
   "metadata": {
    "colab_type": "text",
    "id": "96-W7MLM0Q0L"
   },
   "source": [
    "## Map Drug IDs to Names"
   ]
  },
  {
   "cell_type": "code",
   "execution_count": null,
   "metadata": {},
   "outputs": [],
   "source": [
    "df['Drug IDs'] = drug_meta.reindex(df['Drug IDs']).set_index(df.index)\n",
    "df.index.name = 'Gene Symbol'\n",
    "df.columns = ['Drug Name']\n",
    "df.head()"
   ]
  },
  {
   "cell_type": "markdown",
   "metadata": {
    "colab_type": "text",
    "id": "wn031Byq0Q0O"
   },
   "source": [
    "# Filter Data"
   ]
  },
  {
   "cell_type": "markdown",
   "metadata": {
    "colab_type": "text",
    "id": "ANTEpqwM0Q0O"
   },
   "source": [
    "## Map Gene Symbols to Up-to-date Approved Gene Symbols"
   ]
  },
  {
   "cell_type": "code",
   "execution_count": null,
   "metadata": {},
   "outputs": [],
   "source": [
    "df = uf.map_symbols(df, symbol_lookup, remove_duplicates=True)\n",
    "df.shape"
   ]
  },
  {
   "cell_type": "markdown",
   "metadata": {
    "colab_type": "text",
    "id": "0ZijKBpj0Q0Q"
   },
   "source": [
    "# Analyze Data"
   ]
  },
  {
   "cell_type": "markdown",
   "metadata": {
    "colab_type": "text",
    "id": "7R4ZhP8h0Q0R"
   },
   "source": [
    "## Create Binary Matrix"
   ]
  },
  {
   "cell_type": "code",
   "execution_count": null,
   "metadata": {},
   "outputs": [],
   "source": [
    "binary_matrix = uf.binary_matrix(df)\n",
    "binary_matrix.head()"
   ]
  },
  {
   "cell_type": "code",
   "execution_count": null,
   "metadata": {},
   "outputs": [],
   "source": [
    "binary_matrix.shape"
   ]
  },
  {
   "cell_type": "code",
   "execution_count": null,
   "metadata": {},
   "outputs": [],
   "source": [
    "uf.save_data(binary_matrix, path, output_name + '_binary_matrix', \n",
    "            compression='npz', dtype=np.uint8)"
   ]
  },
  {
   "cell_type": "markdown",
   "metadata": {
    "colab_type": "text",
    "id": "UfUs-t6j0Q0Y"
   },
   "source": [
    "## Create Gene List"
   ]
  },
  {
   "cell_type": "code",
   "execution_count": null,
   "metadata": {},
   "outputs": [],
   "source": [
    "gene_list = uf.gene_list(binary_matrix, geneid_lookup)\n",
    "gene_list.head()"
   ]
  },
  {
   "cell_type": "code",
   "execution_count": null,
   "metadata": {},
   "outputs": [],
   "source": [
    "gene_list.shape"
   ]
  },
  {
   "cell_type": "code",
   "execution_count": null,
   "metadata": {},
   "outputs": [],
   "source": [
    "uf.save_data(gene_list, path, output_name + '_gene_list',\n",
    "            ext='tsv', compression='gzip', index=False)"
   ]
  },
  {
   "cell_type": "markdown",
   "metadata": {
    "colab_type": "text",
    "id": "J-tQ7p0z0Q0e"
   },
   "source": [
    "## Create Attribute List"
   ]
  },
  {
   "cell_type": "code",
   "execution_count": null,
   "metadata": {},
   "outputs": [],
   "source": [
    "attribute_list = uf.attribute_list(binary_matrix)\n",
    "attribute_list.head()"
   ]
  },
  {
   "cell_type": "code",
   "execution_count": null,
   "metadata": {},
   "outputs": [],
   "source": [
    "attribute_list.shape"
   ]
  },
  {
   "cell_type": "code",
   "execution_count": null,
   "metadata": {},
   "outputs": [],
   "source": [
    "uf.save_data(attribute_list, path, output_name + '_attribute_list',\n",
    "            ext='tsv', compression='gzip')"
   ]
  },
  {
   "cell_type": "markdown",
   "metadata": {
    "colab_type": "text",
    "id": "XeX9jcR80Q0l"
   },
   "source": [
    "## Create Gene and Attribute Set Libraries"
   ]
  },
  {
   "cell_type": "code",
   "execution_count": null,
   "metadata": {},
   "outputs": [],
   "source": [
    "uf.save_setlib(binary_matrix, 'gene', 'up', path, output_name + '_gene_up_set')"
   ]
  },
  {
   "cell_type": "code",
   "execution_count": null,
   "metadata": {},
   "outputs": [],
   "source": [
    "uf.save_setlib(binary_matrix, 'attribute', 'up', path, \n",
    "                           output_name + '_attribute_up_set')"
   ]
  },
  {
   "cell_type": "markdown",
   "metadata": {
    "colab_type": "text",
    "id": "oLEnEOe90Q0p"
   },
   "source": [
    "## Create Attribute Similarity Matrix"
   ]
  },
  {
   "cell_type": "code",
   "execution_count": null,
   "metadata": {},
   "outputs": [],
   "source": [
    "attribute_similarity_matrix = uf.similarity_matrix(binary_matrix.T, 'jaccard', sparse=True)\n",
    "attribute_similarity_matrix.head()"
   ]
  },
  {
   "cell_type": "code",
   "execution_count": null,
   "metadata": {},
   "outputs": [],
   "source": [
    "uf.save_data(attribute_similarity_matrix, path,\n",
    "            output_name + '_attribute_similarity_matrix', \n",
    "            compression='npz', symmetric=True, dtype=np.float32)"
   ]
  },
  {
   "cell_type": "markdown",
   "metadata": {
    "colab_type": "text",
    "id": "82UTrjTu0Q0v"
   },
   "source": [
    "## Create Gene Similarity Matrix"
   ]
  },
  {
   "cell_type": "code",
   "execution_count": null,
   "metadata": {},
   "outputs": [],
   "source": [
    "gene_similarity_matrix = uf.similarity_matrix(binary_matrix, 'jaccard', sparse=True)\n",
    "gene_similarity_matrix.head()"
   ]
  },
  {
   "cell_type": "code",
   "execution_count": null,
   "metadata": {},
   "outputs": [],
   "source": [
    "uf.save_data(gene_similarity_matrix, path, \n",
    "            output_name + '_gene_similarity_matrix',\n",
    "            compression='npz', symmetric=True, dtype=np.float32)"
   ]
  },
  {
   "cell_type": "markdown",
   "metadata": {
    "colab_type": "text",
    "id": "9CUYyQ6r0Q0z"
   },
   "source": [
    "## Create Gene-Attribute Edge List"
   ]
  },
  {
   "cell_type": "code",
   "execution_count": null,
   "metadata": {},
   "outputs": [],
   "source": [
    "edge_list = uf.edge_list(binary_matrix)\n",
    "uf.save_data(edge_list, path, output_name + '_edge_list', \n",
    "        ext='tsv', compression='gzip')"
   ]
  },
  {
   "cell_type": "markdown",
   "metadata": {
    "colab_type": "text",
    "id": "KTop-hjM0Q02"
   },
   "source": [
    "# Create Downloadable Save File"
   ]
  },
  {
   "cell_type": "code",
   "execution_count": null,
   "metadata": {},
   "outputs": [],
   "source": [
    "uf.archive(path)"
   ]
  },
  {
   "cell_type": "markdown",
   "metadata": {
    "colab_type": "text",
    "id": "ge5o2DaP0Q04"
   },
   "source": [
    "### Link to download output files: [click here](./output_archive.zip)"
   ]
  }
 ],
 "metadata": {
  "colab": {
   "collapsed_sections": [
    "j_897lnE0Q0E",
    "h7NuOs2A0Q0H",
    "96-W7MLM0Q0L",
    "ANTEpqwM0Q0O",
    "7R4ZhP8h0Q0R",
    "UfUs-t6j0Q0Y",
    "J-tQ7p0z0Q0e",
    "XeX9jcR80Q0l",
    "oLEnEOe90Q0p",
    "82UTrjTu0Q0v",
    "ge5o2DaP0Q04"
   ],
   "name": "DrugBank.ipynb",
   "provenance": []
  },
  "kernelspec": {
   "display_name": "Python 3.8.0 64-bit ('harmonizome': venv)",
   "name": "python_defaultSpec_1594063305743"
  },
  "language_info": {
   "codemirror_mode": {
    "name": "ipython",
    "version": 3
   },
   "file_extension": ".py",
   "mimetype": "text/x-python",
   "name": "python",
   "nbconvert_exporter": "python",
   "pygments_lexer": "ipython3",
   "version": 3
  }
 },
 "nbformat": 4,
 "nbformat_minor": 0
}
