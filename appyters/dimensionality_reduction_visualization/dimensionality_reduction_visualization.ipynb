{
 "cells": [
  {
   "cell_type": "code",
   "execution_count": null,
   "metadata": {},
   "outputs": [],
   "source": [
    "#%%appyter init\n",
    "from appyter import magic\n",
    "magic.init(lambda _=globals: _())"
   ]
  },
  {
   "cell_type": "code",
   "execution_count": null,
   "metadata": {},
   "outputs": [],
   "source": [
    "# Basic libraries\n",
    "import numpy as np\n",
    "import pandas as pd\n",
    "import matplotlib.pyplot as plt\n",
    "%matplotlib inline\n",
    "from sklearn.decomposition import PCA\n",
    "import multiprocessing as mp\n",
    "from MulticoreTSNE import MulticoreTSNE as TSNE\n",
    "from sklearn.preprocessing import StandardScaler\n",
    "import seaborn as sns\n",
    "from IPython.display import HTML, display, Markdown\n",
    "import umap\n",
    "\n",
    "from bokeh.io import output_notebook\n",
    "from bokeh.plotting import figure, show\n",
    "from bokeh.models import ColumnDataSource, HoverTool\n",
    "from bokeh.palettes import Category20\n",
    "from bokeh.transform import factor_cmap\n",
    "\n",
    "from react_scatter_board import ReactScatterBoard\n",
    "\n",
    "output_notebook() #allow bokeh plot show on the notebook"
   ]
  },
  {
   "cell_type": "code",
   "execution_count": null,
   "metadata": {},
   "outputs": [],
   "source": [
    "%%appyter hide_code_exec\n",
    "{% do SectionField(\n",
    "    name='Data_Section',\n",
    "    title='Load Your Data',\n",
    "    subtitle='Load your metadata and data matrix in comma/tab separated formats. Genes should be in rows and samples shoud be in columns.',\n",
    "    img='load.png'\n",
    "    \n",
    ") %}\n",
    "\n",
    "\n",
    "{% do SectionField(\n",
    "    name='Visualization_Section',\n",
    "    title='Select Visualization Parameters',\n",
    "    subtitle='',\n",
    "    img='select.png'\n",
    "    \n",
    ") %}"
   ]
  },
  {
   "cell_type": "code",
   "execution_count": null,
   "metadata": {},
   "outputs": [],
   "source": [
    "%%appyter code_exec\n",
    "{% set rnaseq_data_filename = FileField(\n",
    "    name='rnaseq_data_filename', \n",
    "    label='RNA-seq data file (.csv or .txt)', \n",
    "    default='mouse_brain_cells_gene_counts.csv',\n",
    "    examples={'mouse_brain_cells_gene_counts.csv': \"https://appyters.maayanlab.cloud/storage/dimensionality_reduction_visualization/mouse_brain_cells_gene_counts.csv\"}, \n",
    "    description='Upload RNA-seq data matrix as comma seperated or tab seperated format. The index of the dataset are cells, the columns are samples.', \n",
    "    section='Data_Section')\n",
    "\n",
    "%}\n",
    "\n",
    "{% set has_meta_data = BoolField(\n",
    "    name='has_meta_data', \n",
    "    label='Has metadata file?',\n",
    "    default='true',\n",
    "    description='Having metadata makes plot to have color', \n",
    "    section='Data_Section') \n",
    " %}\n",
    "\n",
    "{% set meta_data_filename = FileField(\n",
    "    name='meta_data_filename', \n",
    "    label='Metadata file (.csv or .txt)', \n",
    "    default='mouse_brain_cells_metadata.csv',\n",
    "\n",
    "    examples={'mouse_brain_cells_metadata.csv': \"https://appyters.maayanlab.cloud/storage/dimensionality_reduction_visualization/mouse_brain_cells_metadata.csv\"}, \n",
    "    description='Upload metadata as two-column comma seperated or tab seperated format. One column contains sample ids and the other column contains sample labels', \n",
    "    section='Data_Section')\n",
    "\n",
    "%}\n",
    "\n",
    "{% set meta_class_column_name = StringField(\n",
    "    name='meta_class_column_name', \n",
    "    label='Class column name in metadata', \n",
    "    default='cell_ontology_class', \n",
    "    description='class column name of metadata', \n",
    "    section='Data_Section')\n",
    "%}\n"
   ]
  },
  {
   "cell_type": "code",
   "execution_count": null,
   "metadata": {},
   "outputs": [],
   "source": [
    "%%appyter code_exec\n",
    "{% set plot_3D = ChoiceField(\n",
    "    name='3D_plot', \n",
    "    label='3D plots?', \n",
    "    choices = {'2D': '2D', '3D': '3D', 'All':'All'},\n",
    "    default='All', \n",
    "    description='Check if User wants 3D plots', \n",
    "    section='Visualization_Section')\n",
    "%}\n",
    "\n",
    "{% set visualization_method = ChoiceField(\n",
    "    name='visualization_method', \n",
    "    label='Visualization Methods', \n",
    "    choices = {'All': 'All','PCA': 'PCA', 'UMAP': 'UMAP', 't-SNE': 't-SNE'},\n",
    "    default='All', \n",
    "    description='Select a visualization method', \n",
    "    section='Visualization_Section')\n",
    "%}\n"
   ]
  },
  {
   "cell_type": "code",
   "execution_count": null,
   "metadata": {},
   "outputs": [],
   "source": [
    "%%appyter code_exec\n",
    "rnaseq_data_filename = {{rnaseq_data_filename}}\n",
    "meta_data_filename = {{meta_data_filename}}\n",
    "meta_class_column_name = {{meta_class_column_name}}\n",
    "has_matadata = {{has_meta_data}}\n",
    "\n",
    "plot_3D = \"{{plot_3D}}\"\n",
    "clustering_topk = 50\n",
    "method = \"{{visualization_method}}\"\n"
   ]
  },
  {
   "cell_type": "markdown",
   "metadata": {},
   "source": [
    "# PCA, t-SNE, and UMAP Appyter"
   ]
  },
  {
   "cell_type": "markdown",
   "metadata": {},
   "source": [
    "This Appyter [1] loads data in a matrix format, it then performs dimensionality reduction algorithms on the data; and then visualizes the dimensionality reduced data with with static and interactive 2D and 3D PCA [2], t-SNE [3], and UMAP [4] plots.  "
   ]
  },
  {
   "cell_type": "markdown",
   "metadata": {},
   "source": [
    "## PCA\n",
    "Principal Component Analysis (PCA) [2] is a statistical technique ussed to identify global patterns in high-dimensional datasets. It is commonly used to explore the similarity of biological samples in omics datasets. To perform PCA, variable values are transformed into Principal Components (PCs), a set of linearly orthogonal features which represent the most relevant sources of variance in the data. The top PCs subsequently visualized using a scatter plot for each variable to estimate similarity and differences between the variables in higher dimensions.\n"
   ]
  },
  {
   "cell_type": "markdown",
   "metadata": {},
   "source": [
    "## t-SNE\n",
    "t-distributed stochastic neighbor embedding (t-SNE) [3] is a statistical method used to identify global patterns in high-dimensional datasets. It is a non-linear Dimensionality reduction technique, and it embeds the points from a higher dimension to a lower dimension trying to preserve the neighborhood of that point. It then provides each datapoint a location in a two or three-dimensional space visualized using a scatter plot."
   ]
  },
  {
   "cell_type": "markdown",
   "metadata": {},
   "source": [
    "## UMAP\n",
    "Uniform Manifold Approximation and Projection (UMAP) [4] is a statistical method used to identify global patterns in high-dimensional datasets. It creates a graph that accurately reflects the topology of the true high dimensional graph. It then calculates the weight for edges of this graph and builds the low dimensional graph."
   ]
  },
  {
   "cell_type": "markdown",
   "metadata": {},
   "source": [
    "## Analysis Overview\n",
    "The input data matrix that has been normalized first undergoes dimensionality reduction using PCA [2], t-SNE [3], and UMAP [4] with the Python library. Columns are then clustered based on their most-associated highly-variable variables and metadata features. Clusters are visualized using the Bokeh package [5] for the 2D plots, and the React-Scatter-Board package [6] developed by the Ma'ayan lab for interactive visualization of the 3D plots.\n",
    "\n"
   ]
  },
  {
   "cell_type": "markdown",
   "metadata": {},
   "source": [
    "# Read Data"
   ]
  },
  {
   "cell_type": "code",
   "execution_count": null,
   "metadata": {},
   "outputs": [],
   "source": [
    "def load_file(filename, **kwargs):\n",
    "    if filename.endswith(\".csv\"):\n",
    "        temp_df = pd.read_csv(filename, **kwargs).sort_index()\n",
    "    elif filename.endswith(\".txt\") or filename.endswith(\".tsv\"):\n",
    "        temp_df = pd.read_csv(filename, sep=\"\\t\", **kwargs).sort_index()\n",
    "    else:\n",
    "        raise Exception('Error! Incorrect format. Please load file in txt, tsv or csv format')\n",
    "    \n",
    "    return temp_df\n",
    "\n",
    "expr_df = load_file(rnaseq_data_filename, index_col=0)\n",
    "\n",
    "if has_matadata:\n",
    "    meta_df = load_file(meta_data_filename)\n",
    "    assert meta_class_column_name in meta_df.columns, f\"Error! Column '{meta_class_column_name}' is not in metadata\"\n",
    "    meta_df.head()"
   ]
  },
  {
   "cell_type": "code",
   "execution_count": null,
   "metadata": {},
   "outputs": [],
   "source": [
    "expr_df.head()"
   ]
  },
  {
   "cell_type": "markdown",
   "metadata": {},
   "source": [
    "# Visualize Samples"
   ]
  },
  {
   "cell_type": "code",
   "execution_count": null,
   "metadata": {},
   "outputs": [],
   "source": [
    "def diplay_caption(counter, caption):\n",
    "    display(Markdown(\"*Figure {}. {}*\".format(counter, caption)))\n",
    "    \n",
    "def create_df(transformed_data, is3D = False):\n",
    "    scaler = StandardScaler().fit(transformed_data)\n",
    "    X_scaled = scaler.transform(transformed_data)\n",
    "    df = pd.DataFrame()\n",
    "    if has_matadata:\n",
    "        df[\"y\"] = meta_df[meta_class_column_name]\n",
    "    else:\n",
    "        df[\"y\"] = expr_df.index\n",
    "\n",
    "    df[\"pc1\"] = X_scaled[:,0]\n",
    "    df[\"pc2\"] = X_scaled[:,1]\n",
    "    df[\"pc3\"] = X_scaled[:,2]\n",
    "    \n",
    "    if is3D:\n",
    "        return [dict(x=r['pc1'], y=r['pc2'], z=r['pc3'],Type=r['y'], opacity=0.7) for _, r in df.iterrows()]\n",
    "    else :\n",
    "        return df"
   ]
  },
  {
   "cell_type": "code",
   "execution_count": null,
   "metadata": {},
   "outputs": [],
   "source": [
    "def display_PCA_variance(pca):\n",
    "    cumulative_variance = np.cumsum(pca.explained_variance_ratio_)\n",
    "    \n",
    "    source = ColumnDataSource(data=dict(\n",
    "        x=range(len(cumulative_variance)),\n",
    "        y=cumulative_variance,\n",
    "    ))\n",
    "\n",
    "    TOOLTIPS = [\n",
    "        (\"index\", \"$index\"),\n",
    "        (\"(x,y)\", \"($x, $y)\"),\n",
    "    ]\n",
    "\n",
    "    p = figure(width=500, height=400, tooltips=TOOLTIPS, x_axis_label='principal components', \n",
    "               y_axis_label='cumulative proportion of variance')\n",
    "    p.line('x', 'y', source=source)\n",
    "    p.output_backend = \"svg\"\n",
    "    return p\n",
    "\n",
    "def model_PCA_feature():\n",
    "    pca = PCA(n_components=3)\n",
    "    transformed_df = pca.fit_transform(expr_df)\n",
    "    return transformed_df\n",
    "\n",
    "def model_t_SNE_feature():\n",
    "    n_jobs=mp.cpu_count()\n",
    "    tsne = TSNE(n_jobs = n_jobs, n_components=3)\n",
    "    transformed_df = tsne.fit_transform(expr_df) \n",
    "    return transformed_df\n",
    "\n",
    "def model_Umap_feature():\n",
    "    umap_model = umap.UMAP(n_components=3)\n",
    "    transformed_df = umap_model.fit_transform(expr_df)\n",
    "    return transformed_df\n",
    "\n",
    "def interactive_circle_plot(input_df, x_lab, y_lab):\n",
    "    source = ColumnDataSource(data=dict(\n",
    "        x=input_df[\"pc1\"],\n",
    "        y=input_df[\"pc2\"],\n",
    "        cell=input_df[\"y\"],\n",
    "    ))\n",
    "\n",
    "    TOOLTIPS = [\n",
    "        (\"index\", \"$index\"),\n",
    "        (\"(x,y)\", \"($x, $y)\"),\n",
    "        (\"cell\", \"@cell\"),\n",
    "    ]\n",
    "\n",
    "    p = figure(width=800, height=400, tooltips=TOOLTIPS,x_axis_label=x_lab, y_axis_label=y_lab)\n",
    "    \n",
    "    if has_matadata:\n",
    "        color = factor_cmap('cell', palette=Category20[20], factors=input_df[\"y\"].unique())\n",
    "        p.circle('x', 'y', size=3, source=source, legend_group=\"cell\",\n",
    "                 fill_color= color, line_color=color)\n",
    "\n",
    "        p.add_layout(p.legend[0], 'right')\n",
    "    else:\n",
    "        p.circle('x', 'y', size=3, source=source)\n",
    "        \n",
    "    p.output_backend = \"svg\"\n",
    "    return p"
   ]
  },
  {
   "cell_type": "code",
   "execution_count": null,
   "metadata": {},
   "outputs": [],
   "source": [
    "%%appyter code_exec\n",
    "counter = 1\n",
    "\n",
    "{% if (plot_3D.value == \"2D\" or plot_3D.value == \"All\") and (visualization_method.value == \"All\" or visualization_method.value == \"PCA\") %}\n",
    "pca = PCA(n_components=clustering_topk)\n",
    "transformed_pca = pca.fit_transform(expr_df)\n",
    "\n",
    "p1 = display_PCA_variance(pca)    \n",
    "p2 = interactive_circle_plot(create_df(transformed_pca), \"PC-1\", \"PC-2\")\n",
    "\n",
    "show(p1)\n",
    "caption = \"Cumulative proportion of variance explained as a function of the number of principal components. If the cumulative proportion of variance equal to 1, it explains 100% of the variance within the data.\"\n",
    "diplay_caption(counter, caption)\n",
    "\n",
    "counter += 1\n",
    "\n",
    "show(p2)\n",
    "if has_matadata:\n",
    "    caption = \"PCA 2D scatter plot when the select feature to highlight is {}. Each point presents a column from the input data matrix.\".format(meta_class_column_name)\n",
    "else:\n",
    "    caption = \"PCA 2D scatter plot. Each point presents a column from the input data matrix.\"\n",
    "diplay_caption(counter, caption)\n",
    "{% endif %}\n",
    "\n",
    "{% if (plot_3D.value == \"2D\" or plot_3D.value == \"All\") and (visualization_method.value == \"All\" or visualization_method.value == \"t-SNE\") %}\n",
    "transformed_df = model_t_SNE_feature()\n",
    "p = interactive_circle_plot(create_df(transformed_df), \"t-SNE-1\", \"t-SNE-2\")\n",
    "counter += 1\n",
    "show(p)\n",
    "\n",
    "if has_matadata:\n",
    "    caption = \"t-SNE 2D scatter plot when the select feature to highlight is {}. Each point presents a column from the input data matrix.\".format(meta_class_column_name)\n",
    "else:\n",
    "    caption = \"t-SNE 2D scatter plot. Each point presents a column from the input data matrix.\"\n",
    "\n",
    "diplay_caption(counter, caption)\n",
    "{% endif %}\n",
    "\n",
    "{% if (plot_3D.value == \"2D\" or plot_3D.value == \"All\") and (visualization_method.value == \"All\" or visualization_method.value == \"UMAP\") %}\n",
    "transformed_df = model_Umap_feature()\n",
    "p = interactive_circle_plot(create_df(transformed_df),\"UMAP-1\",\"UMAP-2\")\n",
    "counter += 1\n",
    "show(p)\n",
    "\n",
    "if has_matadata:\n",
    "    caption = \"UMAP 2D scatter plot when the select feature to highlight is {}. Each point presents a column from the input data matrix.\".format(meta_class_column_name)\n",
    "else:\n",
    "    caption = \"UMAP 2D scatter plot. Each point presents a column from the input data matrix.\"\n",
    "\n",
    "diplay_caption(counter, caption)\n",
    "{% endif %}"
   ]
  },
  {
   "cell_type": "code",
   "execution_count": null,
   "metadata": {},
   "outputs": [],
   "source": [
    "%%appyter code_exec\n",
    "{% if (plot_3D.value == \"3D\" or plot_3D.value == \"All\") and (visualization_method.value == \"All\" or visualization_method.value == \"PCA\") %}\n",
    "transformed_df = model_PCA_feature()\n",
    "\n",
    "display(ReactScatterBoard(\n",
    "  is3d=True,\n",
    "  data=create_df(transformed_df, is3D = True),\n",
    "  colorKey=\"Type\",\n",
    "  scale=5\n",
    "))\n",
    "\n",
    "if has_matadata:\n",
    "    caption = \"PCA 3D scatter plot when the select feature to highlight is {}. Each point presents a column from the input data matrix. Scroll to zoom, drag to move around.\".format(meta_class_column_name)\n",
    "else:\n",
    "    caption = \"PCA 3D scatter plot. Each point presents a column from the input data matrix. Scroll to zoom, drag to move around.\"\n",
    "\n",
    "diplay_caption(counter, caption)\n",
    "{% endif %}"
   ]
  },
  {
   "cell_type": "code",
   "execution_count": null,
   "metadata": {},
   "outputs": [],
   "source": [
    "%%appyter code_exec\n",
    "{% if (plot_3D.value == \"3D\" or plot_3D.value == \"All\") and (visualization_method.value == \"All\" or visualization_method.value == \"t-SNE\") %}\n",
    "transformed_df = model_t_SNE_feature()\n",
    "\n",
    "display(ReactScatterBoard(\n",
    "  is3d=True,\n",
    "  data=create_df(transformed_df,is3D = True),\n",
    "  colorKey=\"Type\",\n",
    "  scale=4\n",
    "))\n",
    "\n",
    "counter += 1\n",
    "\n",
    "if has_matadata:\n",
    "    caption = \"t-SNE 3D scatter plot when the select feature to highlight is {}. Each point presents a column from the input data matrix. Scroll to zoom, drag to move around.\".format(meta_class_column_name)\n",
    "else:\n",
    "    caption = \"t-SNE 3D scatter plot. Each point presents a column from the input data matrix. Scroll to zoom, drag to move around.\"\n",
    "\n",
    "diplay_caption(counter, caption)\n",
    "{% endif %}"
   ]
  },
  {
   "cell_type": "code",
   "execution_count": null,
   "metadata": {},
   "outputs": [],
   "source": [
    "%%appyter code_exec\n",
    "{% if (plot_3D.value == \"3D\" or plot_3D.value == \"All\") and (visualization_method.value == \"All\" or visualization_method.value == \"UMAP\") %}\n",
    "transformed_df = model_Umap_feature()\n",
    "\n",
    "display(ReactScatterBoard(\n",
    "  is3d=True,\n",
    "  data=create_df(transformed_df,is3D = True),\n",
    "  colorKey=\"Type\",\n",
    "  scale=4\n",
    "))\n",
    "\n",
    "counter += 1\n",
    "\n",
    "if has_matadata:\n",
    "    caption = \"UMAP 3D scatter plot when the select feature to highlight is {}. Each point presents a column from the input data matrix. Scroll to zoom, drag to move around.\".format(meta_class_column_name)\n",
    "else:\n",
    "    caption = \"UMAP 3D scatter plot. Each point presents a column from the input data matrix. Scroll to zoom, drag to move around.\"\n",
    "\n",
    "diplay_caption(counter, caption)\n",
    "{% endif %}"
   ]
  },
  {
   "cell_type": "markdown",
   "metadata": {},
   "source": [
    "## Reference\n",
    "\n"
   ]
  },
  {
   "cell_type": "markdown",
   "metadata": {},
   "source": [
    "1. Clarke DJB, Jeon M, Stein DJ, Moiseyev N, Kropiwnicki E, Dai C, Xie Z, Wojciechowicz ML, Litz S, Hom J, Evangelista JE, Goldman L, Zhang S, Yoon C, Ahamed T, Bhuiyan S, Cheng M, Karam J, Jagodnik KM, Shu I, Lachmann A, Ayling S, Jenkins SL, Ma'ayan A. Appyters: Turning Jupyter Notebooks into data-driven web apps. Patterns (N Y). 2021 Mar 4;2(3):100213.\n",
    "<br>\n",
    "2. Clark NR, Ma'ayan A. Introduction to statistical methods to analyze large data sets: principal components analysis. Sci Signal. 2011 Sep 6;4(190):tr3.\n",
    "<br>\n",
    "3. Maaten, Laurens van der and Geoffrey E. Hinton. “Visualizing Data using t-SNE.” Journal of Machine Learning Research 9 (2008): 2579-2605.\n",
    "<br>\n",
    "4. McInnes, L., Healy, J., Saul, N. & Großberger, L. UMAP: uniform manifold approximation and projection. J. Open Source Softw. 3, 861 (2018).\n",
    "<br>\n",
    "5. Bokeh Development Team (2018). Bokeh: Python library for interactive visualization. URL http://www.bokeh.pydata.org.\n",
    "<br>\n",
    "6. MaayanLab. react-scatter-board: Python library for interactive 3 Dimension plot. URL https://github.com/MaayanLab/react-scatter-board"
   ]
  }
 ],
 "metadata": {
  "kernelspec": {
   "display_name": "python3.8-appyter",
   "language": "python",
   "name": "python3.8-appyter"
  },
  "language_info": {
   "codemirror_mode": {
    "name": "ipython",
    "version": 3
   },
   "file_extension": ".py",
   "mimetype": "text/x-python",
   "name": "python",
   "nbconvert_exporter": "python",
   "pygments_lexer": "ipython3",
   "version": "3.8.10"
  }
 },
 "nbformat": 4,
 "nbformat_minor": 4
}
