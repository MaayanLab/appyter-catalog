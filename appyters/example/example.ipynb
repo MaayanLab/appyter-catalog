{
 "cells": [
  {
   "cell_type": "code",
   "execution_count": null,
   "metadata": {},
   "outputs": [],
   "source": [
    "#%%appyter init\n",
    "from appyter import magic\n",
    "magic.init(lambda _=globals: _())"
   ]
  },
  {
   "cell_type": "code",
   "execution_count": null,
   "metadata": {},
   "outputs": [],
   "source": [
    "%%appyter markdown\n",
    "\n",
    "# {{ StringField(\n",
    "    name='title',\n",
    "    label='Title',\n",
    "    default='My Title',\n",
    ") }}\n",
    "\n",
    "{{ TextField(\n",
    "    name='description',\n",
    "    label='Description',\n",
    "    default='My Description',\n",
    ") }}\n",
    "\n",
    "{# EmailField(\n",
    "    name='email',\n",
    "    label='Contact Email',\n",
    "    default='example@email.com',\n",
    ") #}"
   ]
  },
  {
   "cell_type": "code",
   "execution_count": null,
   "metadata": {},
   "outputs": [],
   "source": [
    "%%appyter code_eval\n",
    "{% set number_1 = IntField(name='number_1', label='First Number', min=0, max=10, default=5) %}\n",
    "{% set number_2 = IntField(name='number_2', label='Second Number', min=0, max=10, default=5) %}\n",
    "{% set op = ChoiceField(\n",
    "  name='operator',\n",
    "  label='Operator',\n",
    "  choices={\n",
    "    'add': '+',\n",
    "    'subtract': '-',\n",
    "    'multiply': '*',\n",
    "    'divide': '/',\n",
    "    'power': '**',\n",
    "  },\n",
    "  default='add',\n",
    ") %}\n",
    "answer = {{ number_1 }} {{ op }} {{ number_2 }}\n",
    "answer # {{ op.raw_value }} {{ number_1 }}, {{ number_2 }} = {{ op|do_op(number_1, number_2) }}"
   ]
  },
  {
   "cell_type": "code",
   "execution_count": null,
   "metadata": {},
   "outputs": [],
   "source": [
    "%%appyter code_eval\n",
    "open({{ FileField(\n",
    "    name='file',\n",
    "    label='File Upload Test',\n",
    "    default='test.txt',\n",
    "    examples={\n",
    "        'test.txt': 'https://appyters.maayanlab.cloud/storage/test.txt',\n",
    "    },\n",
    ") }}, 'r').read()"
   ]
  },
  {
   "cell_type": "code",
   "execution_count": null,
   "metadata": {},
   "outputs": [],
   "source": [
    "from IPython.display import display, Markdown\n",
    "\n",
    "display(Markdown(\"**test**\"))\n",
    "display(Markdown(\"**test2**\"))\n"
   ]
  },
  {
   "cell_type": "code",
   "execution_count": null,
   "metadata": {},
   "outputs": [],
   "source": [
    "%%appyter code_eval\n",
    "result = {{ MultiChoiceField(\n",
    "    name='test',\n",
    "    description='test',\n",
    "    label='Test',\n",
    "    choices=['a', 'b', 'c'],\n",
    "    default=['a', 'c'],\n",
    ").safe_value }}\n",
    "result"
   ]
  },
  {
   "cell_type": "code",
   "execution_count": null,
   "metadata": {},
   "outputs": [],
   "source": []
  }
 ],
 "metadata": {
  "file_extension": ".py",
  "kernelspec": {
   "display_name": "Python 3.8.2 64-bit ('venv': venv)",
   "name": "python38264bitvenvvenv221fa24da3f146ee814be82add0e3086"
  },
  "language_info": {
   "codemirror_mode": {
    "name": "ipython",
    "version": 2
   },
   "name": "python",
   "version": "3.8.2-final"
  },
  "mimetype": "text/x-python",
  "name": "python",
  "npconvert_exporter": "python",
  "pygments_lexer": "ipython2",
  "version": 2
 },
 "nbformat": 4,
 "nbformat_minor": 2
}
