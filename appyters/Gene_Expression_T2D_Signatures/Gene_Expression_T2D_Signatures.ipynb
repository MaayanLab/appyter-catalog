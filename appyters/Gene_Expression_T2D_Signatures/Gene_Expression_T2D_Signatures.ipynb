{
 "cells": [
  {
   "cell_type": "code",
   "execution_count": null,
   "metadata": {},
   "outputs": [],
   "source": [
    "#%%appyter init\n",
    "from appyter import magic\n",
    "magic.init(lambda _=globals: _())"
   ]
  },
  {
   "cell_type": "code",
   "execution_count": null,
   "metadata": {},
   "outputs": [],
   "source": [
    "# imports\n",
    "import numpy as np\n",
    "import pandas as pd\n",
    "import matplotlib.cm as cm\n",
    "import matplotlib.colors as colors\n",
    "from IPython.display import HTML, Markdown\n",
    "import requests\n",
    "\n",
    "# bokeh\n",
    "from bokeh.io import output_notebook\n",
    "from bokeh.plotting import figure, show\n",
    "from bokeh.models import HoverTool, ColumnDataSource\n",
    "\n",
    "# display graphics\n",
    "output_notebook()"
   ]
  },
  {
   "cell_type": "code",
   "execution_count": null,
   "metadata": {},
   "outputs": [],
   "source": [
    "%%appyter hide\n",
    "{% do SectionField(\n",
    "    name = 'INPUT',\n",
    "    title = 'Input Parameters',\n",
    "    subtitle = 'Fill in the species and gene of interest',\n",
    "    img = 'mini_plot.png'\n",
    ")%}"
   ]
  },
  {
   "cell_type": "code",
   "execution_count": null,
   "metadata": {},
   "outputs": [],
   "source": [
    "%%appyter code_exec\n",
    "{% set species_input = TabField(\n",
    "    name = 'species_input',\n",
    "    label = 'Species of Interest',\n",
    "    default = 'Human',\n",
    "    description = 'Select the species of interest.',\n",
    "    section = 'INPUT',\n",
    "    choices = {\n",
    "        'Human': [\n",
    "            AutocompleteField(\n",
    "                name = 'human_gene',\n",
    "                label = 'Human Gene of Interest',\n",
    "                default = 'SLC2A2',\n",
    "                description = 'Enter the gene symbol of interest (human).',\n",
    "                file_path = 'https://appyters.maayanlab.cloud/storage/Gene_Expression_T2D_Signatures/human_genes.json'\n",
    "            )\n",
    "        ],\n",
    "        'Mouse': [\n",
    "            AutocompleteField(\n",
    "                name = 'mouse_gene',\n",
    "                label = 'Mouse Gene of Interest',\n",
    "                default = 'Tcf7l2',\n",
    "                description = 'Enter the gene symbol of interest (mouse).',\n",
    "                file_path = 'https://appyters.maayanlab.cloud/storage/Gene_Expression_T2D_Signatures/mouse_genes.json'\n",
    "            )\n",
    "        ]\n",
    "    }\n",
    ")%}"
   ]
  },
  {
   "cell_type": "code",
   "execution_count": null,
   "metadata": {},
   "outputs": [],
   "source": [
    "%%appyter code_exec\n",
    "species = {{ species_input.value[0][\"args\"][\"name\"].split(\"_\")[0]|jsonify }}\n",
    "gene = {{ species_input.value[0] }}\n",
    "input_gene = {{ species_input.value[0] }}"
   ]
  },
  {
   "cell_type": "code",
   "execution_count": null,
   "metadata": {},
   "outputs": [],
   "source": [
    "species = species.lower()"
   ]
  },
  {
   "cell_type": "markdown",
   "metadata": {},
   "source": [
    "# My Gene's Expression in Type 2 Diabetes Transcriptomics Signatures"
   ]
  },
  {
   "cell_type": "code",
   "execution_count": null,
   "metadata": {},
   "outputs": [],
   "source": [
    "display(Markdown(f\"## {species.capitalize()} T2D-Related Expression Studies\"))"
   ]
  },
  {
   "cell_type": "code",
   "execution_count": null,
   "metadata": {},
   "outputs": [],
   "source": [
    "# store if synonym was used\n",
    "has_syn = False\n",
    "\n",
    "# import preprocessed signature data\n",
    "root_path = 'https://s3.appyters.maayanlab.cloud/storage/Gene_Expression_T2D_Signatures/'\n",
    "\n",
    "# obtain all gene symbols in signature\n",
    "with requests.get(f\"{root_path}{species}_sig_genes.txt\") as r:\n",
    "    sig_genes = r.text.split('\\n')\n",
    "\n",
    "gene_map_ind = []\n",
    "gene_map_val = []\n",
    "# find gene synonym, if necessary\n",
    "if gene not in sig_genes:\n",
    "    gene_info = {\n",
    "        'human': 'ftp://ftp.ncbi.nih.gov/gene/DATA/GENE_INFO/Mammalia/Homo_sapiens.gene_info.gz',\n",
    "        'mouse': 'ftp://ftp.ncbi.nih.gov/gene/DATA/GENE_INFO/Mammalia/Mus_musculus.gene_info.gz'\n",
    "    }\n",
    "    gene_df = pd.read_csv(gene_info[species], sep='\\t', compression='gzip')[['Symbol', 'Synonyms']]\n",
    "    for row in gene_df.itertuples():\n",
    "        if row.Synonyms != '-':\n",
    "            syns = row.Synonyms.split('|')\n",
    "            for syn in syns:\n",
    "                syn = syn.split(':')[1] if syn.find(':') != -1 else syn\n",
    "                gene_map_ind.append(syn)\n",
    "                gene_map_val.append(row.Symbol)\n",
    "    gene_map = pd.DataFrame.from_records(\n",
    "        zip(gene_map_ind, gene_map_val), \n",
    "        columns=['synonym', 'symbol']\n",
    "    ).set_index('synonym')\n",
    "    syn_counts = gene_map.index.value_counts()\n",
    "    gene_map = gene_map.drop(syn_counts[syn_counts > 1].index)\n",
    "    \n",
    "    gene = gene_map.loc[input_gene, 'symbol']\n",
    "    has_syn = True\n",
    "    display(HTML(f\"<div style='font-size:1rem;padding:1rem 0;'>{input_gene} not in signature data, using gene synonym <b>{gene}</b>.</div>\"))"
   ]
  },
  {
   "cell_type": "code",
   "execution_count": null,
   "metadata": {},
   "outputs": [],
   "source": [
    "# RNA-seq p-values\n",
    "pval_rna_df = pd.read_feather(f'{root_path}all_{species}_pval.f', columns=['index', gene]).set_index('index')\n",
    "# RNA-seq fold change\n",
    "fc_rna_df = pd.read_feather(f'{root_path}all_{species}_fc.f', columns=['index', gene]).set_index('index')\n",
    "\n",
    "# microarray data\n",
    "try:\n",
    "    pval_micro_df = pd.read_feather(f\"{root_path}{species}_pruned_affy_pv.f\", columns=['index', gene]).set_index('index')\n",
    "    fc_micro_df = pd.read_feather(f\"{root_path}{species}_pruned_affy_fc.f\", columns=['index', gene]).set_index('index')\n",
    "    micro_exists = True\n",
    "except:\n",
    "    pval_micro_df = None\n",
    "    fc_micro_df = None\n",
    "    micro_exists = False\n",
    "\n",
    "# Bulk RNA-seq Appyter analysis instances\n",
    "inst_df_input = pd.read_csv(f\"{root_path}{species}_instances.tsv\", sep='\\t', index_col=0)"
   ]
  },
  {
   "cell_type": "code",
   "execution_count": null,
   "metadata": {},
   "outputs": [],
   "source": [
    "# configure color scheme\n",
    "red_map = cm.get_cmap('Reds_r')\n",
    "red_norm = colors.Normalize(vmin=-0.25, vmax=1)\n",
    "blue_map = cm.get_cmap('Blues_r')\n",
    "blue_norm = colors.Normalize(vmin=-0.25, vmax=1)\n",
    "\n",
    "def map_color(fc, pv):\n",
    "    if fc < 0:\n",
    "        return colors.to_hex(red_map(red_norm(pv)))\n",
    "    elif fc == 0:\n",
    "        return '#808080'\n",
    "    else:\n",
    "        return colors.to_hex(blue_map(blue_norm(pv)))"
   ]
  },
  {
   "cell_type": "code",
   "execution_count": null,
   "metadata": {},
   "outputs": [],
   "source": [
    "def combine_data(pval_df, fc_df, gene, isRNA=False, inst_df=None):\n",
    "    # extract and combine data for each gene\n",
    "    comb_df = pd.DataFrame()\n",
    "    comb_df['sig'] = pval_df.index.tolist()\n",
    "    comb_df['pval'] = pval_df[gene].tolist()\n",
    "    comb_df['logpv'] = np.negative(np.log10(comb_df['pval']))\n",
    "    comb_df['fc'] = fc_df[gene].tolist()\n",
    "    if isRNA:\n",
    "        comb_df['inst'] = comb_df['sig'].apply(lambda x: inst_df.loc[x, 'session_id'])\n",
    "    return comb_df\n",
    "\n",
    "def make_plot(comb_df, species, gene, micro=False, micro_df=None):\n",
    "    # create links from Bulk RNA-seq Appyter instance session IDs\n",
    "    comb_df['inst'] = comb_df['inst'].apply(lambda x: f'https://appyters.maayanlab.cloud/Bulk_RNA_seq/{x}')\n",
    "\n",
    "    # set color and size for each point on plot\n",
    "    rna_colors = [map_color(r.fc, r.pval) for r in comb_df.itertuples()]\n",
    "    rna_sizes = [12 if r.pval < 0.05 else 6 for r in comb_df.itertuples()]\n",
    "\n",
    "    if micro:\n",
    "        micro_colors = [map_color(r.fc, r.pval) for r in micro_df.itertuples()]\n",
    "        micro_sizes = [12 if r.pval < 0.05 else 6 for r in micro_df.itertuples()]\n",
    "\n",
    "    # generate data source\n",
    "    data_source = ColumnDataSource(\n",
    "        data=dict(\n",
    "            x = comb_df['fc'],\n",
    "            y = comb_df['logpv'],\n",
    "            sig = comb_df['sig'],\n",
    "            pval = comb_df['pval'], \n",
    "            fc = comb_df['fc'], \n",
    "            colors = rna_colors, \n",
    "            sizes = rna_sizes,\n",
    "            # label = ['RNA-seq']*comb_df.shape[0]\n",
    "        )\n",
    "    )\n",
    "\n",
    "    # generate microarray data source if it exists\n",
    "    if micro:\n",
    "        micro_data_source = ColumnDataSource(\n",
    "            data=dict(\n",
    "                x = micro_df['fc'],\n",
    "                y = micro_df['logpv'], \n",
    "                sig = micro_df['sig'],\n",
    "                pval = micro_df['pval'], \n",
    "                fc = micro_df['fc'],\n",
    "                colors = micro_colors,\n",
    "                sizes = micro_sizes,\n",
    "                # label = ['Microarray']*micro_df.shape[0]\n",
    "            )\n",
    "        )\n",
    "    # create hover tooltip\n",
    "    tools = [\n",
    "        (\"Signature\", \"@sig\"),\n",
    "        (\"P-Value\", \"@pval\"),\n",
    "        (\"Fold Change\", \"@fc\")\n",
    "    ]\n",
    "    # generate plot and relevant plot labels\n",
    "    plot = figure(\n",
    "        plot_width=700,\n",
    "        plot_height=500,\n",
    "        tooltips=tools\n",
    "    )\n",
    "    plot.circle(\n",
    "        'x', 'y', \n",
    "        size='sizes',\n",
    "        alpha=0.7, \n",
    "        line_alpha=0,\n",
    "        line_width=0.01, \n",
    "        source=data_source,\n",
    "        fill_color='colors', \n",
    "        name=f'{gene}_t2d_expression_volcano_plot',\n",
    "        # legend_group='label'\n",
    "    )\n",
    "\n",
    "    if micro:\n",
    "        plot.square(\n",
    "            'x', 'y',\n",
    "            size='sizes',\n",
    "            alpha=0.7,\n",
    "            line_alpha=0,\n",
    "            line_width=0.01,\n",
    "            source=micro_data_source,\n",
    "            fill_color='colors',\n",
    "            name=f'{gene}_t2d_expression_volcano_plot',\n",
    "            # legend_group='label'\n",
    "        )\n",
    "\n",
    "    plot.xaxis.axis_label = 'Fold Change'\n",
    "    plot.yaxis.axis_label = '-log10(P-value)'\n",
    "    plot.title.text = f\"Differential Expression of {gene} in {species} Type 2 Diabetes Transcriptomics Signatures\"\n",
    "    plot.title.align = 'center'\n",
    "    plot.title.text_font_size = '14px'\n",
    "\n",
    "    show(plot)"
   ]
  },
  {
   "cell_type": "markdown",
   "metadata": {},
   "source": [
    "The volcano plot below positions each of the Type 2 Diabetes signatures according to the gene-specific fold change (x-position) and -log(p-value) (y-position). Signatures were computed using the R package [limma](https://bioconductor.org/packages/release/bioc/html/limma.html). Fold changes are quantile-normalized log2 fold change values. \n",
    "\n",
    "**Red** points indicate signatures where the fold change of the chosen gene was < 0, **blue** points indicate fold change > 0, and **gray** points indicate fold change == 0. Signatures where the specified gene was significantly expressed in either direction are denoted by darker color and larger point size. \n",
    "\n",
    "**Circle** points indicate bulk RNA-seq signatures, while **square** points indicate microarray signatures.\n",
    "\n",
    "Hover over any point to display the corresponding signature name, the p-value, and the fold change. \n",
    "\n",
    "Use the toolbar on the right side of the plot to pan, zoom, or save the plot."
   ]
  },
  {
   "cell_type": "code",
   "execution_count": null,
   "metadata": {},
   "outputs": [],
   "source": [
    "comb_df_input = combine_data(pval_rna_df, fc_rna_df, gene, isRNA=True, inst_df=inst_df_input)\n",
    "if micro_exists:\n",
    "    micro_df_input = combine_data(pval_micro_df, fc_micro_df, gene)\n",
    "else:\n",
    "    micro_df_input = None\n",
    "make_plot(comb_df_input, species, gene, micro=micro_exists, micro_df=micro_df_input)"
   ]
  },
  {
   "cell_type": "code",
   "execution_count": null,
   "metadata": {},
   "outputs": [],
   "source": [
    "# get GEO links \n",
    "def geo_link(sig_name, clickable):\n",
    "    gse_id = sig_name.split('_')[0].replace('* ', '')\n",
    "    geo_path = 'https://www.ncbi.nlm.nih.gov/geo/query/acc.cgi?acc='\n",
    "    if clickable:\n",
    "        return f'<a target=\"_blank\" href=\"{geo_path}{gse_id}\">{gse_id}</a>'\n",
    "    else:\n",
    "        return f'{geo_path}{gse_id}'\n",
    "\n",
    "def appyter_link(sig_name, clickable, inst=''):\n",
    "    text = f'Analysis of {sig_name}'\n",
    "    return f'<a target=\"_blank\" href=\"{inst}\">{text}</a>'\n",
    "\n",
    "# create tables of significant results with links to GEO \n",
    "def make_tables(comb_df, is_upreg, isRNA=False):\n",
    "    dir_df = comb_df[comb_df['fc'] > 0] if is_upreg else comb_df[comb_df['fc'] < 0]\n",
    "    if dir_df.shape[0] == 0:\n",
    "        return dir_df\n",
    "    dir_df = dir_df.drop(columns='logpv').sort_values(by='pval', ascending=True)\n",
    "    if isRNA:\n",
    "        dir_df['inst'] = dir_df.apply(lambda row: appyter_link(row.sig, clickable=True, inst=row.inst), axis=1)\n",
    "    dir_df['sig'] = dir_df.apply(lambda row: f\"* {row.sig}\" if row.pval < 0.05 else row.sig, axis=1)\n",
    "    dir_df['pval'] = dir_df['pval'].apply(lambda x: f'{x:.3e}')\n",
    "    dir_df['fc'] = dir_df['fc'].apply(lambda x: f'{x:.4f}')\n",
    "    if isRNA:\n",
    "        dir_df = dir_df.rename(columns={'sig': 'Signature', 'pval': 'P-value', 'fc': 'Log2 Fold Change', 'inst': 'Link to Bulk RNA-seq Analysis'})\n",
    "    else:\n",
    "        dir_df = dir_df.rename(columns={'sig': 'Signature', 'pval': 'P-value', 'fc': 'Log2 Fold Change'})\n",
    "    dir_df['Link to GEO Study'] = dir_df['Signature'].apply(geo_link, clickable=True)\n",
    "    return dir_df\n",
    "\n",
    "# create download link for table results\n",
    "def download_link(df, fname, isRNA=False):\n",
    "    if isRNA:\n",
    "        df['Link to Bulk RNA-seq Analysis'] = df['Link to Bulk RNA-seq Analysis'].apply(\n",
    "            lambda x: x.split('href=')[1].split('>')[0].replace('\"', '')\n",
    "        )\n",
    "    df['Link to GEO Study'] = df['Link to GEO Study'].apply(\n",
    "        lambda x: x.split('href=')[1].split('>')[0].replace('\"', '')\n",
    "    )\n",
    "    df['Signature'] = df['Signature'].apply(lambda x: x.replace('* ', ''))\n",
    "    csv = df.to_csv(fname, sep='\\t', index=False)\n",
    "    link = f'<div>Download full results: <a href=\"{fname}\" target=_blank>{fname}</a></div>'\n",
    "    return link"
   ]
  },
  {
   "cell_type": "markdown",
   "metadata": {},
   "source": [
    "The tables below show the top 10 signatures in which the gene of interest was up-regulated or down-regulated, respectively. Links are included to the original GEO studies, as well as to [Bulk RNA-seq Appyter](https://appyters.maayanlab.cloud/#/Bulk_RNA_seq) instances that display the results of performing RNA-seq analysis on the original expression data used to generate each signature."
   ]
  },
  {
   "cell_type": "code",
   "execution_count": null,
   "metadata": {},
   "outputs": [],
   "source": [
    "up_comb_df_input = make_tables(comb_df_input, is_upreg=True, isRNA=True)\n",
    "dn_comb_df_input = make_tables(comb_df_input, is_upreg=False, isRNA=True)\n",
    "if micro_exists:\n",
    "    up_micro_df_input = make_tables(micro_df_input, is_upreg=True)\n",
    "    dn_micro_df_input = make_tables(micro_df_input, is_upreg=False)"
   ]
  },
  {
   "cell_type": "code",
   "execution_count": null,
   "metadata": {},
   "outputs": [],
   "source": [
    "if has_syn:\n",
    "    display(HTML(f'<div style=\"font-size:1rem;padding=1rem;\"><b>Top {species} RNA-seq signatures where {gene} (synonym {input_gene}) is up-regulated</b></div>'))\n",
    "else:\n",
    "    display(HTML(f'<div style=\"font-size:1rem;padding=1rem;\"><b>Top {species} RNA-seq signatures where {gene} is up-regulated</b></div>'))\n",
    "display(HTML(f'<div>Asterisk (*) denotes significance (p < 0.05)</div>'))\n",
    "display(HTML(up_comb_df_input[:10].to_html(escape=False,index=False,col_space=70)))\n",
    "display(HTML(download_link(up_comb_df_input, f'{gene}_upreg_expression_{species}_T2D_signatures.tsv')))"
   ]
  },
  {
   "cell_type": "code",
   "execution_count": null,
   "metadata": {},
   "outputs": [],
   "source": [
    "if has_syn:\n",
    "    display(HTML(f'<div style=\"font-size:1rem;padding=1rem;\"><b>Top {species} RNA-seq signatures where {gene} (synonym {input_gene}) is down-regulated</b></div>'))\n",
    "else:\n",
    "    display(HTML(f'<div style=\"font-size:1rem;padding=1rem;\"><b>Top {species} RNA-seq signatures where {gene} is down-regulated</b></div>'))\n",
    "display(HTML(f'<div>Asterisk (*) denotes significance (p < 0.05)</div>'))\n",
    "display(HTML(dn_comb_df_input[:10].to_html(escape=False,index=False,col_space=70)))\n",
    "display(HTML(download_link(dn_comb_df_input, f'{gene}_downreg_expression_{species}_T2D_signatures.tsv')))"
   ]
  },
  {
   "cell_type": "code",
   "execution_count": null,
   "metadata": {},
   "outputs": [],
   "source": [
    "if micro_exists:\n",
    "    if has_syn:\n",
    "        display(HTML(f'<div style=\"font-size:1rem;padding=1rem;\"><b>Top {species} microarray signatures where {gene} (synonym {input_gene}) is up-regulated</b></div>'))\n",
    "    else:\n",
    "        display(HTML(f'<div style=\"font-size:1rem;padding=1rem;\"><b>Top {species} microarray signatures where {gene} is up-regulated</b></div>'))\n",
    "    display(HTML(f'<div>Asterisk (*) denotes significance (p < 0.05)</div>'))\n",
    "    display(HTML(up_micro_df_input[:10].to_html(escape=False,index=False,col_space=70)))\n",
    "    display(HTML(download_link(up_micro_df_input, f'{gene}_upreg_microarray_{species}_T2D_signatures.tsv')))\n",
    "else:\n",
    "    display(HTML(f'<div style=\"font-size:1rem;padding=1rem;\"><b>There are no {species} microarray signatures in which {gene} is up-regulated</b></div>'))"
   ]
  },
  {
   "cell_type": "code",
   "execution_count": null,
   "metadata": {},
   "outputs": [],
   "source": [
    "if micro_exists:\n",
    "    if has_syn:\n",
    "        display(HTML(f'<div style=\"font-size:1rem;padding=1rem;\"><b>Top {species} microarray signatures where {gene} (synonym {input_gene}) is down-regulated</b></div>'))\n",
    "    else:\n",
    "        display(HTML(f'<div style=\"font-size:1rem;padding=1rem;\"><b>Top {species} microarray signatures where {gene} is down-regulated</b></div>'))\n",
    "    display(HTML(f'<div>Asterisk (*) denotes significance (p < 0.05)</div>'))\n",
    "    display(HTML(dn_micro_df_input[:10].to_html(escape=False,index=False,col_space=70)))\n",
    "    display(HTML(download_link(dn_micro_df_input, f'{gene}_downreg_microarray_{species}_T2D_signatures.tsv')))\n",
    "else:\n",
    "    display(HTML(f'<div style=\"font-size:1rem;padding=1rem;\"><b>There are no {species} microarray signatures in which {gene} is down-regulated</b></div>'))"
   ]
  },
  {
   "cell_type": "code",
   "execution_count": null,
   "metadata": {},
   "outputs": [],
   "source": [
    "alt_species = 'mouse' if species == 'human' else 'human'\n",
    "# get all gene symbols and find overlapping genes\n",
    "with requests.get(f\"{root_path}{alt_species}_sig_genes.txt\") as r:\n",
    "    alt_sig_genes = r.text.split('\\n')\n",
    "overlapping_genes = list(set([x.upper() for x in sig_genes]).intersection(set([y.upper() for y in alt_sig_genes])))\n",
    "is_overlap = gene.upper() in overlapping_genes\n",
    "alt_gene = gene.upper() if species == 'mouse' else gene.lower().capitalize()"
   ]
  },
  {
   "cell_type": "code",
   "execution_count": null,
   "metadata": {},
   "outputs": [],
   "source": [
    "if is_overlap:\n",
    "    display(Markdown(f\"## {alt_species.capitalize()} T2D-Related Expression Studies\"))\n",
    "    display(Markdown(f\"The volcano plot and results tables below are generated from signatures from the species not chosen in the input form, in the case that the chosen gene overlaps between mouse and human species.\"))\n",
    "    display(HTML(f'<div style=\"font-size:1rem;padding=1rem 0;\">Corresponding {alt_species} gene: <b>{alt_gene}</b>.</div>'))"
   ]
  },
  {
   "cell_type": "code",
   "execution_count": null,
   "metadata": {},
   "outputs": [],
   "source": [
    "if is_overlap:\n",
    "    pval_df_alt = pd.read_feather(f\"{root_path}all_{alt_species}_pval.f\", columns=['index', alt_gene]).set_index('index')\n",
    "    fc_df_alt = pd.read_feather(f\"{root_path}all_{alt_species}_fc.f\", columns=['index', alt_gene]).set_index('index')\n",
    "    inst_df_alt = pd.read_csv(f\"{root_path}{alt_species}_instances.tsv\", sep='\\t', index_col=0)\n",
    "    \n",
    "    micro_pval_alt = pd.read_feather(f\"{root_path}{alt_species}_pruned_affy_pv.f\", columns=['index', alt_gene]).set_index('index')\n",
    "    micro_fc_alt = pd.read_feather(f\"{root_path}{alt_species}_pruned_affy_fc.f\", columns=['index', alt_gene]).set_index('index')\n",
    "\n",
    "    alt_comb_df = combine_data(pval_df_alt, fc_df_alt, alt_gene, isRNA=True, inst_df=inst_df_alt)\n",
    "    alt_micro_df = combine_data(micro_pval_alt, micro_fc_alt, alt_gene)\n",
    "    make_plot(alt_comb_df, alt_species, alt_gene, micro=micro_exists, micro_df=alt_micro_df)\n"
   ]
  },
  {
   "cell_type": "code",
   "execution_count": null,
   "metadata": {},
   "outputs": [],
   "source": [
    "if is_overlap:\n",
    "    up_alt_comb_df = make_tables(alt_comb_df, is_upreg=True, isRNA=True)\n",
    "    display(HTML(f'<div style=\"font-size:1rem;padding=1rem 0;\"><b>Top {alt_species} RNA-seq signatures where {alt_gene} is up-regulated</b></div>'))\n",
    "    display(HTML(f'<div>Asterisk (*) denotes significance (p < 0.05)</div>'))\n",
    "    display(HTML(up_alt_comb_df[:10].to_html(escape=False,index=False,col_space=70)))\n",
    "    display(HTML(download_link(up_alt_comb_df, f'{alt_gene}_upreg_expression_{alt_species}_T2D_signatures.tsv')))"
   ]
  },
  {
   "cell_type": "code",
   "execution_count": null,
   "metadata": {},
   "outputs": [],
   "source": [
    "if is_overlap:\n",
    "    dn_alt_comb_df = make_tables(alt_comb_df, is_upreg=False, isRNA=True)\n",
    "    display(HTML(f'<div style=\"font-size:1rem;padding=1rem 0;\"><b>Top {alt_species} RNA-seq signatures where {alt_gene} is down-regulated</b></div>'))\n",
    "    display(HTML(f'<div>Asterisk (*) denotes significance (p < 0.05)</div>'))\n",
    "    display(HTML(dn_alt_comb_df[:10].to_html(escape=False,index=False,col_space=70)))\n",
    "    display(HTML(download_link(dn_alt_comb_df, f'{alt_gene}_downreg_expression_{alt_species}_T2D_signatures.tsv')))"
   ]
  },
  {
   "cell_type": "code",
   "execution_count": null,
   "metadata": {},
   "outputs": [],
   "source": [
    "if is_overlap:\n",
    "    if micro_exists:\n",
    "        up_alt_micro_df = make_tables(alt_micro_df, is_upreg=True)\n",
    "        display(HTML(f'<div style=\"font-size:1rem;padding=1rem 0;\"><b>Top {alt_species} microarray signatures where {alt_gene} is up-regulated</b></div>'))\n",
    "        display(HTML(f'<div>Asterisk (*) denotes significance (p < 0.05)</div>'))\n",
    "        display(HTML(up_alt_micro_df[:10].to_html(escape=False,index=False,col_space=70)))\n",
    "        display(HTML(download_link(up_alt_micro_df, f'{alt_gene}_upreg_microarray_{alt_species}_T2D_signatures.tsv')))\n",
    "    else:\n",
    "        display(HTML(f'<div style=\"font-size:1rem;padding=1rem;\"><b>There are no {alt_species} microarray signatures in which {alt_gene} is up-regulated</b></div>'))"
   ]
  },
  {
   "cell_type": "code",
   "execution_count": null,
   "metadata": {},
   "outputs": [],
   "source": [
    "if is_overlap:\n",
    "    if micro_exists:\n",
    "        dn_alt_micro_df = make_tables(alt_micro_df, is_upreg=False)\n",
    "        display(HTML(f'<div style=\"font-size:1rem;padding=1rem 0;\"><b>Top {alt_species} microarray signatures where {alt_gene} is down-regulated</b></div>'))\n",
    "        display(HTML(f'<div>Asterisk (*) denotes significance (p < 0.05)</div>'))\n",
    "        display(HTML(dn_alt_micro_df[:10].to_html(escape=False,index=False,col_space=70)))\n",
    "        display(HTML(download_link(dn_alt_micro_df, f'{alt_gene}_downreg_microarray_{alt_species}_T2D_signatures.tsv')))\n",
    "    else:\n",
    "        display(HTML(f'<div style=\"font-size:1rem;padding=1rem;\"><b>There are no {alt_species} microarray signatures in which {alt_gene} is down-regulated</b></div>'))"
   ]
  },
  {
   "cell_type": "code",
   "execution_count": null,
   "metadata": {},
   "outputs": [],
   "source": [
    "if not is_overlap:\n",
    "    display(HTML(f'<div style=\"font-size:1rem;padding=1rem 0;\">Corresponding gene not found in {alt_species}.</div>'))"
   ]
  }
 ],
 "metadata": {
  "interpreter": {
   "hash": "fbf00f1e36f78770a5a143a77489862bb2f9421629c90fd326651450aedc6520"
  },
  "kernelspec": {
   "display_name": "Python 3.9.6 64-bit ('t2d-venv': venv)",
   "name": "python3"
  },
  "language_info": {
   "codemirror_mode": {
    "name": "ipython",
    "version": 3
   },
   "file_extension": ".py",
   "mimetype": "text/x-python",
   "name": "python",
   "nbconvert_exporter": "python",
   "pygments_lexer": "ipython3",
   "version": "3.9.6"
  }
 },
 "nbformat": 4,
 "nbformat_minor": 2
}
