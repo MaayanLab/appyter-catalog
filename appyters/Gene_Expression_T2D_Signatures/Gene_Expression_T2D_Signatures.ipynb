{
 "cells": [
  {
   "cell_type": "code",
   "execution_count": null,
   "metadata": {},
   "outputs": [],
   "source": [
    "#%%appyter init\n",
    "from appyter import magic\n",
    "magic.init(lambda _=globals: _())"
   ]
  },
  {
   "cell_type": "code",
   "execution_count": null,
   "metadata": {},
   "outputs": [],
   "source": [
    "# imports\n",
    "import numpy as np\n",
    "import pandas as pd\n",
    "import matplotlib.cm as cm\n",
    "import matplotlib.colors as colors\n",
    "from IPython.display import HTML\n",
    "import requests\n",
    "\n",
    "# bokeh\n",
    "from bokeh.io import output_notebook\n",
    "from bokeh.plotting import figure, show\n",
    "from bokeh.models import HoverTool, ColumnDataSource\n",
    "\n",
    "# display graphics\n",
    "output_notebook()"
   ]
  },
  {
   "cell_type": "code",
   "execution_count": null,
   "metadata": {},
   "outputs": [],
   "source": [
    "%%appyter hide\n",
    "{% do SectionField(\n",
    "    name = 'INPUT',\n",
    "    title = 'Input Parameters',\n",
    "    subtitle = 'Fill in the species and gene of interest',\n",
    "    img = 'mini_plot.png'\n",
    ")%}"
   ]
  },
  {
   "cell_type": "code",
   "execution_count": null,
   "metadata": {},
   "outputs": [],
   "source": [
    "%%appyter code_exec\n",
    "{% set species_input = TabField(\n",
    "    name = 'species_input',\n",
    "    label = 'Species of Interest',\n",
    "    default = 'Human',\n",
    "    description = 'Select the species of interest.',\n",
    "    section = 'INPUT',\n",
    "    choices = {\n",
    "        'Human': [\n",
    "            AutocompleteField(\n",
    "                name = 'human_gene',\n",
    "                label = 'Human Gene of Interest',\n",
    "                default = 'SLC2A2',\n",
    "                description = 'Enter the gene symbol of interest (human).',\n",
    "                file_path = 'https://appyters.maayanlab.cloud/storage/Gene_Expression_T2D_Signatures/human_genes.json'\n",
    "            )\n",
    "        ],\n",
    "        'Mouse': [\n",
    "            AutocompleteField(\n",
    "                name = 'mouse_gene',\n",
    "                label = 'Mouse Gene of Interest',\n",
    "                default = 'CD29',\n",
    "                description = 'Enter the gene symbol of interest (mouse).',\n",
    "                file_path = 'https://appyters.maayanlab.cloud/storage/Gene_Expression_T2D_Signatures/mouse_genes.json'\n",
    "            )\n",
    "        ]\n",
    "    }\n",
    ")%}"
   ]
  },
  {
   "cell_type": "code",
   "execution_count": null,
   "metadata": {},
   "outputs": [],
   "source": [
    "%%appyter code_exec\n",
    "species = \"{{ species_input.raw_value }}\"\n",
    "gene = {{ species_input.value[0] }}\n",
    "input_gene = {{ species_input.value[0] }}"
   ]
  },
  {
   "cell_type": "markdown",
   "metadata": {},
   "source": [
    "# My Gene's Expression in Type 2 Diabetes Transcriptomics Signatures"
   ]
  },
  {
   "cell_type": "code",
   "execution_count": null,
   "metadata": {},
   "outputs": [],
   "source": [
    "# import preprocessed signature data\n",
    "root_path = 'https://appyters.maayanlab.cloud/storage/Gene_Expression_T2D_Signatures/'\n",
    "# p-values\n",
    "pval_df_input = pd.read_csv(root_path + f\"all_{species.lower()}_pval.tsv\", sep='\\t', index_col=0)\n",
    "# fold change\n",
    "fc_df_input = pd.read_csv(root_path + f\"all_{species.lower()}_fc.tsv\", sep='\\t', index_col=0)\n",
    "# Bulk RNA-seq Appyter analysis instances\n",
    "inst_df_input = pd.read_csv(root_path + f\"{species.lower()}_instances.tsv\", sep='\\t', index_col=0)"
   ]
  },
  {
   "cell_type": "code",
   "execution_count": null,
   "metadata": {},
   "outputs": [],
   "source": [
    "# standardize gene format\n",
    "if species == \"Human\":\n",
    "    gene = gene.upper().replace('-','')\n",
    "    input_gene = input_gene.upper().replace('-','')\n",
    "\n",
    "# store if synonym was used\n",
    "has_syn = False\n",
    "\n",
    "# obtain all gene symbols in signature\n",
    "sig_genes = pval_df_input.index.tolist()\n",
    "\n",
    "# find gene synonym, if necessary\n",
    "if gene not in sig_genes:\n",
    "    gene_info = {\n",
    "        'Human': 'ftp://ftp.ncbi.nih.gov/gene/DATA/GENE_INFO/Mammalia/Homo_sapiens.gene_info.gz',\n",
    "        'Mouse': 'ftp://ftp.ncbi.nih.gov/gene/DATA/GENE_INFO/Mammalia/Mus_musculus.gene_info.gz'\n",
    "    }\n",
    "    gene_df = pd.read_csv(gene_info[species], sep='\\t', compression='gzip')[['Symbol', 'Synonyms']]\n",
    "    gene_map_ind = []\n",
    "    gene_map_val = []\n",
    "    for row in gene_df.itertuples():\n",
    "        if row.Synonyms != '-':\n",
    "            syns = row.Synonyms.split('|')\n",
    "            for syn in syns:\n",
    "                syn = syn.split(':')[1] if syn.find(':') != -1 else syn\n",
    "                gene_map_ind.append(syn)\n",
    "                gene_map_val.append(row.Symbol)\n",
    "    gene_map = pd.DataFrame.from_records(\n",
    "        zip(gene_map_ind, gene_map_val), \n",
    "        columns=['synonym', 'symbol']\n",
    "    ).set_index('synonym')\n",
    "    syn_counts = gene_map.index.value_counts()\n",
    "    gene_map = gene_map.drop(syn_counts[syn_counts > 1].index)\n",
    "    try:\n",
    "        gene = gene_map.loc[input_gene, 'symbol']\n",
    "        has_syn = True\n",
    "        display(HTML(f\"<div style='font-size:1rem;padding:1rem 0;'>{input_gene} not in signature data, using gene synonym <b>{gene}</b>.</div>\"))\n",
    "    except:\n",
    "        display(HTML(f\"<div style='font-size:1rem;padding:1rem 0;'>{input_gene} not found in signature data and no synonyms found either. Please check your spelling, or try again later with a synonym.\"))\n",
    "        has_syn = None"
   ]
  },
  {
   "cell_type": "code",
   "execution_count": null,
   "metadata": {},
   "outputs": [],
   "source": [
    "# configure color scheme\n",
    "red_map = cm.get_cmap('Reds_r')\n",
    "red_norm = colors.Normalize(vmin=-0.25, vmax=1)\n",
    "blue_map = cm.get_cmap('Blues_r')\n",
    "blue_norm = colors.Normalize(vmin=-0.25, vmax=1)\n",
    "\n",
    "def map_color(fc, pv):\n",
    "    if fc < 0:\n",
    "        return colors.to_hex(red_map(red_norm(pv)))\n",
    "    elif fc == 0:\n",
    "        return '#808080'\n",
    "    else:\n",
    "        return colors.to_hex(blue_map(blue_norm(pv)))"
   ]
  },
  {
   "cell_type": "code",
   "execution_count": null,
   "metadata": {},
   "outputs": [],
   "source": [
    "def combine_data(pval_df, fc_df, inst_df, gene):\n",
    "    # extract and combine data for each gene\n",
    "    comb_df = pd.DataFrame()\n",
    "    comb_df['sig'] = pval_df.columns.tolist()\n",
    "    comb_df['pval'] = pval_df.loc[gene].tolist()\n",
    "    comb_df['logpv'] = np.negative(np.log10(comb_df['pval']))\n",
    "    comb_df['fc'] = fc_df.loc[gene].tolist()\n",
    "    comb_df['inst'] = comb_df['sig'].apply(lambda x: inst_df.loc[x, 'session_id'])\n",
    "    return comb_df\n",
    "\n",
    "def make_plot(comb_df, species, gene):\n",
    "    # create links from Bulk RNA-seq Appyter instance session IDs\n",
    "    comb_df['inst'] = comb_df['inst'].apply(lambda x: f'https://appyters.maayanlab.cloud/Bulk_RNA_seq/{x}')\n",
    "\n",
    "    # set color and size for each point on plot\n",
    "    plot_colors = [map_color(r.fc, r.pval) for r in comb_df.itertuples()]\n",
    "    sizes = [12 if r.pval < 0.05 else 6 for r in comb_df.itertuples()]\n",
    "\n",
    "    # generate data source\n",
    "    data_source = ColumnDataSource(\n",
    "        data=dict(\n",
    "            x = comb_df['fc'],\n",
    "            y = comb_df['logpv'],\n",
    "            sig = comb_df['sig'],\n",
    "            pval = comb_df['pval'], \n",
    "            fc = comb_df['fc'], \n",
    "            inst = comb_df['inst'],\n",
    "            colors = plot_colors, \n",
    "            sizes = sizes\n",
    "        )\n",
    "    )\n",
    "    # create hover tooltip\n",
    "    tools = [\n",
    "        (\"Signature\", \"@sig\"),\n",
    "        (\"P-Value\", \"@pval\"),\n",
    "        (\"Fold Change\", \"@fc\"),\n",
    "        (\"Bulk RNA-seq Analysis\", \"@inst\")\n",
    "    ]\n",
    "    # generate plot and relevant plot labels\n",
    "    plot = figure(\n",
    "        plot_width=700,\n",
    "        plot_height=500,\n",
    "        tooltips=tools\n",
    "    )\n",
    "    plot.circle(\n",
    "        'x', 'y', \n",
    "        size='sizes',\n",
    "        alpha=0.7, \n",
    "        line_alpha=0,\n",
    "        line_width=0.01, \n",
    "        source=data_source,\n",
    "        fill_color='colors', \n",
    "        name=f'{gene}_t2d_expression_volcano_plot'\n",
    "    )\n",
    "    plot.xaxis.axis_label = 'Fold Change'\n",
    "    plot.yaxis.axis_label = '-log10(P-value)'\n",
    "    plot.title.text = f\"Differential Expression of {gene} in {species} Type 2 Diabetes Transcriptomics Signatures\"\n",
    "    plot.title.align = 'center'\n",
    "    plot.title.text_font_size = '14px'\n",
    "\n",
    "    show(plot)"
   ]
  },
  {
   "cell_type": "markdown",
   "metadata": {},
   "source": [
    "The volcano plot below positions each of the Type 2 Diabetes signatures according to the gene-specific fold change (x-position) and -log(p-value) (y-position). Signatures were computed using the R package [limma](https://bioconductor.org/packages/release/bioc/html/limma.html). Fold changes are quantile-normalized log2 fold change values. \n",
    "\n",
    "**Red** points indicate signatures where the fold change of the chosen gene was < 0, **blue** points indicate fold change > 0, and **gray** points indicate fold change == 0. Signatures where the specified gene was significantly expressed in either direction are denoted by darker color and larger point size. \n",
    "\n",
    "Hover over any point to display the corresponding signature name, the p-value, and the fold change. \n",
    "\n",
    "Use the toolbar on the right side of the plot to pan, zoom, or save the plot."
   ]
  },
  {
   "cell_type": "code",
   "execution_count": null,
   "metadata": {},
   "outputs": [],
   "source": [
    "if has_syn != None:\n",
    "    comb_df_input = combine_data(pval_df_input, fc_df_input, inst_df_input, gene)\n",
    "    make_plot(comb_df_input, species, gene)"
   ]
  },
  {
   "cell_type": "code",
   "execution_count": null,
   "metadata": {},
   "outputs": [],
   "source": [
    "# get GEO links \n",
    "def geo_link(sig_name):\n",
    "    gse_id = sig_name.split('_')[0].replace('* ', '')\n",
    "    geo_path = 'https://www.ncbi.nlm.nih.gov/geo/query/acc.cgi?acc='\n",
    "    return f'<a target=\"_blank\" href=\"{geo_path}{gse_id}\">{gse_id}</a>'\n",
    "\n",
    "def appyter_link(sig_name, inst):\n",
    "    text = f'Analysis of {sig_name}'\n",
    "    return f'<a target=\"_blank\" href=\"{inst}\">{text}</a>'\n",
    "\n",
    "# create tables of significant results with links to GEO \n",
    "def make_tables(comb_df):\n",
    "    up_comb_df = comb_df[comb_df['fc'] > 0].sort_values(by='pval', ascending=True)[:10]\n",
    "    up_comb_df = up_comb_df.drop(columns='logpv')\n",
    "    up_comb_df['inst'] = up_comb_df.apply(lambda row: appyter_link(row.sig, row.inst), axis=1)\n",
    "    up_comb_df['sig'] = up_comb_df.apply(lambda row: f\"* {row.sig}\" if row.pval < 0.05 else row.sig, axis=1)\n",
    "    up_comb_df = up_comb_df.rename(columns={'sig': 'Signature', 'pval': 'P-value', 'fc': 'Log2 Fold Change', 'inst': 'Link to Bulk RNA-seq Analysis'})\n",
    "    up_comb_df['Link to GEO Study'] = up_comb_df['Signature'].apply(geo_link)\n",
    "\n",
    "    dn_comb_df = comb_df[comb_df['fc'] < 0].sort_values(by='pval', ascending=True)[:10]\n",
    "    dn_comb_df = dn_comb_df.drop(columns='logpv')\n",
    "    dn_comb_df['inst'] = dn_comb_df.apply(lambda row: appyter_link(row.sig, row.inst), axis=1)\n",
    "    dn_comb_df['sig'] = dn_comb_df.apply(lambda row: f\"* {row.sig}\" if row.pval < 0.05 else row.sig, axis=1)\n",
    "    dn_comb_df = dn_comb_df.rename(columns={'sig': 'Signature', 'pval': 'P-value', 'fc': 'Log2 Fold Change', 'inst': 'Link to Analysis'})\n",
    "    dn_comb_df['Link to GEO Study'] = dn_comb_df['Signature'].apply(geo_link)\n",
    "\n",
    "    return (up_comb_df, dn_comb_df)"
   ]
  },
  {
   "cell_type": "markdown",
   "metadata": {},
   "source": [
    "The tables below show the top 10 signatures in which the gene of interest was up-regulated or down-regulated, respectively. Links are included to the original GEO studies, as well as to [Bulk RNA-seq Appyter](https://appyters.maayanlab.cloud/#/Bulk_RNA_seq) instances that display the results of performing RNA-seq analysis on the original expression data used to generate each signature."
   ]
  },
  {
   "cell_type": "code",
   "execution_count": null,
   "metadata": {},
   "outputs": [],
   "source": [
    "up_comb_df_input, dn_comb_df_input = make_tables(comb_df_input)"
   ]
  },
  {
   "cell_type": "code",
   "execution_count": null,
   "metadata": {},
   "outputs": [],
   "source": [
    "if has_syn != None:\n",
    "    if has_syn:\n",
    "        display(HTML(f'<div style=\"font-size:1rem;padding=1rem;\"><b>Top 10 {species} signatures where {gene} (synonym {input_gene}) is up-regulated</b></div>'))\n",
    "    else:\n",
    "        display(HTML(f'<div style=\"font-size:1rem;padding=1rem;\"><b>Top 10 {species} signatures where {gene} is up-regulated</b></div>'))\n",
    "    display(HTML(f'<div>Asterisk (*) denotes significance (p < 0.05)</div>'))\n",
    "    display(HTML(up_comb_df_input.to_html(escape=False,index=False)))"
   ]
  },
  {
   "cell_type": "code",
   "execution_count": null,
   "metadata": {},
   "outputs": [],
   "source": [
    "if has_syn != None:\n",
    "    if has_syn:\n",
    "        display(HTML(f'<div style=\"font-size:1rem;padding=1rem;\"><b>Top 10 {species} signatures where {gene} (synonym {input_gene}) is down-regulated</b></div>'))\n",
    "    else:\n",
    "        display(HTML(f'<div style=\"font-size:1rem;padding=1rem;\"><b>Top 10 {species} signatures where {gene} is down-regulated</b></div>'))\n",
    "    display(HTML(f'<div>Asterisk (*) denotes significance (p < 0.05)</div>'))\n",
    "    display(HTML(dn_comb_df_input.to_html(escape=False,index=False)))"
   ]
  },
  {
   "cell_type": "markdown",
   "metadata": {},
   "source": [
    "# Alternate Species Analysis\n",
    "\n",
    "If the chosen gene overlaps between mouse and human species, the volcano plot and results tables will be generated below for signatures from the species not chosen in the input form. "
   ]
  },
  {
   "cell_type": "code",
   "execution_count": null,
   "metadata": {},
   "outputs": [],
   "source": [
    "# get all gene symbols and find overlapping genes\n",
    "human_genes = requests.get('https://appyters.maayanlab.cloud/storage/Gene_Expression_T2D_Signatures/human_genes.json').json()['human_genes']\n",
    "mouse_genes = requests.get('https://appyters.maayanlab.cloud/storage/Gene_Expression_T2D_Signatures/mouse_genes.json').json()['mouse_genes']\n",
    "# convert mouse_genes to uppercase\n",
    "mouse_genes_upper = [g.upper() for g in mouse_genes]\n",
    "overlapping_genes = list(set(human_genes).intersection(set(mouse_genes_upper)))"
   ]
  },
  {
   "cell_type": "code",
   "execution_count": null,
   "metadata": {},
   "outputs": [],
   "source": [
    "is_overlap = gene.upper() in overlapping_genes\n",
    "alt_species = 'Mouse' if species == 'Human' else 'Human'\n",
    "alt_gene = gene.upper() if species == 'Mouse' else gene.lower().capitalize()\n",
    "\n",
    "if is_overlap:\n",
    "    display(HTML(f'<div style=\"font-size:1rem;padding=1rem 0;\">Corresponding gene in {alt_species}: <b>{alt_gene}</b>.</div>'))"
   ]
  },
  {
   "cell_type": "code",
   "execution_count": null,
   "metadata": {},
   "outputs": [],
   "source": [
    "if is_overlap:\n",
    "    pval_df_alt = pd.read_csv(root_path + f\"all_{alt_species.lower()}_pval.tsv\", sep='\\t', index_col=0)\n",
    "    fc_df_alt = pd.read_csv(root_path + f\"all_{alt_species.lower()}_fc.tsv\", sep='\\t', index_col=0)\n",
    "    inst_df_alt = pd.read_csv(root_path + f\"{alt_species.lower()}_instances.tsv\", sep='\\t', index_col=0)\n",
    "\n",
    "    comb_df_alt = combine_data(pval_df_alt, fc_df_alt, inst_df_alt, alt_gene)\n",
    "    make_plot(comb_df_alt, alt_species, alt_gene)"
   ]
  },
  {
   "cell_type": "code",
   "execution_count": null,
   "metadata": {},
   "outputs": [],
   "source": [
    "if is_overlap:\n",
    "    up_comb_df_alt, dn_comb_df_alt = make_tables(comb_df_alt)"
   ]
  },
  {
   "cell_type": "code",
   "execution_count": null,
   "metadata": {},
   "outputs": [],
   "source": [
    "if is_overlap:\n",
    "    display(HTML(f'<div style=\"font-size:1rem;padding=1rem 0;\"><b>Top 10 {alt_species} signatures where {alt_gene} is up-regulated</b></div>'))\n",
    "    display(HTML(f'<div>Asterisk (*) denotes significance (p < 0.05)</div>'))\n",
    "    display(HTML(up_comb_df_alt.to_html(escape=False,index=False)))"
   ]
  },
  {
   "cell_type": "code",
   "execution_count": null,
   "metadata": {},
   "outputs": [],
   "source": [
    "if is_overlap:\n",
    "    display(HTML(f'<div style=\"font-size:1rem;padding=1rem 0;\"><b>Top 10 {alt_species} signatures where {alt_gene} is down-regulated</b></div>'))\n",
    "    display(HTML(f'<div>Asterisk (*) denotes significance (p < 0.05)</div>'))\n",
    "    display(HTML(dn_comb_df_alt.to_html(escape=False,index=False)))"
   ]
  },
  {
   "cell_type": "code",
   "execution_count": null,
   "metadata": {},
   "outputs": [],
   "source": [
    "if not is_overlap:\n",
    "    display(HTML(f'<div style=\"font-size:1rem;padding=1rem 0;\">Corresponding gene not found in {alt_species}.</div>'))"
   ]
  },
  {
   "cell_type": "code",
   "execution_count": null,
   "metadata": {},
   "outputs": [],
   "source": []
  }
 ],
 "metadata": {
  "kernelspec": {
   "display_name": "Python 3.8.8 64-bit ('base': conda)",
   "name": "python388jvsc74a57bd02243673956f33393fa53b436ca581bafd2b24bf8fac3c56efa4c7733fa66017b"
  },
  "language_info": {
   "codemirror_mode": {
    "name": "ipython",
    "version": 3
   },
   "file_extension": ".py",
   "mimetype": "text/x-python",
   "name": "python",
   "nbconvert_exporter": "python",
   "pygments_lexer": "ipython3",
   "version": "3.8.8-final"
  }
 },
 "nbformat": 4,
 "nbformat_minor": 2
}
