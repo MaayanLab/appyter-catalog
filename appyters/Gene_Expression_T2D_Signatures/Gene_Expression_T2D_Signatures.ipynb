{
 "cells": [
  {
   "cell_type": "code",
   "execution_count": 1,
   "source": [
    "#%%appyter init\n",
    "from appyter import magic\n",
    "magic.init(lambda _=globals: _())"
   ],
   "outputs": [],
   "metadata": {}
  },
  {
   "cell_type": "code",
   "execution_count": 2,
   "source": [
    "# imports\n",
    "import numpy as np\n",
    "import pandas as pd\n",
    "import matplotlib.cm as cm\n",
    "import matplotlib.colors as colors\n",
    "from IPython.display import HTML, Markdown\n",
    "import requests\n",
    "\n",
    "# bokeh\n",
    "from bokeh.io import output_notebook\n",
    "from bokeh.plotting import figure, show\n",
    "from bokeh.models import HoverTool, ColumnDataSource\n",
    "\n",
    "# display graphics\n",
    "output_notebook()"
   ],
   "outputs": [
    {
     "output_type": "display_data",
     "data": {
      "text/html": [
       "\n",
       "    <div class=\"bk-root\">\n",
       "        <a href=\"https://bokeh.org\" target=\"_blank\" class=\"bk-logo bk-logo-small bk-logo-notebook\"></a>\n",
       "        <span id=\"1002\">Loading BokehJS ...</span>\n",
       "    </div>"
      ]
     },
     "metadata": {}
    },
    {
     "output_type": "display_data",
     "data": {
      "application/vnd.bokehjs_load.v0+json": "",
      "application/javascript": "\n(function(root) {\n  function now() {\n    return new Date();\n  }\n\n  var force = true;\n\n  if (typeof root._bokeh_onload_callbacks === \"undefined\" || force === true) {\n    root._bokeh_onload_callbacks = [];\n    root._bokeh_is_loading = undefined;\n  }\n\n  var JS_MIME_TYPE = 'application/javascript';\n  var HTML_MIME_TYPE = 'text/html';\n  var EXEC_MIME_TYPE = 'application/vnd.bokehjs_exec.v0+json';\n  var CLASS_NAME = 'output_bokeh rendered_html';\n\n  /**\n   * Render data to the DOM node\n   */\n  function render(props, node) {\n    var script = document.createElement(\"script\");\n    node.appendChild(script);\n  }\n\n  /**\n   * Handle when an output is cleared or removed\n   */\n  function handleClearOutput(event, handle) {\n    var cell = handle.cell;\n\n    var id = cell.output_area._bokeh_element_id;\n    var server_id = cell.output_area._bokeh_server_id;\n    // Clean up Bokeh references\n    if (id != null && id in Bokeh.index) {\n      Bokeh.index[id].model.document.clear();\n      delete Bokeh.index[id];\n    }\n\n    if (server_id !== undefined) {\n      // Clean up Bokeh references\n      var cmd = \"from bokeh.io.state import curstate; print(curstate().uuid_to_server['\" + server_id + \"'].get_sessions()[0].document.roots[0]._id)\";\n      cell.notebook.kernel.execute(cmd, {\n        iopub: {\n          output: function(msg) {\n            var id = msg.content.text.trim();\n            if (id in Bokeh.index) {\n              Bokeh.index[id].model.document.clear();\n              delete Bokeh.index[id];\n            }\n          }\n        }\n      });\n      // Destroy server and session\n      var cmd = \"import bokeh.io.notebook as ion; ion.destroy_server('\" + server_id + \"')\";\n      cell.notebook.kernel.execute(cmd);\n    }\n  }\n\n  /**\n   * Handle when a new output is added\n   */\n  function handleAddOutput(event, handle) {\n    var output_area = handle.output_area;\n    var output = handle.output;\n\n    // limit handleAddOutput to display_data with EXEC_MIME_TYPE content only\n    if ((output.output_type != \"display_data\") || (!Object.prototype.hasOwnProperty.call(output.data, EXEC_MIME_TYPE))) {\n      return\n    }\n\n    var toinsert = output_area.element.find(\".\" + CLASS_NAME.split(' ')[0]);\n\n    if (output.metadata[EXEC_MIME_TYPE][\"id\"] !== undefined) {\n      toinsert[toinsert.length - 1].firstChild.textContent = output.data[JS_MIME_TYPE];\n      // store reference to embed id on output_area\n      output_area._bokeh_element_id = output.metadata[EXEC_MIME_TYPE][\"id\"];\n    }\n    if (output.metadata[EXEC_MIME_TYPE][\"server_id\"] !== undefined) {\n      var bk_div = document.createElement(\"div\");\n      bk_div.innerHTML = output.data[HTML_MIME_TYPE];\n      var script_attrs = bk_div.children[0].attributes;\n      for (var i = 0; i < script_attrs.length; i++) {\n        toinsert[toinsert.length - 1].firstChild.setAttribute(script_attrs[i].name, script_attrs[i].value);\n        toinsert[toinsert.length - 1].firstChild.textContent = bk_div.children[0].textContent\n      }\n      // store reference to server id on output_area\n      output_area._bokeh_server_id = output.metadata[EXEC_MIME_TYPE][\"server_id\"];\n    }\n  }\n\n  function register_renderer(events, OutputArea) {\n\n    function append_mime(data, metadata, element) {\n      // create a DOM node to render to\n      var toinsert = this.create_output_subarea(\n        metadata,\n        CLASS_NAME,\n        EXEC_MIME_TYPE\n      );\n      this.keyboard_manager.register_events(toinsert);\n      // Render to node\n      var props = {data: data, metadata: metadata[EXEC_MIME_TYPE]};\n      render(props, toinsert[toinsert.length - 1]);\n      element.append(toinsert);\n      return toinsert\n    }\n\n    /* Handle when an output is cleared or removed */\n    events.on('clear_output.CodeCell', handleClearOutput);\n    events.on('delete.Cell', handleClearOutput);\n\n    /* Handle when a new output is added */\n    events.on('output_added.OutputArea', handleAddOutput);\n\n    /**\n     * Register the mime type and append_mime function with output_area\n     */\n    OutputArea.prototype.register_mime_type(EXEC_MIME_TYPE, append_mime, {\n      /* Is output safe? */\n      safe: true,\n      /* Index of renderer in `output_area.display_order` */\n      index: 0\n    });\n  }\n\n  // register the mime type if in Jupyter Notebook environment and previously unregistered\n  if (root.Jupyter !== undefined) {\n    var events = require('base/js/events');\n    var OutputArea = require('notebook/js/outputarea').OutputArea;\n\n    if (OutputArea.prototype.mime_types().indexOf(EXEC_MIME_TYPE) == -1) {\n      register_renderer(events, OutputArea);\n    }\n  }\n\n  \n  if (typeof (root._bokeh_timeout) === \"undefined\" || force === true) {\n    root._bokeh_timeout = Date.now() + 5000;\n    root._bokeh_failed_load = false;\n  }\n\n  var NB_LOAD_WARNING = {'data': {'text/html':\n     \"<div style='background-color: #fdd'>\\n\"+\n     \"<p>\\n\"+\n     \"BokehJS does not appear to have successfully loaded. If loading BokehJS from CDN, this \\n\"+\n     \"may be due to a slow or bad network connection. Possible fixes:\\n\"+\n     \"</p>\\n\"+\n     \"<ul>\\n\"+\n     \"<li>re-rerun `output_notebook()` to attempt to load from CDN again, or</li>\\n\"+\n     \"<li>use INLINE resources instead, as so:</li>\\n\"+\n     \"</ul>\\n\"+\n     \"<code>\\n\"+\n     \"from bokeh.resources import INLINE\\n\"+\n     \"output_notebook(resources=INLINE)\\n\"+\n     \"</code>\\n\"+\n     \"</div>\"}};\n\n  function display_loaded() {\n    var el = document.getElementById(\"1002\");\n    if (el != null) {\n      el.textContent = \"BokehJS is loading...\";\n    }\n    if (root.Bokeh !== undefined) {\n      if (el != null) {\n        el.textContent = \"BokehJS \" + root.Bokeh.version + \" successfully loaded.\";\n      }\n    } else if (Date.now() < root._bokeh_timeout) {\n      setTimeout(display_loaded, 100)\n    }\n  }\n\n\n  function run_callbacks() {\n    try {\n      root._bokeh_onload_callbacks.forEach(function(callback) {\n        if (callback != null)\n          callback();\n      });\n    } finally {\n      delete root._bokeh_onload_callbacks\n    }\n    console.debug(\"Bokeh: all callbacks have finished\");\n  }\n\n  function load_libs(css_urls, js_urls, callback) {\n    if (css_urls == null) css_urls = [];\n    if (js_urls == null) js_urls = [];\n\n    root._bokeh_onload_callbacks.push(callback);\n    if (root._bokeh_is_loading > 0) {\n      console.debug(\"Bokeh: BokehJS is being loaded, scheduling callback at\", now());\n      return null;\n    }\n    if (js_urls == null || js_urls.length === 0) {\n      run_callbacks();\n      return null;\n    }\n    console.debug(\"Bokeh: BokehJS not loaded, scheduling load and callback at\", now());\n    root._bokeh_is_loading = css_urls.length + js_urls.length;\n\n    function on_load() {\n      root._bokeh_is_loading--;\n      if (root._bokeh_is_loading === 0) {\n        console.debug(\"Bokeh: all BokehJS libraries/stylesheets loaded\");\n        run_callbacks()\n      }\n    }\n\n    function on_error(url) {\n      console.error(\"failed to load \" + url);\n    }\n\n    for (let i = 0; i < css_urls.length; i++) {\n      const url = css_urls[i];\n      const element = document.createElement(\"link\");\n      element.onload = on_load;\n      element.onerror = on_error.bind(null, url);\n      element.rel = \"stylesheet\";\n      element.type = \"text/css\";\n      element.href = url;\n      console.debug(\"Bokeh: injecting link tag for BokehJS stylesheet: \", url);\n      document.body.appendChild(element);\n    }\n\n    const hashes = {\"https://cdn.bokeh.org/bokeh/release/bokeh-2.3.2.min.js\": \"XypntL49z55iwGVUW4qsEu83zKL3XEcz0MjuGOQ9SlaaQ68X/g+k1FcioZi7oQAc\", \"https://cdn.bokeh.org/bokeh/release/bokeh-tables-2.3.2.min.js\": \"bEsM86IHGDTLCS0Zod8a8WM6Y4+lafAL/eSiyQcuPzinmWNgNO2/olUF0Z2Dkn5i\", \"https://cdn.bokeh.org/bokeh/release/bokeh-widgets-2.3.2.min.js\": \"TX0gSQTdXTTeScqxj6PVQxTiRW8DOoGVwinyi1D3kxv7wuxQ02XkOxv0xwiypcAH\"};\n\n    for (let i = 0; i < js_urls.length; i++) {\n      const url = js_urls[i];\n      const element = document.createElement('script');\n      element.onload = on_load;\n      element.onerror = on_error.bind(null, url);\n      element.async = false;\n      element.src = url;\n      if (url in hashes) {\n        element.crossOrigin = \"anonymous\";\n        element.integrity = \"sha384-\" + hashes[url];\n      }\n      console.debug(\"Bokeh: injecting script tag for BokehJS library: \", url);\n      document.head.appendChild(element);\n    }\n  };\n\n  function inject_raw_css(css) {\n    const element = document.createElement(\"style\");\n    element.appendChild(document.createTextNode(css));\n    document.body.appendChild(element);\n  }\n\n  \n  var js_urls = [\"https://cdn.bokeh.org/bokeh/release/bokeh-2.3.2.min.js\", \"https://cdn.bokeh.org/bokeh/release/bokeh-widgets-2.3.2.min.js\", \"https://cdn.bokeh.org/bokeh/release/bokeh-tables-2.3.2.min.js\"];\n  var css_urls = [];\n  \n\n  var inline_js = [\n    function(Bokeh) {\n      Bokeh.set_log_level(\"info\");\n    },\n    function(Bokeh) {\n    \n    \n    }\n  ];\n\n  function run_inline_js() {\n    \n    if (root.Bokeh !== undefined || force === true) {\n      \n    for (var i = 0; i < inline_js.length; i++) {\n      inline_js[i].call(root, root.Bokeh);\n    }\n    if (force === true) {\n        display_loaded();\n      }} else if (Date.now() < root._bokeh_timeout) {\n      setTimeout(run_inline_js, 100);\n    } else if (!root._bokeh_failed_load) {\n      console.log(\"Bokeh: BokehJS failed to load within specified timeout.\");\n      root._bokeh_failed_load = true;\n    } else if (force !== true) {\n      var cell = $(document.getElementById(\"1002\")).parents('.cell').data().cell;\n      cell.output_area.append_execute_result(NB_LOAD_WARNING)\n    }\n\n  }\n\n  if (root._bokeh_is_loading === 0) {\n    console.debug(\"Bokeh: BokehJS loaded, going straight to plotting\");\n    run_inline_js();\n  } else {\n    load_libs(css_urls, js_urls, function() {\n      console.debug(\"Bokeh: BokehJS plotting callback run at\", now());\n      run_inline_js();\n    });\n  }\n}(window));"
     },
     "metadata": {}
    }
   ],
   "metadata": {}
  },
  {
   "cell_type": "code",
   "execution_count": 3,
   "source": [
    "%%appyter hide\n",
    "{% do SectionField(\n",
    "    name = 'INPUT',\n",
    "    title = 'Input Parameters',\n",
    "    subtitle = 'Fill in the species and gene of interest',\n",
    "    img = 'mini_plot.png'\n",
    ")%}"
   ],
   "outputs": [],
   "metadata": {}
  },
  {
   "cell_type": "code",
   "execution_count": 4,
   "source": [
    "%%appyter code_exec\n",
    "{% set species_input = TabField(\n",
    "    name = 'species_input',\n",
    "    label = 'Species of Interest',\n",
    "    default = 'Human',\n",
    "    description = 'Select the species of interest.',\n",
    "    section = 'INPUT',\n",
    "    choices = {\n",
    "        'Human': [\n",
    "            AutocompleteField(\n",
    "                name = 'human_gene',\n",
    "                label = 'Human Gene of Interest',\n",
    "                default = 'SLC2A2',\n",
    "                description = 'Enter the gene symbol of interest (human).',\n",
    "                file_path = 'https://appyters.maayanlab.cloud/storage/Gene_Expression_T2D_Signatures/human_genes.json'\n",
    "            )\n",
    "        ],\n",
    "        'Mouse': [\n",
    "            AutocompleteField(\n",
    "                name = 'mouse_gene',\n",
    "                label = 'Mouse Gene of Interest',\n",
    "                default = 'Tcf7l2',\n",
    "                description = 'Enter the gene symbol of interest (mouse).',\n",
    "                file_path = 'https://appyters.maayanlab.cloud/storage/Gene_Expression_T2D_Signatures/mouse_genes.json'\n",
    "            )\n",
    "        ]\n",
    "    }\n",
    ")%}"
   ],
   "outputs": [],
   "metadata": {}
  },
  {
   "cell_type": "code",
   "execution_count": 5,
   "source": [
    "%%appyter code_exec\n",
    "species = {{ species_input.value[0][\"args\"][\"name\"].split(\"_\")[0]|jsonify }}\n",
    "gene = {{ species_input.value[0] }}\n",
    "input_gene = {{ species_input.value[0] }}"
   ],
   "outputs": [
    {
     "output_type": "display_data",
     "data": {
      "text/plain": [
       "<IPython.core.display.Markdown object>"
      ],
      "text/markdown": [
       "```python\n",
       "species = \"human\"\n",
       "gene = 'SLC2A2'\n",
       "input_gene = 'SLC2A2'\n",
       "```"
      ]
     },
     "metadata": {}
    }
   ],
   "metadata": {}
  },
  {
   "cell_type": "code",
   "execution_count": 6,
   "source": [
    "species = species.lower()"
   ],
   "outputs": [],
   "metadata": {}
  },
  {
   "cell_type": "markdown",
   "source": [
    "# My Gene's Expression in Type 2 Diabetes Transcriptomics Signatures"
   ],
   "metadata": {}
  },
  {
   "cell_type": "code",
   "execution_count": 8,
   "source": [
    "display(Markdown(f\"## {species.capitalize()} T2D-Related Expression Studies\"))"
   ],
   "outputs": [
    {
     "output_type": "display_data",
     "data": {
      "text/plain": [
       "<IPython.core.display.Markdown object>"
      ],
      "text/markdown": [
       "## Human T2D-Related Expression Studies"
      ]
     },
     "metadata": {}
    }
   ],
   "metadata": {}
  },
  {
   "cell_type": "code",
   "execution_count": 9,
   "source": [
    "# store if synonym was used\n",
    "has_syn = False\n",
    "\n",
    "# import preprocessed signature data\n",
    "root_path = 'https://s3.appyters.maayanlab.cloud/storage/Gene_Expression_T2D_Signatures/'\n",
    "\n",
    "# obtain all gene symbols in signature\n",
    "with requests.get(f\"{root_path}{species}_sig_genes.txt\") as r:\n",
    "    sig_genes = r.text.split('\\n')\n",
    "\n",
    "gene_map_ind = []\n",
    "gene_map_val = []\n",
    "# find gene synonym, if necessary\n",
    "if gene not in sig_genes:\n",
    "    gene_info = {\n",
    "        'human': 'ftp://ftp.ncbi.nih.gov/gene/DATA/GENE_INFO/Mammalia/Homo_sapiens.gene_info.gz',\n",
    "        'mouse': 'ftp://ftp.ncbi.nih.gov/gene/DATA/GENE_INFO/Mammalia/Mus_musculus.gene_info.gz'\n",
    "    }\n",
    "    gene_df = pd.read_csv(gene_info[species], sep='\\t', compression='gzip')[['Symbol', 'Synonyms']]\n",
    "    for row in gene_df.itertuples():\n",
    "        if row.Synonyms != '-':\n",
    "            syns = row.Synonyms.split('|')\n",
    "            for syn in syns:\n",
    "                syn = syn.split(':')[1] if syn.find(':') != -1 else syn\n",
    "                gene_map_ind.append(syn)\n",
    "                gene_map_val.append(row.Symbol)\n",
    "    gene_map = pd.DataFrame.from_records(\n",
    "        zip(gene_map_ind, gene_map_val), \n",
    "        columns=['synonym', 'symbol']\n",
    "    ).set_index('synonym')\n",
    "    syn_counts = gene_map.index.value_counts()\n",
    "    gene_map = gene_map.drop(syn_counts[syn_counts > 1].index)\n",
    "    \n",
    "    gene = gene_map.loc[input_gene, 'symbol']\n",
    "    has_syn = True\n",
    "    display(HTML(f\"<div style='font-size:1rem;padding:1rem 0;'>{input_gene} not in signature data, using gene synonym <b>{gene}</b>.</div>\"))"
   ],
   "outputs": [],
   "metadata": {}
  },
  {
   "cell_type": "code",
   "execution_count": 10,
   "source": [
    "# RNA-seq p-values\n",
    "pval_rna_df = pd.read_feather(f'{root_path}all_{species}_pval.f', columns=['index', gene]).set_index('index')\n",
    "# RNA-seq fold change\n",
    "fc_rna_df = pd.read_feather(f'{root_path}all_{species}_fc.f', columns=['index', gene]).set_index('index')\n",
    "\n",
    "# microarray data\n",
    "try:\n",
    "    pval_micro_df = pd.read_feather(f\"{root_path}{species}_pruned_affy_pv.f\", columns=['index', gene]).set_index('index')\n",
    "    fc_micro_df = pd.read_feather(f\"{root_path}{species}_pruned_affy_fc.f\", columns=['index', gene]).set_index('index')\n",
    "    micro_exists = True\n",
    "except:\n",
    "    pval_micro_df = None\n",
    "    fc_micro_df = None\n",
    "    micro_exists = False\n",
    "\n",
    "# Bulk RNA-seq Appyter analysis instances\n",
    "inst_df_input = pd.read_csv(f\"{root_path}{species}_instances.tsv\", sep='\\t', index_col=0)"
   ],
   "outputs": [],
   "metadata": {}
  },
  {
   "cell_type": "code",
   "execution_count": 11,
   "source": [
    "# configure color scheme\n",
    "red_map = cm.get_cmap('Reds_r')\n",
    "red_norm = colors.Normalize(vmin=-0.25, vmax=1)\n",
    "blue_map = cm.get_cmap('Blues_r')\n",
    "blue_norm = colors.Normalize(vmin=-0.25, vmax=1)\n",
    "\n",
    "def map_color(fc, pv):\n",
    "    if fc < 0:\n",
    "        return colors.to_hex(red_map(red_norm(pv)))\n",
    "    elif fc == 0:\n",
    "        return '#808080'\n",
    "    else:\n",
    "        return colors.to_hex(blue_map(blue_norm(pv)))"
   ],
   "outputs": [],
   "metadata": {}
  },
  {
   "cell_type": "code",
   "execution_count": 12,
   "source": [
    "def combine_data(pval_df, fc_df, gene, isRNA=False, inst_df=None):\n",
    "    # extract and combine data for each gene\n",
    "    comb_df = pd.DataFrame()\n",
    "    comb_df['sig'] = pval_df.index.tolist()\n",
    "    comb_df['pval'] = pval_df[gene].tolist()\n",
    "    comb_df['logpv'] = np.negative(np.log10(comb_df['pval']))\n",
    "    comb_df['fc'] = fc_df[gene].tolist()\n",
    "    if isRNA:\n",
    "        comb_df['inst'] = comb_df['sig'].apply(lambda x: inst_df.loc[x, 'session_id'])\n",
    "    return comb_df\n",
    "\n",
    "def make_plot(comb_df, species, gene, micro=False, micro_df=None):\n",
    "    # create links from Bulk RNA-seq Appyter instance session IDs\n",
    "    comb_df['inst'] = comb_df['inst'].apply(lambda x: f'https://appyters.maayanlab.cloud/Bulk_RNA_seq/{x}')\n",
    "\n",
    "    # set color and size for each point on plot\n",
    "    rna_colors = [map_color(r.fc, r.pval) for r in comb_df.itertuples()]\n",
    "    rna_sizes = [12 if r.pval < 0.05 else 6 for r in comb_df.itertuples()]\n",
    "\n",
    "    if micro:\n",
    "        micro_colors = [map_color(r.fc, r.pval) for r in micro_df.itertuples()]\n",
    "        micro_sizes = [12 if r.pval < 0.05 else 6 for r in micro_df.itertuples()]\n",
    "\n",
    "    # generate data source\n",
    "    data_source = ColumnDataSource(\n",
    "        data=dict(\n",
    "            x = comb_df['fc'],\n",
    "            y = comb_df['logpv'],\n",
    "            sig = comb_df['sig'],\n",
    "            pval = comb_df['pval'], \n",
    "            fc = comb_df['fc'], \n",
    "            colors = rna_colors, \n",
    "            sizes = rna_sizes,\n",
    "            # label = ['RNA-seq']*comb_df.shape[0]\n",
    "        )\n",
    "    )\n",
    "\n",
    "    # generate microarray data source if it exists\n",
    "    if micro:\n",
    "        micro_data_source = ColumnDataSource(\n",
    "            data=dict(\n",
    "                x = micro_df['fc'],\n",
    "                y = micro_df['logpv'], \n",
    "                sig = micro_df['sig'],\n",
    "                pval = micro_df['pval'], \n",
    "                fc = micro_df['fc'],\n",
    "                colors = micro_colors,\n",
    "                sizes = micro_sizes,\n",
    "                # label = ['Microarray']*micro_df.shape[0]\n",
    "            )\n",
    "        )\n",
    "    # create hover tooltip\n",
    "    tools = [\n",
    "        (\"Signature\", \"@sig\"),\n",
    "        (\"P-Value\", \"@pval\"),\n",
    "        (\"Fold Change\", \"@fc\")\n",
    "    ]\n",
    "    # generate plot and relevant plot labels\n",
    "    plot = figure(\n",
    "        plot_width=700,\n",
    "        plot_height=500,\n",
    "        tooltips=tools\n",
    "    )\n",
    "    plot.circle(\n",
    "        'x', 'y', \n",
    "        size='sizes',\n",
    "        alpha=0.7, \n",
    "        line_alpha=0,\n",
    "        line_width=0.01, \n",
    "        source=data_source,\n",
    "        fill_color='colors', \n",
    "        name=f'{gene}_t2d_expression_volcano_plot',\n",
    "        # legend_group='label'\n",
    "    )\n",
    "\n",
    "    if micro:\n",
    "        plot.square(\n",
    "            'x', 'y',\n",
    "            size='sizes',\n",
    "            alpha=0.7,\n",
    "            line_alpha=0,\n",
    "            line_width=0.01,\n",
    "            source=micro_data_source,\n",
    "            fill_color='colors',\n",
    "            name=f'{gene}_t2d_expression_volcano_plot',\n",
    "            # legend_group='label'\n",
    "        )\n",
    "\n",
    "    plot.xaxis.axis_label = 'Fold Change'\n",
    "    plot.yaxis.axis_label = '-log10(P-value)'\n",
    "    plot.title.text = f\"Differential Expression of {gene} in {species} Type 2 Diabetes Transcriptomics Signatures\"\n",
    "    plot.title.align = 'center'\n",
    "    plot.title.text_font_size = '14px'\n",
    "\n",
    "    show(plot)"
   ],
   "outputs": [],
   "metadata": {}
  },
  {
   "cell_type": "markdown",
   "source": [
    "The volcano plot below positions each of the Type 2 Diabetes signatures according to the gene-specific fold change (x-position) and -log(p-value) (y-position). Signatures were computed using the R package [limma](https://bioconductor.org/packages/release/bioc/html/limma.html). Fold changes are quantile-normalized log2 fold change values. \n",
    "\n",
    "**Red** points indicate signatures where the fold change of the chosen gene was < 0, **blue** points indicate fold change > 0, and **gray** points indicate fold change == 0. Signatures where the specified gene was significantly expressed in either direction are denoted by darker color and larger point size. \n",
    "\n",
    "**Circle** points indicate bulk RNA-seq signatures, while **square** points indicate microarray signatures.\n",
    "\n",
    "Hover over any point to display the corresponding signature name, the p-value, and the fold change. \n",
    "\n",
    "Use the toolbar on the right side of the plot to pan, zoom, or save the plot."
   ],
   "metadata": {}
  },
  {
   "cell_type": "code",
   "execution_count": 13,
   "source": [
    "comb_df_input = combine_data(pval_rna_df, fc_rna_df, gene, isRNA=True, inst_df=inst_df_input)\n",
    "if micro_exists:\n",
    "    micro_df_input = combine_data(pval_micro_df, fc_micro_df, gene)\n",
    "else:\n",
    "    micro_df_input = None\n",
    "make_plot(comb_df_input, species, gene, micro=micro_exists, micro_df=micro_df_input)"
   ],
   "outputs": [
    {
     "output_type": "display_data",
     "data": {
      "text/html": [
       "\n",
       "\n",
       "\n",
       "\n",
       "\n",
       "\n",
       "  <div class=\"bk-root\" id=\"cfa4e378-7812-4889-8ada-e3030511e9cd\" data-root-id=\"1004\"></div>\n"
      ]
     },
     "metadata": {}
    },
    {
     "output_type": "display_data",
     "data": {
      "application/vnd.bokehjs_exec.v0+json": "",
      "application/javascript": "(function(root) {\n  function embed_document(root) {\n    \n  var docs_json = {\"fb5e4261-ed3b-4b31-9066-032d91300398\":{\"defs\":[],\"roots\":{\"references\":[{\"attributes\":{\"below\":[{\"id\":\"1013\"}],\"center\":[{\"id\":\"1016\"},{\"id\":\"1020\"},{\"id\":\"1053\"}],\"height\":500,\"left\":[{\"id\":\"1017\"}],\"renderers\":[{\"id\":\"1040\"}],\"title\":{\"id\":\"1042\"},\"toolbar\":{\"id\":\"1029\"},\"width\":700,\"x_range\":{\"id\":\"1005\"},\"x_scale\":{\"id\":\"1009\"},\"y_range\":{\"id\":\"1007\"},\"y_scale\":{\"id\":\"1011\"}},\"id\":\"1004\",\"subtype\":\"Figure\",\"type\":\"Plot\"},{\"attributes\":{},\"id\":\"1049\",\"type\":\"BasicTickFormatter\"},{\"attributes\":{\"data\":{\"colors\":[\"#b3d3e8\",\"#808080\",\"#fca486\",\"#fb6d4d\",\"#4292c6\",\"#fc8666\",\"#ce1a1e\",\"#f75b40\",\"#808080\",\"#68acd5\",\"#ef3c2c\",\"#5aa2cf\",\"#808080\",\"#808080\",\"#808080\",\"#808080\",\"#808080\",\"#808080\",\"#808080\",\"#808080\",\"#808080\",\"#808080\",\"#808080\",\"#808080\",\"#fee1d3\",\"#d42121\",\"#afd1e7\",\"#4594c7\",\"#b5d4e9\",\"#d42121\",\"#2f7fbc\",\"#808080\",\"#808080\",\"#808080\",\"#808080\",\"#808080\",\"#808080\",\"#808080\",\"#808080\",\"#808080\",\"#69add5\",\"#3b8bc2\",\"#f96346\",\"#f96346\",\"#808080\",\"#3a8ac2\",\"#f2f7fd\",\"#808080\",\"#808080\",\"#fdd4c2\",\"#808080\",\"#808080\",\"#808080\",\"#808080\",\"#4f9bcb\",\"#808080\",\"#fb7353\",\"#3484bf\",\"#808080\",\"#2272b6\",\"#d21f20\",\"#94c4df\",\"#1d6cb1\",\"#808080\",\"#808080\",\"#808080\",\"#fb694a\",\"#808080\",\"#d52221\",\"#e02c26\",\"#808080\",\"#fca98c\",\"#fee1d4\",\"#808080\",\"#808080\",\"#808080\",\"#808080\",\"#808080\",\"#808080\",\"#808080\",\"#bcd7eb\",\"#808080\",\"#808080\",\"#808080\",\"#808080\",\"#808080\",\"#c5171c\",\"#71b1d7\",\"#1e6db2\",\"#e83429\",\"#f5f9fe\",\"#3989c1\",\"#3888c1\",\"#808080\",\"#808080\",\"#808080\",\"#808080\",\"#808080\",\"#808080\",\"#808080\",\"#808080\",\"#808080\"],\"fc\":{\"__ndarray__\":\"9Mva2Kn81T8AAAAAAAAAAA6T33KYlc6/xBxsJAjEzb/DK/X49ITFP2ENELdjO8S/eV87EIhd5b/xU3eKq8rhvwAAAAAAAAAA0+nfiwB0yD/q9O9FADrcv/PUneKqcsQ/AAAAAAAAAAAAAAAAAAAAAAAAAAAAAAAAAAAAAAAAAAAAAAAAAAAAAAAAAAAAAAAAAAAAAAAAAAAAAAAAAAAAAAAAAAAAAAAAAAAAAAAAAAAAAAAAAAAAAAAAAAAAAAAAOmMBR0Z0sb/7BLMZVWvQv24PU6eFrcc/6esEL3Ji3z/2F7N9IvPIP5BEqvMa3uO/5BZj1Gd25D8AAAAAAAAAAAAAAAAAAAAAAAAAAAAAAAAAAAAAAAAAAAAAAAAAAAAAAAAAAAAAAAAAAAAAAAAAAAAAAAAAAAAAAAAAAAAAAADrEa9RaPfaP0bPTxaKieg//hARERERgb+CJEmSJEmCvwAAAAAAAAAAm4Wkvdtm0T8OFtWFX0SMPwAAAAAAAAAAAAAAAAAAAABPaxl/kNK7vwAAAAAAAAAAAAAAAAAAAAAAAAAAAAAAAAAAAAAAAAAA1pNeoDmbqD8AAAAAAAAAAEsIAzI+gbC/RJaxa6uc5z8AAAAAAAAAADMzMzMzM+M/rebdJH9myb8hH7qHsR7QPwQwoLwKeOw/AAAAAAAAAAAAAAAAAAAAAAAAAAAAAAAAmpmZmZmZmb8AAAAAAAAAANhidkYB9+2/0voxhRa+7b8AAAAAAAAAALdNPeOWb5C/U1VVVVVVtb8AAAAAAAAAAAAAAAAAAAAAAAAAAAAAAAAAAAAAAAAAAAAAAAAAAAAAAAAAAAAAAAAAAAAAAAAAAG4l6vGtYs0/AAAAAAAAAAAAAAAAAAAAAAAAAAAAAAAAAAAAAAAAAAAAAAAAAAAAAKmRFK7nxM6/qelSyDZEtj+pXMLlTEPMPyWjxrRmDsK/t3WUdCRUVT/BcEweFELDPwAAAAAAAMA/AAAAAAAAAAAAAAAAAAAAAAAAAAAAAAAAAAAAAAAAAAAAAAAAAAAAAAAAAAAAAAAAAAAAAAAAAAAAAAAAAAAAAAAAAAAAAAAA\",\"dtype\":\"float64\",\"order\":\"little\",\"shape\":[102]},\"label\":[\"RNA-seq\",\"RNA-seq\",\"RNA-seq\",\"RNA-seq\",\"RNA-seq\",\"RNA-seq\",\"RNA-seq\",\"RNA-seq\",\"RNA-seq\",\"RNA-seq\",\"RNA-seq\",\"RNA-seq\",\"RNA-seq\",\"RNA-seq\",\"RNA-seq\",\"RNA-seq\",\"RNA-seq\",\"RNA-seq\",\"RNA-seq\",\"RNA-seq\",\"RNA-seq\",\"RNA-seq\",\"RNA-seq\",\"RNA-seq\",\"RNA-seq\",\"RNA-seq\",\"RNA-seq\",\"RNA-seq\",\"RNA-seq\",\"RNA-seq\",\"RNA-seq\",\"RNA-seq\",\"RNA-seq\",\"RNA-seq\",\"RNA-seq\",\"RNA-seq\",\"RNA-seq\",\"RNA-seq\",\"RNA-seq\",\"RNA-seq\",\"RNA-seq\",\"RNA-seq\",\"RNA-seq\",\"RNA-seq\",\"RNA-seq\",\"RNA-seq\",\"RNA-seq\",\"RNA-seq\",\"RNA-seq\",\"RNA-seq\",\"RNA-seq\",\"RNA-seq\",\"RNA-seq\",\"RNA-seq\",\"RNA-seq\",\"RNA-seq\",\"RNA-seq\",\"RNA-seq\",\"RNA-seq\",\"RNA-seq\",\"RNA-seq\",\"RNA-seq\",\"RNA-seq\",\"RNA-seq\",\"RNA-seq\",\"RNA-seq\",\"RNA-seq\",\"RNA-seq\",\"RNA-seq\",\"RNA-seq\",\"RNA-seq\",\"RNA-seq\",\"RNA-seq\",\"RNA-seq\",\"RNA-seq\",\"RNA-seq\",\"RNA-seq\",\"RNA-seq\",\"RNA-seq\",\"RNA-seq\",\"RNA-seq\",\"RNA-seq\",\"RNA-seq\",\"RNA-seq\",\"RNA-seq\",\"RNA-seq\",\"RNA-seq\",\"RNA-seq\",\"RNA-seq\",\"RNA-seq\",\"RNA-seq\",\"RNA-seq\",\"RNA-seq\",\"RNA-seq\",\"RNA-seq\",\"RNA-seq\",\"RNA-seq\",\"RNA-seq\",\"RNA-seq\",\"RNA-seq\",\"RNA-seq\",\"RNA-seq\"],\"pval\":{\"__ndarray__\":\"gxJCLXuL4z8AAAAAAADwP9YlR5/xEeM/4lKaTOq12D8U+9F3AAjMP8t0KWOq8t4/D8LrYIEusz/ug3rhXZrUPwAAAAAAAPA/FuQ4evQ+1z/n0/3xconMP7qBLOAusdM/AAAAAAAA8D8AAAAAAADwPwAAAAAAAPA/AAAAAAAA8D8AAAAAAADwPwAAAAAAAPA/AAAAAAAA8D8AAAAAAADwPwAAAAAAAPA/AAAAAAAA8D8AAAAAAADwPwAAAAAAAPA/EVLf/VAH6z9zJNig6ZK6PyaOlwMOEOM/Ja0JuMR9zT973Ccp3vPjP8de4EnETbo/cWbXSU2UwD8AAAAAAADwPwAAAAAAAPA/AAAAAAAA8D8AAAAAAADwPwAAAAAAAPA/AAAAAAAA8D8AAAAAAADwPwAAAAAAAPA/AAAAAAAA8D/VyHbDZ5nXP4n1hV/2Bcg/bLUP34Bw1j9stQ/fgHDWPwAAAAAAAPA/5rw7jDVOxz8c7xPKhMLuPwAAAAAAAPA/AAAAAAAA8D+WutnLTlLpPwAAAAAAAPA/AAAAAAAA8D8AAAAAAADwPwAAAAAAAPA/AB8EZIEn0T8AAAAAAADwP7OHciN/M9o/ltMK11eRwz8AAAAAAADwPxnqnj09C7I/1I5giHzWtz+2p5ObVv7fPw3jnweXdaU/AAAAAAAA8D8AAAAAAADwPwAAAAAAAPA/OOaMUf7t1z8AAAAAAADwP4u/yJ3j2bs/Sm2o9kaNwz8AAAAAAADwP1iJtO/Wu+M/7UBPq7k86z8AAAAAAADwPwAAAAAAAPA/AAAAAAAA8D8AAAAAAADwPwAAAAAAAPA/AAAAAAAA8D8AAAAAAADwP8NsHbutqeQ/AAAAAAAA8D8AAAAAAADwPwAAAAAAAPA/AAAAAAAA8D8AAAAAAADwP0LMSzolyKU/iogdqTP02D+WViUQlz2nP2u6hSeWy8c/vRg9GWF97z+pnvzm+6nGPyWXyQj+AcY/AAAAAAAA8D8AAAAAAADwPwAAAAAAAPA/AAAAAAAA8D8AAAAAAADwPwAAAAAAAPA/AAAAAAAA8D8AAAAAAADwPwAAAAAAAPA/\",\"dtype\":\"float64\",\"order\":\"little\",\"shape\":[102]},\"sig\":[\"GSE100322_Ctrl-vs-NRG1-Knockdown_Human_RNAseq_ThyroidPrimaryCells\",\"GSE101207_NonDiabetic-vs-Type2Diabetes_Human_BulkRNAseq_Islet\",\"GSE106148_Ctrl-vs-Type1Diabetes_Human_BulkRNAseq_Islet\",\"GSE107894_Placebo-vs-Metformin_Visit1_Human_BulkRNAseq_Adipose\",\"GSE107894_Placebo-vs-Metformin_Visit1_Human_BulkRNAseq_Muscle\",\"GSE107894_Placebo-vs-Metformin_Visit2_Human_BulkRNAseq_Adipose\",\"GSE107894_Placebo-vs-Metformin_Visit2_Human_BulkRNAseq_Muscle\",\"GSE108413_Ctrl-vs-Cytokines_Human_BulkRNAseq_Islet\",\"GSE108654_Islets-vs-hESC-\\u03b2-likeCells_Human_BulkRNAseq_2Cells\",\"GSE108971_Ctrl-vs-Diabetic_Human_BulkRNAseq_EpicardialAdipose\",\"GSE108971_Ctrl-vs-Diabetic_Human_BulkRNAseq_SubcutaneousAdipose\",\"GSE110935_Normal-vs-CysticFibrosis_Human_BulkRNAseq_Islet\",\"GSE113764_White-vs-BrownAdiposeTissue_Human_BulkRNAseq_Adipose\",\"GSE114192_Healthy-vs-Diabetes_Romania_Human_BulkRNAseq_WholeBlood\",\"GSE114192_Healthy-vs-Diabetes_SouthAfrica_Human_BulkRNAseq_WholeBlood\",\"GSE114192_Healthy-vs-IntermediateHyperglycemia_Romania_Human_BulkRNAseq_WholeBlood\",\"GSE114192_Healthy-vs-IntermediateHyperglycemia_SouthAfrica_Human_BulkRNAseq_WholeBlood\",\"GSE115421_Ctrl-vs-Rosiglitazone_Adipocytes-shNF1_Human_BulkRNAseq_Adipocytes\",\"GSE115421_Ctrl-vs-Rosiglitazone_AdipocytesP1_Human_BulkRNAseq_Adipocytes\",\"GSE115421_Ctrl-vs-Rosiglitazone_AdipocytesP2_Human_BulkRNAseq_Adipocytes\",\"GSE115421_Ctrl-vs-Rosiglitazone_AdipocytesP3_Human_BulkRNAseq_Adipocytes\",\"GSE115421_Ctrl-vs-Rosiglitazone_AdipocytesP4_Human_BulkRNAseq_Adipocytes\",\"GSE115421_Ctrl-vs-Rosiglitazone_AdipocytesP5_Human_BulkRNAseq_Adipocytes\",\"GSE115421_Ctrl-vs-Rosiglitazone_AdipocytesScramble_Human_BulkRNAseq_Adipocytes\",\"GSE120299_Alpha-vs-BetaCells_Human_BulkRNAseq_Islet\",\"GSE123658_Healthy-vs-Type1Diabetes_Human_BulkRNAseq_WholeBlood\",\"GSE125856_Epicardial-vs-MediastinalAdipose_Human_BulkRNAseq_2AdiposeTissues\",\"GSE125856_Epicardial-vs-SubcutaneousAdipose_Human_BulkRNAseq_2AdiposeTissues\",\"GSE125856_Mediastinal-vs-SubcutaneousAdipose_Human_BulkRNAseq_2AdiposeTissues\",\"GSE125856_NonCoronaryArteryDiseaseCAD-vs-CAD_Lean_Human_BulkRNAseq_Adipose\",\"GSE125856_NonCoronaryArteryDiseaseCAD-vs-CAD_Obese_Human_BulkRNAseq_Adipose\",\"GSE131320_Ctrl-vs-BacteroidesDorei_24hr_Human_BulkRNAseq_Islet\",\"GSE131320_Ctrl-vs-BacteroidesDorei_6hr_Human_BulkRNAseq_Islet\",\"GSE131320_Ctrl-vs-EscherichiaColi_24hr_Human_BulkRNAseq_Islet\",\"GSE131320_Ctrl-vs-EscherichiaColi_6hr_Human_BulkRNAseq_Islet\",\"GSE131320_Ctrl-vs-IL-1\\u03b2_24hr_Human_BulkRNAseq_Islet\",\"GSE131320_Ctrl-vs-IL-1\\u03b2_6hr_Human_BulkRNAseq_Islet\",\"GSE131320_Ctrl-vs-RuminococcusGnavus_24hr_Human_BulkRNAseq_Islet\",\"GSE131320_Ctrl-vs-RuminococcusGnavus_6hr_Human_BulkRNAseq_Islet\",\"GSE133903_Islets-vs-Pseduoislets_Human_BulkRNAseq_Islet\",\"GSE134068_HighQuality-vs-LowQuality_Human_BulkRNAseq_Islet\",\"GSE134068_HighQuality-vs-MediumQuality_Human_BulkRNAseq_Islet\",\"GSE134431_DiabeticFootSkin-vs-DiabeticFootUlcer-Healer_Human_BulkRNAseq_2Tissues\",\"GSE134431_DiabeticFootSkin-vs-DiabeticFootUlcer-NonHealer_Human_BulkRNAseq_2Tissues\",\"GSE134870_Ctrl-vs-siRND3-Knockdown_Human_BulkRNAseq_Adipose\",\"GSE135445_CtrlSinusRhythm-vs-AtrialFibriallation_Human_BulkRNAseq_EpicardialAdipose\",\"GSE135448_LowProtein-vs-HighProteinDiet_Human_BulkRNAseq_Liver\",\"GSE136134_Ctrl-vs-Insulin_24hrs_Human_BulkRNAseq_hiPSCs\",\"GSE136134_Ctrl-vs-Insulin_72hrs_Human_BulkRNAseq_hiPSCs\",\"GSE137136_Ctrl-vs-ProInflammatoryCytokineCocktail_Human_BulkRNAseq_EndoC-\\u03b2H1\",\"GSE137631_Lean-vs-Obese_Human_BulkRNAseq_Muscle\",\"GSE137631_ObesePreSurgery-vs-Roux-en-Y-GastricBypass(RYGB)Surgery_Exercise_Human_BulkRNAseq_Muscle\",\"GSE137631_ObesePreSurgery-vs-Roux-en-Y-GastricBypass(RYGB)Surgery_NoExercise_Human_BulkRNAseq_Muscle\",\"GSE138252_Ctrl-vs-HeartFailure_Human_BulkRNAseq_LeftAtrium\",\"GSE138252_Ctrl-vs-HeartFailure_Human_BulkRNAseq_RightAtrium\",\"GSE138252_NoAtrialFibrillation-vs-AtrialFibrillation_Human_BulkRNAseq_LeftAtrium\",\"GSE138252_NoAtrialFibrillation-vs-AtrialFibrillation_Human_BulkRNAseq_RightAtrium\",\"GSE139932_Ctrl-vs-Cytokines_Human_BulkRNAseq_Islet\",\"GSE140230_CtrlPBS-vs-Sirolimus_Human_BulkRNAseq_Islet\",\"GSE140230_CtrlPBS-vs-Tacrolimus_Human_BulkRNAseq_Islet\",\"GSE141891_2D-vs-3D-GrowthCondition_Human_BulkRNAseq_iPSCs\",\"GSE142025_Ctrl-vs-AdvancedDiabeticNephropathy_Human_BulkRNAseq_Kidney\",\"GSE142025_Ctrl-vs-EarlyDiabeticNephropathy_Human_BulkRNAseq_Kidney\",\"GSE142209_BrainMicrovessels-vs-WholeBrain_Human_BulkRNAseq_2Tissues\",\"GSE143319_MetabolicallyHealthy-vs-UnhealthyObese_Human_BulkRNAseq_SubcutaneousAdipose\",\"GSE143319_Pre-vs-PostWeightLoss_Human_BulkRNAseq_SubcutaneousAdipose\",\"GSE143482_Ctrl-vs-LIGHT_Human_BulkRNAseq_EsophagusFibroblasts\",\"GSE143482_Ctrl-vs-TGF-B1_Human_BulkRNAseq_EsophagusFibroblasts\",\"GSE143735_DiabeticForearmSkin-vs-ForearmOfFootUlcerHealer_Human_BulkRNAseq_2Tissues\",\"GSE143735_DiabeticForearmSkin-vs-ForearmOfFootUlcerNonHealer_Human_BulkRNAseq_2Tissues\",\"GSE144274_Healthy-vs-IdiopathicPulmonaryHypertension(IPAH)_Human_BulkRNAseq_Muscle\",\"GSE144441_Non-Diabetic-vs-Type2Diabetes_Human_RNAseq_Skin\",\"GSE149294_Ctrl-vs-Doxycycline_pLKO-puro-shRSPO3(tet-shRSPO3)LentiviralVector_Human_BulkRNAseq_AbdomninalAdipocytes\",\"GSE149294_Ctrl-vs-Doxycycline_pLKO-puro-shRSPO3(tet-shRSPO3)LentiviralVector_Human_BulkRNAseq_GlutealAdipocytes\",\"GSE149294_Ctrl-vs-Doxycycline_tet-pLKO-puro-shCON(tet-shCON)LentiviralVector_Human_BulkRNAseq_AbdomninalAdipocytes\",\"GSE149294_Ctrl-vs-Doxycycline_tet-pLKO-puro-shCON(tet-shCON)LentiviralVector_Human_BulkRNAseq_GlutealAdipocytes\",\"GSE151588_Ctrl-vs-SRI-37330_Human_BulkRNAseq_Islet\",\"GSE154649_Ctrl-vs-Doxycline_4-5hrs_IntactDUX4_Human_BulkRNAseq_MyeloidLeukemiaCells\",\"GSE154649_Ctrl-vs-Doxycline_8-5hrs_DUX4-Knockout_Human_BulkRNAseq_MyeloidLeukemiaCells\",\"GSE154649_Ctrl-vs-Doxycline_8-5hrs_IntactDUX4_Human_BulkRNAseq_MyeloidLeukemiaCells\",\"GSE155482_EndoC-bH1-Cells-vs-ECN90-Cells_Human_BulkRNAseq_Islet\",\"GSE156067_Ctrl-vs-PolycysticOvarySyndrome_Day12_Human_BulkRNAseq_SubcutaneousAdipose\",\"GSE156067_Ctrl-vs-PolycysticOvarySyndrome_Day3_Human_BulkRNAseq_SubcutaneousAdipose\",\"GSE156067_Ctrl-vs-PolycysticOvarySyndrome_Day7_Human_BulkRNAseq_SubcutaneousAdipose\",\"GSE156903_Vehicle-vs-Tacrolimus_Human_BulkRNAseq_Islet\",\"GSE156903_Vehicle-vs-Voclosporin_Human_BulkRNAseq_Islet\",\"GSE157585_Ctrl-vs-ResistanceTraining_Metformin_Human_BulkRNAseq_Muscle\",\"GSE157585_Ctrl-vs-ResistanceTraining_PlaceboDrug_Human_BulkRNAseq_Muscle\",\"GSE157585_Placebo-vs-Metformin_NoResistanceTraining_Human_BulkRNAseq_Muscle\",\"GSE157585_Placebo-vs-Metformin_ResistanceTraining16wks_Human_BulkRNAseq_Muscle\",\"GSE157585_Young-vs-Old_Human_BulkRNAseq_Muscle\",\"GSE67543_Fetal-vs-Adult_AlphaCells_Human_BulkRNAseq_Islet\",\"GSE67543_Fetal-vs-Adult_BetaCells_Human_BulkRNAseq_Islet\",\"GSE73433_Ctrl-vs-ARX-shRNA_Human_BulkRNAseq_Islet\",\"GSE73433_Ctrl-vs-Ctrl-shRNA_Human_BulkRNAseq_Islet\",\"GSE80780_Comparison1_Beta1-vs-Beta2_Human_BulkRNAseq_Islet\",\"GSE80780_Comparison2_Beta1-vs-Beta3_Human_BulkRNAseq_Islet\",\"GSE80780_Comparison3_Beta1-vs-Beta4_Human_BulkRNAseq_Islet\",\"GSE80780_Comparison4_Beta2-vs-Beta3_Human_BulkRNAseq_Islet\",\"GSE80780_Comparison5_Beta2-vs-Beta4_Human_BulkRNAseq_Islet\",\"GSE80780_Comparison6_Beta3-vs-Beta4_Human_BulkRNAseq_Islet\",\"GSE86611_GFP-vs-ASF1B_Human_BulkRNAseq_Islet\"],\"sizes\":[6,6,6,6,6,6,6,6,6,6,6,6,6,6,6,6,6,6,6,6,6,6,6,6,6,6,6,6,6,6,6,6,6,6,6,6,6,6,6,6,6,6,6,6,6,6,6,6,6,6,6,6,6,6,6,6,6,6,6,6,6,6,12,6,6,6,6,6,6,6,6,6,6,6,6,6,6,6,6,6,6,6,6,6,6,6,12,6,12,6,6,6,6,6,6,6,6,6,6,6,6,6],\"x\":{\"__ndarray__\":\"9Mva2Kn81T8AAAAAAAAAAA6T33KYlc6/xBxsJAjEzb/DK/X49ITFP2ENELdjO8S/eV87EIhd5b/xU3eKq8rhvwAAAAAAAAAA0+nfiwB0yD/q9O9FADrcv/PUneKqcsQ/AAAAAAAAAAAAAAAAAAAAAAAAAAAAAAAAAAAAAAAAAAAAAAAAAAAAAAAAAAAAAAAAAAAAAAAAAAAAAAAAAAAAAAAAAAAAAAAAAAAAAAAAAAAAAAAAAAAAAAAAAAAAAAAAOmMBR0Z0sb/7BLMZVWvQv24PU6eFrcc/6esEL3Ji3z/2F7N9IvPIP5BEqvMa3uO/5BZj1Gd25D8AAAAAAAAAAAAAAAAAAAAAAAAAAAAAAAAAAAAAAAAAAAAAAAAAAAAAAAAAAAAAAAAAAAAAAAAAAAAAAAAAAAAAAAAAAAAAAADrEa9RaPfaP0bPTxaKieg//hARERERgb+CJEmSJEmCvwAAAAAAAAAAm4Wkvdtm0T8OFtWFX0SMPwAAAAAAAAAAAAAAAAAAAABPaxl/kNK7vwAAAAAAAAAAAAAAAAAAAAAAAAAAAAAAAAAAAAAAAAAA1pNeoDmbqD8AAAAAAAAAAEsIAzI+gbC/RJaxa6uc5z8AAAAAAAAAADMzMzMzM+M/rebdJH9myb8hH7qHsR7QPwQwoLwKeOw/AAAAAAAAAAAAAAAAAAAAAAAAAAAAAAAAmpmZmZmZmb8AAAAAAAAAANhidkYB9+2/0voxhRa+7b8AAAAAAAAAALdNPeOWb5C/U1VVVVVVtb8AAAAAAAAAAAAAAAAAAAAAAAAAAAAAAAAAAAAAAAAAAAAAAAAAAAAAAAAAAAAAAAAAAAAAAAAAAG4l6vGtYs0/AAAAAAAAAAAAAAAAAAAAAAAAAAAAAAAAAAAAAAAAAAAAAAAAAAAAAKmRFK7nxM6/qelSyDZEtj+pXMLlTEPMPyWjxrRmDsK/t3WUdCRUVT/BcEweFELDPwAAAAAAAMA/AAAAAAAAAAAAAAAAAAAAAAAAAAAAAAAAAAAAAAAAAAAAAAAAAAAAAAAAAAAAAAAAAAAAAAAAAAAAAAAAAAAAAAAAAAAAAAAA\",\"dtype\":\"float64\",\"order\":\"little\",\"shape\":[102]},\"y\":{\"__ndarray__\":\"qkd8PTVoyz8AAAAAAAAAgG/QeUsnxsw/GMhWdnNz2j+/NH0ULRvlP0o9dtHyMdQ/BRIV7HIB8j+QbUyJBIHfPwAAAAAAAACAyZKrdTom3D/ulowCktvkP6V+NtNhYeA/AAAAAAAAAIAAAAAAAAAAgAAAAAAAAACAAAAAAAAAAIAAAAAAAAAAgAAAAAAAAACAAAAAAAAAAIAAAAAAAAAAgAAAAAAAAACAAAAAAAAAAIAAAAAAAAAAgAAAAAAAAACAMf2Lz4rFsj/TbdjCKnvvP3Ctekupy8w/5PRyl4hm5D8E/GJlXULKP3emHHSDn+8/+kiVsJNn7D8AAAAAAAAAgAAAAAAAAACAAAAAAAAAAIAAAAAAAAAAgAAAAAAAAACAAAAAAAAAAIAAAAAAAAAAgAAAAAAAAACAAAAAAAAAAICpy5VH5LrbPzGCgGcfQOc/rywOpnYh3T+vLA6mdiHdPwAAAAAAAACAB23GQAus5z+aOyqx8ZORPwAAAAAAAACAAAAAAAAAAIAYuQy6aAa6PwAAAAAAAACAAAAAAAAAAIAAAAAAAAAAgAAAAAAAAACAeeMuLT1M4j8AAAAAAAAAgL9cDo2w0tg/4/rMMvYZ6j8AAAAAAAAAgBaomaE4bvI/DBXyp91+8D+PZuzXhEXTPzIXTpfeCvY/AAAAAAAAAIAAAAAAAAAAgAAAAAAAAACAFfH9wPRX2z8AAAAAAAAAgC3uz0Qm1O4/G2Y7wNkc6j8AAAAAAAAAgHlvDaVT38o/j8JRjbHqsT8AAAAAAAAAgAAAAAAAAACAAAAAAAAAAIAAAAAAAAAAgAAAAAAAAACAAAAAAAAAAIAAAAAAAAAAgCZkYXmhUMg/AAAAAAAAAIAAAAAAAAAAgAAAAAAAAACAAAAAAAAAAIAAAAAAAAAAgCN2iRJW8PU/LY0Anbst2j81nYePBX31P9kJQuUNYuc/rBdFZK2XfD/XMprSWA/oP7SPYQ/hd+g/AAAAAAAAAIAAAAAAAAAAgAAAAAAAAACAAAAAAAAAAIAAAAAAAAAAgAAAAAAAAACAAAAAAAAAAIAAAAAAAAAAgAAAAAAAAACA\",\"dtype\":\"float64\",\"order\":\"little\",\"shape\":[102]}},\"selected\":{\"id\":\"1050\"},\"selection_policy\":{\"id\":\"1051\"}},\"id\":\"1003\",\"type\":\"ColumnDataSource\"},{\"attributes\":{},\"id\":\"1051\",\"type\":\"UnionRenderers\"},{\"attributes\":{},\"id\":\"1007\",\"type\":\"DataRange1d\"},{\"attributes\":{},\"id\":\"1011\",\"type\":\"LinearScale\"},{\"attributes\":{\"axis\":{\"id\":\"1013\"},\"ticker\":null},\"id\":\"1016\",\"type\":\"Grid\"},{\"attributes\":{\"axis_label\":\"Fold Change\",\"formatter\":{\"id\":\"1046\"},\"major_label_policy\":{\"id\":\"1045\"},\"ticker\":{\"id\":\"1014\"}},\"id\":\"1013\",\"type\":\"LinearAxis\"},{\"attributes\":{\"data_source\":{\"id\":\"1003\"},\"glyph\":{\"id\":\"1038\"},\"hover_glyph\":null,\"muted_glyph\":null,\"name\":\"AL022345.11_t2d_expression_volcano_plot\",\"nonselection_glyph\":{\"id\":\"1039\"},\"view\":{\"id\":\"1041\"}},\"id\":\"1040\",\"type\":\"GlyphRenderer\"},{\"attributes\":{\"bottom_units\":\"screen\",\"fill_alpha\":0.5,\"fill_color\":\"lightgrey\",\"left_units\":\"screen\",\"level\":\"overlay\",\"line_alpha\":1.0,\"line_color\":\"black\",\"line_dash\":[4,4],\"line_width\":2,\"right_units\":\"screen\",\"syncable\":false,\"top_units\":\"screen\"},\"id\":\"1027\",\"type\":\"BoxAnnotation\"},{\"attributes\":{\"items\":[{\"id\":\"1054\"}]},\"id\":\"1053\",\"type\":\"Legend\"},{\"attributes\":{},\"id\":\"1014\",\"type\":\"BasicTicker\"},{\"attributes\":{\"axis_label\":\"-log10(P-value)\",\"formatter\":{\"id\":\"1049\"},\"major_label_policy\":{\"id\":\"1048\"},\"ticker\":{\"id\":\"1018\"}},\"id\":\"1017\",\"type\":\"LinearAxis\"},{\"attributes\":{},\"id\":\"1050\",\"type\":\"Selection\"},{\"attributes\":{},\"id\":\"1009\",\"type\":\"LinearScale\"},{\"attributes\":{},\"id\":\"1026\",\"type\":\"HelpTool\"},{\"attributes\":{\"fill_alpha\":{\"value\":0.7},\"fill_color\":{\"field\":\"colors\"},\"line_alpha\":{\"value\":0},\"line_color\":{\"value\":\"#1f77b4\"},\"line_width\":{\"value\":0.01},\"size\":{\"field\":\"sizes\"},\"x\":{\"field\":\"x\"},\"y\":{\"field\":\"y\"}},\"id\":\"1038\",\"type\":\"Circle\"},{\"attributes\":{\"fill_alpha\":{\"value\":0.1},\"fill_color\":{\"field\":\"colors\"},\"line_alpha\":{\"value\":0.1},\"line_color\":{\"value\":\"#1f77b4\"},\"line_width\":{\"value\":0.01},\"size\":{\"field\":\"sizes\"},\"x\":{\"field\":\"x\"},\"y\":{\"field\":\"y\"}},\"id\":\"1039\",\"type\":\"Circle\"},{\"attributes\":{},\"id\":\"1005\",\"type\":\"DataRange1d\"},{\"attributes\":{},\"id\":\"1046\",\"type\":\"BasicTickFormatter\"},{\"attributes\":{\"axis\":{\"id\":\"1017\"},\"dimension\":1,\"ticker\":null},\"id\":\"1020\",\"type\":\"Grid\"},{\"attributes\":{},\"id\":\"1018\",\"type\":\"BasicTicker\"},{\"attributes\":{\"callback\":null,\"tooltips\":[[\"Signature\",\"@sig\"],[\"P-Value\",\"@pval\"],[\"Fold Change\",\"@fc\"]]},\"id\":\"1028\",\"type\":\"HoverTool\"},{\"attributes\":{},\"id\":\"1022\",\"type\":\"WheelZoomTool\"},{\"attributes\":{},\"id\":\"1021\",\"type\":\"PanTool\"},{\"attributes\":{\"overlay\":{\"id\":\"1027\"}},\"id\":\"1023\",\"type\":\"BoxZoomTool\"},{\"attributes\":{},\"id\":\"1024\",\"type\":\"SaveTool\"},{\"attributes\":{},\"id\":\"1025\",\"type\":\"ResetTool\"},{\"attributes\":{},\"id\":\"1045\",\"type\":\"AllLabels\"},{\"attributes\":{\"index\":0,\"label\":{\"value\":\"RNA-seq\"},\"renderers\":[{\"id\":\"1040\"}]},\"id\":\"1054\",\"type\":\"LegendItem\"},{\"attributes\":{\"source\":{\"id\":\"1003\"}},\"id\":\"1041\",\"type\":\"CDSView\"},{\"attributes\":{},\"id\":\"1048\",\"type\":\"AllLabels\"},{\"attributes\":{\"active_multi\":null,\"tools\":[{\"id\":\"1021\"},{\"id\":\"1022\"},{\"id\":\"1023\"},{\"id\":\"1024\"},{\"id\":\"1025\"},{\"id\":\"1026\"},{\"id\":\"1028\"}]},\"id\":\"1029\",\"type\":\"Toolbar\"},{\"attributes\":{\"align\":\"center\",\"text\":\"Differential Expression of AL022345.11 in human Type 2 Diabetes Transcriptomics Signatures\",\"text_font_size\":\"14px\"},\"id\":\"1042\",\"type\":\"Title\"}],\"root_ids\":[\"1004\"]},\"title\":\"Bokeh Application\",\"version\":\"2.3.2\"}};\n  var render_items = [{\"docid\":\"fb5e4261-ed3b-4b31-9066-032d91300398\",\"root_ids\":[\"1004\"],\"roots\":{\"1004\":\"cfa4e378-7812-4889-8ada-e3030511e9cd\"}}];\n  root.Bokeh.embed.embed_items_notebook(docs_json, render_items);\n\n  }\n  if (root.Bokeh !== undefined) {\n    embed_document(root);\n  } else {\n    var attempts = 0;\n    var timer = setInterval(function(root) {\n      if (root.Bokeh !== undefined) {\n        clearInterval(timer);\n        embed_document(root);\n      } else {\n        attempts++;\n        if (attempts > 100) {\n          clearInterval(timer);\n          console.log(\"Bokeh: ERROR: Unable to run BokehJS code because BokehJS library is missing\");\n        }\n      }\n    }, 10, root)\n  }\n})(window);"
     },
     "metadata": {
      "application/vnd.bokehjs_exec.v0+json": {
       "id": "1004"
      }
     }
    }
   ],
   "metadata": {}
  },
  {
   "cell_type": "code",
   "execution_count": 14,
   "source": [
    "# get GEO links \n",
    "def geo_link(sig_name, clickable):\n",
    "    gse_id = sig_name.split('_')[0].replace('* ', '')\n",
    "    geo_path = 'https://www.ncbi.nlm.nih.gov/geo/query/acc.cgi?acc='\n",
    "    if clickable:\n",
    "        return f'<a target=\"_blank\" href=\"{geo_path}{gse_id}\">{gse_id}</a>'\n",
    "    else:\n",
    "        return f'{geo_path}{gse_id}'\n",
    "\n",
    "def appyter_link(sig_name, clickable, inst=''):\n",
    "    text = f'Analysis of {sig_name}'\n",
    "    return f'<a target=\"_blank\" href=\"{inst}\">{text}</a>'\n",
    "\n",
    "# create tables of significant results with links to GEO \n",
    "def make_tables(comb_df, is_upreg, isRNA=False):\n",
    "    dir_df = comb_df[comb_df['fc'] > 0] if is_upreg else comb_df[comb_df['fc'] < 0]\n",
    "    if dir_df.shape[0] == 0:\n",
    "        return dir_df\n",
    "    dir_df = dir_df.drop(columns='logpv').sort_values(by='pval', ascending=True)\n",
    "    if isRNA:\n",
    "        dir_df['inst'] = dir_df.apply(lambda row: appyter_link(row.sig, clickable=True, inst=row.inst), axis=1)\n",
    "    dir_df['sig'] = dir_df.apply(lambda row: f\"* {row.sig}\" if row.pval < 0.05 else row.sig, axis=1)\n",
    "    dir_df['pval'] = dir_df['pval'].apply(lambda x: f'{x:.3e}')\n",
    "    dir_df['fc'] = dir_df['fc'].apply(lambda x: f'{x:.4f}')\n",
    "    if isRNA:\n",
    "        dir_df = dir_df.rename(columns={'sig': 'Signature', 'pval': 'P-value', 'fc': 'Log2 Fold Change', 'inst': 'Link to Bulk RNA-seq Analysis'})\n",
    "    else:\n",
    "        dir_df = dir_df.rename(columns={'sig': 'Signature', 'pval': 'P-value', 'fc': 'Log2 Fold Change'})\n",
    "    dir_df['Link to GEO Study'] = dir_df['Signature'].apply(geo_link, clickable=True)\n",
    "    return dir_df\n",
    "\n",
    "# create download link for table results\n",
    "def download_link(df, fname, isRNA=False):\n",
    "    if isRNA:\n",
    "        df['Link to Bulk RNA-seq Analysis'] = df['Link to Bulk RNA-seq Analysis'].apply(\n",
    "            lambda x: x.split('href=')[1].split('>')[0].replace('\"', '')\n",
    "        )\n",
    "    df['Link to GEO Study'] = df['Link to GEO Study'].apply(\n",
    "        lambda x: x.split('href=')[1].split('>')[0].replace('\"', '')\n",
    "    )\n",
    "    df['Signature'] = df['Signature'].apply(lambda x: x.replace('* ', ''))\n",
    "    csv = df.to_csv(fname, sep='\\t', index=False)\n",
    "    link = f'<div>Download full results: <a href=\"{fname}\" target=_blank>{fname}</a></div>'\n",
    "    return link"
   ],
   "outputs": [],
   "metadata": {}
  },
  {
   "cell_type": "markdown",
   "source": [
    "The tables below show the top 10 signatures in which the gene of interest was up-regulated or down-regulated, respectively. Links are included to the original GEO studies, as well as to [Bulk RNA-seq Appyter](https://appyters.maayanlab.cloud/#/Bulk_RNA_seq) instances that display the results of performing RNA-seq analysis on the original expression data used to generate each signature."
   ],
   "metadata": {}
  },
  {
   "cell_type": "code",
   "execution_count": 15,
   "source": [
    "up_comb_df_input = make_tables(comb_df_input, is_upreg=True, isRNA=True)\n",
    "dn_comb_df_input = make_tables(comb_df_input, is_upreg=False, isRNA=True)\n",
    "if micro_exists:\n",
    "    up_micro_df_input = make_tables(micro_df_input, is_upreg=True)\n",
    "    dn_micro_df_input = make_tables(micro_df_input, is_upreg=False)"
   ],
   "outputs": [],
   "metadata": {}
  },
  {
   "cell_type": "code",
   "execution_count": 16,
   "source": [
    "if has_syn:\n",
    "    display(HTML(f'<div style=\"font-size:1rem;padding=1rem;\"><b>Top {species} RNA-seq signatures where {gene} (synonym {input_gene}) is up-regulated</b></div>'))\n",
    "else:\n",
    "    display(HTML(f'<div style=\"font-size:1rem;padding=1rem;\"><b>Top {species} RNA-seq signatures where {gene} is up-regulated</b></div>'))\n",
    "display(HTML(f'<div>Asterisk (*) denotes significance (p < 0.05)</div>'))\n",
    "display(HTML(up_comb_df_input[:10].to_html(escape=False,index=False,col_space=70)))\n",
    "display(HTML(download_link(up_comb_df_input, f'{gene}_upreg_expression_{species}_T2D_signatures.tsv')))"
   ],
   "outputs": [
    {
     "output_type": "display_data",
     "data": {
      "text/plain": [
       "<IPython.core.display.HTML object>"
      ],
      "text/html": [
       "<div style=\"font-size:1rem;padding=1rem;\"><b>Top human RNA-seq signatures where AL022345.11 is up-regulated</b></div>"
      ]
     },
     "metadata": {}
    },
    {
     "output_type": "display_data",
     "data": {
      "text/plain": [
       "<IPython.core.display.HTML object>"
      ],
      "text/html": [
       "<div>Asterisk (*) denotes significance (p < 0.05)</div>"
      ]
     },
     "metadata": {}
    },
    {
     "output_type": "display_data",
     "data": {
      "text/plain": [
       "<IPython.core.display.HTML object>"
      ],
      "text/html": [
       "<table border=\"1\" class=\"dataframe\">\n",
       "  <thead>\n",
       "    <tr style=\"text-align: right;\">\n",
       "      <th style=\"min-width: 70px;\">Signature</th>\n",
       "      <th style=\"min-width: 70px;\">P-value</th>\n",
       "      <th style=\"min-width: 70px;\">Log2 Fold Change</th>\n",
       "      <th style=\"min-width: 70px;\">Link to Bulk RNA-seq Analysis</th>\n",
       "      <th style=\"min-width: 70px;\">Link to GEO Study</th>\n",
       "    </tr>\n",
       "  </thead>\n",
       "  <tbody>\n",
       "    <tr>\n",
       "      <td>* GSE142025_Ctrl-vs-EarlyDiabeticNephropathy_Human_BulkRNAseq_Kidney</td>\n",
       "      <td>4.191e-02</td>\n",
       "      <td>0.8897</td>\n",
       "      <td><a target=\"_blank\" href=\"https://appyters.maayanlab.cloud/Bulk_RNA_seq/f86b5e92fc0ef28151f149732e61ed435f2a7432\">Analysis of GSE142025_Ctrl-vs-EarlyDiabeticNephropathy_Human_BulkRNAseq_Kidney</a></td>\n",
       "      <td><a target=\"_blank\" href=\"https://www.ncbi.nlm.nih.gov/geo/query/acc.cgi?acc=GSE142025\">GSE142025</a></td>\n",
       "    </tr>\n",
       "    <tr>\n",
       "      <td>* GSE157585_Placebo-vs-Metformin_NoResistanceTraining_Human_BulkRNAseq_Muscle</td>\n",
       "      <td>4.539e-02</td>\n",
       "      <td>0.2208</td>\n",
       "      <td><a target=\"_blank\" href=\"https://appyters.maayanlab.cloud/Bulk_RNA_seq/4ff942c486bcbba5e4c7d938b3e4fe0c8f4e6bcf\">Analysis of GSE157585_Placebo-vs-Metformin_NoResistanceTraining_Human_BulkRNAseq_Muscle</a></td>\n",
       "      <td><a target=\"_blank\" href=\"https://www.ncbi.nlm.nih.gov/geo/query/acc.cgi?acc=GSE157585\">GSE157585</a></td>\n",
       "    </tr>\n",
       "    <tr>\n",
       "      <td>GSE140230_CtrlPBS-vs-Tacrolimus_Human_BulkRNAseq_Islet</td>\n",
       "      <td>7.048e-02</td>\n",
       "      <td>0.6000</td>\n",
       "      <td><a target=\"_blank\" href=\"https://appyters.maayanlab.cloud/Bulk_RNA_seq/fe2e89624c3c224d49b5d723d3c4402a8c988093\">Analysis of GSE140230_CtrlPBS-vs-Tacrolimus_Human_BulkRNAseq_Islet</a></td>\n",
       "      <td><a target=\"_blank\" href=\"https://www.ncbi.nlm.nih.gov/geo/query/acc.cgi?acc=GSE140230\">GSE140230</a></td>\n",
       "    </tr>\n",
       "    <tr>\n",
       "      <td>GSE125856_NonCoronaryArteryDiseaseCAD-vs-CAD_Obese_Human_BulkRNAseq_Adipose</td>\n",
       "      <td>1.295e-01</td>\n",
       "      <td>0.6395</td>\n",
       "      <td><a target=\"_blank\" href=\"https://appyters.maayanlab.cloud/Bulk_RNA_seq/9a9719c36cbcb2453653dc73cd122d3e5c716506\">Analysis of GSE125856_NonCoronaryArteryDiseaseCAD-vs-CAD_Obese_Human_BulkRNAseq_Adipose</a></td>\n",
       "      <td><a target=\"_blank\" href=\"https://www.ncbi.nlm.nih.gov/geo/query/acc.cgi?acc=GSE125856\">GSE125856</a></td>\n",
       "    </tr>\n",
       "    <tr>\n",
       "      <td>GSE139932_Ctrl-vs-Cytokines_Human_BulkRNAseq_Islet</td>\n",
       "      <td>1.529e-01</td>\n",
       "      <td>0.7379</td>\n",
       "      <td><a target=\"_blank\" href=\"https://appyters.maayanlab.cloud/Bulk_RNA_seq/de7f5c8f2750e76fbe27d76a6d342887aa7fb3bb\">Analysis of GSE139932_Ctrl-vs-Cytokines_Human_BulkRNAseq_Islet</a></td>\n",
       "      <td><a target=\"_blank\" href=\"https://www.ncbi.nlm.nih.gov/geo/query/acc.cgi?acc=GSE139932\">GSE139932</a></td>\n",
       "    </tr>\n",
       "    <tr>\n",
       "      <td>GSE67543_Fetal-vs-Adult_BetaCells_Human_BulkRNAseq_Islet</td>\n",
       "      <td>1.719e-01</td>\n",
       "      <td>0.1250</td>\n",
       "      <td><a target=\"_blank\" href=\"https://appyters.maayanlab.cloud/Bulk_RNA_seq/dc7c84a33c63afd9be96d04baba8dd5993917825\">Analysis of GSE67543_Fetal-vs-Adult_BetaCells_Human_BulkRNAseq_Islet</a></td>\n",
       "      <td><a target=\"_blank\" href=\"https://www.ncbi.nlm.nih.gov/geo/query/acc.cgi?acc=GSE67543\">GSE67543</a></td>\n",
       "    </tr>\n",
       "    <tr>\n",
       "      <td>GSE67543_Fetal-vs-Adult_AlphaCells_Human_BulkRNAseq_Islet</td>\n",
       "      <td>1.771e-01</td>\n",
       "      <td>0.1505</td>\n",
       "      <td><a target=\"_blank\" href=\"https://appyters.maayanlab.cloud/Bulk_RNA_seq/4f098ccaf7a7bc1f5ec5aa05f3ca5362cfb6351f\">Analysis of GSE67543_Fetal-vs-Adult_AlphaCells_Human_BulkRNAseq_Islet</a></td>\n",
       "      <td><a target=\"_blank\" href=\"https://www.ncbi.nlm.nih.gov/geo/query/acc.cgi?acc=GSE67543\">GSE67543</a></td>\n",
       "    </tr>\n",
       "    <tr>\n",
       "      <td>GSE135445_CtrlSinusRhythm-vs-AtrialFibriallation_Human_BulkRNAseq_EpicardialAdipose</td>\n",
       "      <td>1.821e-01</td>\n",
       "      <td>0.2719</td>\n",
       "      <td><a target=\"_blank\" href=\"https://appyters.maayanlab.cloud/Bulk_RNA_seq/8c011a5027795f028df5feaa5dcb43d7d043f990\">Analysis of GSE135445_CtrlSinusRhythm-vs-AtrialFibriallation_Human_BulkRNAseq_EpicardialAdipose</a></td>\n",
       "      <td><a target=\"_blank\" href=\"https://www.ncbi.nlm.nih.gov/geo/query/acc.cgi?acc=GSE135445\">GSE135445</a></td>\n",
       "    </tr>\n",
       "    <tr>\n",
       "      <td>GSE134068_HighQuality-vs-MediumQuality_Human_BulkRNAseq_Islet</td>\n",
       "      <td>1.877e-01</td>\n",
       "      <td>0.7668</td>\n",
       "      <td><a target=\"_blank\" href=\"https://appyters.maayanlab.cloud/Bulk_RNA_seq/fc658492cb4ae7e99fbf0c3c0b618fe6cad466b7\">Analysis of GSE134068_HighQuality-vs-MediumQuality_Human_BulkRNAseq_Islet</a></td>\n",
       "      <td><a target=\"_blank\" href=\"https://www.ncbi.nlm.nih.gov/geo/query/acc.cgi?acc=GSE134068\">GSE134068</a></td>\n",
       "    </tr>\n",
       "    <tr>\n",
       "      <td>GSE107894_Placebo-vs-Metformin_Visit1_Human_BulkRNAseq_Muscle</td>\n",
       "      <td>2.190e-01</td>\n",
       "      <td>0.1681</td>\n",
       "      <td><a target=\"_blank\" href=\"https://appyters.maayanlab.cloud/Bulk_RNA_seq/4b169e4337d9ea7525ed14d478eb51291774c397\">Analysis of GSE107894_Placebo-vs-Metformin_Visit1_Human_BulkRNAseq_Muscle</a></td>\n",
       "      <td><a target=\"_blank\" href=\"https://www.ncbi.nlm.nih.gov/geo/query/acc.cgi?acc=GSE107894\">GSE107894</a></td>\n",
       "    </tr>\n",
       "  </tbody>\n",
       "</table>"
      ]
     },
     "metadata": {}
    },
    {
     "output_type": "display_data",
     "data": {
      "text/plain": [
       "<IPython.core.display.HTML object>"
      ],
      "text/html": [
       "<div>Download full results: <a href=\"AL022345.11_upreg_expression_human_T2D_signatures.tsv\" target=_blank>AL022345.11_upreg_expression_human_T2D_signatures.tsv</a></div>"
      ]
     },
     "metadata": {}
    }
   ],
   "metadata": {}
  },
  {
   "cell_type": "code",
   "execution_count": 17,
   "source": [
    "if has_syn:\n",
    "    display(HTML(f'<div style=\"font-size:1rem;padding=1rem;\"><b>Top {species} RNA-seq signatures where {gene} (synonym {input_gene}) is down-regulated</b></div>'))\n",
    "else:\n",
    "    display(HTML(f'<div style=\"font-size:1rem;padding=1rem;\"><b>Top {species} RNA-seq signatures where {gene} is down-regulated</b></div>'))\n",
    "display(HTML(f'<div>Asterisk (*) denotes significance (p < 0.05)</div>'))\n",
    "display(HTML(dn_comb_df_input[:10].to_html(escape=False,index=False,col_space=70)))\n",
    "display(HTML(download_link(dn_comb_df_input, f'{gene}_downreg_expression_{species}_T2D_signatures.tsv')))"
   ],
   "outputs": [
    {
     "output_type": "display_data",
     "data": {
      "text/plain": [
       "<IPython.core.display.HTML object>"
      ],
      "text/html": [
       "<div style=\"font-size:1rem;padding=1rem;\"><b>Top human RNA-seq signatures where AL022345.11 is down-regulated</b></div>"
      ]
     },
     "metadata": {}
    },
    {
     "output_type": "display_data",
     "data": {
      "text/plain": [
       "<IPython.core.display.HTML object>"
      ],
      "text/html": [
       "<div>Asterisk (*) denotes significance (p < 0.05)</div>"
      ]
     },
     "metadata": {}
    },
    {
     "output_type": "display_data",
     "data": {
      "text/plain": [
       "<IPython.core.display.HTML object>"
      ],
      "text/html": [
       "<table border=\"1\" class=\"dataframe\">\n",
       "  <thead>\n",
       "    <tr style=\"text-align: right;\">\n",
       "      <th style=\"min-width: 70px;\">Signature</th>\n",
       "      <th style=\"min-width: 70px;\">P-value</th>\n",
       "      <th style=\"min-width: 70px;\">Log2 Fold Change</th>\n",
       "      <th style=\"min-width: 70px;\">Link to Bulk RNA-seq Analysis</th>\n",
       "      <th style=\"min-width: 70px;\">Link to GEO Study</th>\n",
       "    </tr>\n",
       "  </thead>\n",
       "  <tbody>\n",
       "    <tr>\n",
       "      <td>* GSE157585_Ctrl-vs-ResistanceTraining_Metformin_Human_BulkRNAseq_Muscle</td>\n",
       "      <td>4.254e-02</td>\n",
       "      <td>-0.2404</td>\n",
       "      <td><a target=\"_blank\" href=\"https://appyters.maayanlab.cloud/Bulk_RNA_seq/85695ed6ac42e2bd4d8e1a334acda8f3c08cb918\">Analysis of GSE157585_Ctrl-vs-ResistanceTraining_Metformin_Human_BulkRNAseq_Muscle</a></td>\n",
       "      <td><a target=\"_blank\" href=\"https://www.ncbi.nlm.nih.gov/geo/query/acc.cgi?acc=GSE157585\">GSE157585</a></td>\n",
       "    </tr>\n",
       "    <tr>\n",
       "      <td>GSE107894_Placebo-vs-Metformin_Visit2_Human_BulkRNAseq_Muscle</td>\n",
       "      <td>7.493e-02</td>\n",
       "      <td>-0.6677</td>\n",
       "      <td><a target=\"_blank\" href=\"https://appyters.maayanlab.cloud/Bulk_RNA_seq/129c9afa9ef3008f1185c62b53490e45369a6cef\">Analysis of GSE107894_Placebo-vs-Metformin_Visit2_Human_BulkRNAseq_Muscle</a></td>\n",
       "      <td><a target=\"_blank\" href=\"https://www.ncbi.nlm.nih.gov/geo/query/acc.cgi?acc=GSE107894\">GSE107894</a></td>\n",
       "    </tr>\n",
       "    <tr>\n",
       "      <td>GSE141891_2D-vs-3D-GrowthCondition_Human_BulkRNAseq_iPSCs</td>\n",
       "      <td>9.312e-02</td>\n",
       "      <td>-0.1984</td>\n",
       "      <td><a target=\"_blank\" href=\"https://appyters.maayanlab.cloud/Bulk_RNA_seq/e4fc047c3dff175e93f6a657030de72de3341cf4\">Analysis of GSE141891_2D-vs-3D-GrowthCondition_Human_BulkRNAseq_iPSCs</a></td>\n",
       "      <td><a target=\"_blank\" href=\"https://www.ncbi.nlm.nih.gov/geo/query/acc.cgi?acc=GSE141891\">GSE141891</a></td>\n",
       "    </tr>\n",
       "    <tr>\n",
       "      <td>GSE125856_NonCoronaryArteryDiseaseCAD-vs-CAD_Lean_Human_BulkRNAseq_Adipose</td>\n",
       "      <td>1.027e-01</td>\n",
       "      <td>-0.6209</td>\n",
       "      <td><a target=\"_blank\" href=\"https://appyters.maayanlab.cloud/Bulk_RNA_seq/a8f34b32d2a42fc5f7e4be992b8ef820b16327e2\">Analysis of GSE125856_NonCoronaryArteryDiseaseCAD-vs-CAD_Lean_Human_BulkRNAseq_Adipose</a></td>\n",
       "      <td><a target=\"_blank\" href=\"https://www.ncbi.nlm.nih.gov/geo/query/acc.cgi?acc=GSE125856\">GSE125856</a></td>\n",
       "    </tr>\n",
       "    <tr>\n",
       "      <td>GSE123658_Healthy-vs-Type1Diabetes_Human_BulkRNAseq_WholeBlood</td>\n",
       "      <td>1.038e-01</td>\n",
       "      <td>-0.2566</td>\n",
       "      <td><a target=\"_blank\" href=\"https://appyters.maayanlab.cloud/Bulk_RNA_seq/47a24d8c292f4d1772293fcbf349a617bd12d53c\">Analysis of GSE123658_Healthy-vs-Type1Diabetes_Human_BulkRNAseq_WholeBlood</a></td>\n",
       "      <td><a target=\"_blank\" href=\"https://www.ncbi.nlm.nih.gov/geo/query/acc.cgi?acc=GSE123658\">GSE123658</a></td>\n",
       "    </tr>\n",
       "    <tr>\n",
       "      <td>GSE143735_DiabeticForearmSkin-vs-ForearmOfFootUlcerHealer_Human_BulkRNAseq_2Tissues</td>\n",
       "      <td>1.088e-01</td>\n",
       "      <td>-0.9364</td>\n",
       "      <td><a target=\"_blank\" href=\"https://appyters.maayanlab.cloud/Bulk_RNA_seq/4483508d56b60d29a86659840661827c9a47819f\">Analysis of GSE143735_DiabeticForearmSkin-vs-ForearmOfFootUlcerHealer_Human_BulkRNAseq_2Tissues</a></td>\n",
       "      <td><a target=\"_blank\" href=\"https://www.ncbi.nlm.nih.gov/geo/query/acc.cgi?acc=GSE143735\">GSE143735</a></td>\n",
       "    </tr>\n",
       "    <tr>\n",
       "      <td>GSE143735_DiabeticForearmSkin-vs-ForearmOfFootUlcerNonHealer_Human_BulkRNAseq_2Tissues</td>\n",
       "      <td>1.527e-01</td>\n",
       "      <td>-0.9295</td>\n",
       "      <td><a target=\"_blank\" href=\"https://appyters.maayanlab.cloud/Bulk_RNA_seq/19eb9c33ac7dee55270110ae7713064e9e40777b\">Analysis of GSE143735_DiabeticForearmSkin-vs-ForearmOfFootUlcerNonHealer_Human_BulkRNAseq_2Tissues</a></td>\n",
       "      <td><a target=\"_blank\" href=\"https://www.ncbi.nlm.nih.gov/geo/query/acc.cgi?acc=GSE143735\">GSE143735</a></td>\n",
       "    </tr>\n",
       "    <tr>\n",
       "      <td>GSE157585_Placebo-vs-Metformin_ResistanceTraining16wks_Human_BulkRNAseq_Muscle</td>\n",
       "      <td>1.859e-01</td>\n",
       "      <td>-0.1411</td>\n",
       "      <td><a target=\"_blank\" href=\"https://appyters.maayanlab.cloud/Bulk_RNA_seq/e01848fe60b8a8eba75f0256849a2083c0b321f9\">Analysis of GSE157585_Placebo-vs-Metformin_ResistanceTraining16wks_Human_BulkRNAseq_Muscle</a></td>\n",
       "      <td><a target=\"_blank\" href=\"https://www.ncbi.nlm.nih.gov/geo/query/acc.cgi?acc=GSE157585\">GSE157585</a></td>\n",
       "    </tr>\n",
       "    <tr>\n",
       "      <td>GSE108971_Ctrl-vs-Diabetic_Human_BulkRNAseq_SubcutaneousAdipose</td>\n",
       "      <td>2.229e-01</td>\n",
       "      <td>-0.4410</td>\n",
       "      <td><a target=\"_blank\" href=\"https://appyters.maayanlab.cloud/Bulk_RNA_seq/654d89b725b829c1651577c3799acb24dc72d940\">Analysis of GSE108971_Ctrl-vs-Diabetic_Human_BulkRNAseq_SubcutaneousAdipose</a></td>\n",
       "      <td><a target=\"_blank\" href=\"https://www.ncbi.nlm.nih.gov/geo/query/acc.cgi?acc=GSE108971\">GSE108971</a></td>\n",
       "    </tr>\n",
       "    <tr>\n",
       "      <td>GSE108413_Ctrl-vs-Cytokines_Human_BulkRNAseq_Islet</td>\n",
       "      <td>3.219e-01</td>\n",
       "      <td>-0.5560</td>\n",
       "      <td><a target=\"_blank\" href=\"https://appyters.maayanlab.cloud/Bulk_RNA_seq/8be1e6fadd8b9ffeb065ca43b31ea8a9b6693332\">Analysis of GSE108413_Ctrl-vs-Cytokines_Human_BulkRNAseq_Islet</a></td>\n",
       "      <td><a target=\"_blank\" href=\"https://www.ncbi.nlm.nih.gov/geo/query/acc.cgi?acc=GSE108413\">GSE108413</a></td>\n",
       "    </tr>\n",
       "  </tbody>\n",
       "</table>"
      ]
     },
     "metadata": {}
    },
    {
     "output_type": "display_data",
     "data": {
      "text/plain": [
       "<IPython.core.display.HTML object>"
      ],
      "text/html": [
       "<div>Download full results: <a href=\"AL022345.11_downreg_expression_human_T2D_signatures.tsv\" target=_blank>AL022345.11_downreg_expression_human_T2D_signatures.tsv</a></div>"
      ]
     },
     "metadata": {}
    }
   ],
   "metadata": {}
  },
  {
   "cell_type": "code",
   "execution_count": 18,
   "source": [
    "if micro_exists:\n",
    "    if has_syn:\n",
    "        display(HTML(f'<div style=\"font-size:1rem;padding=1rem;\"><b>Top {species} microarray signatures where {gene} (synonym {input_gene}) is up-regulated</b></div>'))\n",
    "    else:\n",
    "        display(HTML(f'<div style=\"font-size:1rem;padding=1rem;\"><b>Top {species} microarray signatures where {gene} is up-regulated</b></div>'))\n",
    "    display(HTML(f'<div>Asterisk (*) denotes significance (p < 0.05)</div>'))\n",
    "    display(HTML(up_micro_df_input[:10].to_html(escape=False,index=False,col_space=70)))\n",
    "    display(HTML(download_link(up_micro_df_input, f'{gene}_upreg_microarray_{species}_T2D_signatures.tsv')))\n",
    "else:\n",
    "    display(HTML(f'<div style=\"font-size:1rem;padding=1rem;\"><b>There are no {species} microarray signatures in which {gene} is up-regulated</b></div>'))"
   ],
   "outputs": [
    {
     "output_type": "display_data",
     "data": {
      "text/plain": [
       "<IPython.core.display.HTML object>"
      ],
      "text/html": [
       "<div style=\"font-size:1rem;padding=1rem;\"><b>There are no human microarray signatures in which AL022345.11 is up-regulated</b></div>"
      ]
     },
     "metadata": {}
    }
   ],
   "metadata": {}
  },
  {
   "cell_type": "code",
   "execution_count": 19,
   "source": [
    "if micro_exists:\n",
    "    if has_syn:\n",
    "        display(HTML(f'<div style=\"font-size:1rem;padding=1rem;\"><b>Top {species} microarray signatures where {gene} (synonym {input_gene}) is down-regulated</b></div>'))\n",
    "    else:\n",
    "        display(HTML(f'<div style=\"font-size:1rem;padding=1rem;\"><b>Top {species} microarray signatures where {gene} is down-regulated</b></div>'))\n",
    "    display(HTML(f'<div>Asterisk (*) denotes significance (p < 0.05)</div>'))\n",
    "    display(HTML(dn_micro_df_input[:10].to_html(escape=False,index=False,col_space=70)))\n",
    "    display(HTML(download_link(dn_micro_df_input, f'{gene}_downreg_microarray_{species}_T2D_signatures.tsv')))\n",
    "else:\n",
    "    display(HTML(f'<div style=\"font-size:1rem;padding=1rem;\"><b>There are no {species} microarray signatures in which {gene} is down-regulated</b></div>'))"
   ],
   "outputs": [
    {
     "output_type": "display_data",
     "data": {
      "text/plain": [
       "<IPython.core.display.HTML object>"
      ],
      "text/html": [
       "<div style=\"font-size:1rem;padding=1rem;\"><b>There are no human microarray signatures in which AL022345.11 is down-regulated</b></div>"
      ]
     },
     "metadata": {}
    }
   ],
   "metadata": {}
  },
  {
   "cell_type": "code",
   "execution_count": 20,
   "source": [
    "alt_species = 'mouse' if species == 'human' else 'human'\n",
    "# get all gene symbols and find overlapping genes\n",
    "with requests.get(f\"{root_path}{alt_species}_sig_genes.txt\") as r:\n",
    "    alt_sig_genes = r.text.split('\\n')\n",
    "overlapping_genes = list(set([x.upper() for x in sig_genes]).intersection(set([y.upper() for y in alt_sig_genes])))\n",
    "is_overlap = gene.upper() in overlapping_genes\n",
    "alt_gene = gene.upper() if species == 'mouse' else gene.lower().capitalize()"
   ],
   "outputs": [],
   "metadata": {}
  },
  {
   "cell_type": "code",
   "execution_count": 21,
   "source": [
    "if is_overlap:\n",
    "    display(Markdown(f\"## {alt_species.capitalize()} T2D-Related Expression Studies\"))\n",
    "    display(Markdown(f\"The volcano plot and results tables below are generated from signatures from the species not chosen in the input form, in the case that the chosen gene overlaps between mouse and human species.\"))\n",
    "    display(HTML(f'<div style=\"font-size:1rem;padding=1rem 0;\">Corresponding {alt_species} gene: <b>{alt_gene}</b>.</div>'))"
   ],
   "outputs": [],
   "metadata": {}
  },
  {
   "cell_type": "code",
   "execution_count": 22,
   "source": [
    "if is_overlap:\n",
    "    pval_df_alt = pd.read_feather(f\"{root_path}all_{alt_species}_pval.f\", columns=['index', alt_gene]).set_index('index')\n",
    "    fc_df_alt = pd.read_feather(f\"{root_path}all_{alt_species}_fc.f\", columns=['index', alt_gene]).set_index('index')\n",
    "    inst_df_alt = pd.read_csv(f\"{root_path}{alt_species}_instances.tsv\", sep='\\t', index_col=0)\n",
    "    \n",
    "    micro_pval_alt = pd.read_feather(f\"{root_path}{alt_species}_pruned_affy_pv.f\", columns=['index', alt_gene]).set_index('index')\n",
    "    micro_fc_alt = pd.read_feather(f\"{root_path}{alt_species}_pruned_affy_fc.f\", columns=['index', alt_gene]).set_index('index')\n",
    "\n",
    "    alt_comb_df = combine_data(pval_df_alt, fc_df_alt, alt_gene, isRNA=True, inst_df=inst_df_alt)\n",
    "    alt_micro_df = combine_data(micro_pval_alt, micro_fc_alt, alt_gene)\n",
    "    make_plot(alt_comb_df, alt_species, alt_gene, micro=micro_exists, micro_df=alt_micro_df)\n"
   ],
   "outputs": [],
   "metadata": {}
  },
  {
   "cell_type": "code",
   "execution_count": 23,
   "source": [
    "if is_overlap:\n",
    "    up_alt_comb_df = make_tables(alt_comb_df, is_upreg=True, isRNA=True)\n",
    "    display(HTML(f'<div style=\"font-size:1rem;padding=1rem 0;\"><b>Top {alt_species} RNA-seq signatures where {alt_gene} is up-regulated</b></div>'))\n",
    "    display(HTML(f'<div>Asterisk (*) denotes significance (p < 0.05)</div>'))\n",
    "    display(HTML(up_alt_comb_df[:10].to_html(escape=False,index=False,col_space=70)))\n",
    "    display(HTML(download_link(up_alt_comb_df, f'{alt_gene}_upreg_expression_{alt_species}_T2D_signatures.tsv')))"
   ],
   "outputs": [],
   "metadata": {}
  },
  {
   "cell_type": "code",
   "execution_count": 24,
   "source": [
    "if is_overlap:\n",
    "    dn_alt_comb_df = make_tables(alt_comb_df, is_upreg=False, isRNA=True)\n",
    "    display(HTML(f'<div style=\"font-size:1rem;padding=1rem 0;\"><b>Top {alt_species} RNA-seq signatures where {alt_gene} is down-regulated</b></div>'))\n",
    "    display(HTML(f'<div>Asterisk (*) denotes significance (p < 0.05)</div>'))\n",
    "    display(HTML(dn_alt_comb_df[:10].to_html(escape=False,index=False,col_space=70)))\n",
    "    display(HTML(download_link(dn_alt_comb_df, f'{alt_gene}_downreg_expression_{alt_species}_T2D_signatures.tsv')))"
   ],
   "outputs": [],
   "metadata": {}
  },
  {
   "cell_type": "code",
   "execution_count": 25,
   "source": [
    "if is_overlap:\n",
    "    if micro_exists:\n",
    "        up_alt_micro_df = make_tables(alt_micro_df, is_upreg=True)\n",
    "        display(HTML(f'<div style=\"font-size:1rem;padding=1rem 0;\"><b>Top {alt_species} microarray signatures where {alt_gene} is up-regulated</b></div>'))\n",
    "        display(HTML(f'<div>Asterisk (*) denotes significance (p < 0.05)</div>'))\n",
    "        display(HTML(up_alt_micro_df[:10].to_html(escape=False,index=False,col_space=70)))\n",
    "        display(HTML(download_link(up_alt_micro_df, f'{alt_gene}_upreg_microarray_{alt_species}_T2D_signatures.tsv')))\n",
    "    else:\n",
    "        display(HTML(f'<div style=\"font-size:1rem;padding=1rem;\"><b>There are no {alt_species} microarray signatures in which {alt_gene} is up-regulated</b></div>'))"
   ],
   "outputs": [],
   "metadata": {}
  },
  {
   "cell_type": "code",
   "execution_count": 26,
   "source": [
    "if is_overlap:\n",
    "    if micro_exists:\n",
    "        dn_alt_micro_df = make_tables(alt_micro_df, is_upreg=False)\n",
    "        display(HTML(f'<div style=\"font-size:1rem;padding=1rem 0;\"><b>Top {alt_species} microarray signatures where {alt_gene} is down-regulated</b></div>'))\n",
    "        display(HTML(f'<div>Asterisk (*) denotes significance (p < 0.05)</div>'))\n",
    "        display(HTML(dn_alt_micro_df[:10].to_html(escape=False,index=False,col_space=70)))\n",
    "        display(HTML(download_link(dn_alt_micro_df, f'{alt_gene}_downreg_microarray_{alt_species}_T2D_signatures.tsv')))\n",
    "    else:\n",
    "        display(HTML(f'<div style=\"font-size:1rem;padding=1rem;\"><b>There are no {alt_species} microarray signatures in which {alt_gene} is down-regulated</b></div>'))"
   ],
   "outputs": [],
   "metadata": {}
  },
  {
   "cell_type": "code",
   "execution_count": 27,
   "source": [
    "if not is_overlap:\n",
    "    display(HTML(f'<div style=\"font-size:1rem;padding=1rem 0;\">Corresponding gene not found in {alt_species}.</div>'))"
   ],
   "outputs": [
    {
     "output_type": "display_data",
     "data": {
      "text/plain": [
       "<IPython.core.display.HTML object>"
      ],
      "text/html": [
       "<div style=\"font-size:1rem;padding=1rem 0;\">Corresponding gene not found in mouse.</div>"
      ]
     },
     "metadata": {}
    }
   ],
   "metadata": {}
  }
 ],
 "metadata": {
  "interpreter": {
   "hash": "fbf00f1e36f78770a5a143a77489862bb2f9421629c90fd326651450aedc6520"
  },
  "kernelspec": {
   "name": "python3",
   "display_name": "Python 3.9.6 64-bit ('t2d-venv': venv)"
  },
  "language_info": {
   "codemirror_mode": {
    "name": "ipython",
    "version": 3
   },
   "file_extension": ".py",
   "mimetype": "text/x-python",
   "name": "python",
   "nbconvert_exporter": "python",
   "pygments_lexer": "ipython3",
   "version": "3.9.6"
  }
 },
 "nbformat": 4,
 "nbformat_minor": 2
}