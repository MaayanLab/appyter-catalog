{
 "cells": [
  {
   "cell_type": "code",
   "execution_count": null,
   "metadata": {},
   "outputs": [],
   "source": [
    "#%%appyter init\n",
    "from appyter import magic\n",
    "magic.init(lambda _=globals: _())"
   ]
  },
  {
   "cell_type": "code",
   "execution_count": null,
   "metadata": {},
   "outputs": [],
   "source": [
    "%%appyter markdown\n",
    "# GMT File Augmentation\n",
    "This Appyter augments gene sets within a submitted GMT file with co-occurrence or co-expression matrices\n",
    "and outputs an augmented GMT file."
   ]
  },
  {
   "cell_type": "code",
   "execution_count": null,
   "metadata": {},
   "outputs": [],
   "source": [
    "import requests\n",
    "import json\n",
    "import time\n",
    "from tqdm import tqdm\n",
    "\n",
    "import pandas as pd\n",
    "from IPython.display import display, HTML"
   ]
  },
  {
   "cell_type": "code",
   "execution_count": null,
   "metadata": {},
   "outputs": [],
   "source": [
    "%%appyter hide_code\n",
    "{% do SectionField(\n",
    "    title='Input Settings',\n",
    "    subtitle='Upload a GMT file, select a gene-gene correlation matrix, and choose the number of augmented genes to add to each gene set.',\n",
    "    name='settings',\n",
    "    img='settings.png',\n",
    ") %}\n",
    "\n",
    "{% set gmt_file = FileField(\n",
    "    name='gmt_file',\n",
    "    label='GMT File (.gmt or .txt)',\n",
    "    default='test.gmt',\n",
    "    description='Upload a GMT file for augmentation. The GMT file format is a tab delimited file format that describes gene sets.',\n",
    "    examples={\n",
    "        'test.gmt': 'https://maayanlab.cloud/Enrichr/geneSetLibrary?mode=text&libraryName=VirusMINT',\n",
    "    },\n",
    "    section='settings',\n",
    ")%}\n",
    "\n",
    "{% set augmentation_method = ChoiceField(\n",
    "    name='augmentation_method',\n",
    "    label='Gene Set Augmentation Method',\n",
    "    description='Select a method for augmenting gene sets. The options are described in depth here: https://maayanlab.cloud/geneshot/help.html',\n",
    "    choices={\n",
    "        'ARCHS4 co-expression':'coexpression',\n",
    "        'Enrichr co-occurrence':'enrichr',\n",
    "        'Tagger co-occurrence':'tagger',\n",
    "        'GeneRIF co-occurrence':'generif',\n",
    "    },\n",
    "    default= 'ARCHS4 co-expression',\n",
    "    section='settings',\n",
    "    \n",
    ")%}\n",
    "\n",
    "{% set num_genes = IntField(\n",
    "    name='num_genes',\n",
    "    label='Number of Augmented Genes',\n",
    "    description='Select the number of augmented genes to append to each gene set [50-200]',\n",
    "    min= 50,\n",
    "    max=200,\n",
    "    default= 100,\n",
    "    section='settings',\n",
    ")%}"
   ]
  },
  {
   "cell_type": "code",
   "execution_count": null,
   "metadata": {},
   "outputs": [],
   "source": [
    "%%appyter code_exec\n",
    "def geneshot(gene_list):\n",
    "    GENESHOT_URL = 'https://maayanlab.cloud/geneshot/api/associate'\n",
    "    payload = {\n",
    "      \"gene_list\": gene_list,\n",
    "      \"similarity\": \"{{augmentation_method}}\"\n",
    "    }\n",
    "    response = requests.post(GENESHOT_URL, json=payload)\n",
    "\n",
    "    data = json.loads(response.text)\n",
    "    df = pd.DataFrame.from_dict({k:v['simScore'] for k,v in data['association'].items()},\n",
    "                       orient = 'index',\n",
    "                       columns = ['Score'])\n",
    "    df = df.sort_values(by=['Score'], ascending = False).dropna()[0:{{num_genes}}]\n",
    "    augmented_genes = df.loc[~df.index.isin(gene_list)].index.tolist()\n",
    "    \n",
    "    return augmented_genes"
   ]
  },
  {
   "cell_type": "code",
   "execution_count": null,
   "metadata": {},
   "outputs": [],
   "source": [
    "%%appyter code_exec\n",
    "with open({{gmt_file}}, 'r') as f:\n",
    "    genesets = f.read().split(\"\\n\")\n",
    "\n",
    "genesetlibrary = {}\n",
    "for line in genesets:\n",
    "    set_label = line.split(\"\\t\\t\")[0]\n",
    "    genes = line.split(\"\\t\")[2:]\n",
    "    genesetlibrary[set_label] = genes"
   ]
  },
  {
   "cell_type": "code",
   "execution_count": null,
   "metadata": {},
   "outputs": [],
   "source": [
    "%%appyter code_exec\n",
    "for term,genes in tqdm(genesetlibrary.items()):\n",
    "    augmented_list = geneshot(genes)\n",
    "    if augmented_list != []:\n",
    "        genesetlibrary[term] = sorted(genes+augmented_list)\n",
    "    else:\n",
    "        pass\n",
    "    time.sleep(0.25)"
   ]
  },
  {
   "cell_type": "code",
   "execution_count": null,
   "metadata": {},
   "outputs": [],
   "source": [
    "%%appyter code_exec\n",
    "filename = {{gmt_file}}.split('.')[0]+'_augmented.gmt'\n",
    "with open(filename, 'w') as f:\n",
    "    for k,v in genesetlibrary.items():\n",
    "        print(k+\"\\t\",*v,sep='\\t',file=f)"
   ]
  },
  {
   "cell_type": "code",
   "execution_count": null,
   "metadata": {},
   "outputs": [],
   "source": [
    "display(HTML(f'<style>p{{font-size:18px}}</style><p><b>Augmented file download link:<b></p>\\\n",
    "            <p><a target=\"_blank\" href=\"{filename}\">{filename}</a></p>'))"
   ]
  }
 ],
 "metadata": {
  "file_extension": ".py",
  "kernelspec": {
   "display_name": "Python 3",
   "language": "python",
   "name": "python3"
  },
  "language_info": {
   "codemirror_mode": {
    "name": "ipython",
    "version": 3
   },
   "file_extension": ".py",
   "mimetype": "text/x-python",
   "name": "python",
   "nbconvert_exporter": "python",
   "pygments_lexer": "ipython3",
   "version": "3.8.3"
  },
  "mimetype": "text/x-python",
  "name": "python",
  "npconvert_exporter": "python",
  "pygments_lexer": "ipython2",
  "version": 2
 },
 "nbformat": 4,
 "nbformat_minor": 2
}
