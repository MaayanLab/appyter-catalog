{
 "cells": [
  {
   "cell_type": "code",
   "execution_count": null,
   "metadata": {},
   "outputs": [],
   "source": [
    "#%%appyter init\n",
    "from appyter import magic\n",
    "magic.init(lambda _=globals: _())"
   ]
  },
  {
   "cell_type": "code",
   "execution_count": null,
   "metadata": {},
   "outputs": [],
   "source": [
    "%%appyter markdown\n",
    "# GMT File Augmentation\n",
    "<span style=\"font-size:18px;\">This Appyter takes as input a GMT file; it then adds genes to gene sets based\n",
    "on co-expression or co-occurrence matrices, and finally outputs an augmented GMT file for download.</span>"
   ]
  },
  {
   "cell_type": "code",
   "execution_count": null,
   "metadata": {},
   "outputs": [],
   "source": [
    "import requests\n",
    "import json\n",
    "import time\n",
    "from tqdm import tqdm\n",
    "\n",
    "import pandas as pd\n",
    "from IPython.display import display, HTML"
   ]
  },
  {
   "cell_type": "code",
   "execution_count": null,
   "metadata": {},
   "outputs": [],
   "source": [
    "%%appyter hide_code\n",
    "{% do SectionField(\n",
    "    title='Input Settings',\n",
    "    subtitle='Upload a GMT file, select a gene-gene correlation matrix, and choose the number of augmented genes to add to each gene set.',\n",
    "    name='settings',\n",
    "    img='settings.png',\n",
    ") %}\n",
    "\n",
    "{% set gmt_file = FileField(\n",
    "    name='gmt_file',\n",
    "    label='GMT File (.gmt or .txt)',\n",
    "    default='test.gmt',\n",
    "    description='Upload a GMT file for augmentation. The GMT file format is a tab delimited file format that describes gene sets.',\n",
    "    examples={\n",
    "        'test.gmt': 'https://maayanlab.cloud/Enrichr/geneSetLibrary?mode=text&libraryName=VirusMINT',\n",
    "    },\n",
    "    section='settings',\n",
    ")%}\n",
    "\n",
    "{% set augmentation_method = ChoiceField(\n",
    "    name='augmentation_method',\n",
    "    label='Resource for gene set augmentation',\n",
    "    description='Select a method for augmenting gene sets. The options are described in depth here: https://maayanlab.cloud/geneshot/help.html',\n",
    "    choices={\n",
    "        'ARCHS4 co-expression':'coexpression',\n",
    "        'Proteomics co-expression':'proteomics',\n",
    "        'Enrichr co-occurrence':'enrichr',\n",
    "        'Tagger co-occurrence':'tagger',\n",
    "        'GeneRIF co-occurrence':'generif',\n",
    "    },\n",
    "    default= 'Proteomics co-expression',\n",
    "    section='settings',\n",
    "    \n",
    ")%}\n",
    "\n",
    "{% set num_genes = IntField(\n",
    "    name='num_genes',\n",
    "    label='Number of augmented genes to add per set',\n",
    "    description='Select the number of augmented genes to append to each gene set [50-200].',\n",
    "    min= 50,\n",
    "    max=200,\n",
    "    default= 100,\n",
    "    section='settings',\n",
    ")%}\n",
    "\n",
    "{% set keep_original = BoolField(\n",
    "    name='keep_original',\n",
    "    label='Include original genes from each gene set?',\n",
    "    description='Toggle whether each gene set should include the original genes or just the augmented genes.',\n",
    "    default= True,\n",
    "    section='settings',\n",
    ")%}"
   ]
  },
  {
   "cell_type": "code",
   "execution_count": null,
   "metadata": {},
   "outputs": [],
   "source": [
    "%%appyter code_exec\n",
    "{% if augmentation_method.value != \"proteomics\" %}\n",
    "def geneshot(gene_list):\n",
    "    GENESHOT_URL = 'https://maayanlab.cloud/geneshot/api/associate'\n",
    "    payload = {\n",
    "      \"gene_list\": gene_list,\n",
    "      \"similarity\": \"{{augmentation_method}}\"\n",
    "    }\n",
    "    response = requests.post(GENESHOT_URL, json=payload)\n",
    "\n",
    "    data = json.loads(response.text)\n",
    "    df = pd.DataFrame.from_dict({k:v['simScore'] for k,v in data['association'].items()},\n",
    "                       orient = 'index',\n",
    "                       columns = ['Score'])\n",
    "    df = df.sort_values(by=['Score'], ascending = False).dropna()[0:{{num_genes}}]\n",
    "    augmented_genes = df.loc[~df.index.isin(gene_list)].index.tolist()\n",
    "    \n",
    "    return augmented_genes\n",
    "\n",
    "{% else %}\n",
    "proteomics_mat = pd.read_csv('https://appyters.maayanlab.cloud/storage/GMT_Augmentation_Appyter/proteomics_correlation.tsv.gz',\n",
    "                             sep = '\\t',\n",
    "                             index_col = 0)\n",
    "\n",
    "def proteomics_augmentation(gene_list):\n",
    "    if proteomics_mat.index.isin(gene_list).any():\n",
    "        return proteomics_mat.loc[proteomics_mat.index.isin(gene_list)].\\\n",
    "            mean(axis=0).\\\n",
    "            sort_values(ascending=False)[0:{{num_genes}}].index.tolist()\n",
    "    else:\n",
    "        return []\n",
    "    \n",
    "{% endif %}"
   ]
  },
  {
   "cell_type": "code",
   "execution_count": null,
   "metadata": {},
   "outputs": [],
   "source": [
    "%%appyter code_exec\n",
    "with open({{gmt_file}}, 'r') as gmt_file:\n",
    "    genesets = [line.strip() for line in gmt_file.read().split('\\n')]\n",
    "    genesetlibrary = {line.split(\"\\t\\t\")[0]:line.split(\"\\t\")[2:] \n",
    "                      for line in genesets if len(line.split(\"\\t\")[2:]) > 0}"
   ]
  },
  {
   "cell_type": "code",
   "execution_count": null,
   "metadata": {},
   "outputs": [],
   "source": [
    "%%appyter markdown\n",
    "<span style=\"font-size:18px;\">We iterate through each gene set in the gene set library and send the genes for \n",
    "augmentation using the **{{augmentation_method}}** gene-gene similarity matrix. If none of the genes from the gene \n",
    "set are present in the matrix, they cannot be augmented and the gene set is omitted from the final output.</span>"
   ]
  },
  {
   "cell_type": "code",
   "execution_count": null,
   "metadata": {},
   "outputs": [],
   "source": [
    "%%appyter code_exec\n",
    "augmented_genesetlibrary = {}\n",
    "for term,genes in tqdm(genesetlibrary.items()):\n",
    "    {% if augmentation_method.value != 'proteomics' %}\n",
    "    augmented_list = geneshot(genes)\n",
    "    time.sleep(0.5)\n",
    "    {% else %}\n",
    "    augmented_list = proteomics_augmentation(genes)\n",
    "    {% endif %}\n",
    "    if augmented_list != []:\n",
    "        {% if keep_original %}\n",
    "        augmented_genesetlibrary[term] = sorted(genes+augmented_list)\n",
    "        {% else %}\n",
    "        augmented_genesetlibrary[term] = sorted(augmented_list)\n",
    "        {% endif %}\n",
    "    else:\n",
    "        print(f\"Failed to augment {term}\")"
   ]
  },
  {
   "cell_type": "code",
   "execution_count": null,
   "metadata": {},
   "outputs": [],
   "source": [
    "%%appyter code_exec\n",
    "filename = {{gmt_file}}.split('.')[0]+'_augmented.gmt'\n",
    "with open(filename, 'w') as f:\n",
    "    for k,v in augmented_genesetlibrary.items():\n",
    "        print(k+\"\\t\",*v,sep='\\t',file=f)"
   ]
  },
  {
   "cell_type": "code",
   "execution_count": null,
   "metadata": {},
   "outputs": [],
   "source": [
    "%%appyter markdown\n",
    "<span style=\"font-size:18px;\">Below is a link to an augmented gene set library created using\n",
    "**{{augmentation_method}}** with **{{num_genes}}** augmented genes per set\n",
    "{% if keep_original.value == True %} in addition to the original genes. {%endif%}</span>"
   ]
  },
  {
   "cell_type": "code",
   "execution_count": null,
   "metadata": {},
   "outputs": [],
   "source": [
    "display(HTML(f'<style>a{{font-size:18px}}</style><a target=\"_blank\" href=\"{filename}\">{filename}</a>'))"
   ]
  }
 ],
 "metadata": {
  "file_extension": ".py",
  "kernelspec": {
   "display_name": "Python 3",
   "language": "python",
   "name": "python3"
  },
  "language_info": {
   "codemirror_mode": {
    "name": "ipython",
    "version": 3
   },
   "file_extension": ".py",
   "mimetype": "text/x-python",
   "name": "python",
   "nbconvert_exporter": "python",
   "pygments_lexer": "ipython3",
   "version": "3.8.3"
  },
  "mimetype": "text/x-python",
  "name": "python",
  "npconvert_exporter": "python",
  "pygments_lexer": "ipython2",
  "version": 2
 },
 "nbformat": 4,
 "nbformat_minor": 2
}
