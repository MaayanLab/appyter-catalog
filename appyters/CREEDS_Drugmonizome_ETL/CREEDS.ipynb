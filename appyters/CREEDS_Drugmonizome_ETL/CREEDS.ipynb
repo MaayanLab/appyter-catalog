{
 "cells": [
  {
   "cell_type": "markdown",
   "metadata": {},
   "source": [
    "## Drugmonizome ETL : CREEDS\n",
    "\n",
    "##### Author : Eryk Kropiwnicki | eryk.kropiwnicki@icahn.mssm.edu\n",
    "\n",
    "#### Data source : https://amp.pharm.mssm.edu/CREEDS/"
   ]
  },
  {
   "cell_type": "code",
   "execution_count": null,
   "metadata": {},
   "outputs": [],
   "source": [
    "#%%appyter init\n",
    "from appyter import magic\n",
    "magic.init(lambda _=globals: _())"
   ]
  },
  {
   "cell_type": "code",
   "execution_count": null,
   "metadata": {},
   "outputs": [],
   "source": [
    "import os\n",
    "import sys\n",
    "import zipfile\n",
    "import datetime\n",
    "import json\n",
    "\n",
    "import pandas as pd\n",
    "import numpy as np\n",
    "import drugmonizome.utility_functions as uf\n",
    "import harmonizome.lookup as lookup"
   ]
  },
  {
   "cell_type": "code",
   "execution_count": null,
   "metadata": {},
   "outputs": [],
   "source": [
    "%load_ext autoreload\n",
    "%autoreload 2"
   ]
  },
  {
   "cell_type": "markdown",
   "metadata": {},
   "source": [
    "### Notebook Information"
   ]
  },
  {
   "cell_type": "code",
   "execution_count": null,
   "metadata": {},
   "outputs": [],
   "source": [
    "print('This notebook was run on:', datetime.date.today(), '\\nPython version:', sys.version)"
   ]
  },
  {
   "cell_type": "markdown",
   "metadata": {},
   "source": [
    "### Initializing Notebook"
   ]
  },
  {
   "cell_type": "code",
   "execution_count": null,
   "metadata": {},
   "outputs": [],
   "source": [
    "%%appyter hide_code\n",
    "\n",
    "{% do SectionField(\n",
    "    name='data',\n",
    "    title='Upload Data',\n",
    "    img='load_icon.png'\n",
    ") %}"
   ]
  },
  {
   "cell_type": "code",
   "execution_count": null,
   "metadata": {},
   "outputs": [],
   "source": [
    "%%appyter code_eval\n",
    "\n",
    "{% do DescriptionField(\n",
    "    name='description',\n",
    "    text='The example below was sourced from <a href=\"https://amp.pharm.mssm.edu/CREEDS/#downloads\" target=\"_blank\">https://amp.pharm.mssm.edu/CREEDS/</a>. If clicking on the example does not work, it should be downloaded directly from the source website.',\n",
    "    section='data'\n",
    ") %}\n",
    "\n",
    "{% set data_file = FileField(\n",
    "    constraint='.*\\.json$',\n",
    "    name='signatures', \n",
    "    label='Drug-induced signatures (.json)', \n",
    "    default='single_drug_perturbations-v1.0.json',\n",
    "    examples={\n",
    "        'single_drug_perturbations-v1.0.json': 'https://amp.pharm.mssm.edu/CREEDS/download/single_drug_perturbations-v1.0.json'\n",
    "    },\n",
    "    section='data'\n",
    ") %}\n",
    "\n",
    "{% set entity_type = ChoiceField(\n",
    "    name='entity_type',\n",
    "    label='Choose identifier type for exported small molecules',\n",
    "    choices=[\n",
    "        'Name',\n",
    "        'InChI Key',\n",
    "    ],\n",
    "    default='Name',\n",
    "    section='data'\n",
    ") %}"
   ]
  },
  {
   "cell_type": "markdown",
   "metadata": {},
   "source": [
    "### Load Gene Mapping Dictionaries"
   ]
  },
  {
   "cell_type": "code",
   "execution_count": null,
   "metadata": {},
   "outputs": [],
   "source": [
    "symbol_lookup, geneid_lookup = lookup.get_lookups()"
   ]
  },
  {
   "cell_type": "markdown",
   "metadata": {},
   "source": [
    "### Create Output Path"
   ]
  },
  {
   "cell_type": "code",
   "execution_count": null,
   "metadata": {},
   "outputs": [],
   "source": [
    "%%appyter code_exec\n",
    "\n",
    "output_name = 'CREEDS'\n",
    "path_down = 'output/drugmonizome_CREEDS_downregulated'\n",
    "path_up = 'output/drugmonizome_CREEDS_upregulated'\n",
    "if not os.path.exists(path_down):\n",
    "    os.makedirs(path_down)\n",
    "\n",
    "if not os.path.exists(path_up):\n",
    "    os.makedirs(path_up)"
   ]
  },
  {
   "cell_type": "markdown",
   "metadata": {},
   "source": [
    "### Load Data"
   ]
  },
  {
   "cell_type": "code",
   "execution_count": null,
   "metadata": {},
   "outputs": [],
   "source": [
    "%%appyter code_exec\n",
    "\n",
    "with open({{data_file}}, 'r') as f:\n",
    "    data = json.load(f)\n",
    "    \n",
    "data[0].keys()"
   ]
  },
  {
   "cell_type": "markdown",
   "metadata": {},
   "source": [
    "### Extract human drug-gene interactions"
   ]
  },
  {
   "cell_type": "code",
   "execution_count": null,
   "metadata": {},
   "outputs": [],
   "source": [
    "edgelist_down = []\n",
    "edgelist_up = []\n",
    "\n",
    "for entry in data:\n",
    "    if entry['organism'] == 'human':\n",
    "        drug = entry['drugbank_id']\n",
    "        gene_list = []\n",
    "        drugbank_list = []\n",
    "        for gene in entry['down_genes']:\n",
    "            gene_list.append(gene[0])\n",
    "            drugbank_list.append(drug)\n",
    "        edgelist_down.extend(zip(drugbank_list,gene_list)) # create edgelist of drug-gene interactions\n",
    "        \n",
    "        gene_list = []\n",
    "        drugbank_list = []\n",
    "        for gene in entry['up_genes']:\n",
    "            gene_list.append(gene[0])\n",
    "            drugbank_list.append(drug)\n",
    "        edgelist_up.extend(zip(drugbank_list,gene_list))\n",
    "\n",
    "df_down = pd.DataFrame(data = edgelist_down, columns = ['drugbank_id','gene'])\n",
    "df_up = pd.DataFrame(data = edgelist_up, columns = ['drugbank_id','gene'])"
   ]
  },
  {
   "cell_type": "markdown",
   "metadata": {},
   "source": [
    "### Map DrugBank IDs to Names and InChIKeys"
   ]
  },
  {
   "cell_type": "code",
   "execution_count": null,
   "metadata": {},
   "outputs": [],
   "source": [
    "#Import drugbank mapping file\n",
    "drugbank_mapping = pd.read_csv('https://raw.githubusercontent.com/MaayanLab/Drugmonizome/master/drugsetlibraries/metadata/mapping_files/drugbank.tsv',\n",
    "                              sep = '\\t')"
   ]
  },
  {
   "cell_type": "code",
   "execution_count": null,
   "metadata": {},
   "outputs": [],
   "source": [
    "df_down = df_down.merge(drugbank_mapping)\n",
    "df_up = df_up.merge(drugbank_mapping)"
   ]
  },
  {
   "cell_type": "markdown",
   "metadata": {},
   "source": [
    "### Index Dataframe by selected small molecule identifier"
   ]
  },
  {
   "cell_type": "code",
   "execution_count": null,
   "metadata": {},
   "outputs": [],
   "source": [
    "%%appyter code_exec\n",
    "\n",
    "{% if entity_type.raw_value == 'InChI Key' %}\n",
    "# Index small molecules by InChI Key\n",
    "df_down = df_down[['inchi_key','gene']]\n",
    "df_down.set_index('inchi_key', inplace = True)\n",
    "\n",
    "df_up = df_up[['inchi_key','gene']]\n",
    "df_up.set_index('inchi_key', inplace = True)\n",
    "\n",
    "{% else %}\n",
    "# Index small molecules by name\n",
    "df_down = df_down[['name','gene']]\n",
    "df_down.set_index('name', inplace = True)\n",
    "\n",
    "df_up = df_up[['name','gene']]\n",
    "df_up.set_index('name', inplace = True)\n",
    "\n",
    "{% endif %}"
   ]
  },
  {
   "cell_type": "markdown",
   "metadata": {},
   "source": [
    "### Matching Gene Symbols to Approved Entrez Gene Symbols"
   ]
  },
  {
   "cell_type": "code",
   "execution_count": null,
   "metadata": {},
   "outputs": [],
   "source": [
    "df_down = uf.map_symbols(df_down, symbol_lookup)\n",
    "df_down.shape"
   ]
  },
  {
   "cell_type": "code",
   "execution_count": null,
   "metadata": {},
   "outputs": [],
   "source": [
    "df_up = uf.map_symbols(df_up, symbol_lookup)\n",
    "df_up.shape"
   ]
  },
  {
   "cell_type": "markdown",
   "metadata": {},
   "source": [
    "## Analyze Data"
   ]
  },
  {
   "cell_type": "markdown",
   "metadata": {},
   "source": [
    "### Export Edge List"
   ]
  },
  {
   "cell_type": "code",
   "execution_count": null,
   "metadata": {},
   "outputs": [],
   "source": [
    "uf.save_data(df_down, path_down, output_name + '_edge_list', \n",
    "        ext='tsv', compression='gzip')"
   ]
  },
  {
   "cell_type": "code",
   "execution_count": null,
   "metadata": {},
   "outputs": [],
   "source": [
    "uf.save_data(df_up, path_up, output_name + '_edge_list', \n",
    "        ext='tsv', compression='gzip')"
   ]
  },
  {
   "cell_type": "markdown",
   "metadata": {},
   "source": [
    "### Create Binary Matrix"
   ]
  },
  {
   "cell_type": "code",
   "execution_count": null,
   "metadata": {},
   "outputs": [],
   "source": [
    "binary_matrix_down = uf.binary_matrix(df_down)\n",
    "binary_matrix_down.shape"
   ]
  },
  {
   "cell_type": "code",
   "execution_count": null,
   "metadata": {},
   "outputs": [],
   "source": [
    "binary_matrix_up = uf.binary_matrix(df_up)\n",
    "binary_matrix_down.shape"
   ]
  },
  {
   "cell_type": "code",
   "execution_count": null,
   "metadata": {},
   "outputs": [],
   "source": [
    "uf.save_data(binary_matrix_down, path_down, output_name + '_binary_matrix', \n",
    "            compression='npz', dtype=np.uint8)"
   ]
  },
  {
   "cell_type": "code",
   "execution_count": null,
   "metadata": {},
   "outputs": [],
   "source": [
    "uf.save_data(binary_matrix_up, path_up, output_name + '_binary_matrix', \n",
    "            compression='npz', dtype=np.uint8)"
   ]
  },
  {
   "cell_type": "markdown",
   "metadata": {},
   "source": [
    "### Create Drug and Attribute Set Library"
   ]
  },
  {
   "cell_type": "code",
   "execution_count": null,
   "metadata": {},
   "outputs": [],
   "source": [
    "uf.save_setlib(binary_matrix_down, 'drug', path_down, output_name + '_drug_setlibrary')\n",
    "uf.save_setlib(binary_matrix_up, 'drug', path_up, output_name + '_drug_setlibrary')"
   ]
  },
  {
   "cell_type": "code",
   "execution_count": null,
   "metadata": {},
   "outputs": [],
   "source": [
    "uf.save_setlib(binary_matrix_down, 'attribute', path_down, output_name + '_attribute_setlibrary')\n",
    "uf.save_setlib(binary_matrix_up, 'attribute', path_up, output_name + '_attribute_setlibrary')"
   ]
  },
  {
   "cell_type": "markdown",
   "metadata": {},
   "source": [
    "### Create Attribute Similarity Matrix"
   ]
  },
  {
   "cell_type": "code",
   "execution_count": null,
   "metadata": {},
   "outputs": [],
   "source": [
    "attribute_similarity_matrix_down = uf.similarity_matrix(binary_matrix_down.T, 'jaccard', sparse=True)\n",
    "attribute_similarity_matrix_up = uf.similarity_matrix(binary_matrix_up.T, 'jaccard', sparse=True)"
   ]
  },
  {
   "cell_type": "code",
   "execution_count": null,
   "metadata": {},
   "outputs": [],
   "source": [
    "uf.save_data(attribute_similarity_matrix_down, path_down,\n",
    "            output_name + '_attribute_similarity_matrix', \n",
    "            compression='npz', symmetric=True, dtype=np.float32)\n",
    "uf.save_data(attribute_similarity_matrix_up, path_up,\n",
    "            output_name + '_attribute_similarity_matrix', \n",
    "            compression='npz', symmetric=True, dtype=np.float32)"
   ]
  },
  {
   "cell_type": "markdown",
   "metadata": {},
   "source": [
    "### Create Drug Similarity Matrix"
   ]
  },
  {
   "cell_type": "code",
   "execution_count": null,
   "metadata": {},
   "outputs": [],
   "source": [
    "drug_similarity_matrix_down = uf.similarity_matrix(binary_matrix_down, 'jaccard', sparse=True)\n",
    "drug_similarity_matrix_up = uf.similarity_matrix(binary_matrix_up, 'jaccard', sparse=True)"
   ]
  },
  {
   "cell_type": "code",
   "execution_count": null,
   "metadata": {},
   "outputs": [],
   "source": [
    "uf.save_data(drug_similarity_matrix_down, path_down,\n",
    "            output_name + '_drug_similarity_matrix', \n",
    "            compression='npz', symmetric=True, dtype=np.float32)\n",
    "uf.save_data(drug_similarity_matrix_up, path_up,\n",
    "            output_name + '_drug_similarity_matrix', \n",
    "            compression='npz', symmetric=True, dtype=np.float32)"
   ]
  },
  {
   "cell_type": "markdown",
   "metadata": {},
   "source": [
    "### Create download folder with all outputs"
   ]
  },
  {
   "cell_type": "code",
   "execution_count": null,
   "metadata": {},
   "outputs": [],
   "source": [
    "zipf = zipfile.ZipFile(\"output_archive.zip\", \"w\" )\n",
    "paths = [path_down, path_up]\n",
    "\n",
    "for path in paths:\n",
    "    for root, _, files in os.walk(path):\n",
    "        for f in files:\n",
    "            zipf.write(os.path.join(root, f))"
   ]
  },
  {
   "cell_type": "markdown",
   "metadata": {},
   "source": [
    "### Link to the output folder: [Download](./output_archive.zip)"
   ]
  }
 ],
 "metadata": {
  "kernelspec": {
   "display_name": "Python 3",
   "language": "python",
   "name": "python3"
  },
  "language_info": {
   "codemirror_mode": {
    "name": "ipython",
    "version": 3
   },
   "file_extension": ".py",
   "mimetype": "text/x-python",
   "name": "python",
   "nbconvert_exporter": "python",
   "pygments_lexer": "ipython3",
   "version": "3.8.3"
  }
 },
 "nbformat": 4,
 "nbformat_minor": 2
}
