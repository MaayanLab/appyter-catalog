{
 "cells": [
  {
   "cell_type": "code",
   "execution_count": 2,
   "metadata": {},
   "outputs": [],
   "source": [
    "#%%appyter init\n",
    "from appyter import magic\n",
    "magic.init(lambda _=globals: _())"
   ]
  },
  {
   "cell_type": "markdown",
   "metadata": {},
   "source": [
    "# TCGA Data Loader\n",
    "---\n",
    "\n",
    "An appyter that interfaces with the The Cancer Genome Atlas (TCGA) API to simplify the process of obtaining this dataset's RNA-seq and clinical data tables.\n",
    "\n",
    "The final output of this notebook is two dictionaries:\n",
    "1. `cancer_rna_dfs`: maps each cancer type to a pandas DataFrame containing all RNA seq profiles obtained under that type (according to the chosen parameters).\n",
    "    - For each DataFrame, the **rows** are genes and **columns** are cases (referenced by their case_id).<br>   \n",
    "\n",
    "\n",
    "2. `cancer_clinical_dfs`: maps each cancer type to a pandas DataFrame containing all clinical data obtained under that type (according to the chosen parameters).\n",
    "    - For each DataFrame, the **rows** are cases (referenced by case_id) and **columns** are clinical data fields.\n",
    "\n",
    "For more information on the TCGA dataset, you can browse their [Data Dictionary](https://docs.gdc.cancer.gov/Data_Dictionary/viewer/) and [API Reference](https://docs.gdc.cancer.gov/API/Users_Guide/Getting_Started/).\n",
    "\n",
    "*Note*: it is recommended to download the notebook and run it locally,  which you would have to do anyway to be able to access the produced data objects for further analysis or writing to disk.\n"
   ]
  },
  {
   "cell_type": "code",
   "execution_count": 5,
   "metadata": {},
   "outputs": [],
   "source": [
    "# Script to acquire RNA-Seq and clinical data from TCGA\n",
    "import requests\n",
    "import json\n",
    "import os\n",
    "import re\n",
    "import gzip\n",
    "import shutil\n",
    "import tarfile\n",
    "import pathlib\n",
    "import pandas as pd\n",
    "import numpy as np\n",
    "from maayanlab_bioinformatics.harmonization import ncbi_genes\n",
    "import math\n",
    "import io\n",
    "from gzip import GzipFile\n",
    "from IPython.display import display\n",
    "from urllib.error import URLError\n"
   ]
  },
  {
   "cell_type": "code",
   "execution_count": 5,
   "metadata": {},
   "outputs": [],
   "source": [
    "%%appyter hide\n",
    "\n",
    "{% do SectionField(\n",
    "    name=\"RNASeq\",\n",
    "    title=\"RNA-seq specifications\",\n",
    "    img = \"tcga-logo.png\"\n",
    ") %}\n",
    "\n",
    "\n",
    "{% do SectionField(\n",
    "    name=\"CLINICAL\",\n",
    "    title=\"Clincial data specifications\",\n",
    "    img = \"tcga-logo.png\"\n",
    ") %}\n",
    "\n",
    "{% set rna_types =  MultiChoiceField(\n",
    "    name = \"RNA_types\",\n",
    "    label = \"Types of RNAs to include in the output\",\n",
    "    choices = ['protein-coding','pseudo', 'other', 'unknown','ncRNA','tRNA','rRNA','scRNA','snoRNA','snRNA','biological-region'],\n",
    "    section=\"RNASeq\",\n",
    "    default=[],\n",
    ") %}\n",
    "\n",
    "{% set clinical_fields = MultiChoiceField(\n",
    "    name = \"clinical_fields\",\n",
    "    label = \"Clinical fields to load\",\n",
    "    choices = {\n",
    "        'demographic': 'Demographics',\n",
    "        'diagnoses': 'Diagnoses',\n",
    "        'exposures': 'Exposures'\n",
    "    },\n",
    "    section=\"CLINICAL\",\n",
    "    default=[],\n",
    ") %}\n"
   ]
  },
  {
   "cell_type": "code",
   "execution_count": 13,
   "metadata": {},
   "outputs": [
    {
     "data": {
      "text/html": [
       "<div style='color: red'>9: map_ids = {{ BoolField(</div>"
      ],
      "text/plain": [
       "<IPython.core.display.HTML object>"
      ]
     },
     "metadata": {},
     "output_type": "display_data"
    },
    {
     "data": {
      "text/html": [
       "<div style='color: red'>10:     name = \"map_ids\",</div>"
      ],
      "text/plain": [
       "<IPython.core.display.HTML object>"
      ]
     },
     "metadata": {},
     "output_type": "display_data"
    },
    {
     "data": {
      "text/html": [
       "<div style='color: red'>20:     default = not map_ids,</div>"
      ],
      "text/plain": [
       "<IPython.core.display.HTML object>"
      ]
     },
     "metadata": {},
     "output_type": "display_data"
    },
    {
     "data": {
      "text/html": [
       "<div style='color: red'>Error: undeclared variable(s) {'map_ids'}</div>"
      ],
      "text/plain": [
       "<IPython.core.display.HTML object>"
      ]
     },
     "metadata": {},
     "output_type": "display_data"
    }
   ],
   "source": [
    "%%appyter code_eval\n",
    "\n",
    "rna_types = {{rna_types}}\n",
    "\n",
    "map_ids = {{ BoolField(\n",
    "    name = \"map_ids\",\n",
    "    label = \"Map ensembl IDs to Entrez gene symbols?\",\n",
    "    description = \"If a gene symbol is unavailable (as in the case of non protein-coding RNAs), it will be left as its Ensembl ID.\",\n",
    "    default = True,\n",
    "    section = \"RNASeq\"\n",
    ") }}\n",
    "\n",
    "include_both_ids = {{BoolField(\n",
    "    name = \"include_both_ids\",\n",
    "    label = \"Include both ensembl IDs and symbols in final output?\",\n",
    "    default = not map_ids,\n",
    "    section = \"RNASeq\"\n",
    ") }}\n",
    "\n",
    "include_rna_types = {{BoolField(\n",
    "    name = \"include_rna_types\",\n",
    "    label = \"Include RNA types in final output?\",\n",
    "    default = True,\n",
    "    section = \"RNASeq\"\n",
    ") }}\n",
    "    \n",
    "    \n",
    "min_cases = {{IntField(\n",
    "    name = \"min_documents\",\n",
    "    label = \"Minimum cases per cancer\",\n",
    "    description = \"The minimum number of cases under a single cancer type for that data to be loaded into the dataset.\",\n",
    "    section=\"RNASeq\",\n",
    "    default=150,\n",
    "    min=0,\n",
    "    max=100000\n",
    ") }}\n",
    "\n",
    "clinical_fields = {{clinical_fields}}\n",
    "\n"
   ]
  },
  {
   "cell_type": "code",
   "execution_count": null,
   "metadata": {},
   "outputs": [],
   "source": [
    "# Endpoints\n",
    "base_url = 'https://api.gdc.cancer.gov/'\n",
    "files_endpt = base_url + 'files/'\n",
    "genes_endpt = base_url + 'genes/'\n",
    "cases_endpt = base_url + 'cases/'\n",
    "data_endpt = base_url + \"data/\"\n",
    "\n",
    "json_header = {\"Content-Type\": \"application/json\"}\n",
    "\n",
    "workflow_type = \"HTSeq - Counts\""
   ]
  },
  {
   "cell_type": "markdown",
   "metadata": {},
   "source": [
    "### Download RNA-seq data"
   ]
  },
  {
   "cell_type": "code",
   "execution_count": null,
   "metadata": {},
   "outputs": [],
   "source": [
    "# Build params \n",
    "\n",
    "filters = {\n",
    "        \"op\": \"and\",\n",
    "        \"content\":[\n",
    "             {\n",
    "                \"op\": \"=\",\n",
    "                \"content\":\n",
    "                 {\n",
    "                     \"field\": \"files.experimental_strategy\",\n",
    "                     \"value\": \"RNA-Seq\",\n",
    "                 }\n",
    "             },\n",
    "             {\n",
    "                \"op\": \"=\",\n",
    "                \"content\":\n",
    "                 {\n",
    "                     \"field\": \"access\",\n",
    "                     \"value\": \"open\",\n",
    "\n",
    "                 }\n",
    "             },\n",
    "             {\n",
    "                \"op\": \"=\",\n",
    "                \"content\":\n",
    "                 {\n",
    "                     \"field\": \"files.analysis.workflow_type\",\n",
    "                     \"value\": workflow_type,\n",
    "                 }\n",
    "             },\n",
    "    ]\n",
    "}\n"
   ]
  },
  {
   "cell_type": "code",
   "execution_count": null,
   "metadata": {},
   "outputs": [],
   "source": [
    "# Get list of all cancer types returned from the search parameters\n",
    "params = {\n",
    "    \"filters\": filters,\n",
    "    \"size\":\"0\",\n",
    "    \"facets\":\"cases.diagnoses.primary_diagnosis\",\n",
    "}\n",
    "\n",
    "response = requests.post(files_endpt, data = json.dumps(params), headers=json_header).json() # optionally also provide params argument\n",
    "buckets = response[\"data\"][\"aggregations\"][\"cases.diagnoses.primary_diagnosis\"][\"buckets\"]\n",
    "\n",
    "print(f'{len(buckets)} total cancer types\\n')\n",
    "\n",
    "cancer_types = [ y[\"key\"] for y in list(filter(lambda x: x[\"doc_count\"] >= min_cases, buckets)) ]\n",
    "\n",
    "print(f'{len(cancer_types)} cancer types with at least {min_cases} associated files')"
   ]
  },
  {
   "cell_type": "code",
   "execution_count": null,
   "metadata": {},
   "outputs": [],
   "source": [
    "def make_cancer_params(cancer_type):\n",
    "    # filter results for this cancer type\n",
    "    cancer_filters = {\n",
    "        \"op\": \"and\",\n",
    "        \"content\": [\n",
    "            *filters[\"content\"],\n",
    "            {\n",
    "                \"op\": \"=\",\n",
    "                \"content\":\n",
    "                 {\n",
    "                     \"field\": \"cases.diagnoses.primary_diagnosis\",\n",
    "                     \"value\": cancer_type,\n",
    "                 }\n",
    "             }\n",
    "        ]\n",
    "    }\n",
    "    \n",
    "    fields = \"file_id,file_name,cases.case_id\"\n",
    "    \n",
    "    # build parameters object\n",
    "    return {\n",
    "        \"fields\": fields,\n",
    "        \"filters\": json.dumps(cancer_filters),\n",
    "        \"size\": 100000 # do not limit size\n",
    "    }\n",
    "\n",
    "  \n",
    "def get_uuids(cancer_type):\n",
    "    # get list of all files with RNA-seq results\n",
    "    response = requests.get(files_endpt, params = make_cancer_params(cancer_type))\n",
    "    data = json.loads(response.content.decode(\"utf-8\"))\n",
    "    \n",
    "    # get list of results\n",
    "    results = data[\"data\"][\"hits\"]\n",
    "        \n",
    "    # get list of file and case uuids\n",
    "    file_uuid_list = [ entry[\"file_id\"] for entry in results]\n",
    "    case_uuid_list = [ entry[\"cases\"][0][\"case_id\"] for entry in results]\n",
    "    \n",
    "    # create a dictionary to map file uuids to case uuids\n",
    "    files_to_cases = {}\n",
    "    for entry in results:\n",
    "        files_to_cases[entry[\"file_id\"]] = entry[\"cases\"][0][\"case_id\"]        \n",
    "    \n",
    "    return file_uuid_list, case_uuid_list, files_to_cases\n",
    "\n",
    "def get_files(uuid_list,files_to_cases):\n",
    "    params = {\"ids\": uuid_list}\n",
    "    \n",
    "    df = pd.DataFrame({\"ensembl_id\": []}).set_index(\"ensembl_id\")\n",
    "    \n",
    "    # A POST is used, so the filter parameters can be passed directly as a Dict object.\n",
    "    response = requests.post(data_endpt, data=json.dumps(params), headers=json_header)\n",
    "\n",
    "    # filename is found in the Content-Disposition header of response\n",
    "    response_head_cd = response.headers[\"Content-Disposition\"]\n",
    "    file_name = re.findall(\"filename=(.+)\", response_head_cd)[0]\n",
    "    \n",
    "    # write the file content (bytes) and load the tar.gz file\n",
    "    file_object = io.BytesIO(response.content)\n",
    "    tar = tarfile.open(fileobj=file_object)\n",
    "    \n",
    "    # access files within the zipped file\n",
    "    for file in tar.getmembers():\n",
    "        if (file.name == \"MANIFEST.txt\"): continue\n",
    "        f=tar.extractfile(file)\n",
    "        bytestream=io.BytesIO(f.read())\n",
    "        got_text = GzipFile(None, 'rb', fileobj=bytestream).read().decode('utf-8')\n",
    "        \n",
    "        # set column name to uuid of corresponding case for this file\n",
    "        file_name = file.name.split(\"/\")[1].split(\".\")[0]\n",
    "        \n",
    "        new_df = pd.read_csv(io.StringIO(got_text), sep=\"\\t\",header=None, names=[\"ensembl_id\", file_name])\n",
    "            \n",
    "        # collapse all versioned names of genes to just gene name so we can merge\n",
    "        new_df.ensembl_id.replace(to_replace = r'\\..*$', value = \"\", regex=True, inplace=True)\n",
    "        new_df = new_df.set_index(\"ensembl_id\")\n",
    "        \n",
    "        df = pd.DataFrame.merge(df, new_df, how=\"outer\", left_index = True, right_index = True)\n",
    "    \n",
    "    tar.close()\n",
    "    \n",
    "    # drop rows not corresponding to genes (i.e. metadata)\n",
    "    non_genes = list(filter(lambda val: not \"ENSG\" in val, list(df.index.values)))\n",
    "    df = df.drop(non_genes)\n",
    "    \n",
    "    return df\n",
    "\n",
    "def get_ncbi_df():\n",
    "    # Map Ensebml ids to Entrez gene symbols\n",
    "    ncbi = pd.DataFrame(ncbi_genes.ncbi_genes_fetch())\n",
    "    all_ids = ncbi.dbXrefs.values\n",
    "\n",
    "    def get_ensembl_id(ids):\n",
    "        ids = \"\".join(ids)\n",
    "        ensembl = re.findall(\"Ensembl:(.*)\", ids)\n",
    "        if (len(ensembl) == 1):\n",
    "            return ensembl[0]\n",
    "        else:\n",
    "            return None\n",
    "        \n",
    "    ensembl_ids = [ get_ensembl_id(ids) for ids in all_ids]\n",
    "\n",
    "    ncbi = ncbi[[\"dbXrefs\", \"Symbol\", \"type_of_gene\"]]\n",
    "    ncbi[\"ensembl\"] = ensembl_ids\n",
    "    ncbi = ncbi.drop(columns=[\"dbXrefs\"])\n",
    "    ncbi = ncbi.set_index(\"ensembl\")\n",
    "    \n",
    "    return ncbi\n",
    "\n",
    "\n",
    "def map_ncbi_data(df, ncbi, rna_types):\n",
    "    \n",
    "    ensembl_to_gene_type = ncbi.to_dict()[\"type_of_gene\"]\n",
    "    ensembl_to_symbol = ncbi.to_dict()[\"Symbol\"]\n",
    "\n",
    "    data_ensembl_ids = df.index.to_list()\n",
    "\n",
    "    def id_to_type(key):\n",
    "        if (key in ensembl_to_gene_type):\n",
    "            return ensembl_to_gene_type[key]\n",
    "        else:\n",
    "            return None\n",
    "    \n",
    "    # if the key is present, return it; otherwise, set the index for the corresponding row as its ensembl id\n",
    "    def id_to_symbol(key):\n",
    "        if (key in ensembl_to_symbol):\n",
    "            return ensembl_to_symbol[key]\n",
    "        else:\n",
    "            return key # if entrez symbol not found, keep as ensembl id\n",
    "\n",
    "    data_types = [ id_to_type(key) for key in data_ensembl_ids ]\n",
    "    data_symbols = [ id_to_symbol(key) for key in data_ensembl_ids ]\n",
    "\n",
    "    df[\"type_of_gene\"] = data_types\n",
    "    df[\"symbol\"] = data_symbols\n",
    "\n",
    "    df = df[df['type_of_gene'].isin(rna_types)]\n",
    "    df = df.reindex(columns=(['symbol','type_of_gene'] + list([a for a in df.columns if not a in ['symbol','type_of_gene']] )))\n",
    "    \n",
    "    return df"
   ]
  },
  {
   "cell_type": "code",
   "execution_count": 12,
   "metadata": {},
   "outputs": [
    {
     "data": {
      "text/html": [
       "<div style='color: red'>1: {% if not rna_types == [] %}</div>"
      ],
      "text/plain": [
       "<IPython.core.display.HTML object>"
      ]
     },
     "metadata": {},
     "output_type": "display_data"
    },
    {
     "data": {
      "text/html": [
       "<div style='color: red'>21:     df_rna = map_ncbi_data(df_rna, ncbi, rna_types)</div>"
      ],
      "text/plain": [
       "<IPython.core.display.HTML object>"
      ]
     },
     "metadata": {},
     "output_type": "display_data"
    },
    {
     "data": {
      "text/html": [
       "<div style='color: red'>26:     if (not include_rna_types):</div>"
      ],
      "text/plain": [
       "<IPython.core.display.HTML object>"
      ]
     },
     "metadata": {},
     "output_type": "display_data"
    },
    {
     "data": {
      "text/html": [
       "<div style='color: red'>Error: undeclared variable(s) {'rna_types'}</div>"
      ],
      "text/plain": [
       "<IPython.core.display.HTML object>"
      ]
     },
     "metadata": {},
     "output_type": "display_data"
    }
   ],
   "source": [
    "%%appyter code_exec\n",
    "\n",
    "{% if rna_types.value == [] %}\n",
    "print(\"No RNA types were selected for data collection.\")\n",
    "{% else %}  \n",
    "# note: this will take a while!\n",
    "\n",
    "\n",
    "try:\n",
    "    ncbi = get_ncbi_df()\n",
    "\n",
    "    cancer_rna_dfs = {}\n",
    "\n",
    "    cancer_cases = {}\n",
    "\n",
    "    for cancer in cancer_types:\n",
    "        file_uuid_list, case_uuid_list, files_to_cases = get_uuids(cancer)\n",
    "\n",
    "        cancer_cases[cancer] = case_uuid_list # save the case ids to retrieve for clinical data\n",
    "\n",
    "        num_files = len(file_uuid_list)\n",
    "        num_cases = len(case_uuid_list)\n",
    "\n",
    "        print(f\"{cancer}: \\n{num_files} files\\n{num_cases} cases\\n\")\n",
    "\n",
    "        df_rna = get_files(file_uuid_list,files_to_cases)\n",
    "\n",
    "        df_rna = map_ncbi_data(df_rna, ncbi, rna_types)\n",
    "\n",
    "        if (map_ids and not include_both_ids):\n",
    "            df_rna = df_rna.drop(\"ensembl_id\").set_index(\"symbol\")\n",
    "\n",
    "        if (not include_rna_types):\n",
    "            df_rna = df_rna.drop(\"type_of_gene\")\n",
    "\n",
    "        print(f\"Got table for {cancer} with {df_rna.shape[0]} genes\")\n",
    "\n",
    "        # display(df_rna.head())\n",
    "\n",
    "        cancer_rna_dfs[cancer] = df_rna\n",
    "except URLError, e:\n",
    "    print e.code\n",
    "    print('Network error occurred. Note that these scripts run more effectively if downloaded and run locally.')\n",
    "\n",
    "    \n",
    "{% endif %}"
   ]
  },
  {
   "cell_type": "markdown",
   "metadata": {},
   "source": [
    "### Clinical Data"
   ]
  },
  {
   "cell_type": "code",
   "execution_count": 16,
   "metadata": {},
   "outputs": [
    {
     "data": {
      "text/html": [
       "<div style='color: red'>1: {% if not clinical_fields == [] %}</div>"
      ],
      "text/plain": [
       "<IPython.core.display.HTML object>"
      ]
     },
     "metadata": {},
     "output_type": "display_data"
    },
    {
     "data": {
      "text/html": [
       "<div style='color: red'>2: clinical_fields = {{clinical_fields}}</div>"
      ],
      "text/plain": [
       "<IPython.core.display.HTML object>"
      ]
     },
     "metadata": {},
     "output_type": "display_data"
    },
    {
     "data": {
      "text/html": [
       "<div style='color: red'>8:     for field in clinical_fields:</div>"
      ],
      "text/plain": [
       "<IPython.core.display.HTML object>"
      ]
     },
     "metadata": {},
     "output_type": "display_data"
    },
    {
     "data": {
      "text/html": [
       "<div style='color: red'>12: all_clinical_fields = list(filter(filter_field, cases_fields))</div>"
      ],
      "text/plain": [
       "<IPython.core.display.HTML object>"
      ]
     },
     "metadata": {},
     "output_type": "display_data"
    },
    {
     "data": {
      "text/html": [
       "<div style='color: red'>13: columns = list(set([ x.split(\".\")[1] for x in all_clinical_fields]))</div>"
      ],
      "text/plain": [
       "<IPython.core.display.HTML object>"
      ]
     },
     "metadata": {},
     "output_type": "display_data"
    },
    {
     "data": {
      "text/html": [
       "<div style='color: red'>Error: undeclared variable(s) {'clinical_fields'}</div>"
      ],
      "text/plain": [
       "<IPython.core.display.HTML object>"
      ]
     },
     "metadata": {},
     "output_type": "display_data"
    }
   ],
   "source": [
    "%%appyter code_exec\n",
    "\n",
    "{% if clinical_fields.value == [] %}\n",
    "print(\"No clinical data fields were selected.\")\n",
    "\n",
    "{% else %}\n",
    "\n",
    "# get all clinical fields and convert to column names\n",
    "cases_fields = requests.get(cases_endpt + \"_mapping\").json()[\"fields\"]\n",
    "\n",
    "def filter_field(x):\n",
    "    for field in clinical_fields:\n",
    "        if field in x: return True\n",
    "    return False\n",
    "\n",
    "all_clinical_fields = list(filter(filter_field, cases_fields))\n",
    "columns = list(set([ x.split(\".\")[1] for x in all_clinical_fields]))\n",
    "\n",
    "print(f'{len(columns)} total clinical data columns.')\n",
    "\n",
    "{% endif %}"
   ]
  },
  {
   "cell_type": "code",
   "execution_count": 9,
   "metadata": {},
   "outputs": [
    {
     "data": {
      "text/html": [
       "<div style='color: red'>3: {% if {len(columns)} > 0 %}</div>"
      ],
      "text/plain": [
       "<IPython.core.display.HTML object>"
      ]
     },
     "metadata": {},
     "output_type": "display_data"
    },
    {
     "data": {
      "text/html": [
       "<div style='color: red'>Error: expected token ':', got '}'</div>"
      ],
      "text/plain": [
       "<IPython.core.display.HTML object>"
      ]
     },
     "metadata": {},
     "output_type": "display_data"
    }
   ],
   "source": [
    "%%appyter code_exec\n",
    "\n",
    "{% if not clinical_fields.value == [] %}\n",
    "\n",
    "# note: this will also take a while!\n",
    "\n",
    "cancer_clinical_dfs = {}\n",
    "\n",
    "try:\n",
    "    for cancer in cancer_types:\n",
    "\n",
    "        df_clinical = pd.DataFrame({}, columns=columns)\n",
    "        df_clinical[\"case_id\"] = []\n",
    "\n",
    "        # get demographics and diagnosis data for each case,\n",
    "        # merging with pre-exisiting dataframe\n",
    "        for case in cancer_cases[cancer]:\n",
    "            fields=\",\".join(all_clinical_fields)\n",
    "            params={\n",
    "                \"fields\": fields\n",
    "            }\n",
    "            response = requests.get(cases_endpt + case, params=params).json()[\"data\"]\n",
    "            all_data = {}\n",
    "\n",
    "            for field_group in clinical_fields:\n",
    "                data = response[field_group]\n",
    "                print(data)\n",
    "                if field_group == \"diagnoses\":\n",
    "                    data = response[field_group][0]\n",
    "                    if \"treatments\" in data:\n",
    "                        del data[\"treatments\"] # do not load treatment data\n",
    "                all_data = {**all_data, **data}\n",
    "\n",
    "            df_case = pd.DataFrame(all_data, index=[case])\n",
    "            df_case.head()\n",
    "            df_case[\"case_id\"] = case\n",
    "            df_clinical = pd.concat([df_clinical, df_case], join=\"outer\")\n",
    "\n",
    "        df_clinical = df_clinical.set_index(\"case_id\")\n",
    "\n",
    "        # make first column \"primary_diagnosis\" for easy reference\n",
    "        cols = ['primary_diagnosis']  + [col for col in df_clinical.columns.values if col != 'primary_diagnosis']\n",
    "        df_clinical = df_clinical[cols]\n",
    "\n",
    "        cancer_clinical_dfs[cancer] = df_clinical\n",
    "except URLError, e:\n",
    "    print e.code\n",
    "    print('Network error occurred. Note that these scripts run more effectively if downloaded and run locally.')\n",
    "\n",
    "    \n",
    "{% endif %}"
   ]
  },
  {
   "cell_type": "code",
   "execution_count": null,
   "metadata": {},
   "outputs": [],
   "source": [
    "# utility functions to save the data\n",
    "# All files are saved to the same directory, with the name \"{cancer}_data.csv\" and \"{cancer}_clinical_data.csv\"\n",
    "# for RNA-seq and clinical data, respectively.\n",
    "\n",
    "def save_rna_data(cancer_rna_dfs, path):\n",
    "    for cancer in cancer_types:\n",
    "        cancer_rna_dfs[cancer].to_csv(f\"{path}/{cancer}_data.csv\", encoding='utf-8')\n",
    "\n",
    "def save_clinical_data(cancer_clinical_dfs, path):\n",
    "    for cancer in cancer_types:\n",
    "        cancer_clinical_dfs[cancer].to_csv(f\"{path}/{cancer}_clinical_data.csv\", encoding='utf-8')\n"
   ]
  }
 ],
 "metadata": {
  "kernelspec": {
   "display_name": "TCGA",
   "language": "python",
   "name": "tcga"
  },
  "language_info": {
   "codemirror_mode": {
    "name": "ipython",
    "version": 3
   },
   "file_extension": ".py",
   "mimetype": "text/x-python",
   "name": "python",
   "nbconvert_exporter": "python",
   "pygments_lexer": "ipython3",
   "version": "3.8.1"
  }
 },
 "nbformat": 4,
 "nbformat_minor": 4
}
