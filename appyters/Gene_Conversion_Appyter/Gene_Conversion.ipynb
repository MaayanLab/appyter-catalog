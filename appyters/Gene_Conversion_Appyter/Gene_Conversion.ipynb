{
 "cells": [
  {
   "cell_type": "code",
   "execution_count": null,
   "metadata": {},
   "outputs": [],
   "source": [
    "#%%appyter init\n",
    "from appyter import magic\n",
    "magic.init(lambda _=globals: _())"
   ]
  },
  {
   "cell_type": "markdown",
   "metadata": {},
   "source": [
    "# Gene Conversion Appyter\n",
    "\n",
    "Here we convert a transcript expression count matrix into a gene expression count matrix leveraging official NCBI Symbols.\n",
    "\n",
    "See: <ftp://ftp.ncbi.nih.gov/gene/DATA/GENE_INFO/> for more information."
   ]
  },
  {
   "cell_type": "code",
   "execution_count": null,
   "metadata": {},
   "outputs": [],
   "source": [
    "import numpy as np\n",
    "import pandas as pd"
   ]
  },
  {
   "cell_type": "code",
   "execution_count": null,
   "metadata": {},
   "outputs": [],
   "source": [
    "%%appyter hide_code\n",
    "\n",
    "{% do SectionField(\n",
    "    name='primary',\n",
    "    title='Gene Conversion',\n",
    "    subtitle='Configure your gene conversion',\n",
    "    img='icon.png',\n",
    ") %}"
   ]
  },
  {
   "cell_type": "markdown",
   "metadata": {},
   "source": [
    "## Step 1: Load the input data\n",
    "\n",
    "It's important to note that the **first column** of your matrix should contain the symbols we're converting, and the **first row** the column header. More advanced tabular formats are not yet supported."
   ]
  },
  {
   "cell_type": "code",
   "execution_count": null,
   "metadata": {},
   "outputs": [],
   "source": [
    "%%appyter hide_code\n",
    "\n",
    "{% do DescriptionField(\n",
    "    name='desc',\n",
    "    text='''\n",
    "      <div class=\"alert alert-info mb-0\">\n",
    "      Your input matrix should have the gene identifiers to be\n",
    "      converted in the <b>first column</b> of the matrix, and\n",
    "      at most <b>one row of header</b>. In the case of Excel which\n",
    "      is, in general, not recommended due to its tendency to convert\n",
    "      gene names into dates, only the first sheet will be used.\n",
    "      </div>\n",
    "    ''',\n",
    "    section='primary',\n",
    ") %}\n",
    "\n",
    "{% set file = FileField(\n",
    "  name='file',\n",
    "  label='File to convert',\n",
    "  description='Tab-separated matrix to be converted from transcripts to genes',\n",
    "  default='GSE152418.txt.gz',\n",
    "  examples={\n",
    "    'GSE152418.txt.gz': 'https://www.ncbi.nlm.nih.gov/geo/download/?acc=GSE152418&format=file&file=GSE152418%5Fp20047%5FStudy1%5FRawCounts%2Etxt%2Egz',\n",
    "  },\n",
    "  section='primary',\n",
    ") %}\n",
    "\n",
    "{% set file_format = ChoiceField(\n",
    "  name='file_format',\n",
    "  label='File Format',\n",
    "  description='Please select your file format',\n",
    "  default='TSV (.tsv / .txt)',\n",
    "  choices={\n",
    "    'TSV (.tsv / .txt)': \"sep='\\\\t',\",\n",
    "    'GZipped TSV (.tsv.gz / .txt.gz)': \"sep='\\\\t', compression='gzip',\",\n",
    "    'CSV (.csv)': \"sep=',',\",\n",
    "    'GZipped CSV (.csv.gz)': \"compression='gzip',\",\n",
    "    'Excel Sheet 1 (.xls, .xlsx, .xlsm, .xlsb, .odf, .ods, .odt)': \"excel\",\n",
    "  },\n",
    "  section='primary',\n",
    ") %}"
   ]
  },
  {
   "cell_type": "code",
   "execution_count": null,
   "metadata": {},
   "outputs": [],
   "source": [
    "%%appyter code_eval\n",
    "\n",
    "{% if file_format.value == \"excel\" %}\n",
    "data = pd.read_excel(\n",
    "    {{ file }},\n",
    "    index_col=0,\n",
    ")\n",
    "{% else %}\n",
    "data = pd.read_csv(\n",
    "    {{ file }},\n",
    "    index_col=0,\n",
    "    {{ file_format }}\n",
    ")\n",
    "{% endif %}\n",
    "data"
   ]
  },
  {
   "cell_type": "code",
   "execution_count": null,
   "metadata": {},
   "outputs": [],
   "source": [
    "%%appyter hide_code\n",
    "\n",
    "{% set organism = ChoiceField(\n",
    "  name='organism',\n",
    "  label='Select the organism',\n",
    "  description='Different organisms have different sets of genes available; all NCBI supported organisms can be supported.',\n",
    "  default='Homo sapiens',\n",
    "  choices={\n",
    "    'Homo sapiens': 'Mammalia/Homo_sapiens',\n",
    "    'Mus musculus': 'Mammalia/Mus_musculus',\n",
    "    'Rattus norvegicus': 'Mammalia/Rattus_norvegicus',\n",
    "    'Pan troglodytes': 'Mammalia/Pan_troglodytes',\n",
    "    'Sus scrofa': 'Mammalia/Sus_scrofa',\n",
    "    'Canis familiaris': 'Mammalia/Canis_familiaris',\n",
    "    'Bos taurus': 'Mammalia/Bos_taurus',\n",
    "  },\n",
    "  section='primary',\n",
    ") %}\n",
    "\n",
    "{% set gene_types = MultiChoiceField(\n",
    "  name='gene_types',\n",
    "  label='Gene types',\n",
    "  description='Types of genes to include in the mapping',\n",
    "  default=['protein-coding'],\n",
    "  choices=[\n",
    "    'protein-coding',\n",
    "    'ncRNA',\n",
    "    'pseudo',\n",
    "    'biological-region',\n",
    "    'unknown',\n",
    "    'other',\n",
    "    'tRNA',\n",
    "    'snoRNA',\n",
    "    'snRNA',\n",
    "    'rRNA',\n",
    "    'scRNA',\n",
    "  ],\n",
    "  section='primary',\n",
    ") %}"
   ]
  },
  {
   "cell_type": "code",
   "execution_count": null,
   "metadata": {},
   "outputs": [],
   "source": [
    "%%appyter code_eval\n",
    "\n",
    "ncbi_gene_info = pd.read_csv(\n",
    "    'ftp://ftp.ncbi.nih.gov/gene/DATA/GENE_INFO/{{ organism }}.gene_info.gz',\n",
    "    compression='gzip', sep='\\t',\n",
    ")\n",
    "ncbi_gene_info = ncbi_gene_info[np.in1d(ncbi_gene_info['type_of_gene'], {{ gene_types }})]\n",
    "ncbi_gene_info"
   ]
  },
  {
   "cell_type": "markdown",
   "metadata": {},
   "source": [
    "## Step 1. Prepare NCBI Gene Synonym lookup table\n",
    "\n",
    "To perform this conversion, we'll prepare a lookup table with the ncbi gene info table. Then we'll use that lookup for the conversion."
   ]
  },
  {
   "cell_type": "code",
   "execution_count": null,
   "metadata": {},
   "outputs": [],
   "source": [
    "# create a lookup dictionary using the ncbi table\n",
    "\n",
    "def maybe_split(record):\n",
    "  ''' NCBI Stores Nulls as '-' and lists '|' delimited\n",
    "  '''\n",
    "  if record in {'', '-'}:\n",
    "    return set()\n",
    "  return set(record.split('|'))\n",
    "\n",
    "def supplement_dbXref_prefix_omitted(ids):\n",
    "  ''' NCBI Stores external IDS with Foreign:ID while most datasets just use the ID\n",
    "  '''\n",
    "  for id in ids:\n",
    "    # add original id\n",
    "    yield id\n",
    "    # also add id *without* prefix\n",
    "    if ':' in id:\n",
    "      yield id.split(':', maxsplit=1)[1]\n",
    "\n",
    "synonym, symbol = zip(*{\n",
    "  (alternate_symbol, gene_info['Symbol'])\n",
    "  for _, gene_info in ncbi_gene_info.iterrows()\n",
    "  for alternate_symbol in set.union(\n",
    "    maybe_split(gene_info['Symbol']),\n",
    "    maybe_split(gene_info['Symbol_from_nomenclature_authority']),\n",
    "    maybe_split(str(gene_info['GeneID'])),\n",
    "    maybe_split(gene_info['Synonyms']),\n",
    "    maybe_split(gene_info['Other_designations']),\n",
    "    maybe_split(gene_info['LocusTag']),\n",
    "    set(supplement_dbXref_prefix_omitted(maybe_split(gene_info['dbXrefs']))),\n",
    "  )\n",
    "})\n",
    "ncbi_lookup = pd.Series(symbol, index=synonym)\n",
    "ncbi_lookup"
   ]
  },
  {
   "cell_type": "code",
   "execution_count": null,
   "metadata": {},
   "outputs": [],
   "source": [
    "# turns out some synonyms are ambiguous\n",
    "index_values = ncbi_lookup.index.value_counts()\n",
    "index_values"
   ]
  },
  {
   "cell_type": "code",
   "execution_count": null,
   "metadata": {},
   "outputs": [],
   "source": [
    "# for our sanity we'll drop these entirely, in the future we could consider a better way to take care of these\n",
    "ncbi_lookup_disambiguated = ncbi_lookup.drop(index_values[index_values > 1].index)\n",
    "ncbi_lookup_disambiguated"
   ]
  },
  {
   "cell_type": "markdown",
   "metadata": {},
   "source": [
    "## Step 2: Use Disambiguated NCBI lookup table to map our data"
   ]
  },
  {
   "cell_type": "code",
   "execution_count": null,
   "metadata": {},
   "outputs": [],
   "source": [
    "%%appyter hide_code\n",
    "\n",
    "{% set versioned_ensembl_id = BoolField(\n",
    "  name='versioned_ensembl_id',\n",
    "  label='Do you have versioned ENSEMBL IDs?',\n",
    "  description='ENSEMBL Ids may be postfixed with the version e.g `ENSG00000227232.1`. If your ENSEMBL ids are versioned, you can check this to prune the versions for a successful conversion.',\n",
    "  default=False,\n",
    "  section='primary',\n",
    ") %}"
   ]
  },
  {
   "cell_type": "code",
   "execution_count": null,
   "metadata": {},
   "outputs": [],
   "source": [
    "%%appyter code_eval\n",
    "\n",
    "# Mapping between current transcripts to the official NCBI Gene symbols, dropping anything that doesn't map\n",
    "ncbi_lookup_disambiguated_dict = ncbi_lookup_disambiguated.to_dict()\n",
    "transcript_genes = pd.Series(\n",
    "{%- if versioned_ensembl_id.value %}\n",
    "    data.index.map(lambda i: ncbi_lookup_disambiguated_dict.get(i.split('.')[0])),\n",
    "{%- else %}\n",
    "    data.index.map(ncbi_lookup_disambiguated_dict.get),\n",
    "{%- endif %}\n",
    "    index=data.index,\n",
    ").dropna()\n",
    "transcript_genes"
   ]
  },
  {
   "cell_type": "code",
   "execution_count": null,
   "metadata": {},
   "outputs": [],
   "source": [
    "# Compute variance of each transcript\n",
    "transcript_variance = data.var(axis=1)\n",
    "transcript_variance"
   ]
  },
  {
   "cell_type": "code",
   "execution_count": null,
   "metadata": {},
   "outputs": [],
   "source": [
    "# Merge the transcript_genes & transcript_variance\n",
    "transcript_gene_variance = pd.merge(\n",
    "    left=transcript_variance.to_frame('variance'), left_index=True,\n",
    "    right=transcript_genes.to_frame('gene'), right_index=True,\n",
    ")\n",
    "transcript_gene_variance"
   ]
  },
  {
   "cell_type": "code",
   "execution_count": null,
   "metadata": {},
   "outputs": [],
   "source": [
    "# for all transcripts that map to multiple genes, take the gene, transcript mapping with the highest variance\n",
    "transcript_gene_mapping = transcript_gene_variance.groupby('gene')['variance'].idxmax()\n",
    "transcript_gene_mapping"
   ]
  },
  {
   "cell_type": "code",
   "execution_count": null,
   "metadata": {},
   "outputs": [],
   "source": [
    "# actually perform the mapping\n",
    "data_genes = pd.merge(\n",
    "    left=transcript_gene_mapping.to_frame('transcript'), left_on='transcript',\n",
    "    right=data, right_index=True,\n",
    ").drop('transcript', axis=1)\n",
    "data_genes"
   ]
  },
  {
   "cell_type": "markdown",
   "metadata": {},
   "source": [
    "## Step 3. Export results"
   ]
  },
  {
   "cell_type": "code",
   "execution_count": null,
   "metadata": {},
   "outputs": [],
   "source": [
    "print(f\"Converted Matrix of shape {data.shape} => {data_genes.shape}\")"
   ]
  },
  {
   "cell_type": "code",
   "execution_count": null,
   "metadata": {},
   "outputs": [],
   "source": [
    "%%appyter code_eval\n",
    "\n",
    "{% if file_format.value == \"excel\" %}\n",
    "data_genes.to_excel(\n",
    "    'converted_' + {{ file }},\n",
    ")\n",
    "{% else %}\n",
    "data_genes.to_csv(\n",
    "    'converted_' + {{ file }},\n",
    "    {{ file_format }}\n",
    ")\n",
    "{% endif %}\n",
    "data_genes"
   ]
  },
  {
   "cell_type": "code",
   "execution_count": null,
   "metadata": {},
   "outputs": [],
   "source": [
     "%%appyter markdown\n",
     "# Your results are available for download **[here](./{{ ('converted_' + file.value)|urlencode }})**."
   ]
  }
 ],
 "metadata": {
  "kernelspec": {
   "display_name": "Python 3",
   "language": "python",
   "name": "python3"
  },
  "language_info": {
   "codemirror_mode": {
    "name": "ipython",
    "version": 3
   },
   "file_extension": ".py",
   "mimetype": "text/x-python",
   "name": "python",
   "nbconvert_exporter": "python",
   "pygments_lexer": "ipython3",
   "version": "3.8.6"
  }
 },
 "nbformat": 4,
 "nbformat_minor": 4
}
