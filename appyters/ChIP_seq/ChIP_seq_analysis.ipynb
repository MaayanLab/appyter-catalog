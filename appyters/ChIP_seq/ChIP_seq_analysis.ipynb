{
 "cells": [
  {
   "cell_type": "markdown",
   "metadata": {},
   "source": [
    "# ChIP-seq Analysis Pipeline"
   ]
  },
  {
   "cell_type": "markdown",
   "metadata": {},
   "source": [
    "This pipeline enables you to analyze and visualize your ChIP-seq datasets with an array of downstream analysis and visualization tools. The pipeline includes peak calling with MACS2 (Zhang, Yong, et al., 2008), peak binding plots, an interactive genome browser, peak annotation, and enrichment analysis with Enrichr (Kuleshov, Maxim V., et al., 2016) and ChEA3 (Keenan, Alexandra B., et al., 2019)."
   ]
  },
  {
   "cell_type": "code",
   "execution_count": null,
   "metadata": {},
   "outputs": [],
   "source": [
    "#%%appyter init\n",
    "from appyter import magic\n",
    "magic.init(lambda _=globals: _(), verbose=True)"
   ]
  },
  {
   "cell_type": "code",
   "execution_count": null,
   "metadata": {},
   "outputs": [],
   "source": [
    "# Basic libraries\n",
    "import pandas as pd\n",
    "import os\n",
    "import requests, json\n",
    "import sys\n",
    "from time import sleep\n",
    "import time\n",
    "import numpy as np\n",
    "import warnings\n",
    "import re\n",
    "import shutil\n",
    "import subprocess\n",
    "\n",
    "# Visualization\n",
    "import plotly\n",
    "from plotly import tools\n",
    "import plotly.express as px\n",
    "import plotly.graph_objs as go\n",
    "import seaborn as sns\n",
    "plotly.offline.init_notebook_mode() # To embed plots in the output cell of the notebook\n",
    "\n",
    "import matplotlib.pyplot as plt; plt.rcdefaults()\n",
    "from matplotlib import rcParams\n",
    "from matplotlib.lines import Line2D\n",
    "%matplotlib inline\n",
    "\n",
    "import IPython\n",
    "from IPython.display import HTML, display, Markdown, IFrame\n",
    "\n",
    "import chart_studio\n",
    "import chart_studio.plotly as py\n",
    "\n",
    "\n",
    "# Data analysis\n",
    "from itertools import combinations\n",
    "import scipy.spatial.distance as dist\n",
    "import scipy.stats as ss\n",
    "from sklearn.decomposition import PCA\n",
    "from sklearn.preprocessing import quantile_transform\n",
    "\n",
    "from rpy2 import robjects\n",
    "from rpy2.robjects import r, pandas2ri\n",
    "pandas2ri.activate()\n",
    "\n",
    "# External Code\n",
    "from utils import *"
   ]
  },
  {
   "cell_type": "code",
   "execution_count": null,
   "metadata": {},
   "outputs": [],
   "source": [
    "%%appyter hide_code_exec\n",
    "{% do SectionField(\n",
    "    name='Data_Section',\n",
    "    title='Load your Data',\n",
    "    subtitle='Load your ChIP-seq dataset and set analysis parameters',\n",
    "    img='analysis.png'\n",
    "    \n",
    ") %}"
   ]
  },
  {
   "cell_type": "code",
   "execution_count": null,
   "metadata": {},
   "outputs": [],
   "source": [
    "%%appyter code_exec\n",
    "{% set treatment_chipseq_filename = FileField(\n",
    "    name='treatment_chipseq_filename', \n",
    "    label='Treatment ChIP-seq file (.bam, .bed, or .narrowpeak)', \n",
    "    default='GSM1295076_CBX6_BF_ChipSeq_mergedReps_peaks.bed',    \n",
    "    examples={'GSM1295076_CBX6_BF_ChipSeq_mergedReps_peaks.bed': \"https://appyters.maayanlab.cloud/storage/ChIPseq/GSM1295076_CBX6_BF_ChipSeq_mergedReps_peaks.bed\"}, section='Data_Section')\n",
    "\n",
    "%}\n",
    "\n",
    "{% set background_chipseq_filename = FileField(\n",
    "    name='background_chipseq_filename', \n",
    "    label='(Optional) Background ChIP-seq file (.bam or .bed)', \n",
    "    default='',    \n",
    "    section='Data_Section')\n",
    "\n",
    "%}\n",
    "\n",
    "{% set macs = BoolField(\n",
    "    name='macs', \n",
    "    label='Peak calling?', \n",
    "    default='false',\n",
    "    description='Check if you want peak calling analysis (MACS2)', \n",
    "    section='Data_Section',\n",
    ") \n",
    "%}\n",
    "\n",
    "{% set max_genes = IntField(\n",
    "    name='max_genes', \n",
    "    label='Maximum annotated genes from peak calling', \n",
    "    min=0, \n",
    "    max=10000, \n",
    "    default=1000, \n",
    "    description='The number of genes with highest scores', \n",
    "    section='Data_Section')\n",
    "%}\n",
    "\n",
    "{% set regionTSS = IntField(\n",
    "    name='regionTSS', \n",
    "    label='TSS region', \n",
    "    min=0, \n",
    "    max=10000, \n",
    "    default=3000, \n",
    "    description='The region within the value of all TSSs in a gene', \n",
    "    section='Data_Section')\n",
    "%}\n"
   ]
  },
  {
   "cell_type": "code",
   "execution_count": null,
   "metadata": {},
   "outputs": [],
   "source": [
    "%%appyter code_exec\n",
    "treatment_chipseq_filename = \"{{treatment_chipseq_filename.value}}\"\n",
    "background_chipseq_filename = \"{{background_chipseq_filename.value}}\"\n",
    "\n",
    "macs = {{macs.value}}\n",
    "max_genes = {{max_genes.value}}\n",
    "regionTSS = {{regionTSS.value}}"
   ]
  },
  {
   "cell_type": "code",
   "execution_count": null,
   "metadata": {},
   "outputs": [],
   "source": [
    "warnings.filterwarnings('ignore')\n",
    "random.seed(0)\n",
    "pandas2ri.activate()\n",
    "chart_studio.tools.set_credentials_file(username='mjjeon', api_key='v0rpMa6lhST28Sq7XqtM')\n",
    "results = {}\n",
    "table_counter = 1\n",
    "figure_counter = 1"
   ]
  },
  {
   "cell_type": "code",
   "execution_count": null,
   "metadata": {},
   "outputs": [],
   "source": [
    "%%appyter markdown\n",
    "{% if macs.value == True %}\n",
    "# Peak Calling using MACS2\n",
    "Peak calling is a computational method used to identify areas in the genome that have been enriched with aligned reads as a consequence of performing a ChIP-sequencing experiment. A commonly used tool for identifying transcription factor binding sites is called Model-based Analysis of ChIP-seq (MACS) (Zhang, Yong, et al., 2008). The MACS algorithm captures the influence of genome complexity to evaluate the significance of enriched ChIP regions. Although MACS was developed for the detection of transcription factor binding sites, MACS is also suited for detecting broad regions. MACS improves the spatial resolution of binding sites through combining the information of both sequencing tag position and orientation. MACS can be used either for the ChIP sample alone, or along with a control sample which increases specificity of the peak calls.  \n",
    "{% endif %}"
   ]
  },
  {
   "cell_type": "code",
   "execution_count": null,
   "metadata": {},
   "outputs": [],
   "source": [
    "if macs == True:\n",
    "    if background_chipseq_filename == \"\":\n",
    "        command = [\"macs2\", \"callpeak\", \"-t\", treatment_chipseq_filename, \"--name\", treatment_chipseq_filename, \"-B\"]\n",
    "    else:\n",
    "        command = [\"macs2\", \"callpeak\", \"-t\", treatment_chipseq_filename, \"-c\", background_chipseq_filename, \"--name\", treatment_chipseq_filename, \"-B\"]\n",
    "    result = subprocess.run(command, capture_output=True)\n",
    "    error_msg = str(result.stderr)\n",
    "    if \"Done!\" not in error_msg:\n",
    "        raise Exception(\"Error during MACS2 analysis! Please check the input files. See the error message below: \\n\"+error_msg)\n",
    "    bed_filename = treatment_chipseq_filename+\"_summits.bed\"\n",
    "else:\n",
    "    bed_filename = treatment_chipseq_filename"
   ]
  },
  {
   "cell_type": "markdown",
   "metadata": {},
   "source": [
    "# Profile of ChIP Peaks Binding to TSS Regions"
   ]
  },
  {
   "cell_type": "code",
   "execution_count": null,
   "metadata": {},
   "outputs": [],
   "source": [
    "%%appyter markdown\n",
    "A common visualization technique is to obtain a global evaluation of the enrichment around the Transcription Start Site (TSS) (+- {{regionTSS.value}}bp). Here we visualize the input ChIP data as a heatmap and as a profile plot using ChIPseeker (Yu et al., 2015)."
   ]
  },
  {
   "cell_type": "code",
   "execution_count": null,
   "metadata": {},
   "outputs": [],
   "source": [
    "robjects.r('''tag_matrix <- function(inputfilename, outputfilename, minTSS=-3000, maxTSS=3000) {\n",
    "    \n",
    "        # Load packages\n",
    "        suppressMessages(require(ChIPseeker))\n",
    "        suppressMessages(require(TxDb.Hsapiens.UCSC.hg19.knownGene))\n",
    "        suppressMessages(require(clusterProfiler))\n",
    "        \n",
    "        txdb <- TxDb.Hsapiens.UCSC.hg19.knownGene\n",
    "        peak <- readPeakFile(inputfilename)\n",
    "        promoter <- getPromoters(TxDb=txdb, upstream=maxTSS, downstream=maxTSS)\n",
    "        tagMatrix <- getTagMatrix(peak, windows=promoter)\n",
    "        \n",
    "        # save\n",
    "        write.table(as.data.frame(tagMatrix), outputfilename, sep=\",\")\n",
    "        return (tagMatrix)\n",
    "        }''')"
   ]
  },
  {
   "cell_type": "code",
   "execution_count": null,
   "metadata": {},
   "outputs": [],
   "source": [
    "chipseeker = robjects.r['tag_matrix']\n",
    "chipseeker(bed_filename, bed_filename+\"_tag_matrix_output.csv\", -regionTSS, regionTSS)\n",
    "peakAnno = pd.read_csv(bed_filename+\"_tag_matrix_output.csv\", index_col=0)\n",
    "peakAnno = (peakAnno  # Use `name` and `product` as index.\n",
    "        .assign(sum=peakAnno.sum(axis=1))  # Add temporary 'sum' column to sum rows.\n",
    "        .sort_values(by='sum', ascending=False)  # Sort by row sum descending order.\n",
    "        .iloc[:, :-1])  # Remove temporary `sum` column.\n",
    "peakAnno.columns = [*range(-regionTSS, regionTSS+1, 1)] "
   ]
  },
  {
   "cell_type": "code",
   "execution_count": null,
   "metadata": {},
   "outputs": [],
   "source": [
    "f, ax = plt.subplots(figsize=(5, 7))\n",
    "ax = sns.heatmap(peakAnno, yticklabels=False, xticklabels=regionTSS, cmap='Reds', cbar=False)\n",
    "plt.xlabel(\"Distance (bp)\")\n",
    "plt.ylabel(\"Peaks\")\n",
    "plt.show()\n",
    "figure_counter = display_object(figure_counter, \"Profile of ChIP peaks binding to TSS regions\", istable=False)"
   ]
  },
  {
   "cell_type": "code",
   "execution_count": null,
   "metadata": {},
   "outputs": [],
   "source": [
    "fig = px.line(peakAnno.sum(), title=\"Average Profile of ChIP peaks binding to TSS region\", labels={\n",
    "    \"index\": \"Genomic Region\",\n",
    "    \"value\": \"Read Count Frequency\"\n",
    "})\n",
    "fig.update_layout(showlegend=False)\n",
    "fig.show()\n",
    "figure_counter = display_object(figure_counter, \"Average Profile of ChIP peaks binding to TSS region\", istable=False)"
   ]
  },
  {
   "cell_type": "markdown",
   "metadata": {},
   "source": [
    "# Genome Browser Visualization"
   ]
  },
  {
   "cell_type": "markdown",
   "metadata": {},
   "source": [
    "To view the peak locations over the whole genome, an IGV-based genome browser (Robinson, James T., et al., 2020) provides means to explore the coverage of peak regions over all chromosomes and to generate figures that visualize the peaks."
   ]
  },
  {
   "cell_type": "code",
   "execution_count": null,
   "metadata": {},
   "outputs": [],
   "source": [
    "%%appyter code_eval\n",
    "from IPython.display import IFrame\n",
    "shutil.copyfile(bed_filename, \"./peaks.bed\")\n",
    "IFrame(src=\"{{ url_for('static', filename='test.html') }}#{{ url_for(_session, filename='peaks.bed', public=True) }}\", width=800, height=600)"
   ]
  },
  {
   "cell_type": "markdown",
   "metadata": {},
   "source": [
    "# Peak Annotation Analysis"
   ]
  },
  {
   "cell_type": "code",
   "execution_count": null,
   "metadata": {},
   "outputs": [],
   "source": [
    "%%appyter markdown\n",
    "Peak annotation is performed by ChIPseeker (Yu et al., 2015), which annotates the peaks to their nearest gene and to the peak location; whether a peak is within an Intron, an Exon, and somewhere else. Users can define the transcription start site (TSS) region. The default TSS region is from -{{regionTSS.value}}bp to +{{regionTSS.value}}bp. "
   ]
  },
  {
   "cell_type": "code",
   "execution_count": null,
   "metadata": {},
   "outputs": [],
   "source": [
    "robjects.r('''chipseeker <- function(inputfilename, outputfilename, minTSS=-3000, maxTSS=3000) {\n",
    "    \n",
    "        # Load packages\n",
    "        suppressMessages(require(ChIPseeker))\n",
    "        suppressMessages(require(TxDb.Hsapiens.UCSC.hg19.knownGene))\n",
    "        suppressMessages(require(clusterProfiler))\n",
    "        \n",
    "        txdb <- TxDb.Hsapiens.UCSC.hg19.knownGene\n",
    "        \n",
    "        # Peak Annotation\n",
    "        peakAnno <- annotatePeak(inputfilename, tssRegion=c(minTSS, maxTSS), TxDb=txdb, annoDb=\"org.Hs.eg.db\", verbose=FALSE)\n",
    "        \n",
    "        \n",
    "        # save\n",
    "        write.table(as.data.frame(peakAnno), outputfilename, sep=\",\")\n",
    "        \n",
    "        }''')"
   ]
  },
  {
   "cell_type": "code",
   "execution_count": null,
   "metadata": {},
   "outputs": [],
   "source": [
    "chipseeker = robjects.r['chipseeker']\n",
    "chipseeker(bed_filename, bed_filename+\"_peak_annotation_output.csv\", -regionTSS, regionTSS)\n",
    "peakAnno = pd.read_csv(bed_filename+\"_peak_annotation_output.csv\")\n",
    "sorted_peakAnno_groupby_gene = peakAnno.groupby(\"SYMBOL\").sum().sort_values(\"V5\", ascending=False)\n",
    "top_genes = sorted_peakAnno_groupby_gene.iloc[:max_genes, :].index.tolist()"
   ]
  },
  {
   "cell_type": "code",
   "execution_count": null,
   "metadata": {},
   "outputs": [],
   "source": [
    "display(peakAnno.sort_values(\"V5\", ascending=False))\n",
    "table_counter = display_object(table_counter, \"Peak Annotation Result\", istable=True)\n",
    "display(create_download_link(peakAnno, filename=\"Peak_Annotation_Result.csv\"))"
   ]
  },
  {
   "cell_type": "markdown",
   "metadata": {},
   "source": [
    "# Visualization of the Genomic Annotations of Peaks"
   ]
  },
  {
   "cell_type": "markdown",
   "metadata": {},
   "source": [
    "Pie charts and bar plots are provided to visualize the genomic annotation. Peaks are assigned to genomic annotations that classify peaks to be in the TSS, Exon, 5’ UTR, 3’ UTR, Intronic, or Intergenic."
   ]
  },
  {
   "cell_type": "code",
   "execution_count": null,
   "metadata": {},
   "outputs": [],
   "source": [
    "def pie_plot(data):    \n",
    "    fig = px.pie(data, values='count', names=data.index)\n",
    "    fig.show()"
   ]
  },
  {
   "cell_type": "code",
   "execution_count": null,
   "metadata": {},
   "outputs": [],
   "source": [
    "peakAnno[\"count\"] = [re.sub('Intron [^\\n]+', \"Intron\", re.sub('Intron[^\\n]+', \"Intron\", x)) for x in peakAnno[\"annotation\"]]\n",
    "peakAnno[\"count\"] = [re.sub('Exon [^\\n]+', \"Exon\", re.sub('Exon[^\\n]+', \"Exon\", x)) for x in peakAnno[\"count\"]]\n",
    "pie_plot(peakAnno[\"count\"].value_counts())\n",
    "figure_counter = display_object(figure_counter, \"Genomic Annotation of Peaks in Pie Plot\", istable=False)"
   ]
  },
  {
   "cell_type": "markdown",
   "metadata": {},
   "source": [
    "# Enrichment Analysis with Enrichr"
   ]
  },
  {
   "cell_type": "markdown",
   "metadata": {},
   "source": [
    "Enrichment analysis is a statistical procedure used to identify biological terms which are over-represented in a given gene set. These include signaling pathways, molecular functions, diseases, and a wide variety of other biological terms obtained by integrating prior knowledge of gene function from multiple resources. Enrichr (Kuleshov et al. 2016) is a web-based application that performs enrichment analysis using a large collection of gene-set libraries. Enrichr provide various interactive approaches to display the enrichment results. The pipeline merges the peak annotation results at the gene set level and selects the top-ranked genes by their scores. These top gene sets are submitted to Enrichr for analysis."
   ]
  },
  {
   "cell_type": "code",
   "execution_count": null,
   "metadata": {},
   "outputs": [],
   "source": [
    "results = run_enrichr(geneset=top_genes, signature_label=\"The annotated genes\")\n",
    "result = results[\"result\"]\n",
    "display(Markdown(\"*Enrichment Analysis Result*\"))\n",
    "display_link(\"https://amp.pharm.mssm.edu/Enrichr/enrich?dataset={}\".format(result[\"shortId\"]))\n",
    "        "
   ]
  },
  {
   "cell_type": "markdown",
   "metadata": {},
   "source": [
    "# Enrichment Analysis with ChEA3"
   ]
  },
  {
   "cell_type": "markdown",
   "metadata": {},
   "source": [
    "ChEA3 is a web-based transcription factor (TF) enrichment analysis tool that integrates transcription factor/target knowledge from multiple sources (Keenan, Alexandra B., et al., 2019). ChEA3 can aid in identifying the TFs responsible for regulating the expression of a collection of target genes."
   ]
  },
  {
   "cell_type": "code",
   "execution_count": null,
   "metadata": {},
   "outputs": [],
   "source": [
    "chea3_result = run_chea3(top_genes, \"chea3\")\n",
    "\n",
    "# display result tables\n",
    "for key, item in chea3_result.items():\n",
    "    df = pd.DataFrame(item).drop([\"Query Name\"], axis=1)\n",
    "    display_result_table(df, key, table_counter)"
   ]
  },
  {
   "cell_type": "markdown",
   "metadata": {},
   "source": [
    "# References"
   ]
  },
  {
   "cell_type": "markdown",
   "metadata": {},
   "source": [
    "Keenan, Alexandra B., et al. \"ChEA3: transcription factor enrichment analysis by orthogonal omics integration.\" Nucleic acids research 47.W1 (2019): W212-W224.\n",
    "<br>\n",
    "Kuleshov, Maxim V., et al. \"Enrichr: a comprehensive gene set enrichment analysis web server 2016 update.\" Nucleic acids research 44.W1 (2016): W90-W97.\n",
    "<br>\n",
    "Robinson, James T., et al. \"igv. js: an embeddable JavaScript implementation of the Integrative Genomics Viewer (IGV).\" bioRxiv (2020).\n",
    "<br>\n",
    "Yu, Guangchuang, Li-Gen Wang, and Qing-Yu He. \"ChIPseeker: an R/Bioconductor package for ChIP peak annotation, comparison and visualization.\" Bioinformatics 31.14 (2015): 2382-2383.\n",
    "<br>\n",
    "Zhang, Yong, et al. \"Model-based analysis of ChIP-Seq (MACS).\" Genome biology 9.9 (2008): 1-9.\n",
    "<br>"
   ]
  }
 ],
 "metadata": {
  "kernelspec": {
   "display_name": "py38R4",
   "language": "python",
   "name": "py38r4"
  },
  "language_info": {
   "codemirror_mode": {
    "name": "ipython",
    "version": 3
   },
   "file_extension": ".py",
   "mimetype": "text/x-python",
   "name": "python",
   "nbconvert_exporter": "python",
   "pygments_lexer": "ipython3",
   "version": "3.8.5"
  }
 },
 "nbformat": 4,
 "nbformat_minor": 4
}
