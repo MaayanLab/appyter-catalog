{
 "cells": [
  {
   "cell_type": "markdown",
   "metadata": {},
   "source": [
    "## Drugmonizome ETL : ATC Codes\n",
    "\n",
    "##### Author : Eryk Kropiwnicki | eryk.kropiwnicki@icahn.mssm.edu\n",
    "##### Adapted from : https://github.com/dhimmel/drugbank/blob/gh-pages/parse.ipynb\n",
    "\n",
    "#### Data source : https://www.drugbank.ca/releases/latest"
   ]
  },
  {
   "cell_type": "code",
   "execution_count": null,
   "metadata": {},
   "outputs": [],
   "source": [
    "#%%appyter init\n",
    "from appyter import magic\n",
    "magic.init(lambda _=globals: _())"
   ]
  },
  {
   "cell_type": "code",
   "execution_count": null,
   "metadata": {},
   "outputs": [],
   "source": [
    "import os\n",
    "import sys\n",
    "import datetime\n",
    "import zipfile\n",
    "import collections\n",
    "import xml.etree.ElementTree as ET\n",
    "\n",
    "import pandas as pd\n",
    "import numpy as np\n",
    "import drugmonizome.utility_functions as uf"
   ]
  },
  {
   "cell_type": "code",
   "execution_count": null,
   "metadata": {},
   "outputs": [],
   "source": [
    "%load_ext autoreload\n",
    "%autoreload 2"
   ]
  },
  {
   "cell_type": "markdown",
   "metadata": {},
   "source": [
    "### Notebook Information"
   ]
  },
  {
   "cell_type": "code",
   "execution_count": null,
   "metadata": {},
   "outputs": [],
   "source": [
    "print('This notebook was run on:', datetime.date.today(), '\\nPython version:', sys.version)"
   ]
  },
  {
   "cell_type": "markdown",
   "metadata": {},
   "source": [
    "### Create Output Path"
   ]
  },
  {
   "cell_type": "code",
   "execution_count": null,
   "metadata": {},
   "outputs": [],
   "source": [
    "output_name = 'atc_codes'\n",
    "path = 'output/drugmonizome_atc_codes'\n",
    "if not os.path.exists(path):\n",
    "    os.makedirs(path)"
   ]
  },
  {
   "cell_type": "markdown",
   "metadata": {},
   "source": [
    "### Initializing Notebook"
   ]
  },
  {
   "cell_type": "code",
   "execution_count": null,
   "metadata": {},
   "outputs": [],
   "source": [
    "%%appyter hide_code\n",
    "\n",
    "{% do SectionField(\n",
    "    name='data',\n",
    "    title='Upload Data',\n",
    "    img='load_icon.png'\n",
    ") %}"
   ]
  },
  {
   "cell_type": "code",
   "execution_count": null,
   "metadata": {},
   "outputs": [],
   "source": [
    "%%appyter code_eval\n",
    "\n",
    "{% do DescriptionField(\n",
    "    name='description',\n",
    "    text='The example below was sourced from <a href=\"https://www.drugbank.ca/releases/latest\" target=\"_blank\">drugbank.ca</a>. If clicking on the example does not work, it should be downloaded directly from the source website.',\n",
    "    section='data'\n",
    ") %}\n",
    "\n",
    "{% set xml_file = FileField(\n",
    "    constraint='.*\\.xml.zip$',\n",
    "    name='atc codes', \n",
    "    label='ATC Codes (xml.zip)', \n",
    "    default='drugbank_all_full_database.xml.zip',\n",
    "    examples={\n",
    "        'drugbank_all_full_database.xml.zip': 'https://www.drugbank.ca/releases/5-1-7/downloads/all-full-database'\n",
    "    },\n",
    "    section='data'\n",
    ") %}\n",
    "\n",
    "{% set entity_type = ChoiceField(\n",
    "    name='entity_type',\n",
    "    label='Choose identifier type for exported small molecules',\n",
    "    choices=[\n",
    "        'Name',\n",
    "        'InChI Key',\n",
    "    ],\n",
    "    default='Name',\n",
    "    section='data'\n",
    ") %}"
   ]
  },
  {
   "cell_type": "markdown",
   "metadata": {},
   "source": [
    "### Load data"
   ]
  },
  {
   "cell_type": "code",
   "execution_count": null,
   "metadata": {},
   "outputs": [],
   "source": [
    "%%appyter code_exec\n",
    "\n",
    "with zipfile.ZipFile({{xml_file}}) as zipf:\n",
    "    with zipf.open('full database.xml') as f:\n",
    "        tree = ET.parse(f)\n",
    "root = tree.getroot()"
   ]
  },
  {
   "cell_type": "markdown",
   "metadata": {},
   "source": [
    "### Matching ATC codes to small molecules"
   ]
  },
  {
   "cell_type": "code",
   "execution_count": null,
   "metadata": {},
   "outputs": [],
   "source": [
    "ns = '{http://www.drugbank.ca}'\n",
    "inchikey_template = \"{ns}calculated-properties/{ns}property[{ns}kind='InChIKey']/{ns}value\"\n",
    "\n",
    "rows = list()\n",
    "for i, drug in enumerate(root):\n",
    "    row = collections.OrderedDict()\n",
    "    assert drug.tag == ns + 'drug'\n",
    "    row['type'] = drug.get('type')\n",
    "    row['drugbank_id'] = drug.findtext(ns + \"drugbank-id[@primary='true']\")\n",
    "    row['name'] = drug.findtext(ns + \"name\").lower()\n",
    "    row['atc_codes'] = [code.get('code') for code in\n",
    "        drug.findall(\"{ns}atc-codes/{ns}atc-code\".format(ns = ns))]\n",
    "    row['inchi_key'] = drug.findtext(inchikey_template.format(ns = ns))\n",
    "    \n",
    "    # Add drug aliases\n",
    "    aliases = {\n",
    "        elem.text for elem in \n",
    "        drug.findall(\"{ns}international-brands/{ns}international-brand\".format(ns = ns)) +\n",
    "        drug.findall(\"{ns}synonyms/{ns}synonym[@language='English']\".format(ns = ns)) +\n",
    "        drug.findall(\"{ns}international-brands/{ns}international-brand\".format(ns = ns)) +\n",
    "        drug.findall(\"{ns}products/{ns}product/{ns}name\".format(ns = ns))\n",
    "\n",
    "    }\n",
    "    aliases.add(row['name'])\n",
    "    row['aliases'] = sorted(aliases)\n",
    "\n",
    "    rows.append(row)"
   ]
  },
  {
   "cell_type": "code",
   "execution_count": null,
   "metadata": {},
   "outputs": [],
   "source": [
    "columns = ['drugbank_id', 'name', 'inchi_key', 'type', 'atc_codes']\n",
    "drugbank_df = pd.DataFrame.from_dict(rows)[columns]\n",
    "drugbank_df.head(10)"
   ]
  },
  {
   "cell_type": "code",
   "execution_count": null,
   "metadata": {},
   "outputs": [],
   "source": [
    "# Retaining only small molecules\n",
    "df_atc = drugbank_df[drugbank_df['type'] == 'small molecule']\n",
    "\n",
    "# Splitting lists into separate rows\n",
    "df_atc = df_atc.explode('atc_codes').dropna()\n",
    "\n",
    "# Removing last two characters from ATC Codes to get the fourth level code that drugs can be grouped under\n",
    "df_atc['atc_codes'] = df_atc['atc_codes'].map(lambda x: x[0:5])\n",
    "\n",
    "# Remove empty rows\n",
    "df_atc = df_atc[df_atc['atc_codes'] != '']"
   ]
  },
  {
   "cell_type": "code",
   "execution_count": null,
   "metadata": {},
   "outputs": [],
   "source": [
    "df_atc.head(10)"
   ]
  },
  {
   "cell_type": "code",
   "execution_count": null,
   "metadata": {},
   "outputs": [],
   "source": [
    "# Duplicates can be seen in the above frame, therefore we should drop them\n",
    "df_atc = df_atc.drop_duplicates()"
   ]
  },
  {
   "cell_type": "markdown",
   "metadata": {},
   "source": [
    "### Index dataframe by user selected small molecule identifier"
   ]
  },
  {
   "cell_type": "code",
   "execution_count": null,
   "metadata": {},
   "outputs": [],
   "source": [
    "%%appyter code_exec\n",
    "\n",
    "{% if entity_type.raw_value == 'InChI Key' %}\n",
    "# Index small molecules by InChI Key\n",
    "df_output = df_atc[['inchi_key','atc_codes']]\n",
    "df_output.set_index('inchi_key', inplace = True)\n",
    "\n",
    "{% else %}\n",
    "# Index small molecules by name\n",
    "df_output = df_atc[['name','atc_codes']]\n",
    "df_output.set_index('name', inplace = True)\n",
    "\n",
    "{% endif %}"
   ]
  },
  {
   "cell_type": "markdown",
   "metadata": {},
   "source": [
    "## Analyze Data"
   ]
  },
  {
   "cell_type": "markdown",
   "metadata": {},
   "source": [
    "### Export Edge List"
   ]
  },
  {
   "cell_type": "code",
   "execution_count": null,
   "metadata": {},
   "outputs": [],
   "source": [
    "uf.save_data(df_output, path, output_name + '_edge_list', \n",
    "        ext='tsv', compression='gzip')"
   ]
  },
  {
   "cell_type": "markdown",
   "metadata": {},
   "source": [
    "### Create Binary Matrix"
   ]
  },
  {
   "cell_type": "code",
   "execution_count": null,
   "metadata": {},
   "outputs": [],
   "source": [
    "binary_matrix = uf.binary_matrix(df_output)\n",
    "binary_matrix.head()"
   ]
  },
  {
   "cell_type": "code",
   "execution_count": null,
   "metadata": {},
   "outputs": [],
   "source": [
    "binary_matrix.shape"
   ]
  },
  {
   "cell_type": "code",
   "execution_count": null,
   "metadata": {},
   "outputs": [],
   "source": [
    "uf.save_data(binary_matrix, path, output_name + '_binary_matrix', \n",
    "            compression='npz', dtype=np.uint8)"
   ]
  },
  {
   "cell_type": "markdown",
   "metadata": {},
   "source": [
    "### Create Drug and Attribute Set Library"
   ]
  },
  {
   "cell_type": "code",
   "execution_count": null,
   "metadata": {},
   "outputs": [],
   "source": [
    "uf.save_setlib(binary_matrix, 'drug', path, output_name + '_drug_setlibrary')"
   ]
  },
  {
   "cell_type": "code",
   "execution_count": null,
   "metadata": {},
   "outputs": [],
   "source": [
    "uf.save_setlib(binary_matrix, 'attribute', path, output_name + '_attribute_setlibrary')"
   ]
  },
  {
   "cell_type": "markdown",
   "metadata": {},
   "source": [
    "### Create Attribute Similarity Matrix"
   ]
  },
  {
   "cell_type": "code",
   "execution_count": null,
   "metadata": {},
   "outputs": [],
   "source": [
    "attribute_similarity_matrix = uf.similarity_matrix(binary_matrix.T, 'jaccard', sparse=True)\n",
    "attribute_similarity_matrix.head()"
   ]
  },
  {
   "cell_type": "code",
   "execution_count": null,
   "metadata": {},
   "outputs": [],
   "source": [
    "uf.save_data(attribute_similarity_matrix, path,\n",
    "            output_name + '_attribute_similarity_matrix', \n",
    "            compression='npz', symmetric=True, dtype=np.float32)"
   ]
  },
  {
   "cell_type": "markdown",
   "metadata": {},
   "source": [
    "### Create Drug Similarity Matrix"
   ]
  },
  {
   "cell_type": "code",
   "execution_count": null,
   "metadata": {},
   "outputs": [],
   "source": [
    "drug_similarity_matrix = uf.similarity_matrix(binary_matrix, 'jaccard', sparse=True)\n",
    "drug_similarity_matrix.head()"
   ]
  },
  {
   "cell_type": "code",
   "execution_count": null,
   "metadata": {},
   "outputs": [],
   "source": [
    "uf.save_data(drug_similarity_matrix, path,\n",
    "            output_name + '_drug_similarity_matrix', \n",
    "            compression='npz', symmetric=True, dtype=np.float32)"
   ]
  },
  {
   "cell_type": "markdown",
   "metadata": {},
   "source": [
    "### Create download folder with all outputs"
   ]
  },
  {
   "cell_type": "code",
   "execution_count": null,
   "metadata": {},
   "outputs": [],
   "source": [
    "uf.archive(path)"
   ]
  },
  {
   "cell_type": "markdown",
   "metadata": {},
   "source": [
    "### Link to the output folder: [Download](./output_archive.zip)"
   ]
  }
 ],
 "metadata": {
  "kernelspec": {
   "display_name": "Python 3",
   "language": "python",
   "name": "python3"
  },
  "language_info": {
   "codemirror_mode": {
    "name": "ipython",
    "version": 3
   },
   "file_extension": ".py",
   "mimetype": "text/x-python",
   "name": "python",
   "nbconvert_exporter": "python",
   "pygments_lexer": "ipython3",
   "version": "3.8.3"
  }
 },
 "nbformat": 4,
 "nbformat_minor": 2
}
