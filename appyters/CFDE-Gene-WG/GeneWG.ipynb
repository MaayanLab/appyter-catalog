{
 "cells": [
  {
   "cell_type": "code",
   "execution_count": null,
   "id": "proof-belief",
   "metadata": {},
   "outputs": [],
   "source": [
    "#%%appyter init\n",
    "from appyter import magic\n",
    "magic.init(lambda _=globals: _())"
   ]
  },
  {
   "cell_type": "code",
   "execution_count": null,
   "id": "considerable-verse",
   "metadata": {},
   "outputs": [],
   "source": [
    "%%appyter code_eval\n",
    "{% do SectionField(\n",
    "    name='primary',\n",
    "    title='CFDE Gene-WG Appyter',\n",
    "    subtitle='Resolve gene-centric information from CF projects',\n",
    "    img='geneicon.png',\n",
    ") %}\n",
    "{% set gene = AutocompleteField(\n",
    "    name='gene',\n",
    "    label='Entrez Gene Symbol',\n",
    "    description='Please choose a valid entrez gene symbol',\n",
    "    default='ACE2',\n",
    "    file_path=url_for('static', filename='genes.json'),\n",
    "    section='primary',\n",
    ") %}"
   ]
  },
  {
   "cell_type": "code",
   "execution_count": null,
   "id": "loaded-morris",
   "metadata": {},
   "outputs": [],
   "source": [
    "%%appyter markdown\n",
    "\n",
    "# CFDE Gene-WG Appyter: {{ gene.raw_value }}\n",
    "\n",
    "Given the gene *{{ gene.raw_value }}*, we request information about it from several different DCCs in hopes of creating a comprehensive knowledge report for it."
   ]
  },
  {
   "cell_type": "code",
   "execution_count": null,
   "id": "employed-immune",
   "metadata": {},
   "outputs": [],
   "source": [
    "import re\n",
    "import io\n",
    "import json\n",
    "import uuid\n",
    "import time\n",
    "import requests\n",
    "import numpy as np\n",
    "import pandas as pd\n",
    "import urllib.parse\n",
    "import plotly.express as px\n",
    "import scipy.stats as st\n",
    "import traceback\n",
    "from contextlib import contextmanager\n",
    "from textwrap import dedent\n",
    "from functools import partial, lru_cache\n",
    "from IPython.display import HTML, display\n",
    "\n",
    "from itables_javascript import show\n",
    "import itables.options as opt\n",
    "opt.maxBytes = 0\n",
    "opt.showIndex = False\n",
    "\n",
    "class RenderJSON(object):\n",
    "    ''' https://gist.github.com/t27/48b3ac73a1479914f9fe9383e5d45325 '''\n",
    "    def __init__(self, json_data):\n",
    "        if isinstance(json_data, dict):\n",
    "            self.json_str = json.dumps(json_data)\n",
    "        else:\n",
    "            self.json_str = json_data\n",
    "        self.uuid = str(uuid.uuid4())\n",
    "        \n",
    "    def _ipython_display_(self):\n",
    "        display(HTML('<div id=\"{}\" style=\"height: auto; width:100%;\"></div>'.format(self.uuid)))\n",
    "        display(HTML(\"\"\"<script>\n",
    "        require([\"https://rawgit.com/caldwell/renderjson/master/renderjson.js\"], function() {\n",
    "          renderjson.set_show_to_level(1)\n",
    "          document.getElementById('%s').appendChild(renderjson(%s))\n",
    "        });</script>\n",
    "        \"\"\" % (self.uuid, self.json_str)))\n",
    "\n",
    "def combine_pvalues(pvalues, method='fisher', select='pvalue'):\n",
    "    ''' A helper for accessing this method via pd.agg which expects a scaler result\n",
    "    '''\n",
    "    statistic, pvalue = st.combine_pvalues(pvalues, method=method)\n",
    "    return dict(statistic=statistic, pvalue=pvalue)[select]\n",
    "\n",
    "def combine_zscores(zscores):\n",
    "    ''' A helper method for combining zscores via Stouffer method\n",
    "    '''\n",
    "    return zscores.sum() / np.sqrt(zscores.shape[0])\n",
    "\n",
    "@contextmanager\n",
    "def ignore_exceptions():\n",
    "    ''' Show but ignore exceptions that occur within the context\n",
    "    Usage:\n",
    "    with ignore_exceptions():\n",
    "        my_fallible_operation()\n",
    "    '''\n",
    "    try:\n",
    "        yield\n",
    "    except Exception as e:\n",
    "        traceback.print_exc()"
   ]
  },
  {
   "cell_type": "code",
   "execution_count": null,
   "id": "biblical-hepatitis",
   "metadata": {},
   "outputs": [],
   "source": [
    "%%appyter code_exec\n",
    "gene = {{ gene }}"
   ]
  },
  {
   "cell_type": "markdown",
   "id": "understanding-oklahoma",
   "metadata": {},
   "source": [
    "## Primary Information\n",
    "\n",
    "We query DCC APIs to gain insights about the primary information they collect."
   ]
  },
  {
   "cell_type": "markdown",
   "id": "seven-destruction",
   "metadata": {},
   "source": [
    "### GTEx\n",
    "\n",
    "<https://gtexportal.org/home/>\n",
    "\n",
    "We query the GTEx Data through the [GTEx API](https://gtexportal.org/home/api-docs/index.html) to identify tissue sites that significantly express the gene question."
   ]
  },
  {
   "cell_type": "code",
   "execution_count": null,
   "id": "quantitative-marker",
   "metadata": {},
   "outputs": [],
   "source": [
    "@lru_cache()\n",
    "def gtex_singleTissueEqtl(geneSymbol, datasetId='gtex_v8'):\n",
    "    res = requests.get(\n",
    "        'https://gtexportal.org/rest/v1/association/singleTissueEqtl',\n",
    "        params=dict(\n",
    "            format='json',\n",
    "            geneSymbol=geneSymbol,\n",
    "            datasetId=datasetId,\n",
    "        )\n",
    "    )\n",
    "    results = res.json()['singleTissueEqtl']\n",
    "    if len(results) == 0: raise Exception('No information found in GTEx')\n",
    "    return pd.DataFrame(results)"
   ]
  },
  {
   "cell_type": "code",
   "execution_count": null,
   "id": "caring-mongolia",
   "metadata": {},
   "outputs": [],
   "source": [
    "with ignore_exceptions():\n",
    "    gtex_results = gtex_singleTissueEqtl(gene)\n",
    "    columns = list(gtex_results.columns)\n",
    "    columns.insert(0, columns.pop(columns.index('nes')))\n",
    "    columns.insert(0, columns.pop(columns.index('pValue')))\n",
    "    columns.insert(0, columns.pop(columns.index('tissueSiteDetailId')))\n",
    "    gtex_results = gtex_results[columns]\n",
    "    show(gtex_results, order=[[gtex_results.columns.get_loc('pValue'), 'asc']])"
   ]
  },
  {
   "cell_type": "code",
   "execution_count": null,
   "id": "executed-first",
   "metadata": {},
   "outputs": [],
   "source": [
    "with ignore_exceptions():\n",
    "    gtex_combined_stouffer_statistic = gtex_results.groupby('tissueSiteDetailId')['pValue'] \\\n",
    "        .agg(partial(combine_pvalues, method='stouffer', select='statistic')) \\\n",
    "        .to_frame('combined_stouffer_statistic') \\\n",
    "        .reset_index() \\\n",
    "        .sort_values('combined_stouffer_statistic', ascending=False)\n",
    "    gtex_combined_stouffer_statistic['group'] = gtex_combined_stouffer_statistic['tissueSiteDetailId'].apply(lambda name: name.split('_', maxsplit=1)[0])\n",
    "\n",
    "    fig = px.bar(\n",
    "        gtex_combined_stouffer_statistic,\n",
    "        y='combined_stouffer_statistic',\n",
    "        x='tissueSiteDetailId',\n",
    "        color='group',\n",
    "        orientation='v',\n",
    "        title=f\"Tissues with significant expression of {gene} in GTEx\",\n",
    "        height=1000,\n",
    "    )\n",
    "    fig.show()"
   ]
  },
  {
   "cell_type": "markdown",
   "id": "lyric-sleep",
   "metadata": {},
   "source": [
    "### LINCS\n",
    "\n",
    "<https://lincsproject.org/>\n",
    "\n",
    "#### Enrichr\n",
    "\n",
    "We query the LINCS data through Enrichr via [it's API](https://maayanlab.cloud/Enrichr/help#api) to identify L1000 profiles where the gene was significantly up or down regulated, thus enriching potential drugs that can be used to activate or knock out the gene."
   ]
  },
  {
   "cell_type": "code",
   "execution_count": null,
   "id": "union-violation",
   "metadata": {},
   "outputs": [],
   "source": [
    "@lru_cache()\n",
    "def enrichr_addList(geneset, description=''):\n",
    "    res = requests.post(\n",
    "        'https://maayanlab.cloud/Enrichr/addList',\n",
    "        files=[\n",
    "            ('list', (None, geneset)),\n",
    "            ('description', (None, description)),\n",
    "        ],\n",
    "    )\n",
    "    ret = res.json()\n",
    "    time.sleep(1)\n",
    "    return ret\n",
    "\n",
    "def enrichr_enrich(userListId, backgroundType):\n",
    "    res = requests.get(\n",
    "        'https://maayanlab.cloud/Enrichr/enrich',\n",
    "        params=dict(\n",
    "            userListId=userListId,\n",
    "            backgroundType=backgroundType,\n",
    "        ),\n",
    "    )\n",
    "    for record in res.json()[backgroundType]:\n",
    "        rank, term, pvalue, zscore, combinedscore, overlapping_genes, adjusted_pvalue, _old_p, _old_adj_p = record\n",
    "        yield dict(\n",
    "            library=backgroundType,\n",
    "            rank=rank,\n",
    "            term=term,\n",
    "            pvalue=pvalue,\n",
    "            zscore=zscore,\n",
    "            combinedscore=combinedscore,\n",
    "            overlapping_genes=overlapping_genes,\n",
    "            adjusted_pvalue=adjusted_pvalue,\n",
    "        )\n",
    "\n",
    "enrichr_libraries = {\n",
    "    'LINCS_L1000_Chem_Pert_up': lambda term='', **kwargs: dict(kwargs,\n",
    "        **re.match(r'^(?P<pert_id>\\w+?) (?P<cell_line>\\w+?) (?P<timepoint>\\w+?)-(?P<drug>.+)-(?P<concentration>.+?)$', term).groupdict(),\n",
    "        term=term,\n",
    "        direction='up',\n",
    "        library='LINCS_L1000_Chem_Pert',\n",
    "    ),\n",
    "    'LINCS_L1000_Chem_Pert_down': lambda term='', **kwargs: dict(kwargs,\n",
    "        **re.match(r'^(?P<pert_id>\\w+?) (?P<cell_line>\\w+?) (?P<timepoint>\\w+?)-(?P<drug>.+)-(?P<concentration>.+?)$', term).groupdict(),\n",
    "        term=term,\n",
    "        direction='down',\n",
    "        library='LINCS_L1000_Chem_Pert',\n",
    "    ),\n",
    "}\n",
    "\n",
    "def enrichr_complete(gene, description, enrichr_libraries):\n",
    "    enrichr_list = enrichr_addList(gene, description)\n",
    "    df = pd.DataFrame([\n",
    "        parser(**result)\n",
    "        for library, parser in enrichr_libraries.items()\n",
    "        for result in enrichr_enrich(enrichr_list['userListId'], library)\n",
    "    ])\n",
    "    if df.shape[0] == 0: raise Exception('No significant Enrichr results in selected libraries')\n",
    "    return df.sort_values('adjusted_pvalue')\n"
   ]
  },
  {
   "cell_type": "code",
   "execution_count": null,
   "id": "derived-hypothetical",
   "metadata": {},
   "outputs": [],
   "source": [
    "with ignore_exceptions():\n",
    "    lincs_results = enrichr_complete(gene, f\"Gene-WG Appyter: {gene}\", enrichr_libraries)[[\n",
    "        'rank', 'drug', 'direction', 'adjusted_pvalue', 'pert_id', 'cell_line', 'timepoint', 'concentration',\n",
    "    ]]\n",
    "    show(lincs_results, order=[[lincs_results.columns.get_loc('rank'), 'asc']])"
   ]
  },
  {
   "cell_type": "code",
   "execution_count": null,
   "id": "charged-highlight",
   "metadata": {},
   "outputs": [],
   "source": [
    "with ignore_exceptions():\n",
    "    # combine pvalues for the same drug using fisher combination probability test\n",
    "    lincs_combined_stouffer_statistic = lincs_results.groupby(['drug', 'direction'])['adjusted_pvalue'] \\\n",
    "        .agg(partial(combine_pvalues, method='stouffer', select='statistic')) \\\n",
    "        .to_frame('combined_stouffer_statistic') \\\n",
    "        .reset_index() \\\n",
    "        .sort_values('combined_stouffer_statistic')\n",
    "\n",
    "    # the split & concat is done quite simply to ensure up ends up on left & down on right\n",
    "    lincs_combined_stouffer_statistic_up = lincs_combined_stouffer_statistic[lincs_combined_stouffer_statistic['direction'] == 'up']\n",
    "    lincs_combined_stouffer_statistic_down = lincs_combined_stouffer_statistic[lincs_combined_stouffer_statistic['direction'] == 'down']\n",
    "\n",
    "    fig = px.bar(\n",
    "        pd.concat([\n",
    "            lincs_combined_stouffer_statistic_up.iloc[:10],\n",
    "            lincs_combined_stouffer_statistic_down.iloc[:10],\n",
    "        ], axis=0),\n",
    "        x='combined_stouffer_statistic',\n",
    "        y='drug',\n",
    "        orientation='h',\n",
    "        barmode='group',\n",
    "        color='direction',\n",
    "        facet_col='direction',\n",
    "        text='drug',\n",
    "        title=f\"Drugs that significantly up or down-regulate the expression of {gene} in LINCS\",\n",
    "    )\n",
    "    fig.update_yaxes(matches=None, showticklabels=False)\n",
    "    fig.update_traces(texttemplate='%{text}', textposition='auto', insidetextanchor='start')\n",
    "    fig.show()"
   ]
  },
  {
   "cell_type": "markdown",
   "id": "b59d92cf",
   "metadata": {},
   "source": [
    "### International Mouse Phenotyping Consortium (IMPC)\n",
    "\n",
    "https://www.mousephenotype.org/\n",
    "\n",
    "IMPC contains serves mouse phenotype information associated with gene markers. Its [API is described here](https://www.mousephenotype.org/help/programmatic-data-access/) and allows us to identify phenotypes significantly associated with a gene."
   ]
  },
  {
   "cell_type": "code",
   "execution_count": null,
   "id": "077df60c",
   "metadata": {},
   "outputs": [],
   "source": [
    "@lru_cache()\n",
    "def impc_phenotype(marker_gene, rows=20):\n",
    "    res = requests.get(\n",
    "        f\"https://www.ebi.ac.uk/mi/impc/solr/genotype-phenotype/select\",\n",
    "        params=dict(\n",
    "            q=f\"marker_symbol:{marker_gene}\",\n",
    "            rows=rows,\n",
    "        ),\n",
    "    )\n",
    "    response = res.json()['response']\n",
    "    if response['numFound'] == 0: raise Exception('No phenotypes found')\n",
    "    return pd.DataFrame(response['docs']).sort_values('p_value', ascending=True)"
   ]
  },
  {
   "cell_type": "code",
   "execution_count": null,
   "id": "b690c1c0",
   "metadata": {},
   "outputs": [],
   "source": [
    "with ignore_exceptions():\n",
    "    impc_results = impc_phenotype(gene.capitalize())\n",
    "    show(impc_results[[\n",
    "        'marker_accession_id',\n",
    "        'mp_term_id',\n",
    "        'mp_term_name',\n",
    "        'assertion_type',\n",
    "        'p_value',\n",
    "        'phenotyping_center',\n",
    "        'percentage_change',\n",
    "        'statistical_method',\n",
    "    ]])"
   ]
  },
  {
   "cell_type": "code",
   "execution_count": null,
   "id": "3a648d8c",
   "metadata": {},
   "outputs": [],
   "source": [
    "with ignore_exceptions():\n",
    "    impc_combined_stouffer_statistic = impc_results.groupby('mp_term_name')['p_value'] \\\n",
    "        .agg([\n",
    "            ('combined_stouffer_statistic', partial(combine_pvalues, method='stouffer', select='pvalue')),\n",
    "        ]) \\\n",
    "        .reset_index() \\\n",
    "        .sort_values('combined_stouffer_statistic', ascending=False)\n",
    "    impc_combined_stouffer_statistic['-logp(combined_stouffer_statistic)'] = -np.log10(impc_combined_stouffer_statistic['combined_stouffer_statistic'])\n",
    "\n",
    "    fig = px.bar(\n",
    "        impc_combined_stouffer_statistic,\n",
    "        x='-logp(combined_stouffer_statistic)',\n",
    "        y='mp_term_name',\n",
    "        text='mp_term_name',\n",
    "        orientation='h',\n",
    "        title=f\"Phenotype known to be associated with {gene} from IMPC\",\n",
    "    )\n",
    "    fig.update_yaxes(showticklabels=False)\n",
    "    fig.update_traces(texttemplate='%{text}', textposition='auto', insidetextanchor='start')\n",
    "    fig.show()"
   ]
  },
  {
   "cell_type": "markdown",
   "id": "chubby-allowance",
   "metadata": {},
   "source": [
    "## Secondary Information\n",
    "\n",
    "Each DCC has assembled a large repository of knowledge besides the data directly collected by the data generation centers they coordinate. We can access this expanded knowledge as well."
   ]
  },
  {
   "cell_type": "markdown",
   "id": "convertible-antique",
   "metadata": {},
   "source": [
    "### IDG\n",
    "\n",
    "<https://druggablegenome.net/>\n",
    "\n",
    "#### Pharos\n",
    "\n",
    "We query IDG's knowledge base of targets and their Disease associations through the [Pharos API](https://pharos.nih.gov/api)."
   ]
  },
  {
   "cell_type": "code",
   "execution_count": null,
   "id": "impressive-ridge",
   "metadata": {},
   "outputs": [],
   "source": [
    "@lru_cache()\n",
    "def idg_pharos_geneDiseaseAssociations(associatedTarget):\n",
    "    req = requests.post(\n",
    "        'https://pharos-api.ncats.io/graphql',\n",
    "        headers={\n",
    "            'Content-Type': 'application/json',\n",
    "            'Accept': 'application/json',\n",
    "        },\n",
    "        json={\n",
    "            'query': dedent(f'''\n",
    "            query associatedDiseases {{\n",
    "                diseases(filter: {{associatedTarget: {json.dumps(associatedTarget)} }}) {{\n",
    "                    diseases {{\n",
    "                        associations {{\n",
    "                            name\n",
    "                            evidence\n",
    "                            pvalue\n",
    "                            zscore\n",
    "                        }}\n",
    "                    }}\n",
    "                }}\n",
    "            }}\n",
    "            ''')\n",
    "        },\n",
    "    )\n",
    "    results = req.json()['data']\n",
    "    return results"
   ]
  },
  {
   "cell_type": "code",
   "execution_count": null,
   "id": "rural-cholesterol",
   "metadata": {},
   "outputs": [],
   "source": [
    "with ignore_exceptions():\n",
    "    idg_pharos_api_results = idg_pharos_geneDiseaseAssociations(gene)\n",
    "\n",
    "    idg_pharos_results = pd.DataFrame(\n",
    "        association\n",
    "        for disease in idg_pharos_api_results['diseases']['diseases']\n",
    "        for association in disease['associations']\n",
    "    )\n",
    "\n",
    "    def compute_score(r):\n",
    "        if pd.notnull(r['pvalue']):\n",
    "            return r['pvalue']\n",
    "        elif pd.notnull(r['zscore']):\n",
    "            return 1-st.distributions.norm.cdf(r['zscore'])\n",
    "        else:\n",
    "            # we give na's 0.5 pvalue to show up in the plot albiet, insignificantly\n",
    "            return 0.5\n",
    "\n",
    "    # convert zscores to pvalues if present instead of pvalue\n",
    "    idg_pharos_results['pvalue'] = idg_pharos_results.apply(compute_score, axis=1)\n",
    "    show(idg_pharos_results, order=[[idg_pharos_results.columns.get_loc('pvalue'), 'asc']])"
   ]
  },
  {
   "cell_type": "code",
   "execution_count": null,
   "id": "impaired-spiritual",
   "metadata": {},
   "outputs": [],
   "source": [
    "with ignore_exceptions():\n",
    "    idg_pharos_combined_stouffer_statistic = idg_pharos_results.groupby('name')['pvalue'] \\\n",
    "        .agg([\n",
    "            ('combined_stouffer_statistic', partial(combine_pvalues, method='stouffer', select='pvalue')),\n",
    "        ]) \\\n",
    "        .reset_index() \\\n",
    "        .sort_values('combined_stouffer_statistic', ascending=False)\n",
    "    idg_pharos_combined_stouffer_statistic['-logp(combined_stouffer_statistic)'] = -np.log10(idg_pharos_combined_stouffer_statistic['combined_stouffer_statistic'])\n",
    "\n",
    "    fig = px.bar(\n",
    "        idg_pharos_combined_stouffer_statistic,\n",
    "        x='-logp(combined_stouffer_statistic)',\n",
    "        y='name',\n",
    "        text='name',\n",
    "        orientation='h',\n",
    "        title=f\"Disease known to be associated with {gene} from IDG's Pharos\",\n",
    "    )\n",
    "    fig.update_yaxes(showticklabels=False)\n",
    "    fig.update_traces(texttemplate='%{text}', textposition='auto', insidetextanchor='start')\n",
    "    fig.show()"
   ]
  },
  {
   "cell_type": "markdown",
   "id": "coral-lambda",
   "metadata": {},
   "source": [
    "#### Harmonizome\n",
    "\n",
    "We query the [Harmonizome API](https://maayanlab.cloud/Harmonizome/documentation) for associations with various biological entities in a standardized set of numerous omics datasets, as detailed [here](https://maayanlab.cloud/Harmonizome/about)."
   ]
  },
  {
   "cell_type": "code",
   "execution_count": null,
   "id": "comparable-enterprise",
   "metadata": {},
   "outputs": [],
   "source": [
    "@lru_cache()\n",
    "def idg_harmonizome_geneInfo(gene, showAssociations=True, version='1.0'):\n",
    "    res = requests.get(\n",
    "        f\"https://maayanlab.cloud/Harmonizome/api/{urllib.parse.quote(version)}/gene/{urllib.parse.quote(gene)}\",\n",
    "        params=dict(\n",
    "            showAssociations=json.dumps(showAssociations),\n",
    "        ),\n",
    "    )\n",
    "    return res.json()"
   ]
  },
  {
   "cell_type": "code",
   "execution_count": null,
   "id": "competent-darwin",
   "metadata": {},
   "outputs": [],
   "source": [
    "with ignore_exceptions():\n",
    "    idg_harmonizome_api_geneInfo = idg_harmonizome_geneInfo(gene)\n",
    "    display(RenderJSON(idg_harmonizome_api_geneInfo))\n",
    "    idg_harmonizome_geneAssociations = pd.DataFrame([\n",
    "        dict(\n",
    "            **geneAssociation['geneSet'],\n",
    "            **geneAssociation,\n",
    "        )\n",
    "        for geneAssociation in idg_harmonizome_api_geneInfo['associations']\n",
    "    ]).drop(['geneSet', 'thresholdValue', 'href'], axis=1).dropna()\n",
    "    show(\n",
    "        idg_harmonizome_geneAssociations,\n",
    "        order=[[idg_harmonizome_geneAssociations.columns.get_loc('standardizedValue'), 'desc']]\n",
    "    )"
   ]
  },
  {
   "cell_type": "code",
   "execution_count": null,
   "id": "matched-connectivity",
   "metadata": {},
   "outputs": [],
   "source": [
    "with ignore_exceptions():\n",
    "    idg_harmonizome_geneAssociations['direction'] = idg_harmonizome_geneAssociations['standardizedValue'].apply(\n",
    "        lambda v: 'up' if v > 0 else 'down'\n",
    "    )\n",
    "    idg_harmonizome_geneAssociations['absoluteZscore'] = np.abs(idg_harmonizome_geneAssociations['standardizedValue'])\n",
    "    idg_harmonizome_geneAssociations = idg_harmonizome_geneAssociations.sort_values('absoluteZscore')\n",
    "    idg_harmonizome_geneAssociations_top_10_up = idg_harmonizome_geneAssociations[idg_harmonizome_geneAssociations['direction'] == 'up'].iloc[-10:]\n",
    "    idg_harmonizome_geneAssociations_top_10_down = idg_harmonizome_geneAssociations[idg_harmonizome_geneAssociations['direction'] == 'down'].iloc[-10:]\n",
    "\n",
    "    fig = px.bar(\n",
    "        pd.concat([\n",
    "            idg_harmonizome_geneAssociations_top_10_up,\n",
    "            idg_harmonizome_geneAssociations_top_10_down,\n",
    "        ], axis=0),\n",
    "        x='absoluteZscore',\n",
    "        y='name',\n",
    "        orientation='h',\n",
    "        barmode='group',\n",
    "        color='direction',\n",
    "        facet_row='direction',\n",
    "        text='name',\n",
    "        title=f\"Significant associations with {gene} in IDG's Harmonizome\",\n",
    "        height=1000,\n",
    "        width=1000,\n",
    "    )\n",
    "    fig.update_yaxes(matches=None, showticklabels=False)\n",
    "    fig.update_traces(texttemplate='%{text}', textposition='inside', insidetextanchor='start')\n",
    "    fig.show()"
   ]
  },
  {
   "cell_type": "markdown",
   "id": "weekly-inspection",
   "metadata": {},
   "source": [
    "### ARCHS4\n",
    "\n",
    "https://maayanlab.cloud/archs4/\n",
    "\n",
    "ARCHS4 has processed numerous GEO studies and also has Tissue expression data."
   ]
  },
  {
   "cell_type": "code",
   "execution_count": null,
   "id": "incomplete-longitude",
   "metadata": {},
   "outputs": [],
   "source": [
    "@lru_cache()\n",
    "def archs4_tissue_expression(search, species='human'):\n",
    "    res = requests.get(\n",
    "        f\"https://maayanlab.cloud/archs4/search/loadExpressionTissue.php\",\n",
    "        params=dict(\n",
    "            search=search,\n",
    "            species='human',\n",
    "            type='tissue',\n",
    "        ),\n",
    "    )\n",
    "    df = pd.read_csv(io.StringIO(res.text)).dropna()\n",
    "    df.index = pd.MultiIndex.from_tuples(\n",
    "        df['id'].apply(lambda id: id.split('.')),\n",
    "        names=['', 'system', 'organ', 'tissue'],\n",
    "    )\n",
    "    return df.reset_index().drop(['id', ''], axis=1)\n"
   ]
  },
  {
   "cell_type": "code",
   "execution_count": null,
   "id": "discrete-hollywood",
   "metadata": {},
   "outputs": [],
   "source": [
    "with ignore_exceptions():\n",
    "    archs4_tissue_results = archs4_tissue_expression(gene)\n",
    "    show(archs4_tissue_results)"
   ]
  },
  {
   "cell_type": "markdown",
   "id": "dietary-hampshire",
   "metadata": {},
   "source": [
    "### GlyGen\n",
    "\n",
    "<https://www.glygen.org/>\n",
    "\n",
    "GlyGen collects extensive protein product information related to Glycans and permits accessing that information over [their API](https://api.glygen.org/)."
   ]
  },
  {
   "cell_type": "code",
   "execution_count": null,
   "id": "micro-dubai",
   "metadata": {},
   "outputs": [],
   "source": [
    "@lru_cache()\n",
    "def glygen_geneNameSearch(recommended_gene_name, organism_taxon_id=9606):\n",
    "    res = requests.get(\n",
    "        'https://api.glygen.org/directsearch/gene/',\n",
    "        params=dict(\n",
    "            query=json.dumps(dict(\n",
    "                recommended_gene_name=recommended_gene_name,\n",
    "                organism=dict(\n",
    "                    id=organism_taxon_id\n",
    "                ),\n",
    "            )),\n",
    "        ),\n",
    "        verify=False, # not sure why on my system I get SSL errors\n",
    "    )\n",
    "    return res.json()"
   ]
  },
  {
   "cell_type": "code",
   "execution_count": null,
   "id": "animated-fraud",
   "metadata": {},
   "outputs": [],
   "source": [
    "with ignore_exceptions():\n",
    "    glygen_geneInfo = glygen_geneNameSearch(gene)\n",
    "    display(RenderJSON(glygen_geneInfo))\n",
    "    d = pd.DataFrame(glygen_geneInfo['results'][0]['glycosylation'])\n",
    "    d['evidence'] = d['evidence'].apply(\n",
    "        lambda evidence: ' '.join(f\"<a href='{e['url']}'>{e['url']}></a>\" for e in evidence if 'url' in e)\n",
    "    )\n",
    "    show(d, order=[[d.columns.get_loc('residue'), 'asc']])"
   ]
  },
  {
   "cell_type": "markdown",
   "id": "fd7a26eb",
   "metadata": {},
   "source": [
    "### UnitProt\n",
    "\n",
    "https://www.uniprot.org/\n",
    "\n",
    "UniProt is a comprehensive database on protein function information. Their Proteins REST API, [documented here](https://www.ebi.ac.uk/proteins/api/doc/), can be used for gene-centric queries.\n",
    "\n",
    "https://www.ebi.ac.uk/proteins/api/genecentric?offset=0&size=100&gene=STAT3"
   ]
  },
  {
   "cell_type": "code",
   "execution_count": null,
   "id": "7d1797c6",
   "metadata": {},
   "outputs": [],
   "source": [
    "@lru_cache()\n",
    "def uniprot_genecentric(gene, offset=0, size=100):\n",
    "    req = requests.get(\n",
    "        f\"https://www.ebi.ac.uk/proteins/api/genecentric\",\n",
    "        params=dict(\n",
    "            gene=gene,\n",
    "            offset=offset,\n",
    "            size=size,\n",
    "        )\n",
    "    )\n",
    "    return req.json()"
   ]
  },
  {
   "cell_type": "code",
   "execution_count": null,
   "id": "93968035",
   "metadata": {},
   "outputs": [],
   "source": [
    "with ignore_exceptions():\n",
    "    uniprot_geneinfo = uniprot_genecentric(gene)\n",
    "    show(pd.DataFrame([\n",
    "        dict(related_record, subject=record['gene']['accession'])\n",
    "        for record in uniprot_geneinfo\n",
    "        for related_record in [record['gene'], *record.get('relatedGene',[])]\n",
    "    ]))"
   ]
  },
  {
   "cell_type": "markdown",
   "id": "85f77435",
   "metadata": {},
   "source": [
    "### MyGene.info\n",
    "\n",
    "https://mygene.info/\n",
    "\n",
    "MyGene.info is a service for gene identifier resolution. It's documented on [SmartAPI](https://mygene.smart-api.info/) but it takes gene ids as opposed to gene symbols. Fortunately the Harmonizome API already gives us the ID given the symbol.\n",
    "\n",
    "This API returns gene identfiers from several other databases as well as lots of other rich information."
   ]
  },
  {
   "cell_type": "code",
   "execution_count": null,
   "id": "983915a7",
   "metadata": {},
   "outputs": [],
   "source": [
    "with ignore_exceptions():\n",
    "    idg_harmonizome_api_geneInfo['symbol'], idg_harmonizome_api_geneInfo['ncbiEntrezGeneId']"
   ]
  },
  {
   "cell_type": "code",
   "execution_count": null,
   "id": "b109fde9",
   "metadata": {},
   "outputs": [],
   "source": [
    "@lru_cache()\n",
    "def mygeneinfo(geneid):\n",
    "    req = requests.get(\n",
    "        f\"https://mygene.info/v3/gene/{geneid}\"\n",
    "    )\n",
    "    return req.json()"
   ]
  },
  {
   "cell_type": "code",
   "execution_count": null,
   "id": "1510bbcb",
   "metadata": {},
   "outputs": [],
   "source": [
    "with ignore_exceptions():\n",
    "    mygene_geneinfo = mygeneinfo(idg_harmonizome_api_geneInfo['ncbiEntrezGeneId'])\n",
    "    display(RenderJSON(mygene_geneinfo))"
   ]
  },
  {
   "cell_type": "markdown",
   "id": "about-gospel",
   "metadata": {},
   "source": [
    "## Consensus: A Case Study\n",
    "\n",
    "In an attempt to meaningfully demonstrate interoperability by API, besides the (naturally) disjoint knowledge coming from each DCC, we identify areas where common knowledge may be found from several of these APIs.\n",
    "\n",
    "### Tissue Expression\n",
    "\n",
    "We try to merge common results to produce a single table presenting results from each independent DCC as one. Tissue was chosen simply because most DCCs seemed to have some knowledge to provide about them. Ideally we would choose other connections such as diseases."
   ]
  },
  {
   "cell_type": "code",
   "execution_count": null,
   "id": "74d8a916",
   "metadata": {},
   "outputs": [],
   "source": [
    "evidences = []"
   ]
  },
  {
   "cell_type": "code",
   "execution_count": null,
   "id": "synthetic-event",
   "metadata": {},
   "outputs": [],
   "source": [
    "with ignore_exceptions():\n",
    "    # get most significant tissue sites for this gene according to gtex\n",
    "    gtex_tissue_evidence = pd.DataFrame()\n",
    "    gtex_tissue_evidence['rank'] = (-gtex_combined_stouffer_statistic['combined_stouffer_statistic']).rank()\n",
    "    gtex_tissue_evidence['name'] = gtex_combined_stouffer_statistic['tissueSiteDetailId']\n",
    "    gtex_tissue_evidence['score'] = gtex_combined_stouffer_statistic['combined_stouffer_statistic']\n",
    "    gtex_tissue_evidence['present'] = 1\n",
    "    gtex_tissue_evidence['from'] = 'gtex'\n",
    "    evidences.append(gtex_tissue_evidence)\n",
    "    show(gtex_tissue_evidence, order=[[gtex_tissue_evidence.columns.get_loc('rank'), 'asc']])"
   ]
  },
  {
   "cell_type": "code",
   "execution_count": null,
   "id": "resistant-tissue",
   "metadata": {},
   "outputs": [],
   "source": [
    "with ignore_exceptions():\n",
    "    idg_harmonizome_tissue_geneAssociations = idg_harmonizome_geneAssociations[idg_harmonizome_geneAssociations['name'].str.lower().str.contains('tissue')]\n",
    "    idg_harmonizome_tissue_geneAssociations['tissue'] = idg_harmonizome_tissue_geneAssociations['name'].map(lambda name: name.split('/')[0])\n",
    "    idg_harmonizome_tissue_geneAssociations['evidence'] = idg_harmonizome_tissue_geneAssociations['name'].map(lambda name: name.split('/')[1])\n",
    "    idg_tissue_evidence = idg_harmonizome_tissue_geneAssociations[['tissue', 'evidence', 'direction', 'absoluteZscore']] \\\n",
    "        .groupby(['tissue', 'direction'])['absoluteZscore'] \\\n",
    "        .agg([('score', combine_zscores)]) \\\n",
    "        .reset_index() \\\n",
    "        .sort_values('score', ascending=False) \\\n",
    "        .rename({'tissue': 'name'}, axis=1)\n",
    "    idg_tissue_evidence['present'] = 1\n",
    "    idg_tissue_evidence['rank'] = (-idg_tissue_evidence['score']).rank()\n",
    "    idg_tissue_evidence['from'] = 'idg (harmonizome)'\n",
    "    idg_tissue_evidence = idg_tissue_evidence[['rank', 'name', 'direction', 'score', 'present', 'from']]\n",
    "    evidences.append(idg_tissue_evidence)\n",
    "    show(idg_tissue_evidence, order=[[idg_tissue_evidence.columns.get_loc('rank'), 'asc']])"
   ]
  },
  {
   "cell_type": "code",
   "execution_count": null,
   "id": "precise-hearing",
   "metadata": {},
   "outputs": [],
   "source": [
    "with ignore_exceptions():\n",
    "    # get curated knowledge about expression of the gene in a tissues according to GlyGen\n",
    "    glygen_tissue_evidence = pd.DataFrame([\n",
    "        {\n",
    "            'name': result['tissue'] if type(result['tissue']) == str else result['tissue']['name'],\n",
    "            'present': 1 if result['present'] == 'yes' else 0,\n",
    "            'from': ','.join(\n",
    "                f\"glygen ({evidence['database']}:{evidence['id']})\"\n",
    "                for evidence in result['evidence']\n",
    "            ),\n",
    "        }\n",
    "        for result in glygen_geneInfo['results'][0]['expression_tissue']\n",
    "    ])\n",
    "    glygen_tissue_evidence['rank'] = 10000 # put at end of the table\n",
    "    evidences.append(glygen_tissue_evidence)\n",
    "    show(glygen_tissue_evidence, order=[[glygen_tissue_evidence.columns.get_loc('present'), 'desc']])"
   ]
  },
  {
   "cell_type": "markdown",
   "id": "wireless-piano",
   "metadata": {},
   "source": [
    "This tables shows a aggregated view of different DCC evidences for the presence of the gene's expression in a tissue."
   ]
  },
  {
   "cell_type": "code",
   "execution_count": null,
   "id": "opposite-movie",
   "metadata": {},
   "outputs": [],
   "source": [
    "with ignore_exceptions():\n",
    "    archs4_tissue_evidence = pd.DataFrame()\n",
    "    archs4_tissue_evidence['rank'] = (-archs4_tissue_results['median']).rank()\n",
    "    archs4_tissue_evidence['name'] = archs4_tissue_results['tissue']\n",
    "    archs4_tissue_evidence['score'] = archs4_tissue_results['median']\n",
    "    archs4_tissue_evidence['present'] = 1\n",
    "    archs4_tissue_evidence['from'] = 'archs4 (GEO)'\n",
    "    evidences.append(archs4_tissue_evidence)\n",
    "    show(archs4_tissue_evidence, order=[[archs4_tissue_evidence.columns.get_loc('rank'), 'asc']])"
   ]
  },
  {
   "cell_type": "code",
   "execution_count": null,
   "id": "sporting-feelings",
   "metadata": {},
   "outputs": [],
   "source": [
    "with ignore_exceptions():\n",
    "    aggregated_tissue_rankings = pd.concat(evidences, axis=0, ignore_index=True)\n",
    "    show(aggregated_tissue_rankings, order=[[aggregated_tissue_rankings.columns.get_loc('rank'), 'asc']])"
   ]
  },
  {
   "cell_type": "code",
   "execution_count": null,
   "id": "distributed-criticism",
   "metadata": {},
   "outputs": [],
   "source": [
    "with ignore_exceptions():\n",
    "    fig = px.bar(\n",
    "        aggregated_tissue_rankings.reset_index().sort_values('rank', ascending=True).iloc[:20],\n",
    "        y='rank',\n",
    "        x='name',\n",
    "        orientation='v',\n",
    "        title=f\"Tissues with highly ranked associations with {gene} from various DCC APIs (lower is better)\",\n",
    "    )\n",
    "    fig.show()"
   ]
  }
 ],
 "metadata": {
  "kernelspec": {
   "display_name": "Python 3",
   "language": "python",
   "name": "python3"
  },
  "language_info": {
   "codemirror_mode": {
    "name": "ipython",
    "version": 3
   },
   "file_extension": ".py",
   "mimetype": "text/x-python",
   "name": "python",
   "nbconvert_exporter": "python",
   "pygments_lexer": "ipython3",
   "version": "3.9.5"
  }
 },
 "nbformat": 4,
 "nbformat_minor": 5
}
