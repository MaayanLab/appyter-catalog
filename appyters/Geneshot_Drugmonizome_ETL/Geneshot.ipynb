{
 "cells": [
  {
   "cell_type": "markdown",
   "metadata": {},
   "source": [
    "## Drugmonizome ETL : Geneshot\n",
    "\n",
    "##### Author : Eryk Kropiwnicki | eryk.kropiwnicki@icahn.mssm.edu"
   ]
  },
  {
   "cell_type": "code",
   "execution_count": null,
   "metadata": {},
   "outputs": [],
   "source": [
    "#%%appyter init\n",
    "from appyter import magic\n",
    "magic.init(lambda _=globals: _())"
   ]
  },
  {
   "cell_type": "code",
   "execution_count": null,
   "metadata": {},
   "outputs": [],
   "source": [
    "import os\n",
    "import sys\n",
    "import zipfile\n",
    "import datetime\n",
    "import time\n",
    "import json\n",
    "from collections import defaultdict\n",
    "\n",
    "import requests\n",
    "from urllib3.util.retry import Retry\n",
    "from requests.adapters import HTTPAdapter\n",
    "\n",
    "import pandas as pd\n",
    "import numpy as np\n",
    "from tqdm import tqdm\n",
    "import drugmonizome.utility_functions as uf\n",
    "import harmonizome.lookup as lookup"
   ]
  },
  {
   "cell_type": "code",
   "execution_count": null,
   "metadata": {},
   "outputs": [],
   "source": [
    "%load_ext autoreload\n",
    "%autoreload 2"
   ]
  },
  {
   "cell_type": "markdown",
   "metadata": {},
   "source": [
    "### Notebook Information"
   ]
  },
  {
   "cell_type": "code",
   "execution_count": null,
   "metadata": {},
   "outputs": [],
   "source": [
    "print('This notebook was run on:', datetime.date.today(), '\\nPython version:', sys.version)"
   ]
  },
  {
   "cell_type": "markdown",
   "metadata": {},
   "source": [
    "### Initializing Notebook"
   ]
  },
  {
   "cell_type": "code",
   "execution_count": null,
   "metadata": {},
   "outputs": [],
   "source": [
    "%%appyter hide_code\n",
    "\n",
    "{% do SectionField(\n",
    "    name='data',\n",
    "    title='Upload Data',\n",
    "    img='load_icon.png'\n",
    ") %}"
   ]
  },
  {
   "cell_type": "code",
   "execution_count": null,
   "metadata": {},
   "outputs": [],
   "source": [
    "%%appyter code_eval\n",
    "\n",
    "{% do DescriptionField(\n",
    "    name='description',\n",
    "    text='This appyter queries the Geneshot API with user-submitted small molecule names to retrieve lists of associated genes.\\\n",
    "    Then using the associated gene lists, Geneshot returns predicted lists of genes based on co-occurrence and co-expression methods.',\n",
    "    section='data'\n",
    ") %}\n",
    "\n",
    "{% set data_file = FileField(\n",
    "    constraint='.*\\.txt$',\n",
    "    name='smallmolecule_names', \n",
    "    label='List of small molecule names (.txt)', \n",
    "    default='geneshot_smallmolecules.txt',\n",
    "    examples={\n",
    "        'geneshot_smallmolecules.txt': 'https://appyters.maayanlab.cloud/storage/Drugmonizome_ETL_Appyters/geneshot_smallmolecules.txt'\n",
    "    },\n",
    "    section='data'\n",
    ") %}\n",
    "\n",
    "{% set similarity_matrix = MultiChoiceField(\n",
    "    name='identifier',\n",
    "    label='Choose gene-gene similarity matrix for determining predicted genes',\n",
    "    description='',\n",
    "    choices=['autorif',\n",
    "             'enrichr',\n",
    "             'generif',\n",
    "             'tagger',\n",
    "             'coexpression'],\n",
    "    default= [],\n",
    "    section='data'\n",
    ") %}"
   ]
  },
  {
   "cell_type": "markdown",
   "metadata": {},
   "source": [
    "### Load Gene Mapping Dictionaries"
   ]
  },
  {
   "cell_type": "code",
   "execution_count": null,
   "metadata": {},
   "outputs": [],
   "source": [
    "symbol_lookup, geneid_lookup = lookup.get_lookups()"
   ]
  },
  {
   "cell_type": "markdown",
   "metadata": {},
   "source": [
    "### Create Output Path"
   ]
  },
  {
   "cell_type": "code",
   "execution_count": null,
   "metadata": {},
   "outputs": [],
   "source": [
    "%%appyter code_exec\n",
    "\n",
    "output_name = 'geneshot_associated'\n",
    "path = 'output/drugmonizome_geneshot_associated'\n",
    "if not os.path.exists(path):\n",
    "    os.makedirs(path)"
   ]
  },
  {
   "cell_type": "markdown",
   "metadata": {},
   "source": [
    "### Load Data"
   ]
  },
  {
   "cell_type": "code",
   "execution_count": null,
   "metadata": {},
   "outputs": [],
   "source": [
    "%%appyter code_exec\n",
    "\n",
    "with open({{data_file}}) as f:\n",
    "    smallmolecules = [line.strip() for line in f]"
   ]
  },
  {
   "cell_type": "markdown",
   "metadata": {},
   "source": [
    "### Query small molecule names through Geneshot to retrieve associated genes"
   ]
  },
  {
   "cell_type": "code",
   "execution_count": null,
   "metadata": {},
   "outputs": [],
   "source": [
    "s = requests.Session()\n",
    "\n",
    "retries = Retry(total=5,\n",
    "                backoff_factor=0.5,\n",
    "                status_forcelist=[ 500, 502, 503, 504 ])\n",
    "\n",
    "s.mount('http://', HTTPAdapter(max_retries=retries))"
   ]
  },
  {
   "cell_type": "code",
   "execution_count": null,
   "metadata": {},
   "outputs": [],
   "source": [
    "feeds = []\n",
    "for entry in tqdm(smallmolecules):\n",
    "    response = s.get('http://amp.pharm.mssm.edu/geneshot/api/search/auto/' + entry)\n",
    "    try:\n",
    "        response.json()\n",
    "        data = response.json()\n",
    "    except ValueError:\n",
    "        pass\n",
    "    \n",
    "    feeds.append(data)\n",
    "    time.sleep(0.5)"
   ]
  },
  {
   "cell_type": "markdown",
   "metadata": {},
   "source": [
    "### Create dataframe of small molecules, associated genes, and mention scores"
   ]
  },
  {
   "cell_type": "code",
   "execution_count": null,
   "metadata": {},
   "outputs": [],
   "source": [
    "df_counts = pd.DataFrame()\n",
    "gene_list = []\n",
    "compound_list = []\n",
    "mention_score = []\n",
    "\n",
    "for item in feeds:\n",
    "    genes = item[\"gene_count\"]\n",
    "    compound = (item[\"search_term\"])\n",
    "    for gene in genes:\n",
    "        gene_list.append(gene)\n",
    "        compound_list.append(compound)\n",
    "        mention_score.append(float(genes[gene][0])*float(genes[gene][1])) # total mentions * frequency in literature\n",
    "\n",
    "\n",
    "df_counts['Compound_name'] = compound_list\n",
    "df_counts['Gene_name'] = gene_list\n",
    "df_counts['Mention_score'] = mention_score"
   ]
  },
  {
   "cell_type": "markdown",
   "metadata": {},
   "source": [
    "### Filter dataframe by top 200 returned associated genes from each unique small molecule query, and top 1000 small molecule associations for each unique gene returned across all queries"
   ]
  },
  {
   "cell_type": "code",
   "execution_count": null,
   "metadata": {},
   "outputs": [],
   "source": [
    "# Filter each small molecule and its top 200 returned associated genes by mention score\n",
    "df_counts = df_counts.sort_values(by = ['Compound_name', 'Mention_score'], ascending = False)\\\n",
    "    .groupby('Compound_name')\\\n",
    "    .head(200)"
   ]
  },
  {
   "cell_type": "code",
   "execution_count": null,
   "metadata": {},
   "outputs": [],
   "source": [
    "# For each unique gene, take the top thousand associated small molecules by mention score\n",
    "df_filtered = df_counts.sort_values(by = ['Gene_name', 'Mention_score'], ascending = False)\\\n",
    "    .groupby('Gene_name')\\\n",
    "    .head(1000)"
   ]
  },
  {
   "cell_type": "code",
   "execution_count": null,
   "metadata": {},
   "outputs": [],
   "source": [
    "df_filtered.head()"
   ]
  },
  {
   "cell_type": "code",
   "execution_count": null,
   "metadata": {},
   "outputs": [],
   "source": [
    "df_output = df_filtered[['Compound_name','Gene_name']]\n",
    "df_output.set_index('Compound_name', inplace = True)\n",
    "df_output.shape"
   ]
  },
  {
   "cell_type": "markdown",
   "metadata": {},
   "source": [
    "### Matching Gene Symbols to Approved Entrez Gene Symbols"
   ]
  },
  {
   "cell_type": "code",
   "execution_count": null,
   "metadata": {},
   "outputs": [],
   "source": [
    "df_output = uf.map_symbols(df_output, symbol_lookup)\n",
    "df_output.shape"
   ]
  },
  {
   "cell_type": "markdown",
   "metadata": {},
   "source": [
    "## Analyze Geneshot Associated Data"
   ]
  },
  {
   "cell_type": "markdown",
   "metadata": {},
   "source": [
    "### Export Edge List"
   ]
  },
  {
   "cell_type": "code",
   "execution_count": null,
   "metadata": {},
   "outputs": [],
   "source": [
    "uf.save_data(df_output, path, output_name + '_edge_list', \n",
    "        ext='tsv', compression='gzip')"
   ]
  },
  {
   "cell_type": "markdown",
   "metadata": {},
   "source": [
    "### Create Binary Matrix"
   ]
  },
  {
   "cell_type": "code",
   "execution_count": null,
   "metadata": {},
   "outputs": [],
   "source": [
    "binary_matrix = uf.binary_matrix(df_output)\n",
    "binary_matrix.head()"
   ]
  },
  {
   "cell_type": "code",
   "execution_count": null,
   "metadata": {},
   "outputs": [],
   "source": [
    "binary_matrix.shape"
   ]
  },
  {
   "cell_type": "code",
   "execution_count": null,
   "metadata": {},
   "outputs": [],
   "source": [
    "uf.save_data(binary_matrix, path, output_name + '_binary_matrix', \n",
    "            compression='npz', dtype=np.uint8)"
   ]
  },
  {
   "cell_type": "markdown",
   "metadata": {},
   "source": [
    "### Create Drug and Attribute Set Library"
   ]
  },
  {
   "cell_type": "code",
   "execution_count": null,
   "metadata": {},
   "outputs": [],
   "source": [
    "uf.save_setlib(binary_matrix, 'drug', path, output_name + '_drug_setlibrary')"
   ]
  },
  {
   "cell_type": "code",
   "execution_count": null,
   "metadata": {},
   "outputs": [],
   "source": [
    "uf.save_setlib(binary_matrix, 'attribute', path, output_name + '_attribute_setlibrary')"
   ]
  },
  {
   "cell_type": "markdown",
   "metadata": {},
   "source": [
    "### Create Attribute Similarity Matrix"
   ]
  },
  {
   "cell_type": "code",
   "execution_count": null,
   "metadata": {},
   "outputs": [],
   "source": [
    "attribute_similarity_matrix = uf.similarity_matrix(binary_matrix.T, 'jaccard', sparse=True)\n",
    "attribute_similarity_matrix.head()"
   ]
  },
  {
   "cell_type": "code",
   "execution_count": null,
   "metadata": {},
   "outputs": [],
   "source": [
    "uf.save_data(attribute_similarity_matrix, path,\n",
    "            output_name + '_attribute_similarity_matrix', \n",
    "            compression='npz', symmetric=True, dtype=np.float32)"
   ]
  },
  {
   "cell_type": "markdown",
   "metadata": {},
   "source": [
    "### Create Drug Similarity Matrix"
   ]
  },
  {
   "cell_type": "code",
   "execution_count": null,
   "metadata": {},
   "outputs": [],
   "source": [
    "drug_similarity_matrix = uf.similarity_matrix(binary_matrix, 'jaccard', sparse=True)\n",
    "drug_similarity_matrix.head()"
   ]
  },
  {
   "cell_type": "code",
   "execution_count": null,
   "metadata": {},
   "outputs": [],
   "source": [
    "uf.save_data(drug_similarity_matrix, path,\n",
    "            output_name + '_drug_similarity_matrix', \n",
    "            compression='npz', symmetric=True, dtype=np.float32)"
   ]
  },
  {
   "cell_type": "markdown",
   "metadata": {},
   "source": [
    "## Predicted Genes"
   ]
  },
  {
   "cell_type": "markdown",
   "metadata": {},
   "source": [
    "### Match each small molecule to associated genelists retrieved from Geneshot"
   ]
  },
  {
   "cell_type": "code",
   "execution_count": null,
   "metadata": {},
   "outputs": [],
   "source": [
    "genes = df_filtered['Gene_name'].tolist()\n",
    "compounds = df_filtered['Compound_name'].tolist()\n",
    "\n",
    "id_list = tuple(zip(compounds,genes))\n",
    "genedict = defaultdict(list)\n",
    "for k,v in id_list:\n",
    "    genedict[k].append(v)\n",
    "\n",
    "# Ensure each compound is matched with a gene list of length 5 or greater\n",
    "genedict = {k:list(set(v)) for k,v in genedict.items() if len(set(v)) >=5}"
   ]
  },
  {
   "cell_type": "markdown",
   "metadata": {},
   "source": [
    "### The next lines will create outputs specific to the selected predicted gene similarity metrics\n",
    "**1)** Querying each unique small molecule associated genelist through Geneshot to retrieve predicted genes\n",
    "\n",
    "**2)** Create dataframe of small molecules, predicted genes, and mention scores\n",
    "\n",
    "**3)** Create edge lists, binary matrices, drug and attribute set libraries, and similarity matrices for each output"
   ]
  },
  {
   "cell_type": "code",
   "execution_count": null,
   "metadata": {},
   "outputs": [],
   "source": [
    "s = requests.Session()\n",
    "\n",
    "retries = Retry(total=5,\n",
    "                backoff_factor=0.5,\n",
    "                status_forcelist=[ 500, 502, 503, 504 ])\n",
    "\n",
    "s.mount('http://', HTTPAdapter(max_retries=retries))"
   ]
  },
  {
   "cell_type": "code",
   "execution_count": null,
   "metadata": {},
   "outputs": [],
   "source": [
    "GENESHOT_URL = 'http://amp.pharm.mssm.edu/geneshot/api'\n",
    "query_string = '/associate/%s/%s'"
   ]
  },
  {
   "cell_type": "code",
   "execution_count": null,
   "metadata": {},
   "outputs": [],
   "source": [
    "%%appyter code_exec\n",
    "{% if similarity_matrix.value %}\n",
    "for matrix in {{ similarity_matrix }}:\n",
    "    feeds = []\n",
    "    for drug, genelist in tqdm(genedict.items()):\n",
    "        response = s.get(\n",
    "            GENESHOT_URL + query_string % (matrix,genelist)\n",
    "        )\n",
    "        data = response.json()\n",
    "        data[drug] = data.pop(\"association\") # label each set of returned results with small molecule name\n",
    "        feeds.append(data)\n",
    "        time.sleep(0.5)\n",
    "    \n",
    "    # Create list of queried drugs to match dict_keys in json object\n",
    "    drugs = [k for k,v in genedict.items()]\n",
    "\n",
    "    # Iterate through json object and retrieve compounds matched to genes and similarity scores\n",
    "    df = pd.DataFrame()\n",
    "\n",
    "    simscores = []\n",
    "    drug_list = []\n",
    "    gene_list = []\n",
    "\n",
    "    for drug in drugs:\n",
    "        for item in feeds:\n",
    "            if drug in item:\n",
    "                for gene in item[drug]:\n",
    "                    simscores.append((item[drug][gene][\"simScore\"]))\n",
    "                    drug_list.append(drug)\n",
    "                    gene_list.append(gene)\n",
    "\n",
    "    df['Compound_name'] = drug_list \n",
    "    df['Gene_name'] = gene_list\n",
    "    df['Similarity_score'] = simscores\n",
    "    \n",
    "    # Filter each gene by top 1000 small molecule associations by similarity score\n",
    "    df_filtered = df.sort_values(by = ['Gene_name', 'Similarity_score'], ascending = False)\\\n",
    "        .groupby('Gene_name')\\\n",
    "        .head(1000)\n",
    "    \n",
    "    # Set compound name as dataframe index\n",
    "    df_output = df_filtered[['Compound_name','Gene_name']]\n",
    "    df_output.set_index('Compound_name', inplace = True)\n",
    "    df_output.shape\n",
    "    \n",
    "    # Matching gene symbols to approved entrez gene symbols\n",
    "    df_output = uf.map_symbols(df_output, symbol_lookup)\n",
    "    \n",
    "    # Create output path specific to similarity matrix\n",
    "    output_name = 'geneshot_' + matrix\n",
    "    path = 'output/drugmonizome_geneshot_' + matrix\n",
    "    if not os.path.exists(path):\n",
    "        os.makedirs(path)\n",
    "    \n",
    "    # Export edge list\n",
    "    uf.save_data(df_output, path, output_name + '_edge_list', \n",
    "        ext='tsv', compression='gzip')\n",
    "    \n",
    "    # Create binary matrix\n",
    "    binary_matrix_down = uf.binary_matrix(df_output)\n",
    "    uf.save_data(binary_matrix, path, output_name + '_binary_matrix', \n",
    "            compression='npz', dtype=np.uint8)\n",
    "    \n",
    "    # Create drug and attribute set library\n",
    "    uf.save_setlib(binary_matrix_down, 'drug', path, output_name + '_drug_setlibrary')\n",
    "    uf.save_setlib(binary_matrix_down, 'attribute', path, output_name + '_attribute_setlibrary')\n",
    "    \n",
    "    # Create attribute similarity matrix\n",
    "    attribute_similarity_matrix = uf.similarity_matrix(binary_matrix.T, 'jaccard', sparse=True)\n",
    "    uf.save_data(attribute_similarity_matrix, path,\n",
    "            output_name + '_attribute_similarity_matrix', \n",
    "            compression='npz', symmetric=True, dtype=np.float32)\n",
    "    \n",
    "    # Create drug similarity matrix\n",
    "    drug_similarity_matrix = uf.similarity_matrix(binary_matrix, 'jaccard', sparse=True)\n",
    "    uf.save_data(drug_similarity_matrix, path,\n",
    "            output_name + '_drug_similarity_matrix', \n",
    "            compression='npz', symmetric=True, dtype=np.float32)\n",
    "\n",
    "        \n",
    "{% else %} \n",
    "print('No similarity methods specified for generating predicted genes')\n",
    "{% endif %}"
   ]
  },
  {
   "cell_type": "markdown",
   "metadata": {},
   "source": [
    "### Create download folder with all outputs"
   ]
  },
  {
   "cell_type": "code",
   "execution_count": null,
   "metadata": {},
   "outputs": [],
   "source": [
    "paths = [x[0] for x in os.walk('output')]\n",
    "zipf = zipfile.ZipFile(\"output_archive.zip\", \"w\")\n",
    "for path in paths:\n",
    "    for root, _, files in os.walk(path):\n",
    "        for f in files:\n",
    "            zipf.write(os.path.join(root, f))"
   ]
  },
  {
   "cell_type": "markdown",
   "metadata": {},
   "source": [
    "### Link to the output folder: [Download](./output_archive.zip)"
   ]
  }
 ],
 "metadata": {
  "kernelspec": {
   "display_name": "Python 3",
   "language": "python",
   "name": "python3"
  },
  "language_info": {
   "codemirror_mode": {
    "name": "ipython",
    "version": 3
   },
   "file_extension": ".py",
   "mimetype": "text/x-python",
   "name": "python",
   "nbconvert_exporter": "python",
   "pygments_lexer": "ipython3",
   "version": "3.8.3"
  }
 },
 "nbformat": 4,
 "nbformat_minor": 2
}
