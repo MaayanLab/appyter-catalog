{
    "cells": [
        {
            "cell_type": "markdown",
            "metadata": {},
            "source": [
                "# Harmonizome ETL: GTEx - Tissue"
            ]
        },
        {
            "cell_type": "markdown",
            "metadata": {},
            "source": [
                "Created by: Charles Dai <br>\n",
                "Credit to: Moshe Silverstein\n",
                "\n",
                "Data Source: https://www.gtexportal.org/home/datasets"
            ]
        },
        {
            "cell_type": "code",
            "execution_count": null,
            "metadata": {
                "tags": []
            },
            "outputs": [],
            "source": [
                "# appyter init\n",
                "from appyter import magic\n",
                "magic.init(lambda _=globals: _())"
            ]
        },
        {
            "cell_type": "code",
            "execution_count": null,
            "metadata": {},
            "outputs": [],
            "source": [
                "import sys\n",
                "import os\n",
                "from datetime import date\n",
                "import gzip\n",
                "\n",
                "import numpy as np\n",
                "import pandas as pd\n",
                "import matplotlib.pyplot as plt\n",
                "%matplotlib inline\n",
                "\n",
                "import harmonizome.utility_functions as uf\n",
                "import harmonizome.lookup as lookup"
            ]
        },
        {
            "cell_type": "code",
            "execution_count": null,
            "metadata": {
                "tags": []
            },
            "outputs": [],
            "source": [
                "%load_ext autoreload\n",
                "%autoreload 2"
            ]
        },
        {
            "cell_type": "markdown",
            "metadata": {},
            "source": [
                "### Notebook Information"
            ]
        },
        {
            "cell_type": "code",
            "execution_count": null,
            "metadata": {
                "tags": []
            },
            "outputs": [],
            "source": [
                "print('This notebook was run on:', date.today(), '\\nPython version:', sys.version)"
            ]
        },
        {
            "cell_type": "markdown",
            "metadata": {},
            "source": [
                "# Initialization"
            ]
        },
        {
            "cell_type": "code",
            "execution_count": null,
            "metadata": {},
            "outputs": [],
            "source": [
                "%%appyter hide_code\n",
                "\n",
                "{% do SectionField(\n",
                "    name='data',\n",
                "    title='Upload Data',\n",
                "    img='load_icon.png'\n",
                ") %}"
            ]
        },
        {
            "cell_type": "code",
            "execution_count": null,
            "metadata": {
                "tags": []
            },
            "outputs": [],
            "source": [
                "%%appyter code_eval\n",
                "\n",
                "{% do DescriptionField(\n",
                "    name='description',\n",
                "    text='The examples below were sourced from <a href=\"https://www.gtexportal.org/home/datasets\" target=\"_blank\">www.gtexportal.org</a>. If clicking on the examples does not work, they should be downloaded directly from the source website.',\n",
                "    section='data'\n",
                ") %}\n",
                "\n",
                "{% set matrix_file = FileField(\n",
                "    constraint='.*\\.gz$',\n",
                "    name='expression_matrix', \n",
                "    label='RNA-Seq Gene Counts (gct.gz)', \n",
                "    default='Input/GTEx/GTEx_Analysis_2017-06-05_v8_RNASeQCv1.1.9_gene_reads.gct.gz',\n",
                "    examples={\n",
                "        'GTEx_Analysis_2017-06-05_v8_RNASeQCv1.1.9_gene_reads.gct.gz': 'https://storage.googleapis.com/gtex_analysis_v8/rna_seq_data/GTEx_Analysis_2017-06-05_v8_RNASeQCv1.1.9_gene_reads.gct.gz'\n",
                "    },\n",
                "    section='data'\n",
                ") %}\n",
                "\n",
                "{% set sample_file = FileField(\n",
                "    constraint='.*\\.txt$',\n",
                "    name='sample_metadata', \n",
                "    label='Sample Metadata (txt)', \n",
                "    default='Input/GTEx/GTEx_Analysis_v8_Annotations_SampleAttributesDS.txt',\n",
                "    examples={\n",
                "        'GTEx_Analysis_v8_Annotations_SampleAttributesDS.txt': 'https://storage.googleapis.com/gtex_analysis_v8/annotations/GTEx_Analysis_v8_Annotations_SampleAttributesDS.txt'\n",
                "    },\n",
                "    section='data'\n",
                ") %}\n",
                "\n",
                "{% set subject_file = FileField(\n",
                "    constraint='.*\\.txt$',\n",
                "    name='subject_metadata', \n",
                "    label='Subject Metadata (txt)', \n",
                "    default='Input/GTEx/GTEx_Analysis_v8_Annotations_SubjectPhenotypesDS.txt',\n",
                "    examples={\n",
                "        'GTEx_Analysis_v8_Annotations_SubjectPhenotypesDS.txt': 'https://storage.googleapis.com/gtex_analysis_v8/annotations/GTEx_Analysis_v8_Annotations_SubjectPhenotypesDS.txt'\n",
                "    },\n",
                "    section='data'\n",
                ") %}"
            ]
        },
        {
            "cell_type": "markdown",
            "metadata": {},
            "source": [
                "### Load Mapping Dictionaries"
            ]
        },
        {
            "cell_type": "code",
            "execution_count": null,
            "metadata": {
                "tags": []
            },
            "outputs": [],
            "source": [
                "symbol_lookup, geneid_lookup = lookup.get_lookups()"
            ]
        },
        {
            "cell_type": "markdown",
            "metadata": {},
            "source": [
                "### Output Path"
            ]
        },
        {
            "cell_type": "code",
            "execution_count": null,
            "metadata": {},
            "outputs": [],
            "source": [
                "output_name = 'gtex'\n",
                "\n",
                "path = 'Output/GTEx'\n",
                "if not os.path.exists(path):\n",
                "    os.makedirs(path)"
            ]
        },
        {
            "cell_type": "markdown",
            "metadata": {},
            "source": [
                "# Load Data"
            ]
        },
        {
            "cell_type": "code",
            "execution_count": null,
            "metadata": {
                "tags": []
            },
            "outputs": [],
            "source": [
                "%%appyter code_exec\n",
                "\n",
                "matrix = pd.read_csv(\n",
                "    {{matrix_file}}, \n",
                "    sep='\\t', skiprows=2, usecols=lambda c: c != 'Name', \n",
                "    index_col=0\n",
                ")"
            ]
        },
        {
            "cell_type": "code",
            "execution_count": null,
            "metadata": {},
            "outputs": [],
            "source": [
                "matrix.head()"
            ]
        },
        {
            "cell_type": "code",
            "execution_count": null,
            "metadata": {},
            "outputs": [],
            "source": [
                "matrix.shape"
            ]
        },
        {
            "cell_type": "markdown",
            "metadata": {},
            "source": [
                "## Load Sample Metadata"
            ]
        },
        {
            "cell_type": "code",
            "execution_count": null,
            "metadata": {},
            "outputs": [],
            "source": [
                "%%appyter code_exec\n",
                "\n",
                "sample_meta = pd.read_csv(\n",
                "    {{sample_file}}, \n",
                "    sep='\\t', index_col=0, usecols=['SAMPID', 'SMTSD']\n",
                ")"
            ]
        },
        {
            "cell_type": "code",
            "execution_count": null,
            "metadata": {},
            "outputs": [],
            "source": [
                "sample_meta.head()"
            ]
        },
        {
            "cell_type": "code",
            "execution_count": null,
            "metadata": {},
            "outputs": [],
            "source": [
                "sample_meta.shape"
            ]
        },
        {
            "cell_type": "markdown",
            "metadata": {},
            "source": [
                "## Load Subject Metadata"
            ]
        },
        {
            "cell_type": "code",
            "execution_count": null,
            "metadata": {},
            "outputs": [],
            "source": [
                "%%appyter code_exec\n",
                "\n",
                "subject_meta = pd.read_csv({{subject_file}})"
            ]
        },
        {
            "cell_type": "code",
            "execution_count": null,
            "metadata": {},
            "outputs": [],
            "source": [
                "subject_meta.head()"
            ]
        },
        {
            "cell_type": "code",
            "execution_count": null,
            "metadata": {},
            "outputs": [],
            "source": [
                "subject_meta.shape"
            ]
        },
        {
            "cell_type": "markdown",
            "metadata": {},
            "source": [
                "# Pre-process Data"
            ]
        },
        {
            "cell_type": "markdown",
            "metadata": {},
            "source": [
                "## Map Sample ID to Attribute"
            ]
        },
        {
            "cell_type": "code",
            "execution_count": null,
            "metadata": {},
            "outputs": [],
            "source": [
                "matrix.columns = sample_meta.reindex(matrix.columns)['SMTSD'].to_list()\n",
                "matrix.columns.name = 'Tissue'\n",
                "matrix.index.name = 'Gene Symbol'\n",
                "matrix.head()"
            ]
        },
        {
            "cell_type": "markdown",
            "metadata": {},
            "source": [
                "## Merge Duplicate Tissues"
            ]
        },
        {
            "cell_type": "code",
            "execution_count": null,
            "metadata": {},
            "outputs": [],
            "source": [
                "matrix = uf.merge(matrix, 'column')\n",
                "matrix.shape"
            ]
        },
        {
            "cell_type": "markdown",
            "metadata": {},
            "source": [
                "## Save Unfiltered Matrix to file"
            ]
        },
        {
            "cell_type": "code",
            "execution_count": null,
            "metadata": {},
            "outputs": [],
            "source": [
                "uf.save_data(matrix, path, output_name + '_matrix_unfiltered',\n",
                "            compression='gzip', dtype=np.float32)"
            ]
        },
        {
            "cell_type": "markdown",
            "metadata": {},
            "source": [
                "# Filter Data"
            ]
        },
        {
            "cell_type": "markdown",
            "metadata": {},
            "source": [
                "## Map Gene Symbols to Up-to-date Approved Gene Symbols"
            ]
        },
        {
            "cell_type": "code",
            "execution_count": null,
            "metadata": {
                "tags": []
            },
            "outputs": [],
            "source": [
                "matrix = uf.map_symbols(matrix, symbol_lookup)\n",
                "matrix.shape"
            ]
        },
        {
            "cell_type": "markdown",
            "metadata": {},
            "source": [
                "## Merge Duplicate Genes By Rows"
            ]
        },
        {
            "cell_type": "code",
            "execution_count": null,
            "metadata": {},
            "outputs": [],
            "source": [
                "matrix = uf.merge(matrix, 'row')\n",
                "matrix.shape"
            ]
        },
        {
            "cell_type": "markdown",
            "metadata": {},
            "source": [
                "## Remove Data that is More Than 95% Missing and Impute Missing Data"
            ]
        },
        {
            "cell_type": "code",
            "execution_count": null,
            "metadata": {},
            "outputs": [],
            "source": [
                "matrix = uf.remove_impute(matrix)\n",
                "matrix.head()"
            ]
        },
        {
            "cell_type": "code",
            "execution_count": null,
            "metadata": {},
            "outputs": [],
            "source": [
                "matrix.shape"
            ]
        },
        {
            "cell_type": "markdown",
            "metadata": {},
            "source": [
                "## Log2 Transform"
            ]
        },
        {
            "cell_type": "code",
            "execution_count": null,
            "metadata": {},
            "outputs": [],
            "source": [
                "matrix = uf.log2(matrix)\n",
                "matrix.head()"
            ]
        },
        {
            "cell_type": "markdown",
            "metadata": {},
            "source": [
                "## Normalize Matrix (Quantile Normalize the Matrix by Column)"
            ]
        },
        {
            "cell_type": "code",
            "execution_count": null,
            "metadata": {},
            "outputs": [],
            "source": [
                "matrix = uf.quantile_normalize(matrix)\n",
                "matrix.head()"
            ]
        },
        {
            "cell_type": "markdown",
            "metadata": {},
            "source": [
                "## Normalize Matrix (Z-Score the Rows)"
            ]
        },
        {
            "cell_type": "code",
            "execution_count": null,
            "metadata": {},
            "outputs": [],
            "source": [
                "matrix = uf.zscore(matrix)\n",
                "matrix.head()"
            ]
        },
        {
            "cell_type": "markdown",
            "metadata": {},
            "source": [
                "## Histogram of First Sample"
            ]
        },
        {
            "cell_type": "code",
            "execution_count": null,
            "metadata": {},
            "outputs": [],
            "source": [
                "matrix.iloc[:, 0].hist(bins=100)"
            ]
        },
        {
            "cell_type": "markdown",
            "metadata": {},
            "source": [
                "## Histogram of First Gene"
            ]
        },
        {
            "cell_type": "code",
            "execution_count": null,
            "metadata": {},
            "outputs": [],
            "source": [
                "matrix.iloc[0, :].hist(bins=100)"
            ]
        },
        {
            "cell_type": "markdown",
            "metadata": {},
            "source": [
                "## Save Filtered Matrix"
            ]
        },
        {
            "cell_type": "code",
            "execution_count": null,
            "metadata": {},
            "outputs": [],
            "source": [
                "uf.save_data(matrix, path, output_name + '_matrix_filtered', \n",
                "            ext='tsv', compression='gzip')"
            ]
        },
        {
            "cell_type": "markdown",
            "metadata": {},
            "source": [
                "# Analyze Data"
            ]
        },
        {
            "cell_type": "markdown",
            "metadata": {},
            "source": [
                "## Create Gene List"
            ]
        },
        {
            "cell_type": "code",
            "execution_count": null,
            "metadata": {},
            "outputs": [],
            "source": [
                "gene_list = uf.gene_list(matrix, geneid_lookup)\n",
                "gene_list.head()"
            ]
        },
        {
            "cell_type": "code",
            "execution_count": null,
            "metadata": {},
            "outputs": [],
            "source": [
                "gene_list.shape"
            ]
        },
        {
            "cell_type": "code",
            "execution_count": null,
            "metadata": {},
            "outputs": [],
            "source": [
                "uf.save_data(gene_list, path, output_name + '_gene_list',\n",
                "            ext='tsv', compression='gzip', index=False)"
            ]
        },
        {
            "cell_type": "markdown",
            "metadata": {},
            "source": [
                "## Create Attribute List"
            ]
        },
        {
            "cell_type": "code",
            "execution_count": null,
            "metadata": {},
            "outputs": [],
            "source": [
                "attribute_list = uf.attribute_list(matrix)\n",
                "attribute_list.head()"
            ]
        },
        {
            "cell_type": "code",
            "execution_count": null,
            "metadata": {},
            "outputs": [],
            "source": [
                "attribute_list.shape"
            ]
        },
        {
            "cell_type": "code",
            "execution_count": null,
            "metadata": {},
            "outputs": [],
            "source": [
                "uf.save_data(attribute_list, path, output_name + '_attribute_list',\n",
                "            ext='tsv', compression='gzip')"
            ]
        },
        {
            "cell_type": "markdown",
            "metadata": {},
            "source": [
                "## Create matrix of Standardized values (values between -1, and 1)"
            ]
        },
        {
            "cell_type": "code",
            "execution_count": null,
            "metadata": {},
            "outputs": [],
            "source": [
                "standard_matrix = uf.standardized_matrix(matrix)\n",
                "standard_matrix.head()"
            ]
        },
        {
            "cell_type": "code",
            "execution_count": null,
            "metadata": {},
            "outputs": [],
            "source": [
                "uf.save_data(standard_matrix, path, output_name + '_standard_matrix',\n",
                "            ext='tsv', compression='gzip')"
            ]
        },
        {
            "cell_type": "markdown",
            "metadata": {},
            "source": [
                "## Plot of A Single Celltype, Normalized Value vs. Standardized Value"
            ]
        },
        {
            "cell_type": "code",
            "execution_count": null,
            "metadata": {},
            "outputs": [],
            "source": [
                "plt.plot(matrix[matrix.columns[0]],\n",
                "         standard_matrix[standard_matrix.columns[0]], 'bo')\n",
                "plt.xlabel('Normalized Values')\n",
                "plt.ylabel('Standardized Values')\n",
                "plt.title(standard_matrix.columns[0])\n",
                "plt.grid(True)"
            ]
        },
        {
            "cell_type": "markdown",
            "metadata": {},
            "source": [
                "## Create Ternary Matrix"
            ]
        },
        {
            "cell_type": "code",
            "execution_count": null,
            "metadata": {},
            "outputs": [],
            "source": [
                "ternary_matrix = uf.ternary_matrix(standard_matrix)\n",
                "ternary_matrix.head()"
            ]
        },
        {
            "cell_type": "code",
            "execution_count": null,
            "metadata": {},
            "outputs": [],
            "source": [
                "uf.save_data(ternary_matrix, path, output_name + '_ternary_matrix',\n",
                "            ext='tsv', compression='gzip')"
            ]
        },
        {
            "cell_type": "markdown",
            "metadata": {},
            "source": [
                "## Create Gene and Attribute Set Libraries"
            ]
        },
        {
            "cell_type": "code",
            "execution_count": null,
            "metadata": {},
            "outputs": [],
            "source": [
                "uf.save_setlib(ternary_matrix, 'gene', 'up', path, output_name + '_gene_up_set')"
            ]
        },
        {
            "cell_type": "code",
            "execution_count": null,
            "metadata": {},
            "outputs": [],
            "source": [
                "uf.save_setlib(ternary_matrix, 'gene', 'down', path, output_name + '_gene_down_set')"
            ]
        },
        {
            "cell_type": "code",
            "execution_count": null,
            "metadata": {},
            "outputs": [],
            "source": [
                "uf.save_setlib(ternary_matrix, 'attribute', 'up', path, \n",
                "                           output_name + '_attribute_up_set')"
            ]
        },
        {
            "cell_type": "code",
            "execution_count": null,
            "metadata": {},
            "outputs": [],
            "source": [
                "uf.save_setlib(ternary_matrix, 'attribute', 'down', path, \n",
                "                             output_name + '_attribute_down_set')"
            ]
        },
        {
            "cell_type": "markdown",
            "metadata": {},
            "source": [
                "## Create Attribute Similarity Matrix"
            ]
        },
        {
            "cell_type": "code",
            "execution_count": null,
            "metadata": {},
            "outputs": [],
            "source": [
                "attribute_similarity_matrix = uf.similarity_matrix(standard_matrix.T, 'cosine')\n",
                "attribute_similarity_matrix.head()"
            ]
        },
        {
            "cell_type": "code",
            "execution_count": null,
            "metadata": {},
            "outputs": [],
            "source": [
                "uf.save_data(attribute_similarity_matrix, path,\n",
                "            output_name + '_attribute_similarity_matrix', \n",
                "            compression='npz', symmetric=True, dtype=np.float32)"
            ]
        },
        {
            "cell_type": "markdown",
            "metadata": {},
            "source": [
                "## Create Gene Similarity Matrix"
            ]
        },
        {
            "cell_type": "code",
            "execution_count": null,
            "metadata": {},
            "outputs": [],
            "source": [
                "gene_similarity_matrix = uf.similarity_matrix(standard_matrix, 'cosine')\n",
                "gene_similarity_matrix.head()"
            ]
        },
        {
            "cell_type": "code",
            "execution_count": null,
            "metadata": {},
            "outputs": [],
            "source": [
                "uf.save_data(gene_similarity_matrix, path, \n",
                "            output_name + '_gene_similarity_matrix',\n",
                "            compression='npz', symmetric=True, dtype=np.float32)"
            ]
        },
        {
            "cell_type": "markdown",
            "metadata": {},
            "source": [
                "## Create Gene-Attribute Edge List"
            ]
        },
        {
            "cell_type": "code",
            "execution_count": null,
            "metadata": {},
            "outputs": [],
            "source": [
                "edge_list = uf.edge_list(standard_matrix)\n",
                "uf.save_data(edge_list, path, output_name + '_edge_list', \n",
                "        ext='tsv', compression='gzip')"
            ]
        },
        {
            "cell_type": "markdown",
            "metadata": {},
            "source": [
                "# Create Downloadable Save File"
            ]
        },
        {
            "cell_type": "code",
            "execution_count": null,
            "metadata": {},
            "outputs": [],
            "source": [
                "uf.archive(path)"
            ]
        },
        {
            "cell_type": "markdown",
            "metadata": {},
            "source": [
                "### Link to download output files: [click here](./output_archive.zip)"
            ]
        }
    ],
    "metadata": {
        "language_info": {
            "codemirror_mode": {
                "name": "ipython",
                "version": 3
            },
            "file_extension": ".py",
            "mimetype": "text/x-python",
            "name": "python",
            "nbconvert_exporter": "python",
            "pygments_lexer": "ipython3",
            "version": 3
        },
        "orig_nbformat": 2,
        "kernelspec": {
            "name": "python_defaultSpec_1594065388858",
            "display_name": "Python 3.8.0 64-bit ('harmonizome': venv)"
        }
    },
    "nbformat": 4,
    "nbformat_minor": 2
}