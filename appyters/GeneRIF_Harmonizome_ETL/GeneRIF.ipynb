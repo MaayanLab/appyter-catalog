{
    "cells": [
        {
            "cell_type": "markdown",
            "metadata": {
                "colab_type": "text",
                "id": "YQLfH2Q4E6gQ"
            },
            "source": [
                "# GeneRIF"
            ]
        },
        {
            "cell_type": "markdown",
            "metadata": {
                "colab_type": "text",
                "id": "iCCNWbDpE6gR"
            },
            "source": [
                "Created by: Charles Dai <br>\n",
                "Credit to: Moshe Silverstein\n",
                "\n",
                "Data Source Home: https://www.ncbi.nlm.nih.gov/gene/about-generif/ <br>\n",
                "Data Source Download: https://ftp.ncbi.nih.gov/gene/GeneRIF/"
            ]
        },
        {
            "cell_type": "code",
            "execution_count": null,
            "metadata": {
                "colab": {},
                "colab_type": "code",
                "executionInfo": {
                    "elapsed": 389162,
                    "status": "ok",
                    "timestamp": 1592797035317,
                    "user": {
                        "displayName": "Charles Dai",
                        "photoUrl": "https://lh3.googleusercontent.com/-oV6qD-pUdfY/AAAAAAAAAAI/AAAAAAAAB88/6T4c3GGp6bA/s64/photo.jpg",
                        "userId": "03185553652583704748"
                    },
                    "user_tz": 240
                },
                "id": "rkFPNaw9E6gS"
            },
            "outputs": [],
            "source": [
                "# appyter init\n",
                "from appyter import magic\n",
                "magic.init(lambda _=globals: _())"
            ]
        },
        {
            "cell_type": "code",
            "execution_count": null,
            "metadata": {
                "colab": {},
                "colab_type": "code",
                "executionInfo": {
                    "elapsed": 390001,
                    "status": "ok",
                    "timestamp": 1592797036158,
                    "user": {
                        "displayName": "Charles Dai",
                        "photoUrl": "https://lh3.googleusercontent.com/-oV6qD-pUdfY/AAAAAAAAAAI/AAAAAAAAB88/6T4c3GGp6bA/s64/photo.jpg",
                        "userId": "03185553652583704748"
                    },
                    "user_tz": 240
                },
                "id": "3gsCY4_qE6gW"
            },
            "outputs": [],
            "source": [
                "import sys\n",
                "import os\n",
                "from datetime import date\n",
                "\n",
                "import numpy as np\n",
                "import pandas as pd\n",
                "import matplotlib.pyplot as plt\n",
                "%matplotlib inline\n",
                "\n",
                "import harmonizome.utility_functions as uf\n",
                "import harmonizome.lookup as lookup"
            ]
        },
        {
            "cell_type": "code",
            "execution_count": null,
            "metadata": {
                "colab": {},
                "colab_type": "code",
                "executionInfo": {
                    "elapsed": 390000,
                    "status": "ok",
                    "timestamp": 1592797036159,
                    "user": {
                        "displayName": "Charles Dai",
                        "photoUrl": "https://lh3.googleusercontent.com/-oV6qD-pUdfY/AAAAAAAAAAI/AAAAAAAAB88/6T4c3GGp6bA/s64/photo.jpg",
                        "userId": "03185553652583704748"
                    },
                    "user_tz": 240
                },
                "id": "feIlj7HkE6gb"
            },
            "outputs": [],
            "source": [
                "# from clustergrammer_widget import *\n",
                "# net = Network(clustergrammer_widget)"
            ]
        },
        {
            "cell_type": "code",
            "execution_count": null,
            "metadata": {
                "colab": {},
                "colab_type": "code",
                "executionInfo": {
                    "elapsed": 389999,
                    "status": "ok",
                    "timestamp": 1592797036160,
                    "user": {
                        "displayName": "Charles Dai",
                        "photoUrl": "https://lh3.googleusercontent.com/-oV6qD-pUdfY/AAAAAAAAAAI/AAAAAAAAB88/6T4c3GGp6bA/s64/photo.jpg",
                        "userId": "03185553652583704748"
                    },
                    "user_tz": 240
                },
                "id": "Bhtb-mq1E6gd"
            },
            "outputs": [],
            "source": [
                "%load_ext autoreload\n",
                "%autoreload 2"
            ]
        },
        {
            "cell_type": "markdown",
            "metadata": {
                "colab_type": "text",
                "id": "9qqQOEDVE6gf"
            },
            "source": [
                "### Notebook Information"
            ]
        },
        {
            "cell_type": "code",
            "execution_count": null,
            "metadata": {
                "colab": {
                    "base_uri": "https://localhost:8080/",
                    "height": 34
                },
                "colab_type": "code",
                "executionInfo": {
                    "elapsed": 389997,
                    "status": "ok",
                    "timestamp": 1592797036160,
                    "user": {
                        "displayName": "Charles Dai",
                        "photoUrl": "https://lh3.googleusercontent.com/-oV6qD-pUdfY/AAAAAAAAAAI/AAAAAAAAB88/6T4c3GGp6bA/s64/photo.jpg",
                        "userId": "03185553652583704748"
                    },
                    "user_tz": 240
                },
                "id": "ryjeRVf7E6gg",
                "outputId": "69dbbedf-cf15-4600-c6e3-75025d5876c7",
                "tags": []
            },
            "outputs": [],
            "source": [
                "print('This notebook was run on:', date.today(), '\\nPython version:', sys.version)"
            ]
        },
        {
            "cell_type": "markdown",
            "metadata": {
                "colab_type": "text",
                "id": "C-YIHX6wE6gi"
            },
            "source": [
                "# Initialization"
            ]
        },
        {
            "cell_type": "markdown",
            "metadata": {
                "colab_type": "text",
                "id": "7ZokdECeE6gk"
            },
            "source": [
                "### Load Mapping Dictionaries"
            ]
        },
        {
            "cell_type": "code",
            "execution_count": null,
            "metadata": {
                "colab": {
                    "base_uri": "https://localhost:8080/",
                    "height": 34
                },
                "colab_type": "code",
                "executionInfo": {
                    "elapsed": 397311,
                    "status": "ok",
                    "timestamp": 1592797043475,
                    "user": {
                        "displayName": "Charles Dai",
                        "photoUrl": "https://lh3.googleusercontent.com/-oV6qD-pUdfY/AAAAAAAAAAI/AAAAAAAAB88/6T4c3GGp6bA/s64/photo.jpg",
                        "userId": "03185553652583704748"
                    },
                    "user_tz": 240
                },
                "id": "ZsPrwkmvE6gk",
                "outputId": "53c4c9ac-f37c-4d8d-94a7-66d5e1f26e9e",
                "tags": []
            },
            "outputs": [],
            "source": [
                "symbol_lookup, geneid_lookup = lookup.get_lookups()"
            ]
        },
        {
            "cell_type": "markdown",
            "metadata": {
                "colab_type": "text",
                "id": "zJTAgVAnE6go"
            },
            "source": [
                "### Output Path"
            ]
        },
        {
            "cell_type": "code",
            "execution_count": null,
            "metadata": {
                "colab": {},
                "colab_type": "code",
                "executionInfo": {
                    "elapsed": 397310,
                    "status": "ok",
                    "timestamp": 1592797043476,
                    "user": {
                        "displayName": "Charles Dai",
                        "photoUrl": "https://lh3.googleusercontent.com/-oV6qD-pUdfY/AAAAAAAAAAI/AAAAAAAAB88/6T4c3GGp6bA/s64/photo.jpg",
                        "userId": "03185553652583704748"
                    },
                    "user_tz": 240
                },
                "id": "e7un6GKJE6gp"
            },
            "outputs": [],
            "source": [
                "output_name = 'generif'\n",
                "\n",
                "path = 'Output/GeneRIF'\n",
                "if not os.path.exists(path):\n",
                "    os.makedirs(path)"
            ]
        },
        {
            "cell_type": "code",
            "execution_count": null,
            "metadata": {
                "colab": {},
                "colab_type": "code",
                "executionInfo": {
                    "elapsed": 397308,
                    "status": "ok",
                    "timestamp": 1592797043476,
                    "user": {
                        "displayName": "Charles Dai",
                        "photoUrl": "https://lh3.googleusercontent.com/-oV6qD-pUdfY/AAAAAAAAAAI/AAAAAAAAB88/6T4c3GGp6bA/s64/photo.jpg",
                        "userId": "03185553652583704748"
                    },
                    "user_tz": 240
                },
                "id": "5sNe6EMFE6gt"
            },
            "outputs": [],
            "source": [
                "%%appyter hide_code\n",
                "{% do SectionField(\n",
                "    name='data',\n",
                "    title='Load Data',\n",
                "    subtitle='Upload Files from the GeneRIF Dataset',\n",
                ") %}"
            ]
        },
        {
            "cell_type": "markdown",
            "metadata": {
                "colab_type": "text",
                "id": "hhj9ogaBE6gw"
            },
            "source": [
                "# Load Data"
            ]
        },
        {
            "cell_type": "code",
            "execution_count": null,
            "metadata": {
                "colab": {
                    "base_uri": "https://localhost:8080/",
                    "height": 51
                },
                "colab_type": "code",
                "executionInfo": {
                    "elapsed": 4166,
                    "status": "ok",
                    "timestamp": 1592798324357,
                    "user": {
                        "displayName": "Charles Dai",
                        "photoUrl": "https://lh3.googleusercontent.com/-oV6qD-pUdfY/AAAAAAAAAAI/AAAAAAAAB88/6T4c3GGp6bA/s64/photo.jpg",
                        "userId": "03185553652583704748"
                    },
                    "user_tz": 240
                },
                "id": "2YJRtiE0E6gx",
                "outputId": "948a1e3f-55e2-4975-afd2-d9751c355e84"
            },
            "outputs": [],
            "source": [
                "%%appyter code_exec\n",
                "\n",
                "df = pd.read_csv({{FileField(\n",
                "    constraint='.*\\.gz$',\n",
                "    name='interactions', \n",
                "    label='Interactions (gz)', \n",
                "    default='Input/GeneRIF/interactions.gz',\n",
                "    section='data')\n",
                "}}, sep='\\t', usecols=['#tax_id', 'gene_id', 'keyphrase', 'name.1'])"
            ]
        },
        {
            "cell_type": "code",
            "execution_count": null,
            "metadata": {
                "colab": {
                    "base_uri": "https://localhost:8080/",
                    "height": 204
                },
                "colab_type": "code",
                "executionInfo": {
                    "elapsed": 3982,
                    "status": "ok",
                    "timestamp": 1592798324358,
                    "user": {
                        "displayName": "Charles Dai",
                        "photoUrl": "https://lh3.googleusercontent.com/-oV6qD-pUdfY/AAAAAAAAAAI/AAAAAAAAB88/6T4c3GGp6bA/s64/photo.jpg",
                        "userId": "03185553652583704748"
                    },
                    "user_tz": 240
                },
                "id": "B_1e0tq7E6gz",
                "outputId": "90bc43d0-4fb5-4a51-856d-ae0af95400e7"
            },
            "outputs": [],
            "source": [
                "df.head()"
            ]
        },
        {
            "cell_type": "code",
            "execution_count": null,
            "metadata": {
                "colab": {
                    "base_uri": "https://localhost:8080/",
                    "height": 34
                },
                "colab_type": "code",
                "executionInfo": {
                    "elapsed": 3836,
                    "status": "ok",
                    "timestamp": 1592798324358,
                    "user": {
                        "displayName": "Charles Dai",
                        "photoUrl": "https://lh3.googleusercontent.com/-oV6qD-pUdfY/AAAAAAAAAAI/AAAAAAAAB88/6T4c3GGp6bA/s64/photo.jpg",
                        "userId": "03185553652583704748"
                    },
                    "user_tz": 240
                },
                "id": "ffrrRQcME6g2",
                "outputId": "a5349f3b-c6df-4283-ae9a-61443f4d1303"
            },
            "outputs": [],
            "source": [
                "df.shape"
            ]
        },
        {
            "cell_type": "markdown",
            "metadata": {
                "colab_type": "text",
                "id": "_uR2bgfGE6g5"
            },
            "source": [
                "# Pre-process Data"
            ]
        },
        {
            "cell_type": "markdown",
            "metadata": {
                "colab_type": "text",
                "id": "2S5EakKaE6g6"
            },
            "source": [
                "## Get Relevant Data"
            ]
        },
        {
            "cell_type": "code",
            "execution_count": null,
            "metadata": {
                "colab": {},
                "colab_type": "code",
                "executionInfo": {
                    "elapsed": 5102,
                    "status": "ok",
                    "timestamp": 1592798326308,
                    "user": {
                        "displayName": "Charles Dai",
                        "photoUrl": "https://lh3.googleusercontent.com/-oV6qD-pUdfY/AAAAAAAAAAI/AAAAAAAAB88/6T4c3GGp6bA/s64/photo.jpg",
                        "userId": "03185553652583704748"
                    },
                    "user_tz": 240
                },
                "id": "YSztpoI5E6g7"
            },
            "outputs": [],
            "source": [
                "# Only relevant species\n",
                "df = df[np.logical_or.reduce([\n",
                "    df['#tax_id'] == 9606, # human\n",
                "    df['#tax_id'] == 10090, # mouse\n",
                "    df['#tax_id'] == 10116 # rat\n",
                "])]\n",
                "# Only entries that have keyphrases\n",
                "df = df[df['keyphrase'] != '-']\n",
                "df.shape"
            ]
        },
        {
            "cell_type": "code",
            "execution_count": null,
            "metadata": {
                "colab": {
                    "base_uri": "https://localhost:8080/",
                    "height": 235
                },
                "colab_type": "code",
                "executionInfo": {
                    "elapsed": 4634,
                    "status": "ok",
                    "timestamp": 1592798326309,
                    "user": {
                        "displayName": "Charles Dai",
                        "photoUrl": "https://lh3.googleusercontent.com/-oV6qD-pUdfY/AAAAAAAAAAI/AAAAAAAAB88/6T4c3GGp6bA/s64/photo.jpg",
                        "userId": "03185553652583704748"
                    },
                    "user_tz": 240
                },
                "id": "GBJ1f8zdE6g_",
                "outputId": "13cece97-4a47-40b6-b2ae-496e95d82801"
            },
            "outputs": [],
            "source": [
                "# Concatenate full attribute\n",
                "df['Effect'] = df['keyphrase'] + ' ' + df['name.1']\n",
                "df = df[['gene_id', 'Effect']].set_index('gene_id')\n",
                "df.head()"
            ]
        },
        {
            "cell_type": "markdown",
            "metadata": {
                "colab_type": "text",
                "id": "kdD7tLa6E6hE"
            },
            "source": [
                "## Map Gene ID to Symbol"
            ]
        },
        {
            "cell_type": "code",
            "execution_count": null,
            "metadata": {
                "colab": {
                    "base_uri": "https://localhost:8080/",
                    "height": 235
                },
                "colab_type": "code",
                "executionInfo": {
                    "elapsed": 653,
                    "status": "ok",
                    "timestamp": 1592798328680,
                    "user": {
                        "displayName": "Charles Dai",
                        "photoUrl": "https://lh3.googleusercontent.com/-oV6qD-pUdfY/AAAAAAAAAAI/AAAAAAAAB88/6T4c3GGp6bA/s64/photo.jpg",
                        "userId": "03185553652583704748"
                    },
                    "user_tz": 240
                },
                "id": "bLImLL_wE6hF",
                "outputId": "c4b6ea7d-17c4-4f5b-b637-313d5e4ab39e"
            },
            "outputs": [],
            "source": [
                "id_to_symbol = {v: k for k, v in geneid_lookup.items()}\n",
                "df.index = df.index.map(id_to_symbol)\n",
                "df.index.name = 'Gene Symbol'\n",
                "df.head()"
            ]
        },
        {
            "cell_type": "markdown",
            "metadata": {
                "colab_type": "text",
                "id": "lWlGGNJ2E6hI"
            },
            "source": [
                "# Filter Data"
            ]
        },
        {
            "cell_type": "markdown",
            "metadata": {
                "colab_type": "text",
                "id": "unrqEYszE6hJ"
            },
            "source": [
                "## Map Gene Symbols to Up-to-date Approved Gene Symbols"
            ]
        },
        {
            "cell_type": "code",
            "execution_count": null,
            "metadata": {
                "colab": {
                    "base_uri": "https://localhost:8080/",
                    "height": 51
                },
                "colab_type": "code",
                "executionInfo": {
                    "elapsed": 365,
                    "status": "ok",
                    "timestamp": 1592798336306,
                    "user": {
                        "displayName": "Charles Dai",
                        "photoUrl": "https://lh3.googleusercontent.com/-oV6qD-pUdfY/AAAAAAAAAAI/AAAAAAAAB88/6T4c3GGp6bA/s64/photo.jpg",
                        "userId": "03185553652583704748"
                    },
                    "user_tz": 240
                },
                "id": "qBbtPyTGE6hK",
                "outputId": "88e064f4-af35-41e1-e722-3aea5fafb207",
                "tags": []
            },
            "outputs": [],
            "source": [
                "df = uf.map_symbols(df, symbol_lookup, remove_duplicates=True)\n",
                "df.shape"
            ]
        },
        {
            "cell_type": "markdown",
            "metadata": {
                "colab_type": "text",
                "id": "2XxM2sOtE6hN"
            },
            "source": [
                "# Analyze Data"
            ]
        },
        {
            "cell_type": "markdown",
            "metadata": {
                "colab_type": "text",
                "id": "QAmNA6JAE6hO"
            },
            "source": [
                "## Create Binary Matrix"
            ]
        },
        {
            "cell_type": "code",
            "execution_count": null,
            "metadata": {
                "colab": {
                    "base_uri": "https://localhost:8080/",
                    "height": 338
                },
                "colab_type": "code",
                "executionInfo": {
                    "elapsed": 1414,
                    "status": "ok",
                    "timestamp": 1592798337361,
                    "user": {
                        "displayName": "Charles Dai",
                        "photoUrl": "https://lh3.googleusercontent.com/-oV6qD-pUdfY/AAAAAAAAAAI/AAAAAAAAB88/6T4c3GGp6bA/s64/photo.jpg",
                        "userId": "03185553652583704748"
                    },
                    "user_tz": 240
                },
                "id": "z85usVnrE6hP",
                "outputId": "5a8c7c80-f096-4913-ba69-89f830bb561d"
            },
            "outputs": [],
            "source": [
                "binary_matrix = uf.binary_matrix(df)\n",
                "binary_matrix.head()"
            ]
        },
        {
            "cell_type": "code",
            "execution_count": null,
            "metadata": {
                "colab": {
                    "base_uri": "https://localhost:8080/",
                    "height": 34
                },
                "colab_type": "code",
                "executionInfo": {
                    "elapsed": 1409,
                    "status": "ok",
                    "timestamp": 1592798337362,
                    "user": {
                        "displayName": "Charles Dai",
                        "photoUrl": "https://lh3.googleusercontent.com/-oV6qD-pUdfY/AAAAAAAAAAI/AAAAAAAAB88/6T4c3GGp6bA/s64/photo.jpg",
                        "userId": "03185553652583704748"
                    },
                    "user_tz": 240
                },
                "id": "Vo64RCeGE6hS",
                "outputId": "42d61de4-879d-44a6-c2f7-79629ea319c4"
            },
            "outputs": [],
            "source": [
                "binary_matrix.shape"
            ]
        },
        {
            "cell_type": "code",
            "execution_count": null,
            "metadata": {
                "colab": {},
                "colab_type": "code",
                "executionInfo": {
                    "elapsed": 1552,
                    "status": "ok",
                    "timestamp": 1592798337513,
                    "user": {
                        "displayName": "Charles Dai",
                        "photoUrl": "https://lh3.googleusercontent.com/-oV6qD-pUdfY/AAAAAAAAAAI/AAAAAAAAB88/6T4c3GGp6bA/s64/photo.jpg",
                        "userId": "03185553652583704748"
                    },
                    "user_tz": 240
                },
                "id": "nRgI5hT0E6hW"
            },
            "outputs": [],
            "source": [
                "uf.save_data(binary_matrix, path, output_name + '_binary_matrix', \n",
                "            compression='npz', dtype=np.uint8)"
            ]
        },
        {
            "cell_type": "markdown",
            "metadata": {
                "colab_type": "text",
                "id": "rcG9ebZeE6ha"
            },
            "source": [
                "## Create Gene List"
            ]
        },
        {
            "cell_type": "code",
            "execution_count": null,
            "metadata": {
                "colab": {
                    "base_uri": "https://localhost:8080/",
                    "height": 221
                },
                "colab_type": "code",
                "executionInfo": {
                    "elapsed": 1749,
                    "status": "ok",
                    "timestamp": 1592798337713,
                    "user": {
                        "displayName": "Charles Dai",
                        "photoUrl": "https://lh3.googleusercontent.com/-oV6qD-pUdfY/AAAAAAAAAAI/AAAAAAAAB88/6T4c3GGp6bA/s64/photo.jpg",
                        "userId": "03185553652583704748"
                    },
                    "user_tz": 240
                },
                "id": "jQoRTbmeE6ha",
                "outputId": "b5e4764f-96c7-4a1e-b499-1c87a5b75d6b"
            },
            "outputs": [],
            "source": [
                "gene_list = uf.gene_list(binary_matrix, geneid_lookup)\n",
                "gene_list.head()"
            ]
        },
        {
            "cell_type": "code",
            "execution_count": null,
            "metadata": {
                "colab": {
                    "base_uri": "https://localhost:8080/",
                    "height": 34
                },
                "colab_type": "code",
                "executionInfo": {
                    "elapsed": 1743,
                    "status": "ok",
                    "timestamp": 1592798337714,
                    "user": {
                        "displayName": "Charles Dai",
                        "photoUrl": "https://lh3.googleusercontent.com/-oV6qD-pUdfY/AAAAAAAAAAI/AAAAAAAAB88/6T4c3GGp6bA/s64/photo.jpg",
                        "userId": "03185553652583704748"
                    },
                    "user_tz": 240
                },
                "id": "4WqNcNxFE6hf",
                "outputId": "64586f8b-af0b-47cc-d175-cce188f2900d"
            },
            "outputs": [],
            "source": [
                "gene_list.shape"
            ]
        },
        {
            "cell_type": "code",
            "execution_count": null,
            "metadata": {
                "colab": {},
                "colab_type": "code",
                "executionInfo": {
                    "elapsed": 1738,
                    "status": "ok",
                    "timestamp": 1592798337715,
                    "user": {
                        "displayName": "Charles Dai",
                        "photoUrl": "https://lh3.googleusercontent.com/-oV6qD-pUdfY/AAAAAAAAAAI/AAAAAAAAB88/6T4c3GGp6bA/s64/photo.jpg",
                        "userId": "03185553652583704748"
                    },
                    "user_tz": 240
                },
                "id": "a7Ksn2jeE6hj"
            },
            "outputs": [],
            "source": [
                "uf.save_data(gene_list, path, output_name + '_gene_list',\n",
                "            ext='tsv', compression='gzip', index=False)"
            ]
        },
        {
            "cell_type": "markdown",
            "metadata": {
                "colab_type": "text",
                "id": "S7p5VOOQE6ho"
            },
            "source": [
                "## Create Attribute List"
            ]
        },
        {
            "cell_type": "code",
            "execution_count": null,
            "metadata": {
                "colab": {
                    "base_uri": "https://localhost:8080/",
                    "height": 218
                },
                "colab_type": "code",
                "executionInfo": {
                    "elapsed": 1733,
                    "status": "ok",
                    "timestamp": 1592798337715,
                    "user": {
                        "displayName": "Charles Dai",
                        "photoUrl": "https://lh3.googleusercontent.com/-oV6qD-pUdfY/AAAAAAAAAAI/AAAAAAAAB88/6T4c3GGp6bA/s64/photo.jpg",
                        "userId": "03185553652583704748"
                    },
                    "user_tz": 240
                },
                "id": "jrRxy4ZJE6ho",
                "outputId": "cdb622fb-7335-4c3c-d83d-fe75102d19a8"
            },
            "outputs": [],
            "source": [
                "attribute_list = uf.attribute_list(binary_matrix)\n",
                "attribute_list.head()"
            ]
        },
        {
            "cell_type": "code",
            "execution_count": null,
            "metadata": {
                "colab": {
                    "base_uri": "https://localhost:8080/",
                    "height": 34
                },
                "colab_type": "code",
                "executionInfo": {
                    "elapsed": 1726,
                    "status": "ok",
                    "timestamp": 1592798337716,
                    "user": {
                        "displayName": "Charles Dai",
                        "photoUrl": "https://lh3.googleusercontent.com/-oV6qD-pUdfY/AAAAAAAAAAI/AAAAAAAAB88/6T4c3GGp6bA/s64/photo.jpg",
                        "userId": "03185553652583704748"
                    },
                    "user_tz": 240
                },
                "id": "z87AiR9CE6hr",
                "outputId": "0ab78479-eaf9-4cb5-ed2b-ec8c89ea5c03"
            },
            "outputs": [],
            "source": [
                "attribute_list.shape"
            ]
        },
        {
            "cell_type": "code",
            "execution_count": null,
            "metadata": {
                "colab": {},
                "colab_type": "code",
                "executionInfo": {
                    "elapsed": 1719,
                    "status": "ok",
                    "timestamp": 1592798337717,
                    "user": {
                        "displayName": "Charles Dai",
                        "photoUrl": "https://lh3.googleusercontent.com/-oV6qD-pUdfY/AAAAAAAAAAI/AAAAAAAAB88/6T4c3GGp6bA/s64/photo.jpg",
                        "userId": "03185553652583704748"
                    },
                    "user_tz": 240
                },
                "id": "m5wnwstSE6hu"
            },
            "outputs": [],
            "source": [
                "uf.save_data(attribute_list, path, output_name + '_attribute_list',\n",
                "            ext='tsv', compression='gzip')"
            ]
        },
        {
            "cell_type": "markdown",
            "metadata": {
                "colab_type": "text",
                "id": "ejZkQxpEE6hw"
            },
            "source": [
                "## Create Gene and Attribute Set Libraries"
            ]
        },
        {
            "cell_type": "code",
            "execution_count": null,
            "metadata": {
                "colab": {
                    "base_uri": "https://localhost:8080/",
                    "height": 34
                },
                "colab_type": "code",
                "executionInfo": {
                    "elapsed": 1923,
                    "status": "ok",
                    "timestamp": 1592798337927,
                    "user": {
                        "displayName": "Charles Dai",
                        "photoUrl": "https://lh3.googleusercontent.com/-oV6qD-pUdfY/AAAAAAAAAAI/AAAAAAAAB88/6T4c3GGp6bA/s64/photo.jpg",
                        "userId": "03185553652583704748"
                    },
                    "user_tz": 240
                },
                "id": "10muLhkJE6hx",
                "outputId": "8d397b23-7ce2-4158-f620-00bcd7cbcd65"
            },
            "outputs": [],
            "source": [
                "uf.save_setlib(binary_matrix, 'gene', 'up', path, output_name + '_gene_up_set')"
            ]
        },
        {
            "cell_type": "code",
            "execution_count": null,
            "metadata": {
                "colab": {
                    "base_uri": "https://localhost:8080/",
                    "height": 34
                },
                "colab_type": "code",
                "executionInfo": {
                    "elapsed": 3468,
                    "status": "ok",
                    "timestamp": 1592798339480,
                    "user": {
                        "displayName": "Charles Dai",
                        "photoUrl": "https://lh3.googleusercontent.com/-oV6qD-pUdfY/AAAAAAAAAAI/AAAAAAAAB88/6T4c3GGp6bA/s64/photo.jpg",
                        "userId": "03185553652583704748"
                    },
                    "user_tz": 240
                },
                "id": "YkPocMA9E6hy",
                "outputId": "820fce05-3f10-4776-86d2-b4afca88a6fa"
            },
            "outputs": [],
            "source": [
                "uf.save_setlib(binary_matrix, 'attribute', 'up', path, \n",
                "                           output_name + '_attribute_up_set')"
            ]
        },
        {
            "cell_type": "markdown",
            "metadata": {
                "colab_type": "text",
                "id": "EzW_fJDVE6h0"
            },
            "source": [
                "## Create Attribute Similarity Matrix"
            ]
        },
        {
            "cell_type": "code",
            "execution_count": null,
            "metadata": {
                "colab": {
                    "base_uri": "https://localhost:8080/",
                    "height": 423
                },
                "colab_type": "code",
                "executionInfo": {
                    "elapsed": 4880,
                    "status": "ok",
                    "timestamp": 1592798340902,
                    "user": {
                        "displayName": "Charles Dai",
                        "photoUrl": "https://lh3.googleusercontent.com/-oV6qD-pUdfY/AAAAAAAAAAI/AAAAAAAAB88/6T4c3GGp6bA/s64/photo.jpg",
                        "userId": "03185553652583704748"
                    },
                    "user_tz": 240
                },
                "id": "rVHrYVJWE6h0",
                "outputId": "5862e8d5-6a41-4fd7-8e91-1d64a0b3295d"
            },
            "outputs": [],
            "source": [
                "attribute_similarity_matrix = uf.similarity_matrix(binary_matrix.T, 'jaccard', sparse=True)\n",
                "attribute_similarity_matrix.head()"
            ]
        },
        {
            "cell_type": "code",
            "execution_count": null,
            "metadata": {
                "colab": {},
                "colab_type": "code",
                "executionInfo": {
                    "elapsed": 4873,
                    "status": "ok",
                    "timestamp": 1592798340902,
                    "user": {
                        "displayName": "Charles Dai",
                        "photoUrl": "https://lh3.googleusercontent.com/-oV6qD-pUdfY/AAAAAAAAAAI/AAAAAAAAB88/6T4c3GGp6bA/s64/photo.jpg",
                        "userId": "03185553652583704748"
                    },
                    "user_tz": 240
                },
                "id": "p0TScW_RE6h2"
            },
            "outputs": [],
            "source": [
                "uf.save_data(attribute_similarity_matrix, path,\n",
                "            output_name + '_attribute_similarity_matrix', \n",
                "            compression='npz', symmetric=True, dtype=np.float32)"
            ]
        },
        {
            "cell_type": "code",
            "execution_count": null,
            "metadata": {
                "colab": {},
                "colab_type": "code",
                "executionInfo": {
                    "elapsed": 4870,
                    "status": "ok",
                    "timestamp": 1592798340903,
                    "user": {
                        "displayName": "Charles Dai",
                        "photoUrl": "https://lh3.googleusercontent.com/-oV6qD-pUdfY/AAAAAAAAAAI/AAAAAAAAB88/6T4c3GGp6bA/s64/photo.jpg",
                        "userId": "03185553652583704748"
                    },
                    "user_tz": 240
                },
                "id": "t-RJoJ22E6h4"
            },
            "outputs": [],
            "source": [
                "# net.load_df(attribute_similarity_matrix.iloc[:,:].copy())\n",
                "# net.filter_N_top('row', rank_type='sum', N_top=300)\n",
                "# net.cluster()\n",
                "# net.widget()"
            ]
        },
        {
            "cell_type": "markdown",
            "metadata": {
                "colab_type": "text",
                "id": "p8gZST_wE6h5"
            },
            "source": [
                "## Create Gene Similarity Matrix"
            ]
        },
        {
            "cell_type": "code",
            "execution_count": null,
            "metadata": {
                "colab": {
                    "base_uri": "https://localhost:8080/",
                    "height": 253
                },
                "colab_type": "code",
                "executionInfo": {
                    "elapsed": 5555,
                    "status": "ok",
                    "timestamp": 1592798341592,
                    "user": {
                        "displayName": "Charles Dai",
                        "photoUrl": "https://lh3.googleusercontent.com/-oV6qD-pUdfY/AAAAAAAAAAI/AAAAAAAAB88/6T4c3GGp6bA/s64/photo.jpg",
                        "userId": "03185553652583704748"
                    },
                    "user_tz": 240
                },
                "id": "VdaaAkrqE6h6",
                "outputId": "136f1259-fd56-4be8-c069-2a7171c79633"
            },
            "outputs": [],
            "source": [
                "gene_similarity_matrix = uf.similarity_matrix(binary_matrix, 'jaccard', sparse=True)\n",
                "gene_similarity_matrix.head()"
            ]
        },
        {
            "cell_type": "code",
            "execution_count": null,
            "metadata": {
                "colab": {},
                "colab_type": "code",
                "executionInfo": {
                    "elapsed": 6687,
                    "status": "ok",
                    "timestamp": 1592798342732,
                    "user": {
                        "displayName": "Charles Dai",
                        "photoUrl": "https://lh3.googleusercontent.com/-oV6qD-pUdfY/AAAAAAAAAAI/AAAAAAAAB88/6T4c3GGp6bA/s64/photo.jpg",
                        "userId": "03185553652583704748"
                    },
                    "user_tz": 240
                },
                "id": "aJ7lHcoHE6h7"
            },
            "outputs": [],
            "source": [
                "uf.save_data(gene_similarity_matrix, path, \n",
                "            output_name + '_gene_similarity_matrix',\n",
                "            compression='npz', symmetric=True, dtype=np.float32)"
            ]
        },
        {
            "cell_type": "markdown",
            "metadata": {
                "colab_type": "text",
                "id": "4liQrOxeE6h9"
            },
            "source": [
                "## Create Gene-Attribute Edge List"
            ]
        },
        {
            "cell_type": "code",
            "execution_count": null,
            "metadata": {
                "colab": {
                    "base_uri": "https://localhost:8080/",
                    "height": 34
                },
                "colab_type": "code",
                "executionInfo": {
                    "elapsed": 7566,
                    "status": "ok",
                    "timestamp": 1592798343617,
                    "user": {
                        "displayName": "Charles Dai",
                        "photoUrl": "https://lh3.googleusercontent.com/-oV6qD-pUdfY/AAAAAAAAAAI/AAAAAAAAB88/6T4c3GGp6bA/s64/photo.jpg",
                        "userId": "03185553652583704748"
                    },
                    "user_tz": 240
                },
                "id": "5ayi1hdcE6h-",
                "outputId": "dd3025d9-56a3-46ac-fb9e-f9c04c340d52"
            },
            "outputs": [],
            "source": [
                "edge_list = uf.edge_list(binary_matrix)\n",
                "uf.save_data(edge_list, path, output_name + '_edge_list', \n",
                "        ext='tsv', compression='gzip')"
            ]
        },
        {
            "cell_type": "markdown",
            "metadata": {
                "colab_type": "text",
                "id": "kPGLMfwkE6h_"
            },
            "source": [
                "# Create Downloadable Save File"
            ]
        },
        {
            "cell_type": "code",
            "execution_count": null,
            "metadata": {
                "colab": {},
                "colab_type": "code",
                "executionInfo": {
                    "elapsed": 7735,
                    "status": "ok",
                    "timestamp": 1592798343793,
                    "user": {
                        "displayName": "Charles Dai",
                        "photoUrl": "https://lh3.googleusercontent.com/-oV6qD-pUdfY/AAAAAAAAAAI/AAAAAAAAB88/6T4c3GGp6bA/s64/photo.jpg",
                        "userId": "03185553652583704748"
                    },
                    "user_tz": 240
                },
                "id": "dtorHv2lE6iA"
            },
            "outputs": [],
            "source": [
                "uf.archive(path)"
            ]
        },
        {
            "cell_type": "markdown",
            "metadata": {
                "colab_type": "text",
                "id": "cW6dGy1fE6iD"
            },
            "source": [
                "### Link to download output files: [click here](./output_archive.zip)"
            ]
        }
    ],
    "metadata": {
        "colab": {
            "collapsed_sections": [
                "cW6dGy1fE6iD"
            ],
            "name": "GeneRIF.ipynb",
            "provenance": []
        },
        "kernelspec": {
            "display_name": "Python 3",
            "name": "python3"
        },
        "orig_nbformat": 2
    },
    "nbformat": 4,
    "nbformat_minor": 0
}