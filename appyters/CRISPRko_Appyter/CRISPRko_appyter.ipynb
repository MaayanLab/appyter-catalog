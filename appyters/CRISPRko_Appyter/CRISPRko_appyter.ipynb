{
 "cells": [
  {
   "cell_type": "code",
   "execution_count": null,
   "metadata": {},
   "outputs": [],
   "source": [
    "#%%appyter init\n",
    "from appyter import magic\n",
    "magic.init(lambda _=globals: _())"
   ]
  },
  {
   "cell_type": "code",
   "execution_count": null,
   "metadata": {},
   "outputs": [],
   "source": [
    "import pandas as pd\n",
    "\n",
    "import subprocess\n",
    "from subprocess import Popen\n",
    "\n",
    "import os\n",
    "\n",
    "# Display\n",
    "import IPython\n",
    "from IPython.display import display, Markdown, HTML\n",
    "\n",
    "# For Enrichr\n",
    "import requests, json\n"
   ]
  },
  {
   "cell_type": "code",
   "execution_count": null,
   "metadata": {},
   "outputs": [],
   "source": [
    "%%appyter hide_code_exec\n",
    "{% do SectionField(\n",
    "    name='Data_Section',\n",
    "    title='Load your Data',\n",
    "    subtitle='Upload data to rank genes'\n",
    "    \n",
    ") %}\n",
    "\n",
    "{% do SectionField(\n",
    "    name='Enrichr_Section',\n",
    "    title='Enrichment Analysis',\n",
    "    subtitle='Submit up and down genes for enrichment analysis using Enrichr'\n",
    "    \n",
    ") %}"
   ]
  },
  {
   "cell_type": "code",
   "execution_count": null,
   "metadata": {},
   "outputs": [],
   "source": [
    "%%appyter code_exec\n",
    "{% set temp_readcounts_filename = FileField(\n",
    "    name='temp_readcounts_filename', \n",
    "    label='Upload read counts', \n",
    "    default='GSE158298_readcounts.txt',\n",
    "\n",
    "    examples={'GSE158298_readcounts.txt': url_for('static', filename = 'GSE158298_readcounts.txt')}, \n",
    "    description='Upload data', \n",
    "    section='Data_Section')\n",
    "\n",
    "%}\n",
    "\n",
    "\n",
    "{% set file_format = ChoiceField(\n",
    "  name='file_format',\n",
    "  label='File Format',\n",
    "  description='Please select your file format',\n",
    "  default='TSV (.tsv / .txt)',\n",
    "  choices={\n",
    "    'TSV (.tsv / .txt)': \"sep='\\\\t',\",\n",
    "    'GZipped TSV (.tsv.gz / .txt.gz)': \"sep='\\\\t', compression='gzip',\",\n",
    "    'CSV (.csv)': \"sep=',',\",\n",
    "    'GZipped CSV (.csv.gz)': \"compression='gzip',\",\n",
    "    'Excel Sheet 1 (.xls, .xlsx, .xlsm, .xlsb, .odf, .ods, .odt)': \"excel\",\n",
    "  },\n",
    "  section='Data_Section',\n",
    ") %}\n",
    "\n",
    "\n",
    "{% set negcontrol_filename = FileField(\n",
    "    name='negcontrol_filename', \n",
    "    label='Upload list of control sgRNAs (one per line)', \n",
    "    default='GSE158298_negativecontrol.txt',\n",
    "\n",
    "    examples={'GSE158298_negativecontrol.txt': url_for('static', filename = 'GSE158298_negativecontrol.txt')}, \n",
    "    description='Upload negative control sgRNAs', \n",
    "    section='Data_Section')\n",
    "\n",
    "%}\n",
    "\n",
    "{% set temp_control_names = StringField(\n",
    "    name='temp_control_names', \n",
    "    label='Column labels for control, separated by commas', \n",
    "    default='PreInfection, PreInfection', \n",
    "    description='class column name of data', \n",
    "    section='Data_Section')\n",
    "%}\n",
    "\n",
    "{% set temp_treatment_names = StringField(\n",
    "    name='temp_treatment_names', \n",
    "    label='Column labels for treatment, separated by commas', \n",
    "    default='SARS2MOI001, SARS2MOI03', \n",
    "    description='Column labels for treatment', \n",
    "    section='Data_Section')\n",
    "%}\n",
    "\n",
    "{% set paired_samples = BoolField(\n",
    "    name='paired_samples', \n",
    "    label='Paired samples? (make sure control and treatment sample indices are aligned)', \n",
    "    default= \"false\",\n",
    "    description='Check if samples are paired', \n",
    "    section='Data_Section',\n",
    ") \n",
    "%}"
   ]
  },
  {
   "cell_type": "code",
   "execution_count": null,
   "metadata": {},
   "outputs": [],
   "source": [
    "%%appyter code_exec\n",
    "\n",
    "\n",
    "{% set topk_percent = IntField(\n",
    "    name='topk_percent', \n",
    "    label='Percentage of top-ranked genes to use for enrichment analysis', \n",
    "    min=1, \n",
    "    max=5, \n",
    "    default=1, \n",
    "    description='Choose the percentage of top-ranked genes to use for enrichment analysis', \n",
    "    section='Enrichr_Section')\n",
    "%}"
   ]
  },
  {
   "cell_type": "code",
   "execution_count": null,
   "metadata": {},
   "outputs": [],
   "source": [
    "%%appyter code_exec\n",
    "\n",
    "temp_readcounts_filename = {{temp_readcounts_filename}}\n",
    "negcontrol_filename = {{negcontrol_filename}}\n",
    "temp_control_names = [name.strip() for name in {{temp_control_names}}.split(\",\")]\n",
    "temp_treatment_names = [name.strip() for name in {{temp_treatment_names}}.split(\",\")]\n",
    "paired_samples = {{paired_samples}}\n",
    "topk_percent = {{topk_percent}}"
   ]
  },
  {
   "cell_type": "markdown",
   "metadata": {},
   "source": [
    "## Reformatting to meet MaGeCK test input file specifications"
   ]
  },
  {
   "cell_type": "markdown",
   "metadata": {},
   "source": [
    "#### Read counts file:\n",
    "\"The read count file should list the names of the sgRNA, the gene it is targeting, followed by the read counts in each sample. Each item should be separated by the tab ('\\t'). A header line is optional.\""
   ]
  },
  {
   "cell_type": "markdown",
   "metadata": {},
   "source": [
    "Convert to tab-separated TXT file"
   ]
  },
  {
   "cell_type": "code",
   "execution_count": null,
   "metadata": {
    "scrolled": true
   },
   "outputs": [],
   "source": [
    "%%appyter code_eval\n",
    "\n",
    "{% if file_format.value == \"excel\" %}\n",
    "data = pd.read_excel(\n",
    "    {{ temp_readcounts_filename }},\n",
    ")\n",
    "{% else %}\n",
    "data = pd.read_csv(\n",
    "    {{ temp_readcounts_filename }},\n",
    "    {# temp_readcounts_filename,#}\n",
    "    {{ file_format }}\n",
    ")\n",
    "{% endif %}\n",
    "data.head()"
   ]
  },
  {
   "cell_type": "code",
   "execution_count": null,
   "metadata": {},
   "outputs": [],
   "source": [
    "readcounts_filename = \"readcounts.txt\"\n",
    "\n",
    "data.to_csv(readcounts_filename, sep = \"\\t\", index = False)"
   ]
  },
  {
   "cell_type": "markdown",
   "metadata": {},
   "source": [
    "#### Treatment and control sample names\n",
    "In the -t/--treatment-id, -c/--control-id parameters, you can use either sample label or sample index to specify samples. If sample label is used, the labels [must] match the sample labels in the first line of the count table. For example, \"HL60.final,KBM7.final\".\n",
    "\n",
    "You can also use sample index to specify samples. The index of the sample is the order it appears in the sgRNA read count file, starting from 0. The index is used in the -t/--treatment-id, -c/--control-id parameters. "
   ]
  },
  {
   "cell_type": "code",
   "execution_count": null,
   "metadata": {},
   "outputs": [],
   "source": [
    "#\",\".join(list(data.columns))\n",
    "col_names = list(data.columns)\n",
    "\n",
    "col_names"
   ]
  },
  {
   "cell_type": "code",
   "execution_count": null,
   "metadata": {},
   "outputs": [],
   "source": [
    "temp_c = []\n",
    "temp_t = []\n",
    "\n",
    "print(temp_control_names, temp_treatment_names)\n",
    "\n",
    "for nm in temp_control_names:\n",
    "    nm = nm.strip()\n",
    "    if nm not in col_names:\n",
    "        # TODO throw error\n",
    "        print(\"Error\")\n",
    "        break\n",
    "    temp_c.append(nm)\n",
    "\n",
    "for nm in temp_treatment_names:\n",
    "    nm = nm.strip()\n",
    "    if nm not in col_names:\n",
    "        print(\"Error\")\n",
    "        break\n",
    "    temp_t.append(nm)\n",
    "    \n",
    "control_names = \",\".join(temp_c)\n",
    "treatment_names = \",\".join(temp_t)\n",
    "\n",
    "control_names, treatment_names"
   ]
  },
  {
   "cell_type": "markdown",
   "metadata": {},
   "source": [
    "#### Isolate control sgRNAs?"
   ]
  },
  {
   "cell_type": "markdown",
   "metadata": {},
   "source": [
    "# Ranking sgRNAs and genes\n",
    "\n",
    "Ranking sgRNAs and genes from read counts using MaGeCK (Li et al. 2014)\n"
   ]
  },
  {
   "cell_type": "code",
   "execution_count": null,
   "metadata": {
    "scrolled": true
   },
   "outputs": [],
   "source": [
    "# Currently assumes len(treatment_names) == len(control_names) (i.e. samples are paired?)\n",
    "\n",
    "if len(negcontrol_filename) == 0:\n",
    "    if paired_samples == True:\n",
    "        for treatment, control in zip(treatment_names.split(\",\"), control_names.split(\",\")):\n",
    "            print(\"Started1: treatment: {0}, control: {1}\".format(treatment, control))\n",
    "            test_proc = Popen(['mageck', 'test', '-k', readcounts_filename, '-t', treatment, '-c', control, '--paired', \n",
    "                               '-n', treatment])\n",
    "            print(test_proc.wait())\n",
    "            print(\"Completed: treatment: {0}, control: {1}\".format(treatment, control))\n",
    "\n",
    "    else:\n",
    "        for treatment, control in zip(treatment_names.split(\",\"), control_names.split(\",\")):\n",
    "            print(\"Started2: treatment: {0}, control: {1}\".format(treatment, control))\n",
    "            test_proc = Popen(['mageck', 'test', '-k', readcounts_filename, '-t', treatment, '-c', control, \n",
    "                               '-n', treatment])\n",
    "            print(test_proc.wait())\n",
    "            print(\"Completed: treatment: {0}, control: {1}\".format(treatment, control))\n",
    "else:\n",
    "    if paired_samples == True:\n",
    "        for treatment, control in zip(treatment_names.split(\",\"), control_names.split(\",\")):\n",
    "            print(\"Started3: treatment: {0}, control: {1}\".format(treatment, control))\n",
    "            test_proc = Popen(['mageck', 'test', '-k', readcounts_filename, '-t', treatment, '-c', control, '--paired',\n",
    "                               '--control-sgrna', negcontrol_filename, '-n', treatment])\n",
    "            print(test_proc.wait())\n",
    "            print(\"Completed: treatment: {0}, control: {1}\".format(treatment, control))\n",
    "\n",
    "    else:\n",
    "        for treatment, control in zip(treatment_names.split(\",\"), control_names.split(\",\")):\n",
    "            print(\"Started4: treatment: {0}, control: {1}\".format(treatment, control))\n",
    "            test_proc = Popen(['mageck', 'test', '-k', readcounts_filename, '-t', treatment, '-c', control, \n",
    "                               '--control-sgrna', negcontrol_filename, '-n', treatment])\n",
    "            print(test_proc.wait())\n",
    "            print(\"Completed: treatment: {0}, control: {1}\".format(treatment, control))"
   ]
  },
  {
   "cell_type": "markdown",
   "metadata": {},
   "source": [
    "# Enrichment Analysis\n",
    "\n",
    "Enrichment analysis using Enrichr (Kuleshov et al. 2016)\n"
   ]
  },
  {
   "cell_type": "code",
   "execution_count": null,
   "metadata": {},
   "outputs": [],
   "source": [
    "def get_enrichr_url(gene_list, description):\n",
    "    ENRICHR_URL = 'http://amp.pharm.mssm.edu/Enrichr/addList' \n",
    "    genes_str = '\\n'.join(gene_list)\n",
    "    payload = {\n",
    "        'list': (None, genes_str),\n",
    "        'description': (None, description)\n",
    "    }\n",
    "\n",
    "    response = requests.post(ENRICHR_URL, files=payload)\n",
    "    if not response.ok:\n",
    "        raise Exception('Error analyzing gene list')\n",
    "\n",
    "    #time.sleep(0.5)\n",
    "\n",
    "    data = json.loads(response.text)\n",
    "\n",
    "    short_id = data['shortId']\n",
    "    url = \"https://amp.pharm.mssm.edu/Enrichr/enrich?dataset={}\".format(short_id)\n",
    "    return (url)"
   ]
  },
  {
   "cell_type": "code",
   "execution_count": null,
   "metadata": {},
   "outputs": [],
   "source": [
    "\n",
    "for treatment in treatment_names.split(\",\"):\n",
    "    gene_fn = \"{0}.gene_summary.txt\".format(treatment)\n",
    "    output_df = pd.read_csv(gene_fn, sep = \"\\t\")\n",
    "    #output_df.head()\n",
    "    \n",
    "    topk_genes = int(topk_percent / 100 * len(output_df))\n",
    "\n",
    "    neg_genes_df = output_df[['id']].head(topk_genes)\n",
    "    #neg_genes_df.head()\n",
    "    \n",
    "    pos_df = output_df.sort_values(by=['pos|rank'])\n",
    "    pos_genes_df = pos_df[['id']].head(topk_genes)\n",
    "\n",
    "    #pos_genes_df.head()\n",
    "\n",
    "    pos_url = get_enrichr_url(pos_genes_df['id'].tolist(), \"Top {0}% up genes for {1}\".format(topk_percent, treatment))\n",
    "    neg_url = get_enrichr_url(neg_genes_df['id'].tolist(), \"Top {0}% down genes for {1}\".format(topk_percent, treatment))\n",
    "    \n",
    "    display(Markdown(\"**Top {0} ({3}%) up genes for {1}**: <{2}>\".format(topk_genes, treatment, pos_url, topk_percent)))\n",
    "    display(Markdown(\"**Top {0} ({3}%) down genes for {1}**: <{2}>\".format(topk_genes, treatment, neg_url, topk_percent)))\n",
    "\n",
    "\n"
   ]
  },
  {
   "cell_type": "code",
   "execution_count": null,
   "metadata": {},
   "outputs": [],
   "source": []
  },
  {
   "cell_type": "code",
   "execution_count": null,
   "metadata": {},
   "outputs": [],
   "source": []
  }
 ],
 "metadata": {
  "kernelspec": {
   "display_name": "crisprko_appyter",
   "language": "python",
   "name": "crisprko_appyter"
  },
  "language_info": {
   "codemirror_mode": {
    "name": "ipython",
    "version": 3
   },
   "file_extension": ".py",
   "mimetype": "text/x-python",
   "name": "python",
   "nbconvert_exporter": "python",
   "pygments_lexer": "ipython3",
   "version": "3.8.3"
  }
 },
 "nbformat": 4,
 "nbformat_minor": 4
}
