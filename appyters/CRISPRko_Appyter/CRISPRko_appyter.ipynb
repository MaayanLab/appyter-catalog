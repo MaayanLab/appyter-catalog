{
 "cells": [
  {
   "cell_type": "code",
   "execution_count": null,
   "metadata": {},
   "outputs": [],
   "source": [
    "#%%appyter init\n",
    "from appyter import magic\n",
    "magic.init(lambda _=globals: _())"
   ]
  },
  {
   "cell_type": "code",
   "execution_count": null,
   "metadata": {},
   "outputs": [],
   "source": [
    "import pandas as pd\n",
    "\n",
    "# Suppress command-line output\n",
    "import contextlib2\n",
    "import io\n",
    "\n",
    "# Display\n",
    "import IPython\n",
    "from IPython.display import display, Markdown, HTML\n",
    "\n",
    "# For Enrichr\n",
    "import requests, json\n"
   ]
  },
  {
   "cell_type": "code",
   "execution_count": null,
   "metadata": {},
   "outputs": [],
   "source": [
    "%%appyter hide_code_exec\n",
    "{% do SectionField(\n",
    "    name='Data_Section',\n",
    "    title='Load your Data',\n",
    "    subtitle='Upload data to rank genes'\n",
    "    \n",
    ") %}\n",
    "\n",
    "{% do SectionField(\n",
    "    name='Enrichr_Section',\n",
    "    title='Enrichment Analysis',\n",
    "    subtitle='Submit up and down genes for enrichment analysis using Enrichr'\n",
    "    \n",
    ") %}"
   ]
  },
  {
   "cell_type": "code",
   "execution_count": null,
   "metadata": {},
   "outputs": [],
   "source": [
    "%%appyter code_exec\n",
    "{% set readcounts_filename = FileField(\n",
    "    name='readcounts_filename', \n",
    "    label='Upload read counts as a .tsv or tab-separated .txt file', \n",
    "    default='GSE158298_readcounts.txt',\n",
    "\n",
    "    examples={'GSE158298_readcounts.txt': url_for('static', filename = 'GSE158298_readcounts.txt')}, \n",
    "    description='Upload data', \n",
    "    section='Data_Section')\n",
    "\n",
    "%}\n",
    "\n",
    "{% set negcontrol_filename = FileField(\n",
    "    name='negcontrol_filename', \n",
    "    label='Upload list of control sgRNAs (one per line)', \n",
    "    default='GSE158298_negativecontrol.txt',\n",
    "\n",
    "    examples={'GSE158298_negativecontrol.txt': url_for('static', filename = 'GSE158298_negativecontrol.txt')}, \n",
    "    description='Upload negative control sgRNAs', \n",
    "    section='Data_Section')\n",
    "\n",
    "%}\n",
    "\n",
    "{% set control_names = StringField(\n",
    "    name='control_names', \n",
    "    label='Column labels for control, separated by commas', \n",
    "    default='PreInfection', \n",
    "    description='class column name of data', \n",
    "    section='Data_Section')\n",
    "%}\n",
    "\n",
    "{% set treatment_names = StringField(\n",
    "    name='treatment_names', \n",
    "    label='Column labels for treatment, separated by commas', \n",
    "    default='SARS2MOI001', \n",
    "    description='Column labels for treatment', \n",
    "    section='Data_Section')\n",
    "%}\n",
    "\n",
    "{% set paired_samples = BoolField(\n",
    "    name='paired_samples', \n",
    "    label='Paired samples? (make sure control and treatment sample indices are aligned)', \n",
    "    default= \"true\",\n",
    "    description='Check if samples are paired', \n",
    "    section='Data_Section',\n",
    ") \n",
    "%}"
   ]
  },
  {
   "cell_type": "code",
   "execution_count": null,
   "metadata": {},
   "outputs": [],
   "source": [
    "%%appyter code_exec\n",
    "\n",
    "\n",
    "{% set topk_percent = IntField(\n",
    "    name='topk_percent', \n",
    "    label='Percentage of top-ranked genes to use for enrichment analysis', \n",
    "    min=1, \n",
    "    max=5, \n",
    "    default=1, \n",
    "    description='Choose the percentage of top-ranked genes to use for enrichment analysis', \n",
    "    section='Enrichr_Section')\n",
    "%}"
   ]
  },
  {
   "cell_type": "code",
   "execution_count": null,
   "metadata": {},
   "outputs": [],
   "source": [
    "%%appyter code_exec\n",
    "\n",
    "readcounts_filename = \"{{readcounts_filename.value}}\"\n",
    "negcontrol_filename = \"{{negcontrol_filename.value}}\"\n",
    "control_names = \"{{control_names.value}}\"\n",
    "treatment_names = \"{{treatment_names.value}}\"\n",
    "paired_samples = {{paired_samples.value}}\n",
    "topk_percent = {{topk_percent.value}}"
   ]
  },
  {
   "cell_type": "markdown",
   "metadata": {},
   "source": [
    "# Ranking sgRNAs and genes\n",
    "\n",
    "Ranking sgRNAs and genes from read counts using MaGeCK (Li et al. 2014)\n"
   ]
  },
  {
   "cell_type": "code",
   "execution_count": null,
   "metadata": {
    "scrolled": true
   },
   "outputs": [],
   "source": [
    "if paired_samples == True:\n",
    "    for treatment, control in zip(treatment_names.split(\",\"), control_names.split(\",\")):\n",
    "        with contextlib2.redirect_stdout(io.StringIO()):\n",
    "            !mageck test -k $readcounts_filename -t $treatment -c $control --paired --control-sgrna $negcontrol_filename -n $treatment\n",
    "else:\n",
    "    for treatment, control in zip(treatment_names.split(\",\"), control_names.split(\",\")):\n",
    "        with contextlib2.redirect_stdout(io.StringIO()):\n",
    "            !mageck test -k $readcounts_filename -t $treatment -c $control --control-sgrna $negcontrol_filename -n $treatment\n"
   ]
  },
  {
   "cell_type": "markdown",
   "metadata": {},
   "source": [
    "# Enrichment Analysis\n",
    "\n",
    "Enrichment analysis using Enrichr (Kuleshov et al. 2016)\n"
   ]
  },
  {
   "cell_type": "code",
   "execution_count": null,
   "metadata": {},
   "outputs": [],
   "source": [
    "def get_enrichr_url(gene_list, description):\n",
    "    ENRICHR_URL = 'http://amp.pharm.mssm.edu/Enrichr/addList' \n",
    "    genes_str = '\\n'.join(gene_list)\n",
    "    payload = {\n",
    "        'list': (None, genes_str),\n",
    "        'description': (None, description)\n",
    "    }\n",
    "\n",
    "    response = requests.post(ENRICHR_URL, files=payload)\n",
    "    if not response.ok:\n",
    "        raise Exception('Error analyzing gene list')\n",
    "\n",
    "    #time.sleep(0.5)\n",
    "\n",
    "    data = json.loads(response.text)\n",
    "\n",
    "    short_id = data['shortId']\n",
    "    url = \"https://amp.pharm.mssm.edu/Enrichr/enrich?dataset={}\".format(short_id)\n",
    "    return (url)"
   ]
  },
  {
   "cell_type": "code",
   "execution_count": null,
   "metadata": {},
   "outputs": [],
   "source": [
    "\n",
    "for treatment in treatment_names.split(\",\"):\n",
    "    gene_fn = \"{0}.gene_summary.txt\".format(treatment)\n",
    "    output_df = pd.read_csv(gene_fn, sep = \"\\t\")\n",
    "    output_df.head()\n",
    "    \n",
    "    topk_genes = int(topk_percent / 100 * len(output_df))\n",
    "\n",
    "    neg_genes_df = output_df[['id']].head(topk_genes)\n",
    "    #neg_genes_df.head()\n",
    "    \n",
    "    pos_df = output_df.sort_values(by=['pos|rank'])\n",
    "    pos_genes_df = pos_df[['id']].head(topk_genes)\n",
    "\n",
    "    #pos_genes_df.head()\n",
    "\n",
    "    pos_url = get_enrichr_url(pos_genes_df['id'].tolist(), \"Top {0}% up genes for {1}\".format(topk_percent, treatment))\n",
    "    neg_url = get_enrichr_url(neg_genes_df['id'].tolist(), \"Top {0}% down genes for {1}\".format(topk_percent, treatment))\n",
    "    \n",
    "    display(Markdown(\"**Top {0} ({3}%) up genes for {1}**: <{2}>\".format(topk_genes, treatment, pos_url, topk_percent)))\n",
    "    display(Markdown(\"**Top {0} ({3}%) down genes for {1}**: <{2}>\".format(topk_genes, treatment, neg_url, topk_percent)))\n",
    "\n",
    "\n"
   ]
  },
  {
   "cell_type": "code",
   "execution_count": null,
   "metadata": {},
   "outputs": [],
   "source": []
  }
 ],
 "metadata": {
  "kernelspec": {
   "display_name": "crisprko_appyter",
   "language": "python",
   "name": "crisprko_appyter"
  },
  "language_info": {
   "codemirror_mode": {
    "name": "ipython",
    "version": 3
   },
   "file_extension": ".py",
   "mimetype": "text/x-python",
   "name": "python",
   "nbconvert_exporter": "python",
   "pygments_lexer": "ipython3",
   "version": "3.8.3"
  }
 },
 "nbformat": 4,
 "nbformat_minor": 4
}
