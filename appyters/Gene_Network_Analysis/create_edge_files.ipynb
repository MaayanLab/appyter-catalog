{
 "cells": [
  {
   "cell_type": "code",
   "execution_count": null,
   "metadata": {},
   "outputs": [],
   "source": [
    "import csv\n",
    "import plotly.offline as py\n",
    "import plotly.graph_objects as go\n",
    "import networkx as nx\n",
    "import matplotlib.pyplot as plt\n",
    "import pandas as pd\n",
    "from networkx.algorithms.community import k_clique_communities\n",
    "from networkx.algorithms import community"
   ]
  },
  {
   "cell_type": "markdown",
   "metadata": {},
   "source": [
    "## Load PPI edges"
   ]
  },
  {
   "cell_type": "code",
   "execution_count": null,
   "metadata": {},
   "outputs": [],
   "source": [
    "ppi_folder = \"PPI_databases/\""
   ]
  },
  {
   "cell_type": "code",
   "execution_count": null,
   "metadata": {},
   "outputs": [],
   "source": [
    "ppi_edges_dict = {}"
   ]
  },
  {
   "cell_type": "code",
   "execution_count": null,
   "metadata": {},
   "outputs": [],
   "source": [
    "# Append iREF data to edge dict\n",
    "import os\n",
    "\n",
    "for file_name in os.listdir(ppi_folder):\n",
    "    with open(ppi_folder + file_name,\"r\") as file:\n",
    "        print(file_name)\n",
    "        print(len(ppi_edges_dict))\n",
    "        if not file_name.endswith(\".sig\"):\n",
    "            continue\n",
    "        for line in file.read().split(\"\\n\"):\n",
    "            data = line.split()\n",
    "            if len(data) != 13:\n",
    "                continue\n",
    "            if data[0] in ppi_edges_dict:\n",
    "                ppi_edges_dict[data[0]].add(data[5])\n",
    "            else:\n",
    "                ppi_edges_dict[data[0]] = set([data[5]])"
   ]
  },
  {
   "cell_type": "code",
   "execution_count": null,
   "metadata": {},
   "outputs": [],
   "source": [
    "# compile a list of all the edges as tuples\n",
    "ppi_edges_list = []\n",
    "for gene_a,val in ppi_edges_dict.items():\n",
    "    for gene_b in val:\n",
    "        ppi_edges_list.append((gene_a,gene_b))\n",
    "    \n",
    "print(len(ppi_edges_list))"
   ]
  },
  {
   "cell_type": "code",
   "execution_count": null,
   "metadata": {},
   "outputs": [],
   "source": []
  },
  {
   "cell_type": "code",
   "execution_count": null,
   "metadata": {},
   "outputs": [],
   "source": [
    "# write the resulting list to a file\n",
    "with open(\"ppi_edges_list.csv\",\"w\") as f_out:\n",
    "    writer = csv.writer(f_out, delimiter=',', lineterminator='\\n')\n",
    "    writer.writerows(ppi_edges_list)\n",
    "\n"
   ]
  },
  {
   "cell_type": "code",
   "execution_count": null,
   "metadata": {},
   "outputs": [],
   "source": [
    "df = pd.read_csv(\"ppi_edges_list.csv\", header=None)\n",
    "df.head()"
   ]
  },
  {
   "cell_type": "markdown",
   "metadata": {},
   "source": [
    "## Load gene-gene coexpression edges"
   ]
  },
  {
   "cell_type": "code",
   "execution_count": null,
   "metadata": {},
   "outputs": [],
   "source": [
    "df = pd.read_feather(\"human_correlation_archs4.f\")\n",
    "print(df.shape)\n",
    "df.head()"
   ]
  },
  {
   "cell_type": "code",
   "execution_count": null,
   "metadata": {},
   "outputs": [],
   "source": [
    "# create array of gene names\n",
    "names = df.columns.tolist()\n",
    "\n",
    "# initialize dict\n",
    "top_corr = {}\n",
    "\n",
    "top_n = 5\n",
    "\n",
    "for i in range(len(names)):\n",
    "    col = df[names[i]]\n",
    "    col.index = names\n",
    "    col = col.sort_values(ascending=False)\n",
    "    top = [ x for x in col.index.values[0:top_n + 1] if x != names[i] ]\n",
    "    top_corr[names[i]] = top"
   ]
  },
  {
   "cell_type": "code",
   "execution_count": null,
   "metadata": {},
   "outputs": [],
   "source": [
    "df_top = pd.DataFrame(top_corr)\n",
    "df_top.to_csv(f\"top_{top_n}_correlation.csv\", encoding='utf-8', index=False)\n",
    "df_top.head()"
   ]
  },
  {
   "cell_type": "code",
   "execution_count": null,
   "metadata": {},
   "outputs": [],
   "source": [
    "gene_edges_dict = df_top.to_dict('list')"
   ]
  },
  {
   "cell_type": "code",
   "execution_count": null,
   "metadata": {},
   "outputs": [],
   "source": []
  }
 ],
 "metadata": {
  "kernelspec": {
   "display_name": "TCGA",
   "language": "python",
   "name": "tcga"
  },
  "language_info": {
   "codemirror_mode": {
    "name": "ipython",
    "version": 3
   },
   "file_extension": ".py",
   "mimetype": "text/x-python",
   "name": "python",
   "nbconvert_exporter": "python",
   "pygments_lexer": "ipython3",
   "version": "3.8.1"
  }
 },
 "nbformat": 4,
 "nbformat_minor": 4
}
