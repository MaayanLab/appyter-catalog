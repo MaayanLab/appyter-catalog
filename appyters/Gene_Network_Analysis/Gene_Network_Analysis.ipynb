{
 "cells": [
  {
   "cell_type": "code",
   "execution_count": 293,
   "metadata": {},
   "outputs": [],
   "source": [
    "#%%appyter init\n",
    "from appyter import magic\n",
    "magic.init(lambda _=globals: _())"
   ]
  },
  {
   "cell_type": "code",
   "execution_count": 294,
   "metadata": {},
   "outputs": [],
   "source": [
    "import csv\n",
    "import plotly.offline as py\n",
    "import plotly.graph_objects as go\n",
    "import networkx as nx\n",
    "import matplotlib.pyplot as plt\n",
    "import pandas as pd\n",
    "from networkx.algorithms import community\n",
    "from collections import OrderedDict\n",
    "import time\n",
    "import requests\n",
    "import seaborn as sns\n",
    "import math\n",
    "import numpy as np"
   ]
  },
  {
   "cell_type": "code",
   "execution_count": null,
   "metadata": {},
   "outputs": [],
   "source": []
  },
  {
   "cell_type": "code",
   "execution_count": 337,
   "metadata": {},
   "outputs": [
    {
     "data": {
      "text/markdown": [
       "```python\n",
       "'''\n",
       "gene_list = ''''''\n",
       "'''\n",
       "n_genes = 20\n",
       "gene_list_selection = '''SARS-CoV-2_down'''\n",
       "sars_list = 5\n",
       "```"
      ],
      "text/plain": [
       "<IPython.core.display.Markdown object>"
      ]
     },
     "metadata": {},
     "output_type": "display_data"
    }
   ],
   "source": [
    "%%appyter code_exec\n",
    "\n",
    "{% do SectionField(\n",
    "    name=\"GENES\",\n",
    "    title=\"Submit a gene list\",\n",
    ") %}\n",
    "\n",
    "\n",
    "'''\n",
    "gene_list = {{ TextField(\n",
    "    name=\"gene_list\",\n",
    "    label=\"Gene list\",\n",
    "    description=\"Paste with a single gene on each line.\",\n",
    "    section=\"GENES\",\n",
    "    default=\"\",\n",
    ")}}\n",
    "'''\n",
    "\n",
    "n_genes = {{ IntField(\n",
    "    name=\"n_genes\",\n",
    "    label=\"Minimum number of genes per cluster\",\n",
    "    section=\"GENES\",\n",
    "    default=20,\n",
    "    minimum=2,\n",
    "    maximum=1000000\n",
    ")}}\n",
    "\n",
    "gene_list_selection = '''{{ ChoiceField(\n",
    "    name = \"gene_list_selection\",\n",
    "    label=\"Sample gene list to load\",\n",
    "    section=\"GENES\",\n",
    "    default=\"SARS-CoV-2_down\",\n",
    "    choices=[\"SARS-CoV-2_down\",\"ULK4_293_coIP_hits\"]\n",
    ")}}'''\n",
    "\n",
    "sars_list = 5"
   ]
  },
  {
   "cell_type": "code",
   "execution_count": 336,
   "metadata": {},
   "outputs": [
    {
     "name": "stdout",
     "output_type": "stream",
     "text": [
      "17\n"
     ]
    }
   ],
   "source": [
    "with open(\"SARS-CoV-2_down.gmt.txt\",\"r\") as f_in:\n",
    "    writer = csv.reader(f_in, lineterminator='\\n',delimiter=\"\\t\")\n",
    "    sample_genes = [sublist for sublist in writer ]\n",
    "    #gene_list = [ x.upper() for x in sample_genes ]\n",
    "    gene_list = [ [ y for y in x[2:] if y != \"\" ] for x in sample_genes ] \n",
    "    print(len(gene_list))\n",
    "    \n"
   ]
  },
  {
   "cell_type": "code",
   "execution_count": 340,
   "metadata": {},
   "outputs": [
    {
     "name": "stdout",
     "output_type": "stream",
     "text": [
      "['C1QL1', 'SNTB1', 'FAM3B', 'ALDH18A1', 'GRB7', 'ARHGEF2', 'PWWP2A', 'TINAGL1', 'TCTN3', 'BTG1', 'ACSS2', 'DOCK6', 'PAQR5', 'C1ORF115', 'DGAT2', 'VEGFA', 'PFKP', 'HPCAL1', 'LOC105375166', 'SBNO1', 'LDHA', 'TMEM176B', 'ZKSCAN1', 'CXXC5', 'WASF2', 'DSG2', 'SENP7', 'VLDLR', 'HOXA5', 'PTPN22', 'PIAS1', 'TFF2', 'EIF4A2', 'PFKFB4', 'DNM2', 'KLF11', 'TPI1', 'MLXIPL', 'GUCD1', 'WDR48', 'TOB1', 'MT-TV', 'PDK1', 'FXYD3', 'PALM3', 'DBN1', 'CA9', 'INSIG1', 'ALDOA', 'MPZL3', 'PRKAB2', 'TAOK3', 'TCN2', 'IGBP1', 'CCNG2', 'SERINC2', 'SYNPR', 'BMP2', 'ADRBK2', 'BAZ2A', 'PIM1', 'GOLGA4', 'RBPJ', 'ENO2', 'ZNF608', 'CEACAM7', 'EDN2', 'C14ORF93', 'SMPDL3A', 'ERICH2', 'APOBEC1', 'ZHX1', 'CLMN', 'FNBP1', 'ASAP1', 'RYBP', 'PPP1R3B', 'ARID4A', 'SEMA4B', 'ITPKB', 'KDM7A', 'LCN2', 'FRY', 'PLOD2', 'AQP1', 'RAB40C', 'CHD2', 'KANSL1', 'ELL2', 'AATK', 'SLC16A3', 'GNA13', 'PELI2', 'DGKA', 'USP53', 'TGOLN2', 'HERC3', 'HSPB1', 'CEP72', 'SLC11A2', 'PAG1', 'PTPRR', 'SAT1', 'PCED1B', 'SH3BP2', 'NEAT1', 'ELF3', 'CYP3A5', 'TRAPPC6A', 'UCA1', 'PSCA', 'CLDN15', 'CAST', 'SLC40A1', 'ZBTB7B', 'FAIM2', 'C15ORF48', 'DEDD2', 'KDM4B', 'SUCLG2', 'ARRDC3', 'WDR45B', 'TP53INP2', 'MYZAP', 'PLXNA3', 'ZNF217', 'QSOX1', 'FAM114A1', 'CLIC3', 'C17ORF78', 'P2RX4', 'CLSTN1', 'ZFHX2', 'TMEM141', 'MUC1', 'CRAT', 'DBP', 'CD68', 'ADIPOR2', 'ESRG', 'TMEM92', 'GDI1', 'GSAP', 'CXCR4', 'BNIP3L', 'ADM', 'SOX4', 'TAPBP', 'MEX3A', 'SH3PXD2A', 'STC2', 'MAPK3', 'PPP2R2A', 'RSBN1', 'NDNF', 'SLC27A1', 'ATP9A', 'HSPA1L', 'LOC101927009', 'MID2', 'MPZL2', 'KLHL24', 'PHF3', 'SBF2', 'ERBB3', 'TMEM171', 'P2RY2', 'SSFA2', 'MALAT1', 'KLK1', 'PRSS8', 'P4HA2', 'SMIM24', 'CD164', 'PDK2', 'C4ORF3', 'PGK1', 'PRAP1', 'HILPDA', 'SLC39A4', 'ZNF395', 'ABCA2', 'ANKRD9', 'UCP2', 'LCOR', 'MAPK8IP3', 'SPIN4', 'PNCK', 'ZMYM2', 'CDKN1C', 'MKRN1', 'NBR1', 'ANKRD12', 'IFITM10', 'RNF128', 'PDZK1IP1', 'LPP', 'GCC2', 'QPRT', 'SLC5A3', 'GPX4', 'YPEL3', 'FCGBP', 'ECM1', 'TMEM176A', 'IFNGR2', 'ITGB4', 'SPAG4', 'MUC17', 'EEF2', 'KDM3A', 'NYNRIN', 'ETS2', 'KRT12', 'AK4', 'CAMTA2', 'AHNAK', 'LRP1', 'RNF186', 'IL10RB', 'MSL1', 'OLMALINC', 'ZNF292', 'PRR36', 'KIAA1191', 'HIVEP3', 'IGFBP4', 'ANGPTL4', 'DSP', 'PPARD', 'ATRX', 'ADAM8', 'CCDC186', 'TFF1', 'SCNN1A', 'ACSL5', 'PPARG', 'PIGR', 'BCL6', 'SHANK2', 'GRN', 'GSDMA', 'HSPA12A', 'DUOX2', 'SCD', 'FAM213A', 'CCDC18-AS1', 'PDE4C', 'MIR210HG', 'CNNM2', 'UGCG', 'FXYD5', 'SREBF2', 'SMURF1', 'CCDC146', 'NDRG1', 'ALDOC', 'UBXN6', 'UBE2R2', 'WDR60', 'CLK3', 'MTMR11', 'COL6A1', 'RERE', 'XPNPEP2', 'RAP1GAP2', 'COL5A3', 'PAXIP1-AS1', 'RETNLB', 'DIRAS2', 'HHLA2', 'TMEM91', 'MOGAT2', 'EPCAM', 'KHNYN', 'STK38', 'PNRC1', 'SLC25A36', 'TNFSF9', 'LINC01559', 'TRIB3', 'HLA-F-AS1', 'FMO5', 'FAM63B', 'ACTN1', 'IGF2BP2', 'TOX3', 'FAM13A', 'MUC20', 'SLC25A23', 'GSN', 'TMEM120A', 'DNAH1', 'PTPRF', 'WBP2', 'REN', 'COL17A1', 'ARHGAP5', 'DDIT3', 'DNHD1', 'SNHG7', 'TET2', 'P4HA1', 'NPSR1-AS1', 'SMPD3', 'TCF7L2', 'TMEM123', 'CDKN1A', 'SLC6A6', 'CALCOCO1', 'GAA', 'GPRC5C', 'EFNA1', 'MXD1', 'ITGA6', 'FHL2', 'AK3', 'AOAH', 'LEMD1', 'MACROD1', 'ANKZF1', 'GFPT1', 'AOC1', 'BNIP3', 'C16ORF58', 'RRAS', 'PAM', 'SLC6A8', 'SERTAD2', 'PPARA', 'S100A4', 'CD46', 'MRPS6', 'YPEL2', 'ARRDC4', 'LOC554223', 'RASSF7', 'CEACAM1', 'ESPN', 'TMEM256', 'DENND4C', 'SYT7', 'ZNF609', 'LAMB3', 'KIAA1109', 'PTPRE', 'FCGRT', 'HIST1H2BD', 'TXNIP', 'HLA-A', 'MAP3K2', 'NAV1', 'RSF1', 'S100A14', 'TPPP3', 'SLC22A18', 'ITM2C', 'PFKFB3', 'AP3S1', 'SERPINA1', 'MSMO1', 'PDGFB', 'DNAL1', 'PTK6', 'FOXN3', 'PLEKHA1', 'CHMP4B', 'PBXIP1', 'CDA', 'LOC100131257', 'GPA33', 'ARHGAP32', 'GSTM3', 'SPINT2', 'BAZ2B', 'AMN', 'EPB41L4A-AS1', 'GATA6-AS1', 'EIF4B', 'UNC93A', 'ANO9', 'PCK1', 'TMEM59', 'PHLDA1', 'SST', 'COLCA2', 'SMARCA1', 'VAT1', 'ERO1A', 'BBX', 'IMPAD1', 'RNASE4', 'TMEM255B', 'LGALS1', 'YPEL5', 'OLFM2', 'TRAF6', 'BHLHE40', 'CSRNP2', 'KCNN4', 'MKNK2', 'PLIN1', 'GPR146', 'SPINT1', 'SMOC2', 'IL17RE', 'TSC22D3', 'HK2', 'SLC16A4', 'ZC3H6', 'BRWD3', 'CDK19', 'LOC100506548', 'KCMF1', 'PGPEP1', 'AHDC1', 'HIST1H1C', 'TSC22D1', 'HLA-G', 'ADRBK1', 'CYP2S1', 'TFF3', 'MXI1', 'RAB3B', 'RASA4', 'ZMYND8', 'ADD3', 'SAV1', 'LRP4', 'FLNB', 'FURIN', 'APP', 'PLIN2', 'SLC2A1', 'MT-RNR2', 'FER1L4', 'ASCL2', 'NFIL3', 'DHRS3', 'SC5D', 'CLK1', 'TMCC1', 'AXL', 'CREBRF', 'TFRC', 'INSIG2', 'CEACAM5', 'LIFR', 'SORL1', 'RBCK1', 'GAL3ST1', 'FAM174A', 'GBE1', 'PIM3', 'GAS2L3', 'NARF', 'MYH9', 'PSAP', 'LETMD1', 'SFRP5', 'SLC35A3', 'GABARAP', 'TMEM38A', 'CAPN12', 'G0S2', 'CSDE1', 'SMIM3', 'CCNY', 'INSR', 'GPX3', 'KDM5C', 'FAM83A', 'IRF2', 'IGFBP3', 'PHKA2', 'NPEPPS', 'SLC38A2', 'PDK3', 'KDM5B', 'TMC4', 'CDHR5', 'EFNA2', 'DDIT4', 'POLH', 'PNISR', 'LTBP4', 'ALOX15B', 'ANKIB1', 'CA11', 'KCNQ1OT1', 'SLCO4A1', 'MSLN', 'GTPBP1', 'EGLN3', 'DDR1', 'TMEM94', 'PMM1', 'ANKRD37', 'GLCE', 'CCNI']\n"
     ]
    }
   ],
   "source": [
    "# Load a sample gene list\n",
    "sample_genes = []\n",
    "\n",
    "if gene_list_selection == \"ULK4_293_coIP_hits\":\n",
    "    with open(\"ULK4_293_coIP_hits.txt\",\"r\") as f_in:\n",
    "        writer = csv.reader(f_in, lineterminator='\\n')\n",
    "        sample_genes = [item for sublist in writer for item in sublist if len(sublist) > 0]\n",
    "        gene_list = [ x.upper() for x in sample_genes ]\n",
    "elif gene_list_selection == \"SARS-CoV-2_down\":\n",
    "    with open(\"SARS-CoV-2_down.gmt.txt\",\"r\") as f_in:\n",
    "        writer = csv.reader(f_in, lineterminator='\\n',delimiter=\"\\t\")\n",
    "        sample_gene_lists = [sublist for sublist in writer ]\n",
    "        #gene_list = [ x.upper() for x in sample_genes ]\n",
    "        sample_gene_lists = [ [ y for y in x[2:] if y != \"\" ] for x in sample_gene_lists ] \n",
    "        gene_list = sample_gene_lists[sars_list]\n",
    "        \n",
    "    \n",
    "        print(gene_list)       "
   ]
  },
  {
   "cell_type": "code",
   "execution_count": 319,
   "metadata": {},
   "outputs": [
    {
     "data": {
      "text/html": [
       "<div>\n",
       "<style scoped>\n",
       "    .dataframe tbody tr th:only-of-type {\n",
       "        vertical-align: middle;\n",
       "    }\n",
       "\n",
       "    .dataframe tbody tr th {\n",
       "        vertical-align: top;\n",
       "    }\n",
       "\n",
       "    .dataframe thead th {\n",
       "        text-align: right;\n",
       "    }\n",
       "</style>\n",
       "<table border=\"1\" class=\"dataframe\">\n",
       "  <thead>\n",
       "    <tr style=\"text-align: right;\">\n",
       "      <th></th>\n",
       "      <th>0</th>\n",
       "      <th>1</th>\n",
       "    </tr>\n",
       "  </thead>\n",
       "  <tbody>\n",
       "    <tr>\n",
       "      <th>0</th>\n",
       "      <td>S100A8</td>\n",
       "      <td>LGALS7B</td>\n",
       "    </tr>\n",
       "    <tr>\n",
       "      <th>1</th>\n",
       "      <td>S100A8</td>\n",
       "      <td>IGSF21</td>\n",
       "    </tr>\n",
       "    <tr>\n",
       "      <th>2</th>\n",
       "      <td>S100A8</td>\n",
       "      <td>IVL</td>\n",
       "    </tr>\n",
       "    <tr>\n",
       "      <th>3</th>\n",
       "      <td>S100A8</td>\n",
       "      <td>SERPINB3</td>\n",
       "    </tr>\n",
       "    <tr>\n",
       "      <th>4</th>\n",
       "      <td>S100A8</td>\n",
       "      <td>NCF2</td>\n",
       "    </tr>\n",
       "  </tbody>\n",
       "</table>\n",
       "</div>"
      ],
      "text/plain": [
       "        0         1\n",
       "0  S100A8   LGALS7B\n",
       "1  S100A8    IGSF21\n",
       "2  S100A8       IVL\n",
       "3  S100A8  SERPINB3\n",
       "4  S100A8      NCF2"
      ]
     },
     "metadata": {},
     "output_type": "display_data"
    },
    {
     "name": "stdout",
     "output_type": "stream",
     "text": [
      "(282532, 2)\n"
     ]
    },
    {
     "data": {
      "text/html": [
       "<div>\n",
       "<style scoped>\n",
       "    .dataframe tbody tr th:only-of-type {\n",
       "        vertical-align: middle;\n",
       "    }\n",
       "\n",
       "    .dataframe tbody tr th {\n",
       "        vertical-align: top;\n",
       "    }\n",
       "\n",
       "    .dataframe thead th {\n",
       "        text-align: right;\n",
       "    }\n",
       "</style>\n",
       "<table border=\"1\" class=\"dataframe\">\n",
       "  <thead>\n",
       "    <tr style=\"text-align: right;\">\n",
       "      <th></th>\n",
       "      <th>A1BG</th>\n",
       "      <th>A1CF</th>\n",
       "      <th>A2M</th>\n",
       "      <th>A2ML1</th>\n",
       "      <th>A2MP1</th>\n",
       "      <th>A4GALT</th>\n",
       "      <th>A4GNT</th>\n",
       "      <th>AAAS</th>\n",
       "      <th>AACS</th>\n",
       "      <th>AACSP1</th>\n",
       "      <th>...</th>\n",
       "      <th>ZWILCH</th>\n",
       "      <th>ZWINT</th>\n",
       "      <th>ZXDA</th>\n",
       "      <th>ZXDB</th>\n",
       "      <th>ZXDC</th>\n",
       "      <th>ZYG11A</th>\n",
       "      <th>ZYG11B</th>\n",
       "      <th>ZYX</th>\n",
       "      <th>ZZEF1</th>\n",
       "      <th>ZZZ3</th>\n",
       "    </tr>\n",
       "  </thead>\n",
       "  <tbody>\n",
       "    <tr>\n",
       "      <th>0</th>\n",
       "      <td>ITIH1</td>\n",
       "      <td>PAH</td>\n",
       "      <td>ITIH2</td>\n",
       "      <td>PPL</td>\n",
       "      <td>ARRDC5</td>\n",
       "      <td>ALPPL2</td>\n",
       "      <td>METTL7B</td>\n",
       "      <td>SNRPA</td>\n",
       "      <td>SLC35E3</td>\n",
       "      <td>TP53I13</td>\n",
       "      <td>...</td>\n",
       "      <td>CSE1L</td>\n",
       "      <td>MCM6</td>\n",
       "      <td>YBX1P4</td>\n",
       "      <td>CPS1</td>\n",
       "      <td>NSA2</td>\n",
       "      <td>CA5A</td>\n",
       "      <td>PPP1R3A</td>\n",
       "      <td>GNAI2</td>\n",
       "      <td>GAREM1</td>\n",
       "      <td>MAP2K6</td>\n",
       "    </tr>\n",
       "    <tr>\n",
       "      <th>1</th>\n",
       "      <td>AGXT</td>\n",
       "      <td>SLC2A2</td>\n",
       "      <td>AHSG</td>\n",
       "      <td>TGM1</td>\n",
       "      <td>RP11.927P21.9</td>\n",
       "      <td>KLRG2</td>\n",
       "      <td>SSTR5</td>\n",
       "      <td>RUVBL2</td>\n",
       "      <td>PEX26</td>\n",
       "      <td>RENBP</td>\n",
       "      <td>...</td>\n",
       "      <td>NPM1</td>\n",
       "      <td>TIMELESS</td>\n",
       "      <td>RP11.475I24.1</td>\n",
       "      <td>CKAP2P1</td>\n",
       "      <td>CICP27</td>\n",
       "      <td>FAM98C</td>\n",
       "      <td>TXLNB</td>\n",
       "      <td>TGFB1</td>\n",
       "      <td>DHRS12</td>\n",
       "      <td>HSBP1</td>\n",
       "    </tr>\n",
       "    <tr>\n",
       "      <th>2</th>\n",
       "      <td>CYP4A11</td>\n",
       "      <td>CPB2</td>\n",
       "      <td>IGFBP1</td>\n",
       "      <td>KLK13</td>\n",
       "      <td>CSPG4P11</td>\n",
       "      <td>FGF4</td>\n",
       "      <td>C2ORF82</td>\n",
       "      <td>PLK1</td>\n",
       "      <td>ZNF793</td>\n",
       "      <td>PRRT4</td>\n",
       "      <td>...</td>\n",
       "      <td>RAN</td>\n",
       "      <td>SAA3P</td>\n",
       "      <td>REM2</td>\n",
       "      <td>GLP2R</td>\n",
       "      <td>RPL10AP5</td>\n",
       "      <td>PCDHB1</td>\n",
       "      <td>TRDN</td>\n",
       "      <td>PXN</td>\n",
       "      <td>ATP5LP3</td>\n",
       "      <td>POT1</td>\n",
       "    </tr>\n",
       "    <tr>\n",
       "      <th>3</th>\n",
       "      <td>C8B</td>\n",
       "      <td>APOH</td>\n",
       "      <td>ITIH3</td>\n",
       "      <td>SCEL</td>\n",
       "      <td>SMIM2</td>\n",
       "      <td>NLRP7</td>\n",
       "      <td>KLHL4</td>\n",
       "      <td>CDC20</td>\n",
       "      <td>RPS6KA5</td>\n",
       "      <td>PPOX</td>\n",
       "      <td>...</td>\n",
       "      <td>LDHB</td>\n",
       "      <td>PSMC5</td>\n",
       "      <td>RP5.1147A1.1</td>\n",
       "      <td>RP11.91J3.1</td>\n",
       "      <td>RPL21P3</td>\n",
       "      <td>USHBP1</td>\n",
       "      <td>XIRP2</td>\n",
       "      <td>VASP</td>\n",
       "      <td>GPR162</td>\n",
       "      <td>SNRPGP14</td>\n",
       "    </tr>\n",
       "    <tr>\n",
       "      <th>4</th>\n",
       "      <td>SLC25A47</td>\n",
       "      <td>ALB</td>\n",
       "      <td>AGT</td>\n",
       "      <td>KRT78</td>\n",
       "      <td>RP11.123K3.4</td>\n",
       "      <td>DNMT3L</td>\n",
       "      <td>SPIC</td>\n",
       "      <td>KIF22</td>\n",
       "      <td>ZNF556</td>\n",
       "      <td>AQP7P1</td>\n",
       "      <td>...</td>\n",
       "      <td>PAICS</td>\n",
       "      <td>RFC3</td>\n",
       "      <td>SMCR8</td>\n",
       "      <td>MTNR1A</td>\n",
       "      <td>RPL37P1</td>\n",
       "      <td>ZBTB8B</td>\n",
       "      <td>PYGM</td>\n",
       "      <td>SPI1</td>\n",
       "      <td>RPL27A</td>\n",
       "      <td>GOLGA2P2Y</td>\n",
       "    </tr>\n",
       "  </tbody>\n",
       "</table>\n",
       "<p>5 rows × 26415 columns</p>\n",
       "</div>"
      ],
      "text/plain": [
       "       A1BG    A1CF     A2M  A2ML1          A2MP1  A4GALT    A4GNT    AAAS  \\\n",
       "0     ITIH1     PAH   ITIH2    PPL         ARRDC5  ALPPL2  METTL7B   SNRPA   \n",
       "1      AGXT  SLC2A2    AHSG   TGM1  RP11.927P21.9   KLRG2    SSTR5  RUVBL2   \n",
       "2   CYP4A11    CPB2  IGFBP1  KLK13       CSPG4P11    FGF4  C2ORF82    PLK1   \n",
       "3       C8B    APOH   ITIH3   SCEL          SMIM2   NLRP7    KLHL4   CDC20   \n",
       "4  SLC25A47     ALB     AGT  KRT78   RP11.123K3.4  DNMT3L     SPIC   KIF22   \n",
       "\n",
       "      AACS   AACSP1  ... ZWILCH     ZWINT           ZXDA         ZXDB  \\\n",
       "0  SLC35E3  TP53I13  ...  CSE1L      MCM6         YBX1P4         CPS1   \n",
       "1    PEX26    RENBP  ...   NPM1  TIMELESS  RP11.475I24.1      CKAP2P1   \n",
       "2   ZNF793    PRRT4  ...    RAN     SAA3P           REM2        GLP2R   \n",
       "3  RPS6KA5     PPOX  ...   LDHB     PSMC5   RP5.1147A1.1  RP11.91J3.1   \n",
       "4   ZNF556   AQP7P1  ...  PAICS      RFC3          SMCR8       MTNR1A   \n",
       "\n",
       "       ZXDC  ZYG11A   ZYG11B    ZYX    ZZEF1       ZZZ3  \n",
       "0      NSA2    CA5A  PPP1R3A  GNAI2   GAREM1     MAP2K6  \n",
       "1    CICP27  FAM98C    TXLNB  TGFB1   DHRS12      HSBP1  \n",
       "2  RPL10AP5  PCDHB1     TRDN    PXN  ATP5LP3       POT1  \n",
       "3   RPL21P3  USHBP1    XIRP2   VASP   GPR162   SNRPGP14  \n",
       "4   RPL37P1  ZBTB8B     PYGM   SPI1   RPL27A  GOLGA2P2Y  \n",
       "\n",
       "[5 rows x 26415 columns]"
      ]
     },
     "metadata": {},
     "output_type": "display_data"
    },
    {
     "name": "stdout",
     "output_type": "stream",
     "text": [
      "(10, 26415)\n"
     ]
    }
   ],
   "source": [
    "# Load data\n",
    "cloud_url = 'https://appyters.maayanlab.cloud/storage/Gene_Network_Analysis/'\n",
    "#cloud_url = \"\" # for reading locally\n",
    "\n",
    "df_ppi_edges = pd.read_csv(cloud_url + 'ppi_edges_list.csv',header=None)\n",
    "#df_gene_edges = pd.read_csv(cloud_url + 'gene_edges_list.csv')\n",
    "df_gene_edges = pd.read_csv(cloud_url + 'top_10_correlation.csv')\n",
    "\n",
    "\n",
    "display(df_ppi_edges.head())\n",
    "print(df_ppi_edges.shape)\n",
    "display(df_gene_edges.head())\n",
    "print(df_gene_edges.shape)\n",
    "\n"
   ]
  },
  {
   "cell_type": "code",
   "execution_count": 341,
   "metadata": {
    "scrolled": true
   },
   "outputs": [],
   "source": [
    "ppi_edges_dict = {}\n",
    "\n",
    "for index, row in df_ppi_edges.iterrows():\n",
    "    if row[0] in ppi_edges_dict:\n",
    "        ppi_edges_dict[row[0]].append(row[1])\n",
    "    else:\n",
    "        ppi_edges_dict[row[0]] = [row[1]]\n",
    "        \n",
    "\n",
    "gene_edges_dict = df_gene_edges.to_dict('list')"
   ]
  },
  {
   "cell_type": "code",
   "execution_count": 342,
   "metadata": {},
   "outputs": [],
   "source": [
    "\n",
    "'''\n",
    "def get_relevant_ppi_edges(gene_list):\n",
    "    edges = []\n",
    "    for gene in gene_list:\n",
    "        if gene in ppi_edges_dict:  \n",
    "            edges = [*edges,  *[(gene, x) for x in ppi_edges_dict[gene]]]\n",
    "    return edges\n",
    "\n",
    "def get_relevant_gene_edges(gene_list):\n",
    "    edges = []\n",
    "    for gene in gene_list:\n",
    "        if gene in gene_edges_dict:  \n",
    "            edges = [*edges,  *[(gene, x) for x in gene_edges_dict[gene]]]\n",
    "    return edges\n",
    "'''\n",
    "\n",
    "def get_relevant_ppi_edges(gene_list):\n",
    "    edges = []\n",
    "    missing = []\n",
    "    for gene_a in gene_list:\n",
    "        if gene_a in ppi_edges_dict:\n",
    "            for gene_b in ppi_edges_dict[gene_a]:\n",
    "                if gene_b in gene_list: edges.append((gene_a, gene_b))      \n",
    "        else: missing.append(gene_a)\n",
    "    return edges,missing\n",
    "\n",
    "def get_relevant_gene_edges(gene_list):\n",
    "    edges = []\n",
    "    missing = []\n",
    "    for gene_a in gene_list:\n",
    "        if gene_a in gene_edges_dict:\n",
    "            for gene_b in gene_edges_dict[gene_a]:\n",
    "                if gene_b in gene_list: edges.append((gene_a, gene_b))\n",
    "        else: missing.append(gene_a)\n",
    "    return edges,missing"
   ]
  },
  {
   "cell_type": "code",
   "execution_count": 343,
   "metadata": {},
   "outputs": [
    {
     "name": "stdout",
     "output_type": "stream",
     "text": [
      "Name: \n",
      "Type: Graph\n",
      "Number of nodes: 500\n",
      "Number of edges: 274\n",
      "Average degree:   1.0960\n"
     ]
    }
   ],
   "source": [
    "# create the Network object\n",
    "ppi_edges,ppi_missing = get_relevant_ppi_edges(gene_list)\n",
    "gene_edges,gene_missing = get_relevant_gene_edges(gene_list)\n",
    "\n",
    "def create_network(gene_list,ppi_edges,gene_edges):\n",
    "    G = nx.Graph()\n",
    "    G.add_nodes_from(gene_list)\n",
    "    #G.add_edges_from(ppi_edges)\n",
    "    G.add_edges_from(gene_edges)\n",
    "    return G\n",
    "\n",
    "G = create_network(gene_list,ppi_edges,gene_edges)\n",
    "print(nx.info(G))"
   ]
  },
  {
   "cell_type": "code",
   "execution_count": 344,
   "metadata": {},
   "outputs": [
    {
     "name": "stdout",
     "output_type": "stream",
     "text": [
      "['C1QL1', 'C1ORF115', 'LOC105375166', 'SBNO1', 'TMEM176B', 'MT-TV', 'PALM3', 'TCN2', 'CEACAM7', 'C14ORF93', 'ERICH2', 'CLMN', 'KDM7A', 'PCED1B', 'NEAT1', 'UCA1', 'PSCA', 'FAM114A1', 'C17ORF78', 'ZFHX2', 'TMEM141', 'CRAT', 'ESRG', 'MEX3A', 'NDNF', 'SLC27A1', 'LOC101927009', 'MALAT1', 'SMIM24', 'C4ORF3', 'PNCK', 'IFITM10', 'SLC5A3', 'TMEM176A', 'MUC17', 'NYNRIN', 'KRT12', 'OLMALINC', 'PRR36', 'ACSL5', 'FAM213A', 'CCDC18-AS1', 'MIR210HG', 'FXYD5', 'XPNPEP2', 'RAP1GAP2', 'PAXIP1-AS1', 'RETNLB', 'HHLA2', 'TMEM91', 'KHNYN', 'LINC01559', 'HLA-F-AS1', 'SLC25A23', 'DNAH1', 'DNHD1', 'SNHG7', 'NPSR1-AS1', 'SLC6A6', 'AOAH', 'LEMD1', 'AOC1', 'TMEM256', 'KIAA1109', 'TPPP3', 'LOC100131257', 'GPA33', 'AMN', 'EPB41L4A-AS1', 'GATA6-AS1', 'UNC93A', 'COLCA2', 'TMEM255B', 'GPR146', 'SMOC2', 'SLC16A4', 'ZC3H6', 'BRWD3', 'LOC100506548', 'FER1L4', 'DHRS3', 'TMCC1', 'CAPN12', 'SMIM3', 'TMC4', 'ANKIB1', 'CA11', 'KCNQ1OT1', 'SLCO4A1', 'TMEM94']\n"
     ]
    }
   ],
   "source": [
    "print(ppi_missing)\n",
    "\n",
    "#print(\"\\n\".join(ppi_missing))"
   ]
  },
  {
   "cell_type": "code",
   "execution_count": 345,
   "metadata": {},
   "outputs": [
    {
     "name": "stdout",
     "output_type": "stream",
     "text": [
      "['LOC105375166', 'MT-TV', 'ADRBK2', 'NEAT1', 'UCA1', 'ESRG', 'LOC101927009', 'MALAT1', 'OLMALINC', 'CCDC18-AS1', 'MIR210HG', 'PAXIP1-AS1', 'LINC01559', 'HLA-F-AS1', 'SNHG7', 'NPSR1-AS1', 'LOC554223', 'HLA-A', 'LOC100131257', 'EPB41L4A-AS1', 'GATA6-AS1', 'LOC100506548', 'HLA-G', 'ADRBK1', 'MT-RNR2', 'KCNQ1OT1']\n"
     ]
    }
   ],
   "source": [
    "print(gene_missing)"
   ]
  },
  {
   "cell_type": "code",
   "execution_count": 346,
   "metadata": {},
   "outputs": [
    {
     "name": "stdout",
     "output_type": "stream",
     "text": [
      "{'MALAT1', 'LOC101927009', 'EPB41L4A-AS1', 'OLMALINC', 'LOC100131257', 'ESRG', 'LOC105375166', 'GATA6-AS1', 'UCA1', 'LOC100506548', 'CCDC18-AS1', 'MIR210HG', 'MT-TV', 'LINC01559', 'KCNQ1OT1', 'NPSR1-AS1', 'NEAT1', 'HLA-F-AS1', 'SNHG7', 'PAXIP1-AS1'}\n"
     ]
    }
   ],
   "source": [
    "print(set(ppi_missing).intersection(set(gene_missing)))"
   ]
  },
  {
   "cell_type": "code",
   "execution_count": 347,
   "metadata": {},
   "outputs": [],
   "source": [
    "# Clustering\n",
    "all_clusters = {}"
   ]
  },
  {
   "cell_type": "code",
   "execution_count": 348,
   "metadata": {},
   "outputs": [
    {
     "name": "stdout",
     "output_type": "stream",
     "text": [
      "2\n",
      "[['HK2', 'TFF2', 'SMURF1', 'KDM5C', 'FCGRT', 'MAP3K2', 'ACTN1', 'SLC2A1', 'DNM2', 'GAL3ST1', 'ADM', 'PLOD2', 'ANGPTL4', 'KIAA1109', 'P4HA1', 'APP', 'MKNK2', 'NBR1', 'ALDOA', 'INSIG2', 'TGOLN2', 'MYH9', 'BTG1', 'CXCR4', 'P2RX4', 'CD46', 'PLIN2', 'PGK1', 'KDM7A', 'GUCD1', 'KHNYN', 'CD68', 'KDM4B', 'LDHA', 'TPI1', 'BNIP3', 'KDM3A', 'CXXC5', 'TCN2', 'IFITM10', 'PSAP', 'YPEL2', 'HILPDA', 'PFKP', 'VEGFA', 'PFKFB3', 'EGLN3', 'NDRG1', 'GDI1', 'FRY', 'CAST', 'CA9', 'GAA', 'CHD2', 'EIF4B', 'CCNI', 'CREBRF', 'PRR36', 'DSP', 'GRN', 'KLHL24', 'AHNAK', 'CLK1', 'TSC22D3', 'ENO2', 'ANKRD37', 'SORL1', 'SLC16A3', 'RBCK1', 'DDIT4', 'ZNF395', 'EEF2', 'BAZ2A', 'DENND4C'], ['AOC1', 'C17ORF78', 'CLDN15', 'TMEM141', 'EPCAM', 'CEACAM7', 'SMPDL3A', 'CEACAM5', 'MTMR11', 'C1ORF115', 'SLC39A4', 'ACSL5', 'FCGBP', 'SUCLG2', 'APOBEC1', 'ETS2', 'DSG2', 'SPINT1', 'CEACAM1', 'GPA33', 'PCK1', 'SMPD3', 'PIGR', 'XPNPEP2', 'SPINT2', 'RETNLB', 'PRAP1', 'CDHR5', 'SLC22A18', 'ANO9', 'RNF186', 'ANKRD9', 'HHLA2', 'FAM3B', 'MOGAT2', 'SMIM24', 'TMEM120A', 'PRSS8', 'AMN']]\n",
      "74\n"
     ]
    }
   ],
   "source": [
    "# k_clique_communities\n",
    "c = list(community.k_clique_communities(G, 2)) \n",
    "clusters = [ list(x) for x in c if len(x) > n_genes]\n",
    "print(len(clusters))\n",
    "all_clusters[\"k_clique_communities\"] = clusters\n",
    "\n",
    "print(clusters)\n",
    "print(len(all_clusters[\"k_clique_communities\"][0]))"
   ]
  },
  {
   "cell_type": "code",
   "execution_count": 349,
   "metadata": {},
   "outputs": [
    {
     "name": "stdout",
     "output_type": "stream",
     "text": [
      "3\n",
      "[['ACSL5', 'AMN', 'ANKRD9', 'ANO9', 'AOC1', 'APOBEC1', 'C17ORF78', 'C1ORF115', 'CDHR5', 'CEACAM1', 'CEACAM5', 'CEACAM7', 'CLDN15', 'DSG2', 'EPCAM', 'ETS2', 'FAM3B', 'FCGBP', 'GPA33', 'HHLA2', 'MOGAT2', 'MTMR11', 'PCK1', 'PIGR', 'PRAP1', 'PRSS8', 'RETNLB', 'RNF186', 'SLC22A18', 'SLC39A4', 'SMIM24', 'SMPD3', 'SMPDL3A', 'SPINT1', 'SPINT2', 'SUCLG2', 'TMEM120A', 'TMEM141', 'XPNPEP2'], ['ACTN1', 'AHNAK', 'BAZ2A', 'CAST', 'CD46', 'CHD2', 'DENND4C', 'DNM2', 'EEF2', 'EIF4B', 'FRY', 'GUCD1', 'KDM3A', 'KDM4B', 'KDM5C', 'KDM7A', 'KHNYN', 'KIAA1109', 'KLHL24', 'MAP3K2', 'MKNK2', 'MYH9', 'NBR1', 'PFKP', 'RBCK1', 'SMURF1', 'SORL1', 'TFF2', 'TGOLN2', 'YPEL2'], ['ADM', 'ALDOA', 'ANGPTL4', 'ANKRD37', 'APP', 'BNIP3', 'BTG1', 'CA9', 'CCNI', 'CD68', 'CLK1', 'CREBRF', 'CXCR4', 'CXXC5', 'DDIT4', 'DSP', 'EGLN3', 'ENO2', 'FCGRT', 'GAA', 'GAL3ST1', 'GDI1', 'GRN', 'HILPDA', 'HK2', 'IFITM10', 'INSIG2', 'LDHA', 'NDRG1', 'P2RX4', 'P4HA1', 'PFKFB3', 'PGK1', 'PLIN2', 'PLOD2', 'PRR36', 'PSAP', 'SLC16A3', 'SLC2A1', 'TCN2', 'TPI1', 'TSC22D3', 'VEGFA', 'ZNF395']]\n"
     ]
    }
   ],
   "source": [
    "# Girvan newman communities\n",
    "communities_generator = community.girvan_newman(G)\n",
    "top_level_communities = next(communities_generator)\n",
    "# next_level_communities = next(communities_generator)\n",
    "\n",
    "clusters = [ x for x in sorted(map(sorted, top_level_communities)) if len(x) > n_genes ]\n",
    "print(len(clusters))\n",
    "all_clusters[\"girvan_newman\"] = clusters\n",
    "\n",
    "print(clusters)"
   ]
  },
  {
   "cell_type": "code",
   "execution_count": 350,
   "metadata": {},
   "outputs": [
    {
     "name": "stdout",
     "output_type": "stream",
     "text": [
      "2\n",
      "[['HK2', 'GAL3ST1', 'SLC2A1', 'ANGPTL4', 'ADM', 'PLOD2', 'P4HA1', 'ALDOA', 'INSIG2', 'APP', 'PLIN2', 'PGK1', 'LDHA', 'TPI1', 'BNIP3', 'CXXC5', 'HILPDA', 'VEGFA', 'NDRG1', 'GDI1', 'PFKFB3', 'EGLN3', 'CA9', 'CCNI', 'PRR36', 'DSP', 'ENO2', 'ANKRD37', 'DDIT4', 'ZNF395'], ['C17ORF78', 'AOC1', 'CLDN15', 'SMPDL3A', 'C1ORF115', 'SLC39A4', 'ACSL5', 'APOBEC1', 'ETS2', 'PCK1', 'SMPD3', 'XPNPEP2', 'PRAP1', 'CDHR5', 'SLC22A18', 'ANO9', 'ANKRD9', 'HHLA2', 'FAM3B', 'MOGAT2', 'TMEM120A', 'SMIM24', 'AMN']]\n"
     ]
    }
   ],
   "source": [
    "# greedy_modularity_communities\n",
    "c = list(community.greedy_modularity_communities(G))\n",
    "clusters = [ list(x) for x in c if len(x) > n_genes]\n",
    "all_clusters[\"greedy_modularity_communities\"] = clusters\n",
    "print(len(clusters))\n",
    "\n",
    "print(clusters)"
   ]
  },
  {
   "cell_type": "code",
   "execution_count": 351,
   "metadata": {},
   "outputs": [
    {
     "name": "stdout",
     "output_type": "stream",
     "text": [
      "2\n",
      "HK2\n",
      "MAP3K2\n",
      "SMURF1\n",
      "FCGRT\n",
      "KDM5C\n",
      "TFF2\n",
      "SLC2A1\n",
      "GAL3ST1\n",
      "ANGPTL4\n",
      "ADM\n",
      "ACTN1\n",
      "PLOD2\n",
      "DNM2\n",
      "KIAA1109\n",
      "P4HA1\n",
      "MKNK2\n",
      "NBR1\n",
      "ALDOA\n",
      "INSIG2\n",
      "TGOLN2\n",
      "MYH9\n",
      "BTG1\n",
      "CXCR4\n",
      "APP\n",
      "P2RX4\n",
      "PLIN2\n",
      "PGK1\n",
      "CD46\n",
      "GUCD1\n",
      "CD68\n",
      "KHNYN\n",
      "KDM4B\n",
      "KDM7A\n",
      "LDHA\n",
      "TPI1\n",
      "BNIP3\n",
      "KDM3A\n",
      "CXXC5\n",
      "TCN2\n",
      "IFITM10\n",
      "PSAP\n",
      "HILPDA\n",
      "YPEL2\n",
      "VEGFA\n",
      "NDRG1\n",
      "PFKFB3\n",
      "GDI1\n",
      "EGLN3\n",
      "PFKP\n",
      "FRY\n",
      "CAST\n",
      "CA9\n",
      "GAA\n",
      "CHD2\n",
      "CCNI\n",
      "PRR36\n",
      "CREBRF\n",
      "DSP\n",
      "EIF4B\n",
      "GRN\n",
      "KLHL24\n",
      "AHNAK\n",
      "CLK1\n",
      "TSC22D3\n",
      "ENO2\n",
      "ANKRD37\n",
      "SORL1\n",
      "SLC16A3\n",
      "RBCK1\n",
      "DDIT4\n",
      "ZNF395\n",
      "EEF2\n",
      "BAZ2A\n",
      "DENND4C\n"
     ]
    }
   ],
   "source": [
    "# connected_components\n",
    "components = sorted(nx.connected_components(G), key = len, reverse=True)\n",
    "clusters = [ list(x) for x in components if len(x) > n_genes ]\n",
    "print(len(clusters))\n",
    "all_clusters[\"connected_components\"] = clusters\n",
    "\n",
    "print(\"\\n\".join(clusters[0]))"
   ]
  },
  {
   "cell_type": "code",
   "execution_count": 352,
   "metadata": {},
   "outputs": [],
   "source": []
  },
  {
   "cell_type": "code",
   "execution_count": 353,
   "metadata": {},
   "outputs": [],
   "source": [
    "# Validation with Enrichr\n",
    "enrichr_libraries = OrderedDict([\n",
    "    ('Ontologies', ['GO_Biological_Process_2018']),\n",
    "])\n",
    "\n",
    "# Util functions\n",
    "def enrichr_link_from_genes(genes, description='', enrichr_link='https://amp.pharm.mssm.edu/Enrichr'):\n",
    "    ''' Functional access to Enrichr API\n",
    "    '''\n",
    "    time.sleep(1)\n",
    "    resp = requests.post(enrichr_link + '/addList', files={\n",
    "    'list': (None, '\\n'.join(genes)),\n",
    "    'description': (None, description),\n",
    "    })\n",
    "    if resp.status_code != 200:\n",
    "        raise Exception('Enrichr failed with status {}: {}'.format(\n",
    "          resp.status_code,\n",
    "          resp.text,\n",
    "        ))\n",
    "    # wait a tinybit before returning link (backoff)\n",
    "    time.sleep(1)\n",
    "    result = resp.json()\n",
    "    return dict(result, link=enrichr_link + '/enrich?dataset=' + resp.json()['shortId'])\n",
    "\n",
    "def enrichr_get_top_results(userListId, bg, enrichr_link='https://amp.pharm.mssm.edu/Enrichr'):\n",
    "    time.sleep(1)\n",
    "    resp = requests.get(enrichr_link + '/enrich?userListId={}&backgroundType={}'.format(userListId, bg))\n",
    "    if resp.status_code != 200:\n",
    "        raise Exception('Enrichr failed with status {}: {}'.format(\n",
    "          resp.status_code,\n",
    "          resp.text,\n",
    "        ))\n",
    "    time.sleep(1)\n",
    "    return pd.DataFrame(resp.json()[bg], columns=['rank', 'term', 'pvalue', 'zscore', 'combinedscore', 'overlapping_genes', 'adjusted_pvalue', '', ''])\n"
   ]
  },
  {
   "cell_type": "code",
   "execution_count": 354,
   "metadata": {
    "scrolled": true
   },
   "outputs": [],
   "source": [
    "# Get Enrichr links for each cluster\n",
    "enrichr_links = {}\n",
    "\n",
    "for clustering_method, clusters in all_clusters.items():\n",
    "    enrichr_links[clustering_method] = {}\n",
    "    for index, genes in enumerate(clusters):\n",
    "        try:\n",
    "            link = enrichr_link_from_genes(genes, f'{clustering_method} cluster {index}')\n",
    "        except:\n",
    "            link = None\n",
    "            print(f'Enrichr failed for {clustering_method}, cluster {index} genes')\n",
    "\n",
    "        enrichr_links[clustering_method][index] = link"
   ]
  },
  {
   "cell_type": "code",
   "execution_count": 355,
   "metadata": {
    "scrolled": true
   },
   "outputs": [
    {
     "name": "stdout",
     "output_type": "stream",
     "text": [
      "250\n",
      "166\n",
      "250\n",
      "250\n"
     ]
    }
   ],
   "source": [
    "top_n_results = 5\n",
    "num_overall_results = 500\n",
    "sort_by = 'combinedscore'\n",
    "\n",
    "# Grab top results for each cluster\n",
    "all_enrichr_results = []\n",
    "\n",
    "for clustering_method, links in enrichr_links.items():\n",
    "    if clustering_method == 'overall': continue\n",
    "    num_clusters = len(all_clusters[clustering_method])\n",
    "    top_n_results = int(num_overall_results / num_clusters)\n",
    "    print(top_n_results)\n",
    "    for cluster, link in links.items():\n",
    "        if link is None:\n",
    "            continue\n",
    "        for category, libraries in enrichr_libraries.items():\n",
    "            for library in libraries:\n",
    "                try:\n",
    "                    results = enrichr_get_top_results(link['userListId'], library).sort_values(sort_by).iloc[:top_n_results]\n",
    "                    results['clustering_method'] = clustering_method\n",
    "                    results['link'] = link['link']\n",
    "                    results['library'] = library\n",
    "                    results['category'] = category\n",
    "                    results['cluster'] = cluster\n",
    "                    all_enrichr_results.append(results)\n",
    "                except:\n",
    "                    print('{}: {} {} {} cluster {} failed, continuing'.format(link, library, category, clustering_method, cluster))\n",
    "\n",
    "df_enrichr_results = pd.concat(all_enrichr_results).reset_index()"
   ]
  },
  {
   "cell_type": "code",
   "execution_count": 356,
   "metadata": {},
   "outputs": [
    {
     "data": {
      "text/html": [
       "<div>\n",
       "<style scoped>\n",
       "    .dataframe tbody tr th:only-of-type {\n",
       "        vertical-align: middle;\n",
       "    }\n",
       "\n",
       "    .dataframe tbody tr th {\n",
       "        vertical-align: top;\n",
       "    }\n",
       "\n",
       "    .dataframe thead th {\n",
       "        text-align: right;\n",
       "    }\n",
       "</style>\n",
       "<table border=\"1\" class=\"dataframe\">\n",
       "  <thead>\n",
       "    <tr style=\"text-align: right;\">\n",
       "      <th></th>\n",
       "      <th>index</th>\n",
       "      <th>rank</th>\n",
       "      <th>term</th>\n",
       "      <th>pvalue</th>\n",
       "      <th>zscore</th>\n",
       "      <th>combinedscore</th>\n",
       "      <th>overlapping_genes</th>\n",
       "      <th>adjusted_pvalue</th>\n",
       "      <th></th>\n",
       "      <th></th>\n",
       "      <th>clustering_method</th>\n",
       "      <th>link</th>\n",
       "      <th>library</th>\n",
       "      <th>category</th>\n",
       "      <th>cluster</th>\n",
       "    </tr>\n",
       "  </thead>\n",
       "  <tbody>\n",
       "    <tr>\n",
       "      <th>0</th>\n",
       "      <td>846</td>\n",
       "      <td>847</td>\n",
       "      <td>negative regulation of cellular macromolecule ...</td>\n",
       "      <td>0.853776</td>\n",
       "      <td>0.527872</td>\n",
       "      <td>0.083449</td>\n",
       "      <td>[KDM5C]</td>\n",
       "      <td>1.0</td>\n",
       "      <td>0</td>\n",
       "      <td>0</td>\n",
       "      <td>k_clique_communities</td>\n",
       "      <td>https://amp.pharm.mssm.edu/Enrichr/enrich?data...</td>\n",
       "      <td>GO_Biological_Process_2018</td>\n",
       "      <td>Ontologies</td>\n",
       "      <td>0</td>\n",
       "    </tr>\n",
       "    <tr>\n",
       "      <th>1</th>\n",
       "      <td>845</td>\n",
       "      <td>846</td>\n",
       "      <td>nervous system development (GO:0007399)</td>\n",
       "      <td>0.818426</td>\n",
       "      <td>0.594001</td>\n",
       "      <td>0.119021</td>\n",
       "      <td>[VEGFA]</td>\n",
       "      <td>1.0</td>\n",
       "      <td>0</td>\n",
       "      <td>0</td>\n",
       "      <td>k_clique_communities</td>\n",
       "      <td>https://amp.pharm.mssm.edu/Enrichr/enrich?data...</td>\n",
       "      <td>GO_Biological_Process_2018</td>\n",
       "      <td>Ontologies</td>\n",
       "      <td>0</td>\n",
       "    </tr>\n",
       "    <tr>\n",
       "      <th>2</th>\n",
       "      <td>844</td>\n",
       "      <td>845</td>\n",
       "      <td>negative regulation of nucleic acid-templated ...</td>\n",
       "      <td>0.810691</td>\n",
       "      <td>0.608717</td>\n",
       "      <td>0.127750</td>\n",
       "      <td>[KDM5C]</td>\n",
       "      <td>1.0</td>\n",
       "      <td>0</td>\n",
       "      <td>0</td>\n",
       "      <td>k_clique_communities</td>\n",
       "      <td>https://amp.pharm.mssm.edu/Enrichr/enrich?data...</td>\n",
       "      <td>GO_Biological_Process_2018</td>\n",
       "      <td>Ontologies</td>\n",
       "      <td>0</td>\n",
       "    </tr>\n",
       "    <tr>\n",
       "      <th>3</th>\n",
       "      <td>843</td>\n",
       "      <td>844</td>\n",
       "      <td>transcription, DNA-templated (GO:0006351)</td>\n",
       "      <td>0.735923</td>\n",
       "      <td>0.759186</td>\n",
       "      <td>0.232789</td>\n",
       "      <td>[BAZ2A]</td>\n",
       "      <td>1.0</td>\n",
       "      <td>0</td>\n",
       "      <td>0</td>\n",
       "      <td>k_clique_communities</td>\n",
       "      <td>https://amp.pharm.mssm.edu/Enrichr/enrich?data...</td>\n",
       "      <td>GO_Biological_Process_2018</td>\n",
       "      <td>Ontologies</td>\n",
       "      <td>0</td>\n",
       "    </tr>\n",
       "    <tr>\n",
       "      <th>4</th>\n",
       "      <td>842</td>\n",
       "      <td>843</td>\n",
       "      <td>cellular protein localization (GO:0034613)</td>\n",
       "      <td>0.705403</td>\n",
       "      <td>0.826515</td>\n",
       "      <td>0.288442</td>\n",
       "      <td>[SMURF1]</td>\n",
       "      <td>1.0</td>\n",
       "      <td>0</td>\n",
       "      <td>0</td>\n",
       "      <td>k_clique_communities</td>\n",
       "      <td>https://amp.pharm.mssm.edu/Enrichr/enrich?data...</td>\n",
       "      <td>GO_Biological_Process_2018</td>\n",
       "      <td>Ontologies</td>\n",
       "      <td>0</td>\n",
       "    </tr>\n",
       "    <tr>\n",
       "      <th>...</th>\n",
       "      <td>...</td>\n",
       "      <td>...</td>\n",
       "      <td>...</td>\n",
       "      <td>...</td>\n",
       "      <td>...</td>\n",
       "      <td>...</td>\n",
       "      <td>...</td>\n",
       "      <td>...</td>\n",
       "      <td>...</td>\n",
       "      <td>...</td>\n",
       "      <td>...</td>\n",
       "      <td>...</td>\n",
       "      <td>...</td>\n",
       "      <td>...</td>\n",
       "      <td>...</td>\n",
       "    </tr>\n",
       "    <tr>\n",
       "      <th>1857</th>\n",
       "      <td>9</td>\n",
       "      <td>10</td>\n",
       "      <td>heterocycle catabolic process (GO:0046700)</td>\n",
       "      <td>0.011644</td>\n",
       "      <td>85.470085</td>\n",
       "      <td>380.591956</td>\n",
       "      <td>[AOC1]</td>\n",
       "      <td>1.0</td>\n",
       "      <td>0</td>\n",
       "      <td>0</td>\n",
       "      <td>connected_components</td>\n",
       "      <td>https://amp.pharm.mssm.edu/Enrichr/enrich?data...</td>\n",
       "      <td>GO_Biological_Process_2018</td>\n",
       "      <td>Ontologies</td>\n",
       "      <td>1</td>\n",
       "    </tr>\n",
       "    <tr>\n",
       "      <th>1858</th>\n",
       "      <td>15</td>\n",
       "      <td>16</td>\n",
       "      <td>bundle of His cell-Purkinje myocyte adhesion i...</td>\n",
       "      <td>0.011644</td>\n",
       "      <td>85.470085</td>\n",
       "      <td>380.591956</td>\n",
       "      <td>[DSG2]</td>\n",
       "      <td>1.0</td>\n",
       "      <td>0</td>\n",
       "      <td>0</td>\n",
       "      <td>connected_components</td>\n",
       "      <td>https://amp.pharm.mssm.edu/Enrichr/enrich?data...</td>\n",
       "      <td>GO_Biological_Process_2018</td>\n",
       "      <td>Ontologies</td>\n",
       "      <td>1</td>\n",
       "    </tr>\n",
       "    <tr>\n",
       "      <th>1859</th>\n",
       "      <td>13</td>\n",
       "      <td>14</td>\n",
       "      <td>response to heparin (GO:0071503)</td>\n",
       "      <td>0.011644</td>\n",
       "      <td>85.470085</td>\n",
       "      <td>380.591956</td>\n",
       "      <td>[AOC1]</td>\n",
       "      <td>1.0</td>\n",
       "      <td>0</td>\n",
       "      <td>0</td>\n",
       "      <td>connected_components</td>\n",
       "      <td>https://amp.pharm.mssm.edu/Enrichr/enrich?data...</td>\n",
       "      <td>GO_Biological_Process_2018</td>\n",
       "      <td>Ontologies</td>\n",
       "      <td>1</td>\n",
       "    </tr>\n",
       "    <tr>\n",
       "      <th>1860</th>\n",
       "      <td>11</td>\n",
       "      <td>12</td>\n",
       "      <td>regulation of blood vessel remodeling (GO:0060...</td>\n",
       "      <td>0.011644</td>\n",
       "      <td>85.470085</td>\n",
       "      <td>380.591956</td>\n",
       "      <td>[CEACAM1]</td>\n",
       "      <td>1.0</td>\n",
       "      <td>0</td>\n",
       "      <td>0</td>\n",
       "      <td>connected_components</td>\n",
       "      <td>https://amp.pharm.mssm.edu/Enrichr/enrich?data...</td>\n",
       "      <td>GO_Biological_Process_2018</td>\n",
       "      <td>Ontologies</td>\n",
       "      <td>1</td>\n",
       "    </tr>\n",
       "    <tr>\n",
       "      <th>1861</th>\n",
       "      <td>2</td>\n",
       "      <td>3</td>\n",
       "      <td>triglyceride biosynthetic process (GO:0019432)</td>\n",
       "      <td>0.000620</td>\n",
       "      <td>53.981107</td>\n",
       "      <td>398.655994</td>\n",
       "      <td>[MOGAT2, PCK1]</td>\n",
       "      <td>1.0</td>\n",
       "      <td>0</td>\n",
       "      <td>0</td>\n",
       "      <td>connected_components</td>\n",
       "      <td>https://amp.pharm.mssm.edu/Enrichr/enrich?data...</td>\n",
       "      <td>GO_Biological_Process_2018</td>\n",
       "      <td>Ontologies</td>\n",
       "      <td>1</td>\n",
       "    </tr>\n",
       "  </tbody>\n",
       "</table>\n",
       "<p>1862 rows × 15 columns</p>\n",
       "</div>"
      ],
      "text/plain": [
       "      index  rank                                               term  \\\n",
       "0       846   847  negative regulation of cellular macromolecule ...   \n",
       "1       845   846            nervous system development (GO:0007399)   \n",
       "2       844   845  negative regulation of nucleic acid-templated ...   \n",
       "3       843   844          transcription, DNA-templated (GO:0006351)   \n",
       "4       842   843         cellular protein localization (GO:0034613)   \n",
       "...     ...   ...                                                ...   \n",
       "1857      9    10         heterocycle catabolic process (GO:0046700)   \n",
       "1858     15    16  bundle of His cell-Purkinje myocyte adhesion i...   \n",
       "1859     13    14                   response to heparin (GO:0071503)   \n",
       "1860     11    12  regulation of blood vessel remodeling (GO:0060...   \n",
       "1861      2     3     triglyceride biosynthetic process (GO:0019432)   \n",
       "\n",
       "        pvalue     zscore  combinedscore overlapping_genes  adjusted_pvalue  \\\n",
       "0     0.853776   0.527872       0.083449           [KDM5C]              1.0   \n",
       "1     0.818426   0.594001       0.119021           [VEGFA]              1.0   \n",
       "2     0.810691   0.608717       0.127750           [KDM5C]              1.0   \n",
       "3     0.735923   0.759186       0.232789           [BAZ2A]              1.0   \n",
       "4     0.705403   0.826515       0.288442          [SMURF1]              1.0   \n",
       "...        ...        ...            ...               ...              ...   \n",
       "1857  0.011644  85.470085     380.591956            [AOC1]              1.0   \n",
       "1858  0.011644  85.470085     380.591956            [DSG2]              1.0   \n",
       "1859  0.011644  85.470085     380.591956            [AOC1]              1.0   \n",
       "1860  0.011644  85.470085     380.591956         [CEACAM1]              1.0   \n",
       "1861  0.000620  53.981107     398.655994    [MOGAT2, PCK1]              1.0   \n",
       "\n",
       "               clustering_method  \\\n",
       "0     0  0  k_clique_communities   \n",
       "1     0  0  k_clique_communities   \n",
       "2     0  0  k_clique_communities   \n",
       "3     0  0  k_clique_communities   \n",
       "4     0  0  k_clique_communities   \n",
       "...  .. ..                   ...   \n",
       "1857  0  0  connected_components   \n",
       "1858  0  0  connected_components   \n",
       "1859  0  0  connected_components   \n",
       "1860  0  0  connected_components   \n",
       "1861  0  0  connected_components   \n",
       "\n",
       "                                                   link  \\\n",
       "0     https://amp.pharm.mssm.edu/Enrichr/enrich?data...   \n",
       "1     https://amp.pharm.mssm.edu/Enrichr/enrich?data...   \n",
       "2     https://amp.pharm.mssm.edu/Enrichr/enrich?data...   \n",
       "3     https://amp.pharm.mssm.edu/Enrichr/enrich?data...   \n",
       "4     https://amp.pharm.mssm.edu/Enrichr/enrich?data...   \n",
       "...                                                 ...   \n",
       "1857  https://amp.pharm.mssm.edu/Enrichr/enrich?data...   \n",
       "1858  https://amp.pharm.mssm.edu/Enrichr/enrich?data...   \n",
       "1859  https://amp.pharm.mssm.edu/Enrichr/enrich?data...   \n",
       "1860  https://amp.pharm.mssm.edu/Enrichr/enrich?data...   \n",
       "1861  https://amp.pharm.mssm.edu/Enrichr/enrich?data...   \n",
       "\n",
       "                         library    category  cluster  \n",
       "0     GO_Biological_Process_2018  Ontologies        0  \n",
       "1     GO_Biological_Process_2018  Ontologies        0  \n",
       "2     GO_Biological_Process_2018  Ontologies        0  \n",
       "3     GO_Biological_Process_2018  Ontologies        0  \n",
       "4     GO_Biological_Process_2018  Ontologies        0  \n",
       "...                          ...         ...      ...  \n",
       "1857  GO_Biological_Process_2018  Ontologies        1  \n",
       "1858  GO_Biological_Process_2018  Ontologies        1  \n",
       "1859  GO_Biological_Process_2018  Ontologies        1  \n",
       "1860  GO_Biological_Process_2018  Ontologies        1  \n",
       "1861  GO_Biological_Process_2018  Ontologies        1  \n",
       "\n",
       "[1862 rows x 15 columns]"
      ]
     },
     "metadata": {},
     "output_type": "display_data"
    }
   ],
   "source": [
    "display(df_enrichr_results)"
   ]
  },
  {
   "cell_type": "code",
   "execution_count": 357,
   "metadata": {},
   "outputs": [
    {
     "name": "stdout",
     "output_type": "stream",
     "text": [
      "Average unique terms per clustering method:  409\n",
      "Average hits per clustering method:  465\n"
     ]
    }
   ],
   "source": [
    "unique_terms = {}\n",
    "num_unique_terms = []\n",
    "\n",
    "num_unique_hits = []\n",
    "\n",
    "for clustering_method in [ x for x in df_enrichr_results[\"clustering_method\"].unique() if x != \"overall\"]:\n",
    "    df_method = df_enrichr_results.loc[df_enrichr_results[\"clustering_method\"] == clustering_method]\n",
    "    \n",
    "    terms = df_method[\"term\"].values    \n",
    "    unique = list(set(terms))\n",
    "    num_unique_terms.append(len(unique))\n",
    "    unique_terms[clustering_method] = unique\n",
    "    \n",
    "    hits = df_method.shape[0]\n",
    "    num_unique_hits.append(hits)\n",
    "\n",
    "\n",
    "\n",
    "# avg number of unique terms per method\n",
    "avg_unique_terms = int(np.mean(np.array(num_unique_terms)))\n",
    "print(\"Average unique terms per clustering method: \", avg_unique_terms)\n",
    "\n",
    "# avg number of enrichr entries per method\n",
    "avg_hits = int(np.mean(np.array(num_unique_hits)))\n",
    "print(\"Average hits per clustering method: \", avg_hits)"
   ]
  },
  {
   "cell_type": "code",
   "execution_count": 358,
   "metadata": {},
   "outputs": [],
   "source": [
    "# get data on the overall gene set \n",
    "\n",
    "try:\n",
    "    link = enrichr_link_from_genes(gene_list, 'overall')\n",
    "    results = enrichr_get_top_results(link['userListId'], library).sort_values('pvalue').iloc[:avg_hits]\n",
    "    results['clustering_method'] = 'overall'\n",
    "    results['link'] = link['link']\n",
    "    results['library'] = library\n",
    "    results['category'] = category\n",
    "    results['cluster'] = cluster\n",
    "    all_enrichr_results.append(results)\n",
    "except:\n",
    "    print('Failed to get Enrichr results for overall gene set')\n",
    "\n",
    "\n",
    "df_enrichr_results = pd.concat(all_enrichr_results).reset_index()"
   ]
  },
  {
   "cell_type": "code",
   "execution_count": 359,
   "metadata": {},
   "outputs": [],
   "source": [
    "neg_log_pvalues = {}\n",
    "combined_scores = {}\n",
    "\n",
    "for clustering_method in df_enrichr_results[\"clustering_method\"].unique():\n",
    "    df_method = df_enrichr_results.loc[df_enrichr_results[\"clustering_method\"] == clustering_method]\n",
    "\n",
    "    vals = df_method[\"pvalue\"].values\n",
    "    neg_log_pvalues[clustering_method] = [ -math.log(p) for p in vals]\n",
    "    \n",
    "    combined_scores[clustering_method] = df_method[\"combinedscore\"].values"
   ]
  },
  {
   "cell_type": "code",
   "execution_count": 360,
   "metadata": {},
   "outputs": [
    {
     "data": {
      "image/png": "[encoded data removed]",
      "text/plain": [
       "<Figure size 432x288 with 1 Axes>"
      ]
     },
     "metadata": {
      "needs_background": "light"
     },
     "output_type": "display_data"
    },
    {
     "data": {
      "image/png": "[encoded data removed]",
      "text/plain": [
       "<Figure size 432x288 with 1 Axes>"
      ]
     },
     "metadata": {
      "needs_background": "light"
     },
     "output_type": "display_data"
    },
    {
     "data": {
      "image/png": "[encoded data removed]",
      "text/plain": [
       "<Figure size 432x288 with 1 Axes>"
      ]
     },
     "metadata": {
      "needs_background": "light"
     },
     "output_type": "display_data"
    },
    {
     "data": {
      "image/png": "[encoded data removed]",
      "text/plain": [
       "<Figure size 432x288 with 1 Axes>"
      ]
     },
     "metadata": {
      "needs_background": "light"
     },
     "output_type": "display_data"
    },
    {
     "data": {
      "image/png": "[encoded data removed]",
      "text/plain": [
       "<Figure size 432x288 with 1 Axes>"
      ]
     },
     "metadata": {
      "needs_background": "light"
     },
     "output_type": "display_data"
    }
   ],
   "source": [
    "# plot one distribution per method\n",
    "\n",
    "for clustering_method, y in neg_log_pvalues.items():\n",
    "    fig, ax = plt.subplots()\n",
    "    sns.distplot(y, ax=ax, label=clustering_method)\n",
    "    ax.set_title(clustering_method)\n",
    "    ax.set_xlabel(\"-log (p-value)\")\n",
    "    ax.set_ylabel(\"Frequency\")\n",
    "    plt.xlim([-10,90])\n",
    "    "
   ]
  },
  {
   "cell_type": "code",
   "execution_count": 361,
   "metadata": {},
   "outputs": [
    {
     "name": "stdout",
     "output_type": "stream",
     "text": [
      "495\n",
      "498\n",
      "374\n",
      "495\n",
      "465\n"
     ]
    },
    {
     "data": {
      "text/plain": [
       "<matplotlib.legend.Legend at 0x126e82eb0>"
      ]
     },
     "execution_count": 361,
     "metadata": {},
     "output_type": "execute_result"
    },
    {
     "data": {
      "image/png": "[encoded data removed]",
      "text/plain": [
       "<Figure size 1080x720 with 1 Axes>"
      ]
     },
     "metadata": {
      "needs_background": "light"
     },
     "output_type": "display_data"
    }
   ],
   "source": [
    "# Overlay the kernel density estimates of combined scores on a single plot\n",
    "\n",
    "fig, ax = plt.subplots(figsize=(15,10))\n",
    "\n",
    "\n",
    "for clustering_method, y in combined_scores.items():\n",
    "    print(len(y))\n",
    "    sns.distplot(y, ax=ax, label=clustering_method, hist=False)\n",
    "    #ax.set_title(clustering_method)\n",
    "ax.set_xlabel(\"Combined score\")\n",
    "ax.set_ylabel(\"Frequency\")\n",
    "ax.set_xlim([-50,400])\n",
    "ax.legend()\n"
   ]
  },
  {
   "cell_type": "code",
   "execution_count": 375,
   "metadata": {
    "scrolled": false
   },
   "outputs": [
    {
     "data": {
      "text/html": [
       "<div>\n",
       "<style scoped>\n",
       "    .dataframe tbody tr th:only-of-type {\n",
       "        vertical-align: middle;\n",
       "    }\n",
       "\n",
       "    .dataframe tbody tr th {\n",
       "        vertical-align: top;\n",
       "    }\n",
       "\n",
       "    .dataframe thead th {\n",
       "        text-align: right;\n",
       "    }\n",
       "</style>\n",
       "<table border=\"1\" class=\"dataframe\">\n",
       "  <thead>\n",
       "    <tr style=\"text-align: right;\">\n",
       "      <th></th>\n",
       "      <th>k_clique_communities</th>\n",
       "      <th>girvan_newman</th>\n",
       "      <th>greedy_modularity_communities</th>\n",
       "      <th>connected_components</th>\n",
       "    </tr>\n",
       "  </thead>\n",
       "  <tbody>\n",
       "    <tr>\n",
       "      <th>C1QL1</th>\n",
       "      <td>NaN</td>\n",
       "      <td>NaN</td>\n",
       "      <td>NaN</td>\n",
       "      <td>NaN</td>\n",
       "    </tr>\n",
       "    <tr>\n",
       "      <th>SNTB1</th>\n",
       "      <td>NaN</td>\n",
       "      <td>NaN</td>\n",
       "      <td>NaN</td>\n",
       "      <td>NaN</td>\n",
       "    </tr>\n",
       "    <tr>\n",
       "      <th>FAM3B</th>\n",
       "      <td>1</td>\n",
       "      <td>0</td>\n",
       "      <td>1</td>\n",
       "      <td>1</td>\n",
       "    </tr>\n",
       "    <tr>\n",
       "      <th>ALDH18A1</th>\n",
       "      <td>NaN</td>\n",
       "      <td>NaN</td>\n",
       "      <td>NaN</td>\n",
       "      <td>NaN</td>\n",
       "    </tr>\n",
       "    <tr>\n",
       "      <th>GRB7</th>\n",
       "      <td>NaN</td>\n",
       "      <td>NaN</td>\n",
       "      <td>NaN</td>\n",
       "      <td>NaN</td>\n",
       "    </tr>\n",
       "  </tbody>\n",
       "</table>\n",
       "</div>"
      ],
      "text/plain": [
       "         k_clique_communities girvan_newman greedy_modularity_communities  \\\n",
       "C1QL1                     NaN           NaN                           NaN   \n",
       "SNTB1                     NaN           NaN                           NaN   \n",
       "FAM3B                       1             0                             1   \n",
       "ALDH18A1                  NaN           NaN                           NaN   \n",
       "GRB7                      NaN           NaN                           NaN   \n",
       "\n",
       "         connected_components  \n",
       "C1QL1                     NaN  \n",
       "SNTB1                     NaN  \n",
       "FAM3B                       1  \n",
       "ALDH18A1                  NaN  \n",
       "GRB7                      NaN  "
      ]
     },
     "metadata": {},
     "output_type": "display_data"
    }
   ],
   "source": [
    "df_clusters = pd.DataFrame(index=gene_list, columns=[ x for x in df_enrichr_results[\"clustering_method\"].unique() if x!=\"overall\"])\n",
    "\n",
    "for clustering_method, clusters in all_clusters.items():\n",
    "    for index,cluster in enumerate(clusters):\n",
    "        for gene in cluster:\n",
    "            df_clusters.loc[gene,clustering_method] = index\n",
    "\n",
    "display(df_clusters.head())\n",
    "\n",
    "         "
   ]
  },
  {
   "cell_type": "code",
   "execution_count": 362,
   "metadata": {
    "scrolled": false
   },
   "outputs": [
    {
     "data": {
      "text/html": [
       "\n",
       "        <iframe\n",
       "            width=\"100%\"\n",
       "            height=\"1000px\"\n",
       "            src=\"graph.html\"\n",
       "            frameborder=\"0\"\n",
       "            allowfullscreen\n",
       "        ></iframe>\n",
       "        "
      ],
      "text/plain": [
       "<IPython.lib.display.IFrame at 0x11062c940>"
      ]
     },
     "execution_count": 362,
     "metadata": {},
     "output_type": "execute_result"
    }
   ],
   "source": [
    "from pyvis.network import Network\n",
    "\n",
    "nt = Network(width=\"100%\", height = \"1000px\", notebook=True)\n",
    "nt.from_nx(G)\n",
    "nt.show(\"graph.html\")"
   ]
  },
  {
   "cell_type": "code",
   "execution_count": null,
   "metadata": {},
   "outputs": [],
   "source": []
  },
  {
   "cell_type": "code",
   "execution_count": null,
   "metadata": {},
   "outputs": [],
   "source": []
  }
 ],
 "metadata": {
  "kernelspec": {
   "display_name": "Python 3",
   "language": "python",
   "name": "python3"
  },
  "language_info": {
   "codemirror_mode": {
    "name": "ipython",
    "version": 3
   },
   "file_extension": ".py",
   "mimetype": "text/x-python",
   "name": "python",
   "nbconvert_exporter": "python",
   "pygments_lexer": "ipython3",
   "version": "3.8.1"
  }
 },
 "nbformat": 4,
 "nbformat_minor": 4
}
