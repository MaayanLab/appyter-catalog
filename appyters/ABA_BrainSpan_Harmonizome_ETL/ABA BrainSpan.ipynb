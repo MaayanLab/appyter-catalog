{
    "cells": [
        {
            "cell_type": "markdown",
            "metadata": {},
            "source": [
                "# Harmonizome ETL: BrainSpan - Atlas of the Developing Human Brain"
            ]
        },
        {
            "cell_type": "markdown",
            "metadata": {},
            "source": [
                "Created by: Charles Dai <br>\n",
                "Credit to: Moshe Silverstein\n",
                "\n",
                "Data Source: http://www.brainspan.org/static/download.html"
            ]
        },
        {
            "cell_type": "code",
            "execution_count": null,
            "metadata": {
                "tags": []
            },
            "outputs": [],
            "source": [
                "# appyter init\n",
                "from appyter import magic\n",
                "magic.init(lambda _=globals: _())"
            ]
        },
        {
            "cell_type": "code",
            "execution_count": null,
            "metadata": {},
            "outputs": [],
            "source": [
                "import sys\n",
                "import os\n",
                "import zipfile\n",
                "from datetime import date\n",
                "\n",
                "import numpy as np\n",
                "import pandas as pd\n",
                "import matplotlib.pyplot as plt\n",
                "%matplotlib inline\n",
                "\n",
                "import harmonizome.utility_functions as uf\n",
                "import harmonizome.lookup as lookup"
            ]
        },
        {
            "cell_type": "code",
            "execution_count": null,
            "metadata": {},
            "outputs": [],
            "source": [
                "%load_ext autoreload\n",
                "%autoreload 2"
            ]
        },
        {
            "cell_type": "markdown",
            "metadata": {},
            "source": [
                "### Notebook Information"
            ]
        },
        {
            "cell_type": "code",
            "execution_count": null,
            "metadata": {
                "tags": []
            },
            "outputs": [],
            "source": [
                "print('This notebook was run on:', date.today(), '\\nPython version:', sys.version)"
            ]
        },
        {
            "cell_type": "markdown",
            "metadata": {},
            "source": [
                "# Initialization"
            ]
        },
        {
            "cell_type": "markdown",
            "metadata": {},
            "source": [
                "### Set Data Grouping Options"
            ]
        },
        {
            "cell_type": "code",
            "execution_count": null,
            "metadata": {},
            "outputs": [],
            "source": [
                "%%appyter hide_code\n",
                "\n",
                "{% do SectionField(\n",
                "    name='data',\n",
                "    title='Upload Data',\n",
                "    img='load_icon.png'\n",
                ") %}\n",
                "\n",
                "{% do SectionField(\n",
                "    name='settings',\n",
                "    title='Settings',\n",
                "    img='setting_icon.png'\n",
                ") %}"
            ]
        },
        {
            "cell_type": "code",
            "execution_count": null,
            "metadata": {},
            "outputs": [],
            "source": [
                "%%appyter hide_code\n",
                "\n",
                "{% do DescriptionField(\n",
                "    name='description',\n",
                "    text='The following examples were sourced from <a href=\"http://www.brainspan.org/static/download.html\" target=\"_blank\">www.brainspan.org</a>. The first file field has examples for developmental brain RNA-Seq data, developmental brain microarray data, and prenatal brain microarray data, respectively. The other fields only have examples for prenatal brain microarray data. If clicking on the examples does not work, they should be downloaded directly from the source website. At least one file must be provided.',\n",
                "    section='data'\n",
                ")%}"
            ]
        },
        {
            "cell_type": "code",
            "execution_count": null,
            "metadata": {
                "tags": []
            },
            "outputs": [],
            "source": [
                "%%appyter code_eval\n",
                "\n",
                "{% set file_1 = FileField(\n",
                "    constraint='(.*\\.zip$)?', name='dataset1', label='File 1', \n",
                "    default='Input/BrainSpan/genes_matrix_csv.zip',\n",
                "    section='data',\n",
                "    examples={\n",
                "        'genes_matrix_csv.zip (Developmental Brain RNA-Seq)': 'http://www.brainspan.org/api/v2/well_known_file_download/267666525',\n",
                "        'genes_array_matrix_csv.zip (Developmental Brain Microarray)': 'http://www.brainspan.org/api/v2/well_known_file_download/267666527',\n",
                "        'lmd_matrix_12840.zip (Prenatal Brain Microarray)': 'http://www.brainspan.org/api/v2/well_known_file_download/278442900'\n",
                "    }) \n",
                "%}\n",
                "\n",
                "{% set file_2 = FileField(\n",
                "    constraint='(.*\\.zip$)?', name='dataset2', label='File 2', \n",
                "    default='',\n",
                "    section='data',\n",
                "    examples={\n",
                "        'lmd_matrix_14751.zip (Prenatal Brain Microarray)': 'http://www.brainspan.org/api/v2/well_known_file_download/278444085'\n",
                "    })\n",
                "%}\n",
                "\n",
                "{% set file_3 = FileField(\n",
                "    constraint='(.*\\.zip$)?', name='dataset3', label='File 3', \n",
                "    default='',\n",
                "    section='data',\n",
                "    examples={\n",
                "        'lmd_matrix_12566.zip (Prenatal Brain Microarray)': 'http://www.brainspan.org/api/v2/well_known_file_download/278444090'\n",
                "    })\n",
                "%}\n",
                "\n",
                "{% set file_4 = FileField(constraint='(.*\\.zip$)?', name='dataset4', label='File 4', \n",
                "    default='',\n",
                "    section='data',\n",
                "    examples={\n",
                "        'lmd_matrix_12690.zip (Prenatal Brain Microarray)': 'http://www.brainspan.org/api/v2/well_known_file_download/278444094'\n",
                "    })\n",
                "%}"
            ]
        },
        {
            "cell_type": "code",
            "execution_count": null,
            "metadata": {},
            "outputs": [],
            "source": [
                "%%appyter code_eval\n",
                "\n",
                "{% set dataset = ChoiceField(\n",
                "    name='dataset',\n",
                "    label='Dataset',\n",
                "    choices={\n",
                "        'Developmental Brain (Microarray)': 'DMA',\n",
                "        'Developmental Brain (RNA-Seq)': 'DRS', \n",
                "        'Prenatal Brain (Microarray)': 'PMA'\n",
                "    },\n",
                "    default='Developmental Brain (Microarray)',\n",
                "    section='settings'\n",
                ") %}\n",
                "\n",
                "{% set attribute = ChoiceField(\n",
                "    name='attribute',\n",
                "    label='Attribute',\n",
                "    description='The prenatal microarray dataset cannot take the age attribute. All other combinations of dataset and attribute work.',\n",
                "    choices=['Age', 'Sample', 'Tissue'],\n",
                "    default='Sample',\n",
                "    section='settings'\n",
                ") %}"
            ]
        },
        {
            "cell_type": "markdown",
            "metadata": {},
            "source": [
                "### Load Mapping Dictionaries"
            ]
        },
        {
            "cell_type": "code",
            "execution_count": null,
            "metadata": {
                "tags": []
            },
            "outputs": [],
            "source": [
                "symbol_lookup, geneid_lookup = lookup.get_lookups()"
            ]
        },
        {
            "cell_type": "markdown",
            "metadata": {},
            "source": [
                "### Output Path"
            ]
        },
        {
            "cell_type": "code",
            "execution_count": null,
            "metadata": {},
            "outputs": [],
            "source": [
                "%%appyter code_exec\n",
                "\n",
                "output_name = 'brainspan_{{dataset}}'.lower()\n",
                "\n",
                "path = 'Output/BrainSpain-{{dataset}}'\n",
                "if not os.path.exists(path):\n",
                "    os.makedirs(path)"
            ]
        },
        {
            "cell_type": "markdown",
            "metadata": {},
            "source": [
                "# Load Data"
            ]
        },
        {
            "cell_type": "code",
            "execution_count": null,
            "metadata": {},
            "outputs": [],
            "source": [
                "%%appyter code_exec\n",
                "\n",
                "file_list = [\n",
                "    {{file_1}}, \n",
                "    {{file_2}}, \n",
                "    {{file_3}}, \n",
                "    {{file_4}}\n",
                "]"
            ]
        },
        {
            "cell_type": "code",
            "execution_count": null,
            "metadata": {
                "tags": []
            },
            "outputs": [],
            "source": [
                "data = []\n",
                "\n",
                "for f in file_list:\n",
                "    if not f == '':\n",
                "        print('Loading file:', f)\n",
                "        with zipfile.ZipFile(f) as zipf:\n",
                "            with zipf.open('expression_matrix.csv') as matrix_file:\n",
                "                matrix = pd.read_csv(matrix_file, header=None, index_col=0)\n",
                "            with zipf.open('columns_metadata.csv') as sample_file:\n",
                "                sample_meta = pd.read_csv(sample_file, index_col=0)\n",
                "            with zipf.open('rows_metadata.csv') as gene_file:\n",
                "                gene_meta = pd.read_csv(gene_file, index_col=0)\n",
                "        data.append((matrix, sample_meta, gene_meta))"
            ]
        },
        {
            "cell_type": "markdown",
            "metadata": {},
            "source": [
                "# Pre-process Data"
            ]
        },
        {
            "cell_type": "markdown",
            "metadata": {},
            "source": [
                "## Map Genes and Attribute to Matrix"
            ]
        },
        {
            "cell_type": "code",
            "execution_count": null,
            "metadata": {},
            "outputs": [],
            "source": [
                "%%appyter code_exec\n",
                "\n",
                "matrices = []\n",
                "\n",
                "for matrix, sample_meta, gene_meta in data:\n",
                "    matrix.index = gene_meta['gene_symbol']\n",
                "    if '{{attribute}}' == 'Age':\n",
                "        matrix.columns = sample_meta['age']\n",
                "    elif '{{attribute}}' == 'Tissue':\n",
                "        matrix.columns = sample_meta['structure_name']\n",
                "    elif '{{attribute}}' == 'Sample':\n",
                "        sample_meta = sample_meta.set_index(['donor_id', 'structure_id'])\n",
                "        matrix.columns = sample_meta.index\n",
                "    matrices.append(matrix)\n",
                "matrix = pd.concat(matrices, axis=1)"
            ]
        },
        {
            "cell_type": "code",
            "execution_count": null,
            "metadata": {},
            "outputs": [],
            "source": [
                "%%appyter code_exec\n",
                "\n",
                "matrix.index.name = 'Gene Symbol'\n",
                "matrix.columns.name = '{{attribute}}'"
            ]
        },
        {
            "cell_type": "code",
            "execution_count": null,
            "metadata": {},
            "outputs": [],
            "source": [
                "matrix.head()"
            ]
        },
        {
            "cell_type": "code",
            "execution_count": null,
            "metadata": {},
            "outputs": [],
            "source": [
                "matrix.shape"
            ]
        },
        {
            "cell_type": "markdown",
            "metadata": {},
            "source": [
                "## Save Unfiltered Matrix to file"
            ]
        },
        {
            "cell_type": "code",
            "execution_count": null,
            "metadata": {},
            "outputs": [],
            "source": [
                "uf.save_data(matrix, path, output_name + '_matrix_unfiltered',\n",
                "            compression='gzip', dtype=np.float32)"
            ]
        },
        {
            "cell_type": "markdown",
            "metadata": {},
            "source": [
                "# Filter Data"
            ]
        },
        {
            "cell_type": "markdown",
            "metadata": {},
            "source": [
                "## Map Gene Symbols to Up-to-date Approved Gene Symbols"
            ]
        },
        {
            "cell_type": "code",
            "execution_count": null,
            "metadata": {
                "tags": []
            },
            "outputs": [],
            "source": [
                "matrix = uf.map_symbols(matrix, symbol_lookup)\n",
                "matrix.shape"
            ]
        },
        {
            "cell_type": "markdown",
            "metadata": {},
            "source": [
                "## Merge Duplicate Genes By Rows and Duplicate Columns"
            ]
        },
        {
            "cell_type": "code",
            "execution_count": null,
            "metadata": {},
            "outputs": [],
            "source": [
                "matrix = uf.merge(matrix, 'row')\n",
                "matrix = uf.merge(matrix, 'column')\n",
                "matrix.shape"
            ]
        },
        {
            "cell_type": "markdown",
            "metadata": {},
            "source": [
                "## Remove Data that is More Than 95% Missing and Impute Missing Data"
            ]
        },
        {
            "cell_type": "code",
            "execution_count": null,
            "metadata": {},
            "outputs": [],
            "source": [
                "matrix = uf.remove_impute(matrix)\n",
                "matrix.head()"
            ]
        },
        {
            "cell_type": "code",
            "execution_count": null,
            "metadata": {},
            "outputs": [],
            "source": [
                "matrix.shape"
            ]
        },
        {
            "cell_type": "markdown",
            "metadata": {},
            "source": [
                "## Log2 Transform"
            ]
        },
        {
            "cell_type": "code",
            "execution_count": null,
            "metadata": {},
            "outputs": [],
            "source": [
                "matrix = uf.log2(matrix)\n",
                "matrix.head()"
            ]
        },
        {
            "cell_type": "markdown",
            "metadata": {},
            "source": [
                "## Normalize Matrix (Quantile Normalize the Matrix by Column)"
            ]
        },
        {
            "cell_type": "code",
            "execution_count": null,
            "metadata": {},
            "outputs": [],
            "source": [
                "matrix = uf.quantile_normalize(matrix)\n",
                "matrix.head()"
            ]
        },
        {
            "cell_type": "markdown",
            "metadata": {},
            "source": [
                "## Normalize Matrix (Z-Score the Rows)"
            ]
        },
        {
            "cell_type": "code",
            "execution_count": null,
            "metadata": {},
            "outputs": [],
            "source": [
                "matrix = uf.zscore(matrix)\n",
                "matrix.head()"
            ]
        },
        {
            "cell_type": "markdown",
            "metadata": {},
            "source": [
                "## Histogram of First Sample"
            ]
        },
        {
            "cell_type": "code",
            "execution_count": null,
            "metadata": {},
            "outputs": [],
            "source": [
                "matrix.iloc[:, 0].hist(bins=100)"
            ]
        },
        {
            "cell_type": "markdown",
            "metadata": {},
            "source": [
                "## Histogram of First Gene"
            ]
        },
        {
            "cell_type": "code",
            "execution_count": null,
            "metadata": {},
            "outputs": [],
            "source": [
                "matrix.iloc[0, :].hist(bins=100)"
            ]
        },
        {
            "cell_type": "markdown",
            "metadata": {},
            "source": [
                "## Save Filtered Matrix"
            ]
        },
        {
            "cell_type": "code",
            "execution_count": null,
            "metadata": {},
            "outputs": [],
            "source": [
                "uf.save_data(matrix, path, output_name + '_matrix_filtered', \n",
                "            ext='tsv', compression='gzip')"
            ]
        },
        {
            "cell_type": "markdown",
            "metadata": {},
            "source": [
                "# Analyze Data"
            ]
        },
        {
            "cell_type": "markdown",
            "metadata": {},
            "source": [
                "## Create Gene List"
            ]
        },
        {
            "cell_type": "code",
            "execution_count": null,
            "metadata": {},
            "outputs": [],
            "source": [
                "gene_list = uf.gene_list(matrix, geneid_lookup)\n",
                "gene_list.head()"
            ]
        },
        {
            "cell_type": "code",
            "execution_count": null,
            "metadata": {},
            "outputs": [],
            "source": [
                "gene_list.shape"
            ]
        },
        {
            "cell_type": "code",
            "execution_count": null,
            "metadata": {},
            "outputs": [],
            "source": [
                "uf.save_data(gene_list, path, output_name + '_gene_list',\n",
                "            ext='tsv', compression='gzip', index=False)"
            ]
        },
        {
            "cell_type": "markdown",
            "metadata": {},
            "source": [
                "## Create Attribute List"
            ]
        },
        {
            "cell_type": "code",
            "execution_count": null,
            "metadata": {},
            "outputs": [],
            "source": [
                "%%appyter code_exec\n",
                "\n",
                "if '{{attribute}}' == 'Sample':\n",
                "    attribute_list = uf.attribute_list(matrix, sample_meta)\n",
                "else:\n",
                "    attribute_list = uf.attribute_list(matrix)"
            ]
        },
        {
            "cell_type": "code",
            "execution_count": null,
            "metadata": {},
            "outputs": [],
            "source": [
                "attribute_list.head()"
            ]
        },
        {
            "cell_type": "code",
            "execution_count": null,
            "metadata": {},
            "outputs": [],
            "source": [
                "attribute_list.shape"
            ]
        },
        {
            "cell_type": "code",
            "execution_count": null,
            "metadata": {},
            "outputs": [],
            "source": [
                "uf.save_data(attribute_list, path, output_name + '_attribute_list',\n",
                "            ext='tsv', compression='gzip')"
            ]
        },
        {
            "cell_type": "markdown",
            "metadata": {},
            "source": [
                "## Create matrix of Standardized values (values between -1, and 1)"
            ]
        },
        {
            "cell_type": "code",
            "execution_count": null,
            "metadata": {},
            "outputs": [],
            "source": [
                "standard_matrix = uf.standardized_matrix(matrix)\n",
                "standard_matrix.head()"
            ]
        },
        {
            "cell_type": "code",
            "execution_count": null,
            "metadata": {},
            "outputs": [],
            "source": [
                "uf.save_data(standard_matrix, path, output_name + '_standard_matrix',\n",
                "            ext='tsv', compression='gzip')"
            ]
        },
        {
            "cell_type": "markdown",
            "metadata": {},
            "source": [
                "## Plot of A Single Celltype, Normalized Value vs. Standardized Value"
            ]
        },
        {
            "cell_type": "code",
            "execution_count": null,
            "metadata": {},
            "outputs": [],
            "source": [
                "plt.plot(matrix[matrix.columns[0]],\n",
                "         standard_matrix[standard_matrix.columns[0]], 'bo')\n",
                "plt.xlabel('Normalized Values')\n",
                "plt.ylabel('Standardized Values')\n",
                "plt.title(standard_matrix.columns[0])\n",
                "plt.grid(True)"
            ]
        },
        {
            "cell_type": "markdown",
            "metadata": {},
            "source": [
                "## Create Ternary Matrix"
            ]
        },
        {
            "cell_type": "code",
            "execution_count": null,
            "metadata": {},
            "outputs": [],
            "source": [
                "ternary_matrix = uf.ternary_matrix(standard_matrix)\n",
                "ternary_matrix.head()"
            ]
        },
        {
            "cell_type": "code",
            "execution_count": null,
            "metadata": {},
            "outputs": [],
            "source": [
                "uf.save_data(ternary_matrix, path, output_name + '_ternary_matrix',\n",
                "            ext='tsv', compression='gzip')"
            ]
        },
        {
            "cell_type": "markdown",
            "metadata": {},
            "source": [
                "## Create Gene and Attribute Set Libraries"
            ]
        },
        {
            "cell_type": "code",
            "execution_count": null,
            "metadata": {},
            "outputs": [],
            "source": [
                "uf.save_setlib(ternary_matrix, 'gene', 'up', path, output_name + '_gene_up_set')"
            ]
        },
        {
            "cell_type": "code",
            "execution_count": null,
            "metadata": {},
            "outputs": [],
            "source": [
                "uf.save_setlib(ternary_matrix, 'gene', 'down', path, output_name + '_gene_down_set')"
            ]
        },
        {
            "cell_type": "code",
            "execution_count": null,
            "metadata": {},
            "outputs": [],
            "source": [
                "uf.save_setlib(ternary_matrix, 'attribute', 'up', path, \n",
                "                           output_name + '_attribute_up_set')"
            ]
        },
        {
            "cell_type": "code",
            "execution_count": null,
            "metadata": {},
            "outputs": [],
            "source": [
                "uf.save_setlib(ternary_matrix, 'attribute', 'down', path, \n",
                "                             output_name + '_attribute_down_set')"
            ]
        },
        {
            "cell_type": "markdown",
            "metadata": {},
            "source": [
                "## Create Attribute Similarity Matrix"
            ]
        },
        {
            "cell_type": "code",
            "execution_count": null,
            "metadata": {},
            "outputs": [],
            "source": [
                "attribute_similarity_matrix = uf.similarity_matrix(standard_matrix.T, 'cosine')\n",
                "attribute_similarity_matrix.head()"
            ]
        },
        {
            "cell_type": "code",
            "execution_count": null,
            "metadata": {},
            "outputs": [],
            "source": [
                "uf.save_data(attribute_similarity_matrix, path,\n",
                "            output_name + '_attribute_similarity_matrix', \n",
                "            compression='npz', symmetric=True, dtype=np.float32)"
            ]
        },
        {
            "cell_type": "markdown",
            "metadata": {},
            "source": [
                "## Create Gene Similarity Matrix"
            ]
        },
        {
            "cell_type": "code",
            "execution_count": null,
            "metadata": {},
            "outputs": [],
            "source": [
                "gene_similarity_matrix = uf.similarity_matrix(standard_matrix, 'cosine')\n",
                "gene_similarity_matrix.head()"
            ]
        },
        {
            "cell_type": "code",
            "execution_count": null,
            "metadata": {},
            "outputs": [],
            "source": [
                "uf.save_data(gene_similarity_matrix, path, \n",
                "            output_name + '_gene_similarity_matrix',\n",
                "            compression='npz', symmetric=True, dtype=np.float32)"
            ]
        },
        {
            "cell_type": "markdown",
            "metadata": {},
            "source": [
                "## Create Gene-Attribute Edge List"
            ]
        },
        {
            "cell_type": "code",
            "execution_count": null,
            "metadata": {},
            "outputs": [],
            "source": [
                "edge_list = uf.edge_list(standard_matrix)\n",
                "uf.save_data(edge_list, path, output_name + '_edge_list', \n",
                "        ext='tsv', compression='gzip')"
            ]
        },
        {
            "cell_type": "markdown",
            "metadata": {},
            "source": [
                "# Create Downloadable Save File"
            ]
        },
        {
            "cell_type": "code",
            "execution_count": null,
            "metadata": {},
            "outputs": [],
            "source": [
                "uf.archive(path)"
            ]
        },
        {
            "cell_type": "markdown",
            "metadata": {},
            "source": [
                "### Link to download output files: [click here](./output_archive.zip)"
            ]
        }
    ],
    "metadata": {
        "kernelspec": {
            "display_name": "Python 3.8.0 64-bit ('harmonizome': venv)",
            "name": "python38064bitharmonizomevenve1fd62c035f347dbaffce382c9034785"
        },
        "language_info": {
            "codemirror_mode": {
                "name": "ipython",
                "version": 3
            },
            "file_extension": ".py",
            "mimetype": "text/x-python",
            "name": "python",
            "nbconvert_exporter": "python",
            "pygments_lexer": "ipython3",
            "version": "3.8.0-final"
        },
        "orig_nbformat": 2
    },
    "nbformat": 4,
    "nbformat_minor": 2
}