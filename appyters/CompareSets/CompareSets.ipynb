{
 "cells": [
  {
   "cell_type": "code",
   "execution_count": 8,
   "metadata": {},
   "outputs": [],
   "source": [
    "#%%appyter init\n",
    "from appyter import magic\n",
    "magic.init(lambda _=globals: _())"
   ]
  },
  {
   "cell_type": "markdown",
   "metadata": {},
   "source": [
    "# Compare Sets Appyter\n",
    "#### This appyter creates a Venn diagram to visualize the intersections between 2-6 user-inputted gene sets. The user has a choice whether to uplaod a tsv file with the desired genes or to insert the genes into text boxes. "
   ]
  },
  {
   "cell_type": "code",
   "execution_count": 9,
   "metadata": {},
   "outputs": [],
   "source": [
    "# Imports\n",
    "## Venn Diagram\n",
    "from venn import venn, pseudovenn\n",
    "\n",
    "## Data Processing\n",
    "import csv\n",
    "\n",
    "## Link to Enrichr\n",
    "import requests\n",
    "import json\n",
    "import time\n",
    "from IPython.display import display, FileLink, Markdown\n",
    "\n",
    
    "%matplotlib inline"
   ]
  },
  {
   "cell_type": "code",
   "execution_count": 10,
   "metadata": {},
   "outputs": [],
   "source": [
    "%%appyter hide_code\n",
    "{% do SectionField(name='section0', title='Compare Gene Sets', subtitle='Create a venn diagram to compare your inputted gene sets', img = 'venndiagram.png') %}\n",
    "{% do SectionField(name='section1', title='1. Submit Your Gene Lists', subtitle = 'Upload text files containing your gene list -OR- copy and paste your gene list into each text box below (One gene per row).', img = 'bulb.png') %}\n"
   ]
  },
  {
   "cell_type": "markdown",
   "metadata": {},
   "source": [
    "## Input Gene Lists"
   ]
  },
  {
   "cell_type": "code",
   "execution_count": 11,
   "metadata": {},
   "outputs": [
    {
     "output_type": "display_data",
     "data": {
      "text/plain": "<IPython.core.display.Markdown object>",
      "text/markdown": "```python\ngs1 = ''\ngs2 = ''\ngs3 = ''\ngs4 = ''\ngs5 = ''\ngs6 = ''\ngs1Text = '''TRPV1\nOPRM1\nTRPA1\nCOMT\nSCN9A\nTNF\nIL6\nIL1B\nCRP\nBDNF\nNGF\nSLC6A4\nMEFV\nTRPM8\nTRPV4\nCALCA\nNTRK1\nTLR4\nASIC3\nSCN10A\nMMP9\nCNR1\nIL10\nCCL2\nTNNT2\nNPPB\nPTGS2\nCYP2D6\nP2RX3\nTACR1'''\ngs2Text = '''TNF\nTRPV1\nCRP\nFOS\nPTGS2\nNGF\nTRPA1\nBDNF\nCD34\nPOMC\nIVD\nIL10\nACE\nCASP3\nCCL2\nTLR4\nGFAP\nTRPM8\nIL6\nCD68\nKIT\nOPRM1\nSCN9A\nCYP2D6\nCOMT\nCEACAM5\nGDNF\nNPY\nPTH\nTRPV4'''\ngs3Text = '''OPRD1\nTRPV1\nTRPA1\nSCN9A\nOPRM1\nTRPM8\nTACR1\nOPRK1\nTAC1\nSCN3B\nKCNS1\nTRPV3\nTRPV4\nCACNA1B\nCACNA2D2\nSCN11A\nNTRK1\nPENK\nSCN1B\nOPRL1\nPDYN\nTRPV2\nHTR3C\nHTR3A\nCOMT\nP2RX3\nTRPM5\nDRD2\nNGFR\nFAAH\nASIC3\nPNOC\nHTR3B\nTRPM4\nCACNA2D3\nBDKRB1\nASIC4\nHTR2A\nKCNC2\nCHRM4\nTRPM3\nHTR3E\nCACNG2\nCHRNA7\nSCN10A'''\ngs4Text = ''''''\ngs5Text = ''''''\ngs6Text = ''''''\n```"
     },
     "metadata": {}
    }
   ],
   "source": [
    "%%appyter code_exec\n",
    "\n",
    "gs1 = {{ FileField(name = 'gs1', label = 'Gene Set 1 File', default = '', section = 'section1') }}\n",
    "gs2 = {{ FileField(name = 'gs2', label = 'Gene Set 2 File', default = '', section = 'section1') }}\n",
    "gs3 = {{ FileField(name = 'gs3', label = 'Gene Set 3 File', default = '', section = 'section1') }}\n",
    "gs4 = {{ FileField(name = 'gs4', label = 'Gene Set 4 File', default = '', section = 'section1') }}\n",
    "gs5 = {{ FileField(name = 'gs5', label = 'Gene Set 5 File', default = '', section = 'section1') }}\n",
    "gs6 = {{ FileField(name = 'gs6', label = 'Gene Set 6 File', default = '', section = 'section1') }}\n",
    "\n",
    "\n",
    "gs1Text = {{ TextField(name = 'gs1Text', label = 'Gene Set 1', default = '''TRPV1\n",
    "OPRM1\n",
    "TRPA1\n",
    "COMT\n",
    "SCN9A\n",
    "TNF\n",
    "IL6\n",
    "IL1B\n",
    "CRP\n",
    "BDNF\n",
    "NGF\n",
    "SLC6A4\n",
    "MEFV\n",
    "TRPM8\n",
    "TRPV4\n",
    "CALCA\n",
    "NTRK1\n",
    "TLR4\n",
    "ASIC3\n",
    "SCN10A\n",
    "MMP9\n",
    "CNR1\n",
    "IL10\n",
    "CCL2\n",
    "TNNT2\n",
    "NPPB\n",
    "PTGS2\n",
    "CYP2D6\n",
    "P2RX3\n",
    "TACR1''', section = 'section1') }}\n",
    "gs2Text = {{ TextField(name = 'gs2Text', label = 'Gene Set 2', default = '''TNF\n",
    "TRPV1\n",
    "CRP\n",
    "FOS\n",
    "PTGS2\n",
    "NGF\n",
    "TRPA1\n",
    "BDNF\n",
    "CD34\n",
    "POMC\n",
    "IVD\n",
    "IL10\n",
    "ACE\n",
    "CASP3\n",
    "CCL2\n",
    "TLR4\n",
    "GFAP\n",
    "TRPM8\n",
    "IL6\n",
    "CD68\n",
    "KIT\n",
    "OPRM1\n",
    "SCN9A\n",
    "CYP2D6\n",
    "COMT\n",
    "CEACAM5\n",
    "GDNF\n",
    "NPY\n",
    "PTH\n",
    "TRPV4''', section = 'section1') }}\n",
    "gs3Text = {{ TextField(name = 'gs3Text', label = 'Gene Set 3', default = '''OPRD1\n",
    "TRPV1\n",
    "TRPA1\n",
    "SCN9A\n",
    "OPRM1\n",
    "TRPM8\n",
    "TACR1\n",
    "OPRK1\n",
    "TAC1\n",
    "SCN3B\n",
    "KCNS1\n",
    "TRPV3\n",
    "TRPV4\n",
    "CACNA1B\n",
    "CACNA2D2\n",
    "SCN11A\n",
    "NTRK1\n",
    "PENK\n",
    "SCN1B\n",
    "OPRL1\n",
    "PDYN\n",
    "TRPV2\n",
    "HTR3C\n",
    "HTR3A\n",
    "COMT\n",
    "P2RX3\n",
    "TRPM5\n",
    "DRD2\n",
    "NGFR\n",
    "FAAH\n",
    "ASIC3\n",
    "PNOC\n",
    "HTR3B\n",
    "TRPM4\n",
    "CACNA2D3\n",
    "BDKRB1\n",
    "ASIC4\n",
    "HTR2A\n",
    "KCNC2\n",
    "CHRM4\n",
    "TRPM3\n",
    "HTR3E\n",
    "CACNG2\n",
    "CHRNA7\n",
    "SCN10A''', section = 'section1') }}\n",
    "gs4Text = {{ TextField(name = 'gs4Text', label = 'Gene Set 4', default = '', section = 'section1') }}\n",
    "gs5Text = {{ TextField(name = 'gs5Text', label = 'Gene Set 5', default = '', section = 'section1') }}\n",
    "gs6Text = {{ TextField(name = 'gs6Text', label = 'Gene Set 6', default = '', section = 'section1') }}"
   ]
  },
  {
   "cell_type": "markdown",
   "metadata": {},
   "source": [
    "## Convert Inputs into Lists"
   ]
  },
  {
   "cell_type": "code",
   "execution_count": 12,
   "metadata": {},
   "outputs": [
    {
     "output_type": "display_data",
     "data": {
      "text/plain": "<IPython.core.display.Markdown object>",
      "text/markdown": "```python\n# Helper functions to conver the file upload or text input into gene lists\ndef file_to_list(str):\n    l1 = []\n    tsv_file = open(str)\n    read_tsv = csv.reader(tsv_file, delimiter = '\\t')\n    for row in read_tsv:\n        l1.append(row[0])\n    tsv_file.close()\n    return l1\ndef text_to_list(str):\n    l1 = str.splitlines()\n    return l1\n```"
     },
     "metadata": {}
    }
   ],
   "source": [
    "%%appyter code_exec\n",
    "# Helper functions to conver the file upload or text input into gene lists\n",
    "def file_to_list(str):\n",
    "    l1 = []\n",
    "    tsv_file = open(str)\n",
    "    read_tsv = csv.reader(tsv_file, delimiter = '\\t')\n",
    "\n",
    "    for row in read_tsv:\n",
    "        l1.append(row[0])\n",
    "\n",
    "    tsv_file.close()\n",
    "    return l1\n",
    "\n",
    "def text_to_list(str):\n",
    "    l1 = str.splitlines()\n",
    "    return l1\n"
   ]
  },
  {
   "cell_type": "code",
   "execution_count": 13,
   "metadata": {},
   "outputs": [],
   "source": [
    "# Add the appropriate gene lists to the dictionary\n",
    "\n",
    "gsdict = {}\n",
    "\n",
    "if gs1 != '':\n",
    "    l1 = file_to_list(gs1)\n",
    "    gsdict[\"Gene Set 1\"] = set(l1)\n",
    "\n",
    "elif gs1Text != '''''':\n",
    "    l1 = text_to_list(gs1Text)\n",
    "    gsdict[\"Gene Set 1\"] = set(l1)\n",
    "\n",
    "if gs2 != '':\n",
    "    l2 = file_to_list(gs2)\n",
    "    gsdict[\"Gene Set 2\"] = set(l2)\n",
    "\n",
    "elif gs2Text != '''''':\n",
    "    l2 = text_to_list(gs2Text)\n",
    "    gsdict[\"Gene Set 2\"] = set(l2)\n",
    "\n",
    "if gs3 != '':\n",
    "    l3 = file_to_list(gs3)\n",
    "    gsdict[\"Gene Set 3\"] = set(l3)\n",
    "\n",
    "elif gs3Text != '''''':\n",
    "    l3 = text_to_list(gs3Text)\n",
    "    gsdict[\"Gene Set 3\"] = set(l3)\n",
    "\n",
    "if gs4 != '':\n",
    "    l4 = file_to_list(gs4)\n",
    "    gsdict[\"Gene Set 4\"] = set(l4)\n",
    "\n",
    "elif gs4Text != '''''':\n",
    "    l4 = text_to_list(gs4Text)\n",
    "    gsdict[\"Gene Set 4\"] = set(l4)\n",
    "\n",
    "if gs5 != '':\n",
    "    l5 = file_to_list(gs5)\n",
    "    gsdict[\"Gene Set 5\"] = set(l5)\n",
    "\n",
    "elif gs5Text != '''''':\n",
    "    l5 = text_to_list(gs5Text)\n",
    "    gsdict[\"Gene Set 5\"] = set(l5)\n",
    "\n",
    "if gs6 != '':\n",
    "    l6 = file_to_list(gs6)\n",
    "    gsdict[\"Gene Set 6\"] = set(l6)\n",
    "\n",
    "elif gs6Text != '''''':\n",
    "    l6 = text_to_list(gs6Text)\n",
    "    gsdict[\"Gene set 6\"] = set(l6)\n"
   ]
  },
  {
   "cell_type": "markdown",
   "metadata": {},
   "source": [
    "## Draw Venn Diagram"
   ]
  },
  {
   "cell_type": "code",
   "execution_count": 14,
   "metadata": {},
   "outputs": [
    {
     "output_type": "display_data",
     "data": {
      "text/plain": "<Figure size 576x576 with 1 Axes>",
      "image/svg+xml": "<?xml version=\"1.0\" encoding=\"utf-8\" standalone=\"no\"?>\n<!DOCTYPE svg PUBLIC \"-//W3C//DTD SVG 1.1//EN\"\n  \"http://www.w3.org/Graphics/SVG/1.1/DTD/svg11.dtd\">\n<!-- Created with matplotlib (https://matplotlib.org/) -->\n<svg height=\"449.28pt\" version=\"1.1\" viewBox=\"0 0 449.28 449.28\" width=\"449.28pt\" xmlns=\"http://www.w3.org/2000/svg\" xmlns:xlink=\"http://www.w3.org/1999/xlink\">\n <defs>\n  <style type=\"text/css\">\n*{stroke-linecap:butt;stroke-linejoin:round;}\n  </style>\n </defs>\n <g id=\"figure_1\">\n  <g id=\"patch_1\">\n   <path d=\"M 0 449.28 \nL 449.28 449.28 \nL 449.28 0 \nL 0 0 \nz\n\" style=\"fill:none;\"/>\n  </g>\n  <g id=\"axes_1\">\n   <g id=\"patch_2\">\n    <path clip-path=\"url(#p8e3da4731e)\" d=\"M 158.617309 270.895418 \nC 184.829019 270.895418 209.970694 260.481395 228.505172 241.946918 \nC 247.03965 223.41244 257.453673 198.270765 257.453673 172.059055 \nC 257.453673 145.847345 247.03965 120.705669 228.505172 102.171192 \nC 209.970694 83.636714 184.829019 73.222691 158.617309 73.222691 \nC 132.405599 73.222691 107.263924 83.636714 88.729446 102.171192 \nC 70.194968 120.705669 59.780945 145.847345 59.780945 172.059055 \nC 59.780945 198.270765 70.194968 223.41244 88.729446 241.946918 \nC 107.263924 260.481395 132.405599 270.895418 158.617309 270.895418 \nz\n\" style=\"fill:#440154;fill-opacity:0.4;stroke:#440154;stroke-linejoin:miter;stroke-opacity:0.7;\"/>\n   </g>\n   <g id=\"patch_3\">\n    <path clip-path=\"url(#p8e3da4731e)\" d=\"M 290.267345 270.895418 \nC 316.479055 270.895418 341.620731 260.481395 360.155208 241.946918 \nC 378.689686 223.41244 389.103709 198.270765 389.103709 172.059055 \nC 389.103709 145.847345 378.689686 120.705669 360.155208 102.171192 \nC 341.620731 83.636714 316.479055 73.222691 290.267345 73.222691 \nC 264.055635 73.222691 238.91396 83.636714 220.379482 102.171192 \nC 201.845005 120.705669 191.430982 145.847345 191.430982 172.059055 \nC 191.430982 198.270765 201.845005 223.41244 220.379482 241.946918 \nC 238.91396 260.481395 264.055635 270.895418 290.267345 270.895418 \nz\n\" style=\"fill:#21918c;fill-opacity:0.4;stroke:#21918c;stroke-linejoin:miter;stroke-opacity:0.7;\"/>\n   </g>\n   <g id=\"patch_4\">\n    <path clip-path=\"url(#p8e3da4731e)\" d=\"M 224.64 398.592 \nC 250.85171 398.592 275.993385 388.177977 294.527863 369.643499 \nC 313.062341 351.109021 323.476364 325.967346 323.476364 299.755636 \nC 323.476364 273.543926 313.062341 248.402251 294.527863 229.867773 \nC 275.993385 211.333296 250.85171 200.919273 224.64 200.919273 \nC 198.42829 200.919273 173.286615 211.333296 154.752137 229.867773 \nC 136.217659 248.402251 125.803636 273.543926 125.803636 299.755636 \nC 125.803636 325.967346 136.217659 351.109021 154.752137 369.643499 \nC 173.286615 388.177977 198.42829 398.592 224.64 398.592 \nz\n\" style=\"fill:#fde725;fill-opacity:0.4;stroke:#fde725;stroke-linejoin:miter;stroke-opacity:0.7;\"/>\n   </g>\n   <g id=\"matplotlib.axis_1\"/>\n   <g id=\"matplotlib.axis_2\"/>\n   <g id=\"text_1\">\n    <!-- 33 -->\n    <defs>\n     <path d=\"M 40.578125 39.3125 \nQ 47.65625 37.796875 51.625 33 \nQ 55.609375 28.21875 55.609375 21.1875 \nQ 55.609375 10.40625 48.1875 4.484375 \nQ 40.765625 -1.421875 27.09375 -1.421875 \nQ 22.515625 -1.421875 17.65625 -0.515625 \nQ 12.796875 0.390625 7.625 2.203125 \nL 7.625 11.71875 \nQ 11.71875 9.328125 16.59375 8.109375 \nQ 21.484375 6.890625 26.8125 6.890625 \nQ 36.078125 6.890625 40.9375 10.546875 \nQ 45.796875 14.203125 45.796875 21.1875 \nQ 45.796875 27.640625 41.28125 31.265625 \nQ 36.765625 34.90625 28.71875 34.90625 \nL 20.21875 34.90625 \nL 20.21875 43.015625 \nL 29.109375 43.015625 \nQ 36.375 43.015625 40.234375 45.921875 \nQ 44.09375 48.828125 44.09375 54.296875 \nQ 44.09375 59.90625 40.109375 62.90625 \nQ 36.140625 65.921875 28.71875 65.921875 \nQ 24.65625 65.921875 20.015625 65.03125 \nQ 15.375 64.15625 9.8125 62.3125 \nL 9.8125 71.09375 \nQ 15.4375 72.65625 20.34375 73.4375 \nQ 25.25 74.21875 29.59375 74.21875 \nQ 40.828125 74.21875 47.359375 69.109375 \nQ 53.90625 64.015625 53.90625 55.328125 \nQ 53.90625 49.265625 50.4375 45.09375 \nQ 46.96875 40.921875 40.578125 39.3125 \nz\n\" id=\"DejaVuSans-51\"/>\n    </defs>\n    <g transform=\"translate(216.36875 319.156642)scale(0.13 -0.13)\">\n     <use xlink:href=\"#DejaVuSans-51\"/>\n     <use x=\"63.623047\" xlink:href=\"#DejaVuSans-51\"/>\n    </g>\n   </g>\n   <g id=\"text_2\">\n    <!-- 13 -->\n    <defs>\n     <path d=\"M 12.40625 8.296875 \nL 28.515625 8.296875 \nL 28.515625 63.921875 \nL 10.984375 60.40625 \nL 10.984375 69.390625 \nL 28.421875 72.90625 \nL 38.28125 72.90625 \nL 38.28125 8.296875 \nL 54.390625 8.296875 \nL 54.390625 0 \nL 12.40625 0 \nz\n\" id=\"DejaVuSans-49\"/>\n    </defs>\n    <g transform=\"translate(307.298205 168.925369)scale(0.13 -0.13)\">\n     <use xlink:href=\"#DejaVuSans-49\"/>\n     <use x=\"63.623047\" xlink:href=\"#DejaVuSans-51\"/>\n    </g>\n   </g>\n   <g id=\"text_3\">\n    <!-- 0 -->\n    <defs>\n     <path d=\"M 31.78125 66.40625 \nQ 24.171875 66.40625 20.328125 58.90625 \nQ 16.5 51.421875 16.5 36.375 \nQ 16.5 21.390625 20.328125 13.890625 \nQ 24.171875 6.390625 31.78125 6.390625 \nQ 39.453125 6.390625 43.28125 13.890625 \nQ 47.125 21.390625 47.125 36.375 \nQ 47.125 51.421875 43.28125 58.90625 \nQ 39.453125 66.40625 31.78125 66.40625 \nz\nM 31.78125 74.21875 \nQ 44.046875 74.21875 50.515625 64.515625 \nQ 56.984375 54.828125 56.984375 36.375 \nQ 56.984375 17.96875 50.515625 8.265625 \nQ 44.046875 -1.421875 31.78125 -1.421875 \nQ 19.53125 -1.421875 13.0625 8.265625 \nQ 6.59375 17.96875 6.59375 36.375 \nQ 6.59375 54.828125 13.0625 64.515625 \nQ 19.53125 74.21875 31.78125 74.21875 \nz\n\" id=\"DejaVuSans-48\"/>\n    </defs>\n    <g transform=\"translate(263.992375 244.041006)scale(0.13 -0.13)\">\n     <use xlink:href=\"#DejaVuSans-48\"/>\n    </g>\n   </g>\n   <g id=\"text_4\">\n    <!-- 8 -->\n    <defs>\n     <path d=\"M 31.78125 34.625 \nQ 24.75 34.625 20.71875 30.859375 \nQ 16.703125 27.09375 16.703125 20.515625 \nQ 16.703125 13.921875 20.71875 10.15625 \nQ 24.75 6.390625 31.78125 6.390625 \nQ 38.8125 6.390625 42.859375 10.171875 \nQ 46.921875 13.96875 46.921875 20.515625 \nQ 46.921875 27.09375 42.890625 30.859375 \nQ 38.875 34.625 31.78125 34.625 \nz\nM 21.921875 38.8125 \nQ 15.578125 40.375 12.03125 44.71875 \nQ 8.5 49.078125 8.5 55.328125 \nQ 8.5 64.0625 14.71875 69.140625 \nQ 20.953125 74.21875 31.78125 74.21875 \nQ 42.671875 74.21875 48.875 69.140625 \nQ 55.078125 64.0625 55.078125 55.328125 \nQ 55.078125 49.078125 51.53125 44.71875 \nQ 48 40.375 41.703125 38.8125 \nQ 48.828125 37.15625 52.796875 32.3125 \nQ 56.78125 27.484375 56.78125 20.515625 \nQ 56.78125 9.90625 50.3125 4.234375 \nQ 43.84375 -1.421875 31.78125 -1.421875 \nQ 19.734375 -1.421875 13.25 4.234375 \nQ 6.78125 9.90625 6.78125 20.515625 \nQ 6.78125 27.484375 10.78125 32.3125 \nQ 14.796875 37.15625 21.921875 38.8125 \nz\nM 18.3125 54.390625 \nQ 18.3125 48.734375 21.84375 45.5625 \nQ 25.390625 42.390625 31.78125 42.390625 \nQ 38.140625 42.390625 41.71875 45.5625 \nQ 45.3125 48.734375 45.3125 54.390625 \nQ 45.3125 60.0625 41.71875 63.234375 \nQ 38.140625 66.40625 31.78125 66.40625 \nQ 25.390625 66.40625 21.84375 63.234375 \nQ 18.3125 60.0625 18.3125 54.390625 \nz\n\" id=\"DejaVuSans-56\"/>\n    </defs>\n    <g transform=\"translate(129.57492 168.925369)scale(0.13 -0.13)\">\n     <use xlink:href=\"#DejaVuSans-56\"/>\n    </g>\n   </g>\n   <g id=\"text_5\">\n    <!-- 5 -->\n    <defs>\n     <path d=\"M 10.796875 72.90625 \nL 49.515625 72.90625 \nL 49.515625 64.59375 \nL 19.828125 64.59375 \nL 19.828125 46.734375 \nQ 21.96875 47.46875 24.109375 47.828125 \nQ 26.265625 48.1875 28.421875 48.1875 \nQ 40.625 48.1875 47.75 41.5 \nQ 54.890625 34.8125 54.890625 23.390625 \nQ 54.890625 11.625 47.5625 5.09375 \nQ 40.234375 -1.421875 26.90625 -1.421875 \nQ 22.3125 -1.421875 17.546875 -0.640625 \nQ 12.796875 0.140625 7.71875 1.703125 \nL 7.71875 11.625 \nQ 12.109375 9.234375 16.796875 8.0625 \nQ 21.484375 6.890625 26.703125 6.890625 \nQ 35.15625 6.890625 40.078125 11.328125 \nQ 45.015625 15.765625 45.015625 23.390625 \nQ 45.015625 31 40.078125 35.4375 \nQ 35.15625 39.890625 26.703125 39.890625 \nQ 22.75 39.890625 18.8125 39.015625 \nQ 14.890625 38.140625 10.796875 36.28125 \nz\n\" id=\"DejaVuSans-53\"/>\n    </defs>\n    <g transform=\"translate(177.016375 244.041006)scale(0.13 -0.13)\">\n     <use xlink:href=\"#DejaVuSans-53\"/>\n    </g>\n   </g>\n   <g id=\"text_6\">\n    <!-- 10 -->\n    <g transform=\"translate(216.36875 168.925369)scale(0.13 -0.13)\">\n     <use xlink:href=\"#DejaVuSans-49\"/>\n     <use x=\"63.623047\" xlink:href=\"#DejaVuSans-48\"/>\n    </g>\n   </g>\n   <g id=\"text_7\">\n    <!-- 7 -->\n    <defs>\n     <path d=\"M 8.203125 72.90625 \nL 55.078125 72.90625 \nL 55.078125 68.703125 \nL 28.609375 0 \nL 18.3125 0 \nL 43.21875 64.59375 \nL 8.203125 64.59375 \nz\n\" id=\"DejaVuSans-55\"/>\n    </defs>\n    <g transform=\"translate(220.504375 225.064424)scale(0.13 -0.13)\">\n     <use xlink:href=\"#DejaVuSans-55\"/>\n    </g>\n   </g>\n   <g id=\"legend_1\">\n    <g id=\"patch_5\">\n     <path d=\"M 319.187344 74.844687 \nL 432.98 74.844687 \nQ 435.58 74.844687 435.58 72.244687 \nL 435.58 16.3 \nQ 435.58 13.7 432.98 13.7 \nL 319.187344 13.7 \nQ 316.587344 13.7 316.587344 16.3 \nL 316.587344 72.244687 \nQ 316.587344 74.844687 319.187344 74.844687 \nz\n\" style=\"fill:#ffffff;opacity:0.8;stroke:#cccccc;stroke-linejoin:miter;\"/>\n    </g>\n    <g id=\"patch_6\">\n     <path d=\"M 321.787344 28.777969 \nL 347.787344 28.777969 \nL 347.787344 19.677969 \nL 321.787344 19.677969 \nz\n\" style=\"fill:#440154;fill-opacity:0.4;stroke:#440154;stroke-linejoin:miter;stroke-opacity:0.7;\"/>\n    </g>\n    <g id=\"text_8\">\n     <!-- Gene Set 1 -->\n     <defs>\n      <path d=\"M 59.515625 10.40625 \nL 59.515625 29.984375 \nL 43.40625 29.984375 \nL 43.40625 38.09375 \nL 69.28125 38.09375 \nL 69.28125 6.78125 \nQ 63.578125 2.734375 56.6875 0.65625 \nQ 49.8125 -1.421875 42 -1.421875 \nQ 24.90625 -1.421875 15.25 8.5625 \nQ 5.609375 18.5625 5.609375 36.375 \nQ 5.609375 54.25 15.25 64.234375 \nQ 24.90625 74.21875 42 74.21875 \nQ 49.125 74.21875 55.546875 72.453125 \nQ 61.96875 70.703125 67.390625 67.28125 \nL 67.390625 56.78125 \nQ 61.921875 61.421875 55.765625 63.765625 \nQ 49.609375 66.109375 42.828125 66.109375 \nQ 29.4375 66.109375 22.71875 58.640625 \nQ 16.015625 51.171875 16.015625 36.375 \nQ 16.015625 21.625 22.71875 14.15625 \nQ 29.4375 6.6875 42.828125 6.6875 \nQ 48.046875 6.6875 52.140625 7.59375 \nQ 56.25 8.5 59.515625 10.40625 \nz\n\" id=\"DejaVuSans-71\"/>\n      <path d=\"M 56.203125 29.59375 \nL 56.203125 25.203125 \nL 14.890625 25.203125 \nQ 15.484375 15.921875 20.484375 11.0625 \nQ 25.484375 6.203125 34.421875 6.203125 \nQ 39.59375 6.203125 44.453125 7.46875 \nQ 49.3125 8.734375 54.109375 11.28125 \nL 54.109375 2.78125 \nQ 49.265625 0.734375 44.1875 -0.34375 \nQ 39.109375 -1.421875 33.890625 -1.421875 \nQ 20.796875 -1.421875 13.15625 6.1875 \nQ 5.515625 13.8125 5.515625 26.8125 \nQ 5.515625 40.234375 12.765625 48.109375 \nQ 20.015625 56 32.328125 56 \nQ 43.359375 56 49.78125 48.890625 \nQ 56.203125 41.796875 56.203125 29.59375 \nz\nM 47.21875 32.234375 \nQ 47.125 39.59375 43.09375 43.984375 \nQ 39.0625 48.390625 32.421875 48.390625 \nQ 24.90625 48.390625 20.390625 44.140625 \nQ 15.875 39.890625 15.1875 32.171875 \nz\n\" id=\"DejaVuSans-101\"/>\n      <path d=\"M 54.890625 33.015625 \nL 54.890625 0 \nL 45.90625 0 \nL 45.90625 32.71875 \nQ 45.90625 40.484375 42.875 44.328125 \nQ 39.84375 48.1875 33.796875 48.1875 \nQ 26.515625 48.1875 22.3125 43.546875 \nQ 18.109375 38.921875 18.109375 30.90625 \nL 18.109375 0 \nL 9.078125 0 \nL 9.078125 54.6875 \nL 18.109375 54.6875 \nL 18.109375 46.1875 \nQ 21.34375 51.125 25.703125 53.5625 \nQ 30.078125 56 35.796875 56 \nQ 45.21875 56 50.046875 50.171875 \nQ 54.890625 44.34375 54.890625 33.015625 \nz\n\" id=\"DejaVuSans-110\"/>\n      <path id=\"DejaVuSans-32\"/>\n      <path d=\"M 53.515625 70.515625 \nL 53.515625 60.890625 \nQ 47.90625 63.578125 42.921875 64.890625 \nQ 37.9375 66.21875 33.296875 66.21875 \nQ 25.25 66.21875 20.875 63.09375 \nQ 16.5 59.96875 16.5 54.203125 \nQ 16.5 49.359375 19.40625 46.890625 \nQ 22.3125 44.4375 30.421875 42.921875 \nL 36.375 41.703125 \nQ 47.40625 39.59375 52.65625 34.296875 \nQ 57.90625 29 57.90625 20.125 \nQ 57.90625 9.515625 50.796875 4.046875 \nQ 43.703125 -1.421875 29.984375 -1.421875 \nQ 24.8125 -1.421875 18.96875 -0.25 \nQ 13.140625 0.921875 6.890625 3.21875 \nL 6.890625 13.375 \nQ 12.890625 10.015625 18.65625 8.296875 \nQ 24.421875 6.59375 29.984375 6.59375 \nQ 38.421875 6.59375 43.015625 9.90625 \nQ 47.609375 13.234375 47.609375 19.390625 \nQ 47.609375 24.75 44.3125 27.78125 \nQ 41.015625 30.8125 33.5 32.328125 \nL 27.484375 33.5 \nQ 16.453125 35.6875 11.515625 40.375 \nQ 6.59375 45.0625 6.59375 53.421875 \nQ 6.59375 63.09375 13.40625 68.65625 \nQ 20.21875 74.21875 32.171875 74.21875 \nQ 37.3125 74.21875 42.625 73.28125 \nQ 47.953125 72.359375 53.515625 70.515625 \nz\n\" id=\"DejaVuSans-83\"/>\n      <path d=\"M 18.3125 70.21875 \nL 18.3125 54.6875 \nL 36.8125 54.6875 \nL 36.8125 47.703125 \nL 18.3125 47.703125 \nL 18.3125 18.015625 \nQ 18.3125 11.328125 20.140625 9.421875 \nQ 21.96875 7.515625 27.59375 7.515625 \nL 36.8125 7.515625 \nL 36.8125 0 \nL 27.59375 0 \nQ 17.1875 0 13.234375 3.875 \nQ 9.28125 7.765625 9.28125 18.015625 \nL 9.28125 47.703125 \nL 2.6875 47.703125 \nL 2.6875 54.6875 \nL 9.28125 54.6875 \nL 9.28125 70.21875 \nz\n\" id=\"DejaVuSans-116\"/>\n     </defs>\n     <g transform=\"translate(358.187344 28.777969)scale(0.13 -0.13)\">\n      <use xlink:href=\"#DejaVuSans-71\"/>\n      <use x=\"77.490234\" xlink:href=\"#DejaVuSans-101\"/>\n      <use x=\"139.013672\" xlink:href=\"#DejaVuSans-110\"/>\n      <use x=\"202.392578\" xlink:href=\"#DejaVuSans-101\"/>\n      <use x=\"263.916016\" xlink:href=\"#DejaVuSans-32\"/>\n      <use x=\"295.703125\" xlink:href=\"#DejaVuSans-83\"/>\n      <use x=\"359.179688\" xlink:href=\"#DejaVuSans-101\"/>\n      <use x=\"420.703125\" xlink:href=\"#DejaVuSans-116\"/>\n      <use x=\"459.912109\" xlink:href=\"#DejaVuSans-32\"/>\n      <use x=\"491.699219\" xlink:href=\"#DejaVuSans-49\"/>\n     </g>\n    </g>\n    <g id=\"patch_7\">\n     <path d=\"M 321.787344 47.859531 \nL 347.787344 47.859531 \nL 347.787344 38.759531 \nL 321.787344 38.759531 \nz\n\" style=\"fill:#21918c;fill-opacity:0.4;stroke:#21918c;stroke-linejoin:miter;stroke-opacity:0.7;\"/>\n    </g>\n    <g id=\"text_9\">\n     <!-- Gene Set 2 -->\n     <defs>\n      <path d=\"M 19.1875 8.296875 \nL 53.609375 8.296875 \nL 53.609375 0 \nL 7.328125 0 \nL 7.328125 8.296875 \nQ 12.9375 14.109375 22.625 23.890625 \nQ 32.328125 33.6875 34.8125 36.53125 \nQ 39.546875 41.84375 41.421875 45.53125 \nQ 43.3125 49.21875 43.3125 52.78125 \nQ 43.3125 58.59375 39.234375 62.25 \nQ 35.15625 65.921875 28.609375 65.921875 \nQ 23.96875 65.921875 18.8125 64.3125 \nQ 13.671875 62.703125 7.8125 59.421875 \nL 7.8125 69.390625 \nQ 13.765625 71.78125 18.9375 73 \nQ 24.125 74.21875 28.421875 74.21875 \nQ 39.75 74.21875 46.484375 68.546875 \nQ 53.21875 62.890625 53.21875 53.421875 \nQ 53.21875 48.921875 51.53125 44.890625 \nQ 49.859375 40.875 45.40625 35.40625 \nQ 44.1875 33.984375 37.640625 27.21875 \nQ 31.109375 20.453125 19.1875 8.296875 \nz\n\" id=\"DejaVuSans-50\"/>\n     </defs>\n     <g transform=\"translate(358.187344 47.859531)scale(0.13 -0.13)\">\n      <use xlink:href=\"#DejaVuSans-71\"/>\n      <use x=\"77.490234\" xlink:href=\"#DejaVuSans-101\"/>\n      <use x=\"139.013672\" xlink:href=\"#DejaVuSans-110\"/>\n      <use x=\"202.392578\" xlink:href=\"#DejaVuSans-101\"/>\n      <use x=\"263.916016\" xlink:href=\"#DejaVuSans-32\"/>\n      <use x=\"295.703125\" xlink:href=\"#DejaVuSans-83\"/>\n      <use x=\"359.179688\" xlink:href=\"#DejaVuSans-101\"/>\n      <use x=\"420.703125\" xlink:href=\"#DejaVuSans-116\"/>\n      <use x=\"459.912109\" xlink:href=\"#DejaVuSans-32\"/>\n      <use x=\"491.699219\" xlink:href=\"#DejaVuSans-50\"/>\n     </g>\n    </g>\n    <g id=\"patch_8\">\n     <path d=\"M 321.787344 66.941094 \nL 347.787344 66.941094 \nL 347.787344 57.841094 \nL 321.787344 57.841094 \nz\n\" style=\"fill:#fde725;fill-opacity:0.4;stroke:#fde725;stroke-linejoin:miter;stroke-opacity:0.7;\"/>\n    </g>\n    <g id=\"text_10\">\n     <!-- Gene Set 3 -->\n     <g transform=\"translate(358.187344 66.941094)scale(0.13 -0.13)\">\n      <use xlink:href=\"#DejaVuSans-71\"/>\n      <use x=\"77.490234\" xlink:href=\"#DejaVuSans-101\"/>\n      <use x=\"139.013672\" xlink:href=\"#DejaVuSans-110\"/>\n      <use x=\"202.392578\" xlink:href=\"#DejaVuSans-101\"/>\n      <use x=\"263.916016\" xlink:href=\"#DejaVuSans-32\"/>\n      <use x=\"295.703125\" xlink:href=\"#DejaVuSans-83\"/>\n      <use x=\"359.179688\" xlink:href=\"#DejaVuSans-101\"/>\n      <use x=\"420.703125\" xlink:href=\"#DejaVuSans-116\"/>\n      <use x=\"459.912109\" xlink:href=\"#DejaVuSans-32\"/>\n      <use x=\"491.699219\" xlink:href=\"#DejaVuSans-51\"/>\n     </g>\n    </g>\n   </g>\n  </g>\n </g>\n <defs>\n  <clipPath id=\"p8e3da4731e\">\n   <rect height=\"434.88\" width=\"434.88\" x=\"7.2\" y=\"7.2\"/>\n  </clipPath>\n </defs>\n</svg>\n",
      "image/png": "[encoded data removed]"
     },
     "metadata": {}
    }
   ],
   "source": [
    "# Generate the venn diagram\n",
    "venn(gsdict)\n",
    "\n",
    "if len(gsdict) == 6:\n",
    "    pseudovenn(gsdict)"
   ]
  }
 ],
 "metadata": {
  "kernelspec": {
   "display_name": "my-first-appyter",
   "language": "python",
   "name": "my-first-appyter"
  },
  "language_info": {
   "codemirror_mode": {
    "name": "ipython",
    "version": 3
   },
   "file_extension": ".py",
   "mimetype": "text/x-python",
   "name": "python",
   "nbconvert_exporter": "python",
   "pygments_lexer": "ipython3",
   "version": "3.8.3-final"
  }
 },
 "nbformat": 4,
 "nbformat_minor": 4
}
