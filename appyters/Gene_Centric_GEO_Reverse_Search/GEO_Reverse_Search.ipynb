{
 "cells": [
  {
   "cell_type": "code",
   "execution_count": null,
   "metadata": {},
   "outputs": [],
   "source": [
    "#%%appyter init\n",
    "from appyter import magic\n",
    "magic.init(lambda _=globals: _())"
   ]
  },
  {
   "cell_type": "code",
   "execution_count": null,
   "metadata": {},
   "outputs": [],
   "source": [
    "# imports\n",
    "import numpy as np\n",
    "import pandas as pd\n",
    "import matplotlib.cm as cm\n",
    "import matplotlib.colors as colors\n",
    "from IPython.display import HTML\n",
    "import requests\n",
    "\n",
    "# bokeh\n",
    "from bokeh.io import output_notebook\n",
    "from bokeh.plotting import figure, show\n",
    "from bokeh.models import ColumnDataSource, HoverTool\n",
    "\n",
    "# display graphics\n",
    "output_notebook()"
   ]
  },
  {
   "cell_type": "code",
   "execution_count": null,
   "metadata": {},
   "outputs": [],
   "source": [
    "%%appyter hide\n",
    "{% do SectionField(\n",
    "    name = 'INPUT',\n",
    "    title = 'Input Parameters',\n",
    "    subtitle = 'Fill in the species and gene of interest',\n",
    "    img = 'volcano_plot_ex.png'\n",
    ")%}"
   ]
  },
  {
   "cell_type": "code",
   "execution_count": null,
   "metadata": {},
   "outputs": [],
   "source": [
    "%%appyter code_exec\n",
    "{% set species_input = TabField(\n",
    "    name = 'species_input',\n",
    "    label = 'Species of Interest',\n",
    "    default = 'Human',\n",
    "    description = 'Select the species of interest.',\n",
    "    section = 'INPUT',\n",
    "    choices = {\n",
    "        'Human': [\n",
    "            AutocompleteField(\n",
    "                name = 'human_gene',\n",
    "                label = 'Human Gene of Interest',\n",
    "                default = 'AKT1',\n",
    "                description = 'Enter the gene symbol of interest (human).',\n",
    "                file_path = 'https://appyters.maayanlab.cloud/storage/Gene_Centric_GEO_Reverse_Search/human_genes.json'\n",
    "            )\n",
    "        ],\n",
    "        'Mouse': [\n",
    "            AutocompleteField(\n",
    "                name = 'mouse_gene',\n",
    "                label = 'Mouse Gene of Interest',\n",
    "                default = 'Mthfr',\n",
    "                description = 'Enter the gene symbol of interest (mouse).',\n",
    "                file_path = 'https://appyters.maayanlab.cloud/storage/Gene_Centric_GEO_Reverse_Search/mouse_genes.json'\n",
    "            )\n",
    "        ]\n",
    "    }\n",
    ")%}"
   ]
  },
  {
   "cell_type": "code",
   "execution_count": null,
   "metadata": {},
   "outputs": [],
   "source": [
    "%%appyter code_exec\n",
    "species = {{ species_input.value[0][\"args\"][\"name\"].split(\"_\")[0]|jsonify }}\n",
    "gene = {{ species_input.value[0] }}"
   ]
  },
  {
   "cell_type": "markdown",
   "metadata": {},
   "source": [
    "# Gene Centric GEO Reverse Search"
   ]
  },
  {
   "cell_type": "code",
   "execution_count": null,
   "metadata": {},
   "outputs": [],
   "source": [
    "# import preprocessed signature data\n",
    "root_path = 'https://appyters.maayanlab.cloud/storage/Gene_Centric_GEO_Reverse_Search'\n",
    "\n",
    "pval_df_input = pd.read_feather(f\"{root_path}/{species}_pval.f\", columns=['index', gene]).set_index('index')\n",
    "adjpval_df_input = pd.read_feather(f\"{root_path}/{species}_adjpval.f\", columns=['index', gene]).set_index('index')\n",
    "fc_df_input = pd.read_feather(f\"{root_path}/{species}_fc.f\", columns=['index', gene]).set_index('index')\n",
    "umap_df_input = pd.read_csv(f\"{root_path}/{species}_umap.tsv\", sep='\\t', index_col=0)\n",
    "score_df_input = pd.read_feather(f\"{root_path}/all_{species}_score.f\").set_index('index')"
   ]
  },
  {
   "cell_type": "code",
   "execution_count": null,
   "metadata": {},
   "outputs": [],
   "source": [
    "# configure color scheme\n",
    "red_map = cm.get_cmap('Reds_r')\n",
    "red_norm = colors.Normalize(vmin=-0.5, vmax=1)\n",
    "blue_map = cm.get_cmap('Blues_r')\n",
    "blue_norm = colors.Normalize(vmin=-0.5, vmax=1)\n",
    "\n",
    "def map_color(fc, pv):\n",
    "    if fc < 0:\n",
    "        return colors.to_hex(red_map(red_norm(pv)))\n",
    "    elif fc == 0:\n",
    "        return '#808080'\n",
    "    else:\n",
    "        return colors.to_hex(blue_map(blue_norm(pv)))"
   ]
  },
  {
   "cell_type": "code",
   "execution_count": null,
   "metadata": {},
   "outputs": [],
   "source": [
    "def combine_data(pval_df, adjpval_df, fc_df, umap_df, score_df, gene):\n",
    "    # extract and combine data for each gene\n",
    "    comb_df = pd.concat([\n",
    "        score_df.T, \n",
    "        pval_df.rename(columns={gene: 'pval'}),\n",
    "        adjpval_df.rename(columns={gene: 'adjpval'}),\n",
    "        fc_df.rename(columns={gene:'fc'}),\n",
    "        umap_df\n",
    "    ], axis=1)\n",
    "    comb_df = comb_df.reset_index().rename(columns={'index': 'sig'})\n",
    "    comb_df['logpv'] = np.negative(np.log10(comb_df['pval']))\n",
    "    return comb_df\n",
    "\n",
    "def make_plot(comb_df, species, gene):\n",
    "    # set color and size for each point on plot\n",
    "    plot_colors = [map_color(r.fc, r.pval) for r in comb_df.itertuples()]\n",
    "    sizes = [12 if r.pval < 0.05 else 6 for r in comb_df.itertuples()]\n",
    "\n",
    "    # generate data source\n",
    "    data_source = ColumnDataSource(\n",
    "        data=dict(\n",
    "            x = comb_df['fc'],\n",
    "            y = comb_df['logpv'],\n",
    "            sig = comb_df['sig'],\n",
    "            score = comb_df['score'],\n",
    "            pval = comb_df['pval'],\n",
    "            adjpval = comb_df['adjpval'],\n",
    "            fc = comb_df['fc'], \n",
    "            colors = plot_colors, \n",
    "            sizes = sizes\n",
    "        )\n",
    "    )\n",
    "    # create hover tooltip\n",
    "    tools = [\n",
    "        (\"Signature\", \"@sig\"),\n",
    "        (\"Score\", \"@score\"),\n",
    "        (\"P-Value\", \"@pval\"),\n",
    "        (\"Adj P-Value\", \"@adjpval\"),\n",
    "        (\"Fold Change\", \"@fc\")\n",
    "    ]\n",
    "    # generate plot and relevant plot labels\n",
    "    plot = figure(\n",
    "        plot_width=700,\n",
    "        plot_height=500,\n",
    "        tooltips=tools\n",
    "    )\n",
    "    plot.circle(\n",
    "        'x', 'y', \n",
    "        size='sizes',\n",
    "        alpha=0.7, \n",
    "        line_alpha=0,\n",
    "        line_width=0.01, \n",
    "        source=data_source,\n",
    "        fill_color='colors', \n",
    "        name=f'{gene}_expression_volcano_plot'\n",
    "    )\n",
    "    plot.xaxis.axis_label = 'log2(Fold Change)'\n",
    "    plot.yaxis.axis_label = '-log10(P-value)'\n",
    "    plot.title.text = f\"Differential Expression of {gene} in {species.capitalize()} Signatures\"\n",
    "    plot.title.align = 'center'\n",
    "    plot.title.text_font_size = '14px'\n",
    "    plot.min_border_top = 75\n",
    "\n",
    "    show(plot)"
   ]
  },
  {
   "cell_type": "markdown",
   "metadata": {},
   "source": [
    "## Primary Species Search\n",
    "\n",
    "The volcano plot below positions signatures according to the gene-specific fold change (x-position) and -log(p-value) (y-position). Signatures were computed using the R package [limma](https://bioconductor.org/packages/release/bioc/html/limma.html). Fold changes are quantile-normalized log2 fold change values. \n",
    "\n",
    "**Red** points indicate signatures where the fold change of the chosen gene was < 0, **blue** points indicate fold change > 0, and **gray** points indicate fold change == 0. Signatures where the specified gene was significantly expressed in either direction are denoted by darker color and larger point size. \n",
    "\n",
    "Signature names are of the form \"{study name} {GSE number}\\_{signature number}\". \n",
    "\n",
    "Score indicates the confidence in the accuracy of the signature, calculated by tallying the number of extrapolations made when calculating said signature (eg labelling a sample as a control or perturbation group, and the direction of expression), with **lower scores indicating higher confidence in quality** (a score of 0 indicates highest confidence, and a score of 3 indicates lowest confidence).\n",
    "\n",
    "Hover over any point to display the corresponding signature name, score, the p-value, the adjusted p-value, and the fold change.\n",
    "\n",
    "Use the toolbar on the right side of the plot to pan, zoom, or save the plot."
   ]
  },
  {
   "cell_type": "code",
   "execution_count": null,
   "metadata": {},
   "outputs": [],
   "source": [
    "comb_df_input = combine_data(pval_df_input, adjpval_df_input, fc_df_input, umap_df_input, score_df_input, gene)\n",
    "make_plot(comb_df_input, species, gene)"
   ]
  },
  {
   "cell_type": "code",
   "execution_count": null,
   "metadata": {},
   "outputs": [],
   "source": [
    "# get GEO links \n",
    "def geo_link(sig_name, clickable):\n",
    "    gse_id = sig_name.split()[-1].split(\"_\")[0]\n",
    "    geo_path = 'https://www.ncbi.nlm.nih.gov/geo/query/acc.cgi?acc='\n",
    "    if clickable:\n",
    "        return f'<a target=\"_blank\" href=\"{geo_path}{gse_id}\">{gse_id}</a>'\n",
    "    else:\n",
    "        return f'{geo_path}{gse_id}'\n",
    "\n",
    "# create tables of significant results with links to GEO \n",
    "def make_tables(comb_df, is_upreg):\n",
    "    dir_df = comb_df[comb_df['fc'] > 0] if is_upreg else comb_df[comb_df['fc'] < 0]\n",
    "    dir_df = dir_df.drop(columns=['logpv', 'UMAP-1', 'UMAP-2']).sort_values(by='pval', ascending=True)\n",
    "    dir_df['sig'] = dir_df.apply(lambda row: f\"* {row.sig}\" if row.pval < 0.05 else row.sig, axis=1)\n",
    "    dir_df['pval'] = dir_df['pval'].apply(lambda x: f'{x:.3e}')\n",
    "    dir_df['adjpval'] = dir_df['adjpval'].apply(lambda x: f'{x:.3e}')\n",
    "    dir_df['fc'] = dir_df['fc'].apply(lambda x: f'{x:.4f}')\n",
    "    dir_df = dir_df.rename(columns={'sig': 'Signature',\n",
    "                                    'score': 'Score',\n",
    "                                    'pval': 'P-value', \n",
    "                                    'adjpval': 'Adj P-value', \n",
    "                                    'fc': 'Log2 Fold Change'})\n",
    "    dir_df['Link to GEO Study'] = dir_df['Signature'].apply(geo_link, clickable=True)\n",
    "    return dir_df\n",
    "\n",
    "# create download link for table results\n",
    "def download_link(df, fname):\n",
    "    df['Link to GEO Study'] = df['Link to GEO Study'].apply(\n",
    "        lambda x: x.split('href=')[1].split('>')[0].replace('\"', '')\n",
    "    )\n",
    "    df['Signature'] = df['Signature'].apply(lambda x: x.replace('* ', ''))\n",
    "    csv = df.to_csv(fname, sep='\\t', index=False)\n",
    "    link = f'<div>Download full results: <a href=\"{fname}\" target=_blank>{fname}</a></div>'\n",
    "    return link"
   ]
  },
  {
   "cell_type": "markdown",
   "metadata": {},
   "source": [
    "The tables below show the top 10 signatures in which the gene of interest was up-regulated or down-regulated, respectively. Links are included to the original GEO studies, and the table is available for download as a tsv file."
   ]
  },
  {
   "cell_type": "code",
   "execution_count": null,
   "metadata": {},
   "outputs": [],
   "source": [
    "try:\n",
    "    up_comb_df_input = make_tables(comb_df_input, is_upreg=True)\n",
    "    \n",
    "    display(HTML(\n",
    "        f'<div style=\"font-size:1rem;padding=1rem;\"><b>\\\n",
    "        Top 10 {species.capitalize()} signatures where \\\n",
    "        {gene} is up-regulated\\\n",
    "        </b></div>'\n",
    "    ))\n",
    "    display(HTML(f'<div>Asterisk (*) denotes significance (p < 0.05)</div>'))\n",
    "    display(HTML(up_comb_df_input[:10].to_html(escape=False,index=False,col_space=70)))\n",
    "    display(HTML(download_link(up_comb_df_input, f'{gene}_upreg_expression_{species}_signatures.tsv')))\n",
    "except:\n",
    "    display(HTML(\n",
    "        f'<div>\\\n",
    "        No signatures were found where {gene} is up-regulated.\\\n",
    "        </div>'\n",
    "    ))"
   ]
  },
  {
   "cell_type": "code",
   "execution_count": null,
   "metadata": {},
   "outputs": [],
   "source": [
    "try:\n",
    "    dn_comb_df_input = make_tables(comb_df_input, is_upreg=False)\n",
    "    \n",
    "    display(HTML(\n",
    "        f'<div style=\"font-size:1rem;padding=1rem;\"><b>\\\n",
    "        Top 10 {species.capitalize()} signatures where \\\n",
    "        {gene} is down-regulated\\\n",
    "        </b></div>'\n",
    "    ))\n",
    "    display(HTML(f'<div>Asterisk (*) denotes significance (p < 0.05)</div>'))\n",
    "    display(HTML(dn_comb_df_input[:10].to_html(escape=False,index=False,col_space=70)))\n",
    "    display(HTML(download_link(dn_comb_df_input, f'{gene}_downreg_expression_{species}_signatures.tsv')))\n",
    "except:\n",
    "    display(HTML(\n",
    "        f'<div>\\\n",
    "        No signatures were found where {gene} is down-regulated.\\\n",
    "        </div>'\n",
    "    ))"
   ]
  },
  {
   "cell_type": "markdown",
   "metadata": {},
   "source": [
    "## Primary Species UMAP Projection\n",
    "\n",
    "The first two UMAP components of each signature were pre-computed using the z-score normalized signature vectors, and are plotted below. Signatures where the input gene is significantly up-regulated (based on the adjusted p-value) are colored blue, while signatures where the input gene is significantly down-regulated are colored red. Gray signatures indicate signatures where the gene was not significantly differentially expressed."
   ]
  },
  {
   "cell_type": "code",
   "execution_count": null,
   "metadata": {},
   "outputs": [],
   "source": [
    "def map_colors(comb_df):\n",
    "    direction = []\n",
    "    col = []\n",
    "    for row in comb_df.itertuples():   \n",
    "        if row.fc > 0 and row.adjpval < 0.05: \n",
    "            col.append('blue')\n",
    "            direction.append('Up')\n",
    "        elif row.fc < 0 and row.adjpval < 0.05:\n",
    "            col.append('red')\n",
    "            direction.append('Down')\n",
    "        else:\n",
    "            col.append('lightgrey')\n",
    "            direction.append('--')\n",
    "    return col, direction\n",
    "\n",
    "def umap_plot(comb_df, species):\n",
    "    tooltips = [\n",
    "        (\"Sig\", \"@sig\"),\n",
    "        (\"P-val\", \"@pv\"),\n",
    "        (\"Adj P-val\", \"@apv\"),\n",
    "        (\"Direction\", \"@direction\")\n",
    "    ]\n",
    "    hover_emb = HoverTool(tooltips = tooltips)\n",
    "    tools_emb = [hover_emb, 'pan', 'wheel_zoom', 'reset', 'save']\n",
    "    plot = figure(\n",
    "        plot_width=700,\n",
    "        plot_height=700,\n",
    "        tools=tools_emb\n",
    "    )\n",
    "    col, direction = map_colors(comb_df)\n",
    "    source = ColumnDataSource(\n",
    "        data=dict(\n",
    "            x=comb_df['UMAP-1'],\n",
    "            y=comb_df['UMAP-2'],\n",
    "            sig=comb_df['sig'],\n",
    "            pv=comb_df['pval'],\n",
    "            apv=comb_df['adjpval'],\n",
    "            direction=direction,\n",
    "            color=col\n",
    "        )\n",
    "    )\n",
    "    plot.scatter(\n",
    "        'x', 'y',\n",
    "        source=source,\n",
    "        color='color',\n",
    "        fill_alpha=0.4,\n",
    "        line_alpha=0.4,\n",
    "        size=8\n",
    "    )\n",
    "\n",
    "    plot.xaxis.axis_label = 'UMAP-1'\n",
    "    plot.yaxis.axis_label = 'UMAP-2'\n",
    "    plot.title.text = f\"UMAP Projection of {species.capitalize()} Signatures\"\n",
    "    plot.title.align = 'center'\n",
    "    plot.title.text_font_size = '14px'\n",
    "    plot.min_border_top = 75\n",
    "\n",
    "    show(plot)"
   ]
  },
  {
   "cell_type": "code",
   "execution_count": null,
   "metadata": {},
   "outputs": [],
   "source": [
    "umap_plot(comb_df_input, species)"
   ]
  },
  {
   "cell_type": "markdown",
   "metadata": {},
   "source": [
    "## Alternate Species Search\n",
    "\n",
    "If the chosen gene overlaps between mouse and human species, the volcano plot, results tables, and UMAP plot will be generated below for signatures from the species not chosen in the input form. "
   ]
  },
  {
   "cell_type": "code",
   "execution_count": null,
   "metadata": {},
   "outputs": [],
   "source": [
    "# get all gene symbols and find overlapping genes\n",
    "human_genes = requests.get(f'{root_path}/human_genes.json').json()['human_genes']\n",
    "mouse_genes = requests.get(f'{root_path}/mouse_genes.json').json()['mouse_genes']\n",
    "# convert mouse_genes to uppercase\n",
    "mouse_genes_upper = [g.upper() for g in mouse_genes]\n",
    "overlapping_genes = list(set(human_genes).intersection(set(mouse_genes_upper)))"
   ]
  },
  {
   "cell_type": "code",
   "execution_count": null,
   "metadata": {},
   "outputs": [],
   "source": [
    "is_overlap = gene.upper() in overlapping_genes\n",
    "alt_species = 'mouse' if species == 'human' else 'human'\n",
    "alt_gene = gene.upper() if species == 'mouse' else gene.lower().capitalize()\n",
    "\n",
    "if is_overlap:\n",
    "    display(HTML(f'<div style=\"font-size:1rem;padding=1rem 0;\">\\\n",
    "    Corresponding gene in {alt_species.capitalize()}: <b>{alt_gene}</b>.</div>'))"
   ]
  },
  {
   "cell_type": "code",
   "execution_count": null,
   "metadata": {},
   "outputs": [],
   "source": [
    "if is_overlap:\n",
    "    pval_df_alt = pd.read_feather(f\"{root_path}/{alt_species}_pval.f\", columns=['index', alt_gene]).set_index('index')\n",
    "    adjpval_df_alt = pd.read_feather(f\"{root_path}/{alt_species}_adjpval.f\", columns=['index', alt_gene]).set_index('index')\n",
    "    fc_df_alt = pd.read_feather(f\"{root_path}/{alt_species}_fc.f\", columns=['index', alt_gene]).set_index('index')\n",
    "    umap_df_alt = pd.read_csv(f\"{root_path}/{alt_species}_umap.tsv\", sep='\\t', index_col=0)\n",
    "    score_df_alt = pd.read_feather(f\"{root_path}/all_{alt_species}_score.f\").set_index('index')\n",
    "\n",
    "    comb_df_alt = combine_data(pval_df_alt, adjpval_df_alt, fc_df_alt, umap_df_alt, score_df_alt, alt_gene)\n",
    "    make_plot(comb_df_alt, alt_species, alt_gene)"
   ]
  },
  {
   "cell_type": "code",
   "execution_count": null,
   "metadata": {},
   "outputs": [],
   "source": [
    "if is_overlap:\n",
    "    try:\n",
    "        up_comb_df_alt = make_tables(comb_df_alt, is_upreg=True)\n",
    "        \n",
    "        display(HTML(\n",
    "            f'<div style=\"font-size:1rem;padding=1rem 0;\"><b>\\\n",
    "            Top 10 {alt_species.capitalize()} signatures where {alt_gene} is up-regulated\\\n",
    "            </b></div>'\n",
    "        ))\n",
    "        display(HTML(f'<div>Asterisk (*) denotes significance (p < 0.05)</div>'))\n",
    "        display(HTML(up_comb_df_alt[:10].to_html(escape=False,index=False,col_space=70)))\n",
    "        display(HTML(download_link(up_comb_df_alt, f'{alt_gene}_upreg_expression_{alt_species}_signatures.tsv')))\n",
    "    except:\n",
    "        display(HTML(\n",
    "            f'<div>\\\n",
    "            No signatures were found where {alt_gene} is up-regulated.\\\n",
    "            </div>'\n",
    "        ))"
   ]
  },
  {
   "cell_type": "code",
   "execution_count": null,
   "metadata": {},
   "outputs": [],
   "source": [
    "if is_overlap:\n",
    "    try:\n",
    "        dn_comb_df_alt = make_tables(comb_df_alt, is_upreg=False)\n",
    "        \n",
    "        display(HTML(\n",
    "            f'<div style=\"font-size:1rem;padding=1rem 0;\"><b>\\\n",
    "            Top 10 {alt_species.capitalize()} signatures where {alt_gene} is down-regulated\\\n",
    "            </b></div>'\n",
    "        ))\n",
    "        display(HTML(f'<div>Asterisk (*) denotes significance (p < 0.05)</div>'))\n",
    "        display(HTML(dn_comb_df_alt[:10].to_html(escape=False,index=False,col_space=70)))\n",
    "        display(HTML(download_link(dn_comb_df_alt, f'{alt_gene}_downreg_expression_{alt_species}_signatures.tsv')))\n",
    "    except:\n",
    "        display(HTML(\n",
    "            f'<div>\\\n",
    "            No signatures were found where {alt_gene} is down-regulated.\\\n",
    "            </div>'\n",
    "        ))"
   ]
  },
  {
   "cell_type": "markdown",
   "metadata": {},
   "source": [
    "## Alternate Species UMAP Projection"
   ]
  },
  {
   "cell_type": "code",
   "execution_count": null,
   "metadata": {},
   "outputs": [],
   "source": [
    "umap_plot(comb_df_alt, alt_species)"
   ]
  },
  {
   "cell_type": "code",
   "execution_count": null,
   "metadata": {},
   "outputs": [],
   "source": [
    "if not is_overlap:\n",
    "    display(HTML(f'<div style=\"font-size:1rem;padding=1rem 0;\">Corresponding gene not found in {alt_species}.</div>'))"
   ]
  },
  {
   "cell_type": "code",
   "execution_count": null,
   "metadata": {},
   "outputs": [],
   "source": []
  }
 ],
 "metadata": {
  "interpreter": {
   "hash": "ae02de43a7a1893656bc45d2b0007624c64abadb1f146ae593b6588f2192c0f4"
  },
  "kernelspec": {
   "display_name": "Python 3.8.10 64-bit ('scatterenv': conda)",
   "name": "python3"
  },
  "language_info": {
   "codemirror_mode": {
    "name": "ipython",
    "version": 3
   },
   "file_extension": ".py",
   "mimetype": "text/x-python",
   "name": "python",
   "nbconvert_exporter": "python",
   "pygments_lexer": "ipython3",
   "version": "3.8.10"
  }
 },
 "nbformat": 4,
 "nbformat_minor": 2
}
