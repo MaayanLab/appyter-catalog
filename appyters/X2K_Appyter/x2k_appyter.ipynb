{
 "cells": [
  {
   "cell_type": "code",
   "execution_count": 442,
   "id": "4a8a5cf7",
   "metadata": {},
   "outputs": [],
   "source": [
    "#%%appyter init\n",
    "from appyter import magic\n",
    "magic.init(lambda _=globals: _())"
   ]
  },
  {
   "cell_type": "markdown",
   "id": "31fb5373",
   "metadata": {},
   "source": [
    "# X2K Appyter\n",
    "\n",
    "The X2K Appyter (Expression2Kinases) predicts upstream regulatory networks associated with user-inputted sets of genes. Discrete query gene sets are compared first to ChEA3 libraries of transcription factor target gene sets assembled from orthogonal 'omics' datasets. Afterwards, ChEA3 results are put through a protein-protein interaction database to determine the transcription factor intermediate protein interactors. Finally, protein interactors are compared to the KEA3 background database—which contains measured and predicted kinase-substrate interactions, kinase-protein interactions, and interactions supported by co-expression and co-occurrence data—to determine which kinases may be most closely associated with the transcription factor intermediate protein interactors. Overall, Expression2Kinases can provide a method of identifying upstream regulators likely responsible for observed patterns in genome-wide gene expression.\n"
   ]
  },
  {
   "cell_type": "code",
   "execution_count": 443,
   "id": "fc52c431",
   "metadata": {},
   "outputs": [],
   "source": [
    "# imports\n",
    "import json\n",
    "import requests\n",
    "import numpy as np\n",
    "import pandas as pd\n",
    "from time import sleep\n",
    "from tabulate import tabulate\n",
    "from observable_jupyter import embed\n",
    "from IPython.display import HTML, display, Image, FileLink, Markdown\n",
    "import plotly.graph_objects as go\n",
    "import kaleido\n",
    "import os"
   ]
  },
  {
   "cell_type": "code",
   "execution_count": 444,
   "id": "fb86bc70",
   "metadata": {},
   "outputs": [],
   "source": [
    "%%appyter hide_code \n",
    "\n",
    "{% do SectionField(\n",
    "    name = 'input',\n",
    "    title = 'Gene Set Upload',\n",
    "    subtitle = 'Upload a gene set you wish to analyze',\n",
    "    img = 'data_icon.png'\n",
    ")%}\n",
    "\n",
    "{% do SectionField(\n",
    "    name = 'analysis',\n",
    "    title = 'Analysis Filtering Options',\n",
    "    subtitle = 'Set thresholds for including top enriched transcription factors and kinases',\n",
    "    img = 'analysis.png'\n",
    ")%}"
   ]
  },
  {
   "cell_type": "code",
   "execution_count": 445,
   "id": "79ff40ac",
   "metadata": {},
   "outputs": [],
   "source": [
    "%%appyter hide_code \n",
    "\n",
    "{% set gene_input = TabField(\n",
    "    name = 'gene_input',\n",
    "    label = 'Gene Set Input',\n",
    "    default = 'Paste',\n",
    "    description = 'Input your gene set',\n",
    "    choices = {\n",
    "        'Paste': [\n",
    "            TextField(\n",
    "                name = 'paste_gene_input',\n",
    "                label = 'Input Gene Set',\n",
    "                default = 'KIAA0907\\nKDM5A\\nCDC25A\\nEGR1\\nGADD45B\\nRELB\\nTERF2IP\\nSMNDC1' +\n",
    "                '\\nTICAM1\\nNFKB2\\nRGS2\\nNCOA3\\nTEX10\\nARID4B\\nCHIC2\\nFBXO11\\nMTF2\\nCDK2' +\n",
    "                '\\nDNTTIP2\\nGADD45A\\nGOLT1B\\nPOLR2K\\nNFKBIE\\nGABPB1\\nECD\\nPHKG2\\nRAD9A\\nNET1' +\n",
    "                '\\nKIAA0753\\nEZH2\\nNRAS\\nATP6V0B\\nCDK7\\nCCNH\\nSENP6\\nTIPARP\\nFOS\\nARPP19' +\n",
    "                '\\nTFAP2A\\nKDM5B\\nNPC1\\nTP53BP2\\nNUSAP1\\nSCCPDH\\nKIF20A\\nFZD7\\nUSP22\\nPIP4K2B' +\n",
    "                '\\nCRYZ\\nGNB5\\nEIF4EBP1\\nPHGDH\\nRRAGA\\nSLC25A46\\nRPA1\\nHADH\\nDAG1\\nRPIA\\nP4HA2' +\n",
    "                '\\nMACF1\\nTMEM97\\nMPZL1\\nPSMG1\\nPLK1\\nSLC37A4\\nGLRX\\nCBR3\\nPRSS23\\nNUDCD3' +\n",
    "                '\\nCDC20\\nKIAA0528\\nNIPSNAP1\\nTRAM2\\nSTUB1\\nDERA\\nMTHFD2\\nBLVRA\\nIARS2\\nLIPA' +\n",
    "                '\\nPGM1\\nCNDP2\\nBNIP3\\nCTSL1\\nCDC25B\\nHSPA8\\nEPRS\\nPAX8\\nSACM1L\\nHOXA5\\nTLE1' +\n",
    "                '\\nPYGL\\nTUBB6\\nLOXL1',\n",
    "                description = 'Input your list of genes (one gene per row)',\n",
    "                section = 'input'\n",
    "            )\n",
    "        ],\n",
    "        'Upload': [\n",
    "            FileField(\n",
    "                name = 'upload_gene_input',\n",
    "                label = 'Upload File',\n",
    "                default = '',\n",
    "                description = 'Upload your lsit of genes as a text file (one gene per row)',\n",
    "                section = 'input'\n",
    "            )\n",
    "        ]\n",
    "    },\n",
    "    section = 'input'\n",
    ")%}"
   ]
  },
  {
   "cell_type": "code",
   "execution_count": 446,
   "id": "4654149f",
   "metadata": {},
   "outputs": [],
   "source": [
    "%%appyter hide_code\n",
    "\n",
    "{% set tf_filtering = TabField(\n",
    "    name = 'tf_filtering',\n",
    "    label = 'Transcription Factoring Filtering Method',\n",
    "    default = 'Rank Threshold',\n",
    "    description = 'Choose a method to filter the transcription factors by.',\n",
    "    choices = {\n",
    "        'Rank Threshold': [\n",
    "            IntField(\n",
    "                name = 'num_tfs',\n",
    "                label = 'Top ranked transcription factors to display',\n",
    "                description = 'Input the amount of top transcription factors you wish to be analyzed',\n",
    "                default = 10,\n",
    "                min = 1,\n",
    "                max = 30,\n",
    "                section = 'input'\n",
    "            )\n",
    "        ],\n",
    "        'Score Threshold': [\n",
    "            IntField(\n",
    "                name = 'tf_score_threshold',\n",
    "                label = 'Transcription Factor Score Threshold',\n",
    "                description = 'Only transcription factors with a score equal to or below this ' +\n",
    "                'threshold (lower score is better) will be considered significant and ' +\n",
    "                'will be included.',\n",
    "                default = 75,\n",
    "                min = 1,\n",
    "                max = 150,\n",
    "                section = 'input'\n",
    "            )\n",
    "        ]\n",
    "    },\n",
    "    section = 'analysis'\n",
    ")%}\n",
    "\n",
    "{% set kin_filtering = TabField(\n",
    "    name = 'kin_filtering',\n",
    "    label = 'Kinase Filtering Method',\n",
    "    default = 'Rank Threshold',\n",
    "    description = 'Choose a method to filter the kinases by.',\n",
    "    choices = {\n",
    "        'Rank Threshold': [\n",
    "            IntField(\n",
    "                name = 'num_kins',\n",
    "                label = 'Top ranked kinases to display',\n",
    "                description = 'Input the amount of top kinases you wish to be analyzed',\n",
    "                default = 10,\n",
    "                min = 1,\n",
    "                max = 30,\n",
    "                section = 'analysis'\n",
    "            )\n",
    "        ],\n",
    "        'Score Threshold': [\n",
    "            IntField(\n",
    "                name = 'kin_score_threshold',\n",
    "                label = 'Kinase Score Threshold',\n",
    "                description = 'Only kinases with a score equal to or below this ' +\n",
    "                'threshold (lower score is better) will be considered significant and ' +\n",
    "                'will be included.',\n",
    "                default = 75,\n",
    "                min = 1,\n",
    "                max = 150,\n",
    "                section = 'analysis'\n",
    "            )\n",
    "        ]\n",
    "    },\n",
    "    section = 'analysis'\n",
    ")%}"
   ]
  },
  {
   "cell_type": "code",
   "execution_count": 447,
   "id": "b5008d59",
   "metadata": {},
   "outputs": [],
   "source": [
    "### Might want to make this an input field? Where you can choose among a variety of databases?\n",
    "#{% set ppi_dataset = ChoiceField(\n",
    "    #name = 'ppi_dataset', \n",
    "    #label = 'Protein-Protein Interaction Database', \n",
    "    #choices = {'PCA': 'PCA', 'UMAP': 'UMAP', 't-SNE': 't-SNE'},\n",
    "    #default = 'BioGrid', \n",
    "    #description = 'Select a protein-protein interaction database to be used in analysis.', \n",
    "    #section = 'input')\n",
    "#%}"
   ]
  },
  {
   "cell_type": "code",
   "execution_count": 448,
   "id": "7e1356ea",
   "metadata": {},
   "outputs": [],
   "source": [
    "# Function to call the ChEA3 API\n",
    "def get_chea3_results(gene_set, query_name):\n",
    "    ADDLIST_URL = 'https://amp.pharm.mssm.edu/chea3/api/enrich/'\n",
    "    payload = {\n",
    "        'gene_set': gene_set,\n",
    "        'query_name': query_name\n",
    "    }\n",
    "    response = requests.post(ADDLIST_URL, data=json.dumps(payload))\n",
    "    if not response.ok: \n",
    "        # r.ok (where r is the object) returns whether the call to the url was successful\n",
    "        raise Exception('Error analyzing gene list')\n",
    "    sleep(1)\n",
    "    return json.loads(response.text) # .text returns the content of response in unicode\n",
    "\n",
    "def get_kea3_results(gene_set, query_name):\n",
    "    ADDLIST_URL = 'https://maayanlab.cloud/kea3/api/enrich/'\n",
    "    payload = {\n",
    "        'gene_set': gene_set,\n",
    "        'query_name': query_name\n",
    "    }\n",
    "\n",
    "    response = requests.post(ADDLIST_URL, data=json.dumps(payload))\n",
    "    if not response.ok:\n",
    "        raise Exception('Error analyzing gene list')\n",
    "    sleep(1)\n",
    "\n",
    "    return json.loads(response.text)\n",
    "\n",
    "def indexfinder(lib_score_list, value):\n",
    "    index = 1\n",
    "    for num in lib_score_list:\n",
    "        if num == value:\n",
    "            return index\n",
    "        elif num != 0:\n",
    "            index += 1"
   ]
  },
  {
   "cell_type": "code",
   "execution_count": 449,
   "id": "8f7c6e7c",
   "metadata": {},
   "outputs": [
    {
     "data": {
      "text/markdown": [
       "```python\n",
       "# this cell extracts the gene list, whether it was pasted in, or uploaded as a file # for if the gene list was pasted in\n",
       "geneset = '''KIAA0907\n",
       "KDM5A\n",
       "CDC25A\n",
       "EGR1\n",
       "GADD45B\n",
       "RELB\n",
       "TERF2IP\n",
       "SMNDC1\n",
       "TICAM1\n",
       "NFKB2\n",
       "RGS2\n",
       "NCOA3\n",
       "TEX10\n",
       "ARID4B\n",
       "CHIC2\n",
       "FBXO11\n",
       "MTF2\n",
       "CDK2\n",
       "DNTTIP2\n",
       "GADD45A\n",
       "GOLT1B\n",
       "POLR2K\n",
       "NFKBIE\n",
       "GABPB1\n",
       "ECD\n",
       "PHKG2\n",
       "RAD9A\n",
       "NET1\n",
       "KIAA0753\n",
       "EZH2\n",
       "NRAS\n",
       "ATP6V0B\n",
       "CDK7\n",
       "CCNH\n",
       "SENP6\n",
       "TIPARP\n",
       "FOS\n",
       "ARPP19\n",
       "TFAP2A\n",
       "KDM5B\n",
       "NPC1\n",
       "TP53BP2\n",
       "NUSAP1\n",
       "SCCPDH\n",
       "KIF20A\n",
       "FZD7\n",
       "USP22\n",
       "PIP4K2B\n",
       "CRYZ\n",
       "GNB5\n",
       "EIF4EBP1\n",
       "PHGDH\n",
       "RRAGA\n",
       "SLC25A46\n",
       "RPA1\n",
       "HADH\n",
       "DAG1\n",
       "RPIA\n",
       "P4HA2\n",
       "MACF1\n",
       "TMEM97\n",
       "MPZL1\n",
       "PSMG1\n",
       "PLK1\n",
       "SLC37A4\n",
       "GLRX\n",
       "CBR3\n",
       "PRSS23\n",
       "NUDCD3\n",
       "CDC20\n",
       "KIAA0528\n",
       "NIPSNAP1\n",
       "TRAM2\n",
       "STUB1\n",
       "DERA\n",
       "MTHFD2\n",
       "BLVRA\n",
       "IARS2\n",
       "LIPA\n",
       "PGM1\n",
       "CNDP2\n",
       "BNIP3\n",
       "CTSL1\n",
       "CDC25B\n",
       "HSPA8\n",
       "EPRS\n",
       "PAX8\n",
       "SACM1L\n",
       "HOXA5\n",
       "TLE1\n",
       "PYGL\n",
       "TUBB6\n",
       "LOXL1'''\n",
       "num_tfs = 10\n",
       "num_kins = 10\n",
       "# also extracts the integer inputted for number of transcription factors to be returned\n",
       "threshold = 3\n",
       "```"
      ],
      "text/plain": [
       "<IPython.core.display.Markdown object>"
      ]
     },
     "metadata": {},
     "output_type": "display_data"
    }
   ],
   "source": [
    "%%appyter code_exec\n",
    "# this cell extracts the gene list, whether it was pasted in, or uploaded as a file\n",
    "\n",
    "{%- if gene_input.raw_value == 'Paste' %} # for if the gene list was pasted in\n",
    "geneset = {{ gene_input.value[0] }}\n",
    "{%- else %} # for if the gene list was uploaded as a file (only two options)\n",
    "geneset_filename = {{ gene_input.value[0] }}\n",
    "{%- endif %}\n",
    "\n",
    "{%- if tf_filtering.raw_value == 'Rank Threshold' %} \n",
    "num_tfs = {{ tf_filtering.value[0] }}\n",
    "{%- else %} # for if the gene list was uploaded as a file (only two options)\n",
    "tf_score_threshold = {{ tf_filtering.value[0] }}\n",
    "{%- endif %}\n",
    "\n",
    "{%- if kin_filtering.raw_value == 'Rank Threshold' %} \n",
    "num_kins = {{ kin_filtering.value[0] }}\n",
    "{%- else %} # for if the gene list was uploaded as a file (only two options)\n",
    "kin_score_threshold = {{ kin_filtering.value[0] }}\n",
    "{%- endif %}\n",
    "\n",
    "# also extracts the integer inputted for number of transcription factors to be returned\n",
    "\n",
    "threshold = 3"
   ]
  },
  {
   "cell_type": "code",
   "execution_count": 450,
   "id": "f4e2e78a",
   "metadata": {},
   "outputs": [
    {
     "data": {
      "text/markdown": [
       "```python\n",
       "# This cell parses the gene list input into an organized python list\n",
       "# (when we extracted the gene list, it was still in a text file format, not a python list)\n",
       "genes = geneset.split('\\n')\n",
       "genes = [x.strip() for x in genes]\n",
       "```"
      ],
      "text/plain": [
       "<IPython.core.display.Markdown object>"
      ]
     },
     "metadata": {},
     "output_type": "display_data"
    }
   ],
   "source": [
    "%%appyter code_exec \n",
    "\n",
    "# This cell parses the gene list input into an organized python list \n",
    "# (when we extracted the gene list, it was still in a text file format, not a python list)\n",
    "\n",
    "{%- if gene_input.raw_value == 'Paste' %} \n",
    "genes = geneset.split('\\n')\n",
    "genes = [x.strip() for x in genes]\n",
    "{%- else %}\n",
    "open_gene_input = open(geneset_filename, 'r')\n",
    "lines = open_gene_input.readlines()\n",
    "genes = [x.strip() for x in lines]\n",
    "open_gene_input.close()\n",
    "{%- endif %}"
   ]
  },
  {
   "cell_type": "code",
   "execution_count": 451,
   "id": "9e436c04",
   "metadata": {},
   "outputs": [],
   "source": [
    "###### getting results from the ChEA3 API ######\n",
    "chea3results = get_chea3_results(genes, 'query')\n",
    "\n",
    "# so to clarify, \"genes\" are the user inputted genes (from the input page)\n",
    "# \"results\" is the list of transcription factors that is returned by the ChEA3 API in \n",
    "# response to the inputted genes"
   ]
  },
  {
   "cell_type": "code",
   "execution_count": 452,
   "id": "d4012a1a",
   "metadata": {},
   "outputs": [],
   "source": [
    "###### Read in the PPI Database being used ######\n",
    "\n",
    "ppi_url = 'https://appyters.maayanlab.cloud/storage/X2K_Appyter/BioGrid-6-23-21.csv'\n",
    "ppi = pd.read_csv(ppi_url)\n",
    "# this will need to be updated in the future so that the appyter works for people who\n",
    "# don't already have this BioGrid file on their local machine"
   ]
  },
  {
   "cell_type": "code",
   "execution_count": 453,
   "id": "d1abbc0d",
   "metadata": {},
   "outputs": [],
   "source": [
    "###### Database Processing ######\n",
    "\n",
    "# This is only needed if the incoming database has no direction (TF could be in either column\n",
    "# 1 or column 2, same for their interactors). Normally, I assume column 1 is ALWAYS the TF\n",
    "# and column 2 is ALWAYS the interactor of the TF, but I'm not sure if I can assume that. \n",
    "# The code below sorts a \"directionless\" dataframe so that TFs are ALWAYs in column 1 and \n",
    "# their interactors are always in column 2\n",
    "\n",
    "#print(ppi.shape)\n",
    "#ppi_addition = pd.DataFrame({'Gene_A':ppi.Gene_B, \n",
    "                             #'Gene_B':ppi.Gene_A})\n",
    "\n",
    "#updated_ppi = pd.concat([ppi,ppi_addition], ignore_index=True)\n",
    "\n",
    "#print(updated_ppi.shape)\n",
    "#print(updated_ppi.drop_duplicates().shape)\n",
    "\n",
    "#updated_ppi.shape[0] - updated_ppi.drop_duplicates().shape[0]\n",
    "# shows that there were 3213 unique interactions with \"direction\"\n",
    "\n",
    "#updated_ppi['check'] = updated_ppi.apply(lambda row: ''.join(sorted([row['Gene_A'], \n",
    "                                                                     #row['Gene_B']])), \n",
    "                                 #axis = 1)\n",
    "\n",
    "#pupdated_ppi = updated_ppi.drop_duplicates('check').loc[:,['Gene_A', 'Gene_B']]\n",
    "\n",
    "#print(updated_ppi.shape)\n",
    "#print(pupdated_ppi.shape)"
   ]
  },
  {
   "cell_type": "code",
   "execution_count": 454,
   "id": "ef111c61",
   "metadata": {},
   "outputs": [],
   "source": [
    "mr_chea3results = chea3results['Integrated--meanRank']\n",
    "\n",
    "chea3libs_sorted = ['ARCHS4 Coexpression','ENCODE ChIP-seq','Enrichr Queries',\n",
    "                    'GTEx Coexpression','Literature ChIP-seq','ReMap ChIP-seq']\n",
    "\n",
    "for i in range(len(mr_chea3results)):\n",
    "    for lib in chea3libs_sorted:\n",
    "        mr_chea3results[i].update({lib:0})\n",
    "        \n",
    "for i in range(len(mr_chea3results)):\n",
    "    thing = mr_chea3results[i]['Library'].split(';')\n",
    "    for a in range(len(thing)):\n",
    "        library, value = thing[a].split(',')\n",
    "        mr_chea3results[i].update({library:int(value)})"
   ]
  },
  {
   "cell_type": "code",
   "execution_count": 455,
   "id": "05b67e95",
   "metadata": {},
   "outputs": [],
   "source": [
    "sortedARCHS4 = sorted(mr_chea3results, key = lambda k: k['ARCHS4 Coexpression'])\n",
    "sortedGTEx = sorted(mr_chea3results, key = lambda k: k['GTEx Coexpression']) \n",
    "sortedEnrichr = sorted(mr_chea3results, key = lambda k: k['Enrichr Queries']) \n",
    "sortedENCODE = sorted(mr_chea3results, key = lambda k: k['ENCODE ChIP-seq']) \n",
    "sortedReMap = sorted(mr_chea3results, key = lambda k: k['ReMap ChIP-seq']) \n",
    "sortedLit = sorted(mr_chea3results, key = lambda k: k['Literature ChIP-seq']) \n",
    "\n",
    "rankedARCHS4 = [entry['ARCHS4 Coexpression'] for entry in sortedARCHS4]\n",
    "rankedENCODE = [entry['ENCODE ChIP-seq'] for entry in sortedENCODE]\n",
    "rankedEnrichr = [entry['Enrichr Queries'] for entry in sortedEnrichr] \n",
    "rankedGTEx = [entry['GTEx Coexpression'] for entry in sortedGTEx]\n",
    "rankedLit = [entry['Literature ChIP-seq'] for entry in sortedLit]\n",
    "rankedReMap = [entry['ReMap ChIP-seq'] for entry in sortedReMap] \n",
    "\n",
    "\n",
    "chea3ranking_dict = {'ARCHS4 Coexpression':rankedARCHS4,\n",
    "                     'ENCODE ChIP-seq':rankedENCODE,\n",
    "                     'Enrichr Queries':rankedEnrichr,\n",
    "                     'GTEx Coexpression':rankedGTEx,\n",
    "                     'Literature ChIP-seq':rankedLit,\n",
    "                     'ReMap ChIP-seq':rankedReMap}"
   ]
  },
  {
   "cell_type": "code",
   "execution_count": 456,
   "id": "bbd10efb",
   "metadata": {},
   "outputs": [],
   "source": [
    "for tfentry in mr_chea3results:\n",
    "    tfentry.update( [('SumRank', 0), ('AvgRank', 0) ])\n",
    "    library_scores = tfentry['Library'].split(';')\n",
    "    lib_counter = 0\n",
    "    for a in library_scores:\n",
    "        l, v = a.split(',')\n",
    "        v = int(v)\n",
    "        scorerank = indexfinder(chea3ranking_dict[l], int(v))\n",
    "        tfentry['SumRank'] += int(scorerank)\n",
    "        lib_counter += 1\n",
    "    tfentry['AvgRank'] = (tfentry['SumRank'] / lib_counter)\n",
    "    \n",
    "sorted_chea3results = sorted(mr_chea3results, key = lambda k: k['AvgRank'])"
   ]
  },
  {
   "cell_type": "code",
   "execution_count": 457,
   "id": "bb2e0660",
   "metadata": {},
   "outputs": [],
   "source": [
    "try:\n",
    "    tf_score_threshold\n",
    "except NameError: \n",
    "    toptfs = []\n",
    "    tf_index = 0\n",
    "    while (len(toptfs) < num_tfs):\n",
    "        if len(sorted_chea3results[tf_index]['Library'].split(';')) >= threshold:\n",
    "            toptfs.append(sorted_chea3results[tf_index])\n",
    "        tf_index += 1\n",
    "else:\n",
    "    toptfs = [sorted_chea3results[i] for i in range(len(sorted_chea3results)) \\\n",
    "              if len(sorted_chea3results[i]['Library'].split(';')) >= threshold \\\n",
    "              if float(sorted_chea3results[i]['Score']) <= tf_score_threshold]\n",
    "#toptfs = [chea3_lib_results[i] for i in range(len(chea3_lib_results)) \\\n",
    "          #if float(chea3_lib_results[i]['Score']) <= score_threshold]\n",
    "# if a TFs score meets the threshold value, adds this TF (and its data) to the toptfs list\n",
    "\n",
    "toptfnames = [i['TF'] for i in toptfs]\n",
    "# makes a list of just the names of the top TFs"
   ]
  },
  {
   "cell_type": "code",
   "execution_count": 458,
   "id": "4d91c74c",
   "metadata": {},
   "outputs": [],
   "source": [
    "###### Setting up the PPI Dictionary ######\n",
    "\n",
    "# ppi_dict is a dictionary where the key is a tf, and the value is a list of all the possible\n",
    "# interactors of this tf (based on the ppi database)\n",
    "\n",
    "ppi_dict = {}\n",
    "\n",
    "for i in range(ppi.shape[0]):\n",
    "    ppi_dict.update({ppi.Gene_A[i]:[]})\n",
    "    \n",
    "for i in range(ppi.shape[0]):\n",
    "    ppi_dict[ppi.Gene_A[i]].append(ppi.Gene_B[i])"
   ]
  },
  {
   "cell_type": "markdown",
   "id": "68ca67e5",
   "metadata": {},
   "source": [
    "### Transcription Factors and Their Interactors"
   ]
  },
  {
   "cell_type": "code",
   "execution_count": 459,
   "id": "2a601ae2",
   "metadata": {},
   "outputs": [],
   "source": [
    "###### Makes a dictionary for the top tfs only ######\n",
    "\n",
    "# ppi_dict is a dictionary of the entire ppi databaes\n",
    "# top_dict is that same dictionary, but filtered to only include the tfs in toptfnames\n",
    "\n",
    "top_dict = {}\n",
    "\n",
    "for name in toptfnames:\n",
    "    if ppi_dict.get(name):\n",
    "        top_dict.update({name:ppi_dict.get(name)})\n",
    "    else:\n",
    "        top_dict.update({name: 'No known interactors'})"
   ]
  },
  {
   "cell_type": "code",
   "execution_count": 460,
   "id": "8decf89d",
   "metadata": {},
   "outputs": [],
   "source": [
    "###### Makes a list, top_tf_interactors ######\n",
    "\n",
    "# tf_interactors = list containing all the interactors per tf in toptfnames\n",
    "# top_tf_interactors = list containing all the interactors that are shared by at least 2 top tfs\n",
    "\n",
    "tf_interactors = [j for i in top_dict.values() if i != 'No known interactors' for j in i]\n",
    "\n",
    "top_tf_interactors = []\n",
    "\n",
    "for tf in tf_interactors:\n",
    "    count = 0\n",
    "    for i in top_dict.items():\n",
    "        for interactor in i[1]:\n",
    "            if interactor == tf:\n",
    "                count += 1\n",
    "    if count >= 2:\n",
    "        top_tf_interactors.append(tf)\n",
    "\n",
    "top_tf_interactors = [i for n, i in enumerate(top_tf_interactors) \n",
    "                      if i not in top_tf_interactors[:n]]"
   ]
  },
  {
   "cell_type": "code",
   "execution_count": 461,
   "id": "687ee7d8",
   "metadata": {},
   "outputs": [],
   "source": [
    "###### Now putting the top_tf_interactors through KEA3 #######\n",
    "\n",
    "kea3results = get_kea3_results(top_tf_interactors, 'query')"
   ]
  },
  {
   "cell_type": "code",
   "execution_count": 462,
   "id": "74a798ad",
   "metadata": {},
   "outputs": [],
   "source": [
    "###### Getting Ready To Investigate the Top Ranked Kinases ######\n",
    "\n",
    "mr_kea3results = kea3results['Integrated--meanRank']\n",
    "\n",
    "\n",
    "\n",
    "kea3libs_sorted = ['BioGRID', 'ChengKSIN', 'ChengPPI', 'HIPPIE', 'mentha', \n",
    "                   'MINT', 'PhosDAll', 'prePPI', 'PTMsigDB', 'STRING', 'STRING.bind']\n",
    "\n",
    "for i in range(len(mr_kea3results)):\n",
    "    for lib in kea3libs_sorted:\n",
    "        mr_kea3results[i].update({lib:0})\n",
    "        \n",
    "for i in range(len(mr_kea3results)):\n",
    "    thing = mr_kea3results[i]['Library'].split(';')\n",
    "    for a in range(len(thing)):\n",
    "        library, value = thing[a].split(',')\n",
    "        mr_kea3results[i].update({library:int(value)})"
   ]
  },
  {
   "cell_type": "code",
   "execution_count": 463,
   "id": "51676b81",
   "metadata": {},
   "outputs": [],
   "source": [
    "###### Sorting Kinases According to Rank in Each Library #######\n",
    "\n",
    "sortedPTMsigDB = sorted(mr_kea3results, key = lambda k: k['PTMsigDB'])\n",
    "sortedprePPI = sorted(mr_kea3results, key = lambda k: k['prePPI']) \n",
    "sortedmentha = sorted(mr_kea3results, key = lambda k: k['mentha']) \n",
    "sortedMINT = sorted(mr_kea3results, key = lambda k: k['MINT']) \n",
    "sortedSTRING = sorted(mr_kea3results, key = lambda k: k['STRING']) \n",
    "sortedHIPPIE = sorted(mr_kea3results, key = lambda k: k['HIPPIE']) \n",
    "sortedChengKSIN = sorted(mr_kea3results, key = lambda k: k['ChengKSIN']) \n",
    "sortedBioGRID = sorted(mr_kea3results, key = lambda k: k['BioGRID']) \n",
    "sortedPhosDAll = sorted(mr_kea3results, key = lambda k: k['PhosDAll']) \n",
    "sortedSTRINGbind = sorted(mr_kea3results, key = lambda k: k['STRING.bind']) \n",
    "sortedChengPPI = sorted(mr_kea3results, key = lambda k: k['ChengPPI']) \n",
    "\n",
    "rankedPTMsigDB = [entry['PTMsigDB'] for entry in sortedPTMsigDB]\n",
    "rankedprePPI = [entry['prePPI'] for entry in sortedprePPI]\n",
    "rankedmentha = [entry['mentha'] for entry in sortedmentha]\n",
    "rankedMINT = [entry['MINT'] for entry in sortedMINT]\n",
    "rankedSTRING = [entry['STRING'] for entry in sortedSTRING]\n",
    "rankedHIPPIE = [entry['HIPPIE'] for entry in sortedHIPPIE]\n",
    "rankedChengKSIN = [entry['ChengKSIN'] for entry in sortedChengKSIN]\n",
    "rankedBioGRID = [entry['BioGRID'] for entry in sortedBioGRID]\n",
    "rankedPhosDAll = [entry['PhosDAll'] for entry in sortedPhosDAll] \n",
    "rankedSTRINGbind = [entry['STRING.bind'] for entry in sortedSTRINGbind]\n",
    "rankedChengPPI = [entry['ChengPPI'] for entry in sortedChengPPI]\n",
    "\n",
    "# Composes a dictionary of all the kinases where each entry is the kinases ranked\n",
    "# according to the respective library (the library name is the key in the dictionar)\n",
    "kea3ranking_dict = {'PTMsigDB':rankedPTMsigDB,\n",
    "                    'prePPI':rankedprePPI,\n",
    "                    'mentha':rankedmentha,\n",
    "                    'MINT':rankedMINT,\n",
    "                    'STRING':rankedSTRING,\n",
    "                    'HIPPIE':rankedHIPPIE,\n",
    "                    'ChengKSIN':rankedChengKSIN, \n",
    "                    'BioGRID':rankedBioGRID, \n",
    "                    'PhosDAll':rankedPhosDAll, \n",
    "                    'STRING.bind':rankedSTRINGbind, \n",
    "                    'ChengPPI':rankedChengPPI}"
   ]
  },
  {
   "cell_type": "code",
   "execution_count": 464,
   "id": "fcc2c32c",
   "metadata": {},
   "outputs": [],
   "source": [
    "###### Sorting the kinases by AvgRank #######\n",
    "\n",
    "for tfentry in mr_kea3results:\n",
    "    tfentry.update( [('SumRank', 0), ('AvgRank', 0) ])\n",
    "    library_scores = tfentry['Library'].split(';')\n",
    "    lib_counter = 0\n",
    "    for a in library_scores:\n",
    "        l, v = a.split(',')\n",
    "        v = int(v)\n",
    "        scorerank = indexfinder(kea3ranking_dict[l], int(v))\n",
    "        tfentry['SumRank'] += int(scorerank)\n",
    "        lib_counter += 1\n",
    "    tfentry['AvgRank'] = (tfentry['SumRank'] / lib_counter)\n",
    "    \n",
    "sorted_kea3results = sorted(mr_kea3results, key = lambda k: k['AvgRank'])"
   ]
  },
  {
   "cell_type": "code",
   "execution_count": 465,
   "id": "ab16e707",
   "metadata": {},
   "outputs": [],
   "source": [
    "###### Getting the List of Sorted Kinases ######\n",
    "\n",
    "try:\n",
    "    kin_score_threshold\n",
    "except NameError:\n",
    "    sorted_topkinresults = []\n",
    "    kin_index = 0\n",
    "    while (len(sorted_topkinresults) < num_kins):\n",
    "        if len(sorted_kea3results[kin_index]['Library'].split(';')) >= threshold:\n",
    "            sorted_topkinresults.append(sorted_kea3results[kin_index])\n",
    "        kin_index += 1\n",
    "else:\n",
    "    sorted_topkinresults = [mr_kea3results[i] for i in range(len(sorted_kea3results)) \\\n",
    "                            if len(sorted_kea3results[i]['Library'].split(';')) >= threshold \\\n",
    "                            if float(mr_kea3results[i]['Score']) <= kin_score_threshold]    "
   ]
  },
  {
   "cell_type": "code",
   "execution_count": 466,
   "id": "94a26aae",
   "metadata": {},
   "outputs": [],
   "source": [
    "topkinnames = [i['TF'] for i in sorted_topkinresults]"
   ]
  },
  {
   "cell_type": "markdown",
   "id": "e9c86ab4",
   "metadata": {},
   "source": [
    "# Network Summary"
   ]
  },
  {
   "cell_type": "markdown",
   "id": "1621d1e5",
   "metadata": {},
   "source": [
    "## Transcription Factors and Their Interactors"
   ]
  },
  {
   "cell_type": "markdown",
   "id": "be4fe3fa",
   "metadata": {},
   "source": [
    "### Highest Ranked Transcription Factors"
   ]
  },
  {
   "cell_type": "code",
   "execution_count": 467,
   "id": "2b59f5a7",
   "metadata": {},
   "outputs": [
    {
     "data": {
      "text/html": [
       "RLF, FOXM1, E2F7, E2F1, ZNF367, BATF3, MYBL2, GTF2B, ATF3, HMGA2"
      ],
      "text/plain": [
       "<IPython.core.display.HTML object>"
      ]
     },
     "metadata": {},
     "output_type": "display_data"
    }
   ],
   "source": [
    "display(HTML(', '.join(toptfnames)))"
   ]
  },
  {
   "cell_type": "code",
   "execution_count": 468,
   "id": "3f9ffdff",
   "metadata": {},
   "outputs": [],
   "source": [
    "c_lib_palette = {'ARCHS4 Coexpression':'rgb(196, 8, 8)',\n",
    "                 'ENCODE ChIP-seq':'rgb(244, 109, 67)',\n",
    "                 'Enrichr Queries':'rgb(242, 172, 68)', \n",
    "                 'GTEx Coexpression':'rgb(236, 252, 68)',\n",
    "                 'Literature ChIP-seq':'rgb(165, 242, 162)',\n",
    "                 'ReMap ChIP-seq':'rgb(92, 217, 78)'}\n",
    "\n",
    "tf_amt = len(toptfs)\n",
    "\n",
    "c_lib_means = {'ARCHS4 Coexpression': [0] * tf_amt, 'ENCODE ChIP-seq': [0] * tf_amt, \n",
    "               'Enrichr Queries': [0] * tf_amt, 'GTEx Coexpression': [0] * tf_amt,\n",
    "               'Literature ChIP-seq': [0] * tf_amt, 'ReMap ChIP-seq': [0] * tf_amt}\n",
    "\n",
    "toptfs = toptfs[::-1]\n",
    "\n",
    "# set up a list with all the TFs, sorted by rank (lowest to highest, in line with top_results)\n",
    "sorted_tfs = []\n",
    "for i in range(0, len(toptfs)):\n",
    "    sorted_tfs.append(toptfs[i].get('TF'))    \n",
    "    \n",
    "for i, tfentry in enumerate(toptfs):\n",
    "    libscores = tfentry['Library'].split(';')\n",
    "    for a in libscores:\n",
    "        lib, value = a.split(',')\n",
    "        rank = indexfinder(chea3ranking_dict[lib], int(value))\n",
    "        avg = tfentry['AvgRank']\n",
    "        tot = tfentry['SumRank']\n",
    "        bar_length = (rank*avg)/tot\n",
    "        c_lib_means[lib][i] = float(bar_length)"
   ]
  },
  {
   "cell_type": "code",
   "execution_count": 469,
   "id": "bfab6fd6",
   "metadata": {},
   "outputs": [
    {
     "data": {
      "application/vnd.plotly.v1+json": {
       "config": {
        "plotlyServerURL": "https://plot.ly"
       },
       "data": [
        {
         "marker": {
          "color": "rgb(196, 8, 8)"
         },
         "name": "ARCHS4 Coexpression",
         "orientation": "h",
         "type": "bar",
         "x": [
          38.333333333333336,
          0.16666666666666666,
          28,
          27,
          8.666666666666666,
          33,
          13.333333333333334,
          3.5999999999999996,
          10.5,
          5
         ],
         "y": [
          "HMGA2",
          "ATF3",
          "GTF2B",
          "MYBL2",
          "BATF3",
          "ZNF367",
          "E2F1",
          "E2F7",
          "FOXM1",
          "RLF"
         ]
        },
        {
         "marker": {
          "color": "rgb(244, 109, 67)"
         },
         "name": "ENCODE ChIP-seq",
         "orientation": "h",
         "type": "bar",
         "x": [
          0,
          4.5,
          11,
          0.8333333333333334,
          0,
          0,
          7,
          0,
          8.5,
          0
         ],
         "y": [
          "HMGA2",
          "ATF3",
          "GTF2B",
          "MYBL2",
          "BATF3",
          "ZNF367",
          "E2F1",
          "E2F7",
          "FOXM1",
          "RLF"
         ]
        },
        {
         "marker": {
          "color": "rgb(242, 172, 68)"
         },
         "name": "Enrichr Queries",
         "orientation": "h",
         "type": "bar",
         "x": [
          9.666666666666668,
          14.5,
          0,
          5.333333333333333,
          47,
          24,
          8.500000000000002,
          11,
          5.5,
          7.333333333333333
         ],
         "y": [
          "HMGA2",
          "ATF3",
          "GTF2B",
          "MYBL2",
          "BATF3",
          "ZNF367",
          "E2F1",
          "E2F7",
          "FOXM1",
          "RLF"
         ]
        },
        {
         "marker": {
          "color": "rgb(236, 252, 68)"
         },
         "name": "GTEx Coexpression",
         "orientation": "h",
         "type": "bar",
         "x": [
          26.666666666666668,
          14.333333333333334,
          26.25,
          3.8333333333333335,
          8,
          4.666666666666666,
          2.166666666666667,
          2.4000000000000004,
          2.8333333333333335,
          10
         ],
         "y": [
          "HMGA2",
          "ATF3",
          "GTF2B",
          "MYBL2",
          "BATF3",
          "ZNF367",
          "E2F1",
          "E2F7",
          "FOXM1",
          "RLF"
         ]
        },
        {
         "marker": {
          "color": "rgb(165, 242, 162)"
         },
         "name": "Literature ChIP-seq",
         "orientation": "h",
         "type": "bar",
         "x": [
          0,
          18.666666666666668,
          0,
          2.5,
          0,
          0,
          1.1666666666666667,
          10.600000000000001,
          1,
          0
         ],
         "y": [
          "HMGA2",
          "ATF3",
          "GTF2B",
          "MYBL2",
          "BATF3",
          "ZNF367",
          "E2F1",
          "E2F7",
          "FOXM1",
          "RLF"
         ]
        },
        {
         "marker": {
          "color": "rgb(92, 217, 78)"
         },
         "name": "ReMap ChIP-seq",
         "orientation": "h",
         "type": "bar",
         "x": [
          0,
          20.333333333333332,
          4.75,
          27.5,
          0,
          0,
          7.666666666666667,
          2.2,
          1.1666666666666667,
          0
         ],
         "y": [
          "HMGA2",
          "ATF3",
          "GTF2B",
          "MYBL2",
          "BATF3",
          "ZNF367",
          "E2F1",
          "E2F7",
          "FOXM1",
          "RLF"
         ]
        }
       ],
       "layout": {
        "barmode": "stack",
        "font": {
         "color": "black",
         "size": 16
        },
        "template": {
         "data": {
          "bar": [
           {
            "error_x": {
             "color": "#2a3f5f"
            },
            "error_y": {
             "color": "#2a3f5f"
            },
            "marker": {
             "line": {
              "color": "#E5ECF6",
              "width": 0.5
             },
             "pattern": {
              "fillmode": "overlay",
              "size": 10,
              "solidity": 0.2
             }
            },
            "type": "bar"
           }
          ],
          "barpolar": [
           {
            "marker": {
             "line": {
              "color": "#E5ECF6",
              "width": 0.5
             },
             "pattern": {
              "fillmode": "overlay",
              "size": 10,
              "solidity": 0.2
             }
            },
            "type": "barpolar"
           }
          ],
          "carpet": [
           {
            "aaxis": {
             "endlinecolor": "#2a3f5f",
             "gridcolor": "white",
             "linecolor": "white",
             "minorgridcolor": "white",
             "startlinecolor": "#2a3f5f"
            },
            "baxis": {
             "endlinecolor": "#2a3f5f",
             "gridcolor": "white",
             "linecolor": "white",
             "minorgridcolor": "white",
             "startlinecolor": "#2a3f5f"
            },
            "type": "carpet"
           }
          ],
          "choropleth": [
           {
            "colorbar": {
             "outlinewidth": 0,
             "ticks": ""
            },
            "type": "choropleth"
           }
          ],
          "contour": [
           {
            "colorbar": {
             "outlinewidth": 0,
             "ticks": ""
            },
            "colorscale": [
             [
              0,
              "#0d0887"
             ],
             [
              0.1111111111111111,
              "#46039f"
             ],
             [
              0.2222222222222222,
              "#7201a8"
             ],
             [
              0.3333333333333333,
              "#9c179e"
             ],
             [
              0.4444444444444444,
              "#bd3786"
             ],
             [
              0.5555555555555556,
              "#d8576b"
             ],
             [
              0.6666666666666666,
              "#ed7953"
             ],
             [
              0.7777777777777778,
              "#fb9f3a"
             ],
             [
              0.8888888888888888,
              "#fdca26"
             ],
             [
              1,
              "#f0f921"
             ]
            ],
            "type": "contour"
           }
          ],
          "contourcarpet": [
           {
            "colorbar": {
             "outlinewidth": 0,
             "ticks": ""
            },
            "type": "contourcarpet"
           }
          ],
          "heatmap": [
           {
            "colorbar": {
             "outlinewidth": 0,
             "ticks": ""
            },
            "colorscale": [
             [
              0,
              "#0d0887"
             ],
             [
              0.1111111111111111,
              "#46039f"
             ],
             [
              0.2222222222222222,
              "#7201a8"
             ],
             [
              0.3333333333333333,
              "#9c179e"
             ],
             [
              0.4444444444444444,
              "#bd3786"
             ],
             [
              0.5555555555555556,
              "#d8576b"
             ],
             [
              0.6666666666666666,
              "#ed7953"
             ],
             [
              0.7777777777777778,
              "#fb9f3a"
             ],
             [
              0.8888888888888888,
              "#fdca26"
             ],
             [
              1,
              "#f0f921"
             ]
            ],
            "type": "heatmap"
           }
          ],
          "heatmapgl": [
           {
            "colorbar": {
             "outlinewidth": 0,
             "ticks": ""
            },
            "colorscale": [
             [
              0,
              "#0d0887"
             ],
             [
              0.1111111111111111,
              "#46039f"
             ],
             [
              0.2222222222222222,
              "#7201a8"
             ],
             [
              0.3333333333333333,
              "#9c179e"
             ],
             [
              0.4444444444444444,
              "#bd3786"
             ],
             [
              0.5555555555555556,
              "#d8576b"
             ],
             [
              0.6666666666666666,
              "#ed7953"
             ],
             [
              0.7777777777777778,
              "#fb9f3a"
             ],
             [
              0.8888888888888888,
              "#fdca26"
             ],
             [
              1,
              "#f0f921"
             ]
            ],
            "type": "heatmapgl"
           }
          ],
          "histogram": [
           {
            "marker": {
             "pattern": {
              "fillmode": "overlay",
              "size": 10,
              "solidity": 0.2
             }
            },
            "type": "histogram"
           }
          ],
          "histogram2d": [
           {
            "colorbar": {
             "outlinewidth": 0,
             "ticks": ""
            },
            "colorscale": [
             [
              0,
              "#0d0887"
             ],
             [
              0.1111111111111111,
              "#46039f"
             ],
             [
              0.2222222222222222,
              "#7201a8"
             ],
             [
              0.3333333333333333,
              "#9c179e"
             ],
             [
              0.4444444444444444,
              "#bd3786"
             ],
             [
              0.5555555555555556,
              "#d8576b"
             ],
             [
              0.6666666666666666,
              "#ed7953"
             ],
             [
              0.7777777777777778,
              "#fb9f3a"
             ],
             [
              0.8888888888888888,
              "#fdca26"
             ],
             [
              1,
              "#f0f921"
             ]
            ],
            "type": "histogram2d"
           }
          ],
          "histogram2dcontour": [
           {
            "colorbar": {
             "outlinewidth": 0,
             "ticks": ""
            },
            "colorscale": [
             [
              0,
              "#0d0887"
             ],
             [
              0.1111111111111111,
              "#46039f"
             ],
             [
              0.2222222222222222,
              "#7201a8"
             ],
             [
              0.3333333333333333,
              "#9c179e"
             ],
             [
              0.4444444444444444,
              "#bd3786"
             ],
             [
              0.5555555555555556,
              "#d8576b"
             ],
             [
              0.6666666666666666,
              "#ed7953"
             ],
             [
              0.7777777777777778,
              "#fb9f3a"
             ],
             [
              0.8888888888888888,
              "#fdca26"
             ],
             [
              1,
              "#f0f921"
             ]
            ],
            "type": "histogram2dcontour"
           }
          ],
          "mesh3d": [
           {
            "colorbar": {
             "outlinewidth": 0,
             "ticks": ""
            },
            "type": "mesh3d"
           }
          ],
          "parcoords": [
           {
            "line": {
             "colorbar": {
              "outlinewidth": 0,
              "ticks": ""
             }
            },
            "type": "parcoords"
           }
          ],
          "pie": [
           {
            "automargin": true,
            "type": "pie"
           }
          ],
          "scatter": [
           {
            "marker": {
             "colorbar": {
              "outlinewidth": 0,
              "ticks": ""
             }
            },
            "type": "scatter"
           }
          ],
          "scatter3d": [
           {
            "line": {
             "colorbar": {
              "outlinewidth": 0,
              "ticks": ""
             }
            },
            "marker": {
             "colorbar": {
              "outlinewidth": 0,
              "ticks": ""
             }
            },
            "type": "scatter3d"
           }
          ],
          "scattercarpet": [
           {
            "marker": {
             "colorbar": {
              "outlinewidth": 0,
              "ticks": ""
             }
            },
            "type": "scattercarpet"
           }
          ],
          "scattergeo": [
           {
            "marker": {
             "colorbar": {
              "outlinewidth": 0,
              "ticks": ""
             }
            },
            "type": "scattergeo"
           }
          ],
          "scattergl": [
           {
            "marker": {
             "colorbar": {
              "outlinewidth": 0,
              "ticks": ""
             }
            },
            "type": "scattergl"
           }
          ],
          "scattermapbox": [
           {
            "marker": {
             "colorbar": {
              "outlinewidth": 0,
              "ticks": ""
             }
            },
            "type": "scattermapbox"
           }
          ],
          "scatterpolar": [
           {
            "marker": {
             "colorbar": {
              "outlinewidth": 0,
              "ticks": ""
             }
            },
            "type": "scatterpolar"
           }
          ],
          "scatterpolargl": [
           {
            "marker": {
             "colorbar": {
              "outlinewidth": 0,
              "ticks": ""
             }
            },
            "type": "scatterpolargl"
           }
          ],
          "scatterternary": [
           {
            "marker": {
             "colorbar": {
              "outlinewidth": 0,
              "ticks": ""
             }
            },
            "type": "scatterternary"
           }
          ],
          "surface": [
           {
            "colorbar": {
             "outlinewidth": 0,
             "ticks": ""
            },
            "colorscale": [
             [
              0,
              "#0d0887"
             ],
             [
              0.1111111111111111,
              "#46039f"
             ],
             [
              0.2222222222222222,
              "#7201a8"
             ],
             [
              0.3333333333333333,
              "#9c179e"
             ],
             [
              0.4444444444444444,
              "#bd3786"
             ],
             [
              0.5555555555555556,
              "#d8576b"
             ],
             [
              0.6666666666666666,
              "#ed7953"
             ],
             [
              0.7777777777777778,
              "#fb9f3a"
             ],
             [
              0.8888888888888888,
              "#fdca26"
             ],
             [
              1,
              "#f0f921"
             ]
            ],
            "type": "surface"
           }
          ],
          "table": [
           {
            "cells": {
             "fill": {
              "color": "#EBF0F8"
             },
             "line": {
              "color": "white"
             }
            },
            "header": {
             "fill": {
              "color": "#C8D4E3"
             },
             "line": {
              "color": "white"
             }
            },
            "type": "table"
           }
          ]
         },
         "layout": {
          "annotationdefaults": {
           "arrowcolor": "#2a3f5f",
           "arrowhead": 0,
           "arrowwidth": 1
          },
          "autotypenumbers": "strict",
          "coloraxis": {
           "colorbar": {
            "outlinewidth": 0,
            "ticks": ""
           }
          },
          "colorscale": {
           "diverging": [
            [
             0,
             "#8e0152"
            ],
            [
             0.1,
             "#c51b7d"
            ],
            [
             0.2,
             "#de77ae"
            ],
            [
             0.3,
             "#f1b6da"
            ],
            [
             0.4,
             "#fde0ef"
            ],
            [
             0.5,
             "#f7f7f7"
            ],
            [
             0.6,
             "#e6f5d0"
            ],
            [
             0.7,
             "#b8e186"
            ],
            [
             0.8,
             "#7fbc41"
            ],
            [
             0.9,
             "#4d9221"
            ],
            [
             1,
             "#276419"
            ]
           ],
           "sequential": [
            [
             0,
             "#0d0887"
            ],
            [
             0.1111111111111111,
             "#46039f"
            ],
            [
             0.2222222222222222,
             "#7201a8"
            ],
            [
             0.3333333333333333,
             "#9c179e"
            ],
            [
             0.4444444444444444,
             "#bd3786"
            ],
            [
             0.5555555555555556,
             "#d8576b"
            ],
            [
             0.6666666666666666,
             "#ed7953"
            ],
            [
             0.7777777777777778,
             "#fb9f3a"
            ],
            [
             0.8888888888888888,
             "#fdca26"
            ],
            [
             1,
             "#f0f921"
            ]
           ],
           "sequentialminus": [
            [
             0,
             "#0d0887"
            ],
            [
             0.1111111111111111,
             "#46039f"
            ],
            [
             0.2222222222222222,
             "#7201a8"
            ],
            [
             0.3333333333333333,
             "#9c179e"
            ],
            [
             0.4444444444444444,
             "#bd3786"
            ],
            [
             0.5555555555555556,
             "#d8576b"
            ],
            [
             0.6666666666666666,
             "#ed7953"
            ],
            [
             0.7777777777777778,
             "#fb9f3a"
            ],
            [
             0.8888888888888888,
             "#fdca26"
            ],
            [
             1,
             "#f0f921"
            ]
           ]
          },
          "colorway": [
           "#636efa",
           "#EF553B",
           "#00cc96",
           "#ab63fa",
           "#FFA15A",
           "#19d3f3",
           "#FF6692",
           "#B6E880",
           "#FF97FF",
           "#FECB52"
          ],
          "font": {
           "color": "#2a3f5f"
          },
          "geo": {
           "bgcolor": "white",
           "lakecolor": "white",
           "landcolor": "#E5ECF6",
           "showlakes": true,
           "showland": true,
           "subunitcolor": "white"
          },
          "hoverlabel": {
           "align": "left"
          },
          "hovermode": "closest",
          "mapbox": {
           "style": "light"
          },
          "paper_bgcolor": "white",
          "plot_bgcolor": "#E5ECF6",
          "polar": {
           "angularaxis": {
            "gridcolor": "white",
            "linecolor": "white",
            "ticks": ""
           },
           "bgcolor": "#E5ECF6",
           "radialaxis": {
            "gridcolor": "white",
            "linecolor": "white",
            "ticks": ""
           }
          },
          "scene": {
           "xaxis": {
            "backgroundcolor": "#E5ECF6",
            "gridcolor": "white",
            "gridwidth": 2,
            "linecolor": "white",
            "showbackground": true,
            "ticks": "",
            "zerolinecolor": "white"
           },
           "yaxis": {
            "backgroundcolor": "#E5ECF6",
            "gridcolor": "white",
            "gridwidth": 2,
            "linecolor": "white",
            "showbackground": true,
            "ticks": "",
            "zerolinecolor": "white"
           },
           "zaxis": {
            "backgroundcolor": "#E5ECF6",
            "gridcolor": "white",
            "gridwidth": 2,
            "linecolor": "white",
            "showbackground": true,
            "ticks": "",
            "zerolinecolor": "white"
           }
          },
          "shapedefaults": {
           "line": {
            "color": "#2a3f5f"
           }
          },
          "ternary": {
           "aaxis": {
            "gridcolor": "white",
            "linecolor": "white",
            "ticks": ""
           },
           "baxis": {
            "gridcolor": "white",
            "linecolor": "white",
            "ticks": ""
           },
           "bgcolor": "#E5ECF6",
           "caxis": {
            "gridcolor": "white",
            "linecolor": "white",
            "ticks": ""
           }
          },
          "title": {
           "x": 0.05
          },
          "xaxis": {
           "automargin": true,
           "gridcolor": "white",
           "linecolor": "white",
           "ticks": "",
           "title": {
            "standoff": 15
           },
           "zerolinecolor": "white",
           "zerolinewidth": 2
          },
          "yaxis": {
           "automargin": true,
           "gridcolor": "white",
           "linecolor": "white",
           "ticks": "",
           "title": {
            "standoff": 15
           },
           "zerolinecolor": "white",
           "zerolinewidth": 2
          }
         }
        },
        "title": {
         "text": "Stacked Bar Chart of Average Ranks in Different Libraries",
         "x": 0.5,
         "xanchor": "center",
         "y": 0.87,
         "yanchor": "top"
        },
        "xaxis": {
         "title": {
          "text": "Average of Ranks Across All Libraries"
         }
        },
        "yaxis": {
         "title": {
          "text": "Transcription Factors"
         }
        }
       }
      },
      "text/html": [
       "<div>                            <div id=\"67319c67-b3f0-41cc-af00-6041d3aff39b\" class=\"plotly-graph-div\" style=\"height:525px; width:100%;\"></div>            <script type=\"text/javascript\">                require([\"plotly\"], function(Plotly) {                    window.PLOTLYENV=window.PLOTLYENV || {};                                    if (document.getElementById(\"67319c67-b3f0-41cc-af00-6041d3aff39b\")) {                    Plotly.newPlot(                        \"67319c67-b3f0-41cc-af00-6041d3aff39b\",                        [{\"marker\":{\"color\":\"rgb(196, 8, 8)\"},\"name\":\"ARCHS4 Coexpression\",\"orientation\":\"h\",\"type\":\"bar\",\"x\":[38.333333333333336,0.16666666666666666,28.0,27.0,8.666666666666666,33.0,13.333333333333334,3.5999999999999996,10.5,5.0],\"y\":[\"HMGA2\",\"ATF3\",\"GTF2B\",\"MYBL2\",\"BATF3\",\"ZNF367\",\"E2F1\",\"E2F7\",\"FOXM1\",\"RLF\"]},{\"marker\":{\"color\":\"rgb(244, 109, 67)\"},\"name\":\"ENCODE ChIP-seq\",\"orientation\":\"h\",\"type\":\"bar\",\"x\":[0,4.5,11.0,0.8333333333333334,0,0,7.0,0,8.5,0],\"y\":[\"HMGA2\",\"ATF3\",\"GTF2B\",\"MYBL2\",\"BATF3\",\"ZNF367\",\"E2F1\",\"E2F7\",\"FOXM1\",\"RLF\"]},{\"marker\":{\"color\":\"rgb(242, 172, 68)\"},\"name\":\"Enrichr Queries\",\"orientation\":\"h\",\"type\":\"bar\",\"x\":[9.666666666666668,14.5,0,5.333333333333333,47.0,24.0,8.500000000000002,11.0,5.5,7.333333333333333],\"y\":[\"HMGA2\",\"ATF3\",\"GTF2B\",\"MYBL2\",\"BATF3\",\"ZNF367\",\"E2F1\",\"E2F7\",\"FOXM1\",\"RLF\"]},{\"marker\":{\"color\":\"rgb(236, 252, 68)\"},\"name\":\"GTEx Coexpression\",\"orientation\":\"h\",\"type\":\"bar\",\"x\":[26.666666666666668,14.333333333333334,26.25,3.8333333333333335,8.0,4.666666666666666,2.166666666666667,2.4000000000000004,2.8333333333333335,10.0],\"y\":[\"HMGA2\",\"ATF3\",\"GTF2B\",\"MYBL2\",\"BATF3\",\"ZNF367\",\"E2F1\",\"E2F7\",\"FOXM1\",\"RLF\"]},{\"marker\":{\"color\":\"rgb(165, 242, 162)\"},\"name\":\"Literature ChIP-seq\",\"orientation\":\"h\",\"type\":\"bar\",\"x\":[0,18.666666666666668,0,2.5,0,0,1.1666666666666667,10.600000000000001,1.0,0],\"y\":[\"HMGA2\",\"ATF3\",\"GTF2B\",\"MYBL2\",\"BATF3\",\"ZNF367\",\"E2F1\",\"E2F7\",\"FOXM1\",\"RLF\"]},{\"marker\":{\"color\":\"rgb(92, 217, 78)\"},\"name\":\"ReMap ChIP-seq\",\"orientation\":\"h\",\"type\":\"bar\",\"x\":[0,20.333333333333332,4.75,27.5,0,0,7.666666666666667,2.2,1.1666666666666667,0],\"y\":[\"HMGA2\",\"ATF3\",\"GTF2B\",\"MYBL2\",\"BATF3\",\"ZNF367\",\"E2F1\",\"E2F7\",\"FOXM1\",\"RLF\"]}],                        {\"barmode\":\"stack\",\"font\":{\"color\":\"black\",\"size\":16},\"template\":{\"data\":{\"bar\":[{\"error_x\":{\"color\":\"#2a3f5f\"},\"error_y\":{\"color\":\"#2a3f5f\"},\"marker\":{\"line\":{\"color\":\"#E5ECF6\",\"width\":0.5},\"pattern\":{\"fillmode\":\"overlay\",\"size\":10,\"solidity\":0.2}},\"type\":\"bar\"}],\"barpolar\":[{\"marker\":{\"line\":{\"color\":\"#E5ECF6\",\"width\":0.5},\"pattern\":{\"fillmode\":\"overlay\",\"size\":10,\"solidity\":0.2}},\"type\":\"barpolar\"}],\"carpet\":[{\"aaxis\":{\"endlinecolor\":\"#2a3f5f\",\"gridcolor\":\"white\",\"linecolor\":\"white\",\"minorgridcolor\":\"white\",\"startlinecolor\":\"#2a3f5f\"},\"baxis\":{\"endlinecolor\":\"#2a3f5f\",\"gridcolor\":\"white\",\"linecolor\":\"white\",\"minorgridcolor\":\"white\",\"startlinecolor\":\"#2a3f5f\"},\"type\":\"carpet\"}],\"choropleth\":[{\"colorbar\":{\"outlinewidth\":0,\"ticks\":\"\"},\"type\":\"choropleth\"}],\"contour\":[{\"colorbar\":{\"outlinewidth\":0,\"ticks\":\"\"},\"colorscale\":[[0.0,\"#0d0887\"],[0.1111111111111111,\"#46039f\"],[0.2222222222222222,\"#7201a8\"],[0.3333333333333333,\"#9c179e\"],[0.4444444444444444,\"#bd3786\"],[0.5555555555555556,\"#d8576b\"],[0.6666666666666666,\"#ed7953\"],[0.7777777777777778,\"#fb9f3a\"],[0.8888888888888888,\"#fdca26\"],[1.0,\"#f0f921\"]],\"type\":\"contour\"}],\"contourcarpet\":[{\"colorbar\":{\"outlinewidth\":0,\"ticks\":\"\"},\"type\":\"contourcarpet\"}],\"heatmap\":[{\"colorbar\":{\"outlinewidth\":0,\"ticks\":\"\"},\"colorscale\":[[0.0,\"#0d0887\"],[0.1111111111111111,\"#46039f\"],[0.2222222222222222,\"#7201a8\"],[0.3333333333333333,\"#9c179e\"],[0.4444444444444444,\"#bd3786\"],[0.5555555555555556,\"#d8576b\"],[0.6666666666666666,\"#ed7953\"],[0.7777777777777778,\"#fb9f3a\"],[0.8888888888888888,\"#fdca26\"],[1.0,\"#f0f921\"]],\"type\":\"heatmap\"}],\"heatmapgl\":[{\"colorbar\":{\"outlinewidth\":0,\"ticks\":\"\"},\"colorscale\":[[0.0,\"#0d0887\"],[0.1111111111111111,\"#46039f\"],[0.2222222222222222,\"#7201a8\"],[0.3333333333333333,\"#9c179e\"],[0.4444444444444444,\"#bd3786\"],[0.5555555555555556,\"#d8576b\"],[0.6666666666666666,\"#ed7953\"],[0.7777777777777778,\"#fb9f3a\"],[0.8888888888888888,\"#fdca26\"],[1.0,\"#f0f921\"]],\"type\":\"heatmapgl\"}],\"histogram\":[{\"marker\":{\"pattern\":{\"fillmode\":\"overlay\",\"size\":10,\"solidity\":0.2}},\"type\":\"histogram\"}],\"histogram2d\":[{\"colorbar\":{\"outlinewidth\":0,\"ticks\":\"\"},\"colorscale\":[[0.0,\"#0d0887\"],[0.1111111111111111,\"#46039f\"],[0.2222222222222222,\"#7201a8\"],[0.3333333333333333,\"#9c179e\"],[0.4444444444444444,\"#bd3786\"],[0.5555555555555556,\"#d8576b\"],[0.6666666666666666,\"#ed7953\"],[0.7777777777777778,\"#fb9f3a\"],[0.8888888888888888,\"#fdca26\"],[1.0,\"#f0f921\"]],\"type\":\"histogram2d\"}],\"histogram2dcontour\":[{\"colorbar\":{\"outlinewidth\":0,\"ticks\":\"\"},\"colorscale\":[[0.0,\"#0d0887\"],[0.1111111111111111,\"#46039f\"],[0.2222222222222222,\"#7201a8\"],[0.3333333333333333,\"#9c179e\"],[0.4444444444444444,\"#bd3786\"],[0.5555555555555556,\"#d8576b\"],[0.6666666666666666,\"#ed7953\"],[0.7777777777777778,\"#fb9f3a\"],[0.8888888888888888,\"#fdca26\"],[1.0,\"#f0f921\"]],\"type\":\"histogram2dcontour\"}],\"mesh3d\":[{\"colorbar\":{\"outlinewidth\":0,\"ticks\":\"\"},\"type\":\"mesh3d\"}],\"parcoords\":[{\"line\":{\"colorbar\":{\"outlinewidth\":0,\"ticks\":\"\"}},\"type\":\"parcoords\"}],\"pie\":[{\"automargin\":true,\"type\":\"pie\"}],\"scatter\":[{\"marker\":{\"colorbar\":{\"outlinewidth\":0,\"ticks\":\"\"}},\"type\":\"scatter\"}],\"scatter3d\":[{\"line\":{\"colorbar\":{\"outlinewidth\":0,\"ticks\":\"\"}},\"marker\":{\"colorbar\":{\"outlinewidth\":0,\"ticks\":\"\"}},\"type\":\"scatter3d\"}],\"scattercarpet\":[{\"marker\":{\"colorbar\":{\"outlinewidth\":0,\"ticks\":\"\"}},\"type\":\"scattercarpet\"}],\"scattergeo\":[{\"marker\":{\"colorbar\":{\"outlinewidth\":0,\"ticks\":\"\"}},\"type\":\"scattergeo\"}],\"scattergl\":[{\"marker\":{\"colorbar\":{\"outlinewidth\":0,\"ticks\":\"\"}},\"type\":\"scattergl\"}],\"scattermapbox\":[{\"marker\":{\"colorbar\":{\"outlinewidth\":0,\"ticks\":\"\"}},\"type\":\"scattermapbox\"}],\"scatterpolar\":[{\"marker\":{\"colorbar\":{\"outlinewidth\":0,\"ticks\":\"\"}},\"type\":\"scatterpolar\"}],\"scatterpolargl\":[{\"marker\":{\"colorbar\":{\"outlinewidth\":0,\"ticks\":\"\"}},\"type\":\"scatterpolargl\"}],\"scatterternary\":[{\"marker\":{\"colorbar\":{\"outlinewidth\":0,\"ticks\":\"\"}},\"type\":\"scatterternary\"}],\"surface\":[{\"colorbar\":{\"outlinewidth\":0,\"ticks\":\"\"},\"colorscale\":[[0.0,\"#0d0887\"],[0.1111111111111111,\"#46039f\"],[0.2222222222222222,\"#7201a8\"],[0.3333333333333333,\"#9c179e\"],[0.4444444444444444,\"#bd3786\"],[0.5555555555555556,\"#d8576b\"],[0.6666666666666666,\"#ed7953\"],[0.7777777777777778,\"#fb9f3a\"],[0.8888888888888888,\"#fdca26\"],[1.0,\"#f0f921\"]],\"type\":\"surface\"}],\"table\":[{\"cells\":{\"fill\":{\"color\":\"#EBF0F8\"},\"line\":{\"color\":\"white\"}},\"header\":{\"fill\":{\"color\":\"#C8D4E3\"},\"line\":{\"color\":\"white\"}},\"type\":\"table\"}]},\"layout\":{\"annotationdefaults\":{\"arrowcolor\":\"#2a3f5f\",\"arrowhead\":0,\"arrowwidth\":1},\"autotypenumbers\":\"strict\",\"coloraxis\":{\"colorbar\":{\"outlinewidth\":0,\"ticks\":\"\"}},\"colorscale\":{\"diverging\":[[0,\"#8e0152\"],[0.1,\"#c51b7d\"],[0.2,\"#de77ae\"],[0.3,\"#f1b6da\"],[0.4,\"#fde0ef\"],[0.5,\"#f7f7f7\"],[0.6,\"#e6f5d0\"],[0.7,\"#b8e186\"],[0.8,\"#7fbc41\"],[0.9,\"#4d9221\"],[1,\"#276419\"]],\"sequential\":[[0.0,\"#0d0887\"],[0.1111111111111111,\"#46039f\"],[0.2222222222222222,\"#7201a8\"],[0.3333333333333333,\"#9c179e\"],[0.4444444444444444,\"#bd3786\"],[0.5555555555555556,\"#d8576b\"],[0.6666666666666666,\"#ed7953\"],[0.7777777777777778,\"#fb9f3a\"],[0.8888888888888888,\"#fdca26\"],[1.0,\"#f0f921\"]],\"sequentialminus\":[[0.0,\"#0d0887\"],[0.1111111111111111,\"#46039f\"],[0.2222222222222222,\"#7201a8\"],[0.3333333333333333,\"#9c179e\"],[0.4444444444444444,\"#bd3786\"],[0.5555555555555556,\"#d8576b\"],[0.6666666666666666,\"#ed7953\"],[0.7777777777777778,\"#fb9f3a\"],[0.8888888888888888,\"#fdca26\"],[1.0,\"#f0f921\"]]},\"colorway\":[\"#636efa\",\"#EF553B\",\"#00cc96\",\"#ab63fa\",\"#FFA15A\",\"#19d3f3\",\"#FF6692\",\"#B6E880\",\"#FF97FF\",\"#FECB52\"],\"font\":{\"color\":\"#2a3f5f\"},\"geo\":{\"bgcolor\":\"white\",\"lakecolor\":\"white\",\"landcolor\":\"#E5ECF6\",\"showlakes\":true,\"showland\":true,\"subunitcolor\":\"white\"},\"hoverlabel\":{\"align\":\"left\"},\"hovermode\":\"closest\",\"mapbox\":{\"style\":\"light\"},\"paper_bgcolor\":\"white\",\"plot_bgcolor\":\"#E5ECF6\",\"polar\":{\"angularaxis\":{\"gridcolor\":\"white\",\"linecolor\":\"white\",\"ticks\":\"\"},\"bgcolor\":\"#E5ECF6\",\"radialaxis\":{\"gridcolor\":\"white\",\"linecolor\":\"white\",\"ticks\":\"\"}},\"scene\":{\"xaxis\":{\"backgroundcolor\":\"#E5ECF6\",\"gridcolor\":\"white\",\"gridwidth\":2,\"linecolor\":\"white\",\"showbackground\":true,\"ticks\":\"\",\"zerolinecolor\":\"white\"},\"yaxis\":{\"backgroundcolor\":\"#E5ECF6\",\"gridcolor\":\"white\",\"gridwidth\":2,\"linecolor\":\"white\",\"showbackground\":true,\"ticks\":\"\",\"zerolinecolor\":\"white\"},\"zaxis\":{\"backgroundcolor\":\"#E5ECF6\",\"gridcolor\":\"white\",\"gridwidth\":2,\"linecolor\":\"white\",\"showbackground\":true,\"ticks\":\"\",\"zerolinecolor\":\"white\"}},\"shapedefaults\":{\"line\":{\"color\":\"#2a3f5f\"}},\"ternary\":{\"aaxis\":{\"gridcolor\":\"white\",\"linecolor\":\"white\",\"ticks\":\"\"},\"baxis\":{\"gridcolor\":\"white\",\"linecolor\":\"white\",\"ticks\":\"\"},\"bgcolor\":\"#E5ECF6\",\"caxis\":{\"gridcolor\":\"white\",\"linecolor\":\"white\",\"ticks\":\"\"}},\"title\":{\"x\":0.05},\"xaxis\":{\"automargin\":true,\"gridcolor\":\"white\",\"linecolor\":\"white\",\"ticks\":\"\",\"title\":{\"standoff\":15},\"zerolinecolor\":\"white\",\"zerolinewidth\":2},\"yaxis\":{\"automargin\":true,\"gridcolor\":\"white\",\"linecolor\":\"white\",\"ticks\":\"\",\"title\":{\"standoff\":15},\"zerolinecolor\":\"white\",\"zerolinewidth\":2}}},\"title\":{\"text\":\"Stacked Bar Chart of Average Ranks in Different Libraries\",\"x\":0.5,\"xanchor\":\"center\",\"y\":0.87,\"yanchor\":\"top\"},\"xaxis\":{\"title\":{\"text\":\"Average of Ranks Across All Libraries\"}},\"yaxis\":{\"title\":{\"text\":\"Transcription Factors\"}}},                        {\"responsive\": true}                    ).then(function(){\n",
       "                            \n",
       "var gd = document.getElementById('67319c67-b3f0-41cc-af00-6041d3aff39b');\n",
       "var x = new MutationObserver(function (mutations, observer) {{\n",
       "        var display = window.getComputedStyle(gd).display;\n",
       "        if (!display || display === 'none') {{\n",
       "            console.log([gd, 'removed!']);\n",
       "            Plotly.purge(gd);\n",
       "            observer.disconnect();\n",
       "        }}\n",
       "}});\n",
       "\n",
       "// Listen for the removal of the full notebook cells\n",
       "var notebookContainer = gd.closest('#notebook-container');\n",
       "if (notebookContainer) {{\n",
       "    x.observe(notebookContainer, {childList: true});\n",
       "}}\n",
       "\n",
       "// Listen for the clearing of the current output cell\n",
       "var outputEl = gd.closest('.output');\n",
       "if (outputEl) {{\n",
       "    x.observe(outputEl, {childList: true});\n",
       "}}\n",
       "\n",
       "                        })                };                });            </script>        </div>"
      ]
     },
     "metadata": {},
     "output_type": "display_data"
    }
   ],
   "source": [
    "# Plotting the actual bar chart\n",
    "chea3_fig = go.Figure(data = [go.Bar(name = c_lib, \n",
    "                                     x = c_lib_means[c_lib], \n",
    "                                     y = sorted_tfs,\n",
    "                                     marker = go.bar.Marker(color = c_lib_palette[c_lib]), \n",
    "                                     orientation = 'h') \n",
    "                              for c_lib in chea3libs_sorted])\n",
    "\n",
    "chea3_fig.update_layout(barmode = 'stack')\n",
    "chea3_fig.update_layout(\n",
    "    title = {\n",
    "        'text': 'Stacked Bar Chart of Average Ranks in Different Libraries',\n",
    "        'y': 0.87,\n",
    "        'x': 0.5,\n",
    "        'xanchor': 'center',\n",
    "        'yanchor': 'top',\n",
    "    },\n",
    "    xaxis_title = 'Average of Ranks Across All Libraries',\n",
    "    yaxis_title = 'Transcription Factors',\n",
    "    font = dict(\n",
    "        size = 16,\n",
    "        color = 'black'\n",
    "    )\n",
    ")\n",
    "\n",
    "chea3_fig.show()"
   ]
  },
  {
   "cell_type": "code",
   "execution_count": 470,
   "id": "16deae11",
   "metadata": {},
   "outputs": [
    {
     "data": {
      "text/html": [
       "<table>\n",
       "<thead>\n",
       "<tr><th style=\"text-align: right;\">  Rank</th><th>Transcription Factor  </th><th style=\"text-align: right;\">  Avg Rank</th><th>Library Ranks                                                                                                                         </th><th>Overlapping Genes                                                            </th></tr>\n",
       "</thead>\n",
       "<tbody>\n",
       "<tr><td style=\"text-align: right;\">     1</td><td>RLF                   </td><td style=\"text-align: right;\">   22.3333</td><td>ARCHS4 Coexpression: 15, Enrichr Queries: 22, GTEx Coexpression: 30                                                                   </td><td>KDM5A, KDM5B, MACF1, EGR1, CHIC2, GADD45B, GADD45A, TIPARP, NCOA3, BNIP3, ...</td></tr>\n",
       "<tr><td style=\"text-align: right;\">     2</td><td>FOXM1                 </td><td style=\"text-align: right;\">   29.5   </td><td>Literature ChIP-seq: 6, ARCHS4 Coexpression: 63, ENCODE ChIP-seq: 51, Enrichr Queries: 33, ReMap ChIP-seq: 7, GTEx Coexpression: 17   </td><td>KDM5A, ARID4B, TMEM97, CDC20, TUBB6, NRAS, NUSAP1, DAG1, PHGDH, PIP4K2B, ... </td></tr>\n",
       "<tr><td style=\"text-align: right;\">     3</td><td>E2F7                  </td><td style=\"text-align: right;\">   29.8   </td><td>Literature ChIP-seq: 53, ARCHS4 Coexpression: 18, Enrichr Queries: 55, ReMap ChIP-seq: 11, GTEx Coexpression: 12                      </td><td>EGR1, HSPA8, GOLT1B, GADD45A, USP22, NCOA3, PLK1, FOS, TICAM1, TRAM2, ...    </td></tr>\n",
       "<tr><td style=\"text-align: right;\">     4</td><td>E2F1                  </td><td style=\"text-align: right;\">   39.8333</td><td>Literature ChIP-seq: 7, ARCHS4 Coexpression: 80, ENCODE ChIP-seq: 42, Enrichr Queries: 51, ReMap ChIP-seq: 46, GTEx Coexpression: 13  </td><td>KDM5B, CCNH, TMEM97, PRSS23, CDC20, SENP6, TUBB6, NUDCD3, NUSAP1, PHGDH, ... </td></tr>\n",
       "<tr><td style=\"text-align: right;\">     5</td><td>ZNF367                </td><td style=\"text-align: right;\">   61.6667</td><td>ARCHS4 Coexpression: 99, Enrichr Queries: 72, GTEx Coexpression: 14                                                                   </td><td>EGR1, NCOA3, PLK1, RPA1, TMEM97, FOS, CDC25A, CDC20, NRAS, MTHFD2, ...       </td></tr>\n",
       "<tr><td style=\"text-align: right;\">     6</td><td>BATF3                 </td><td style=\"text-align: right;\">   63.6667</td><td>ARCHS4 Coexpression: 26, Enrichr Queries: 141, GTEx Coexpression: 24                                                                  </td><td>EGR1, GADD45B, GADD45A, NCOA3, FOS, GABPB1, TICAM1, RELB, NFKB2, RGS2, ...   </td></tr>\n",
       "<tr><td style=\"text-align: right;\">     7</td><td>MYBL2                 </td><td style=\"text-align: right;\">   67     </td><td>Literature ChIP-seq: 15, ARCHS4 Coexpression: 162, ENCODE ChIP-seq: 5, Enrichr Queries: 32, ReMap ChIP-seq: 165, GTEx Coexpression: 23</td><td>KDM5A, KDM5B, GOLT1B, GLRX, TMEM97, EPRS, TRAM2, ARPP19, CDC20, NUDCD3, ...  </td></tr>\n",
       "<tr><td style=\"text-align: right;\">     8</td><td>GTF2B                 </td><td style=\"text-align: right;\">   70     </td><td>ARCHS4 Coexpression: 112, ENCODE ChIP-seq: 44, ReMap ChIP-seq: 19, GTEx Coexpression: 105                                             </td><td>KDM5B, CHIC2, PYGL, TMEM97, GABPB1, ARPP19, CDC20, SENP6, TUBB6, NUSAP1, ... </td></tr>\n",
       "<tr><td style=\"text-align: right;\">     9</td><td>ATF3                  </td><td style=\"text-align: right;\">   72.5   </td><td>Literature ChIP-seq: 112, ARCHS4 Coexpression: 1, ENCODE ChIP-seq: 27, Enrichr Queries: 87, ReMap ChIP-seq: 122, GTEx Coexpression: 86</td><td>CCNH, GLRX, EPRS, LIPA, RELB, RGS2, TUBB6, NUDCD3, NRAS, PHKG2, ...          </td></tr>\n",
       "<tr><td style=\"text-align: right;\">    10</td><td>HMGA2                 </td><td style=\"text-align: right;\">   74.6667</td><td>ARCHS4 Coexpression: 115, Enrichr Queries: 29, GTEx Coexpression: 80                                                                  </td><td>EGR1, GADD45B, GADD45A, NCOA3, FZD7, PLK1, FOS, EPRS, TRAM2, PRSS23, ...     </td></tr>\n",
       "</tbody>\n",
       "</table>"
      ],
      "text/plain": [
       "<IPython.core.display.HTML object>"
      ]
     },
     "metadata": {},
     "output_type": "display_data"
    },
    {
     "data": {
      "text/html": [
       "<a href=\"transcriptionfactors.tsv\">Download table in .tsv</a>"
      ],
      "text/plain": [
       "<IPython.core.display.HTML object>"
      ]
     },
     "metadata": {},
     "output_type": "display_data"
    }
   ],
   "source": [
    "chea3_mr_table = [0] * len(toptfs)\n",
    "\n",
    "chea3_mr_counter = 0\n",
    "# set up a counter for indexing (to fill mrtable)\n",
    "\n",
    "tbl_toptfs = toptfs[::-1]\n",
    "\n",
    "for i in range(len(tbl_toptfs)):\n",
    "    tbl_toptfs[i]['Rank'] = i + 1\n",
    "    \n",
    "for i in tbl_toptfs:\n",
    "    chea3_mr_table[chea3_mr_counter] = [i['Rank'], \n",
    "                                        i['TF'], \n",
    "                                        i['AvgRank'], \n",
    "                                        i['Library'].replace(',', ': ').replace(';', ', '),\n",
    "                                        f\"{', '.join(i['Overlapping_Genes'].split(',')[0:10])}, ...\"]\n",
    "    # filling mrtable, using replace() to reformat a bit\n",
    "    # [0:10] for Overlapping_Genes so that only 10 Overlapping Genes are shown (with '...' after)\n",
    "    chea3_mr_counter += 1\n",
    "\n",
    "# now actually making/printing the table\n",
    "display(HTML(tabulate(chea3_mr_table, ['Rank', \n",
    "                                       'Transcription Factor', \n",
    "                                       'Avg Rank', \n",
    "                                       'Library Ranks',\n",
    "                                       'Overlapping Genes'], \n",
    "                      tablefmt='html')))\n",
    "\n",
    "\n",
    "chea3_tsv_name = 'transcriptionfactors.tsv'\n",
    "with open(chea3_tsv_name, 'w') as tsv_file:\n",
    "    tsv_file.write(tabulate(chea3_mr_table, ['Rank', \n",
    "                                             'Transcription Factor',\n",
    "                                             'Avg Rank', \n",
    "                                             'Library Ranks', \n",
    "                                             'Overlapping Genes'], \n",
    "                            tablefmt='tsv'))\n",
    "    display(HTML(f'<a href=\"{chea3_tsv_name}\">Download table in .tsv</a>'))"
   ]
  },
  {
   "cell_type": "markdown",
   "id": "0b4cb6cf",
   "metadata": {},
   "source": [
    "### Transcription Factor Interactors\n",
    "\n",
    "\"Transcription factor interactors\" are any molecules that interact with the given transcription factor according to the protein-protein interaction database."
   ]
  },
  {
   "cell_type": "code",
   "execution_count": 471,
   "id": "abaa8c96",
   "metadata": {},
   "outputs": [
    {
     "data": {
      "text/html": [
       "RLF interacts with 1 gene(s)/protein(s):"
      ],
      "text/plain": [
       "<IPython.core.display.HTML object>"
      ]
     },
     "metadata": {},
     "output_type": "display_data"
    },
    {
     "data": {
      "text/html": [
       "ZNF280D"
      ],
      "text/plain": [
       "<IPython.core.display.HTML object>"
      ]
     },
     "metadata": {},
     "output_type": "display_data"
    },
    {
     "data": {
      "text/html": [
       "<hr>"
      ],
      "text/plain": [
       "<IPython.core.display.HTML object>"
      ]
     },
     "metadata": {},
     "output_type": "display_data"
    },
    {
     "name": "stdout",
     "output_type": "stream",
     "text": [
      "\n"
     ]
    },
    {
     "data": {
      "text/html": [
       "FOXM1 interacts with 44 gene(s)/protein(s):"
      ],
      "text/plain": [
       "<IPython.core.display.HTML object>"
      ]
     },
     "metadata": {},
     "output_type": "display_data"
    },
    {
     "data": {
      "text/html": [
       "ZBTB3, ACAT1, OS9, SP1, SUMO1, LIN9, MYBL2, LIN54, KIF22, LIN37, LRWD1, ORC2, SMARCA5, ZC3H11A, DARS, PRC1, HERC5, IARS, BMS1, TRMT1L, DDX52, DEPDC1, DNAJC9, ECT2, GTF3C4, LARS, PARS2, PES1, PRPF8, QARS, RBMX, SART1, SMC2, SNRNP200, GSK3A, GSK3B, FBXW7, USP5, RNF8, EZH2, EP300, PLK1, SIRT1, E7"
      ],
      "text/plain": [
       "<IPython.core.display.HTML object>"
      ]
     },
     "metadata": {},
     "output_type": "display_data"
    },
    {
     "data": {
      "text/html": [
       "<hr>"
      ],
      "text/plain": [
       "<IPython.core.display.HTML object>"
      ]
     },
     "metadata": {},
     "output_type": "display_data"
    },
    {
     "name": "stdout",
     "output_type": "stream",
     "text": [
      "\n"
     ]
    },
    {
     "data": {
      "text/html": [
       "E2F7 interacts with 3 gene(s)/protein(s):"
      ],
      "text/plain": [
       "<IPython.core.display.HTML object>"
      ]
     },
     "metadata": {},
     "output_type": "display_data"
    },
    {
     "data": {
      "text/html": [
       "E2F7, HIF1A, CCNF"
      ],
      "text/plain": [
       "<IPython.core.display.HTML object>"
      ]
     },
     "metadata": {},
     "output_type": "display_data"
    },
    {
     "data": {
      "text/html": [
       "<hr>"
      ],
      "text/plain": [
       "<IPython.core.display.HTML object>"
      ]
     },
     "metadata": {},
     "output_type": "display_data"
    },
    {
     "name": "stdout",
     "output_type": "stream",
     "text": [
      "\n"
     ]
    },
    {
     "data": {
      "text/html": [
       "E2F1 interacts with 73 gene(s)/protein(s):"
      ],
      "text/plain": [
       "<IPython.core.display.HTML object>"
      ]
     },
     "metadata": {},
     "output_type": "display_data"
    },
    {
     "data": {
      "text/html": [
       "NCOA6, PKIB, CREBBP, TEAD3, MYBL2, SPIB, MGA, TRRAP, HDAC1, RBBP4, TP53BP1, MDM4, SP1, RNF144A, FHL2, CDK2, CCNA2, SP2, SP4, SP3, NFKB1, Nfkb1, ARID3A, CCNA1, TFDP2, Sp1, CDK7, GSK3B, TBP, YWHAQ, CDKN1A, KAT2A, KAT5, ASH2L, NRIP1, ATAD2, CSNK1A1, IGF1, FZR1, ANAPC5, ESR1, DDB1, DDB2, XIAP, BIRC3, CEBPD, PRMT2, CEBPE, TFB1, ERCC3, SPT15, UHRF2, NCOR2, STAT1, STOML1, UCHL5, PTPN11, TP53, GABPB1, MTA1, E2F1, E2F3, DCAF5, L3MBTL3, NBN, DIABLO, CCNF, PML, IL1R1, JAK1, MBTPS1, ZBTB7A, PCGF6"
      ],
      "text/plain": [
       "<IPython.core.display.HTML object>"
      ]
     },
     "metadata": {},
     "output_type": "display_data"
    },
    {
     "data": {
      "text/html": [
       "<hr>"
      ],
      "text/plain": [
       "<IPython.core.display.HTML object>"
      ]
     },
     "metadata": {},
     "output_type": "display_data"
    },
    {
     "name": "stdout",
     "output_type": "stream",
     "text": [
      "\n"
     ]
    },
    {
     "data": {
      "text/html": [
       "ZNF367 has no known interactors."
      ],
      "text/plain": [
       "<IPython.core.display.HTML object>"
      ]
     },
     "metadata": {},
     "output_type": "display_data"
    },
    {
     "data": {
      "text/html": [
       "<hr>"
      ],
      "text/plain": [
       "<IPython.core.display.HTML object>"
      ]
     },
     "metadata": {},
     "output_type": "display_data"
    },
    {
     "name": "stdout",
     "output_type": "stream",
     "text": [
      "\n"
     ]
    },
    {
     "data": {
      "text/html": [
       "BATF3 interacts with 38 gene(s)/protein(s):"
      ],
      "text/plain": [
       "<IPython.core.display.HTML object>"
      ]
     },
     "metadata": {},
     "output_type": "display_data"
    },
    {
     "data": {
      "text/html": [
       "NFATC2IP, JUN, BACH2, BATF3, BATF, ATF3, ATF4, JUNB, ATF2, DBP, CEBPE, CEBPA, CEBPG, ATF7, LDOC1L, ZNF451, JUND, BACH1, ZBTB10, USF1, CREB5, TARSL2, GOPC, TLK1, ARIH1, ANKHD1-EIF4EBP3, NRD1, C18orf25, UBE2R2, NPTX2, RAD18, GAPDHS, EEF1D, CARS, GOLIM4, RHOXF2, AGXT, FOSL1"
      ],
      "text/plain": [
       "<IPython.core.display.HTML object>"
      ]
     },
     "metadata": {},
     "output_type": "display_data"
    },
    {
     "data": {
      "text/html": [
       "<hr>"
      ],
      "text/plain": [
       "<IPython.core.display.HTML object>"
      ]
     },
     "metadata": {},
     "output_type": "display_data"
    },
    {
     "name": "stdout",
     "output_type": "stream",
     "text": [
      "\n"
     ]
    },
    {
     "data": {
      "text/html": [
       "MYBL2 interacts with 59 gene(s)/protein(s):"
      ],
      "text/plain": [
       "<IPython.core.display.HTML object>"
      ]
     },
     "metadata": {},
     "output_type": "display_data"
    },
    {
     "data": {
      "text/html": [
       "ZNF622, CDKN1C, CREBBP, PARP1, MYBL2, CDK9, CCNT1, LZTR1, TRIM15, ZBTB9, RBBP4, FLNA, SPTA1, CLTC, SPTBN1, CLTA, UBE2D4, CCNF, DHRS2, HIST1H1E, HIST1H1B, BPTF, CHD3, MBD2, C17orf49, CDK2AP1, BRMS1L, MTA2, PWWP2A, BCL11A, GATAD2A, SAP30, MBD3, SUDS3, HMGXB4, ZNF512B, MTA1, PHF1, SMARCA1, EED, SHPRH, EZH2, SUZ12, GATAD1, HAT1, CHD4, ARID4B, SIN3A, CHAF1A, HJURP, CHAF1B, SAP130, SMARCA5, HDAC2, DPY30, CHD5, ZNF296, BCL11B, EZH1"
      ],
      "text/plain": [
       "<IPython.core.display.HTML object>"
      ]
     },
     "metadata": {},
     "output_type": "display_data"
    },
    {
     "data": {
      "text/html": [
       "<hr>"
      ],
      "text/plain": [
       "<IPython.core.display.HTML object>"
      ]
     },
     "metadata": {},
     "output_type": "display_data"
    },
    {
     "name": "stdout",
     "output_type": "stream",
     "text": [
      "\n"
     ]
    },
    {
     "data": {
      "text/html": [
       "GTF2B interacts with 42 gene(s)/protein(s):"
      ],
      "text/plain": [
       "<IPython.core.display.HTML object>"
      ]
     },
     "metadata": {},
     "output_type": "display_data"
    },
    {
     "data": {
      "text/html": [
       "TBP, TAF11, GTF2H4, GTF2F2, REL, POLR3A, PKP2, NR5A1, KLF5, CTDP1, POLR2H, UL48, NCOR1, NXF1, POLR2E, THRA, SRA1, SLC22A2, HMGCL, JAK3, TNIP1, DRAP1, IGKC, SERPINB1, AMY1C, CST4, CST1, CST2, PIGR, NME2P1, ZG16B, MUC7, IGHA1, PRB1, OXSM, ALKBH2, NAP1L1, NSUN2, PRPF18, RFC5, IGJ, GOLGA6L9"
      ],
      "text/plain": [
       "<IPython.core.display.HTML object>"
      ]
     },
     "metadata": {},
     "output_type": "display_data"
    },
    {
     "data": {
      "text/html": [
       "<hr>"
      ],
      "text/plain": [
       "<IPython.core.display.HTML object>"
      ]
     },
     "metadata": {},
     "output_type": "display_data"
    },
    {
     "name": "stdout",
     "output_type": "stream",
     "text": [
      "\n"
     ]
    },
    {
     "data": {
      "text/html": [
       "ATF3 interacts with 37 gene(s)/protein(s):"
      ],
      "text/plain": [
       "<IPython.core.display.HTML object>"
      ]
     },
     "metadata": {},
     "output_type": "display_data"
    },
    {
     "data": {
      "text/html": [
       "JUN, SMAD3, IGSF21, LRIF1, TP53, JUND, POLR3D, ATF2, SS18L1, SMARCA4, RELA, CEBPE, HDAC1, SMAD2, CREBBP, PDX1, ACTB, HDAC6, ATF3, FHL2, ID3, SRA1, FOSL1, FOS, JUNB, CEBPA, CEBPG, SUV39H1, KAT5, ATF7, CALD1, CAPZA1, CAPZA2, CORO1B, EEF1B2, MYL6B, TPM4"
      ],
      "text/plain": [
       "<IPython.core.display.HTML object>"
      ]
     },
     "metadata": {},
     "output_type": "display_data"
    },
    {
     "data": {
      "text/html": [
       "<hr>"
      ],
      "text/plain": [
       "<IPython.core.display.HTML object>"
      ]
     },
     "metadata": {},
     "output_type": "display_data"
    },
    {
     "name": "stdout",
     "output_type": "stream",
     "text": [
      "\n"
     ]
    },
    {
     "data": {
      "text/html": [
       "HMGA2 interacts with 18 gene(s)/protein(s):"
      ],
      "text/plain": [
       "<IPython.core.display.HTML object>"
      ]
     },
     "metadata": {},
     "output_type": "display_data"
    },
    {
     "data": {
      "text/html": [
       "RELA, NFKB1, PIAS3, NPM1, SMAD1, SMAD5, SMAD9, PTBP1, APEX1, SYNCRIP, XRCC6, PSIP1, PA2G4, PCBP2, E4F1, TP53, MDM2, KAT2B"
      ],
      "text/plain": [
       "<IPython.core.display.HTML object>"
      ]
     },
     "metadata": {},
     "output_type": "display_data"
    },
    {
     "data": {
      "text/html": [
       "<hr>"
      ],
      "text/plain": [
       "<IPython.core.display.HTML object>"
      ]
     },
     "metadata": {},
     "output_type": "display_data"
    },
    {
     "name": "stdout",
     "output_type": "stream",
     "text": [
      "\n"
     ]
    }
   ],
   "source": [
    "for name in toptfnames:\n",
    "    if ppi_dict.get(name):\n",
    "        display(HTML(f\"{name} interacts with {len(ppi_dict.get(name))} gene(s)/protein(s):\"))\n",
    "        display(HTML(', '.join(ppi_dict.get(name))))\n",
    "    else:\n",
    "        display(HTML(f\"{name} has no known interactors.\"))\n",
    "    display(HTML(f\"<hr>\"))\n",
    "    print('')"
   ]
  },
  {
   "cell_type": "markdown",
   "id": "7b11ad33",
   "metadata": {},
   "source": [
    "## Relevant Transcription Factor Interactors\n",
    "\n",
    "\"Relevant transcription factor interactors\" are transcription factor interactors that are shared among at least 2 of the top trasncription factors themselves."
   ]
  },
  {
   "cell_type": "code",
   "execution_count": 472,
   "id": "d0b22f21",
   "metadata": {},
   "outputs": [
    {
     "data": {
      "text/html": [
       "There are 27 relevant transcription factor interactors:"
      ],
      "text/plain": [
       "<IPython.core.display.HTML object>"
      ]
     },
     "metadata": {},
     "output_type": "display_data"
    },
    {
     "data": {
      "text/html": [
       "SP1, MYBL2, SMARCA5, GSK3B, EZH2, CCNF, CREBBP, HDAC1, RBBP4, FHL2, NFKB1, TBP, KAT5, CEBPE, TP53, MTA1, JUN, ATF3, JUNB, ATF2, CEBPA, CEBPG, ATF7, JUND, FOSL1, SRA1, RELA"
      ],
      "text/plain": [
       "<IPython.core.display.HTML object>"
      ]
     },
     "metadata": {},
     "output_type": "display_data"
    }
   ],
   "source": [
    "display(HTML(f\"There are {len(top_tf_interactors)} relevant transcription factor interactors:\"))\n",
    "display(HTML(', '.join(top_tf_interactors)))"
   ]
  },
  {
   "cell_type": "code",
   "execution_count": 473,
   "id": "683fe5cc",
   "metadata": {},
   "outputs": [
    {
     "data": {
      "text/html": [
       "<table>\n",
       "<thead>\n",
       "<tr><th style=\"text-align: right;\">  </th><th>TF Interactors  </th></tr>\n",
       "</thead>\n",
       "<tbody>\n",
       "<tr><td style=\"text-align: right;\"> 1</td><td>SP1             </td></tr>\n",
       "<tr><td style=\"text-align: right;\"> 2</td><td>MYBL2           </td></tr>\n",
       "<tr><td style=\"text-align: right;\"> 3</td><td>SMARCA5         </td></tr>\n",
       "<tr><td style=\"text-align: right;\"> 4</td><td>GSK3B           </td></tr>\n",
       "<tr><td style=\"text-align: right;\"> 5</td><td>EZH2            </td></tr>\n",
       "<tr><td style=\"text-align: right;\"> 6</td><td>CCNF            </td></tr>\n",
       "<tr><td style=\"text-align: right;\"> 7</td><td>CREBBP          </td></tr>\n",
       "<tr><td style=\"text-align: right;\"> 8</td><td>HDAC1           </td></tr>\n",
       "<tr><td style=\"text-align: right;\"> 9</td><td>RBBP4           </td></tr>\n",
       "<tr><td style=\"text-align: right;\">10</td><td>FHL2            </td></tr>\n",
       "<tr><td style=\"text-align: right;\">11</td><td>NFKB1           </td></tr>\n",
       "<tr><td style=\"text-align: right;\">12</td><td>TBP             </td></tr>\n",
       "<tr><td style=\"text-align: right;\">13</td><td>KAT5            </td></tr>\n",
       "<tr><td style=\"text-align: right;\">14</td><td>CEBPE           </td></tr>\n",
       "<tr><td style=\"text-align: right;\">15</td><td>TP53            </td></tr>\n",
       "<tr><td style=\"text-align: right;\">16</td><td>MTA1            </td></tr>\n",
       "<tr><td style=\"text-align: right;\">17</td><td>JUN             </td></tr>\n",
       "<tr><td style=\"text-align: right;\">18</td><td>ATF3            </td></tr>\n",
       "<tr><td style=\"text-align: right;\">19</td><td>JUNB            </td></tr>\n",
       "<tr><td style=\"text-align: right;\">20</td><td>ATF2            </td></tr>\n",
       "<tr><td style=\"text-align: right;\">21</td><td>CEBPA           </td></tr>\n",
       "<tr><td style=\"text-align: right;\">22</td><td>CEBPG           </td></tr>\n",
       "<tr><td style=\"text-align: right;\">23</td><td>ATF7            </td></tr>\n",
       "<tr><td style=\"text-align: right;\">24</td><td>JUND            </td></tr>\n",
       "<tr><td style=\"text-align: right;\">25</td><td>FOSL1           </td></tr>\n",
       "<tr><td style=\"text-align: right;\">26</td><td>SRA1            </td></tr>\n",
       "<tr><td style=\"text-align: right;\">27</td><td>RELA            </td></tr>\n",
       "</tbody>\n",
       "</table>"
      ],
      "text/plain": [
       "<IPython.core.display.HTML object>"
      ]
     },
     "metadata": {},
     "output_type": "display_data"
    },
    {
     "data": {
      "text/html": [
       "<a href=\"tf_interactors.tsv\">Download table in .tsv</a>"
      ],
      "text/plain": [
       "<IPython.core.display.HTML object>"
      ]
     },
     "metadata": {},
     "output_type": "display_data"
    }
   ],
   "source": [
    "rtf_fortable = []\n",
    "    \n",
    "for i in range(len(top_tf_interactors)):\n",
    "    rtf_fortable.append([i+1, top_tf_interactors[i]])\n",
    "    \n",
    "display(HTML(tabulate(rtf_fortable, ['','TF Interactors'], tablefmt='html')))\n",
    "\n",
    "rtf_tsv_name = 'tf_interactors.tsv'\n",
    "with open(rtf_tsv_name, 'w') as tsv_file:\n",
    "    tsv_file.write(tabulate(rtf_fortable, ['','TF Interactors'], tablefmt='tsv'))\n",
    "    display(HTML(f'<a href=\"{rtf_tsv_name}\">Download table in .tsv</a>'))"
   ]
  },
  {
   "cell_type": "markdown",
   "id": "c728e3bb",
   "metadata": {},
   "source": [
    "## Kinases"
   ]
  },
  {
   "cell_type": "code",
   "execution_count": 474,
   "id": "ab45e96b",
   "metadata": {},
   "outputs": [
    {
     "data": {
      "text/html": [
       "MAPK9, MAPK8, PRKDC, MAPK1, CHUK, MAPK10, MAPK14, VRK1, CDK1, ATR"
      ],
      "text/plain": [
       "<IPython.core.display.HTML object>"
      ]
     },
     "metadata": {},
     "output_type": "display_data"
    }
   ],
   "source": [
    "display(HTML(', '.join(topkinnames)))"
   ]
  },
  {
   "cell_type": "code",
   "execution_count": 475,
   "id": "09ae3de9",
   "metadata": {},
   "outputs": [],
   "source": [
    "###### Preparing to Plot the Kinases Bar Chart ######\n",
    "\n",
    "k_lib_palette = {'BioGRID': 'rgb(196, 8, 8)', 'ChengKSIN': 'rgb(244, 109, 67)', \n",
    "                 'ChengPPI': 'rgb(242, 172, 68)','HIPPIE': 'rgb(236, 252, 68)', \n",
    "                 'mentha': 'rgb(165, 242, 162)', 'MINT': 'rgb(92, 217, 78)',\n",
    "                 'PhosDAll': 'rgb(0, 138, 64)', 'prePPI': 'rgb(96, 191, 235)', \n",
    "                 'PTMsigDB': 'rgb(14, 130, 201)', 'STRING': 'rgb(58, 50, 168)', \n",
    "                 'STRING.bind': 'rgb(158, 50, 168)'}\n",
    "# this sets all the color values for all the libraries that will be displayed in the bar chart\n",
    "\n",
    "# NOTE: removed Integrated mean/topRank since those are compiled from the above 6 libraries \n",
    "# afterwards and so none of the TFs will have Integrated mean/topRank as one of their libraries\n",
    "\n",
    "kin_amt = len(sorted_topkinresults)\n",
    "\n",
    "k_lib_means = {'STRING.bind': [0] * kin_amt, 'ChengPPI': [0] * kin_amt, \n",
    "               'PhosDAll': [0] * kin_amt, 'BioGRID': [0] * kin_amt, \n",
    "               'HIPPIE': [0] * kin_amt, 'ChengKSIN': [0] * kin_amt,\n",
    "               'STRING': [0] * kin_amt, 'MINT': [0] * kin_amt, \n",
    "               'mentha': [0] * kin_amt, 'prePPI': [0] * kin_amt,\n",
    "               'PTMsigDB': [0] * kin_amt}\n",
    "# creates a dictionary where each library is a key, and the values are empty lists with as\n",
    "# many indices/spaces as the user has requested transcription factors (ex: if the user\n",
    "# requests 15 TFs to be returned, the lists will have 15 spaces)\n",
    "\n",
    "# need to reverse the order for plotting (go.Figure plots \"backwards\" sort of)    \n",
    "sorted_topkinresults = sorted_topkinresults[::-1]\n",
    "\n",
    "sorted_kins = []\n",
    "for i in range(0, len(sorted_topkinresults)):\n",
    "    sorted_kins.append(sorted_topkinresults[i].get('TF'))\n",
    "    # this pulls only the TF name from top_results and adds it to sorted_tfs\n",
    "\n",
    "for i, tfentry in enumerate(sorted_topkinresults):\n",
    "    libscores = tfentry['Library'].split(';')\n",
    "    for a in libscores:\n",
    "        lib, value = a.split(',')\n",
    "        rank = indexfinder(kea3ranking_dict[lib], int(value))\n",
    "        avg = tfentry['AvgRank']\n",
    "        tot = tfentry['SumRank']\n",
    "        bar_length = (rank*avg)/tot\n",
    "        k_lib_means[lib][i] = float(bar_length)"
   ]
  },
  {
   "cell_type": "code",
   "execution_count": 476,
   "id": "f81b23e8",
   "metadata": {},
   "outputs": [
    {
     "data": {
      "application/vnd.plotly.v1+json": {
       "config": {
        "plotlyServerURL": "https://plot.ly"
       },
       "data": [
        {
         "marker": {
          "color": "rgb(196, 8, 8)"
         },
         "name": "BioGRID",
         "orientation": "h",
         "type": "bar",
         "x": [
          2,
          1.6,
          1,
          2.272727272727273,
          0.5,
          1.1818181818181817,
          0.2727272727272727,
          5.454545454545454,
          0.09090909090909091,
          0.2
         ],
         "y": [
          "ATR",
          "CDK1",
          "VRK1",
          "MAPK14",
          "MAPK10",
          "CHUK",
          "MAPK1",
          "PRKDC",
          "MAPK8",
          "MAPK9"
         ]
        },
        {
         "marker": {
          "color": "rgb(244, 109, 67)"
         },
         "name": "ChengKSIN",
         "orientation": "h",
         "type": "bar",
         "x": [
          3.1999999999999997,
          0,
          0.5,
          0.9090909090909092,
          1.9,
          0.6363636363636364,
          0.18181818181818182,
          2,
          0.09090909090909091,
          0.6000000000000001
         ],
         "y": [
          "ATR",
          "CDK1",
          "VRK1",
          "MAPK14",
          "MAPK10",
          "CHUK",
          "MAPK1",
          "PRKDC",
          "MAPK8",
          "MAPK9"
         ]
        },
        {
         "marker": {
          "color": "rgb(242, 172, 68)"
         },
         "name": "ChengPPI",
         "orientation": "h",
         "type": "bar",
         "x": [
          1.7999999999999998,
          5.1,
          1.3,
          0.36363636363636365,
          0.5,
          0.7272727272727272,
          1.7272727272727273,
          0.27272727272727276,
          0.18181818181818182,
          0.1
         ],
         "y": [
          "ATR",
          "CDK1",
          "VRK1",
          "MAPK14",
          "MAPK10",
          "CHUK",
          "MAPK1",
          "PRKDC",
          "MAPK8",
          "MAPK9"
         ]
        },
        {
         "marker": {
          "color": "rgb(236, 252, 68)"
         },
         "name": "HIPPIE",
         "orientation": "h",
         "type": "bar",
         "x": [
          3.9,
          1.1,
          2.5,
          0.36363636363636365,
          0.1,
          2.1818181818181817,
          0.6363636363636364,
          0.9090909090909091,
          0.18181818181818182,
          0.30000000000000004
         ],
         "y": [
          "ATR",
          "CDK1",
          "VRK1",
          "MAPK14",
          "MAPK10",
          "CHUK",
          "MAPK1",
          "PRKDC",
          "MAPK8",
          "MAPK9"
         ]
        },
        {
         "marker": {
          "color": "rgb(165, 242, 162)"
         },
         "name": "mentha",
         "orientation": "h",
         "type": "bar",
         "x": [
          2.6999999999999997,
          0.7,
          1.6,
          0.8181818181818182,
          0.2,
          1.6363636363636362,
          0.2727272727272727,
          0.45454545454545453,
          0.09090909090909091,
          0.6000000000000001
         ],
         "y": [
          "ATR",
          "CDK1",
          "VRK1",
          "MAPK14",
          "MAPK10",
          "CHUK",
          "MAPK1",
          "PRKDC",
          "MAPK8",
          "MAPK9"
         ]
        },
        {
         "marker": {
          "color": "rgb(92, 217, 78)"
         },
         "name": "MINT",
         "orientation": "h",
         "type": "bar",
         "x": [
          0,
          0.3,
          0,
          2.3636363636363638,
          0,
          1.0909090909090908,
          3.090909090909091,
          0.45454545454545453,
          2.5454545454545454,
          0
         ],
         "y": [
          "ATR",
          "CDK1",
          "VRK1",
          "MAPK14",
          "MAPK10",
          "CHUK",
          "MAPK1",
          "PRKDC",
          "MAPK8",
          "MAPK9"
         ]
        },
        {
         "marker": {
          "color": "rgb(0, 138, 64)"
         },
         "name": "PhosDAll",
         "orientation": "h",
         "type": "bar",
         "x": [
          0.7,
          3.7,
          0.9000000000000001,
          2.5454545454545454,
          1.5,
          3.727272727272727,
          2.8181818181818183,
          2.909090909090909,
          3.272727272727273,
          0.4
         ],
         "y": [
          "ATR",
          "CDK1",
          "VRK1",
          "MAPK14",
          "MAPK10",
          "CHUK",
          "MAPK1",
          "PRKDC",
          "MAPK8",
          "MAPK9"
         ]
        },
        {
         "marker": {
          "color": "rgb(96, 191, 235)"
         },
         "name": "prePPI",
         "orientation": "h",
         "type": "bar",
         "x": [
          2.1999999999999997,
          3.2,
          5.7,
          2.272727272727273,
          1,
          7.8181818181818175,
          3.1818181818181817,
          1.4545454545454546,
          0.8181818181818182,
          0.30000000000000004
         ],
         "y": [
          "ATR",
          "CDK1",
          "VRK1",
          "MAPK14",
          "MAPK10",
          "CHUK",
          "MAPK1",
          "PRKDC",
          "MAPK8",
          "MAPK9"
         ]
        },
        {
         "marker": {
          "color": "rgb(14, 130, 201)"
         },
         "name": "PTMsigDB",
         "orientation": "h",
         "type": "bar",
         "x": [
          2.6,
          2,
          0.30000000000000004,
          0.4545454545454546,
          12.8,
          0.8181818181818181,
          0.5454545454545454,
          2,
          0.18181818181818182,
          1.1
         ],
         "y": [
          "ATR",
          "CDK1",
          "VRK1",
          "MAPK14",
          "MAPK10",
          "CHUK",
          "MAPK1",
          "PRKDC",
          "MAPK8",
          "MAPK9"
         ]
        },
        {
         "marker": {
          "color": "rgb(58, 50, 168)"
         },
         "name": "STRING",
         "orientation": "h",
         "type": "bar",
         "x": [
          4.6,
          6.6,
          13.600000000000001,
          7.363636363636364,
          6.1,
          3.6363636363636362,
          7.636363636363637,
          4.7272727272727275,
          4.090909090909091,
          0.4
         ],
         "y": [
          "ATR",
          "CDK1",
          "VRK1",
          "MAPK14",
          "MAPK10",
          "CHUK",
          "MAPK1",
          "PRKDC",
          "MAPK8",
          "MAPK9"
         ]
        },
        {
         "marker": {
          "color": "rgb(158, 50, 168)"
         },
         "name": "STRING.bind",
         "orientation": "h",
         "type": "bar",
         "x": [
          7.199999999999999,
          4.7,
          1.2000000000000002,
          5.545454545454546,
          0.4,
          1,
          1.6363636363636365,
          1.2727272727272727,
          0.09090909090909091,
          0.2
         ],
         "y": [
          "ATR",
          "CDK1",
          "VRK1",
          "MAPK14",
          "MAPK10",
          "CHUK",
          "MAPK1",
          "PRKDC",
          "MAPK8",
          "MAPK9"
         ]
        }
       ],
       "layout": {
        "barmode": "stack",
        "font": {
         "color": "black",
         "size": 16
        },
        "template": {
         "data": {
          "bar": [
           {
            "error_x": {
             "color": "#2a3f5f"
            },
            "error_y": {
             "color": "#2a3f5f"
            },
            "marker": {
             "line": {
              "color": "#E5ECF6",
              "width": 0.5
             },
             "pattern": {
              "fillmode": "overlay",
              "size": 10,
              "solidity": 0.2
             }
            },
            "type": "bar"
           }
          ],
          "barpolar": [
           {
            "marker": {
             "line": {
              "color": "#E5ECF6",
              "width": 0.5
             },
             "pattern": {
              "fillmode": "overlay",
              "size": 10,
              "solidity": 0.2
             }
            },
            "type": "barpolar"
           }
          ],
          "carpet": [
           {
            "aaxis": {
             "endlinecolor": "#2a3f5f",
             "gridcolor": "white",
             "linecolor": "white",
             "minorgridcolor": "white",
             "startlinecolor": "#2a3f5f"
            },
            "baxis": {
             "endlinecolor": "#2a3f5f",
             "gridcolor": "white",
             "linecolor": "white",
             "minorgridcolor": "white",
             "startlinecolor": "#2a3f5f"
            },
            "type": "carpet"
           }
          ],
          "choropleth": [
           {
            "colorbar": {
             "outlinewidth": 0,
             "ticks": ""
            },
            "type": "choropleth"
           }
          ],
          "contour": [
           {
            "colorbar": {
             "outlinewidth": 0,
             "ticks": ""
            },
            "colorscale": [
             [
              0,
              "#0d0887"
             ],
             [
              0.1111111111111111,
              "#46039f"
             ],
             [
              0.2222222222222222,
              "#7201a8"
             ],
             [
              0.3333333333333333,
              "#9c179e"
             ],
             [
              0.4444444444444444,
              "#bd3786"
             ],
             [
              0.5555555555555556,
              "#d8576b"
             ],
             [
              0.6666666666666666,
              "#ed7953"
             ],
             [
              0.7777777777777778,
              "#fb9f3a"
             ],
             [
              0.8888888888888888,
              "#fdca26"
             ],
             [
              1,
              "#f0f921"
             ]
            ],
            "type": "contour"
           }
          ],
          "contourcarpet": [
           {
            "colorbar": {
             "outlinewidth": 0,
             "ticks": ""
            },
            "type": "contourcarpet"
           }
          ],
          "heatmap": [
           {
            "colorbar": {
             "outlinewidth": 0,
             "ticks": ""
            },
            "colorscale": [
             [
              0,
              "#0d0887"
             ],
             [
              0.1111111111111111,
              "#46039f"
             ],
             [
              0.2222222222222222,
              "#7201a8"
             ],
             [
              0.3333333333333333,
              "#9c179e"
             ],
             [
              0.4444444444444444,
              "#bd3786"
             ],
             [
              0.5555555555555556,
              "#d8576b"
             ],
             [
              0.6666666666666666,
              "#ed7953"
             ],
             [
              0.7777777777777778,
              "#fb9f3a"
             ],
             [
              0.8888888888888888,
              "#fdca26"
             ],
             [
              1,
              "#f0f921"
             ]
            ],
            "type": "heatmap"
           }
          ],
          "heatmapgl": [
           {
            "colorbar": {
             "outlinewidth": 0,
             "ticks": ""
            },
            "colorscale": [
             [
              0,
              "#0d0887"
             ],
             [
              0.1111111111111111,
              "#46039f"
             ],
             [
              0.2222222222222222,
              "#7201a8"
             ],
             [
              0.3333333333333333,
              "#9c179e"
             ],
             [
              0.4444444444444444,
              "#bd3786"
             ],
             [
              0.5555555555555556,
              "#d8576b"
             ],
             [
              0.6666666666666666,
              "#ed7953"
             ],
             [
              0.7777777777777778,
              "#fb9f3a"
             ],
             [
              0.8888888888888888,
              "#fdca26"
             ],
             [
              1,
              "#f0f921"
             ]
            ],
            "type": "heatmapgl"
           }
          ],
          "histogram": [
           {
            "marker": {
             "pattern": {
              "fillmode": "overlay",
              "size": 10,
              "solidity": 0.2
             }
            },
            "type": "histogram"
           }
          ],
          "histogram2d": [
           {
            "colorbar": {
             "outlinewidth": 0,
             "ticks": ""
            },
            "colorscale": [
             [
              0,
              "#0d0887"
             ],
             [
              0.1111111111111111,
              "#46039f"
             ],
             [
              0.2222222222222222,
              "#7201a8"
             ],
             [
              0.3333333333333333,
              "#9c179e"
             ],
             [
              0.4444444444444444,
              "#bd3786"
             ],
             [
              0.5555555555555556,
              "#d8576b"
             ],
             [
              0.6666666666666666,
              "#ed7953"
             ],
             [
              0.7777777777777778,
              "#fb9f3a"
             ],
             [
              0.8888888888888888,
              "#fdca26"
             ],
             [
              1,
              "#f0f921"
             ]
            ],
            "type": "histogram2d"
           }
          ],
          "histogram2dcontour": [
           {
            "colorbar": {
             "outlinewidth": 0,
             "ticks": ""
            },
            "colorscale": [
             [
              0,
              "#0d0887"
             ],
             [
              0.1111111111111111,
              "#46039f"
             ],
             [
              0.2222222222222222,
              "#7201a8"
             ],
             [
              0.3333333333333333,
              "#9c179e"
             ],
             [
              0.4444444444444444,
              "#bd3786"
             ],
             [
              0.5555555555555556,
              "#d8576b"
             ],
             [
              0.6666666666666666,
              "#ed7953"
             ],
             [
              0.7777777777777778,
              "#fb9f3a"
             ],
             [
              0.8888888888888888,
              "#fdca26"
             ],
             [
              1,
              "#f0f921"
             ]
            ],
            "type": "histogram2dcontour"
           }
          ],
          "mesh3d": [
           {
            "colorbar": {
             "outlinewidth": 0,
             "ticks": ""
            },
            "type": "mesh3d"
           }
          ],
          "parcoords": [
           {
            "line": {
             "colorbar": {
              "outlinewidth": 0,
              "ticks": ""
             }
            },
            "type": "parcoords"
           }
          ],
          "pie": [
           {
            "automargin": true,
            "type": "pie"
           }
          ],
          "scatter": [
           {
            "marker": {
             "colorbar": {
              "outlinewidth": 0,
              "ticks": ""
             }
            },
            "type": "scatter"
           }
          ],
          "scatter3d": [
           {
            "line": {
             "colorbar": {
              "outlinewidth": 0,
              "ticks": ""
             }
            },
            "marker": {
             "colorbar": {
              "outlinewidth": 0,
              "ticks": ""
             }
            },
            "type": "scatter3d"
           }
          ],
          "scattercarpet": [
           {
            "marker": {
             "colorbar": {
              "outlinewidth": 0,
              "ticks": ""
             }
            },
            "type": "scattercarpet"
           }
          ],
          "scattergeo": [
           {
            "marker": {
             "colorbar": {
              "outlinewidth": 0,
              "ticks": ""
             }
            },
            "type": "scattergeo"
           }
          ],
          "scattergl": [
           {
            "marker": {
             "colorbar": {
              "outlinewidth": 0,
              "ticks": ""
             }
            },
            "type": "scattergl"
           }
          ],
          "scattermapbox": [
           {
            "marker": {
             "colorbar": {
              "outlinewidth": 0,
              "ticks": ""
             }
            },
            "type": "scattermapbox"
           }
          ],
          "scatterpolar": [
           {
            "marker": {
             "colorbar": {
              "outlinewidth": 0,
              "ticks": ""
             }
            },
            "type": "scatterpolar"
           }
          ],
          "scatterpolargl": [
           {
            "marker": {
             "colorbar": {
              "outlinewidth": 0,
              "ticks": ""
             }
            },
            "type": "scatterpolargl"
           }
          ],
          "scatterternary": [
           {
            "marker": {
             "colorbar": {
              "outlinewidth": 0,
              "ticks": ""
             }
            },
            "type": "scatterternary"
           }
          ],
          "surface": [
           {
            "colorbar": {
             "outlinewidth": 0,
             "ticks": ""
            },
            "colorscale": [
             [
              0,
              "#0d0887"
             ],
             [
              0.1111111111111111,
              "#46039f"
             ],
             [
              0.2222222222222222,
              "#7201a8"
             ],
             [
              0.3333333333333333,
              "#9c179e"
             ],
             [
              0.4444444444444444,
              "#bd3786"
             ],
             [
              0.5555555555555556,
              "#d8576b"
             ],
             [
              0.6666666666666666,
              "#ed7953"
             ],
             [
              0.7777777777777778,
              "#fb9f3a"
             ],
             [
              0.8888888888888888,
              "#fdca26"
             ],
             [
              1,
              "#f0f921"
             ]
            ],
            "type": "surface"
           }
          ],
          "table": [
           {
            "cells": {
             "fill": {
              "color": "#EBF0F8"
             },
             "line": {
              "color": "white"
             }
            },
            "header": {
             "fill": {
              "color": "#C8D4E3"
             },
             "line": {
              "color": "white"
             }
            },
            "type": "table"
           }
          ]
         },
         "layout": {
          "annotationdefaults": {
           "arrowcolor": "#2a3f5f",
           "arrowhead": 0,
           "arrowwidth": 1
          },
          "autotypenumbers": "strict",
          "coloraxis": {
           "colorbar": {
            "outlinewidth": 0,
            "ticks": ""
           }
          },
          "colorscale": {
           "diverging": [
            [
             0,
             "#8e0152"
            ],
            [
             0.1,
             "#c51b7d"
            ],
            [
             0.2,
             "#de77ae"
            ],
            [
             0.3,
             "#f1b6da"
            ],
            [
             0.4,
             "#fde0ef"
            ],
            [
             0.5,
             "#f7f7f7"
            ],
            [
             0.6,
             "#e6f5d0"
            ],
            [
             0.7,
             "#b8e186"
            ],
            [
             0.8,
             "#7fbc41"
            ],
            [
             0.9,
             "#4d9221"
            ],
            [
             1,
             "#276419"
            ]
           ],
           "sequential": [
            [
             0,
             "#0d0887"
            ],
            [
             0.1111111111111111,
             "#46039f"
            ],
            [
             0.2222222222222222,
             "#7201a8"
            ],
            [
             0.3333333333333333,
             "#9c179e"
            ],
            [
             0.4444444444444444,
             "#bd3786"
            ],
            [
             0.5555555555555556,
             "#d8576b"
            ],
            [
             0.6666666666666666,
             "#ed7953"
            ],
            [
             0.7777777777777778,
             "#fb9f3a"
            ],
            [
             0.8888888888888888,
             "#fdca26"
            ],
            [
             1,
             "#f0f921"
            ]
           ],
           "sequentialminus": [
            [
             0,
             "#0d0887"
            ],
            [
             0.1111111111111111,
             "#46039f"
            ],
            [
             0.2222222222222222,
             "#7201a8"
            ],
            [
             0.3333333333333333,
             "#9c179e"
            ],
            [
             0.4444444444444444,
             "#bd3786"
            ],
            [
             0.5555555555555556,
             "#d8576b"
            ],
            [
             0.6666666666666666,
             "#ed7953"
            ],
            [
             0.7777777777777778,
             "#fb9f3a"
            ],
            [
             0.8888888888888888,
             "#fdca26"
            ],
            [
             1,
             "#f0f921"
            ]
           ]
          },
          "colorway": [
           "#636efa",
           "#EF553B",
           "#00cc96",
           "#ab63fa",
           "#FFA15A",
           "#19d3f3",
           "#FF6692",
           "#B6E880",
           "#FF97FF",
           "#FECB52"
          ],
          "font": {
           "color": "#2a3f5f"
          },
          "geo": {
           "bgcolor": "white",
           "lakecolor": "white",
           "landcolor": "#E5ECF6",
           "showlakes": true,
           "showland": true,
           "subunitcolor": "white"
          },
          "hoverlabel": {
           "align": "left"
          },
          "hovermode": "closest",
          "mapbox": {
           "style": "light"
          },
          "paper_bgcolor": "white",
          "plot_bgcolor": "#E5ECF6",
          "polar": {
           "angularaxis": {
            "gridcolor": "white",
            "linecolor": "white",
            "ticks": ""
           },
           "bgcolor": "#E5ECF6",
           "radialaxis": {
            "gridcolor": "white",
            "linecolor": "white",
            "ticks": ""
           }
          },
          "scene": {
           "xaxis": {
            "backgroundcolor": "#E5ECF6",
            "gridcolor": "white",
            "gridwidth": 2,
            "linecolor": "white",
            "showbackground": true,
            "ticks": "",
            "zerolinecolor": "white"
           },
           "yaxis": {
            "backgroundcolor": "#E5ECF6",
            "gridcolor": "white",
            "gridwidth": 2,
            "linecolor": "white",
            "showbackground": true,
            "ticks": "",
            "zerolinecolor": "white"
           },
           "zaxis": {
            "backgroundcolor": "#E5ECF6",
            "gridcolor": "white",
            "gridwidth": 2,
            "linecolor": "white",
            "showbackground": true,
            "ticks": "",
            "zerolinecolor": "white"
           }
          },
          "shapedefaults": {
           "line": {
            "color": "#2a3f5f"
           }
          },
          "ternary": {
           "aaxis": {
            "gridcolor": "white",
            "linecolor": "white",
            "ticks": ""
           },
           "baxis": {
            "gridcolor": "white",
            "linecolor": "white",
            "ticks": ""
           },
           "bgcolor": "#E5ECF6",
           "caxis": {
            "gridcolor": "white",
            "linecolor": "white",
            "ticks": ""
           }
          },
          "title": {
           "x": 0.05
          },
          "xaxis": {
           "automargin": true,
           "gridcolor": "white",
           "linecolor": "white",
           "ticks": "",
           "title": {
            "standoff": 15
           },
           "zerolinecolor": "white",
           "zerolinewidth": 2
          },
          "yaxis": {
           "automargin": true,
           "gridcolor": "white",
           "linecolor": "white",
           "ticks": "",
           "title": {
            "standoff": 15
           },
           "zerolinecolor": "white",
           "zerolinewidth": 2
          }
         }
        },
        "title": {
         "text": "Stacked Bar Chart of Average Ranks in Different Libraries",
         "x": 0.5,
         "xanchor": "center",
         "y": 0.87,
         "yanchor": "top"
        },
        "xaxis": {
         "title": {
          "text": "Average of Ranks Across All Libraries"
         }
        },
        "yaxis": {
         "title": {
          "text": "Kinases"
         }
        }
       }
      },
      "text/html": [
       "<div>                            <div id=\"e853015b-be8e-41b4-896d-2dafb70d12a3\" class=\"plotly-graph-div\" style=\"height:525px; width:100%;\"></div>            <script type=\"text/javascript\">                require([\"plotly\"], function(Plotly) {                    window.PLOTLYENV=window.PLOTLYENV || {};                                    if (document.getElementById(\"e853015b-be8e-41b4-896d-2dafb70d12a3\")) {                    Plotly.newPlot(                        \"e853015b-be8e-41b4-896d-2dafb70d12a3\",                        [{\"marker\":{\"color\":\"rgb(196, 8, 8)\"},\"name\":\"BioGRID\",\"orientation\":\"h\",\"type\":\"bar\",\"x\":[2.0,1.6,1.0,2.272727272727273,0.5,1.1818181818181817,0.2727272727272727,5.454545454545454,0.09090909090909091,0.2],\"y\":[\"ATR\",\"CDK1\",\"VRK1\",\"MAPK14\",\"MAPK10\",\"CHUK\",\"MAPK1\",\"PRKDC\",\"MAPK8\",\"MAPK9\"]},{\"marker\":{\"color\":\"rgb(244, 109, 67)\"},\"name\":\"ChengKSIN\",\"orientation\":\"h\",\"type\":\"bar\",\"x\":[3.1999999999999997,0,0.5,0.9090909090909092,1.9,0.6363636363636364,0.18181818181818182,2.0,0.09090909090909091,0.6000000000000001],\"y\":[\"ATR\",\"CDK1\",\"VRK1\",\"MAPK14\",\"MAPK10\",\"CHUK\",\"MAPK1\",\"PRKDC\",\"MAPK8\",\"MAPK9\"]},{\"marker\":{\"color\":\"rgb(242, 172, 68)\"},\"name\":\"ChengPPI\",\"orientation\":\"h\",\"type\":\"bar\",\"x\":[1.7999999999999998,5.1,1.3,0.36363636363636365,0.5,0.7272727272727272,1.7272727272727273,0.27272727272727276,0.18181818181818182,0.1],\"y\":[\"ATR\",\"CDK1\",\"VRK1\",\"MAPK14\",\"MAPK10\",\"CHUK\",\"MAPK1\",\"PRKDC\",\"MAPK8\",\"MAPK9\"]},{\"marker\":{\"color\":\"rgb(236, 252, 68)\"},\"name\":\"HIPPIE\",\"orientation\":\"h\",\"type\":\"bar\",\"x\":[3.9,1.1,2.5,0.36363636363636365,0.1,2.1818181818181817,0.6363636363636364,0.9090909090909091,0.18181818181818182,0.30000000000000004],\"y\":[\"ATR\",\"CDK1\",\"VRK1\",\"MAPK14\",\"MAPK10\",\"CHUK\",\"MAPK1\",\"PRKDC\",\"MAPK8\",\"MAPK9\"]},{\"marker\":{\"color\":\"rgb(165, 242, 162)\"},\"name\":\"mentha\",\"orientation\":\"h\",\"type\":\"bar\",\"x\":[2.6999999999999997,0.7,1.6,0.8181818181818182,0.2,1.6363636363636362,0.2727272727272727,0.45454545454545453,0.09090909090909091,0.6000000000000001],\"y\":[\"ATR\",\"CDK1\",\"VRK1\",\"MAPK14\",\"MAPK10\",\"CHUK\",\"MAPK1\",\"PRKDC\",\"MAPK8\",\"MAPK9\"]},{\"marker\":{\"color\":\"rgb(92, 217, 78)\"},\"name\":\"MINT\",\"orientation\":\"h\",\"type\":\"bar\",\"x\":[0,0.3,0,2.3636363636363638,0,1.0909090909090908,3.090909090909091,0.45454545454545453,2.5454545454545454,0],\"y\":[\"ATR\",\"CDK1\",\"VRK1\",\"MAPK14\",\"MAPK10\",\"CHUK\",\"MAPK1\",\"PRKDC\",\"MAPK8\",\"MAPK9\"]},{\"marker\":{\"color\":\"rgb(0, 138, 64)\"},\"name\":\"PhosDAll\",\"orientation\":\"h\",\"type\":\"bar\",\"x\":[0.7,3.7,0.9000000000000001,2.5454545454545454,1.5,3.727272727272727,2.8181818181818183,2.909090909090909,3.272727272727273,0.4],\"y\":[\"ATR\",\"CDK1\",\"VRK1\",\"MAPK14\",\"MAPK10\",\"CHUK\",\"MAPK1\",\"PRKDC\",\"MAPK8\",\"MAPK9\"]},{\"marker\":{\"color\":\"rgb(96, 191, 235)\"},\"name\":\"prePPI\",\"orientation\":\"h\",\"type\":\"bar\",\"x\":[2.1999999999999997,3.2,5.7,2.272727272727273,1.0,7.8181818181818175,3.1818181818181817,1.4545454545454546,0.8181818181818182,0.30000000000000004],\"y\":[\"ATR\",\"CDK1\",\"VRK1\",\"MAPK14\",\"MAPK10\",\"CHUK\",\"MAPK1\",\"PRKDC\",\"MAPK8\",\"MAPK9\"]},{\"marker\":{\"color\":\"rgb(14, 130, 201)\"},\"name\":\"PTMsigDB\",\"orientation\":\"h\",\"type\":\"bar\",\"x\":[2.6,2.0,0.30000000000000004,0.4545454545454546,12.8,0.8181818181818181,0.5454545454545454,2.0,0.18181818181818182,1.1],\"y\":[\"ATR\",\"CDK1\",\"VRK1\",\"MAPK14\",\"MAPK10\",\"CHUK\",\"MAPK1\",\"PRKDC\",\"MAPK8\",\"MAPK9\"]},{\"marker\":{\"color\":\"rgb(58, 50, 168)\"},\"name\":\"STRING\",\"orientation\":\"h\",\"type\":\"bar\",\"x\":[4.6,6.6,13.600000000000001,7.363636363636364,6.1,3.6363636363636362,7.636363636363637,4.7272727272727275,4.090909090909091,0.4],\"y\":[\"ATR\",\"CDK1\",\"VRK1\",\"MAPK14\",\"MAPK10\",\"CHUK\",\"MAPK1\",\"PRKDC\",\"MAPK8\",\"MAPK9\"]},{\"marker\":{\"color\":\"rgb(158, 50, 168)\"},\"name\":\"STRING.bind\",\"orientation\":\"h\",\"type\":\"bar\",\"x\":[7.199999999999999,4.7,1.2000000000000002,5.545454545454546,0.4,1.0,1.6363636363636365,1.2727272727272727,0.09090909090909091,0.2],\"y\":[\"ATR\",\"CDK1\",\"VRK1\",\"MAPK14\",\"MAPK10\",\"CHUK\",\"MAPK1\",\"PRKDC\",\"MAPK8\",\"MAPK9\"]}],                        {\"barmode\":\"stack\",\"font\":{\"color\":\"black\",\"size\":16},\"template\":{\"data\":{\"bar\":[{\"error_x\":{\"color\":\"#2a3f5f\"},\"error_y\":{\"color\":\"#2a3f5f\"},\"marker\":{\"line\":{\"color\":\"#E5ECF6\",\"width\":0.5},\"pattern\":{\"fillmode\":\"overlay\",\"size\":10,\"solidity\":0.2}},\"type\":\"bar\"}],\"barpolar\":[{\"marker\":{\"line\":{\"color\":\"#E5ECF6\",\"width\":0.5},\"pattern\":{\"fillmode\":\"overlay\",\"size\":10,\"solidity\":0.2}},\"type\":\"barpolar\"}],\"carpet\":[{\"aaxis\":{\"endlinecolor\":\"#2a3f5f\",\"gridcolor\":\"white\",\"linecolor\":\"white\",\"minorgridcolor\":\"white\",\"startlinecolor\":\"#2a3f5f\"},\"baxis\":{\"endlinecolor\":\"#2a3f5f\",\"gridcolor\":\"white\",\"linecolor\":\"white\",\"minorgridcolor\":\"white\",\"startlinecolor\":\"#2a3f5f\"},\"type\":\"carpet\"}],\"choropleth\":[{\"colorbar\":{\"outlinewidth\":0,\"ticks\":\"\"},\"type\":\"choropleth\"}],\"contour\":[{\"colorbar\":{\"outlinewidth\":0,\"ticks\":\"\"},\"colorscale\":[[0.0,\"#0d0887\"],[0.1111111111111111,\"#46039f\"],[0.2222222222222222,\"#7201a8\"],[0.3333333333333333,\"#9c179e\"],[0.4444444444444444,\"#bd3786\"],[0.5555555555555556,\"#d8576b\"],[0.6666666666666666,\"#ed7953\"],[0.7777777777777778,\"#fb9f3a\"],[0.8888888888888888,\"#fdca26\"],[1.0,\"#f0f921\"]],\"type\":\"contour\"}],\"contourcarpet\":[{\"colorbar\":{\"outlinewidth\":0,\"ticks\":\"\"},\"type\":\"contourcarpet\"}],\"heatmap\":[{\"colorbar\":{\"outlinewidth\":0,\"ticks\":\"\"},\"colorscale\":[[0.0,\"#0d0887\"],[0.1111111111111111,\"#46039f\"],[0.2222222222222222,\"#7201a8\"],[0.3333333333333333,\"#9c179e\"],[0.4444444444444444,\"#bd3786\"],[0.5555555555555556,\"#d8576b\"],[0.6666666666666666,\"#ed7953\"],[0.7777777777777778,\"#fb9f3a\"],[0.8888888888888888,\"#fdca26\"],[1.0,\"#f0f921\"]],\"type\":\"heatmap\"}],\"heatmapgl\":[{\"colorbar\":{\"outlinewidth\":0,\"ticks\":\"\"},\"colorscale\":[[0.0,\"#0d0887\"],[0.1111111111111111,\"#46039f\"],[0.2222222222222222,\"#7201a8\"],[0.3333333333333333,\"#9c179e\"],[0.4444444444444444,\"#bd3786\"],[0.5555555555555556,\"#d8576b\"],[0.6666666666666666,\"#ed7953\"],[0.7777777777777778,\"#fb9f3a\"],[0.8888888888888888,\"#fdca26\"],[1.0,\"#f0f921\"]],\"type\":\"heatmapgl\"}],\"histogram\":[{\"marker\":{\"pattern\":{\"fillmode\":\"overlay\",\"size\":10,\"solidity\":0.2}},\"type\":\"histogram\"}],\"histogram2d\":[{\"colorbar\":{\"outlinewidth\":0,\"ticks\":\"\"},\"colorscale\":[[0.0,\"#0d0887\"],[0.1111111111111111,\"#46039f\"],[0.2222222222222222,\"#7201a8\"],[0.3333333333333333,\"#9c179e\"],[0.4444444444444444,\"#bd3786\"],[0.5555555555555556,\"#d8576b\"],[0.6666666666666666,\"#ed7953\"],[0.7777777777777778,\"#fb9f3a\"],[0.8888888888888888,\"#fdca26\"],[1.0,\"#f0f921\"]],\"type\":\"histogram2d\"}],\"histogram2dcontour\":[{\"colorbar\":{\"outlinewidth\":0,\"ticks\":\"\"},\"colorscale\":[[0.0,\"#0d0887\"],[0.1111111111111111,\"#46039f\"],[0.2222222222222222,\"#7201a8\"],[0.3333333333333333,\"#9c179e\"],[0.4444444444444444,\"#bd3786\"],[0.5555555555555556,\"#d8576b\"],[0.6666666666666666,\"#ed7953\"],[0.7777777777777778,\"#fb9f3a\"],[0.8888888888888888,\"#fdca26\"],[1.0,\"#f0f921\"]],\"type\":\"histogram2dcontour\"}],\"mesh3d\":[{\"colorbar\":{\"outlinewidth\":0,\"ticks\":\"\"},\"type\":\"mesh3d\"}],\"parcoords\":[{\"line\":{\"colorbar\":{\"outlinewidth\":0,\"ticks\":\"\"}},\"type\":\"parcoords\"}],\"pie\":[{\"automargin\":true,\"type\":\"pie\"}],\"scatter\":[{\"marker\":{\"colorbar\":{\"outlinewidth\":0,\"ticks\":\"\"}},\"type\":\"scatter\"}],\"scatter3d\":[{\"line\":{\"colorbar\":{\"outlinewidth\":0,\"ticks\":\"\"}},\"marker\":{\"colorbar\":{\"outlinewidth\":0,\"ticks\":\"\"}},\"type\":\"scatter3d\"}],\"scattercarpet\":[{\"marker\":{\"colorbar\":{\"outlinewidth\":0,\"ticks\":\"\"}},\"type\":\"scattercarpet\"}],\"scattergeo\":[{\"marker\":{\"colorbar\":{\"outlinewidth\":0,\"ticks\":\"\"}},\"type\":\"scattergeo\"}],\"scattergl\":[{\"marker\":{\"colorbar\":{\"outlinewidth\":0,\"ticks\":\"\"}},\"type\":\"scattergl\"}],\"scattermapbox\":[{\"marker\":{\"colorbar\":{\"outlinewidth\":0,\"ticks\":\"\"}},\"type\":\"scattermapbox\"}],\"scatterpolar\":[{\"marker\":{\"colorbar\":{\"outlinewidth\":0,\"ticks\":\"\"}},\"type\":\"scatterpolar\"}],\"scatterpolargl\":[{\"marker\":{\"colorbar\":{\"outlinewidth\":0,\"ticks\":\"\"}},\"type\":\"scatterpolargl\"}],\"scatterternary\":[{\"marker\":{\"colorbar\":{\"outlinewidth\":0,\"ticks\":\"\"}},\"type\":\"scatterternary\"}],\"surface\":[{\"colorbar\":{\"outlinewidth\":0,\"ticks\":\"\"},\"colorscale\":[[0.0,\"#0d0887\"],[0.1111111111111111,\"#46039f\"],[0.2222222222222222,\"#7201a8\"],[0.3333333333333333,\"#9c179e\"],[0.4444444444444444,\"#bd3786\"],[0.5555555555555556,\"#d8576b\"],[0.6666666666666666,\"#ed7953\"],[0.7777777777777778,\"#fb9f3a\"],[0.8888888888888888,\"#fdca26\"],[1.0,\"#f0f921\"]],\"type\":\"surface\"}],\"table\":[{\"cells\":{\"fill\":{\"color\":\"#EBF0F8\"},\"line\":{\"color\":\"white\"}},\"header\":{\"fill\":{\"color\":\"#C8D4E3\"},\"line\":{\"color\":\"white\"}},\"type\":\"table\"}]},\"layout\":{\"annotationdefaults\":{\"arrowcolor\":\"#2a3f5f\",\"arrowhead\":0,\"arrowwidth\":1},\"autotypenumbers\":\"strict\",\"coloraxis\":{\"colorbar\":{\"outlinewidth\":0,\"ticks\":\"\"}},\"colorscale\":{\"diverging\":[[0,\"#8e0152\"],[0.1,\"#c51b7d\"],[0.2,\"#de77ae\"],[0.3,\"#f1b6da\"],[0.4,\"#fde0ef\"],[0.5,\"#f7f7f7\"],[0.6,\"#e6f5d0\"],[0.7,\"#b8e186\"],[0.8,\"#7fbc41\"],[0.9,\"#4d9221\"],[1,\"#276419\"]],\"sequential\":[[0.0,\"#0d0887\"],[0.1111111111111111,\"#46039f\"],[0.2222222222222222,\"#7201a8\"],[0.3333333333333333,\"#9c179e\"],[0.4444444444444444,\"#bd3786\"],[0.5555555555555556,\"#d8576b\"],[0.6666666666666666,\"#ed7953\"],[0.7777777777777778,\"#fb9f3a\"],[0.8888888888888888,\"#fdca26\"],[1.0,\"#f0f921\"]],\"sequentialminus\":[[0.0,\"#0d0887\"],[0.1111111111111111,\"#46039f\"],[0.2222222222222222,\"#7201a8\"],[0.3333333333333333,\"#9c179e\"],[0.4444444444444444,\"#bd3786\"],[0.5555555555555556,\"#d8576b\"],[0.6666666666666666,\"#ed7953\"],[0.7777777777777778,\"#fb9f3a\"],[0.8888888888888888,\"#fdca26\"],[1.0,\"#f0f921\"]]},\"colorway\":[\"#636efa\",\"#EF553B\",\"#00cc96\",\"#ab63fa\",\"#FFA15A\",\"#19d3f3\",\"#FF6692\",\"#B6E880\",\"#FF97FF\",\"#FECB52\"],\"font\":{\"color\":\"#2a3f5f\"},\"geo\":{\"bgcolor\":\"white\",\"lakecolor\":\"white\",\"landcolor\":\"#E5ECF6\",\"showlakes\":true,\"showland\":true,\"subunitcolor\":\"white\"},\"hoverlabel\":{\"align\":\"left\"},\"hovermode\":\"closest\",\"mapbox\":{\"style\":\"light\"},\"paper_bgcolor\":\"white\",\"plot_bgcolor\":\"#E5ECF6\",\"polar\":{\"angularaxis\":{\"gridcolor\":\"white\",\"linecolor\":\"white\",\"ticks\":\"\"},\"bgcolor\":\"#E5ECF6\",\"radialaxis\":{\"gridcolor\":\"white\",\"linecolor\":\"white\",\"ticks\":\"\"}},\"scene\":{\"xaxis\":{\"backgroundcolor\":\"#E5ECF6\",\"gridcolor\":\"white\",\"gridwidth\":2,\"linecolor\":\"white\",\"showbackground\":true,\"ticks\":\"\",\"zerolinecolor\":\"white\"},\"yaxis\":{\"backgroundcolor\":\"#E5ECF6\",\"gridcolor\":\"white\",\"gridwidth\":2,\"linecolor\":\"white\",\"showbackground\":true,\"ticks\":\"\",\"zerolinecolor\":\"white\"},\"zaxis\":{\"backgroundcolor\":\"#E5ECF6\",\"gridcolor\":\"white\",\"gridwidth\":2,\"linecolor\":\"white\",\"showbackground\":true,\"ticks\":\"\",\"zerolinecolor\":\"white\"}},\"shapedefaults\":{\"line\":{\"color\":\"#2a3f5f\"}},\"ternary\":{\"aaxis\":{\"gridcolor\":\"white\",\"linecolor\":\"white\",\"ticks\":\"\"},\"baxis\":{\"gridcolor\":\"white\",\"linecolor\":\"white\",\"ticks\":\"\"},\"bgcolor\":\"#E5ECF6\",\"caxis\":{\"gridcolor\":\"white\",\"linecolor\":\"white\",\"ticks\":\"\"}},\"title\":{\"x\":0.05},\"xaxis\":{\"automargin\":true,\"gridcolor\":\"white\",\"linecolor\":\"white\",\"ticks\":\"\",\"title\":{\"standoff\":15},\"zerolinecolor\":\"white\",\"zerolinewidth\":2},\"yaxis\":{\"automargin\":true,\"gridcolor\":\"white\",\"linecolor\":\"white\",\"ticks\":\"\",\"title\":{\"standoff\":15},\"zerolinecolor\":\"white\",\"zerolinewidth\":2}}},\"title\":{\"text\":\"Stacked Bar Chart of Average Ranks in Different Libraries\",\"x\":0.5,\"xanchor\":\"center\",\"y\":0.87,\"yanchor\":\"top\"},\"xaxis\":{\"title\":{\"text\":\"Average of Ranks Across All Libraries\"}},\"yaxis\":{\"title\":{\"text\":\"Kinases\"}}},                        {\"responsive\": true}                    ).then(function(){\n",
       "                            \n",
       "var gd = document.getElementById('e853015b-be8e-41b4-896d-2dafb70d12a3');\n",
       "var x = new MutationObserver(function (mutations, observer) {{\n",
       "        var display = window.getComputedStyle(gd).display;\n",
       "        if (!display || display === 'none') {{\n",
       "            console.log([gd, 'removed!']);\n",
       "            Plotly.purge(gd);\n",
       "            observer.disconnect();\n",
       "        }}\n",
       "}});\n",
       "\n",
       "// Listen for the removal of the full notebook cells\n",
       "var notebookContainer = gd.closest('#notebook-container');\n",
       "if (notebookContainer) {{\n",
       "    x.observe(notebookContainer, {childList: true});\n",
       "}}\n",
       "\n",
       "// Listen for the clearing of the current output cell\n",
       "var outputEl = gd.closest('.output');\n",
       "if (outputEl) {{\n",
       "    x.observe(outputEl, {childList: true});\n",
       "}}\n",
       "\n",
       "                        })                };                });            </script>        </div>"
      ]
     },
     "metadata": {},
     "output_type": "display_data"
    }
   ],
   "source": [
    "###### Plotting the mean rank data ######\n",
    "\n",
    "kea3_fig = go.Figure(data = [go.Bar(name = k_lib, \n",
    "                                    x = k_lib_means[k_lib], \n",
    "                                    y = sorted_kins,\n",
    "                                    marker = go.bar.Marker(color = k_lib_palette[k_lib]), \n",
    "                                    orientation = 'h') \n",
    "                             for k_lib in kea3libs_sorted])\n",
    "\n",
    "kea3_fig.update_layout(barmode = 'stack')\n",
    "kea3_fig.update_layout(\n",
    "    title = {\n",
    "        'text': 'Stacked Bar Chart of Average Ranks in Different Libraries',\n",
    "        'y': 0.87,\n",
    "        'x': 0.5,\n",
    "        'xanchor': 'center',\n",
    "        'yanchor': 'top',\n",
    "    },\n",
    "    xaxis_title = 'Average of Ranks Across All Libraries',\n",
    "    yaxis_title = 'Kinases',\n",
    "    font = dict(\n",
    "        size = 16,\n",
    "        color = 'black'\n",
    "    )\n",
    ")\n",
    "\n",
    "kea3_fig.show()"
   ]
  },
  {
   "cell_type": "code",
   "execution_count": 477,
   "id": "889ed70e",
   "metadata": {},
   "outputs": [
    {
     "data": {
      "text/html": [
       "<table>\n",
       "<thead>\n",
       "<tr><th style=\"text-align: right;\">  Rank</th><th>Kinase  </th><th style=\"text-align: right;\">  Avg Rank</th><th>Library Ranks                                                                                                                               </th><th>Overlapping Genes                                                     </th></tr>\n",
       "</thead>\n",
       "<tbody>\n",
       "<tr><td style=\"text-align: right;\">     1</td><td>MAPK9   </td><td style=\"text-align: right;\">    4.2   </td><td>ChengPPI: 1, STRING.bind: 2, PhosDAll: 4, BioGRID: 2, ChengKSIN: 6, HIPPIE: 3, STRING: 4, mentha: 6, prePPI: 3, PTMsigDB: 11                </td><td>ATF2, GSK3B, CEBPA, HDAC1, CEBPE, CCNF, CEBPG, FHL2, RELA, MTA1, ...  </td></tr>\n",
       "<tr><td style=\"text-align: right;\">     2</td><td>MAPK8   </td><td style=\"text-align: right;\">   11.6364</td><td>ChengPPI: 2, STRING.bind: 1, PhosDAll: 36, BioGRID: 1, ChengKSIN: 1, HIPPIE: 2, STRING: 45, MINT: 28, mentha: 1, prePPI: 9, PTMsigDB: 2     </td><td>ATF2, GSK3B, CEBPA, HDAC1, CEBPE, CEBPG, FHL2, RELA, MTA1, RBBP4, ... </td></tr>\n",
       "<tr><td style=\"text-align: right;\">     3</td><td>PRKDC   </td><td style=\"text-align: right;\">   21.9091</td><td>ChengPPI: 3, STRING.bind: 14, PhosDAll: 32, BioGRID: 60, ChengKSIN: 22, HIPPIE: 10, STRING: 52, MINT: 5, mentha: 5, prePPI: 16, PTMsigDB: 22</td><td>GSK3B, CEBPA, ATF2, HDAC1, CEBPE, CEBPG, CCNF, SRA1, RELA, RBBP4, ... </td></tr>\n",
       "<tr><td style=\"text-align: right;\">     4</td><td>MAPK1   </td><td style=\"text-align: right;\">   22     </td><td>ChengPPI: 19, STRING.bind: 18, PhosDAll: 31, BioGRID: 3, ChengKSIN: 2, HIPPIE: 7, STRING: 84, MINT: 34, mentha: 3, prePPI: 35, PTMsigDB: 6  </td><td>GSK3B, ATF2, CEBPA, HDAC1, CEBPE, CCNF, CEBPG, FHL2, RELA, MTA1, ...  </td></tr>\n",
       "<tr><td style=\"text-align: right;\">     5</td><td>CHUK    </td><td style=\"text-align: right;\">   24.4545</td><td>ChengPPI: 8, STRING.bind: 11, PhosDAll: 41, BioGRID: 13, ChengKSIN: 7, HIPPIE: 24, STRING: 40, MINT: 12, mentha: 18, prePPI: 86, PTMsigDB: 9</td><td>GSK3B, CEBPA, ATF2, CREBBP, JUN, TBP, HDAC1, CEBPG, FHL2, SMARCA5, ...</td></tr>\n",
       "<tr><td style=\"text-align: right;\">     6</td><td>MAPK10  </td><td style=\"text-align: right;\">   25     </td><td>ChengPPI: 5, STRING.bind: 4, PhosDAll: 15, BioGRID: 5, ChengKSIN: 19, HIPPIE: 1, STRING: 61, mentha: 2, prePPI: 10, PTMsigDB: 128           </td><td>GSK3B, ATF2, CEBPA, CREBBP, JUN, JUND, TBP, HDAC1, CEBPG, FHL2, ...   </td></tr>\n",
       "<tr><td style=\"text-align: right;\">     7</td><td>MAPK14  </td><td style=\"text-align: right;\">   25.2727</td><td>ChengPPI: 4, STRING.bind: 61, PhosDAll: 28, BioGRID: 25, ChengKSIN: 10, HIPPIE: 4, STRING: 81, MINT: 26, mentha: 9, prePPI: 25, PTMsigDB: 5 </td><td>GSK3B, ATF2, CEBPA, HDAC1, CEBPE, CCNF, CEBPG, FHL2, RELA, MTA1, ...  </td></tr>\n",
       "<tr><td style=\"text-align: right;\">     8</td><td>VRK1    </td><td style=\"text-align: right;\">   28.6   </td><td>ChengPPI: 13, STRING.bind: 12, PhosDAll: 9, BioGRID: 10, ChengKSIN: 5, HIPPIE: 25, STRING: 136, mentha: 16, prePPI: 57, PTMsigDB: 3         </td><td>ATF2, GSK3B, CEBPA, JUN, TBP, HDAC1, CEBPE, CCNF, CEBPG, SMARCA5, ... </td></tr>\n",
       "<tr><td style=\"text-align: right;\">     9</td><td>CDK1    </td><td style=\"text-align: right;\">   29     </td><td>ChengPPI: 51, STRING.bind: 47, PhosDAll: 37, BioGRID: 16, HIPPIE: 11, STRING: 66, MINT: 3, mentha: 7, prePPI: 32, PTMsigDB: 20              </td><td>GSK3B, CEBPA, ATF2, HDAC1, CEBPE, CCNF, CEBPG, FHL2, RELA, MTA1, ...  </td></tr>\n",
       "<tr><td style=\"text-align: right;\">    10</td><td>ATR     </td><td style=\"text-align: right;\">   30.9   </td><td>ChengPPI: 18, STRING.bind: 72, PhosDAll: 7, BioGRID: 20, ChengKSIN: 32, HIPPIE: 39, STRING: 46, mentha: 27, prePPI: 22, PTMsigDB: 26        </td><td>GSK3B, ATF2, CEBPA, HDAC1, CEBPE, CEBPG, CCNF, RELA, MTA1, RBBP4, ... </td></tr>\n",
       "</tbody>\n",
       "</table>"
      ],
      "text/plain": [
       "<IPython.core.display.HTML object>"
      ]
     },
     "metadata": {},
     "output_type": "display_data"
    },
    {
     "data": {
      "text/html": [
       "<a href=\"kinases.tsv\">Download table in .tsv</a>"
      ],
      "text/plain": [
       "<IPython.core.display.HTML object>"
      ]
     },
     "metadata": {},
     "output_type": "display_data"
    }
   ],
   "source": [
    "kea3_mr_table = [0] * len(sorted_topkinresults)\n",
    "\n",
    "kea3_mr_counter = 0\n",
    "# set up a counter for indexing (to fill mrtable)\n",
    "\n",
    "# need to \"re-reverse\" the ordering for the table (so now we're back to normal ordering)\n",
    "tbl_sorted_topkinresults = sorted_topkinresults[::-1]\n",
    "for i in range(0, len(tbl_sorted_topkinresults)):\n",
    "    tbl_sorted_topkinresults[i]['Rank'] = i + 1\n",
    "\n",
    "for i in tbl_sorted_topkinresults:\n",
    "    kea3_mr_table[kea3_mr_counter] = [i['Rank'], \n",
    "                                      i['TF'], \n",
    "                                      i['AvgRank'], \n",
    "                                      i['Library'].replace(',', ': ').replace(';', ', '),\n",
    "                                      f\"{', '.join(i['Overlapping_Genes'].split(',')[0:10])}, ...\"]\n",
    "    # filling mr_table, using replace() to reformat a bit\n",
    "    # [0:10] for Overlapping_Genes so that only 10 Overlapping Genes are shown (with '...' after)\n",
    "    kea3_mr_counter += 1\n",
    "                        \n",
    "display(HTML(tabulate(kea3_mr_table, ['Rank', \n",
    "                                      'Kinase', \n",
    "                                      'Avg Rank', \n",
    "                                      'Library Ranks',\n",
    "                                      'Overlapping Genes'], \n",
    "                      tablefmt='html')))\n",
    "\n",
    "\n",
    "kea3_tsv_name = 'kinases.tsv'\n",
    "with open(kea3_tsv_name, 'w') as tsv_file:\n",
    "    tsv_file.write(tabulate(kea3_mr_table, ['Rank', \n",
    "                                            'Kinase',\n",
    "                                            'Avg Rank', \n",
    "                                            'Library Ranks', \n",
    "                                            'Overlapping Genes'], \n",
    "                            tablefmt='tsv'))\n",
    "    display(HTML(f'<a href=\"{kea3_tsv_name}\">Download table in .tsv</a>'))"
   ]
  },
  {
   "cell_type": "code",
   "execution_count": 478,
   "id": "ddffbf3d",
   "metadata": {},
   "outputs": [],
   "source": [
    "x2k_visualizer_input = {'nodes':[], 'interactions':[]}\n",
    "for tfentry in toptfs:\n",
    "    x2k_visualizer_input['nodes'].append({'name': tfentry['TF'],\n",
    "                                          'type': 'tf',\n",
    "                                          'pvalue': -1})\n",
    "    \n",
    "for kinentry in sorted_topkinresults:\n",
    "    x2k_visualizer_input['nodes'].append({'name': kinentry['TF'],\n",
    "                                          'type': 'kinase',\n",
    "                                          'pvalue': -1})\n",
    "for tfientry in top_tf_interactors:\n",
    "    x2k_visualizer_input['nodes'].append({'name': tfientry,\n",
    "                                          'type': 'other',\n",
    "                                          'pvalue': -1})"
   ]
  },
  {
   "cell_type": "code",
   "execution_count": 479,
   "id": "1394ca1f",
   "metadata": {},
   "outputs": [],
   "source": [
    "###### Creating 3 Dictionaries For Indexing, One for Each Protein Category ######\n",
    "\n",
    "index_counter = 0\n",
    "\n",
    "x2k_visualizer_tfindices = {}\n",
    "for i in range(0, len(toptfnames)):\n",
    "    x2k_visualizer_tfindices.update({x2k_visualizer_input['nodes'][i].get('name'):i})\n",
    "    index_counter = i + 1\n",
    "\n",
    "x2k_visualizer_kinindices = {}\n",
    "for i in range(index_counter, index_counter + len(sorted_topkinresults)):\n",
    "    x2k_visualizer_kinindices.update({x2k_visualizer_input['nodes'][i].get('name'):i})\n",
    "    index_counter = i + 1\n",
    "    \n",
    "x2k_visualizer_intindices = {}\n",
    "for i in range(index_counter, index_counter + len(top_tf_interactors)):\n",
    "    x2k_visualizer_intindices.update({x2k_visualizer_input['nodes'][i].get('name'):i})"
   ]
  },
  {
   "cell_type": "code",
   "execution_count": 480,
   "id": "39ba011d",
   "metadata": {},
   "outputs": [],
   "source": [
    "###### Connecting TFs and Interactors ######\n",
    "\n",
    "for tf in toptfnames:\n",
    "    for i in top_dict.get(tf):\n",
    "        if top_dict.get(tf) != 'No known interactors':\n",
    "            tfint_interaction = {'source': x2k_visualizer_tfindices.get(tf),\n",
    "                                 'target': x2k_visualizer_intindices.get(i)}\n",
    "        if i in top_tf_interactors and tfint_interaction not in x2k_visualizer_input['interactions']:\n",
    "            x2k_visualizer_input['interactions'].append(tfint_interaction)"
   ]
  },
  {
   "cell_type": "code",
   "execution_count": 481,
   "id": "b29eb8e5",
   "metadata": {},
   "outputs": [],
   "source": [
    "overlapping_genelist1 = [i['Overlapping_Genes'] for i in sorted_topkinresults]\n",
    "\n",
    "overlapping_genelist2 = []\n",
    "for genelist in overlapping_genelist1:\n",
    "    gene = genelist.split(',')\n",
    "    overlapping_genelist2.append(gene)\n",
    "    \n",
    "# overlapping_genelist2 is a list of lists, where the list indices correspond to \n",
    "# a single kinases index in sorted_topkinresults (index 3 of sorted_topkinresults will\n",
    "# have the overlapping genes in index 3 of overlapping_genelist2)\n",
    "\n",
    "int_kin_interactions = {}\n",
    "for kin_genelist in overlapping_genelist2:\n",
    "    for gene in kin_genelist:\n",
    "        int_kin_interactions.update({gene:[]})\n",
    "\n",
    "new_sorted_topkinresults = [i.copy() for i in sorted_topkinresults]\n",
    "for i in range(len(new_sorted_topkinresults)):\n",
    "    new_sorted_topkinresults[i].update({'Overlapping_Genes':overlapping_genelist2[i]})\n",
    "\n",
    "for i in int_kin_interactions.keys():\n",
    "    for j in new_sorted_topkinresults:\n",
    "        if i in j['Overlapping_Genes']:\n",
    "            int_kin_interactions[i].append(j['TF'])"
   ]
  },
  {
   "cell_type": "code",
   "execution_count": 482,
   "id": "e6050915",
   "metadata": {},
   "outputs": [],
   "source": [
    "for a in int_kin_interactions.keys():\n",
    "    for b in int_kin_interactions.get(a):\n",
    "        intkin_interaction = {'source': x2k_visualizer_intindices.get(a),\n",
    "                              'target': x2k_visualizer_kinindices.get(b)}\n",
    "        if intkin_interaction not in x2k_visualizer_input['interactions']:\n",
    "            x2k_visualizer_input['interactions'].append(intkin_interaction)"
   ]
  },
  {
   "cell_type": "code",
   "execution_count": 483,
   "id": "f5ae576e",
   "metadata": {},
   "outputs": [],
   "source": [
    "full_x2k_visualizer_input = {}\n",
    "full_x2k_visualizer_input['X2K'] = x2k_visualizer_input\n",
    "\n",
    "full_x2k_visualizer_input.update([ ('ChEA', []), ('KEA', []), ('G2N', {}), ('input', []) ])"
   ]
  },
  {
   "cell_type": "code",
   "execution_count": 484,
   "id": "477cfb95",
   "metadata": {},
   "outputs": [
    {
     "data": {
      "text/html": [
       "<style>.observable-link ~ iframe { height: 1500px !important; }</style>"
      ],
      "text/plain": [
       "<IPython.core.display.HTML object>"
      ]
     },
     "metadata": {},
     "output_type": "display_data"
    },
    {
     "data": {
      "text/html": [
       "<div style=\"text-align: right; position: relative\">\n",
       "    \n",
       "<style>\n",
       ".observable-logo {\n",
       "  position: absolute;\n",
       "  bottom: 0;\n",
       "  right: 0;\n",
       "  margin-bottom: 5px;\n",
       "  margin-right: 1px;\n",
       "  transition: background-color 0.2s;\n",
       "}\n",
       ".observable-logo svg {\n",
       "  opacity: 0.5;\n",
       "  transition: opacity 0.2s;\n",
       "}\n",
       ".observable-logo span {\n",
       "  opacity: 0;\n",
       "  transition: opacity 0.2s;\n",
       "  padding-right: .2em;\n",
       "  padding-left: .2em;\n",
       "}\n",
       ".observable-logo:hover {\n",
       "  background-color: white;\n",
       "}\n",
       ".observable-logo:hover span {\n",
       "  opacity: .8;\n",
       "}\n",
       ".observable-logo:hover svg {\n",
       "  opacity: .8;\n",
       "}\n",
       ".observable-link:hover ~ iframe {\n",
       "  outline: solid 1px #E0E0E0;\n",
       "  box-shadow: 0 0 3px;\n",
       "  transition: box-shadow 0.2s;\n",
       "}\n",
       ".observable-link ~ iframe {\n",
       "    outline: none;\n",
       "}\n",
       "/* Colab-only rule - untested */\n",
       "body > .output-area > .output-body {\n",
       "  margin-right: 2px;\n",
       "}\n",
       "</style>\n",
       "<a class=\"observable-link\" href=\"https://observablehq.com/@maxim-k/x2k-network\" target=\"_blank\" style=\"text-decoration: none; color: inherit;\">\n",
       "<div class=\"observable-logo\" style=\"display: flex; align-items: center; justify-content: flex-end;\">\n",
       "<span>Edit @maxim-k/x2k-network on Observable</span>\n",
       "<svg role=\"img\" viewBox=\"0 0 25 28\" width=\"25\" height=\"28\" aria-label=\"Observable\" fill=\"currentColor\" class=\"near-black\" style=\"width: 18px;\"><path d=\"M12.5 22.6667C11.3458 22.6667 10.3458 22.4153 9.5 21.9127C8.65721 21.412 7.98339 20.7027 7.55521 19.8654C7.09997 18.9942 6.76672 18.0729 6.56354 17.1239C6.34796 16.0947 6.24294 15.0483 6.25 14C6.25 13.1699 6.30417 12.3764 6.41354 11.6176C6.52188 10.8598 6.72292 10.0894 7.01563 9.30748C7.30833 8.52555 7.68542 7.84763 8.14479 7.27274C8.62304 6.68378 9.24141 6.20438 9.95208 5.87163C10.6979 5.51244 11.5458 5.33333 12.5 5.33333C13.6542 5.33333 14.6542 5.58467 15.5 6.08733C16.3428 6.588 17.0166 7.29733 17.4448 8.13459C17.8969 8.99644 18.2271 9.9103 18.4365 10.8761C18.6448 11.841 18.75 12.883 18.75 14C18.75 14.8301 18.6958 15.6236 18.5865 16.3824C18.4699 17.1702 18.2639 17.9446 17.9719 18.6925C17.6698 19.4744 17.2948 20.1524 16.8427 20.7273C16.3906 21.3021 15.7927 21.7692 15.0479 22.1284C14.3031 22.4876 13.4542 22.6667 12.5 22.6667ZM14.7063 16.2945C15.304 15.6944 15.6365 14.864 15.625 14C15.625 13.1073 15.326 12.3425 14.7292 11.7055C14.1313 11.0685 13.3885 10.75 12.5 10.75C11.6115 10.75 10.8688 11.0685 10.2708 11.7055C9.68532 12.3123 9.36198 13.1405 9.375 14C9.375 14.8927 9.67396 15.6575 10.2708 16.2945C10.8688 16.9315 11.6115 17.25 12.5 17.25C13.3885 17.25 14.124 16.9315 14.7063 16.2945ZM12.5 27C19.4031 27 25 21.1792 25 14C25 6.82075 19.4031 1 12.5 1C5.59687 1 0 6.82075 0 14C0 21.1792 5.59687 27 12.5 27Z\" fill=\"currentColor\"></path></svg>\n",
       "\n",
       "</div>\n",
       "</a>\n",
       "\n",
       "    <iframe id=\"observable-embed-div-4605031556164133\" sandbox=\"allow-scripts\" style=\"overflow: auto; min-width: 100%; width: 0px;\" frameBorder=\"0\"></iframe>\n",
       "</div>\n",
       "<script>\n",
       "var ObservableJupyterWrapper = (function (exports) {\n",
       "  'use strict';\n",
       "\n",
       "  function getFrameByEvent(event) {\n",
       "    return [...document.getElementsByTagName(\"iframe\")].filter(iframe => {\n",
       "      return iframe.contentWindow === event.source;\n",
       "    })[0];\n",
       "  }\n",
       "\n",
       "  // Each embed gets its own event listener.\n",
       "  function listenToSize(iframe) {\n",
       "    function onMessage(msg) {\n",
       "      if (!document.body.contains(iframe)) {\n",
       "        // iframe is gone\n",
       "        removeEventListener(\"message\", onMessage);\n",
       "      }\n",
       "      const senderIframe = getFrameByEvent(msg);\n",
       "      if (msg.data.type === \"iframeSize\" && senderIframe === iframe) {\n",
       "        iframe.height = msg.data.height;\n",
       "      }\n",
       "    }\n",
       "\n",
       "    window.addEventListener(\"message\", onMessage);\n",
       "  }\n",
       "\n",
       "  exports.listenToSize = listenToSize;\n",
       "\n",
       "  return exports;\n",
       "\n",
       "}({}));\n",
       "\n",
       "</script>\n",
       "<script>\n",
       "iframeSrc = `<!DOCTYPE html>\n",
       "<link rel=\"stylesheet\" href=\"https://cdn.jsdelivr.net/npm/@observablehq/inspector@3/dist/inspector.css\">\n",
       "<style>\n",
       "body {\n",
       "  margin: 0;\n",
       "}\n",
       "</style>\n",
       "OPENSCRIPT\n",
       "var ObservableJupyterIframe = (function (exports) {\n",
       "  'use strict';\n",
       "\n",
       "  function dispatch(node, type, detail) {\n",
       "    detail = detail || {};\n",
       "    var document = node.ownerDocument, event = document.defaultView.CustomEvent;\n",
       "    if (typeof event === \"function\") {\n",
       "      event = new event(type, {detail: detail});\n",
       "    } else {\n",
       "      event = document.createEvent(\"Event\");\n",
       "      event.initEvent(type, false, false);\n",
       "      event.detail = detail;\n",
       "    }\n",
       "    node.dispatchEvent(event);\n",
       "  }\n",
       "\n",
       "  // TODO https://twitter.com/mbostock/status/702737065121742848\n",
       "  function isarray(value) {\n",
       "    return Array.isArray(value)\n",
       "        || value instanceof Int8Array\n",
       "        || value instanceof Int16Array\n",
       "        || value instanceof Int32Array\n",
       "        || value instanceof Uint8Array\n",
       "        || value instanceof Uint8ClampedArray\n",
       "        || value instanceof Uint16Array\n",
       "        || value instanceof Uint32Array\n",
       "        || value instanceof Float32Array\n",
       "        || value instanceof Float64Array;\n",
       "  }\n",
       "\n",
       "  // Non-integer keys in arrays, e.g. [1, 2, 0.5: \"value\"].\n",
       "  function isindex(key) {\n",
       "    return key === (key | 0) + \"\";\n",
       "  }\n",
       "\n",
       "  function inspectName(name) {\n",
       "    const n = document.createElement(\"span\");\n",
       "    n.className = \"observablehq--cellname\";\n",
       "    n.textContent = \\`\\${name} = \\`;\n",
       "    return n;\n",
       "  }\n",
       "\n",
       "  const symbolToString = Symbol.prototype.toString;\n",
       "\n",
       "  // Symbols do not coerce to strings; they must be explicitly converted.\n",
       "  function formatSymbol(symbol) {\n",
       "    return symbolToString.call(symbol);\n",
       "  }\n",
       "\n",
       "  const {getOwnPropertySymbols, prototype: {hasOwnProperty}} = Object;\n",
       "  const {toStringTag} = Symbol;\n",
       "\n",
       "  const FORBIDDEN = {};\n",
       "\n",
       "  const symbolsof = getOwnPropertySymbols;\n",
       "\n",
       "  function isown(object, key) {\n",
       "    return hasOwnProperty.call(object, key);\n",
       "  }\n",
       "\n",
       "  function tagof(object) {\n",
       "    return object[toStringTag]\n",
       "        || (object.constructor && object.constructor.name)\n",
       "        || \"Object\";\n",
       "  }\n",
       "\n",
       "  function valueof(object, key) {\n",
       "    try {\n",
       "      const value = object[key];\n",
       "      if (value) value.constructor; // Test for SecurityError.\n",
       "      return value;\n",
       "    } catch (ignore) {\n",
       "      return FORBIDDEN;\n",
       "    }\n",
       "  }\n",
       "\n",
       "  const SYMBOLS = [\n",
       "    { symbol: \"@@__IMMUTABLE_INDEXED__@@\", name: \"Indexed\", modifier: true },\n",
       "    { symbol: \"@@__IMMUTABLE_KEYED__@@\", name: \"Keyed\", modifier: true },\n",
       "    { symbol: \"@@__IMMUTABLE_LIST__@@\", name: \"List\", arrayish: true },\n",
       "    { symbol: \"@@__IMMUTABLE_MAP__@@\", name: \"Map\" },\n",
       "    {\n",
       "      symbol: \"@@__IMMUTABLE_ORDERED__@@\",\n",
       "      name: \"Ordered\",\n",
       "      modifier: true,\n",
       "      prefix: true\n",
       "    },\n",
       "    { symbol: \"@@__IMMUTABLE_RECORD__@@\", name: \"Record\" },\n",
       "    {\n",
       "      symbol: \"@@__IMMUTABLE_SET__@@\",\n",
       "      name: \"Set\",\n",
       "      arrayish: true,\n",
       "      setish: true\n",
       "    },\n",
       "    { symbol: \"@@__IMMUTABLE_STACK__@@\", name: \"Stack\", arrayish: true }\n",
       "  ];\n",
       "\n",
       "  function immutableName(obj) {\n",
       "    try {\n",
       "      let symbols = SYMBOLS.filter(({ symbol }) => obj[symbol] === true);\n",
       "      if (!symbols.length) return;\n",
       "\n",
       "      const name = symbols.find(s => !s.modifier);\n",
       "      const prefix =\n",
       "        name.name === \"Map\" && symbols.find(s => s.modifier && s.prefix);\n",
       "\n",
       "      const arrayish = symbols.some(s => s.arrayish);\n",
       "      const setish = symbols.some(s => s.setish);\n",
       "\n",
       "      return {\n",
       "        name: \\`\\${prefix ? prefix.name : \"\"}\\${name.name}\\`,\n",
       "        symbols,\n",
       "        arrayish: arrayish && !setish,\n",
       "        setish\n",
       "      };\n",
       "    } catch (e) {\n",
       "      return null;\n",
       "    }\n",
       "  }\n",
       "\n",
       "  const {getPrototypeOf, getOwnPropertyDescriptors} = Object;\n",
       "  const objectPrototype = getPrototypeOf({});\n",
       "\n",
       "  function inspectExpanded(object, _, name, proto) {\n",
       "    let arrayish = isarray(object);\n",
       "    let tag, fields, next, n;\n",
       "\n",
       "    if (object instanceof Map) {\n",
       "      tag = \\`Map(\\${object.size})\\`;\n",
       "      fields = iterateMap;\n",
       "    } else if (object instanceof Set) {\n",
       "      tag = \\`Set(\\${object.size})\\`;\n",
       "      fields = iterateSet;\n",
       "    } else if (arrayish) {\n",
       "      tag = \\`\\${object.constructor.name}(\\${object.length})\\`;\n",
       "      fields = iterateArray;\n",
       "    } else if ((n = immutableName(object))) {\n",
       "      tag = \\`Immutable.\\${n.name}\\${n.name === \"Record\" ? \"\" : \\`(\\${object.size})\\`}\\`;\n",
       "      arrayish = n.arrayish;\n",
       "      fields = n.arrayish\n",
       "        ? iterateImArray\n",
       "        : n.setish\n",
       "        ? iterateImSet\n",
       "        : iterateImObject;\n",
       "    } else if (proto) {\n",
       "      tag = tagof(object);\n",
       "      fields = iterateProto;\n",
       "    } else {\n",
       "      tag = tagof(object);\n",
       "      fields = iterateObject;\n",
       "    }\n",
       "\n",
       "    const span = document.createElement(\"span\");\n",
       "    span.className = \"observablehq--expanded\";\n",
       "    if (name) {\n",
       "      span.appendChild(inspectName(name));\n",
       "    }\n",
       "    const a = span.appendChild(document.createElement(\"a\"));\n",
       "    a.innerHTML = \\`<svg width=8 height=8 class='observablehq--caret'>\n",
       "    <path d='M4 7L0 1h8z' fill='currentColor' />\n",
       "  </svg>\\`;\n",
       "    a.appendChild(document.createTextNode(\\`\\${tag}\\${arrayish ? \" [\" : \" {\"}\\`));\n",
       "    a.addEventListener(\"mouseup\", function(event) {\n",
       "      event.stopPropagation();\n",
       "      replace(span, inspectCollapsed(object, null, name, proto));\n",
       "    });\n",
       "\n",
       "    fields = fields(object);\n",
       "    for (let i = 0; !(next = fields.next()).done && i < 20; ++i) {\n",
       "      span.appendChild(next.value);\n",
       "    }\n",
       "\n",
       "    if (!next.done) {\n",
       "      const a = span.appendChild(document.createElement(\"a\"));\n",
       "      a.className = \"observablehq--field\";\n",
       "      a.style.display = \"block\";\n",
       "      a.appendChild(document.createTextNode(\\`  … more\\`));\n",
       "      a.addEventListener(\"mouseup\", function(event) {\n",
       "        event.stopPropagation();\n",
       "        span.insertBefore(next.value, span.lastChild.previousSibling);\n",
       "        for (let i = 0; !(next = fields.next()).done && i < 19; ++i) {\n",
       "          span.insertBefore(next.value, span.lastChild.previousSibling);\n",
       "        }\n",
       "        if (next.done) span.removeChild(span.lastChild.previousSibling);\n",
       "        dispatch(span, \"load\");\n",
       "      });\n",
       "    }\n",
       "\n",
       "    span.appendChild(document.createTextNode(arrayish ? \"]\" : \"}\"));\n",
       "\n",
       "    return span;\n",
       "  }\n",
       "\n",
       "  function* iterateMap(map) {\n",
       "    for (const [key, value] of map) {\n",
       "      yield formatMapField(key, value);\n",
       "    }\n",
       "    yield* iterateObject(map);\n",
       "  }\n",
       "\n",
       "  function* iterateSet(set) {\n",
       "    for (const value of set) {\n",
       "      yield formatSetField(value);\n",
       "    }\n",
       "    yield* iterateObject(set);\n",
       "  }\n",
       "\n",
       "  function* iterateImSet(set) {\n",
       "    for (const value of set) {\n",
       "      yield formatSetField(value);\n",
       "    }\n",
       "  }\n",
       "\n",
       "  function* iterateArray(array) {\n",
       "    for (let i = 0, n = array.length; i < n; ++i) {\n",
       "      if (i in array) {\n",
       "        yield formatField(i, valueof(array, i), \"observablehq--index\");\n",
       "      }\n",
       "    }\n",
       "    for (const key in array) {\n",
       "      if (!isindex(key) && isown(array, key)) {\n",
       "        yield formatField(key, valueof(array, key), \"observablehq--key\");\n",
       "      }\n",
       "    }\n",
       "    for (const symbol of symbolsof(array)) {\n",
       "      yield formatField(\n",
       "        formatSymbol(symbol),\n",
       "        valueof(array, symbol),\n",
       "        \"observablehq--symbol\"\n",
       "      );\n",
       "    }\n",
       "  }\n",
       "\n",
       "  function* iterateImArray(array) {\n",
       "    let i1 = 0;\n",
       "    for (const n = array.size; i1 < n; ++i1) {\n",
       "      yield formatField(i1, array.get(i1), true);\n",
       "    }\n",
       "  }\n",
       "\n",
       "  function* iterateProto(object) {\n",
       "    for (const key in getOwnPropertyDescriptors(object)) {\n",
       "      yield formatField(key, valueof(object, key), \"observablehq--key\");\n",
       "    }\n",
       "    for (const symbol of symbolsof(object)) {\n",
       "      yield formatField(\n",
       "        formatSymbol(symbol),\n",
       "        valueof(object, symbol),\n",
       "        \"observablehq--symbol\"\n",
       "      );\n",
       "    }\n",
       "\n",
       "    const proto = getPrototypeOf(object);\n",
       "    if (proto && proto !== objectPrototype) {\n",
       "      yield formatPrototype(proto);\n",
       "    }\n",
       "  }\n",
       "\n",
       "  function* iterateObject(object) {\n",
       "    for (const key in object) {\n",
       "      if (isown(object, key)) {\n",
       "        yield formatField(key, valueof(object, key), \"observablehq--key\");\n",
       "      }\n",
       "    }\n",
       "    for (const symbol of symbolsof(object)) {\n",
       "      yield formatField(\n",
       "        formatSymbol(symbol),\n",
       "        valueof(object, symbol),\n",
       "        \"observablehq--symbol\"\n",
       "      );\n",
       "    }\n",
       "\n",
       "    const proto = getPrototypeOf(object);\n",
       "    if (proto && proto !== objectPrototype) {\n",
       "      yield formatPrototype(proto);\n",
       "    }\n",
       "  }\n",
       "\n",
       "  function* iterateImObject(object) {\n",
       "    for (const [key, value] of object) {\n",
       "      yield formatField(key, value, \"observablehq--key\");\n",
       "    }\n",
       "  }\n",
       "\n",
       "  function formatPrototype(value) {\n",
       "    const item = document.createElement(\"div\");\n",
       "    const span = item.appendChild(document.createElement(\"span\"));\n",
       "    item.className = \"observablehq--field\";\n",
       "    span.className = \"observablehq--prototype-key\";\n",
       "    span.textContent = \\`  <prototype>\\`;\n",
       "    item.appendChild(document.createTextNode(\": \"));\n",
       "    item.appendChild(inspect(value, undefined, undefined, undefined, true));\n",
       "    return item;\n",
       "  }\n",
       "\n",
       "  function formatField(key, value, className) {\n",
       "    const item = document.createElement(\"div\");\n",
       "    const span = item.appendChild(document.createElement(\"span\"));\n",
       "    item.className = \"observablehq--field\";\n",
       "    span.className = className;\n",
       "    span.textContent = \\`  \\${key}\\`;\n",
       "    item.appendChild(document.createTextNode(\": \"));\n",
       "    item.appendChild(inspect(value));\n",
       "    return item;\n",
       "  }\n",
       "\n",
       "  function formatMapField(key, value) {\n",
       "    const item = document.createElement(\"div\");\n",
       "    item.className = \"observablehq--field\";\n",
       "    item.appendChild(document.createTextNode(\"  \"));\n",
       "    item.appendChild(inspect(key));\n",
       "    item.appendChild(document.createTextNode(\" => \"));\n",
       "    item.appendChild(inspect(value));\n",
       "    return item;\n",
       "  }\n",
       "\n",
       "  function formatSetField(value) {\n",
       "    const item = document.createElement(\"div\");\n",
       "    item.className = \"observablehq--field\";\n",
       "    item.appendChild(document.createTextNode(\"  \"));\n",
       "    item.appendChild(inspect(value));\n",
       "    return item;\n",
       "  }\n",
       "\n",
       "  function hasSelection(elem) {\n",
       "    const sel = window.getSelection();\n",
       "    return (\n",
       "      sel.type === \"Range\" &&\n",
       "      (sel.containsNode(elem, true) ||\n",
       "        sel.anchorNode.isSelfOrDescendant(elem) ||\n",
       "        sel.focusNode.isSelfOrDescendant(elem))\n",
       "    );\n",
       "  }\n",
       "\n",
       "  function inspectCollapsed(object, shallow, name, proto) {\n",
       "    let arrayish = isarray(object);\n",
       "    let tag, fields, next, n;\n",
       "\n",
       "    if (object instanceof Map) {\n",
       "      tag = \\`Map(\\${object.size})\\`;\n",
       "      fields = iterateMap\\$1;\n",
       "    } else if (object instanceof Set) {\n",
       "      tag = \\`Set(\\${object.size})\\`;\n",
       "      fields = iterateSet\\$1;\n",
       "    } else if (arrayish) {\n",
       "      tag = \\`\\${object.constructor.name}(\\${object.length})\\`;\n",
       "      fields = iterateArray\\$1;\n",
       "    } else if ((n = immutableName(object))) {\n",
       "      tag = \\`Immutable.\\${n.name}\\${n.name === 'Record' ? '' : \\`(\\${object.size})\\`}\\`;\n",
       "      arrayish = n.arrayish;\n",
       "      fields = n.arrayish ? iterateImArray\\$1 : n.setish ? iterateImSet\\$1 : iterateImObject\\$1;\n",
       "    } else {\n",
       "      tag = tagof(object);\n",
       "      fields = iterateObject\\$1;\n",
       "    }\n",
       "\n",
       "    if (shallow) {\n",
       "      const span = document.createElement(\"span\");\n",
       "      span.className = \"observablehq--shallow\";\n",
       "      if (name) {\n",
       "        span.appendChild(inspectName(name));\n",
       "      }\n",
       "      span.appendChild(document.createTextNode(tag));\n",
       "      span.addEventListener(\"mouseup\", function(event) {\n",
       "        if (hasSelection(span)) return;\n",
       "        event.stopPropagation();\n",
       "        replace(span, inspectCollapsed(object));\n",
       "      });\n",
       "      return span;\n",
       "    }\n",
       "\n",
       "    const span = document.createElement(\"span\");\n",
       "    span.className = \"observablehq--collapsed\";\n",
       "    if (name) {\n",
       "      span.appendChild(inspectName(name));\n",
       "    }\n",
       "    const a = span.appendChild(document.createElement(\"a\"));\n",
       "    a.innerHTML = \\`<svg width=8 height=8 class='observablehq--caret'>\n",
       "    <path d='M7 4L1 8V0z' fill='currentColor' />\n",
       "  </svg>\\`;\n",
       "    a.appendChild(document.createTextNode(\\`\\${tag}\\${arrayish ? \" [\" : \" {\"}\\`));\n",
       "    span.addEventListener(\"mouseup\", function(event) {\n",
       "      if (hasSelection(span)) return;\n",
       "      event.stopPropagation();\n",
       "      replace(span, inspectExpanded(object, null, name, proto));\n",
       "    }, true);\n",
       "\n",
       "    fields = fields(object);\n",
       "    for (let i = 0; !(next = fields.next()).done && i < 20; ++i) {\n",
       "      if (i > 0) span.appendChild(document.createTextNode(\", \"));\n",
       "      span.appendChild(next.value);\n",
       "    }\n",
       "\n",
       "    if (!next.done) span.appendChild(document.createTextNode(\", …\"));\n",
       "    span.appendChild(document.createTextNode(arrayish ? \"]\" : \"}\"));\n",
       "\n",
       "    return span;\n",
       "  }\n",
       "\n",
       "  function* iterateMap\\$1(map) {\n",
       "    for (const [key, value] of map) {\n",
       "      yield formatMapField\\$1(key, value);\n",
       "    }\n",
       "    yield* iterateObject\\$1(map);\n",
       "  }\n",
       "\n",
       "  function* iterateSet\\$1(set) {\n",
       "    for (const value of set) {\n",
       "      yield inspect(value, true);\n",
       "    }\n",
       "    yield* iterateObject\\$1(set);\n",
       "  }\n",
       "\n",
       "  function* iterateImSet\\$1(set) {\n",
       "    for (const value of set) {\n",
       "      yield inspect(value, true);\n",
       "    }\n",
       "  }\n",
       "\n",
       "  function* iterateImArray\\$1(array) {\n",
       "    let i0 = -1, i1 = 0;\n",
       "    for (const n = array.size; i1 < n; ++i1) {\n",
       "      if (i1 > i0 + 1) yield formatEmpty(i1 - i0 - 1);\n",
       "      yield inspect(array.get(i1), true);\n",
       "      i0 = i1;\n",
       "    }\n",
       "    if (i1 > i0 + 1) yield formatEmpty(i1 - i0 - 1);\n",
       "  }\n",
       "\n",
       "  function* iterateArray\\$1(array) {\n",
       "    let i0 = -1, i1 = 0;\n",
       "    for (const n = array.length; i1 < n; ++i1) {\n",
       "      if (i1 in array) {\n",
       "        if (i1 > i0 + 1) yield formatEmpty(i1 - i0 - 1);\n",
       "        yield inspect(valueof(array, i1), true);\n",
       "        i0 = i1;\n",
       "      }\n",
       "    }\n",
       "    if (i1 > i0 + 1) yield formatEmpty(i1 - i0 - 1);\n",
       "    for (const key in array) {\n",
       "      if (!isindex(key) && isown(array, key)) {\n",
       "        yield formatField\\$1(key, valueof(array, key), \"observablehq--key\");\n",
       "      }\n",
       "    }\n",
       "    for (const symbol of symbolsof(array)) {\n",
       "      yield formatField\\$1(formatSymbol(symbol), valueof(array, symbol), \"observablehq--symbol\");\n",
       "    }\n",
       "  }\n",
       "\n",
       "  function* iterateObject\\$1(object) {\n",
       "    for (const key in object) {\n",
       "      if (isown(object, key)) {\n",
       "        yield formatField\\$1(key, valueof(object, key), \"observablehq--key\");\n",
       "      }\n",
       "    }\n",
       "    for (const symbol of symbolsof(object)) {\n",
       "      yield formatField\\$1(formatSymbol(symbol), valueof(object, symbol), \"observablehq--symbol\");\n",
       "    }\n",
       "  }\n",
       "\n",
       "  function* iterateImObject\\$1(object) {\n",
       "    for (const [key, value] of object) {\n",
       "      yield formatField\\$1(key, value, \"observablehq--key\");\n",
       "    }\n",
       "  }\n",
       "\n",
       "  function formatEmpty(e) {\n",
       "    const span = document.createElement(\"span\");\n",
       "    span.className = \"observablehq--empty\";\n",
       "    span.textContent = e === 1 ? \"empty\" : \\`empty × \\${e}\\`;\n",
       "    return span;\n",
       "  }\n",
       "\n",
       "  function formatField\\$1(key, value, className) {\n",
       "    const fragment = document.createDocumentFragment();\n",
       "    const span = fragment.appendChild(document.createElement(\"span\"));\n",
       "    span.className = className;\n",
       "    span.textContent = key;\n",
       "    fragment.appendChild(document.createTextNode(\": \"));\n",
       "    fragment.appendChild(inspect(value, true));\n",
       "    return fragment;\n",
       "  }\n",
       "\n",
       "  function formatMapField\\$1(key, value) {\n",
       "    const fragment = document.createDocumentFragment();\n",
       "    fragment.appendChild(inspect(key, true));\n",
       "    fragment.appendChild(document.createTextNode(\" => \"));\n",
       "    fragment.appendChild(inspect(value, true));\n",
       "    return fragment;\n",
       "  }\n",
       "\n",
       "  function pad(value, width) {\n",
       "    var s = value + \"\", length = s.length;\n",
       "    return length < width ? new Array(width - length + 1).join(0) + s : s;\n",
       "  }\n",
       "\n",
       "  function isUTCMidnight(date) {\n",
       "    return date.getUTCMilliseconds() === 0\n",
       "        && date.getUTCSeconds() === 0\n",
       "        && date.getUTCMinutes() === 0\n",
       "        && date.getUTCHours() === 0;\n",
       "  }\n",
       "\n",
       "  function formatYear(year) {\n",
       "    return year < 0 ? \"-\" + pad(-year, 6)\n",
       "      : year > 9999 ? \"+\" + pad(year, 6)\n",
       "      : pad(year, 4);\n",
       "  }\n",
       "\n",
       "  function formatDate(date) {\n",
       "    return isNaN(date)\n",
       "      ? \"Invalid Date\"\n",
       "      : isUTCMidnight(date)\n",
       "        ? formatYear(date.getUTCFullYear()) + \"-\" + pad(date.getUTCMonth() + 1, 2) + \"-\" + pad(date.getUTCDate(), 2)\n",
       "        : formatYear(date.getFullYear()) + \"-\" + pad(date.getMonth() + 1, 2) + \"-\" + pad(date.getDate(), 2)\n",
       "          + \"T\" + pad(date.getHours(), 2) + \":\" + pad(date.getMinutes(), 2)\n",
       "          + (date.getMilliseconds() ? \":\" + pad(date.getSeconds(), 2) + \".\" + pad(date.getMilliseconds(), 3)\n",
       "            : date.getSeconds() ? \":\" + pad(date.getSeconds(), 2)\n",
       "            : \"\");\n",
       "  }\n",
       "\n",
       "  var errorToString = Error.prototype.toString;\n",
       "\n",
       "  function formatError(value) {\n",
       "    return value.stack || errorToString.call(value);\n",
       "  }\n",
       "\n",
       "  var regExpToString = RegExp.prototype.toString;\n",
       "\n",
       "  function formatRegExp(value) {\n",
       "    return regExpToString.call(value);\n",
       "  }\n",
       "\n",
       "  /* eslint-disable no-control-regex */\n",
       "  const NEWLINE_LIMIT = 20;\n",
       "\n",
       "  function formatString(string, shallow, expanded, name) {\n",
       "    if (shallow === false) {\n",
       "      // String has fewer escapes displayed with double quotes\n",
       "      if (count(string, /[\"\\\\n]/g) <= count(string, /\\`|\\\\\\${/g)) {\n",
       "        const span = document.createElement(\"span\");\n",
       "        if (name) span.appendChild(inspectName(name));\n",
       "        const textValue = span.appendChild(document.createElement(\"span\"));\n",
       "        textValue.className = \"observablehq--string\";\n",
       "        textValue.textContent = JSON.stringify(string);\n",
       "        return span;\n",
       "      }\n",
       "      const lines = string.split(\"\\\\n\");\n",
       "      if (lines.length > NEWLINE_LIMIT && !expanded) {\n",
       "        const div = document.createElement(\"div\");\n",
       "        if (name) div.appendChild(inspectName(name));\n",
       "        const textValue = div.appendChild(document.createElement(\"span\"));\n",
       "        textValue.className = \"observablehq--string\";\n",
       "        textValue.textContent = \"\\`\" + templatify(lines.slice(0, NEWLINE_LIMIT).join(\"\\\\n\"));\n",
       "        const splitter = div.appendChild(document.createElement(\"span\"));\n",
       "        const truncatedCount = lines.length - NEWLINE_LIMIT;\n",
       "        splitter.textContent = \\`Show \\${truncatedCount} truncated line\\${truncatedCount > 1 ? \"s\": \"\"}\\`; splitter.className = \"observablehq--string-expand\";\n",
       "        splitter.addEventListener(\"mouseup\", function (event) {\n",
       "          event.stopPropagation();\n",
       "          replace(div, inspect(string, shallow, true, name));\n",
       "        });\n",
       "        return div;\n",
       "      }\n",
       "      const span = document.createElement(\"span\");\n",
       "      if (name) span.appendChild(inspectName(name));\n",
       "      const textValue = span.appendChild(document.createElement(\"span\"));\n",
       "      textValue.className = \\`observablehq--string\\${expanded ? \" observablehq--expanded\" : \"\"}\\`;\n",
       "      textValue.textContent = \"\\`\" + templatify(string) + \"\\`\";\n",
       "      return span;\n",
       "    }\n",
       "\n",
       "    const span = document.createElement(\"span\");\n",
       "    if (name) span.appendChild(inspectName(name));\n",
       "    const textValue = span.appendChild(document.createElement(\"span\"));\n",
       "    textValue.className = \"observablehq--string\";\n",
       "    textValue.textContent = JSON.stringify(string.length > 100 ?\n",
       "      \\`\\${string.slice(0, 50)}…\\${string.slice(-49)}\\` : string);\n",
       "    return span;\n",
       "  }\n",
       "\n",
       "  function templatify(string) {\n",
       "    return string.replace(/[\\\\\\\\\\`\\\\x00-\\\\x09\\\\x0b-\\\\x19]|\\\\\\${/g, templatifyChar);\n",
       "  }\n",
       "\n",
       "  function templatifyChar(char) {\n",
       "    var code = char.charCodeAt(0);\n",
       "    switch (code) {\n",
       "      case 0x8: return \"\\\\\\\\b\";\n",
       "      case 0x9: return \"\\\\\\\\t\";\n",
       "      case 0xb: return \"\\\\\\\\v\";\n",
       "      case 0xc: return \"\\\\\\\\f\";\n",
       "      case 0xd: return \"\\\\\\\\r\";\n",
       "    }\n",
       "    return code < 0x10 ? \"\\\\\\\\x0\" + code.toString(16)\n",
       "        : code < 0x20 ? \"\\\\\\\\x\" + code.toString(16)\n",
       "        : \"\\\\\\\\\" + char;\n",
       "  }\n",
       "\n",
       "  function count(string, re) {\n",
       "    var n = 0;\n",
       "    while (re.exec(string)) ++n;\n",
       "    return n;\n",
       "  }\n",
       "\n",
       "  var toString = Function.prototype.toString,\n",
       "      TYPE_ASYNC = {prefix: \"async ƒ\"},\n",
       "      TYPE_ASYNC_GENERATOR = {prefix: \"async ƒ*\"},\n",
       "      TYPE_CLASS = {prefix: \"class\"},\n",
       "      TYPE_FUNCTION = {prefix: \"ƒ\"},\n",
       "      TYPE_GENERATOR = {prefix: \"ƒ*\"};\n",
       "\n",
       "  function inspectFunction(f, name) {\n",
       "    var type, m, t = toString.call(f);\n",
       "\n",
       "    switch (f.constructor && f.constructor.name) {\n",
       "      case \"AsyncFunction\": type = TYPE_ASYNC; break;\n",
       "      case \"AsyncGeneratorFunction\": type = TYPE_ASYNC_GENERATOR; break;\n",
       "      case \"GeneratorFunction\": type = TYPE_GENERATOR; break;\n",
       "      default: type = /^class\\\\b/.test(t) ? TYPE_CLASS : TYPE_FUNCTION; break;\n",
       "    }\n",
       "\n",
       "    // A class, possibly named.\n",
       "    // class Name\n",
       "    if (type === TYPE_CLASS) {\n",
       "      return formatFunction(type, \"\", name);\n",
       "    }\n",
       "\n",
       "    // An arrow function with a single argument.\n",
       "    // foo =>\n",
       "    // async foo =>\n",
       "    if ((m = /^(?:async\\\\s*)?(\\\\w+)\\\\s*=>/.exec(t))) {\n",
       "      return formatFunction(type, \"(\" + m[1] + \")\", name);\n",
       "    }\n",
       "\n",
       "    // An arrow function with parenthesized arguments.\n",
       "    // (…)\n",
       "    // async (…)\n",
       "    if ((m = /^(?:async\\\\s*)?\\\\(\\\\s*(\\\\w+(?:\\\\s*,\\\\s*\\\\w+)*)?\\\\s*\\\\)/.exec(t))) {\n",
       "      return formatFunction(type, m[1] ? \"(\" + m[1].replace(/\\\\s*,\\\\s*/g, \", \") + \")\" : \"()\", name);\n",
       "    }\n",
       "\n",
       "    // A function, possibly: async, generator, anonymous, simply arguments.\n",
       "    // function name(…)\n",
       "    // function* name(…)\n",
       "    // async function name(…)\n",
       "    // async function* name(…)\n",
       "    if ((m = /^(?:async\\\\s*)?function(?:\\\\s*\\\\*)?(?:\\\\s*\\\\w+)?\\\\s*\\\\(\\\\s*(\\\\w+(?:\\\\s*,\\\\s*\\\\w+)*)?\\\\s*\\\\)/.exec(t))) {\n",
       "      return formatFunction(type, m[1] ? \"(\" + m[1].replace(/\\\\s*,\\\\s*/g, \", \") + \")\" : \"()\", name);\n",
       "    }\n",
       "\n",
       "    // Something else, like destructuring, comments or default values.\n",
       "    return formatFunction(type, \"(…)\", name);\n",
       "  }\n",
       "\n",
       "  function formatFunction(type, args, cellname) {\n",
       "    var span = document.createElement(\"span\");\n",
       "    span.className = \"observablehq--function\";\n",
       "    if (cellname) {\n",
       "      span.appendChild(inspectName(cellname));\n",
       "    }\n",
       "    var spanType = span.appendChild(document.createElement(\"span\"));\n",
       "    spanType.className = \"observablehq--keyword\";\n",
       "    spanType.textContent = type.prefix;\n",
       "    span.appendChild(document.createTextNode(args));\n",
       "    return span;\n",
       "  }\n",
       "\n",
       "  const {prototype: {toString: toString\\$1}} = Object;\n",
       "\n",
       "  function inspect(value, shallow, expand, name, proto) {\n",
       "    let type = typeof value;\n",
       "    switch (type) {\n",
       "      case \"boolean\":\n",
       "      case \"undefined\": { value += \"\"; break; }\n",
       "      case \"number\": { value = value === 0 && 1 / value < 0 ? \"-0\" : value + \"\"; break; }\n",
       "      case \"bigint\": { value = value + \"n\"; break; }\n",
       "      case \"symbol\": { value = formatSymbol(value); break; }\n",
       "      case \"function\": { return inspectFunction(value, name); }\n",
       "      case \"string\": { return formatString(value, shallow, expand, name); }\n",
       "      default: {\n",
       "        if (value === null) { type = null, value = \"null\"; break; }\n",
       "        if (value instanceof Date) { type = \"date\", value = formatDate(value); break; }\n",
       "        if (value === FORBIDDEN) { type = \"forbidden\", value = \"[forbidden]\"; break; }\n",
       "        switch (toString\\$1.call(value)) {\n",
       "          case \"[object RegExp]\": { type = \"regexp\", value = formatRegExp(value); break; }\n",
       "          case \"[object Error]\": // https://github.com/lodash/lodash/blob/master/isError.js#L26\n",
       "          case \"[object DOMException]\": { type = \"error\", value = formatError(value); break; }\n",
       "          default: return (expand ? inspectExpanded : inspectCollapsed)(value, shallow, name, proto);\n",
       "        }\n",
       "        break;\n",
       "      }\n",
       "    }\n",
       "    const span = document.createElement(\"span\");\n",
       "    if (name) span.appendChild(inspectName(name));\n",
       "    const n = span.appendChild(document.createElement(\"span\"));\n",
       "    n.className = \\`observablehq--\\${type}\\`;\n",
       "    n.textContent = value;\n",
       "    return span;\n",
       "  }\n",
       "\n",
       "  function replace(spanOld, spanNew) {\n",
       "    if (spanOld.classList.contains(\"observablehq--inspect\")) spanNew.classList.add(\"observablehq--inspect\");\n",
       "    spanOld.parentNode.replaceChild(spanNew, spanOld);\n",
       "    dispatch(spanNew, \"load\");\n",
       "  }\n",
       "\n",
       "  const LOCATION_MATCH = /\\\\s+\\\\(\\\\d+:\\\\d+\\\\)\\$/m;\n",
       "\n",
       "  class Inspector {\n",
       "    constructor(node) {\n",
       "      if (!node) throw new Error(\"invalid node\");\n",
       "      this._node = node;\n",
       "      node.classList.add(\"observablehq\");\n",
       "    }\n",
       "    pending() {\n",
       "      const {_node} = this;\n",
       "      _node.classList.remove(\"observablehq--error\");\n",
       "      _node.classList.add(\"observablehq--running\");\n",
       "    }\n",
       "    fulfilled(value, name) {\n",
       "      const {_node} = this;\n",
       "      if (!(value instanceof Element || value instanceof Text) || (value.parentNode && value.parentNode !== _node)) {\n",
       "        value = inspect(value, false, _node.firstChild // TODO Do this better.\n",
       "            && _node.firstChild.classList\n",
       "            && _node.firstChild.classList.contains(\"observablehq--expanded\"), name);\n",
       "        value.classList.add(\"observablehq--inspect\");\n",
       "      }\n",
       "      _node.classList.remove(\"observablehq--running\", \"observablehq--error\");\n",
       "      if (_node.firstChild !== value) {\n",
       "        if (_node.firstChild) {\n",
       "          while (_node.lastChild !== _node.firstChild) _node.removeChild(_node.lastChild);\n",
       "          _node.replaceChild(value, _node.firstChild);\n",
       "        } else {\n",
       "          _node.appendChild(value);\n",
       "        }\n",
       "      }\n",
       "      dispatch(_node, \"update\");\n",
       "    }\n",
       "    rejected(error, name) {\n",
       "      const {_node} = this;\n",
       "      _node.classList.remove(\"observablehq--running\");\n",
       "      _node.classList.add(\"observablehq--error\");\n",
       "      while (_node.lastChild) _node.removeChild(_node.lastChild);\n",
       "      var div = document.createElement(\"div\");\n",
       "      div.className = \"observablehq--inspect\";\n",
       "      if (name) div.appendChild(inspectName(name));\n",
       "      div.appendChild(document.createTextNode((error + \"\").replace(LOCATION_MATCH, \"\")));\n",
       "      _node.appendChild(div);\n",
       "      dispatch(_node, \"error\", {error: error});\n",
       "    }\n",
       "  }\n",
       "\n",
       "  Inspector.into = function(container) {\n",
       "    if (typeof container === \"string\") {\n",
       "      container = document.querySelector(container);\n",
       "      if (container == null) throw new Error(\"container not found\");\n",
       "    }\n",
       "    return function() {\n",
       "      return new Inspector(container.appendChild(document.createElement(\"div\")));\n",
       "    };\n",
       "  };\n",
       "\n",
       "  async function remote_fetch(file) {\n",
       "    const response = await fetch(await file.url());\n",
       "    if (!response.ok) throw new Error(\\`Unable to load file: \\${file.name}\\`);\n",
       "    return response;\n",
       "  }\n",
       "\n",
       "  class FileAttachment {\n",
       "    constructor(url, name) {\n",
       "      Object.defineProperties(this, {\n",
       "        _url: {value: url},\n",
       "        name: {value: name, enumerable: true}\n",
       "      });\n",
       "    }\n",
       "    async url() {\n",
       "      return this._url;\n",
       "    }\n",
       "    async blob() {\n",
       "      return (await remote_fetch(this)).blob();\n",
       "    }\n",
       "    async arrayBuffer() {\n",
       "      return (await remote_fetch(this)).arrayBuffer();\n",
       "    }\n",
       "    async text() {\n",
       "      return (await remote_fetch(this)).text();\n",
       "    }\n",
       "    async json() {\n",
       "      return (await remote_fetch(this)).json();\n",
       "    }\n",
       "    async stream() {\n",
       "      return (await remote_fetch(this)).body;\n",
       "    }\n",
       "    async image() {\n",
       "      const url = await this.url();\n",
       "      return new Promise((resolve, reject) => {\n",
       "        const i = new Image;\n",
       "        if (new URL(url, document.baseURI).origin !== new URL(location).origin) {\n",
       "          i.crossOrigin = \"anonymous\";\n",
       "        }\n",
       "        i.onload = () => resolve(i);\n",
       "        i.onerror = () => reject(new Error(\\`Unable to load file: \\${this.name}\\`));\n",
       "        i.src = url;\n",
       "      });\n",
       "    }\n",
       "  }\n",
       "\n",
       "  function NoFileAttachments(name) {\n",
       "    throw new Error(\\`File not found: \\${name}\\`);\n",
       "  }\n",
       "\n",
       "  function FileAttachments(resolve) {\n",
       "    return name => {\n",
       "      const url = resolve(name += \"\"); // Returns a Promise, string, or null.\n",
       "      if (url == null) throw new Error(\\`File not found: \\${name}\\`);\n",
       "      return new FileAttachment(url, name);\n",
       "    };\n",
       "  }\n",
       "\n",
       "  const metas = new Map;\n",
       "  const queue = [];\n",
       "  const map = queue.map;\n",
       "  const some = queue.some;\n",
       "  const hasOwnProperty\\$1 = queue.hasOwnProperty;\n",
       "  const origin = \"https://cdn.jsdelivr.net/npm/\";\n",
       "  const identifierRe = /^((?:@[^/@]+\\\\/)?[^/@]+)(?:@([^/]+))?(?:\\\\/(.*))?\\$/;\n",
       "  const versionRe = /^\\\\d+\\\\.\\\\d+\\\\.\\\\d+(-[\\\\w-.+]+)?\\$/;\n",
       "  const extensionRe = /\\\\.[^/]*\\$/;\n",
       "  const mains = [\"unpkg\", \"jsdelivr\", \"browser\", \"main\"];\n",
       "\n",
       "  class RequireError extends Error {\n",
       "    constructor(message) {\n",
       "      super(message);\n",
       "    }\n",
       "  }\n",
       "\n",
       "  RequireError.prototype.name = RequireError.name;\n",
       "\n",
       "  function main(meta) {\n",
       "    for (const key of mains) {\n",
       "      const value = meta[key];\n",
       "      if (typeof value === \"string\") {\n",
       "        return extensionRe.test(value) ? value : \\`\\${value}.js\\`;\n",
       "      }\n",
       "    }\n",
       "  }\n",
       "\n",
       "  function parseIdentifier(identifier) {\n",
       "    const match = identifierRe.exec(identifier);\n",
       "    return match && {\n",
       "      name: match[1],\n",
       "      version: match[2],\n",
       "      path: match[3]\n",
       "    };\n",
       "  }\n",
       "\n",
       "  function resolveMeta(target) {\n",
       "    const url = \\`\\${origin}\\${target.name}\\${target.version ? \\`@\\${target.version}\\` : \"\"}/package.json\\`;\n",
       "    let meta = metas.get(url);\n",
       "    if (!meta) metas.set(url, meta = fetch(url).then(response => {\n",
       "      if (!response.ok) throw new RequireError(\"unable to load package.json\");\n",
       "      if (response.redirected && !metas.has(response.url)) metas.set(response.url, meta);\n",
       "      return response.json();\n",
       "    }));\n",
       "    return meta;\n",
       "  }\n",
       "\n",
       "  async function resolve(name, base) {\n",
       "    if (name.startsWith(origin)) name = name.substring(origin.length);\n",
       "    if (/^(\\\\w+:)|\\\\/\\\\//i.test(name)) return name;\n",
       "    if (/^[.]{0,2}\\\\//i.test(name)) return new URL(name, base == null ? location : base).href;\n",
       "    if (!name.length || /^[\\\\s._]/.test(name) || /\\\\s\\$/.test(name)) throw new RequireError(\"illegal name\");\n",
       "    const target = parseIdentifier(name);\n",
       "    if (!target) return \\`\\${origin}\\${name}\\`;\n",
       "    if (!target.version && base != null && base.startsWith(origin)) {\n",
       "      const meta = await resolveMeta(parseIdentifier(base.substring(origin.length)));\n",
       "      target.version = meta.dependencies && meta.dependencies[target.name] || meta.peerDependencies && meta.peerDependencies[target.name];\n",
       "    }\n",
       "    if (target.path && !extensionRe.test(target.path)) target.path += \".js\";\n",
       "    if (target.path && target.version && versionRe.test(target.version)) return \\`\\${origin}\\${target.name}@\\${target.version}/\\${target.path}\\`;\n",
       "    const meta = await resolveMeta(target);\n",
       "    return \\`\\${origin}\\${meta.name}@\\${meta.version}/\\${target.path || main(meta) || \"index.js\"}\\`;\n",
       "  }\n",
       "\n",
       "  var require = requireFrom(resolve);\n",
       "\n",
       "  function requireFrom(resolver) {\n",
       "    const cache = new Map;\n",
       "    const requireBase = requireRelative(null);\n",
       "\n",
       "    function requireAbsolute(url) {\n",
       "      if (typeof url !== \"string\") return url;\n",
       "      let module = cache.get(url);\n",
       "      if (!module) cache.set(url, module = new Promise((resolve, reject) => {\n",
       "        const script = document.createElement(\"script\");\n",
       "        script.onload = () => {\n",
       "          try { resolve(queue.pop()(requireRelative(url))); }\n",
       "          catch (error) { reject(new RequireError(\"invalid module\")); }\n",
       "          script.remove();\n",
       "        };\n",
       "        script.onerror = () => {\n",
       "          reject(new RequireError(\"unable to load module\"));\n",
       "          script.remove();\n",
       "        };\n",
       "        script.async = true;\n",
       "        script.src = url;\n",
       "        window.define = define;\n",
       "        document.head.appendChild(script);\n",
       "      }));\n",
       "      return module;\n",
       "    }\n",
       "\n",
       "    function requireRelative(base) {\n",
       "      return name => Promise.resolve(resolver(name, base)).then(requireAbsolute);\n",
       "    }\n",
       "\n",
       "    function requireAlias(aliases) {\n",
       "      return requireFrom((name, base) => {\n",
       "        if (name in aliases) {\n",
       "          name = aliases[name], base = null;\n",
       "          if (typeof name !== \"string\") return name;\n",
       "        }\n",
       "        return resolver(name, base);\n",
       "      });\n",
       "    }\n",
       "\n",
       "    function require(name) {\n",
       "      return arguments.length > 1\n",
       "          ? Promise.all(map.call(arguments, requireBase)).then(merge)\n",
       "          : requireBase(name);\n",
       "    }\n",
       "\n",
       "    require.alias = requireAlias;\n",
       "    require.resolve = resolver;\n",
       "\n",
       "    return require;\n",
       "  }\n",
       "\n",
       "  function merge(modules) {\n",
       "    const o = {};\n",
       "    for (const m of modules) {\n",
       "      for (const k in m) {\n",
       "        if (hasOwnProperty\\$1.call(m, k)) {\n",
       "          if (m[k] == null) Object.defineProperty(o, k, {get: getter(m, k)});\n",
       "          else o[k] = m[k];\n",
       "        }\n",
       "      }\n",
       "    }\n",
       "    return o;\n",
       "  }\n",
       "\n",
       "  function getter(object, name) {\n",
       "    return () => object[name];\n",
       "  }\n",
       "\n",
       "  function isbuiltin(name) {\n",
       "    name = name + \"\";\n",
       "    return name === \"exports\" || name === \"module\";\n",
       "  }\n",
       "\n",
       "  function define(name, dependencies, factory) {\n",
       "    const n = arguments.length;\n",
       "    if (n < 2) factory = name, dependencies = [];\n",
       "    else if (n < 3) factory = dependencies, dependencies = typeof name === \"string\" ? [] : name;\n",
       "    queue.push(some.call(dependencies, isbuiltin) ? require => {\n",
       "      const exports = {};\n",
       "      const module = {exports};\n",
       "      return Promise.all(map.call(dependencies, name => {\n",
       "        name = name + \"\";\n",
       "        return name === \"exports\" ? exports : name === \"module\" ? module : require(name);\n",
       "      })).then(dependencies => {\n",
       "        factory.apply(null, dependencies);\n",
       "        return module.exports;\n",
       "      });\n",
       "    } : require => {\n",
       "      return Promise.all(map.call(dependencies, require)).then(dependencies => {\n",
       "        return typeof factory === \"function\" ? factory.apply(null, dependencies) : factory;\n",
       "      });\n",
       "    });\n",
       "  }\n",
       "\n",
       "  define.amd = {};\n",
       "\n",
       "  function constant(x) {\n",
       "    return function() {\n",
       "      return x;\n",
       "    };\n",
       "  }\n",
       "\n",
       "  function canvas(width, height) {\n",
       "    var canvas = document.createElement(\"canvas\");\n",
       "    canvas.width = width;\n",
       "    canvas.height = height;\n",
       "    return canvas;\n",
       "  }\n",
       "\n",
       "  function context2d(width, height, dpi) {\n",
       "    if (dpi == null) dpi = devicePixelRatio;\n",
       "    var canvas = document.createElement(\"canvas\");\n",
       "    canvas.width = width * dpi;\n",
       "    canvas.height = height * dpi;\n",
       "    canvas.style.width = width + \"px\";\n",
       "    var context = canvas.getContext(\"2d\");\n",
       "    context.scale(dpi, dpi);\n",
       "    return context;\n",
       "  }\n",
       "\n",
       "  function download(value, name = \"untitled\", label = \"Save\") {\n",
       "    const a = document.createElement(\"a\");\n",
       "    const b = a.appendChild(document.createElement(\"button\"));\n",
       "    b.textContent = label;\n",
       "    a.download = name;\n",
       "\n",
       "    async function reset() {\n",
       "      await new Promise(requestAnimationFrame);\n",
       "      URL.revokeObjectURL(a.href);\n",
       "      a.removeAttribute(\"href\");\n",
       "      b.textContent = label;\n",
       "      b.disabled = false;\n",
       "    }\n",
       "\n",
       "    a.onclick = async event => {\n",
       "      b.disabled = true;\n",
       "      if (a.href) return reset(); // Already saved.\n",
       "      b.textContent = \"Saving…\";\n",
       "      try {\n",
       "        const object = await (typeof value === \"function\" ? value() : value);\n",
       "        b.textContent = \"Download\";\n",
       "        a.href = URL.createObjectURL(object); // eslint-disable-line require-atomic-updates\n",
       "      } catch (ignore) {\n",
       "        b.textContent = label;\n",
       "      }\n",
       "      if (event.eventPhase) return reset(); // Already downloaded.\n",
       "      b.disabled = false;\n",
       "    };\n",
       "\n",
       "    return a;\n",
       "  }\n",
       "\n",
       "  var namespaces = {\n",
       "    math: \"http://www.w3.org/1998/Math/MathML\",\n",
       "    svg: \"http://www.w3.org/2000/svg\",\n",
       "    xhtml: \"http://www.w3.org/1999/xhtml\",\n",
       "    xlink: \"http://www.w3.org/1999/xlink\",\n",
       "    xml: \"http://www.w3.org/XML/1998/namespace\",\n",
       "    xmlns: \"http://www.w3.org/2000/xmlns/\"\n",
       "  };\n",
       "\n",
       "  function element(name, attributes) {\n",
       "    var prefix = name += \"\", i = prefix.indexOf(\":\"), value;\n",
       "    if (i >= 0 && (prefix = name.slice(0, i)) !== \"xmlns\") name = name.slice(i + 1);\n",
       "    var element = namespaces.hasOwnProperty(prefix) // eslint-disable-line no-prototype-builtins\n",
       "        ? document.createElementNS(namespaces[prefix], name)\n",
       "        : document.createElement(name);\n",
       "    if (attributes) for (var key in attributes) {\n",
       "      prefix = key, i = prefix.indexOf(\":\"), value = attributes[key];\n",
       "      if (i >= 0 && (prefix = key.slice(0, i)) !== \"xmlns\") key = key.slice(i + 1);\n",
       "      if (namespaces.hasOwnProperty(prefix)) element.setAttributeNS(namespaces[prefix], key, value); // eslint-disable-line no-prototype-builtins\n",
       "      else element.setAttribute(key, value);\n",
       "    }\n",
       "    return element;\n",
       "  }\n",
       "\n",
       "  function input(type) {\n",
       "    var input = document.createElement(\"input\");\n",
       "    if (type != null) input.type = type;\n",
       "    return input;\n",
       "  }\n",
       "\n",
       "  function range(min, max, step) {\n",
       "    if (arguments.length === 1) max = min, min = null;\n",
       "    var input = document.createElement(\"input\");\n",
       "    input.min = min = min == null ? 0 : +min;\n",
       "    input.max = max = max == null ? 1 : +max;\n",
       "    input.step = step == null ? \"any\" : step = +step;\n",
       "    input.type = \"range\";\n",
       "    return input;\n",
       "  }\n",
       "\n",
       "  function select(values) {\n",
       "    var select = document.createElement(\"select\");\n",
       "    Array.prototype.forEach.call(values, function(value) {\n",
       "      var option = document.createElement(\"option\");\n",
       "      option.value = option.textContent = value;\n",
       "      select.appendChild(option);\n",
       "    });\n",
       "    return select;\n",
       "  }\n",
       "\n",
       "  function svg(width, height) {\n",
       "    var svg = document.createElementNS(\"http://www.w3.org/2000/svg\", \"svg\");\n",
       "    svg.setAttribute(\"viewBox\", [0, 0, width, height]);\n",
       "    svg.setAttribute(\"width\", width);\n",
       "    svg.setAttribute(\"height\", height);\n",
       "    return svg;\n",
       "  }\n",
       "\n",
       "  function text(value) {\n",
       "    return document.createTextNode(value);\n",
       "  }\n",
       "\n",
       "  var count\\$1 = 0;\n",
       "\n",
       "  function uid(name) {\n",
       "    return new Id(\"O-\" + (name == null ? \"\" : name + \"-\") + ++count\\$1);\n",
       "  }\n",
       "\n",
       "  function Id(id) {\n",
       "    this.id = id;\n",
       "    this.href = new URL(\\`#\\${id}\\`, location) + \"\";\n",
       "  }\n",
       "\n",
       "  Id.prototype.toString = function() {\n",
       "    return \"url(\" + this.href + \")\";\n",
       "  };\n",
       "\n",
       "  var DOM = {\n",
       "    canvas: canvas,\n",
       "    context2d: context2d,\n",
       "    download: download,\n",
       "    element: element,\n",
       "    input: input,\n",
       "    range: range,\n",
       "    select: select,\n",
       "    svg: svg,\n",
       "    text: text,\n",
       "    uid: uid\n",
       "  };\n",
       "\n",
       "  function buffer(file) {\n",
       "    return new Promise(function(resolve, reject) {\n",
       "      var reader = new FileReader;\n",
       "      reader.onload = function() { resolve(reader.result); };\n",
       "      reader.onerror = reject;\n",
       "      reader.readAsArrayBuffer(file);\n",
       "    });\n",
       "  }\n",
       "\n",
       "  function text\\$1(file) {\n",
       "    return new Promise(function(resolve, reject) {\n",
       "      var reader = new FileReader;\n",
       "      reader.onload = function() { resolve(reader.result); };\n",
       "      reader.onerror = reject;\n",
       "      reader.readAsText(file);\n",
       "    });\n",
       "  }\n",
       "\n",
       "  function url(file) {\n",
       "    return new Promise(function(resolve, reject) {\n",
       "      var reader = new FileReader;\n",
       "      reader.onload = function() { resolve(reader.result); };\n",
       "      reader.onerror = reject;\n",
       "      reader.readAsDataURL(file);\n",
       "    });\n",
       "  }\n",
       "\n",
       "  var Files = {\n",
       "    buffer: buffer,\n",
       "    text: text\\$1,\n",
       "    url: url\n",
       "  };\n",
       "\n",
       "  function that() {\n",
       "    return this;\n",
       "  }\n",
       "\n",
       "  function disposable(value, dispose) {\n",
       "    let done = false;\n",
       "    return {\n",
       "      [Symbol.iterator]: that,\n",
       "      next: () => done ? {done: true} : (done = true, {done: false, value}),\n",
       "      return: () => (done = true, dispose(value), {done: true}),\n",
       "      throw: () => ({done: done = true})\n",
       "    };\n",
       "  }\n",
       "\n",
       "  function* filter(iterator, test) {\n",
       "    var result, index = -1;\n",
       "    while (!(result = iterator.next()).done) {\n",
       "      if (test(result.value, ++index)) {\n",
       "        yield result.value;\n",
       "      }\n",
       "    }\n",
       "  }\n",
       "\n",
       "  function observe(initialize) {\n",
       "    let stale = false;\n",
       "    let value;\n",
       "    let resolve;\n",
       "    const dispose = initialize(change);\n",
       "\n",
       "    function change(x) {\n",
       "      if (resolve) resolve(x), resolve = null;\n",
       "      else stale = true;\n",
       "      return value = x;\n",
       "    }\n",
       "\n",
       "    function next() {\n",
       "      return {done: false, value: stale\n",
       "          ? (stale = false, Promise.resolve(value))\n",
       "          : new Promise(_ => (resolve = _))};\n",
       "    }\n",
       "\n",
       "    return {\n",
       "      [Symbol.iterator]: that,\n",
       "      throw: () => ({done: true}),\n",
       "      return: () => (dispose != null && dispose(), {done: true}),\n",
       "      next\n",
       "    };\n",
       "  }\n",
       "\n",
       "  function input\\$1(input) {\n",
       "    return observe(function(change) {\n",
       "      var event = eventof(input), value = valueof\\$1(input);\n",
       "      function inputted() { change(valueof\\$1(input)); }\n",
       "      input.addEventListener(event, inputted);\n",
       "      if (value !== undefined) change(value);\n",
       "      return function() { input.removeEventListener(event, inputted); };\n",
       "    });\n",
       "  }\n",
       "\n",
       "  function valueof\\$1(input) {\n",
       "    switch (input.type) {\n",
       "      case \"range\":\n",
       "      case \"number\": return input.valueAsNumber;\n",
       "      case \"date\": return input.valueAsDate;\n",
       "      case \"checkbox\": return input.checked;\n",
       "      case \"file\": return input.multiple ? input.files : input.files[0];\n",
       "      default: return input.value;\n",
       "    }\n",
       "  }\n",
       "\n",
       "  function eventof(input) {\n",
       "    switch (input.type) {\n",
       "      case \"button\":\n",
       "      case \"submit\":\n",
       "      case \"checkbox\": return \"click\";\n",
       "      case \"file\": return \"change\";\n",
       "      default: return \"input\";\n",
       "    }\n",
       "  }\n",
       "\n",
       "  function* map\\$1(iterator, transform) {\n",
       "    var result, index = -1;\n",
       "    while (!(result = iterator.next()).done) {\n",
       "      yield transform(result.value, ++index);\n",
       "    }\n",
       "  }\n",
       "\n",
       "  function queue\\$1(initialize) {\n",
       "    let resolve;\n",
       "    const queue = [];\n",
       "    const dispose = initialize(push);\n",
       "\n",
       "    function push(x) {\n",
       "      queue.push(x);\n",
       "      if (resolve) resolve(queue.shift()), resolve = null;\n",
       "      return x;\n",
       "    }\n",
       "\n",
       "    function next() {\n",
       "      return {done: false, value: queue.length\n",
       "          ? Promise.resolve(queue.shift())\n",
       "          : new Promise(_ => (resolve = _))};\n",
       "    }\n",
       "\n",
       "    return {\n",
       "      [Symbol.iterator]: that,\n",
       "      throw: () => ({done: true}),\n",
       "      return: () => (dispose != null && dispose(), {done: true}),\n",
       "      next\n",
       "    };\n",
       "  }\n",
       "\n",
       "  function* range\\$1(start, stop, step) {\n",
       "    start = +start;\n",
       "    stop = +stop;\n",
       "    step = (n = arguments.length) < 2 ? (stop = start, start = 0, 1) : n < 3 ? 1 : +step;\n",
       "    var i = -1, n = Math.max(0, Math.ceil((stop - start) / step)) | 0;\n",
       "    while (++i < n) {\n",
       "      yield start + i * step;\n",
       "    }\n",
       "  }\n",
       "\n",
       "  function valueAt(iterator, i) {\n",
       "    if (!isFinite(i = +i) || i < 0 || i !== i | 0) return;\n",
       "    var result, index = -1;\n",
       "    while (!(result = iterator.next()).done) {\n",
       "      if (++index === i) {\n",
       "        return result.value;\n",
       "      }\n",
       "    }\n",
       "  }\n",
       "\n",
       "  function worker(source) {\n",
       "    const url = URL.createObjectURL(new Blob([source], {type: \"text/javascript\"}));\n",
       "    const worker = new Worker(url);\n",
       "    return disposable(worker, () => {\n",
       "      worker.terminate();\n",
       "      URL.revokeObjectURL(url);\n",
       "    });\n",
       "  }\n",
       "\n",
       "  var Generators = {\n",
       "    disposable: disposable,\n",
       "    filter: filter,\n",
       "    input: input\\$1,\n",
       "    map: map\\$1,\n",
       "    observe: observe,\n",
       "    queue: queue\\$1,\n",
       "    range: range\\$1,\n",
       "    valueAt: valueAt,\n",
       "    worker: worker\n",
       "  };\n",
       "\n",
       "  function template(render, wrapper) {\n",
       "    return function(strings) {\n",
       "      var string = strings[0],\n",
       "          parts = [], part,\n",
       "          root = null,\n",
       "          node, nodes,\n",
       "          walker,\n",
       "          i, n, j, m, k = -1;\n",
       "\n",
       "      // Concatenate the text using comments as placeholders.\n",
       "      for (i = 1, n = arguments.length; i < n; ++i) {\n",
       "        part = arguments[i];\n",
       "        if (part instanceof Node) {\n",
       "          parts[++k] = part;\n",
       "          string += \"<!--o:\" + k + \"-->\";\n",
       "        } else if (Array.isArray(part)) {\n",
       "          for (j = 0, m = part.length; j < m; ++j) {\n",
       "            node = part[j];\n",
       "            if (node instanceof Node) {\n",
       "              if (root === null) {\n",
       "                parts[++k] = root = document.createDocumentFragment();\n",
       "                string += \"<!--o:\" + k + \"-->\";\n",
       "              }\n",
       "              root.appendChild(node);\n",
       "            } else {\n",
       "              root = null;\n",
       "              string += node;\n",
       "            }\n",
       "          }\n",
       "          root = null;\n",
       "        } else {\n",
       "          string += part;\n",
       "        }\n",
       "        string += strings[i];\n",
       "      }\n",
       "\n",
       "      // Render the text.\n",
       "      root = render(string);\n",
       "\n",
       "      // Walk the rendered content to replace comment placeholders.\n",
       "      if (++k > 0) {\n",
       "        nodes = new Array(k);\n",
       "        walker = document.createTreeWalker(root, NodeFilter.SHOW_COMMENT, null, false);\n",
       "        while (walker.nextNode()) {\n",
       "          node = walker.currentNode;\n",
       "          if (/^o:/.test(node.nodeValue)) {\n",
       "            nodes[+node.nodeValue.slice(2)] = node;\n",
       "          }\n",
       "        }\n",
       "        for (i = 0; i < k; ++i) {\n",
       "          if (node = nodes[i]) {\n",
       "            node.parentNode.replaceChild(parts[i], node);\n",
       "          }\n",
       "        }\n",
       "      }\n",
       "\n",
       "      // Is the rendered content\n",
       "      // … a parent of a single child? Detach and return the child.\n",
       "      // … a document fragment? Replace the fragment with an element.\n",
       "      // … some other node? Return it.\n",
       "      return root.childNodes.length === 1 ? root.removeChild(root.firstChild)\n",
       "          : root.nodeType === 11 ? ((node = wrapper()).appendChild(root), node)\n",
       "          : root;\n",
       "    };\n",
       "  }\n",
       "\n",
       "  var html = template(function(string) {\n",
       "    var template = document.createElement(\"template\");\n",
       "    template.innerHTML = string.trim();\n",
       "    return document.importNode(template.content, true);\n",
       "  }, function() {\n",
       "    return document.createElement(\"span\");\n",
       "  });\n",
       "\n",
       "  const HL_ROOT =\n",
       "    \"https://cdn.jsdelivr.net/npm/@observablehq/highlight.js@2.0.0/\";\n",
       "\n",
       "  function md(require) {\n",
       "    return function() {\n",
       "      return require(\"marked@0.3.12/marked.min.js\").then(function(marked) {\n",
       "        return template(\n",
       "          function(string) {\n",
       "            var root = document.createElement(\"div\");\n",
       "            root.innerHTML = marked(string, {langPrefix: \"\"}).trim();\n",
       "            var code = root.querySelectorAll(\"pre code[class]\");\n",
       "            if (code.length > 0) {\n",
       "              require(HL_ROOT + \"highlight.min.js\").then(function(hl) {\n",
       "                code.forEach(function(block) {\n",
       "                  function done() {\n",
       "                    hl.highlightBlock(block);\n",
       "                    block.parentNode.classList.add(\"observablehq--md-pre\");\n",
       "                  }\n",
       "                  if (hl.getLanguage(block.className)) {\n",
       "                    done();\n",
       "                  } else {\n",
       "                    require(HL_ROOT + \"async-languages/index.js\")\n",
       "                      .then(index => {\n",
       "                        if (index.has(block.className)) {\n",
       "                          return require(HL_ROOT +\n",
       "                            \"async-languages/\" +\n",
       "                            index.get(block.className)).then(language => {\n",
       "                            hl.registerLanguage(block.className, language);\n",
       "                          });\n",
       "                        }\n",
       "                      })\n",
       "                      .then(done, done);\n",
       "                  }\n",
       "                });\n",
       "              });\n",
       "            }\n",
       "            return root;\n",
       "          },\n",
       "          function() {\n",
       "            return document.createElement(\"div\");\n",
       "          }\n",
       "        );\n",
       "      });\n",
       "    };\n",
       "  }\n",
       "\n",
       "  function Mutable(value) {\n",
       "    let change;\n",
       "    Object.defineProperties(this, {\n",
       "      generator: {value: observe(_ => void (change = _))},\n",
       "      value: {get: () => value, set: x => change(value = x)}\n",
       "    });\n",
       "    if (value !== undefined) change(value);\n",
       "  }\n",
       "\n",
       "  function* now() {\n",
       "    while (true) {\n",
       "      yield Date.now();\n",
       "    }\n",
       "  }\n",
       "\n",
       "  function delay(duration, value) {\n",
       "    return new Promise(function(resolve) {\n",
       "      setTimeout(function() {\n",
       "        resolve(value);\n",
       "      }, duration);\n",
       "    });\n",
       "  }\n",
       "\n",
       "  var timeouts = new Map;\n",
       "\n",
       "  function timeout(now, time) {\n",
       "    var t = new Promise(function(resolve) {\n",
       "      timeouts.delete(time);\n",
       "      var delay = time - now;\n",
       "      if (!(delay > 0)) throw new Error(\"invalid time\");\n",
       "      if (delay > 0x7fffffff) throw new Error(\"too long to wait\");\n",
       "      setTimeout(resolve, delay);\n",
       "    });\n",
       "    timeouts.set(time, t);\n",
       "    return t;\n",
       "  }\n",
       "\n",
       "  function when(time, value) {\n",
       "    var now;\n",
       "    return (now = timeouts.get(time = +time)) ? now.then(constant(value))\n",
       "        : (now = Date.now()) >= time ? Promise.resolve(value)\n",
       "        : timeout(now, time).then(constant(value));\n",
       "  }\n",
       "\n",
       "  function tick(duration, value) {\n",
       "    return when(Math.ceil((Date.now() + 1) / duration) * duration, value);\n",
       "  }\n",
       "\n",
       "  var Promises = {\n",
       "    delay: delay,\n",
       "    tick: tick,\n",
       "    when: when\n",
       "  };\n",
       "\n",
       "  function resolve\\$1(name, base) {\n",
       "    if (/^(\\\\w+:)|\\\\/\\\\//i.test(name)) return name;\n",
       "    if (/^[.]{0,2}\\\\//i.test(name)) return new URL(name, base == null ? location : base).href;\n",
       "    if (!name.length || /^[\\\\s._]/.test(name) || /\\\\s\\$/.test(name)) throw new Error(\"illegal name\");\n",
       "    return \"https://unpkg.com/\" + name;\n",
       "  }\n",
       "\n",
       "  function requirer(resolve) {\n",
       "    return resolve == null ? require : requireFrom(resolve);\n",
       "  }\n",
       "\n",
       "  var svg\\$1 = template(function(string) {\n",
       "    var root = document.createElementNS(\"http://www.w3.org/2000/svg\", \"g\");\n",
       "    root.innerHTML = string.trim();\n",
       "    return root;\n",
       "  }, function() {\n",
       "    return document.createElementNS(\"http://www.w3.org/2000/svg\", \"g\");\n",
       "  });\n",
       "\n",
       "  var raw = String.raw;\n",
       "\n",
       "  function style(href) {\n",
       "    return new Promise(function(resolve, reject) {\n",
       "      var link = document.createElement(\"link\");\n",
       "      link.rel = \"stylesheet\";\n",
       "      link.href = href;\n",
       "      link.onerror = reject;\n",
       "      link.onload = resolve;\n",
       "      document.head.appendChild(link);\n",
       "    });\n",
       "  }\n",
       "\n",
       "  function tex(require) {\n",
       "    return function() {\n",
       "      return Promise.all([\n",
       "        require(\"@observablehq/katex@0.11.1/dist/katex.min.js\"),\n",
       "        require.resolve(\"@observablehq/katex@0.11.1/dist/katex.min.css\").then(style)\n",
       "      ]).then(function(values) {\n",
       "        var katex = values[0], tex = renderer();\n",
       "\n",
       "        function renderer(options) {\n",
       "          return function() {\n",
       "            var root = document.createElement(\"div\");\n",
       "            katex.render(raw.apply(String, arguments), root, options);\n",
       "            return root.removeChild(root.firstChild);\n",
       "          };\n",
       "        }\n",
       "\n",
       "        tex.options = renderer;\n",
       "        tex.block = renderer({displayMode: true});\n",
       "        return tex;\n",
       "      });\n",
       "    };\n",
       "  }\n",
       "\n",
       "  function width() {\n",
       "    return observe(function(change) {\n",
       "      var width = change(document.body.clientWidth);\n",
       "      function resized() {\n",
       "        var w = document.body.clientWidth;\n",
       "        if (w !== width) change(width = w);\n",
       "      }\n",
       "      window.addEventListener(\"resize\", resized);\n",
       "      return function() {\n",
       "        window.removeEventListener(\"resize\", resized);\n",
       "      };\n",
       "    });\n",
       "  }\n",
       "\n",
       "  var Library = Object.assign(function Library(resolver) {\n",
       "    const require = requirer(resolver);\n",
       "    Object.defineProperties(this, {\n",
       "      DOM: {value: DOM, writable: true, enumerable: true},\n",
       "      FileAttachment: {value: constant(NoFileAttachments), writable: true, enumerable: true},\n",
       "      Files: {value: Files, writable: true, enumerable: true},\n",
       "      Generators: {value: Generators, writable: true, enumerable: true},\n",
       "      html: {value: constant(html), writable: true, enumerable: true},\n",
       "      md: {value: md(require), writable: true, enumerable: true},\n",
       "      Mutable: {value: constant(Mutable), writable: true, enumerable: true},\n",
       "      now: {value: now, writable: true, enumerable: true},\n",
       "      Promises: {value: Promises, writable: true, enumerable: true},\n",
       "      require: {value: constant(require), writable: true, enumerable: true},\n",
       "      resolve: {value: constant(resolve\\$1), writable: true, enumerable: true},\n",
       "      svg: {value: constant(svg\\$1), writable: true, enumerable: true},\n",
       "      tex: {value: tex(require), writable: true, enumerable: true},\n",
       "      width: {value: width, writable: true, enumerable: true}\n",
       "    });\n",
       "  }, {resolve: require.resolve});\n",
       "\n",
       "  function RuntimeError(message, input) {\n",
       "    this.message = message + \"\";\n",
       "    this.input = input;\n",
       "  }\n",
       "\n",
       "  RuntimeError.prototype = Object.create(Error.prototype);\n",
       "  RuntimeError.prototype.name = \"RuntimeError\";\n",
       "  RuntimeError.prototype.constructor = RuntimeError;\n",
       "\n",
       "  function generatorish(value) {\n",
       "    return value\n",
       "        && typeof value.next === \"function\"\n",
       "        && typeof value.return === \"function\";\n",
       "  }\n",
       "\n",
       "  function load(notebook, library, observer) {\n",
       "    if (typeof library == \"function\") observer = library, library = null;\n",
       "    if (typeof observer !== \"function\") throw new Error(\"invalid observer\");\n",
       "    if (library == null) library = new Library();\n",
       "\n",
       "    const {modules, id} = notebook;\n",
       "    const map = new Map;\n",
       "    const runtime = new Runtime(library);\n",
       "    const main = runtime_module(id);\n",
       "\n",
       "    function runtime_module(id) {\n",
       "      let module = map.get(id);\n",
       "      if (!module) map.set(id, module = runtime.module());\n",
       "      return module;\n",
       "    }\n",
       "\n",
       "    for (const m of modules) {\n",
       "      const module = runtime_module(m.id);\n",
       "      let i = 0;\n",
       "      for (const v of m.variables) {\n",
       "        if (v.from) module.import(v.remote, v.name, runtime_module(v.from));\n",
       "        else if (module === main) module.variable(observer(v, i, m.variables)).define(v.name, v.inputs, v.value);\n",
       "        else module.define(v.name, v.inputs, v.value);\n",
       "        ++i;\n",
       "      }\n",
       "    }\n",
       "\n",
       "    return runtime;\n",
       "  }\n",
       "\n",
       "  var prototype = Array.prototype;\n",
       "  var map\\$2 = prototype.map;\n",
       "  var forEach = prototype.forEach;\n",
       "\n",
       "  function constant\\$1(x) {\n",
       "    return function() {\n",
       "      return x;\n",
       "    };\n",
       "  }\n",
       "\n",
       "  function identity(x) {\n",
       "    return x;\n",
       "  }\n",
       "\n",
       "  function rethrow(e) {\n",
       "    return function() {\n",
       "      throw e;\n",
       "    };\n",
       "  }\n",
       "\n",
       "  function noop() {}\n",
       "\n",
       "  var TYPE_NORMAL = 1; // a normal variable\n",
       "  var TYPE_IMPLICIT = 2; // created on reference\n",
       "  var TYPE_DUPLICATE = 3; // created on duplicate definition\n",
       "\n",
       "  var no_observer = {};\n",
       "\n",
       "  function Variable(type, module, observer) {\n",
       "    if (observer == null) observer = no_observer;\n",
       "    Object.defineProperties(this, {\n",
       "      _observer: {value: observer, writable: true},\n",
       "      _definition: {value: variable_undefined, writable: true},\n",
       "      _duplicate: {value: undefined, writable: true},\n",
       "      _duplicates: {value: undefined, writable: true},\n",
       "      _indegree: {value: NaN, writable: true}, // The number of computing inputs.\n",
       "      _inputs: {value: [], writable: true},\n",
       "      _invalidate: {value: noop, writable: true},\n",
       "      _module: {value: module},\n",
       "      _name: {value: null, writable: true},\n",
       "      _outputs: {value: new Set, writable: true},\n",
       "      _promise: {value: Promise.resolve(undefined), writable: true},\n",
       "      _reachable: {value: observer !== no_observer, writable: true}, // Is this variable transitively visible?\n",
       "      _rejector: {value: variable_rejector(this)},\n",
       "      _type: {value: type},\n",
       "      _value: {value: undefined, writable: true},\n",
       "      _version: {value: 0, writable: true}\n",
       "    });\n",
       "  }\n",
       "\n",
       "  Object.defineProperties(Variable.prototype, {\n",
       "    _pending: {value: variable_pending, writable: true, configurable: true},\n",
       "    _fulfilled: {value: variable_fulfilled, writable: true, configurable: true},\n",
       "    _rejected: {value: variable_rejected, writable: true, configurable: true},\n",
       "    define: {value: variable_define, writable: true, configurable: true},\n",
       "    delete: {value: variable_delete, writable: true, configurable: true},\n",
       "    import: {value: variable_import, writable: true, configurable: true}\n",
       "  });\n",
       "\n",
       "  function variable_attach(variable) {\n",
       "    variable._module._runtime._dirty.add(variable);\n",
       "    variable._outputs.add(this);\n",
       "  }\n",
       "\n",
       "  function variable_detach(variable) {\n",
       "    variable._module._runtime._dirty.add(variable);\n",
       "    variable._outputs.delete(this);\n",
       "  }\n",
       "\n",
       "  function variable_undefined() {\n",
       "    throw variable_undefined;\n",
       "  }\n",
       "\n",
       "  function variable_rejector(variable) {\n",
       "    return function(error) {\n",
       "      if (error === variable_undefined) throw new RuntimeError(variable._name + \" is not defined\", variable._name);\n",
       "      throw new RuntimeError(variable._name + \" could not be resolved\", variable._name);\n",
       "    };\n",
       "  }\n",
       "\n",
       "  function variable_duplicate(name) {\n",
       "    return function() {\n",
       "      throw new RuntimeError(name + \" is defined more than once\");\n",
       "    };\n",
       "  }\n",
       "\n",
       "  function variable_define(name, inputs, definition) {\n",
       "    switch (arguments.length) {\n",
       "      case 1: {\n",
       "        definition = name, name = inputs = null;\n",
       "        break;\n",
       "      }\n",
       "      case 2: {\n",
       "        definition = inputs;\n",
       "        if (typeof name === \"string\") inputs = null;\n",
       "        else inputs = name, name = null;\n",
       "        break;\n",
       "      }\n",
       "    }\n",
       "    return variable_defineImpl.call(this,\n",
       "      name == null ? null : name + \"\",\n",
       "      inputs == null ? [] : map\\$2.call(inputs, this._module._resolve, this._module),\n",
       "      typeof definition === \"function\" ? definition : constant\\$1(definition)\n",
       "    );\n",
       "  }\n",
       "\n",
       "  function variable_defineImpl(name, inputs, definition) {\n",
       "    var scope = this._module._scope, runtime = this._module._runtime;\n",
       "\n",
       "    this._inputs.forEach(variable_detach, this);\n",
       "    inputs.forEach(variable_attach, this);\n",
       "    this._inputs = inputs;\n",
       "    this._definition = definition;\n",
       "    this._value = undefined;\n",
       "\n",
       "    // Is this an active variable (that may require disposal)?\n",
       "    if (definition === noop) runtime._variables.delete(this);\n",
       "    else runtime._variables.add(this);\n",
       "\n",
       "    // Did the variable’s name change? Time to patch references!\n",
       "    if (name == this._name && scope.get(name) === this) {\n",
       "      this._outputs.forEach(runtime._updates.add, runtime._updates);\n",
       "    } else {\n",
       "      var error, found;\n",
       "\n",
       "      if (this._name) { // Did this variable previously have a name?\n",
       "        if (this._outputs.size) { // And did other variables reference this variable?\n",
       "          scope.delete(this._name);\n",
       "          found = this._module._resolve(this._name);\n",
       "          found._outputs = this._outputs, this._outputs = new Set;\n",
       "          found._outputs.forEach(function(output) { output._inputs[output._inputs.indexOf(this)] = found; }, this);\n",
       "          found._outputs.forEach(runtime._updates.add, runtime._updates);\n",
       "          runtime._dirty.add(found).add(this);\n",
       "          scope.set(this._name, found);\n",
       "        } else if ((found = scope.get(this._name)) === this) { // Do no other variables reference this variable?\n",
       "          scope.delete(this._name); // It’s safe to delete!\n",
       "        } else if (found._type === TYPE_DUPLICATE) { // Do other variables assign this name?\n",
       "          found._duplicates.delete(this); // This variable no longer assigns this name.\n",
       "          this._duplicate = undefined;\n",
       "          if (found._duplicates.size === 1) { // Is there now only one variable assigning this name?\n",
       "            found = found._duplicates.keys().next().value; // Any references are now fixed!\n",
       "            error = scope.get(this._name);\n",
       "            found._outputs = error._outputs, error._outputs = new Set;\n",
       "            found._outputs.forEach(function(output) { output._inputs[output._inputs.indexOf(error)] = found; });\n",
       "            found._definition = found._duplicate, found._duplicate = undefined;\n",
       "            runtime._dirty.add(error).add(found);\n",
       "            runtime._updates.add(found);\n",
       "            scope.set(this._name, found);\n",
       "          }\n",
       "        } else {\n",
       "          throw new Error;\n",
       "        }\n",
       "      }\n",
       "\n",
       "      if (this._outputs.size) throw new Error;\n",
       "\n",
       "      if (name) { // Does this variable have a new name?\n",
       "        if (found = scope.get(name)) { // Do other variables reference or assign this name?\n",
       "          if (found._type === TYPE_DUPLICATE) { // Do multiple other variables already define this name?\n",
       "            this._definition = variable_duplicate(name), this._duplicate = definition;\n",
       "            found._duplicates.add(this);\n",
       "          } else if (found._type === TYPE_IMPLICIT) { // Are the variable references broken?\n",
       "            this._outputs = found._outputs, found._outputs = new Set; // Now they’re fixed!\n",
       "            this._outputs.forEach(function(output) { output._inputs[output._inputs.indexOf(found)] = this; }, this);\n",
       "            runtime._dirty.add(found).add(this);\n",
       "            scope.set(name, this);\n",
       "          } else { // Does another variable define this name?\n",
       "            found._duplicate = found._definition, this._duplicate = definition; // Now they’re duplicates.\n",
       "            error = new Variable(TYPE_DUPLICATE, this._module);\n",
       "            error._name = name;\n",
       "            error._definition = this._definition = found._definition = variable_duplicate(name);\n",
       "            error._outputs = found._outputs, found._outputs = new Set;\n",
       "            error._outputs.forEach(function(output) { output._inputs[output._inputs.indexOf(found)] = error; });\n",
       "            error._duplicates = new Set([this, found]);\n",
       "            runtime._dirty.add(found).add(error);\n",
       "            runtime._updates.add(found).add(error);\n",
       "            scope.set(name, error);\n",
       "          }\n",
       "        } else {\n",
       "          scope.set(name, this);\n",
       "        }\n",
       "      }\n",
       "\n",
       "      this._name = name;\n",
       "    }\n",
       "\n",
       "    runtime._updates.add(this);\n",
       "    runtime._compute();\n",
       "    return this;\n",
       "  }\n",
       "\n",
       "  function variable_import(remote, name, module) {\n",
       "    if (arguments.length < 3) module = name, name = remote;\n",
       "    return variable_defineImpl.call(this, name + \"\", [module._resolve(remote + \"\")], identity);\n",
       "  }\n",
       "\n",
       "  function variable_delete() {\n",
       "    return variable_defineImpl.call(this, null, [], noop);\n",
       "  }\n",
       "\n",
       "  function variable_pending() {\n",
       "    if (this._observer.pending) this._observer.pending();\n",
       "  }\n",
       "\n",
       "  function variable_fulfilled(value) {\n",
       "    if (this._observer.fulfilled) this._observer.fulfilled(value, this._name);\n",
       "  }\n",
       "\n",
       "  function variable_rejected(error) {\n",
       "    if (this._observer.rejected) this._observer.rejected(error, this._name);\n",
       "  }\n",
       "\n",
       "  function Module(runtime, builtins = []) {\n",
       "    Object.defineProperties(this, {\n",
       "      _runtime: {value: runtime},\n",
       "      _scope: {value: new Map},\n",
       "      _builtins: {value: new Map([\n",
       "        [\"invalidation\", variable_invalidation],\n",
       "        [\"visibility\", variable_visibility],\n",
       "        ...builtins\n",
       "      ])},\n",
       "      _source: {value: null, writable: true}\n",
       "    });\n",
       "  }\n",
       "\n",
       "  Object.defineProperties(Module.prototype, {\n",
       "    _copy: {value: module_copy, writable: true, configurable: true},\n",
       "    _resolve: {value: module_resolve, writable: true, configurable: true},\n",
       "    redefine: {value: module_redefine, writable: true, configurable: true},\n",
       "    define: {value: module_define, writable: true, configurable: true},\n",
       "    derive: {value: module_derive, writable: true, configurable: true},\n",
       "    import: {value: module_import, writable: true, configurable: true},\n",
       "    value: {value: module_value, writable: true, configurable: true},\n",
       "    variable: {value: module_variable, writable: true, configurable: true},\n",
       "    builtin: {value: module_builtin, writable: true, configurable: true}\n",
       "  });\n",
       "\n",
       "  function module_redefine(name) {\n",
       "    var v = this._scope.get(name);\n",
       "    if (!v) throw new RuntimeError(name + \" is not defined\");\n",
       "    if (v._type === TYPE_DUPLICATE) throw new RuntimeError(name + \" is defined more than once\");\n",
       "    return v.define.apply(v, arguments);\n",
       "  }\n",
       "\n",
       "  function module_define() {\n",
       "    var v = new Variable(TYPE_NORMAL, this);\n",
       "    return v.define.apply(v, arguments);\n",
       "  }\n",
       "\n",
       "  function module_import() {\n",
       "    var v = new Variable(TYPE_NORMAL, this);\n",
       "    return v.import.apply(v, arguments);\n",
       "  }\n",
       "\n",
       "  function module_variable(observer) {\n",
       "    return new Variable(TYPE_NORMAL, this, observer);\n",
       "  }\n",
       "\n",
       "  async function module_value(name) {\n",
       "    var v = this._scope.get(name);\n",
       "    if (!v) throw new RuntimeError(name + \" is not defined\");\n",
       "    if (v._observer === no_observer) {\n",
       "      v._observer = true;\n",
       "      this._runtime._dirty.add(v);\n",
       "    }\n",
       "    await this._runtime._compute();\n",
       "    return v._promise;\n",
       "  }\n",
       "\n",
       "  function module_derive(injects, injectModule) {\n",
       "    var copy = new Module(this._runtime, this._builtins);\n",
       "    copy._source = this;\n",
       "    forEach.call(injects, function(inject) {\n",
       "      if (typeof inject !== \"object\") inject = {name: inject + \"\"};\n",
       "      if (inject.alias == null) inject.alias = inject.name;\n",
       "      copy.import(inject.name, inject.alias, injectModule);\n",
       "    });\n",
       "    Promise.resolve().then(() => {\n",
       "      const modules = new Set([this]);\n",
       "      for (const module of modules) {\n",
       "        for (const variable of module._scope.values()) {\n",
       "          if (variable._definition === identity) { // import\n",
       "            const module = variable._inputs[0]._module;\n",
       "            const source = module._source || module;\n",
       "            if (source === this) { // circular import-with!\n",
       "              console.warn(\"circular module definition; ignoring\"); // eslint-disable-line no-console\n",
       "              return;\n",
       "            }\n",
       "            modules.add(source);\n",
       "          }\n",
       "        }\n",
       "      }\n",
       "      this._copy(copy, new Map);\n",
       "    });\n",
       "    return copy;\n",
       "  }\n",
       "\n",
       "  function module_copy(copy, map) {\n",
       "    copy._source = this;\n",
       "    map.set(this, copy);\n",
       "    for (const [name, source] of this._scope) {\n",
       "      var target = copy._scope.get(name);\n",
       "      if (target && target._type === TYPE_NORMAL) continue; // injection\n",
       "      if (source._definition === identity) { // import\n",
       "        var sourceInput = source._inputs[0],\n",
       "            sourceModule = sourceInput._module;\n",
       "        copy.import(sourceInput._name, name, map.get(sourceModule)\n",
       "          || (sourceModule._source\n",
       "             ? sourceModule._copy(new Module(copy._runtime, copy._builtins), map) // import-with\n",
       "             : sourceModule));\n",
       "      } else {\n",
       "        copy.define(name, source._inputs.map(variable_name), source._definition);\n",
       "      }\n",
       "    }\n",
       "    return copy;\n",
       "  }\n",
       "\n",
       "  function module_resolve(name) {\n",
       "    var variable = this._scope.get(name), value;\n",
       "    if (!variable) {\n",
       "      variable = new Variable(TYPE_IMPLICIT, this);\n",
       "      if (this._builtins.has(name)) {\n",
       "        variable.define(name, constant\\$1(this._builtins.get(name)));\n",
       "      } else if (this._runtime._builtin._scope.has(name)) {\n",
       "        variable.import(name, this._runtime._builtin);\n",
       "      } else {\n",
       "        try {\n",
       "          value = this._runtime._global(name);\n",
       "        } catch (error) {\n",
       "          return variable.define(name, rethrow(error));\n",
       "        }\n",
       "        if (value === undefined) {\n",
       "          this._scope.set(variable._name = name, variable);\n",
       "        } else {\n",
       "          variable.define(name, constant\\$1(value));\n",
       "        }\n",
       "      }\n",
       "    }\n",
       "    return variable;\n",
       "  }\n",
       "\n",
       "  function module_builtin(name, value) {\n",
       "    this._builtins.set(name, value);\n",
       "  }\n",
       "\n",
       "  function variable_name(variable) {\n",
       "    return variable._name;\n",
       "  }\n",
       "\n",
       "  const frame = typeof requestAnimationFrame === \"function\" ? requestAnimationFrame : setImmediate;\n",
       "\n",
       "  var variable_invalidation = {};\n",
       "  var variable_visibility = {};\n",
       "\n",
       "  function Runtime(builtins = new Library, global = window_global) {\n",
       "    var builtin = this.module();\n",
       "    Object.defineProperties(this, {\n",
       "      _dirty: {value: new Set},\n",
       "      _updates: {value: new Set},\n",
       "      _computing: {value: null, writable: true},\n",
       "      _init: {value: null, writable: true},\n",
       "      _modules: {value: new Map},\n",
       "      _variables: {value: new Set},\n",
       "      _disposed: {value: false, writable: true},\n",
       "      _builtin: {value: builtin},\n",
       "      _global: {value: global}\n",
       "    });\n",
       "    if (builtins) for (var name in builtins) {\n",
       "      (new Variable(TYPE_IMPLICIT, builtin)).define(name, [], builtins[name]);\n",
       "    }\n",
       "  }\n",
       "\n",
       "  Object.defineProperties(Runtime, {\n",
       "    load: {value: load, writable: true, configurable: true}\n",
       "  });\n",
       "\n",
       "  Object.defineProperties(Runtime.prototype, {\n",
       "    _compute: {value: runtime_compute, writable: true, configurable: true},\n",
       "    _computeSoon: {value: runtime_computeSoon, writable: true, configurable: true},\n",
       "    _computeNow: {value: runtime_computeNow, writable: true, configurable: true},\n",
       "    dispose: {value: runtime_dispose, writable: true, configurable: true},\n",
       "    module: {value: runtime_module, writable: true, configurable: true},\n",
       "    fileAttachments: {value: FileAttachments, writable: true, configurable: true}\n",
       "  });\n",
       "\n",
       "  function runtime_dispose() {\n",
       "    this._computing = Promise.resolve();\n",
       "    this._disposed = true;\n",
       "    this._variables.forEach(v => {\n",
       "      v._invalidate();\n",
       "      v._version = NaN;\n",
       "    });\n",
       "  }\n",
       "\n",
       "  function runtime_module(define, observer = noop) {\n",
       "    let module;\n",
       "    if (define === undefined) {\n",
       "      if (module = this._init) {\n",
       "        this._init = null;\n",
       "        return module;\n",
       "      }\n",
       "      return new Module(this);\n",
       "    }\n",
       "    module = this._modules.get(define);\n",
       "    if (module) return module;\n",
       "    this._init = module = new Module(this);\n",
       "    this._modules.set(define, module);\n",
       "    try {\n",
       "      define(this, observer);\n",
       "    } finally {\n",
       "      this._init = null;\n",
       "    }\n",
       "    return module;\n",
       "  }\n",
       "\n",
       "  function runtime_compute() {\n",
       "    return this._computing || (this._computing = this._computeSoon());\n",
       "  }\n",
       "\n",
       "  function runtime_computeSoon() {\n",
       "    var runtime = this;\n",
       "    return new Promise(function(resolve) {\n",
       "      frame(function() {\n",
       "        resolve();\n",
       "        runtime._disposed || runtime._computeNow();\n",
       "      });\n",
       "    });\n",
       "  }\n",
       "\n",
       "  function runtime_computeNow() {\n",
       "    var queue = [],\n",
       "        variables,\n",
       "        variable;\n",
       "\n",
       "    // Compute the reachability of the transitive closure of dirty variables.\n",
       "    // Any newly-reachable variable must also be recomputed.\n",
       "    // Any no-longer-reachable variable must be terminated.\n",
       "    variables = new Set(this._dirty);\n",
       "    variables.forEach(function(variable) {\n",
       "      variable._inputs.forEach(variables.add, variables);\n",
       "      const reachable = variable_reachable(variable);\n",
       "      if (reachable > variable._reachable) {\n",
       "        this._updates.add(variable);\n",
       "      } else if (reachable < variable._reachable) {\n",
       "        variable._invalidate();\n",
       "      }\n",
       "      variable._reachable = reachable;\n",
       "    }, this);\n",
       "\n",
       "    // Compute the transitive closure of updating, reachable variables.\n",
       "    variables = new Set(this._updates);\n",
       "    variables.forEach(function(variable) {\n",
       "      if (variable._reachable) {\n",
       "        variable._indegree = 0;\n",
       "        variable._outputs.forEach(variables.add, variables);\n",
       "      } else {\n",
       "        variable._indegree = NaN;\n",
       "        variables.delete(variable);\n",
       "      }\n",
       "    });\n",
       "\n",
       "    this._computing = null;\n",
       "    this._updates.clear();\n",
       "    this._dirty.clear();\n",
       "\n",
       "    // Compute the indegree of updating variables.\n",
       "    variables.forEach(function(variable) {\n",
       "      variable._outputs.forEach(variable_increment);\n",
       "    });\n",
       "\n",
       "    do {\n",
       "      // Identify the root variables (those with no updating inputs).\n",
       "      variables.forEach(function(variable) {\n",
       "        if (variable._indegree === 0) {\n",
       "          queue.push(variable);\n",
       "        }\n",
       "      });\n",
       "\n",
       "      // Compute the variables in topological order.\n",
       "      while (variable = queue.pop()) {\n",
       "        variable_compute(variable);\n",
       "        variable._outputs.forEach(postqueue);\n",
       "        variables.delete(variable);\n",
       "      }\n",
       "\n",
       "      // Any remaining variables are circular, or depend on them.\n",
       "      variables.forEach(function(variable) {\n",
       "        if (variable_circular(variable)) {\n",
       "          variable_error(variable, new RuntimeError(\"circular definition\"));\n",
       "          variable._outputs.forEach(variable_decrement);\n",
       "          variables.delete(variable);\n",
       "        }\n",
       "      });\n",
       "    } while (variables.size);\n",
       "\n",
       "    function postqueue(variable) {\n",
       "      if (--variable._indegree === 0) {\n",
       "        queue.push(variable);\n",
       "      }\n",
       "    }\n",
       "  }\n",
       "\n",
       "  function variable_circular(variable) {\n",
       "    const inputs = new Set(variable._inputs);\n",
       "    for (const i of inputs) {\n",
       "      if (i === variable) return true;\n",
       "      i._inputs.forEach(inputs.add, inputs);\n",
       "    }\n",
       "    return false;\n",
       "  }\n",
       "\n",
       "  function variable_increment(variable) {\n",
       "    ++variable._indegree;\n",
       "  }\n",
       "\n",
       "  function variable_decrement(variable) {\n",
       "    --variable._indegree;\n",
       "  }\n",
       "\n",
       "  function variable_value(variable) {\n",
       "    return variable._promise.catch(variable._rejector);\n",
       "  }\n",
       "\n",
       "  function variable_invalidator(variable) {\n",
       "    return new Promise(function(resolve) {\n",
       "      variable._invalidate = resolve;\n",
       "    });\n",
       "  }\n",
       "\n",
       "  function variable_intersector(invalidation, variable) {\n",
       "    let node = typeof IntersectionObserver === \"function\" && variable._observer && variable._observer._node;\n",
       "    let visible = !node, resolve = noop, reject = noop, promise, observer;\n",
       "    if (node) {\n",
       "      observer = new IntersectionObserver(([entry]) => (visible = entry.isIntersecting) && (promise = null, resolve()));\n",
       "      observer.observe(node);\n",
       "      invalidation.then(() => (observer.disconnect(), observer = null, reject()));\n",
       "    }\n",
       "    return function(value) {\n",
       "      if (visible) return Promise.resolve(value);\n",
       "      if (!observer) return Promise.reject();\n",
       "      if (!promise) promise = new Promise((y, n) => (resolve = y, reject = n));\n",
       "      return promise.then(() => value);\n",
       "    };\n",
       "  }\n",
       "\n",
       "  function variable_compute(variable) {\n",
       "    variable._invalidate();\n",
       "    variable._invalidate = noop;\n",
       "    variable._pending();\n",
       "    var value0 = variable._value,\n",
       "        version = ++variable._version,\n",
       "        invalidation = null,\n",
       "        promise = variable._promise = Promise.all(variable._inputs.map(variable_value)).then(function(inputs) {\n",
       "      if (variable._version !== version) return;\n",
       "\n",
       "      // Replace any reference to invalidation with the promise, lazily.\n",
       "      for (var i = 0, n = inputs.length; i < n; ++i) {\n",
       "        switch (inputs[i]) {\n",
       "          case variable_invalidation: {\n",
       "            inputs[i] = invalidation = variable_invalidator(variable);\n",
       "            break;\n",
       "          }\n",
       "          case variable_visibility: {\n",
       "            if (!invalidation) invalidation = variable_invalidator(variable);\n",
       "            inputs[i] = variable_intersector(invalidation, variable);\n",
       "            break;\n",
       "          }\n",
       "        }\n",
       "      }\n",
       "\n",
       "      // Compute the initial value of the variable.\n",
       "      return variable._definition.apply(value0, inputs);\n",
       "    }).then(function(value) {\n",
       "      // If the value is a generator, then retrieve its first value,\n",
       "      // and dispose of the generator if the variable is invalidated.\n",
       "      // Note that the cell may already have been invalidated here,\n",
       "      // in which case we need to terminate the generator immediately!\n",
       "      if (generatorish(value)) {\n",
       "        if (variable._version !== version) return void value.return();\n",
       "        (invalidation || variable_invalidator(variable)).then(variable_return(value));\n",
       "        return variable_precompute(variable, version, promise, value);\n",
       "      }\n",
       "      return value;\n",
       "    });\n",
       "    promise.then(function(value) {\n",
       "      if (variable._version !== version) return;\n",
       "      variable._value = value;\n",
       "      variable._fulfilled(value);\n",
       "    }, function(error) {\n",
       "      if (variable._version !== version) return;\n",
       "      variable._value = undefined;\n",
       "      variable._rejected(error);\n",
       "    });\n",
       "  }\n",
       "\n",
       "  function variable_precompute(variable, version, promise, generator) {\n",
       "    function recompute() {\n",
       "      var promise = new Promise(function(resolve) {\n",
       "        resolve(generator.next());\n",
       "      }).then(function(next) {\n",
       "        return next.done ? undefined : Promise.resolve(next.value).then(function(value) {\n",
       "          if (variable._version !== version) return;\n",
       "          variable_postrecompute(variable, value, promise).then(recompute);\n",
       "          variable._fulfilled(value);\n",
       "          return value;\n",
       "        });\n",
       "      });\n",
       "      promise.catch(function(error) {\n",
       "        if (variable._version !== version) return;\n",
       "        variable_postrecompute(variable, undefined, promise);\n",
       "        variable._rejected(error);\n",
       "      });\n",
       "    }\n",
       "    return new Promise(function(resolve) {\n",
       "      resolve(generator.next());\n",
       "    }).then(function(next) {\n",
       "      if (next.done) return;\n",
       "      promise.then(recompute);\n",
       "      return next.value;\n",
       "    });\n",
       "  }\n",
       "\n",
       "  function variable_postrecompute(variable, value, promise) {\n",
       "    var runtime = variable._module._runtime;\n",
       "    variable._value = value;\n",
       "    variable._promise = promise;\n",
       "    variable._outputs.forEach(runtime._updates.add, runtime._updates); // TODO Cleaner?\n",
       "    return runtime._compute();\n",
       "  }\n",
       "\n",
       "  function variable_error(variable, error) {\n",
       "    variable._invalidate();\n",
       "    variable._invalidate = noop;\n",
       "    variable._pending();\n",
       "    ++variable._version;\n",
       "    variable._indegree = NaN;\n",
       "    (variable._promise = Promise.reject(error)).catch(noop);\n",
       "    variable._value = undefined;\n",
       "    variable._rejected(error);\n",
       "  }\n",
       "\n",
       "  function variable_return(generator) {\n",
       "    return function() {\n",
       "      generator.return();\n",
       "    };\n",
       "  }\n",
       "\n",
       "  function variable_reachable(variable) {\n",
       "    if (variable._observer !== no_observer) return true; // Directly reachable.\n",
       "    var outputs = new Set(variable._outputs);\n",
       "    for (const output of outputs) {\n",
       "      if (output._observer !== no_observer) return true;\n",
       "      output._outputs.forEach(outputs.add, outputs);\n",
       "    }\n",
       "    return false;\n",
       "  }\n",
       "\n",
       "  function window_global(name) {\n",
       "    return window[name];\n",
       "  }\n",
       "\n",
       "  const MONITOR_INTERVAL = 200;\n",
       "\n",
       "  class DocumentBodyDimensionsMutationObserverMonitor {\n",
       "    constructor() {\n",
       "      this.lastHeight = -1;\n",
       "\n",
       "      this.onMutation = entries => {\n",
       "        const height = document.body.clientHeight;\n",
       "        if (height !== this.lastHeight) {\n",
       "          this.lastHeight = height;\n",
       "          postHeight(this.lastHeight);\n",
       "        }\n",
       "      };\n",
       "    }\n",
       "\n",
       "    start() {\n",
       "      this.observer = new MutationObserver(this.onMutation);\n",
       "      this.observer.observe(document.body, {\n",
       "        childList: true,\n",
       "        attributes: true,\n",
       "        subtree: true\n",
       "      });\n",
       "    }\n",
       "  }\n",
       "\n",
       "  class DocumentBodyDimensionsResizeObserverMonitor {\n",
       "    constructor() {\n",
       "      if (typeof window.ResizeObserver === \"undefined\") {\n",
       "        throw Error(\"ResizeObserver is not supported\");\n",
       "      }\n",
       "      this.lastHeight = -1;\n",
       "\n",
       "      this.onResize = entries => {\n",
       "        for (let entry of entries) {\n",
       "          const height = entry.contentRect.height;\n",
       "          if (height !== this.lastHeight) {\n",
       "            this.lastHeight = height;\n",
       "            postHeight(this.lastHeight);\n",
       "          }\n",
       "        }\n",
       "      };\n",
       "    }\n",
       "\n",
       "    start() {\n",
       "      this.observer = new ResizeObserver(this.onResize);\n",
       "      this.observer.observe(document.body);\n",
       "    }\n",
       "  }\n",
       "\n",
       "  class DocumentBodyDimensionsPollingMonitor {\n",
       "    constructor() {\n",
       "      this.lastHeight = -1;\n",
       "      this.timer = undefined;\n",
       "\n",
       "      this.checkAndSchedule = () => {\n",
       "        if (!this.monitoring) return;\n",
       "        this.check();\n",
       "        this.monitoring = setTimeout(this.checkAndSchedule, MONITOR_INTERVAL);\n",
       "      };\n",
       "\n",
       "      this.onMessage = event => {\n",
       "        if (window.parent !== event.source) {\n",
       "          return;\n",
       "        }\n",
       "        if (msg.data.type === \"cleanup\") {\n",
       "          this.cleanup();\n",
       "        }\n",
       "      };\n",
       "    }\n",
       "\n",
       "    start() {\n",
       "      if (!this.monitoring) {\n",
       "        this.monitoring = true;\n",
       "        this.checkAndSchedule();\n",
       "      }\n",
       "    }\n",
       "\n",
       "    stop() {\n",
       "      if (this.monitoring) {\n",
       "        clearTimeout(this.monitoring);\n",
       "      }\n",
       "      this.monitoring = undefined;\n",
       "    }\n",
       "\n",
       "    check() {\n",
       "      const height = document.body.clientHeight;\n",
       "      if (height !== this.lastHeight) {\n",
       "        this.lastHeight = height;\n",
       "        postHeight(this.lastHeight);\n",
       "      }\n",
       "    }\n",
       "\n",
       "    /* Never used in the normal iframe embedding since everything stops\n",
       "     * when the iframe gets unmounted */\n",
       "    cleanup() {\n",
       "      this.stop();\n",
       "      this.main.dispose();\n",
       "    }\n",
       "  }\n",
       "\n",
       "  function postHeight(height) {\n",
       "    window.parent.postMessage(\n",
       "      {\n",
       "        type: \"iframeSize\",\n",
       "        height\n",
       "      },\n",
       "      \"*\"\n",
       "    );\n",
       "  }\n",
       "\n",
       "  const monitor = () => {\n",
       "    if (typeof window.ResizeObserver !== \"undefined\") {\n",
       "      new DocumentBodyDimensionsResizeObserverMonitor().start();\n",
       "    } else {\n",
       "      new DocumentBodyDimensionsMutationObserverMonitor().start();\n",
       "    }\n",
       "  };\n",
       "\n",
       "  const embed = async (slug, into, cells, inputs = {}) => {\n",
       "    const moduleUrl = \"https://api.observablehq.com/\" + slug + \".js?v=3\";\n",
       "    const define = (await import(moduleUrl)).default;\n",
       "    const inspect = Inspector.into(into);\n",
       "    const filter = cells ? name => cells.includes(name) : name => true;\n",
       "    const main = new Runtime().module(define, name => filter(name) && inspect());\n",
       "    for (let name of Object.keys(inputs)) {\n",
       "      main.redefine(name, inputs[name]);\n",
       "    }\n",
       "    return main;\n",
       "  };\n",
       "\n",
       "  exports.DocumentBodyDimensionsMutationObserverMonitor = DocumentBodyDimensionsMutationObserverMonitor;\n",
       "  exports.DocumentBodyDimensionsPollingMonitor = DocumentBodyDimensionsPollingMonitor;\n",
       "  exports.DocumentBodyDimensionsResizeObserverMonitor = DocumentBodyDimensionsResizeObserverMonitor;\n",
       "  exports.embed = embed;\n",
       "  exports.monitor = monitor;\n",
       "\n",
       "  return exports;\n",
       "\n",
       "}({}));\n",
       "\n",
       "CLOSESCRIPT\n",
       "<div style=\"overflow: auto;\"></div>\n",
       "<script type=\"module\">\n",
       "const inputs = {\"json\": {\"X2K\": {\"nodes\": [{\"name\": \"HMGA2\", \"type\": \"tf\", \"pvalue\": -1}, {\"name\": \"ATF3\", \"type\": \"tf\", \"pvalue\": -1}, {\"name\": \"GTF2B\", \"type\": \"tf\", \"pvalue\": -1}, {\"name\": \"MYBL2\", \"type\": \"tf\", \"pvalue\": -1}, {\"name\": \"BATF3\", \"type\": \"tf\", \"pvalue\": -1}, {\"name\": \"ZNF367\", \"type\": \"tf\", \"pvalue\": -1}, {\"name\": \"E2F1\", \"type\": \"tf\", \"pvalue\": -1}, {\"name\": \"E2F7\", \"type\": \"tf\", \"pvalue\": -1}, {\"name\": \"FOXM1\", \"type\": \"tf\", \"pvalue\": -1}, {\"name\": \"RLF\", \"type\": \"tf\", \"pvalue\": -1}, {\"name\": \"ATR\", \"type\": \"kinase\", \"pvalue\": -1}, {\"name\": \"CDK1\", \"type\": \"kinase\", \"pvalue\": -1}, {\"name\": \"VRK1\", \"type\": \"kinase\", \"pvalue\": -1}, {\"name\": \"MAPK14\", \"type\": \"kinase\", \"pvalue\": -1}, {\"name\": \"MAPK10\", \"type\": \"kinase\", \"pvalue\": -1}, {\"name\": \"CHUK\", \"type\": \"kinase\", \"pvalue\": -1}, {\"name\": \"MAPK1\", \"type\": \"kinase\", \"pvalue\": -1}, {\"name\": \"PRKDC\", \"type\": \"kinase\", \"pvalue\": -1}, {\"name\": \"MAPK8\", \"type\": \"kinase\", \"pvalue\": -1}, {\"name\": \"MAPK9\", \"type\": \"kinase\", \"pvalue\": -1}, {\"name\": \"SP1\", \"type\": \"other\", \"pvalue\": -1}, {\"name\": \"MYBL2\", \"type\": \"other\", \"pvalue\": -1}, {\"name\": \"SMARCA5\", \"type\": \"other\", \"pvalue\": -1}, {\"name\": \"GSK3B\", \"type\": \"other\", \"pvalue\": -1}, {\"name\": \"EZH2\", \"type\": \"other\", \"pvalue\": -1}, {\"name\": \"CCNF\", \"type\": \"other\", \"pvalue\": -1}, {\"name\": \"CREBBP\", \"type\": \"other\", \"pvalue\": -1}, {\"name\": \"HDAC1\", \"type\": \"other\", \"pvalue\": -1}, {\"name\": \"RBBP4\", \"type\": \"other\", \"pvalue\": -1}, {\"name\": \"FHL2\", \"type\": \"other\", \"pvalue\": -1}, {\"name\": \"NFKB1\", \"type\": \"other\", \"pvalue\": -1}, {\"name\": \"TBP\", \"type\": \"other\", \"pvalue\": -1}, {\"name\": \"KAT5\", \"type\": \"other\", \"pvalue\": -1}, {\"name\": \"CEBPE\", \"type\": \"other\", \"pvalue\": -1}, {\"name\": \"TP53\", \"type\": \"other\", \"pvalue\": -1}, {\"name\": \"MTA1\", \"type\": \"other\", \"pvalue\": -1}, {\"name\": \"JUN\", \"type\": \"other\", \"pvalue\": -1}, {\"name\": \"ATF3\", \"type\": \"other\", \"pvalue\": -1}, {\"name\": \"JUNB\", \"type\": \"other\", \"pvalue\": -1}, {\"name\": \"ATF2\", \"type\": \"other\", \"pvalue\": -1}, {\"name\": \"CEBPA\", \"type\": \"other\", \"pvalue\": -1}, {\"name\": \"CEBPG\", \"type\": \"other\", \"pvalue\": -1}, {\"name\": \"ATF7\", \"type\": \"other\", \"pvalue\": -1}, {\"name\": \"JUND\", \"type\": \"other\", \"pvalue\": -1}, {\"name\": \"FOSL1\", \"type\": \"other\", \"pvalue\": -1}, {\"name\": \"SRA1\", \"type\": \"other\", \"pvalue\": -1}, {\"name\": \"RELA\", \"type\": \"other\", \"pvalue\": -1}], \"interactions\": [{\"source\": 8, \"target\": 20}, {\"source\": 8, \"target\": 21}, {\"source\": 8, \"target\": 22}, {\"source\": 8, \"target\": 23}, {\"source\": 8, \"target\": 24}, {\"source\": 7, \"target\": 25}, {\"source\": 6, \"target\": 26}, {\"source\": 6, \"target\": 21}, {\"source\": 6, \"target\": 27}, {\"source\": 6, \"target\": 28}, {\"source\": 6, \"target\": 20}, {\"source\": 6, \"target\": 29}, {\"source\": 6, \"target\": 30}, {\"source\": 6, \"target\": 23}, {\"source\": 6, \"target\": 31}, {\"source\": 6, \"target\": 32}, {\"source\": 6, \"target\": 33}, {\"source\": 6, \"target\": 34}, {\"source\": 6, \"target\": 35}, {\"source\": 6, \"target\": 25}, {\"source\": 4, \"target\": 36}, {\"source\": 4, \"target\": 37}, {\"source\": 4, \"target\": 38}, {\"source\": 4, \"target\": 39}, {\"source\": 4, \"target\": 33}, {\"source\": 4, \"target\": 40}, {\"source\": 4, \"target\": 41}, {\"source\": 4, \"target\": 42}, {\"source\": 4, \"target\": 43}, {\"source\": 4, \"target\": 44}, {\"source\": 3, \"target\": 26}, {\"source\": 3, \"target\": 21}, {\"source\": 3, \"target\": 28}, {\"source\": 3, \"target\": 25}, {\"source\": 3, \"target\": 35}, {\"source\": 3, \"target\": 24}, {\"source\": 3, \"target\": 22}, {\"source\": 2, \"target\": 31}, {\"source\": 2, \"target\": 45}, {\"source\": 1, \"target\": 36}, {\"source\": 1, \"target\": 34}, {\"source\": 1, \"target\": 43}, {\"source\": 1, \"target\": 39}, {\"source\": 1, \"target\": 46}, {\"source\": 1, \"target\": 33}, {\"source\": 1, \"target\": 27}, {\"source\": 1, \"target\": 26}, {\"source\": 1, \"target\": 37}, {\"source\": 1, \"target\": 29}, {\"source\": 1, \"target\": 45}, {\"source\": 1, \"target\": 44}, {\"source\": 1, \"target\": 38}, {\"source\": 1, \"target\": 40}, {\"source\": 1, \"target\": 41}, {\"source\": 1, \"target\": 32}, {\"source\": 1, \"target\": 42}, {\"source\": 0, \"target\": 46}, {\"source\": 0, \"target\": 30}, {\"source\": 0, \"target\": 34}, {\"source\": 23, \"target\": 10}, {\"source\": 23, \"target\": 11}, {\"source\": 23, \"target\": 12}, {\"source\": 23, \"target\": 13}, {\"source\": 23, \"target\": 14}, {\"source\": 23, \"target\": 15}, {\"source\": 23, \"target\": 16}, {\"source\": 23, \"target\": 17}, {\"source\": 23, \"target\": 18}, {\"source\": 23, \"target\": 19}, {\"source\": 39, \"target\": 10}, {\"source\": 39, \"target\": 11}, {\"source\": 39, \"target\": 12}, {\"source\": 39, \"target\": 13}, {\"source\": 39, \"target\": 14}, {\"source\": 39, \"target\": 15}, {\"source\": 39, \"target\": 16}, {\"source\": 39, \"target\": 17}, {\"source\": 39, \"target\": 18}, {\"source\": 39, \"target\": 19}, {\"source\": 40, \"target\": 10}, {\"source\": 40, \"target\": 11}, {\"source\": 40, \"target\": 12}, {\"source\": 40, \"target\": 13}, {\"source\": 40, \"target\": 14}, {\"source\": 40, \"target\": 15}, {\"source\": 40, \"target\": 16}, {\"source\": 40, \"target\": 17}, {\"source\": 40, \"target\": 18}, {\"source\": 40, \"target\": 19}, {\"source\": 27, \"target\": 10}, {\"source\": 27, \"target\": 11}, {\"source\": 27, \"target\": 12}, {\"source\": 27, \"target\": 13}, {\"source\": 27, \"target\": 14}, {\"source\": 27, \"target\": 15}, {\"source\": 27, \"target\": 16}, {\"source\": 27, \"target\": 17}, {\"source\": 27, \"target\": 18}, {\"source\": 27, \"target\": 19}, {\"source\": 33, \"target\": 10}, {\"source\": 33, \"target\": 11}, {\"source\": 33, \"target\": 12}, {\"source\": 33, \"target\": 13}, {\"source\": 33, \"target\": 16}, {\"source\": 33, \"target\": 17}, {\"source\": 33, \"target\": 18}, {\"source\": 33, \"target\": 19}, {\"source\": 41, \"target\": 10}, {\"source\": 41, \"target\": 11}, {\"source\": 41, \"target\": 12}, {\"source\": 41, \"target\": 13}, {\"source\": 41, \"target\": 14}, {\"source\": 41, \"target\": 15}, {\"source\": 41, \"target\": 16}, {\"source\": 41, \"target\": 17}, {\"source\": 41, \"target\": 18}, {\"source\": 41, \"target\": 19}, {\"source\": 25, \"target\": 10}, {\"source\": 25, \"target\": 11}, {\"source\": 25, \"target\": 12}, {\"source\": 25, \"target\": 13}, {\"source\": 25, \"target\": 16}, {\"source\": 25, \"target\": 17}, {\"source\": 25, \"target\": 19}, {\"source\": 46, \"target\": 10}, {\"source\": 46, \"target\": 11}, {\"source\": 46, \"target\": 12}, {\"source\": 46, \"target\": 13}, {\"source\": 46, \"target\": 14}, {\"source\": 46, \"target\": 15}, {\"source\": 46, \"target\": 16}, {\"source\": 46, \"target\": 17}, {\"source\": 46, \"target\": 18}, {\"source\": 46, \"target\": 19}, {\"source\": 35, \"target\": 10}, {\"source\": 35, \"target\": 11}, {\"source\": 35, \"target\": 13}, {\"source\": 35, \"target\": 14}, {\"source\": 35, \"target\": 15}, {\"source\": 35, \"target\": 16}, {\"source\": 35, \"target\": 18}, {\"source\": 35, \"target\": 19}, {\"source\": 28, \"target\": 10}, {\"source\": 28, \"target\": 11}, {\"source\": 28, \"target\": 12}, {\"source\": 28, \"target\": 16}, {\"source\": 28, \"target\": 17}, {\"source\": 28, \"target\": 18}, {\"source\": 28, \"target\": 19}, {\"source\": 32, \"target\": 10}, {\"source\": 32, \"target\": 11}, {\"source\": 32, \"target\": 13}, {\"source\": 32, \"target\": 15}, {\"source\": 32, \"target\": 16}, {\"source\": 32, \"target\": 17}, {\"source\": 32, \"target\": 18}, {\"source\": 32, \"target\": 19}, {\"source\": 21, \"target\": 10}, {\"source\": 21, \"target\": 11}, {\"source\": 21, \"target\": 12}, {\"source\": 21, \"target\": 14}, {\"source\": 21, \"target\": 15}, {\"source\": 21, \"target\": 16}, {\"source\": 21, \"target\": 17}, {\"source\": 21, \"target\": 18}, {\"source\": 38, \"target\": 10}, {\"source\": 38, \"target\": 11}, {\"source\": 38, \"target\": 12}, {\"source\": 38, \"target\": 13}, {\"source\": 38, \"target\": 14}, {\"source\": 38, \"target\": 15}, {\"source\": 38, \"target\": 16}, {\"source\": 38, \"target\": 17}, {\"source\": 38, \"target\": 18}, {\"source\": 38, \"target\": 19}, {\"source\": 36, \"target\": 10}, {\"source\": 36, \"target\": 11}, {\"source\": 36, \"target\": 12}, {\"source\": 36, \"target\": 13}, {\"source\": 36, \"target\": 14}, {\"source\": 36, \"target\": 15}, {\"source\": 36, \"target\": 16}, {\"source\": 36, \"target\": 17}, {\"source\": 36, \"target\": 18}, {\"source\": 36, \"target\": 19}, {\"source\": 26, \"target\": 10}, {\"source\": 26, \"target\": 11}, {\"source\": 26, \"target\": 13}, {\"source\": 26, \"target\": 14}, {\"source\": 26, \"target\": 15}, {\"source\": 26, \"target\": 16}, {\"source\": 26, \"target\": 17}, {\"source\": 26, \"target\": 18}, {\"source\": 26, \"target\": 19}, {\"source\": 31, \"target\": 10}, {\"source\": 31, \"target\": 11}, {\"source\": 31, \"target\": 12}, {\"source\": 31, \"target\": 13}, {\"source\": 31, \"target\": 14}, {\"source\": 31, \"target\": 15}, {\"source\": 31, \"target\": 16}, {\"source\": 31, \"target\": 17}, {\"source\": 31, \"target\": 18}, {\"source\": 31, \"target\": 19}, {\"source\": 43, \"target\": 10}, {\"source\": 43, \"target\": 11}, {\"source\": 43, \"target\": 13}, {\"source\": 43, \"target\": 14}, {\"source\": 43, \"target\": 16}, {\"source\": 43, \"target\": 17}, {\"source\": 43, \"target\": 18}, {\"source\": 43, \"target\": 19}, {\"source\": 22, \"target\": 10}, {\"source\": 22, \"target\": 11}, {\"source\": 22, \"target\": 12}, {\"source\": 22, \"target\": 13}, {\"source\": 22, \"target\": 15}, {\"source\": 22, \"target\": 16}, {\"source\": 22, \"target\": 17}, {\"source\": 22, \"target\": 18}, {\"source\": 22, \"target\": 19}, {\"source\": 30, \"target\": 10}, {\"source\": 30, \"target\": 11}, {\"source\": 30, \"target\": 13}, {\"source\": 30, \"target\": 14}, {\"source\": 30, \"target\": 15}, {\"source\": 30, \"target\": 16}, {\"source\": 30, \"target\": 17}, {\"source\": 30, \"target\": 18}, {\"source\": 30, \"target\": 19}, {\"source\": 44, \"target\": 10}, {\"source\": 44, \"target\": 11}, {\"source\": 44, \"target\": 12}, {\"source\": 44, \"target\": 13}, {\"source\": 44, \"target\": 14}, {\"source\": 44, \"target\": 15}, {\"source\": 44, \"target\": 16}, {\"source\": 44, \"target\": 17}, {\"source\": 44, \"target\": 18}, {\"source\": 44, \"target\": 19}, {\"source\": 20, \"target\": 10}, {\"source\": 20, \"target\": 11}, {\"source\": 20, \"target\": 12}, {\"source\": 20, \"target\": 13}, {\"source\": 20, \"target\": 14}, {\"source\": 20, \"target\": 15}, {\"source\": 20, \"target\": 16}, {\"source\": 20, \"target\": 17}, {\"source\": 20, \"target\": 18}, {\"source\": 20, \"target\": 19}, {\"source\": 34, \"target\": 10}, {\"source\": 34, \"target\": 11}, {\"source\": 34, \"target\": 12}, {\"source\": 34, \"target\": 13}, {\"source\": 34, \"target\": 14}, {\"source\": 34, \"target\": 15}, {\"source\": 34, \"target\": 16}, {\"source\": 34, \"target\": 17}, {\"source\": 34, \"target\": 18}, {\"source\": 34, \"target\": 19}, {\"source\": 37, \"target\": 10}, {\"source\": 37, \"target\": 11}, {\"source\": 37, \"target\": 12}, {\"source\": 37, \"target\": 13}, {\"source\": 37, \"target\": 14}, {\"source\": 37, \"target\": 15}, {\"source\": 37, \"target\": 16}, {\"source\": 37, \"target\": 17}, {\"source\": 37, \"target\": 18}, {\"source\": 37, \"target\": 19}, {\"source\": 24, \"target\": 10}, {\"source\": 24, \"target\": 11}, {\"source\": 24, \"target\": 12}, {\"source\": 24, \"target\": 13}, {\"source\": 24, \"target\": 14}, {\"source\": 24, \"target\": 15}, {\"source\": 24, \"target\": 16}, {\"source\": 24, \"target\": 17}, {\"source\": 24, \"target\": 18}, {\"source\": 24, \"target\": 19}, {\"source\": 29, \"target\": 11}, {\"source\": 29, \"target\": 13}, {\"source\": 29, \"target\": 14}, {\"source\": 29, \"target\": 15}, {\"source\": 29, \"target\": 16}, {\"source\": 29, \"target\": 18}, {\"source\": 29, \"target\": 19}, {\"source\": 42, \"target\": 13}, {\"source\": 42, \"target\": 14}, {\"source\": 42, \"target\": 16}, {\"source\": 42, \"target\": 18}, {\"source\": 42, \"target\": 19}, {\"source\": 45, \"target\": 17}]}, \"ChEA\": [], \"KEA\": [], \"G2N\": {}, \"input\": []}};\n",
       "const slug = '@maxim-k/x2k-network';\n",
       "const into = document.getElementsByTagName('div')[0];\n",
       "const cells = ['x2k']\n",
       "ObservableJupyterIframe.embed(slug, into, cells, inputs).then(m => {window.main = m;});\n",
       "ObservableJupyterIframe.monitor()\n",
       "window.addEventListener('unload', () => {\n",
       "  if (typeof window.main !== 'undefined') {\n",
       "      window.main._runtime.dispose();\n",
       "  }\n",
       "});\n",
       "CLOSESCRIPT\n",
       "`.replace(/OPENSCRIPT/gi, '<sc' + 'ript>').replace(/CLOSESCRIPT/gi, '</sc' + 'ript>')\n",
       "document.getElementById('observable-embed-div-4605031556164133').srcdoc = iframeSrc;\n",
       "ObservableJupyterWrapper.listenToSize(document.getElementById('observable-embed-div-4605031556164133'));\n",
       "</script>\n",
       "    "
      ],
      "text/plain": [
       "<IPython.core.display.HTML object>"
      ]
     },
     "metadata": {},
     "output_type": "display_data"
    }
   ],
   "source": [
    "display(HTML(\"<style>.observable-link ~ iframe { height: 1500px !important; }</style>\"))\n",
    "embed('@maxim-k/x2k-network', cells=['x2k'], inputs={'json': full_x2k_visualizer_input})"
   ]
  }
 ],
 "metadata": {
  "kernelspec": {
   "display_name": "Python 3",
   "language": "python",
   "name": "python3"
  },
  "language_info": {
   "codemirror_mode": {
    "name": "ipython",
    "version": 3
   },
   "file_extension": ".py",
   "mimetype": "text/x-python",
   "name": "python",
   "nbconvert_exporter": "python",
   "pygments_lexer": "ipython3",
   "version": "3.8.8"
  }
 },
 "nbformat": 4,
 "nbformat_minor": 5
}
