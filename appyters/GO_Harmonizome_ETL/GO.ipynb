{
    "cells": [
        {
            "cell_type": "markdown",
            "metadata": {},
            "source": [
                "# Gene Ontology (GO)"
            ]
        },
        {
            "cell_type": "markdown",
            "metadata": {},
            "source": [
                "Created by: Charles Dai <br>\n",
                "Credit to: Moshe Silverstein\n",
                "\n",
                "Data Source: http://geneontology.org/docs/downloads/"
            ]
        },
        {
            "cell_type": "code",
            "execution_count": 1,
            "metadata": {},
            "outputs": [],
            "source": [
                "# appyter init\n",
                "from appyter import magic\n",
                "magic.init(lambda _=globals: _())"
            ]
        },
        {
            "cell_type": "code",
            "execution_count": 2,
            "metadata": {},
            "outputs": [],
            "source": [
                "import sys\n",
                "import os\n",
                "from datetime import date\n",
                "\n",
                "import numpy as np\n",
                "import pandas as pd\n",
                "import itertools\n",
                "import xml.etree.ElementTree as ET\n",
                "import matplotlib.pyplot as plt\n",
                "%matplotlib inline\n",
                "\n",
                "import harmonizome.utility_functions as uf\n",
                "import harmonizome.lookup as lookup"
            ]
        },
        {
            "cell_type": "code",
            "execution_count": 3,
            "metadata": {},
            "outputs": [],
            "source": [
                "# from clustergrammer_widget import *\n",
                "# net = Network(clustergrammer_widget)"
            ]
        },
        {
            "cell_type": "code",
            "execution_count": 4,
            "metadata": {},
            "outputs": [],
            "source": [
                "%load_ext autoreload\n",
                "%autoreload 2"
            ]
        },
        {
            "cell_type": "markdown",
            "metadata": {},
            "source": [
                "### Notebook Information"
            ]
        },
        {
            "cell_type": "code",
            "execution_count": 5,
            "metadata": {
                "tags": []
            },
            "outputs": [
                {
                    "output_type": "stream",
                    "name": "stdout",
                    "text": "This notebook was run on: 2020-06-28 \nPython version: 3.8.0 (default, Oct 28 2019, 16:14:01) \n[GCC 8.3.0]\n"
                }
            ],
            "source": [
                "print('This notebook was run on:', date.today(), '\\nPython version:', sys.version)"
            ]
        },
        {
            "cell_type": "markdown",
            "metadata": {},
            "source": [
                "# Initialization"
            ]
        },
        {
            "cell_type": "code",
            "execution_count": 32,
            "metadata": {},
            "outputs": [],
            "source": [
                "%%appyter code_eval\n",
                "\n",
                "{% set attribute = ChoiceField(\n",
                "    name='attribute',\n",
                "    label='Attribute',\n",
                "    choices={\n",
                "        'Biological Process': \"'Process'\",\n",
                "        'Cellular Component': \"'Component'\",\n",
                "        'Molecular Function': \"'Function'\"\n",
                "    },\n",
                "    default='Cellular Component',\n",
                "    section='data'\n",
                ") %}"
            ]
        },
        {
            "cell_type": "markdown",
            "metadata": {},
            "source": [
                "### Load Mapping Dictionaries"
            ]
        },
        {
            "cell_type": "code",
            "execution_count": 7,
            "metadata": {
                "tags": []
            },
            "outputs": [
                {
                    "output_type": "stream",
                    "name": "stderr",
                    "text": "Gathering sources: 100%|██████████| 3/3 [00:10<00:00,  3.50s/it]\n"
                }
            ],
            "source": [
                "symbol_lookup, geneid_lookup = lookup.get_lookups()"
            ]
        },
        {
            "cell_type": "markdown",
            "metadata": {},
            "source": [
                "### Output Path"
            ]
        },
        {
            "cell_type": "code",
            "execution_count": 33,
            "metadata": {},
            "outputs": [
                {
                    "output_type": "display_data",
                    "data": {
                        "text/plain": "<IPython.core.display.Markdown object>",
                        "text/markdown": "```python\noutput_name = 'go_' + 'Component'.lower()\npath = 'Output/GO-' + 'Component'\nif not os.path.exists(path):\n    os.makedirs(path)\n```"
                    },
                    "metadata": {}
                }
            ],
            "source": [
                "%%appyter code_exec\n",
                "\n",
                "output_name = 'go_' + {{attribute}}.lower()\n",
                "\n",
                "path = 'Output/GO-' + {{attribute}}\n",
                "if not os.path.exists(path):\n",
                "    os.makedirs(path)"
            ]
        },
        {
            "cell_type": "code",
            "execution_count": 34,
            "metadata": {},
            "outputs": [],
            "source": [
                "%%appyter hide_code\n",
                "{% do SectionField(\n",
                "    name='data',\n",
                "    title='Load Data',\n",
                "    subtitle='Upload Files from the Gene Ontology Resource'\n",
                ") %}"
            ]
        },
        {
            "cell_type": "markdown",
            "metadata": {},
            "source": [
                "# Load Data"
            ]
        },
        {
            "cell_type": "code",
            "execution_count": 49,
            "metadata": {},
            "outputs": [
                {
                    "output_type": "display_data",
                    "data": {
                        "text/plain": "<IPython.core.display.Markdown object>",
                        "text/markdown": "```python\ndf = pd.read_csv('Input/GO/goa_human.gaf', skiprows=31, header=None, usecols=[2, 3, 4, 6, 8], sep='\\t',\n    names=['DB Object Symbol', 'Qualifier', 'GO ID', 'Evidence Code', 'Aspect'])\n```"
                    },
                    "metadata": {}
                }
            ],
            "source": [
                "%%appyter code_exec\n",
                "\n",
                "df = pd.read_csv({{FileField(\n",
                "    constraint='.*\\.gaf$',\n",
                "    name='gaf', \n",
                "    label='Gene Assocation File (gaf)', \n",
                "    default='Input/GO/goa_human.gaf',\n",
                "    section='data')\n",
                "}}, skiprows=31, header=None, usecols=[2, 3, 4, 6, 8], sep='\\t',\n",
                "    names=['DB Object Symbol', 'Qualifier', 'GO ID', 'Evidence Code', 'Aspect'])"
            ]
        },
        {
            "cell_type": "code",
            "execution_count": 50,
            "metadata": {},
            "outputs": [
                {
                    "output_type": "execute_result",
                    "data": {
                        "text/plain": "  DB Object Symbol Qualifier       GO ID Evidence Code Aspect\n0           NUDT4B       NaN  GO:0003723           IEA      F\n1           NUDT4B       NaN  GO:0005829           IDA      C\n2           NUDT4B       NaN  GO:0008486           IEA      F\n3           NUDT4B       NaN  GO:0046872           IEA      F\n4           NUDT4B       NaN  GO:0052840           IEA      F",
                        "text/html": "<div>\n<style scoped>\n    .dataframe tbody tr th:only-of-type {\n        vertical-align: middle;\n    }\n\n    .dataframe tbody tr th {\n        vertical-align: top;\n    }\n\n    .dataframe thead th {\n        text-align: right;\n    }\n</style>\n<table border=\"1\" class=\"dataframe\">\n  <thead>\n    <tr style=\"text-align: right;\">\n      <th></th>\n      <th>DB Object Symbol</th>\n      <th>Qualifier</th>\n      <th>GO ID</th>\n      <th>Evidence Code</th>\n      <th>Aspect</th>\n    </tr>\n  </thead>\n  <tbody>\n    <tr>\n      <th>0</th>\n      <td>NUDT4B</td>\n      <td>NaN</td>\n      <td>GO:0003723</td>\n      <td>IEA</td>\n      <td>F</td>\n    </tr>\n    <tr>\n      <th>1</th>\n      <td>NUDT4B</td>\n      <td>NaN</td>\n      <td>GO:0005829</td>\n      <td>IDA</td>\n      <td>C</td>\n    </tr>\n    <tr>\n      <th>2</th>\n      <td>NUDT4B</td>\n      <td>NaN</td>\n      <td>GO:0008486</td>\n      <td>IEA</td>\n      <td>F</td>\n    </tr>\n    <tr>\n      <th>3</th>\n      <td>NUDT4B</td>\n      <td>NaN</td>\n      <td>GO:0046872</td>\n      <td>IEA</td>\n      <td>F</td>\n    </tr>\n    <tr>\n      <th>4</th>\n      <td>NUDT4B</td>\n      <td>NaN</td>\n      <td>GO:0052840</td>\n      <td>IEA</td>\n      <td>F</td>\n    </tr>\n  </tbody>\n</table>\n</div>"
                    },
                    "metadata": {},
                    "execution_count": 50
                }
            ],
            "source": [
                "df.head()"
            ]
        },
        {
            "cell_type": "code",
            "execution_count": 51,
            "metadata": {},
            "outputs": [
                {
                    "output_type": "execute_result",
                    "data": {
                        "text/plain": "(502842, 5)"
                    },
                    "metadata": {},
                    "execution_count": 51
                }
            ],
            "source": [
                "df.shape"
            ]
        },
        {
            "cell_type": "markdown",
            "metadata": {},
            "source": [
                "## Load Ontology"
            ]
        },
        {
            "cell_type": "code",
            "execution_count": 52,
            "metadata": {},
            "outputs": [
                {
                    "output_type": "display_data",
                    "data": {
                        "text/plain": "<IPython.core.display.Markdown object>",
                        "text/markdown": "```python\ntree = ET.parse('Input/GO/go.owl')\nroot = tree.getroot()\n```"
                    },
                    "metadata": {}
                }
            ],
            "source": [
                "%%appyter code_exec\n",
                "\n",
                "tree = ET.parse({{FileField(\n",
                "    constraint='.*\\.owl$',\n",
                "    name='ontology', \n",
                "    label='Ontology (owl)', \n",
                "    default='Input/GO/go.owl',\n",
                "    section='data')\n",
                "}})\n",
                "root = tree.getroot()"
            ]
        },
        {
            "cell_type": "markdown",
            "metadata": {},
            "source": [
                "# Pre-process Data"
            ]
        },
        {
            "cell_type": "markdown",
            "metadata": {},
            "source": [
                "## Get Relevant Data"
            ]
        },
        {
            "cell_type": "code",
            "execution_count": 53,
            "metadata": {},
            "outputs": [
                {
                    "output_type": "display_data",
                    "data": {
                        "text/plain": "<IPython.core.display.Markdown object>",
                        "text/markdown": "```python\n# Get only desired attribute:\n# P for Biological Process, C for Cellular Component, F for Molecular Function\ndf = df[df['Aspect'] == 'Component'[0]]\n# Drop data inferred from electronic annotation\ndf = df[df['Evidence Code'] != 'IEA']\n# Drop NOT in qualifier\ndf = df[df['Qualifier'] != 'NOT']\n```"
                    },
                    "metadata": {}
                }
            ],
            "source": [
                "%%appyter code_exec\n",
                "\n",
                "# Get only desired attribute:\n",
                "# P for Biological Process, C for Cellular Component, F for Molecular Function\n",
                "df = df[df['Aspect'] == {{attribute}}[0]]\n",
                "# Drop data inferred from electronic annotation\n",
                "df = df[df['Evidence Code'] != 'IEA']\n",
                "# Drop NOT in qualifier\n",
                "df = df[df['Qualifier'] != 'NOT']"
            ]
        },
        {
            "cell_type": "code",
            "execution_count": 54,
            "metadata": {},
            "outputs": [
                {
                    "output_type": "execute_result",
                    "data": {
                        "text/plain": "(146472, 5)"
                    },
                    "metadata": {},
                    "execution_count": 54
                }
            ],
            "source": [
                "df.shape"
            ]
        },
        {
            "cell_type": "code",
            "execution_count": 55,
            "metadata": {},
            "outputs": [
                {
                    "output_type": "execute_result",
                    "data": {
                        "text/plain": "   DB Object Symbol       GO ID\n1            NUDT4B  GO:0005829\n64           TRBV19  GO:0042105\n71         IGKV2-28  GO:0005576\n72         IGKV2-28  GO:0005576\n73         IGKV2-28  GO:0005576",
                        "text/html": "<div>\n<style scoped>\n    .dataframe tbody tr th:only-of-type {\n        vertical-align: middle;\n    }\n\n    .dataframe tbody tr th {\n        vertical-align: top;\n    }\n\n    .dataframe thead th {\n        text-align: right;\n    }\n</style>\n<table border=\"1\" class=\"dataframe\">\n  <thead>\n    <tr style=\"text-align: right;\">\n      <th></th>\n      <th>DB Object Symbol</th>\n      <th>GO ID</th>\n    </tr>\n  </thead>\n  <tbody>\n    <tr>\n      <th>1</th>\n      <td>NUDT4B</td>\n      <td>GO:0005829</td>\n    </tr>\n    <tr>\n      <th>64</th>\n      <td>TRBV19</td>\n      <td>GO:0042105</td>\n    </tr>\n    <tr>\n      <th>71</th>\n      <td>IGKV2-28</td>\n      <td>GO:0005576</td>\n    </tr>\n    <tr>\n      <th>72</th>\n      <td>IGKV2-28</td>\n      <td>GO:0005576</td>\n    </tr>\n    <tr>\n      <th>73</th>\n      <td>IGKV2-28</td>\n      <td>GO:0005576</td>\n    </tr>\n  </tbody>\n</table>\n</div>"
                    },
                    "metadata": {},
                    "execution_count": 55
                }
            ],
            "source": [
                "df = df[['DB Object Symbol', 'GO ID']]\n",
                "df.head()"
            ]
        },
        {
            "cell_type": "markdown",
            "metadata": {},
            "source": [
                "## Build GO Ontology Map"
            ]
        },
        {
            "cell_type": "code",
            "execution_count": 42,
            "metadata": {},
            "outputs": [],
            "source": [
                "ns = {\n",
                "    'owl': 'http://www.w3.org/2002/07/owl#',\n",
                "    'obo': 'http://www.geneontology.org/formats/oboInOwl#',\n",
                "    'rdfs': 'http://www.w3.org/2000/01/rdf-schema#'\n",
                "}"
            ]
        },
        {
            "cell_type": "code",
            "execution_count": 43,
            "metadata": {},
            "outputs": [
                {
                    "output_type": "execute_result",
                    "data": {
                        "text/plain": "                                                        Label\nGO ID                                                        \nGO:0000001                          mitochondrion inheritance\nGO:0000002                   mitochondrial genome maintenance\nGO:0000003                                       reproduction\nGO:0000005              obsolete ribosomal chaperone activity\nGO:0000006  high-affinity zinc transmembrane transporter a...",
                        "text/html": "<div>\n<style scoped>\n    .dataframe tbody tr th:only-of-type {\n        vertical-align: middle;\n    }\n\n    .dataframe tbody tr th {\n        vertical-align: top;\n    }\n\n    .dataframe thead th {\n        text-align: right;\n    }\n</style>\n<table border=\"1\" class=\"dataframe\">\n  <thead>\n    <tr style=\"text-align: right;\">\n      <th></th>\n      <th>Label</th>\n    </tr>\n    <tr>\n      <th>GO ID</th>\n      <th></th>\n    </tr>\n  </thead>\n  <tbody>\n    <tr>\n      <th>GO:0000001</th>\n      <td>mitochondrion inheritance</td>\n    </tr>\n    <tr>\n      <th>GO:0000002</th>\n      <td>mitochondrial genome maintenance</td>\n    </tr>\n    <tr>\n      <th>GO:0000003</th>\n      <td>reproduction</td>\n    </tr>\n    <tr>\n      <th>GO:0000005</th>\n      <td>obsolete ribosomal chaperone activity</td>\n    </tr>\n    <tr>\n      <th>GO:0000006</th>\n      <td>high-affinity zinc transmembrane transporter a...</td>\n    </tr>\n  </tbody>\n</table>\n</div>"
                    },
                    "metadata": {},
                    "execution_count": 43
                }
            ],
            "source": [
                "mapping = {'GO ID': [], 'Label': []}\n",
                "\n",
                "for child in root.findall('owl:Class', ns):\n",
                "    id = child.find('obo:id', ns)\n",
                "    label = child.find('rdfs:label', ns)\n",
                "    if id is not None and label is not None:\n",
                "        mapping['GO ID'].append(id.text)\n",
                "        mapping['Label'].append(label.text)\n",
                "\n",
                "onto_meta = pd.DataFrame(mapping).set_index('GO ID')\n",
                "onto_meta.head()"
            ]
        },
        {
            "cell_type": "markdown",
            "metadata": {},
            "source": [
                "## Map GO IDs"
            ]
        },
        {
            "cell_type": "code",
            "execution_count": 56,
            "metadata": {},
            "outputs": [
                {
                    "output_type": "execute_result",
                    "data": {
                        "text/plain": "                                        GO Term\nGene Symbol                                    \nNUDT4B       alpha-beta T cell receptor complex\nTRBV19                     extracellular region\nIGKV2-28                   extracellular region\nIGKV2-28                   extracellular region\nIGKV2-28                   extracellular region",
                        "text/html": "<div>\n<style scoped>\n    .dataframe tbody tr th:only-of-type {\n        vertical-align: middle;\n    }\n\n    .dataframe tbody tr th {\n        vertical-align: top;\n    }\n\n    .dataframe thead th {\n        text-align: right;\n    }\n</style>\n<table border=\"1\" class=\"dataframe\">\n  <thead>\n    <tr style=\"text-align: right;\">\n      <th></th>\n      <th>GO Term</th>\n    </tr>\n    <tr>\n      <th>Gene Symbol</th>\n      <th></th>\n    </tr>\n  </thead>\n  <tbody>\n    <tr>\n      <th>NUDT4B</th>\n      <td>alpha-beta T cell receptor complex</td>\n    </tr>\n    <tr>\n      <th>TRBV19</th>\n      <td>extracellular region</td>\n    </tr>\n    <tr>\n      <th>IGKV2-28</th>\n      <td>extracellular region</td>\n    </tr>\n    <tr>\n      <th>IGKV2-28</th>\n      <td>extracellular region</td>\n    </tr>\n    <tr>\n      <th>IGKV2-28</th>\n      <td>extracellular region</td>\n    </tr>\n  </tbody>\n</table>\n</div>"
                    },
                    "metadata": {},
                    "execution_count": 56
                }
            ],
            "source": [
                "df['GO ID'] = onto_meta['Label'].reindex(df['GO ID']).reset_index(drop=True)\n",
                "df = df.set_index('DB Object Symbol')\n",
                "df.index.name = 'Gene Symbol'\n",
                "df.columns = ['GO Term']\n",
                "df.head()"
            ]
        },
        {
            "cell_type": "markdown",
            "metadata": {},
            "source": [
                "# Filter Data"
            ]
        },
        {
            "cell_type": "markdown",
            "metadata": {},
            "source": [
                "## Map Gene Symbols to Up-to-date Approved Gene Symbols"
            ]
        },
        {
            "cell_type": "code",
            "execution_count": 57,
            "metadata": {
                "tags": []
            },
            "outputs": [
                {
                    "output_type": "stream",
                    "name": "stderr",
                    "text": "100%|██████████| 146472/146472 [00:00<00:00, 648199.68it/s]\n"
                },
                {
                    "output_type": "execute_result",
                    "data": {
                        "text/plain": "(36127, 1)"
                    },
                    "metadata": {},
                    "execution_count": 57
                }
            ],
            "source": [
                "df = uf.map_symbols(df, symbol_lookup, remove_duplicates=True)\n",
                "df.shape"
            ]
        },
        {
            "cell_type": "markdown",
            "metadata": {},
            "source": [
                "# Analyze Data"
            ]
        },
        {
            "cell_type": "markdown",
            "metadata": {},
            "source": [
                "## Create Binary Matrix"
            ]
        },
        {
            "cell_type": "code",
            "execution_count": null,
            "metadata": {},
            "outputs": [],
            "source": [
                "binary_matrix = uf.binary_matrix(df)\n",
                "binary_matrix.head()"
            ]
        },
        {
            "cell_type": "code",
            "execution_count": null,
            "metadata": {},
            "outputs": [],
            "source": [
                "binary_matrix.shape"
            ]
        },
        {
            "cell_type": "code",
            "execution_count": null,
            "metadata": {},
            "outputs": [],
            "source": [
                "uf.save_data(binary_matrix, path, output_name + '_binary_matrix', \n",
                "            compression='npz', dtype=np.uint8)"
            ]
        },
        {
            "cell_type": "markdown",
            "metadata": {},
            "source": [
                "## Create Gene List"
            ]
        },
        {
            "cell_type": "code",
            "execution_count": null,
            "metadata": {},
            "outputs": [],
            "source": [
                "gene_list = uf.gene_list(binary_matrix, geneid_lookup)\n",
                "gene_list.head()"
            ]
        },
        {
            "cell_type": "code",
            "execution_count": null,
            "metadata": {},
            "outputs": [],
            "source": [
                "gene_list.shape"
            ]
        },
        {
            "cell_type": "code",
            "execution_count": null,
            "metadata": {},
            "outputs": [],
            "source": [
                "uf.save_data(gene_list, path, output_name + '_gene_list',\n",
                "            ext='tsv', compression='gzip', index=False)"
            ]
        },
        {
            "cell_type": "markdown",
            "metadata": {},
            "source": [
                "## Create Attribute List"
            ]
        },
        {
            "cell_type": "code",
            "execution_count": null,
            "metadata": {},
            "outputs": [],
            "source": [
                "attribute_list = uf.attribute_list(binary_matrix)\n",
                "attribute_list.head()"
            ]
        },
        {
            "cell_type": "code",
            "execution_count": null,
            "metadata": {},
            "outputs": [],
            "source": [
                "attribute_list.shape"
            ]
        },
        {
            "cell_type": "code",
            "execution_count": null,
            "metadata": {},
            "outputs": [],
            "source": [
                "uf.save_data(attribute_list, path, output_name + '_attribute_list',\n",
                "            ext='tsv', compression='gzip')"
            ]
        },
        {
            "cell_type": "markdown",
            "metadata": {},
            "source": [
                "## Create Gene and Attribute Set Libraries"
            ]
        },
        {
            "cell_type": "code",
            "execution_count": null,
            "metadata": {},
            "outputs": [],
            "source": [
                "uf.save_setlib(binary_matrix, 'gene', 'up', path, output_name + '_gene_up_set')"
            ]
        },
        {
            "cell_type": "code",
            "execution_count": null,
            "metadata": {},
            "outputs": [],
            "source": [
                "uf.save_setlib(binary_matrix, 'attribute', 'up', path, \n",
                "                           output_name + '_attribute_up_set')"
            ]
        },
        {
            "cell_type": "markdown",
            "metadata": {},
            "source": [
                "## Create Attribute Similarity Matrix"
            ]
        },
        {
            "cell_type": "code",
            "execution_count": null,
            "metadata": {},
            "outputs": [],
            "source": [
                "attribute_similarity_matrix = uf.similarity_matrix(binary_matrix.T, 'jaccard', sparse=True)\n",
                "attribute_similarity_matrix.head()"
            ]
        },
        {
            "cell_type": "code",
            "execution_count": null,
            "metadata": {},
            "outputs": [],
            "source": [
                "uf.save_data(attribute_similarity_matrix, path,\n",
                "            output_name + '_attribute_similarity_matrix', \n",
                "            compression='npz', symmetric=True, dtype=np.float32)"
            ]
        },
        {
            "cell_type": "code",
            "execution_count": null,
            "metadata": {},
            "outputs": [],
            "source": [
                "# net.load_df(attribute_similarity_matrix.iloc[:,:].copy())\n",
                "# net.filter_N_top('row', rank_type='sum', N_top=300)\n",
                "# net.cluster()\n",
                "# net.widget()"
            ]
        },
        {
            "cell_type": "markdown",
            "metadata": {},
            "source": [
                "## Create Gene Similarity Matrix"
            ]
        },
        {
            "cell_type": "code",
            "execution_count": null,
            "metadata": {},
            "outputs": [],
            "source": [
                "gene_similarity_matrix = uf.similarity_matrix(binary_matrix, 'jaccard', sparse=True)\n",
                "gene_similarity_matrix.head()"
            ]
        },
        {
            "cell_type": "code",
            "execution_count": null,
            "metadata": {},
            "outputs": [],
            "source": [
                "uf.save_data(gene_similarity_matrix, path, \n",
                "            output_name + '_gene_similarity_matrix',\n",
                "            compression='npz', symmetric=True, dtype=np.float32)"
            ]
        },
        {
            "cell_type": "markdown",
            "metadata": {},
            "source": [
                "## Create Gene-Attribute Edge List"
            ]
        },
        {
            "cell_type": "code",
            "execution_count": null,
            "metadata": {},
            "outputs": [],
            "source": [
                "edge_list = uf.edge_list(binary_matrix)\n",
                "uf.save_data(edge_list, path, output_name + '_edge_list', \n",
                "        ext='tsv', compression='gzip')"
            ]
        },
        {
            "cell_type": "markdown",
            "metadata": {},
            "source": [
                "# Create Downloadable Save File"
            ]
        },
        {
            "cell_type": "code",
            "execution_count": null,
            "metadata": {},
            "outputs": [],
            "source": [
                "uf.archive(path)"
            ]
        },
        {
            "cell_type": "markdown",
            "metadata": {},
            "source": [
                "### Link to download output files: [click here](./output_archive.zip)"
            ]
        }
    ],
    "metadata": {
        "kernelspec": {
            "display_name": "Python 3.8.0 64-bit ('harmonizome': venv)",
            "name": "python38064bitharmonizomevenve1fd62c035f347dbaffce382c9034785"
        },
        "language_info": {
            "codemirror_mode": {
                "name": "ipython",
                "version": 3
            },
            "file_extension": ".py",
            "mimetype": "text/x-python",
            "name": "python",
            "nbconvert_exporter": "python",
            "pygments_lexer": "ipython3",
            "version": "3.8.0-final"
        },
        "orig_nbformat": 2
    },
    "nbformat": 4,
    "nbformat_minor": 2
}