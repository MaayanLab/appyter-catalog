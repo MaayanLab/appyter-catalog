{
 "cells": [
  {
   "cell_type": "code",
   "execution_count": null,
   "metadata": {},
   "outputs": [],
   "source": [
    "#%%appyter init\n",
    "from appyter import magic\n",
    "magic.init(lambda _=globals: _())"
   ]
  },
  {
   "cell_type": "markdown",
   "metadata": {},
   "source": [
    "# Enkefalos\n",
    "\n",
    "This appyter is for correlating your omics results to neural electrophysiological and morphological measures. The appyter will take in your genes of interest (GOI), as well as a FDR threshold for analyses. It will then conduct a series of analyses and display significant correlatory results."
   ]
  },
  {
   "cell_type": "markdown",
   "metadata": {},
   "source": [
    "Other parameters (such as species identifier) are set to default values in the cells below. You can download the notebook, change these parameters, and rerun it if you wish. Transcriptomic correlatory data was derived by the Allen Brain Institute, and all significance values for each correlation were tabulated and put into data files that Enkefalos uses. This study can be found [here.](https://journals.plos.org/ploscompbiol/article?id=10.1371/journal.pcbi.1007113)"
   ]
  },
  {
   "cell_type": "code",
   "execution_count": null,
   "metadata": {},
   "outputs": [],
   "source": [
    "# Imports\n",
    "import pandas as pd \n",
    "import numpy as np\n",
    "import json\n",
    "import requests\n",
    "import matplotlib.pyplot as plt\n",
    "import matplotlib.colors as colors\n",
    "import seaborn as sns\n",
    "import time\n",
    "from matplotlib.ticker import MaxNLocator\n",
    "from IPython.display import display, FileLink, HTML, Markdown\n",
    "import base64\n",
    "from tkinter import *\n",
    "from tkinter import scrolledtext\n",
    "import matplotlib.pyplot as plt\n",
    "import imageio as iio\n",
    "import matplotlib\n",
    "import math\n",
    "import statsmodels.formula.api as smf\n",
    "from statsmodels.stats.anova import anova_lm\n",
    "import requests\n",
    "from time import sleep\n",
    "import webbrowser\n",
    "import networkx as nx\n",
    "from matplotlib.pyplot import figure\n",
    "import itertools\n",
    "import uuid\n",
    "import urllib\n",
    "import re"
   ]
  },
  {
   "cell_type": "code",
   "execution_count": null,
   "metadata": {},
   "outputs": [],
   "source": [
    "%%appyter hide_code\n",
    "\n",
    "{% do SectionField(\n",
    "    name='section1', \n",
    "    title = '1. Submit Your Gene List', \n",
    "    img = \"608c5f65f4c35b0027d51be5.png\",\n",
    "    subtitle = 'Upload a text file containing your gene list or copy and paste your gene list into the text box below (One gene per row). There are some genes already in the input as an example, though this can be changed. Please do fill in this field, as if you do not you will get an ERROR.', \n",
    ") %}\n",
    "{% do SectionField(\n",
    "    name='section2', \n",
    "    title = '2. Choose FDR', \n",
    "    img = \"608c5f65f4c35b0027d51be5.png\",\n",
    "    subtitle = 'Select one FDR for analyses. We recommend choosing a FDR value <= 10% (our increments only allow you to choose values from 1%-10%). A default value has been provided, though it can be changed.', \n",
    ") %}\n",
    "\n",
    "{% do SectionField(\n",
    "    name='section3', \n",
    "    title = '3. Select method for modeling relationships with respect to cell class', \n",
    "    img = \"608c5f65f4c35b0027d51be5.png\",\n",
    "    subtitle = 'Select either class-driven model, non-class driven model, or interaction model for analysis. A default selection of non-class driven has been provided, though it can be changed.', \n",
    ") %}"
   ]
  },
  {
   "cell_type": "code",
   "execution_count": null,
   "metadata": {},
   "outputs": [],
   "source": [
    "%%appyter hide_code\n",
    "\n",
    "{% set gene_list_kind = TabField(\n",
    "    name='gene_list_kind',\n",
    "    label='Gene List',\n",
    "    default='Paste',\n",
    "    description='Paste or upload your gene list',\n",
    "    required=True,\n",
    "    choices={\n",
    "        'Paste': [\n",
    "            TextListField(\n",
    "                name='gene_list_input',\n",
    "                label='Gene List',\n",
    "                default= ['EGFR', 'HDAC1', 'STAT3', 'MYC', 'JUN'],\n",
    "                description='Paste your gene list (One gene per row).',\n",
    "                required = True,\n",
    "                section='section1'\n",
    "            ),\n",
    "        ],\n",
    "        'Upload': [\n",
    "            FileField(\n",
    "                name='gene_list_filename',\n",
    "                label='Gene List File',\n",
    "                description='Upload your gene list as a text file (One gene per row).',\n",
    "                required = True,\n",
    "                section='section1'\n",
    "            ),\n",
    "        ],\n",
    "    },\n",
    "    section = 'section1',\n",
    ") %}\n",
    "\n",
    "{% set FDR = IntField(\n",
    "    name='FDR',\n",
    "    description='Select one FDR for analyses.', \n",
    "    min = 1,\n",
    "    max= 10,\n",
    "    step = 1,\n",
    "    default = 5, \n",
    "    required = True,\n",
    "    label='FDR', \n",
    "    section='section2',\n",
    ") %}\n",
    "\n",
    "{% set relationship_type = MultiChoiceField(\n",
    "    name='relationship_type', \n",
    "    description='Select a gene-property relationship type for which to do you analysis.', \n",
    "    label='Relationship Type', \n",
    "    default=['Non-class Driven'], \n",
    "    section = 'section3',\n",
    "    choices=[\n",
    "    'Class Driven', 'Non-class Driven', 'Interaction',\n",
    "    ]\n",
    ") %}"
   ]
  },
  {
   "cell_type": "code",
   "execution_count": null,
   "metadata": {},
   "outputs": [],
   "source": [
    "%%appyter code_exec\n",
    "\n",
    "{%- if gene_list_kind.raw_value == 'Paste' %}\n",
    "gene_list_input = {{ gene_list_kind.value[0] }}\n",
    "{%- else %}\n",
    "gene_list_filename = {{ gene_list_kind.value[0] }}\n",
    "{%- endif %}\n",
    "FDR = {{ FDR }}\n",
    "relationship_type = {{relationship_type}}"
   ]
  },
  {
   "cell_type": "code",
   "execution_count": null,
   "metadata": {},
   "outputs": [],
   "source": [
    "%%appyter code_exec\n",
    "\n",
    "{%- if gene_list_kind.raw_value == 'Paste' %}\n",
    "genes_of_interest = [x.strip() for x in gene_list_input]\n",
    "{%- else %}\n",
    "open_gene_list_file = open(gene_list_filename,'r')\n",
    "lines = open_gene_list_file.readlines()\n",
    "genes_of_interest = [x.strip() for x in lines]\n",
    "open_gene_list_file.close()\n",
    "{%- endif %}"
   ]
  },
  {
   "cell_type": "code",
   "execution_count": null,
   "metadata": {},
   "outputs": [],
   "source": [
    "# Error handling\n",
    "class NoResults(Exception):\n",
    "    pass \n",
    "class APIFailure(Exception):\n",
    "    pass"
   ]
  },
  {
   "cell_type": "code",
   "execution_count": null,
   "metadata": {},
   "outputs": [],
   "source": [
    "matplotlib.style.use('default')\n",
    "color_exc = '#006DDB'\n",
    "color_inh = '#920000'\n",
    "\n",
    "#File Paths for Bomkamp Data\n",
    "path_1 = \"data/online_table1.csv\"\n",
    "path_2 = \"data/online_table2.csv\"\n",
    "path_3 = \"data/online_table3.csv\"\n",
    "path_4 = \"data/online_table4.csv\"\n",
    "\n",
    "scores = pd.read_csv(path_1, index_col = 0)\n",
    "scores_all = pd.read_csv(path_2, index_col = 0)\n",
    "ephys = pd.read_csv(path_3, index_col = 0, low_memory = False)\n",
    "morph = pd.read_csv(path_4, index_col = 0, low_memory = False)"
   ]
  },
  {
   "cell_type": "markdown",
   "metadata": {},
   "source": [
    "# Significant Correlations\n",
    "\n",
    "This is the first analysis. A table of genes from your list of genes that had significant electrophysiological/morphological correlations will be displayed with their respective correlations and FDR values. The FDR value is an adjusted p-value calculated using the Benjamini-Hochberg method for correction for multiple hypotheses testing. The FDR will be determined by the relationship type you selected before running Enkefalos. More detail about what the different relationship types are can be found in our user guide and in the Pavlidis Lab study. Only the top 10 significant results are displayed in this notebook, but the full table containing all significant results can be downloaded using the Download CSV file of the full table of significant correlations link."
   ]
  },
  {
   "cell_type": "code",
   "execution_count": null,
   "metadata": {},
   "outputs": [],
   "source": [
    "FDR = float(FDR)/100\n",
    "relationship_type = str(relationship_type)\n",
    "relationship_type = re.sub(r\"['\\[{}\\]']\", \"\", relationship_type)\n",
    "genes_of_interest = [gene.upper() for gene in genes_of_interest]\n",
    "#Takes genes from Bomkamp data and stores it in a list\n",
    "genes_in_data = scores_all['gene_symbol'].values.tolist()\n",
    "#Empty list which will take in genes from user's data that are also included in the Bomkamp data\n",
    "genes_of_interest_in_data = []\n",
    "#Method to see whether each gene in user's data is included in Bomkamp data or not\n",
    "\n",
    "def contains_gene (x):\n",
    "    if x in genes_in_data:\n",
    "        genes_of_interest_in_data.append(x)     \n",
    "for gene in genes_of_interest:\n",
    "    contains_gene(gene)\n",
    "\n",
    "def create_download_link(df, title = \"Download CSV file of the full table of significant results\", filename = \"Significant_Correlations.csv\"):  \n",
    "    csv = df.to_csv(filename, index = False)\n",
    "    html = f'<a href=\"{filename}\" target=_blank>{title}</a>'\n",
    "    return HTML(html)\n",
    "\n",
    "if relationship_type == \"Class Driven\":\n",
    "    FDR_type = \"FDR_gene\"\n",
    "if relationship_type == \"Non-class Driven\":\n",
    "    FDR_type = \"FDR_gene|class_anova\"\n",
    "if relationship_type == \"Interaction\":\n",
    "    FDR_type = \"FDR_int_anova\"\n",
    "\n",
    "\n",
    "if len(genes_of_interest_in_data) == 0:\n",
    "    print(\"Sorry, either the genes you are interested in are not included in our data, or do not have any significant relations under the FDR threshold you specified. Perhaps try again with another list!\")\n",
    "else:\n",
    "    #This is the table with all significant correlations from user's genes under their preffered FDR threshold. Sorted from lowest to highest FDR.    \n",
    "    filtered_data = scores_all[(scores_all['gene_symbol'].isin(genes_of_interest_in_data)) & (scores_all[FDR_type] < FDR)]\n",
    "    filtered_data = filtered_data.sort_values(by=[FDR_type])\n",
    "    display(HTML(filtered_data[['gene_symbol', 'property', FDR_type]][:10].to_html(index = False)))\n",
    "    display(create_download_link(filtered_data[['gene_symbol', 'property', FDR_type]]))\n",
    "##pd.set_option('display.max_rows', None)\n",
    "##print (filtered_data[['gene_symbol', 'property', 'FDR_gene|class_anova']])"
   ]
  },
  {
   "cell_type": "markdown",
   "metadata": {},
   "source": [
    "# Genes with Significant Interactions\n",
    "\n",
    "A table of genes from your list of genes that had significant electrophysiological/morphological correlations will be displayed. Only the top 10 results are displayed in this notebook, but the full table containing the entire gene/protein list can be downloaded using the Download CSV file of the full table of significant interactions link."
   ]
  },
  {
   "cell_type": "code",
   "execution_count": null,
   "metadata": {},
   "outputs": [],
   "source": [
    "#If user would like to see only which genes were enriched and nothing else, they can use this option. Designed so genes print out in the order\n",
    "#in which the user pasted their gens. If they pasted them from greatest to least expression value, the enriched genes with the highest expression\n",
    "#will be at the top and vice versa\n",
    "goi_id = []\n",
    "for gene in genes_of_interest_in_data:\n",
    "    if gene in filtered_data['gene_symbol'].values:\n",
    "        goi_id.append(gene)\n",
    "goi_id = pd.DataFrame(goi_id, columns = ['Genes'])\n",
    "\n",
    "def create_download_link2(df, title = \"Download CSV file of the full table of genes with significant interactions.\", filename = \"Significant_Interactions.csv\"):  \n",
    "    csv = df.to_csv(filename, index = False)\n",
    "    html = f'<a href=\"{filename}\" target=_blank>{title}</a>'\n",
    "    return HTML(html)\n",
    "    \n",
    "display(HTML(goi_id[:10].to_html(index = False)))\n",
    "display(create_download_link2(goi_id))\n"
   ]
  },
  {
   "cell_type": "markdown",
   "metadata": {},
   "source": [
    "# STRING Call and Network Analysis\n",
    "\n",
    "A network diagram of all your enriched genes will be created using the STRING database. Nodes of the interactome will be tabulated for the number of known interactions each gene has with the other genes in the network. A table with the number of interactions each gene in the network has (from greatest to least) will be displayed. Only the top 10 results are displayed in this notebook, but the full table containing the entire gene/protein and number of interactions list can be downloaded using the Download CSV file link. Moreover, a link to the StringDB analysis will be printed which you can copy and use for your own purposes."
   ]
  },
  {
   "cell_type": "markdown",
   "metadata": {},
   "source": [
    "From these results, if you would like to conduct further analyses, please refer to the appyter catolog and find the ENKEFALOS_2 appyter. This second appyter will allow you obtain a correlation plot for a gene and electrophysiological/morphological measure of your interest, as well as a data table with the points plotted, and a subset network with your specified gene as the central node and other proteins from your enriched list connected to it if they are known to have significant interactions. For the purpose of the subset network, this second appyter will take your table of enriched genes as an input, so be sure to save this result from this first analysis."
   ]
  },
  {
   "cell_type": "code",
   "execution_count": null,
   "metadata": {},
   "outputs": [],
   "source": [
    "enriched_genes = [*set(filtered_data['gene_symbol'].values.tolist())]\n",
    "#String API to call for website and file with correlations\n",
    "string_api_url = \"https://version-11-5.string-db.org/api\"\n",
    "output_format = \"tsv-no-header\"\n",
    "method_1 = \"network\"\n",
    "method_2 = \"get_link\"\n",
    "request_url_1 = \"/\".join([string_api_url, output_format, method_1])\n",
    "request_url_2 = \"/\".join([string_api_url, output_format, method_2])\n",
    "\n",
    "#Parameters for String API\n",
    "params = {\n",
    "    \"identifiers\" : \"%0d\".join(enriched_genes), # your proteins\n",
    "    \"species\" : 9606, # species NCBI identifier \n",
    "    \"network_flavor\": \"confidence\", # show confidence links\n",
    "    \"network_type\": \"functional\"\n",
    "    }\n",
    "\n",
    "response_1 = requests.post(request_url_1, data=params)\n",
    "response_2 = requests.post(request_url_2, data=params)\n",
    "#Opens STRING diagram on web\n",
    "webbrowser.open(response_2.text)\n"
   ]
  },
  {
   "cell_type": "code",
   "execution_count": null,
   "metadata": {},
   "outputs": [],
   "source": [
    "#Creates a small data frame for the known/predicted interactions between each node\n",
    "all_interactions = pd.DataFrame(columns = ['Gene1', 'Gene2'])\n",
    "for line in response_1.text.strip().split(\"\\n\"):\n",
    "    l = line.strip().split(\"\\t\")\n",
    "    p1, p2 = l[2], l[3]\n",
    "    all_interactions.loc[len(all_interactions.index)] = [p1, p2]\n",
    "    ## filter the interaction according to experimental score\n",
    "    #experimental_score = float(l[10])\n",
    "    #if experimental_score > 0.4: \n",
    "    #print(\"\\t\".join([p1, p2, \"experimentally confirmed (prob. %.3f)\" % experimental_score]))\n",
    "\n",
    "#Drops duplicate interactions so we can just determine singular relations between each node\n",
    "interactions = all_interactions.drop_duplicates(ignore_index = True)\n",
    "\n",
    "#Gathers all the gene names from the interactions dataframe into one list, from which we can count the occurence of\n",
    "#each gene to get the number of interactions each has\n",
    "genes_in_interactions = []\n",
    "genes_in_interactions.extend(interactions['Gene1'].tolist())\n",
    "genes_in_interactions.extend(interactions['Gene2'].tolist())\n",
    "\n",
    "#Another list that removes the duplicates from genes_in_interactions for which we can say the number\n",
    "#of interactions each of the genes in this list has\n",
    "single_genes_in_interactions = [*set(genes_in_interactions)]\n",
    "\n",
    "#Prints node correlations for each gene\n",
    "n=0\n",
    "interactions_per_gene = pd.DataFrame(columns = ['Gene', '# of Interactions'])\n",
    "for gene in single_genes_in_interactions:\n",
    "    interactions_per_gene.loc[n] = [gene] + [int(genes_in_interactions.count(gene))]\n",
    "    #print(gene + \" has \" + str(genes_in_interactions.count(gene)) + \" node interaction(s).\")\n",
    "    n = n+1\n",
    "interactions_per_gene = interactions_per_gene.sort_values(by=['# of Interactions'], ascending = False)\n",
    "\n",
    "def create_download_link3(df, title = \"Download CSV file of the full table of the number of interactions per gene, and open link to the StringDB analysis\", filename = \"Number_of_Interactions.csv\"):  \n",
    "    csv = df.to_csv(filename, index = False)\n",
    "    html = f'<a href=\"{filename}\" target=_blank>{title}</a>'\n",
    "    return HTML(html)\n",
    "    \n",
    "display(HTML(interactions_per_gene[:10].to_html(index = False)))\n",
    "display(create_download_link3(interactions_per_gene))\n",
    "html_string = f'<a href={response_2.text} target=_blank>{\"STRING Network\"}</a>'\n",
    "display(HTML(html_string))\n",
    "\n"
   ]
  }
 ],
 "metadata": {
  "interpreter": {
   "hash": "ae02de43a7a1893656bc45d2b0007624c64abadb1f146ae593b6588f2192c0f4"
  },
  "kernelspec": {
   "display_name": "Python 3 (ipykernel)",
   "language": "python",
   "name": "python3"
  },
  "language_info": {
   "codemirror_mode": {
    "name": "ipython",
    "version": 3
   },
   "file_extension": ".py",
   "mimetype": "text/x-python",
   "name": "python",
   "nbconvert_exporter": "python",
   "pygments_lexer": "ipython3",
   "version": "3.10.0"
  }
 },
 "nbformat": 4,
 "nbformat_minor": 4
}
