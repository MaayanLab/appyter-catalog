{
 "cells": [
  {
   "cell_type": "code",
   "execution_count": null,
   "metadata": {},
   "outputs": [],
   "source": [
    "#%%appyter init\n",
    "from appyter import magic\n",
    "magic.init(lambda _=globals: _())"
   ]
  },
  {
   "cell_type": "code",
   "execution_count": null,
   "metadata": {},
   "outputs": [],
   "source": [
    "%%appyter hide_code_exec\n",
    "{% do SectionField(name='section1', title = '1. Please input a valid gene symbol or Ensembl ID', subtitle = '', img = 'lncRNA_appyter_logo.png')%}\n",
    "{% do SectionField(name='section2', title = '2. Options', subtitle = '', img = 'lncRNA_appyter_logo.png')%}"
   ]
  },
  {
   "cell_type": "code",
   "execution_count": null,
   "metadata": {},
   "outputs": [],
   "source": [
    "%%appyter code_exec\n",
    "{% set query = AutocompleteField(name='gene',label='Gene Symbol/Ensembl ID',description='',default='HOTAIR',required=True, choices = load_static(\"lncRNAs.json\"), section='section1') %}\n",
    "{% set options_fast_compute = BoolField(name='fast_compute', label='Precompute', default='true', description='Precompute will retrieve precomputed results from the example files below for a faster run time. Select \\'No\\' to run whole analysis.', section='section2')%}\n"
   ]
  },
  {
   "cell_type": "code",
   "execution_count": null,
   "metadata": {},
   "outputs": [],
   "source": [
    "%%appyter code_exec\n",
    "query = {{ query }}"
   ]
  },
  {
   "cell_type": "code",
   "execution_count": null,
   "metadata": {},
   "outputs": [],
   "source": [
    "%%appyter markdown\n",
    "# Report about the Long Non-coding RNA (lncRNA) {{query.raw_value}}\n",
    "Based on lncRNA-gene co-expression, this report contains predictions regarding the biological functions of {{query.raw_value}} and small molecules that may specifically up- or down-regulate {{query.raw_value}} expression. This report also contains the gene coordinates for {{query.raw_value}}, canonical/alternative transcript sequences, publications per year, median expression of {{query.raw_value}} across tissues and cell-lines, and lncRNA-lncRNA expression similarities."
   ]
  },
  {
   "cell_type": "code",
   "execution_count": null,
   "metadata": {},
   "outputs": [],
   "source": [
    "# Import libraries \n",
    "import pandas as pd \n",
    "import numpy as np\n",
    "import h5py as h5\n",
    "from IPython.display import display,FileLink, HTML, Markdown\n",
    "import os\n",
    "from utils import *\n",
    "import s3fs\n",
    "from bokeh.io import output_notebook\n",
    "import json\n",
    "output_notebook()"
   ]
  },
  {
   "cell_type": "code",
   "execution_count": null,
   "metadata": {},
   "outputs": [],
   "source": [
    "# save gene name in json\n",
    "with open('gene.json', 'w') as f:\n",
    "    json.dump([query], f)"
   ]
  },
  {
   "cell_type": "code",
   "execution_count": null,
   "metadata": {},
   "outputs": [],
   "source": [
    "# Import gene mapping data\n",
    "s3 = s3fs.S3FileSystem(anon=True, client_kwargs=dict(endpoint_url='https://s3.appyters.maayanlab.cloud'))\n",
    "f = h5.File(s3.open('storage/lncRNA_Appyter/v0.0.6/Recount3_lncRNA_pcorr_cols.h5', 'rb'), 'r') \n",
    "col_genes = [x.decode('UTF-8') for x in f[\"meta/columns/genes\"]]\n",
    "col_genes_ensembl = [x.decode('UTF-8') for x in f[\"meta/columns/ensembl\"]]\n",
    "row_genes =  [x.decode('UTF-8') for x in f[\"meta/rows/genes\"]]\n",
    "row_genes_ensembl = [x.decode('UTF-8') for x in f[\"meta/rows/ensembl\"]]\n",
    "\n",
    "# Convert input Ensembl ID to gene symbol\n",
    "ensembl_2_genes = dict(zip(row_genes_ensembl,row_genes))\n",
    "genes_2_ensembl = dict(zip(row_genes,row_genes_ensembl))\n",
    "if query in col_genes_ensembl:\n",
    "    query_new = ensembl_2_genes[query]\n",
    "    if query != query_new:\n",
    "        print('The Ensembl ID ' + query + ' has been converted to the gene symbol ' + query_new )\n",
    "        query = query_new\n",
    "        print('Predicting functions for ' + query + '(' + genes_2_ensembl[query] + ')')\n",
    "    else:\n",
    "        print('Predicting functions for ' + query + '(' + genes_2_ensembl[query] + ')')\n",
    "else:\n",
    "    if query in row_genes:\n",
    "        print('Predicting functions for ' + query + '(' + genes_2_ensembl[query] + ')')"
   ]
  },
  {
   "cell_type": "code",
   "execution_count": null,
   "metadata": {},
   "outputs": [],
   "source": [
    "%%appyter markdown\n",
    "### Genomic coordinates for {{query.raw_value}} \n",
    "The genomic coordinates for {{query.raw_value}} are provided from GENCODE (gencode.v38.long_noncoding_RNAs.gtf)[1]."
   ]
  },
  {
   "cell_type": "code",
   "execution_count": null,
   "metadata": {},
   "outputs": [],
   "source": [
    "# Import genomic coordinates data\n",
    "gene_coordinates = pd.read_csv(s3.open('storage/lncRNA_Appyter/v0.1.0/lncrna_coordinates.csv'),header=0,index_col=0)\n",
    "gene_coordinates['ensembl_id'] = [x.split('.')[0] for x in gene_coordinates['gene_id']]\n",
    "if query.startswith('ENSG'):\n",
    "    gene_coordinates = gene_coordinates[gene_coordinates['ensembl_id']==query].reset_index(drop=True)\n",
    "else:\n",
    "    gene_coordinates = gene_coordinates[gene_coordinates['gene_name']==query].reset_index(drop=True)\n",
    "gene_coordinates = gene_coordinates.drop(['ensembl_id'],axis=1)\n",
    "\n",
    "# Save gene coordinates\n",
    "if not os.path.exists(\"gene_info/\"):\n",
    "        os.makedirs(\"gene_info/\", exist_ok=True)\n",
    "gene_coordinates.to_csv('gene_info/' + query.replace('/','-') + '_gene_coordinates.csv')"
   ]
  },
  {
   "cell_type": "code",
   "execution_count": null,
   "metadata": {},
   "outputs": [],
   "source": [
    "%%appyter code_exec\n",
    "display(gene_coordinates)\n",
    "display(Markdown(f\"*Table 1. Genomic coordinates for {query}.*\"))\n",
    "display(FileLink('gene_info/' + query.replace('/','-') + '_gene_coordinates.csv', result_html_prefix=str('Download Table 1: ')))"
   ]
  },
  {
   "cell_type": "code",
   "execution_count": null,
   "metadata": {},
   "outputs": [],
   "source": [
    "%%appyter markdown\n",
    "###  Transcript sequences for HOTAIR\n",
    "The canonical and alternative cDNA sequneces for {{query.raw_value}} are provided from Ensembl (Homo_sapiens.GRCh38.ncrna.fa)[2]."
   ]
  },
  {
   "cell_type": "code",
   "execution_count": null,
   "metadata": {},
   "outputs": [],
   "source": [
    "%%appyter code_exec\n",
    "try:\n",
    "    # Get canonical transcript ID for input lncRNA\n",
    "    canonical_transcript_id = pd.read_csv(s3.open('storage/lncRNA_Appyter/v0.1.0/gene_canonical_metadata.csv'),header=0,index_col=0)\n",
    "    canonical_transcript_id  = canonical_transcript_id[canonical_transcript_id['Gene stable ID']==genes_2_ensembl[query]]['Transcript stable ID version'].values[0]\n",
    "\n",
    "    # Import all canonical cDNA sequences\n",
    "    canonical_sequences = pd.read_csv(s3.open('storage/lncRNA_Appyter/v0.1.0/lncrna_canonical_sequences.csv'),header=0,index_col=0)\n",
    "\n",
    "    # Get canonical sequence for input lncRNA\n",
    "    canonical_sequences = canonical_sequences[canonical_sequences['id']==canonical_transcript_id].reset_index(drop=True)\n",
    "\n",
    "    if len(canonical_sequences) > 0:\n",
    "        canonical_sequences.to_csv('gene_info/' + query.replace('/','-') + '_canonical_sequence.csv')\n",
    "\n",
    "        display(canonical_sequences)\n",
    "        display(Markdown(f\"*Table 2. Canonical transcript sequence for {query}.*\"))\n",
    "        display(FileLink('gene_info/' + query.replace('/','-') + '_canonical_sequence.csv', result_html_prefix=str('Download Table 2: ')))\n",
    "    else:\n",
    "        display(Markdown(f\"**No canonical transcript sequence found for {query}.**\"))\n",
    "\n",
    "except:\n",
    "    display(Markdown(f\"**No canonical transcript sequence found for {query}.**\"))"
   ]
  },
  {
   "cell_type": "code",
   "execution_count": null,
   "metadata": {},
   "outputs": [],
   "source": [
    "%%appyter code_exec\n",
    "try:\n",
    "    # Get alternative transcript IDs for input lncRNA\n",
    "    alternative_transcript_id = pd.read_csv(s3.open('storage/lncRNA_Appyter/v0.1.0/gene_alternative_metadata.csv'),header=0,index_col=0)\n",
    "    alternative_transcript_id = alternative_transcript_id[alternative_transcript_id['Gene stable ID']==genes_2_ensembl[query]]['Transcript stable ID version'].values\n",
    "\n",
    "    # Import all alternative cDNA sequences\n",
    "    alternative_sequences = pd.read_csv(s3.open('storage/lncRNA_Appyter/v0.1.0/lncrna_alternative_sequences.csv'),header=0,index_col=0)\n",
    "\n",
    "    # Get alternative sequences for input lncRNA\n",
    "    alternative_sequences = alternative_sequences[alternative_sequences['id'].isin(alternative_transcript_id)].reset_index(drop=True)\n",
    "\n",
    "    if len(alternative_sequences) > 0:\n",
    "        alternative_sequences.to_csv('gene_info/' + query.replace('/','-') + '_alternative_sequence.csv')\n",
    "\n",
    "        display(alternative_sequences)\n",
    "        display(Markdown(f\"*Table 3. Alternative transcript sequence(s) for {query}.*\"))\n",
    "        display(FileLink('gene_info/' + query.replace('/','-') + '_alternative_sequence.csv', result_html_prefix=str('Download Table 3: ')))\n",
    "    else:\n",
    "        display(Markdown(f\"**No alternative transcript sequence(s) found for {query}.**\"))\n",
    "except:\n",
    "      display(Markdown(f\"**No alternative transcript sequence(s) found for {query}.**\"))"
   ]
  },
  {
   "cell_type": "code",
   "execution_count": null,
   "metadata": {},
   "outputs": [],
   "source": [
    "%%appyter markdown\n",
    "### Publications that mention {{query.raw_value}} \n",
    "The PubMed API was used to generate AutoRIF data for {{query.raw_value}}. All PubMed IDs and dates were automatically collected for articles mentioning the lncRNA {{query.raw_value}}. The Ensembl ID[2], lncRNA gene symbol from GENCODE[1], and any previous symbols found in the HGNC database[3] along with the terms ‘lncRNA’ or ‘long non-coding RNA’ were used to query PubMed (e.g., “(ENSG00000228630 OR HOTAIR) AND (lncRNA OR long non-coding RNA)”)"
   ]
  },
  {
   "cell_type": "code",
   "execution_count": null,
   "metadata": {},
   "outputs": [],
   "source": [
    "%%appyter code_exec\n",
    "# Get AutoRIF data for input lncRNA\n",
    "autorif_file = s3.open('storage/lncRNA_Appyter/v0.1.0/lncRNA_autorif_final.tsv','rb')\n",
    "read = 'start'\n",
    "while read == 'start':\n",
    "    for line in autorif_file.readlines():\n",
    "        line = line.strip()\n",
    "        line = line.decode('UTF-8')\n",
    "        line = line.split('\\t')\n",
    "        lncrna = line[0].split(\"(\")[0]\n",
    "        if lncrna == query:\n",
    "            autorif_results =  line[1:]\n",
    "            read = 'stop'\n",
    "\n",
    "# Save autorif data\n",
    "if not os.path.exists(\"autorif/\"):\n",
    "        os.makedirs(\"autorif/\", exist_ok=True)\n",
    "\n",
    "if len(autorif_results) > 0:\n",
    "\n",
    "    autorif_results_df = pd.DataFrame({'pmid':[x.split(',')[0] for x in autorif_results],'date':[x.split(',')[1] for x in autorif_results]})\n",
    "    autorif_results_df = autorif_results_df.sort_values(by='date',ascending=False) \n",
    "    autorif_results_df = autorif_results_df[~autorif_results_df.date.str.contains(\"2022-\")].reset_index(drop=True)# remove early 2022 publications\n",
    "    total_pubs = len(autorif_results_df)\n",
    "    autorif_results_df.to_csv('autorif/' + query.replace('/','-') + '_autorif_results.csv')\n",
    "\n",
    "    autorif_plot(autorif_results_df,query,'autorif/' + query.replace('/','-') + '_autorif')\n",
    "    display(Markdown(f\"*Figure 1. Publications mentioning the lncRNA {query}. {total_pubs} total publications mentioned {query} from 1992 to 2021*\"))\n",
    "    display(FileLink('autorif/' + query.replace('/','-') + '_autorif.png', result_html_prefix=str('Download Figure 1 (PNG): ')))\n",
    "    display(FileLink('autorif/' + query.replace('/','-') + '_autorif.svg', result_html_prefix=str('Download Figure 1 (SVG): ')))\n",
    "    display(FileLink('autorif/' + query.replace('/','-') + '_autorif.pdf', result_html_prefix=str('Download Figure 1 (PDF): ')))\n",
    "    display(FileLink('autorif/' + query.replace('/','-') + '_autorif_results.csv', result_html_prefix=str('Download AutoRIF data: ')))\n",
    "else:\n",
    "    display(Markdown(f\"**No publications found for {query}.**\"))"
   ]
  },
  {
   "cell_type": "code",
   "execution_count": null,
   "metadata": {},
   "outputs": [],
   "source": [
    "%%appyter markdown\n",
    "### Import lncRNA-gene co-expression matrix"
   ]
  },
  {
   "cell_type": "markdown",
   "metadata": {},
   "source": [
    "This lncRNA-gene co-expression matrix was generated by computing the Pearson correlation coefficients for 10,000 randomly selected bulk RNA-seq samples from Recount3[4]. NOTE: If an Ensembl ID was entered, it will be converted to its corresponding gene symbol if available. "
   ]
  },
  {
   "cell_type": "code",
   "execution_count": null,
   "metadata": {},
   "outputs": [],
   "source": [
    "# Import lncRNA-gene co-expression matrix\n",
    "corr =f[\"data/correlation\"]"
   ]
  },
  {
   "cell_type": "code",
   "execution_count": null,
   "metadata": {},
   "outputs": [],
   "source": [
    "%%appyter markdown\n",
    "### Top genes correlated with {{query.raw_value}}"
   ]
  },
  {
   "cell_type": "code",
   "execution_count": null,
   "metadata": {},
   "outputs": [],
   "source": [
    "%%appyter markdown\n",
    "Using the loaded lncRNA-gene correlation matrix, we report the genes that are most positively and negatively correlated with {{query.raw_value}}."
   ]
  },
  {
   "cell_type": "code",
   "execution_count": null,
   "metadata": {},
   "outputs": [],
   "source": [
    "# Save correlation files\n",
    "if not os.path.exists(\"gene_correlations/\"):\n",
    "        os.makedirs(\"gene_correlations/\", exist_ok=True)\n",
    "\n",
    "# Get index of lncRNA of interest\n",
    "idx_query = np.where(np.asarray(col_genes) == query)[0][0]\n",
    "\n",
    "# Rank genes based on pearson correlation with the lncRNA of interest\n",
    "lncRNA_coexp = pd.DataFrame(corr[:,idx_query])\n",
    "lncRNA_coexp.index = row_genes\n",
    "lncRNA_coexp.columns = [\"Pearson's Correlation Coefficient\"]\n",
    "lncRNA_coexp = lncRNA_coexp.sort_values(by=\"Pearson's Correlation Coefficient\", ascending=False)\n",
    "lncRNA_neg_coexp = lncRNA_coexp.sort_values(by=\"Pearson's Correlation Coefficient\", ascending=True)\n",
    "\n",
    "# Save gene correlations to csv files\n",
    "lncRNA_coexp.to_csv('gene_correlations/'+ query.replace('/','-') + '_positively_correlated_genes.csv')\n",
    "lncRNA_neg_coexp.to_csv('gene_correlations/' + query.replace('/','-') + '_negatively_correlated_genes.csv')"
   ]
  },
  {
   "cell_type": "code",
   "execution_count": null,
   "metadata": {},
   "outputs": [],
   "source": [
    "%%appyter code_exec\n",
    "display(lncRNA_coexp[0:20])\n",
    "display(Markdown(f\"*Table 4. The Top 20 genes positively correlated with {query} ranked by Pearson’s correlation coefficients.*\"))\n",
    "display(FileLink('gene_correlations/' + query.replace('/','-') + '_positively_correlated_genes.csv', result_html_prefix=str('Download Table 4: ')))"
   ]
  },
  {
   "cell_type": "code",
   "execution_count": null,
   "metadata": {},
   "outputs": [],
   "source": [
    "%%appyter code_exec\n",
    "display(lncRNA_neg_coexp[0:20])\n",
    "display(Markdown(f\"*Table 5. The Top 20 genes negatively correlated with {query} ranked by Pearson’s correlation coefficients.*\"))\n",
    "display(FileLink('gene_correlations/' + query.replace('/','-') + '_negatively_correlated_genes.csv', result_html_prefix=str('Download Table 5: ')))"
   ]
  },
  {
   "cell_type": "code",
   "execution_count": null,
   "metadata": {},
   "outputs": [],
   "source": [
    "%%appyter markdown\n",
    "### Interactive network visualization of the top 100 genes positively correlated with {{query.raw_value}}"
   ]
  },
  {
   "cell_type": "code",
   "execution_count": null,
   "metadata": {},
   "outputs": [],
   "source": [
    "%%appyter markdown\n",
    "\n",
    "Interactive network visualization of the top 100 genes positively correlated with {{query.raw_value}}. Each node represents a gene and is colored by chromosome location, except for the bright red node which represents the lncRNA {{query.raw_value}}. The thickness of the edges corresponds to Pearson correlation coefficients. Clicking on a gene node will highlight its corresponding edges in orange. Hovering over a node will display the gene name and chromosome location.\n",
    "\n",
    "Network Methods: All pairwise correlations between the top 100 genes positively correlated with {{query.raw_value}} are extracted. The 3 edges with the highest correlation per gene node are used to initialize the network. Edges with weights < 0.3 are dropped. To further prune the network, the edge with the lowest weight for each hub node is dropped. At the start, a hub node is defined as a node with > 10 edges. The pruning process is repeated until the network has an average of < 3 edges per node. The top 5 edges for {{query.raw_value}} are shown regardless of their weights."
   ]
  },
  {
   "cell_type": "code",
   "execution_count": null,
   "metadata": {},
   "outputs": [],
   "source": [
    "# Visualize the co-expression network for the top 100 positively correlated genes\n",
    "if not os.path.exists(\"coexpression_network/\"):\n",
    "        os.makedirs(\"coexpression_network/\", exist_ok=True)\n",
    "g = network_vis(query,lncRNA_coexp,genes_2_ensembl,row_genes)\n",
    "g[1].to_csv(\"coexpression_network/\"+query.replace('/','-')+'_network_node_metadata.csv')\n",
    "g[2].to_csv(\"coexpression_network/\"+query.replace('/','-')+'_network_edge_metadata.csv')\n",
    "g[0].show('coexpression_network/' + query.replace('/','-') + '_network.html')"
   ]
  },
  {
   "cell_type": "code",
   "execution_count": null,
   "metadata": {},
   "outputs": [],
   "source": [
    "%%appyter code_exec\n",
    "display(Markdown(f\"*Figure 2. Interactive network visualization of the top 100 genes positively correlated with {query}.*\"))\n",
    "display(FileLink('coexpression_network/' + query.replace('/','-') + '_network.html', result_html_prefix=str('Download Figure 2: ')))\n",
    "display(FileLink(\"coexpression_network/\"+query.replace('/','-')+'_network_node_metadata.csv', result_html_prefix=str('Download Node metadata: ')))\n",
    "display(FileLink(\"coexpression_network/\"+query.replace('/','-')+'_network_edge_metadata.csv', result_html_prefix=str('Download Edge metadata: ')))"
   ]
  },
  {
   "cell_type": "code",
   "execution_count": null,
   "metadata": {},
   "outputs": [],
   "source": [
    "%%appyter markdown\n",
    "### Enrichment analysis applied to the top genes most positively and negatively correlated with {{query.raw_value}}"
   ]
  },
  {
   "cell_type": "code",
   "execution_count": null,
   "metadata": {},
   "outputs": [],
   "source": [
    "%%appyter markdown\n",
    "The top genes most positively and negatively correlated with {{query.raw_value}} are submitted to Enrichr[5-7] for enrichment analysis. NOTE: Only genes with gene symbols are submitted to Enrichr. Ensembl IDs that do not map to an official gene symbol were dropped."
   ]
  },
  {
   "cell_type": "code",
   "execution_count": null,
   "metadata": {},
   "outputs": [],
   "source": [
    "%%appyter code_exec\n",
    "# Get positively and negatively correlated genes\n",
    "n_genes = [25, 50, 100, 200, 300, 500]\n",
    "top_genes = [x for x in list(lncRNA_coexp.index) if not x.startswith('ENSG')] # only keep genes with gene symbols\n",
    "top_genes = [x for x in top_genes if x != query] # remove query from end of list \n",
    "top_neg_genes = top_genes[::-1] # reverse list for top negatively correlated genes\n",
    "\n",
    "# Get enrichemnt reuslts for top n positively correlated genes with input lncRNA\n",
    "display(HTML(\"<font size=4> <b>Enrichment analysis reuslts for positively correlated genes with {query} </b></font>\".format(query=query)))\n",
    "for n in n_genes:\n",
    "        enrichr_link_pos = Enrichr_API(top_genes[0:n],str('Top 200 positively correlated genes with the lncRNA: ' + query))\n",
    "        \n",
    "        # Save enrichr link to text file\n",
    "        if not os.path.exists(\"enrichment_analysis/\"):\n",
    "                os.makedirs(\"enrichment_analysis/\", exist_ok=True)\n",
    "        open_file = open('enrichment_analysis/'+query.replace('/','-')+'_top_'+str(n)+'_positively_correlated_genes_Enrichr_link.txt','w')\n",
    "        open_file.write(enrichr_link_pos)\n",
    "        open_file.close()\n",
    "\n",
    "        display(HTML(\"Access the enrichment analysis results for the top  <b>{n} positively</b> correlated genes with {query} here: <a href='{href}'>{link}</a>\".format(href=enrichr_link_pos, link = enrichr_link_pos, query=query, n=n)))\n",
    "\n",
    "display(HTML(\"<font size=4> \\n\\n\\n <b>Enrichment analysis reuslts for negatively correlated genes with {query} </b></font>\".format(query=query)))\n",
    "\n",
    "# Get enrichemnt reuslts for top n negatively correlated genes with input lncRNA\n",
    "for n in n_genes:\n",
    "        enrichr_link_neg = Enrichr_API(top_neg_genes[0:n],str('Top 200 negatively correlated genes with the lncRNA: ' + query))\n",
    "        open_file = open('enrichment_analysis/'+query.replace('/','-')+'_top_'+str(n)+'_negatively_correlated_genes_Enrichr_link.txt','w')\n",
    "        open_file.write(enrichr_link_neg)\n",
    "        open_file.close()\n",
    "        \n",
    "        display(HTML(\"Access the enrichment analysis results for the top <b>{n} negatively</b> correlated genes with {query} here: <a href='{href}'>{link}</a>\".format(href=enrichr_link_neg, link = enrichr_link_neg, query=query, n=n)))"
   ]
  },
  {
   "cell_type": "code",
   "execution_count": null,
   "metadata": {},
   "outputs": [],
   "source": [
    "%%appyter markdown\n",
    "### Top lncRNAs positively correlated with {{query.raw_value}}"
   ]
  },
  {
   "cell_type": "code",
   "execution_count": null,
   "metadata": {},
   "outputs": [],
   "source": [
    "%%appyter markdown\n",
    "Below we list the top 20 lncRNAs, out of all 15,862 lncRNAs within our database, that correlate most with {{query.raw_value}} based on their Pearson correlation coefficients."
   ]
  },
  {
   "cell_type": "code",
   "execution_count": null,
   "metadata": {},
   "outputs": [],
   "source": [
    "# Get correlated lncRNAs\n",
    "lncRNA_lncRNA_coexp = lncRNA_coexp.loc[col_genes]\n",
    "lncRNA_lncRNA_coexp = lncRNA_lncRNA_coexp.sort_values(by=\"Pearson's Correlation Coefficient\", ascending=False)\n",
    "\n",
    "# Save gene correlations to csv file\n",
    "lncRNA_lncRNA_coexp.to_csv('gene_correlations/' + query.replace('/','-') + '_positively_correlated_lncRNAs.csv')"
   ]
  },
  {
   "cell_type": "code",
   "execution_count": null,
   "metadata": {},
   "outputs": [],
   "source": [
    "%%appyter code_exec\n",
    "display(lncRNA_lncRNA_coexp[0:20])\n",
    "display(Markdown(f\"*Table 6. Top 20 lncRNAs that correlate most with {query} ranked by Pearson correlation coefficients.*\"))\n",
    "display(FileLink('gene_correlations/' + query.replace('/','-') + '_positively_correlated_lncRNAs.csv', result_html_prefix=str('Download Table 6: ')))"
   ]
  },
  {
   "cell_type": "code",
   "execution_count": null,
   "metadata": {},
   "outputs": [],
   "source": [
    "%%appyter markdown\n",
    "### Predicted biological functions of {{query.raw_value}}"
   ]
  },
  {
   "cell_type": "code",
   "execution_count": null,
   "metadata": {},
   "outputs": [],
   "source": [
    "%%appyter markdown\n",
    "For each Enrichr[5-7] library, we compute the mean Pearson correlation coefficient for each gene set by averaging the Pearson correlation coefficients between each gene in the gene set and {{query.raw_value}}. Terms with high mean Pearson correlation coefficients are prioritized. These terms are predicted to be associated with {{query.raw_value}}."
   ]
  },
  {
   "cell_type": "code",
   "execution_count": null,
   "metadata": {},
   "outputs": [],
   "source": [
    "%%appyter code_exec\n",
    "{% if options_fast_compute.raw_value == False %}\n",
    "\n",
    "# Store biological function predictions\n",
    "if not os.path.exists(\"predicted_functions/\"):\n",
    "    os.makedirs(\"predicted_functions/\", exist_ok=True)\n",
    "\n",
    "# Make function predictions\n",
    "prediction_libraries = ['MGI_Mammalian_Phenotype_Level_4_2021','GO_Biological_Process_2021','KEGG_2021_Human','DisGeNET','ChEA_2016','ENCODE_TF_ChIP-seq_2015']\n",
    "prediction_libraries = np.array_split(prediction_libraries, int(np.ceil(len(prediction_libraries)/2))) \n",
    "for i_group,group in enumerate(prediction_libraries):\n",
    "    predictions = []\n",
    "    library_names = []\n",
    "    for pred_library in group:\n",
    "        predictions.append(predict_functions(pred_library,lncRNA_coexp,query))\n",
    "        library_names.append(pred_library.replace('_',' '))\n",
    "    if i_group == 0:\n",
    "        plot_results(library_names=library_names, results_dfs=predictions,file_name='predicted_functions/'+query.replace('/','-')+'_biological_function_predictions_f1')\n",
    "        display(Markdown(f\"*Figure 3. Predicted MGI Mammalian Phenotypes and GO Biological Processes for the lncRNA {query}. Terms are ranked by averaging the mean Pearson correlation coefficients between each gene in a gene set and {query}.*\" ))\n",
    "        display(FileLink('predicted_functions/'+query.replace('/','-')+'_biological_function_predictions_f1.png', result_html_prefix=str('Download Figure 3 (PNG): ')))\n",
    "        display(FileLink('predicted_functions/'+query.replace('/','-')+'_biological_function_predictions_f1.svg', result_html_prefix=str('Download Figure 3 (SVG): ')))\n",
    "        display(FileLink('predicted_functions/'+query.replace('/','-')+'_biological_function_predictions_f1.pdf', result_html_prefix=str('Download Figure 3 (PDF): ')))\n",
    "    if i_group == 1:\n",
    "        plot_results(library_names=library_names, results_dfs=predictions,file_name='predicted_functions/'+query.replace('/','-')+'_biological_function_predictions_f2')\n",
    "        display(Markdown(f\"*Figure 4. Predicted KEGG pathways and DisGeNET disease terms for the lncRNA {query}. Terms are ranked by averaging the mean Pearson correlation coefficients between each gene in a gene set and {query}.*\" ))\n",
    "        display(FileLink('predicted_functions/'+query.replace('/','-')+'_biological_function_predictions_f2.png', result_html_prefix=str('Download Figure 4 (PNG): ')))\n",
    "        display(FileLink('predicted_functions/'+query.replace('/','-')+'_biological_function_predictions_f2.svg', result_html_prefix=str('Download Figure 4 (SVG): ')))\n",
    "        display(FileLink('predicted_functions/'+query.replace('/','-')+'_biological_function_predictions_f2.pdf', result_html_prefix=str('Download Figure 4 (PDF): ')))\n",
    "    if i_group == 2:\n",
    "        plot_results(library_names=library_names, results_dfs=predictions,file_name='predicted_functions/'+query.replace('/','-')+'_biological_function_predictions_f3')\n",
    "        display(Markdown(f\"*Figure 5. Predicted ChEA and ENCODE terms for the lncRNA {query}. Terms are ranked by averaging the mean Pearson correlation coefficients between each gene in a gene set and {query}.*\" ))\n",
    "        display(FileLink('predicted_functions/'+query.replace('/','-')+'_biological_function_predictions_f3.png', result_html_prefix=str('Download Figure 5 (PNG): ')))\n",
    "        display(FileLink('predicted_functions/'+query.replace('/','-')+'_biological_function_predictions_f3.svg', result_html_prefix=str('Download Figure 5 (SVG): ')))\n",
    "        display(FileLink('predicted_functions/'+query.replace('/','-')+'_biological_function_predictions_f3.pdf', result_html_prefix=str('Download Figure 5 (PDF): ')))\n",
    "\n",
    "    # Save Predictions \n",
    "    for ii,prediction in enumerate(predictions):\n",
    "        prediction.to_csv(\"predicted_functions/\" + library_names[ii]+'_' + query.replace('/','-') + '.csv')\n",
    "        display(FileLink(\"predicted_functions/\" + library_names[ii]+'_' + query.replace('/','-') + '.csv', result_html_prefix=str('Download predictions: ')))\n",
    "\n",
    "{% endif %}"
   ]
  },
  {
   "cell_type": "code",
   "execution_count": null,
   "metadata": {},
   "outputs": [],
   "source": [
    "%%appyter code_exec\n",
    "{% if options_fast_compute.raw_value == True %}\n",
    "\n",
    "# Store biological function predictions\n",
    "if not os.path.exists(\"predicted_functions/\"):\n",
    "    os.makedirs(\"predicted_functions/\", exist_ok=True)\n",
    "\n",
    "# Import pre-computed lncRNA function predictions\n",
    "prediction_libraries = ['MGI_Mammalian_Phenotype_Level_4_2021','GO_Biological_Process_2021','KEGG_2021_Human','DisGeNET','ChEA_2016','ENCODE_TF_ChIP-seq_2015']\n",
    "prediction_libraries = np.array_split(prediction_libraries, int(np.ceil(len(prediction_libraries)/2))) \n",
    "for i_group,group in enumerate(prediction_libraries):\n",
    "    predictions = []\n",
    "    library_names = []\n",
    "    for pred_library in group:\n",
    "        precomputed_avg_coexp = get_bf_pvalues('storage/lncRNA_Appyter/v0.1.0/' + pred_library + '_lncRNA_avg_coexpression.h5', 'storage/lncRNA_Appyter/v0.1.0/' + pred_library + '_lncRNA_pvalue.h5' , query)\n",
    "        predictions.append(precomputed_avg_coexp)\n",
    "        library_names.append(pred_library.replace('_',' '))\n",
    "    if i_group == 0:\n",
    "        plot_results(library_names=library_names, results_dfs=predictions,file_name='predicted_functions/'+query.replace('/','-')+'_biological_function_predictions_f1',pvalue=True)\n",
    "        display(Markdown(f\"*Figure 3. Predicted MGI Mammalian Phenotypes and GO Biological Processes for the lncRNA {query}. Terms are ranked by averaging the mean Pearson correlation coefficients between each gene in a gene set and {query}.*\" ))\n",
    "        display(FileLink('predicted_functions/'+query.replace('/','-')+'_biological_function_predictions_f1.png', result_html_prefix=str('Download Figure 3 (PNG): ')))\n",
    "        display(FileLink('predicted_functions/'+query.replace('/','-')+'_biological_function_predictions_f1.svg', result_html_prefix=str('Download Figure 3 (SVG): ')))\n",
    "        display(FileLink('predicted_functions/'+query.replace('/','-')+'_biological_function_predictions_f1.pdf', result_html_prefix=str('Download Figure 3 (PDF): ')))\n",
    "    if i_group == 1:\n",
    "        plot_results(library_names=library_names, results_dfs=predictions,file_name='predicted_functions/'+query.replace('/','-')+'_biological_function_predictions_f2',pvalue=True)\n",
    "        display(Markdown(f\"*Figure 4. Predicted KEGG pathways and DisGeNET disease terms for the lncRNA {query}. Terms are ranked by averaging the mean Pearson correlation coefficients between each gene in a gene set and {query}.*\" ))\n",
    "        display(FileLink('predicted_functions/'+query.replace('/','-')+'_biological_function_predictions_f2.png', result_html_prefix=str('Download Figure 4 (PNG): ')))\n",
    "        display(FileLink('predicted_functions/'+query.replace('/','-')+'_biological_function_predictions_f2.svg', result_html_prefix=str('Download Figure 4 (SVG): ')))\n",
    "        display(FileLink('predicted_functions/'+query.replace('/','-')+'_biological_function_predictions_f2.pdf', result_html_prefix=str('Download Figure 4 (PDF): ')))\n",
    "    if i_group == 2:\n",
    "        plot_results(library_names=library_names, results_dfs=predictions,file_name='predicted_functions/'+query.replace('/','-')+'_biological_function_predictions_f3',pvalue=True)\n",
    "        display(Markdown(f\"*Figure 5. Predicted ChEA and ENCODE terms for the lncRNA {query}. Terms are ranked by averaging the mean Pearson correlation coefficients between each gene in a gene set and {query}.*\" ))\n",
    "        display(FileLink('predicted_functions/'+query.replace('/','-')+'_biological_function_predictions_f3.png', result_html_prefix=str('Download Figure 5 (PNG): ')))\n",
    "        display(FileLink('predicted_functions/'+query.replace('/','-')+'_biological_function_predictions_f3.svg', result_html_prefix=str('Download Figure 5 (SVG): ')))\n",
    "        display(FileLink('predicted_functions/'+query.replace('/','-')+'_biological_function_predictions_f3.pdf', result_html_prefix=str('Download Figure 5 (PDF): ')))\n",
    "\n",
    "    # Save Predictions \n",
    "    for ii,prediction in enumerate(predictions):\n",
    "        prediction.to_csv(\"predicted_functions/\" + query.replace('/','-') +'_' + library_names[ii]  + '.csv')\n",
    "        display(FileLink(\"predicted_functions/\" + query.replace('/','-') +'_' + library_names[ii]  + '.csv', result_html_prefix=str('Download predictions: ')))\n",
    "\n",
    "{% endif %}"
   ]
  },
  {
   "cell_type": "code",
   "execution_count": null,
   "metadata": {},
   "outputs": [],
   "source": [
    "%%appyter markdown\n",
    "### Expression of {{query.raw_value}} across tissues and cell lines\n",
    "This part of the report provides the Z-score (Normalized Median Expression) for the lncRNA {{query.raw_value}} in various tissues and cell lines."
   ]
  },
  {
   "cell_type": "code",
   "execution_count": null,
   "metadata": {},
   "outputs": [],
   "source": [
    "%%appyter markdown\n",
    "Samples from Recount3[4] were automatically labelled by tissue type or cell line of origin. Tissue and cell line samples were log2 transformed and quantile normalized separately. Tissues and cell lines with less than 20 samples were removed, and z-scores were computed along the lncRNA axis to compare expression levels across all tissues and cell lines. The median expression of {{query.raw_value}} was then calculated for each tissue type and cell line."
   ]
  },
  {
   "cell_type": "code",
   "execution_count": null,
   "metadata": {},
   "outputs": [],
   "source": [
    "# Import z-score data\n",
    "tissue_expr_zscore  = pd.read_csv(s3.open('storage/lncRNA_Appyter/v0.0.6/lncRNA_zscore_median_expr_by_tissue_filtered.csv', 'rb'),header=0, index_col=0) \n",
    "tissue_expr_zscore.index = [x.split(',')[0] for x in tissue_expr_zscore.index]\n",
    "\n",
    "\n",
    "cell_line_expr_zscore = pd.read_csv(s3.open('storage/lncRNA_Appyter/v0.0.6/lncRNA_zscore_median_expr_by_cell_line_filtered.csv', 'rb'),header=0, index_col=0) \n",
    "cell_line_expr_zscore.index = [x.split(',')[0] for x in cell_line_expr_zscore.index]\n",
    "cell_line_expr_zscore.columns = [x.upper().replace(' CELL','') for x in cell_line_expr_zscore.columns]\n",
    "\n",
    "# Create folder for tissue and cell line specific expression\n",
    "if not os.path.exists(\"tissue_and_cell_line_expression/\"):\n",
    "    os.makedirs(\"tissue_and_cell_line_expression\", exist_ok=True)\n",
    "\n",
    "# Rank tissues by z-score(median expression)\n",
    "tissue_specific_lncRNA = pd.DataFrame(tissue_expr_zscore.loc[query])\n",
    "tissue_specific_lncRNA = tissue_specific_lncRNA.sort_values(by=query,ascending=False)\n",
    "tissue_specific_lncRNA.to_csv(\"tissue_and_cell_line_expression/\" + query.replace('/','-') + '_tissue_zscore' + '.csv')\n",
    "\n",
    "# Rank cell lines by z-score(median expression)\n",
    "cell_line_specific_lncRNA = pd.DataFrame(cell_line_expr_zscore.loc[query])\n",
    "cell_line_specific_lncRNA = cell_line_specific_lncRNA.sort_values(by=query,ascending=False)\n",
    "cell_line_specific_lncRNA.to_csv(\"tissue_and_cell_line_expression/\" + query.replace('/','-') + '_cell_line_zscore' + '.csv')"
   ]
  },
  {
   "cell_type": "code",
   "execution_count": null,
   "metadata": {},
   "outputs": [],
   "source": [
    "%%appyter code_exec\n",
    "plot_bar(tissue_specific_lncRNA ,query,'Tissue','Z-score (Median Expression)','tissue_and_cell_line_expression/'+query.replace('/','-')+'_zscore_tissue_expression')\n",
    "display(Markdown(f\"*Figure 6. Z-score (median expression) for the lncRNA {query} in various tissue types.*\"))\n",
    "display(FileLink('tissue_and_cell_line_expression/'+query.replace('/','-')+'_zscore_tissue_expression'+'.png', result_html_prefix=str('Download Figure 6 (PNG): ')))\n",
    "display(FileLink('tissue_and_cell_line_expression/'+query.replace('/','-')+'_zscore_tissue_expression'+'.svg', result_html_prefix=str('Download Figure 6 (SVG): ')))\n",
    "display(FileLink('tissue_and_cell_line_expression/'+query.replace('/','-')+'_zscore_tissue_expression'+'.pdf', result_html_prefix=str('Download Figure 6 (PDF): ')))\n",
    "display(FileLink(\"tissue_and_cell_line_expression/\" + query.replace('/','-') + '_tissue_zscore' + '.csv', result_html_prefix=str('Download table with z-score (median expression) values for ' + query + ' in various tissue types: ')))"
   ]
  },
  {
   "cell_type": "code",
   "execution_count": null,
   "metadata": {},
   "outputs": [],
   "source": [
    "%%appyter code_exec\n",
    "plot_bar(cell_line_specific_lncRNA[0:30],query,'Cell Line','Z-score (Median Expression)','tissue_and_cell_line_expression/'+query.replace('/','-')+'_zscore_cell_line_expression')\n",
    "display(Markdown(f\"*Figure 7. Z-score (median expression) for the lncRNA {query} in the top 30 cell lines.*\"))\n",
    "display(FileLink('tissue_and_cell_line_expression/'+query.replace('/','-')+'_zscore_cell_line_expression'+'.png', result_html_prefix=str('Download Figure 7 (PNG): ')))\n",
    "display(FileLink('tissue_and_cell_line_expression/'+query.replace('/','-')+'_zscore_cell_line_expression'+'.svg', result_html_prefix=str('Download Figure 7 (SVG): ')))\n",
    "display(FileLink('tissue_and_cell_line_expression/'+query.replace('/','-')+'_zscore_cell_line_expression'+'.pdf', result_html_prefix=str('Download Figure 7 (PDF): ')))\n",
    "display(FileLink(\"tissue_and_cell_line_expression/\" + query.replace('/','-') + '_cell_line_zscore' + '.csv', result_html_prefix=str('Download table with z-score (median expression) values for ' + query + ' in various cell lines: ')))"
   ]
  },
  {
   "cell_type": "code",
   "execution_count": null,
   "metadata": {},
   "outputs": [],
   "source": [
    "%%appyter markdown\n",
    "### Visualizing all lncRNAs based on their gene expression similarity across tissues"
   ]
  },
  {
   "cell_type": "code",
   "execution_count": null,
   "metadata": {},
   "outputs": [],
   "source": [
    "%%appyter markdown\n",
    "We applied UMAP[8] to 3,000 randomly selected samples from Recount3[4] to visualize lncRNA expression patterns. Samples were first log2 transformed and quantile normalized, then UMAP was applied to the lncRNA expression data with samples as features. Each data point represents a single lncRNA (n=15,862). Use the drop-down menu to color lncRNAs by expression z-score in a specific tissue. The black arrow is pointing to the location of {{query.raw_value}}."
   ]
  },
  {
   "cell_type": "code",
   "execution_count": null,
   "metadata": {},
   "outputs": [],
   "source": [
    "# Import UMAP coordinates\n",
    "umap_results_df = pd.read_csv(s3.open('storage/lncRNA_Appyter/v0.1.0/umap_tissues.csv', 'rb'),header=0, index_col=0) \n",
    "\n",
    "# Find z-score (median expression) for each lncRNA in each tissue\n",
    "tissue_expr_median_expr = pd.read_csv(s3.open('storage/lncRNA_Appyter/v0.0.6/lncRNA_zscore_median_expr_by_tissue_filtered.csv', 'rb'),header=0, index_col=0) \n",
    "\n",
    "values_dict_tz = dict()\n",
    "unique_tissues = np.unique(tissue_expr_zscore.columns)\n",
    "for t in unique_tissues:\n",
    "    values_dict_tz[t] = list(tissue_expr_zscore[t])\n",
    "\n",
    "# Create folder for tissue and cell line specific expression\n",
    "if not os.path.exists(\"umap/\"):\n",
    "    os.makedirs(\"umap/cell_lines/figures/static\", exist_ok=True)\n",
    "    os.makedirs(\"umap/tissues/figures/static\", exist_ok=True)\n",
    "    \n",
    "plot_dynamic_scatter(umap_df=umap_results_df , values_dict=values_dict_tz,option_list=list(unique_tissues) ,sample_names=list(umap_results_df.index),caption_text='UMAP was applied to 3,000 randomly selected samples from Recount3. Each data point represents a lncRNA (n=15,862) and are colored by z-score (median expression) in ', figure_counter=8,category_list_dict=None, category=False,dropdown=True,color_by_title='Z-score',highlight_query=query,first_selection=list(tissue_specific_lncRNA.index)[0],static_images_save = list(tissue_specific_lncRNA.index[0:1]), file_path='umap/tissues/figures/')"
   ]
  },
  {
   "cell_type": "code",
   "execution_count": null,
   "metadata": {},
   "outputs": [],
   "source": [
    "%%appyter markdown\n",
    "### Visualizing all lncRNAs based on their gene expression similarity across cell lines "
   ]
  },
  {
   "cell_type": "code",
   "execution_count": null,
   "metadata": {},
   "outputs": [],
   "source": [
    "%%appyter markdown\n",
    "We applied UMAP[8] to 3,000 randomly selected samples from Recount3[4] to visualize lncRNA expression patterns. Samples were first log2 transformed and quantile normalized, then UMAP was applied to the lncRNA expression data with samples as features. Each data point represents a single lncRNA (n=15,862). Use the drop-down menu to color lncRNAs by expression z-score in a specific cell line. The black arrow is pointing to the location of {{query.raw_value}}."
   ]
  },
  {
   "cell_type": "code",
   "execution_count": null,
   "metadata": {},
   "outputs": [],
   "source": [
    "%%appyter code_exec\n",
    "# Find z-score (median expression) for each lncRNA in each cell line\n",
    "cell_line_expr_median_expr = pd.read_csv(s3.open('storage/lncRNA_Appyter/v0.0.6/lncRNA_zscore_median_expr_by_cell_line_filtered.csv', 'rb'),header=0, index_col=0) \n",
    "\n",
    "values_dict_cz = dict()\n",
    "unique_cell_lines = np.unique(cell_line_expr_zscore.columns)\n",
    "for t in unique_cell_lines:\n",
    "    values_dict_cz[t] = list(cell_line_expr_zscore[t])\n",
    "    \n",
    "plot_dynamic_scatter(umap_df=umap_results_df, values_dict=values_dict_cz,option_list=list(unique_cell_lines) ,sample_names=list(umap_results_df.index),caption_text='UMAP was applied to 3,000 randomly selected samples from Recount3. Each data point represents a lncRNA (n=15,862) and are colored by z-score (median expression) in ', figure_counter=9,category_list_dict=None, category=False,dropdown=True,color_by_title='Z-score',highlight_query=query,first_selection=list(cell_line_specific_lncRNA.index)[0], static_images_save = list(cell_line_specific_lncRNA.index[0:1]), file_path='umap/cell_lines/figures/')"
   ]
  },
  {
   "cell_type": "code",
   "execution_count": null,
   "metadata": {},
   "outputs": [],
   "source": [
    "%%appyter markdown\n",
    "### L1000 small molecules predicted to modulate {{query.raw_value}}"
   ]
  },
  {
   "cell_type": "code",
   "execution_count": null,
   "metadata": {},
   "outputs": [],
   "source": [
    "%%appyter markdown\n",
    "~1.4 million Level 5 L1000 chemical perturbation gene expression signatures were downloaded from SigCom LINCS (https://maayanlab.cloud/sigcom-lincs)[9]. For each unique signature and lncRNA pair, a mean Pearson correlation coefficient was computed by taking the average Pearson coefficient between the lncRNA and all genes in the signature. All 15,862 lncRNAs were then ranked by mean Pearson correlation coefficient, and the top 1,000 lncRNAs with the highest coefficients were retained for each signature. The top 500 lncRNA-L1000 signature associations are reported here for {{query.raw_value}}, separated by direction. If {{query.raw_value}} is highly correlated with the up-regulated genes for a specific small molecule, then this small molecule is predicted to up-regulate {{query.raw_value}}."
   ]
  },
  {
   "cell_type": "code",
   "execution_count": null,
   "metadata": {},
   "outputs": [],
   "source": [
    "%%appyter markdown\n",
    "### L1000 small molecules predicted to up-regulate {{query.raw_value}}"
   ]
  },
  {
   "cell_type": "code",
   "execution_count": null,
   "metadata": {},
   "outputs": [],
   "source": [
    "%%appyter markdown\n",
    "The prioritized small molecules below are predicted to specifically up-regulate {{query.raw_value}}."
   ]
  },
  {
   "cell_type": "code",
   "execution_count": null,
   "metadata": {},
   "outputs": [],
   "source": [
    "%%appyter code_exec\n",
    "# Load predicted small molecules to modulate the lncRNA\n",
    "l1000_prediction_file = pd.read_csv(s3.open('storage/lncRNA_Appyter/v0.1.0/l1000_sm_lncRNAs_pvalues.tsv', 'rb'),sep='\\t',header=None, index_col=0)\n",
    "if query in list(l1000_prediction_file.index):\n",
    "    l1000_prediction_file = l1000_prediction_file.loc[query]\n",
    "    l1000_prediction_file = list(l1000_prediction_file.dropna(axis=0))\n",
    "    drugs_up = []\n",
    "    drugs_up_corr = []\n",
    "    drugs_up_pval = []\n",
    "    drugs_down = []\n",
    "    drugs_down_corr=[]\n",
    "    drugs_down_pval = []\n",
    "    for sig in l1000_prediction_file:\n",
    "        sig_id = sig.split(',')[0]\n",
    "        sig_id_corr = float(sig.split(',')[1])\n",
    "        sig_pval = float(sig.split(',')[2])\n",
    "        if sig_id.split(' ')[1] == 'down':\n",
    "            drugs_down.append(sig_id)\n",
    "            drugs_down_corr.append(sig_id_corr)\n",
    "            drugs_down_pval.append(sig_pval)\n",
    "        else:\n",
    "            drugs_up.append(sig_id)\n",
    "            drugs_up_corr.append(sig_id_corr)\n",
    "            drugs_up_pval.append(sig_pval)\n",
    "\n",
    "    up_results = pd.DataFrame({'L1000 Signature ID':drugs_up,'Drug': [x.split('_')[4] for x in drugs_up],'Up/Down':[x.split(' ')[1] for x in drugs_up],'Dose':[x.split(' ')[0].split('_')[-1] for x in drugs_up],'Cell line':[x.split('_')[1] for x in drugs_up],'Time point':[x.split('_')[2] for x in drugs_up],'Mean Pearson Correlation':drugs_up_corr,'P-value':drugs_up_pval})\n",
    "    down_results = pd.DataFrame({'L1000 Signature ID':drugs_down,'Drug': [x.split('_')[4] for x in drugs_down],'Up/Down':[x.split(' ')[1] for x in drugs_down],'Dose':[x.split(' ')[0].split('_')[-1] for x in drugs_down],'Cell line':[x.split('_')[1] for x in drugs_down],'Time point':[x.split('_')[2] for x in drugs_down],'Mean Pearson Correlation':drugs_down_corr,'P-value':drugs_down_pval})\n",
    "else:\n",
    "    up_results = pd.DataFrame()\n",
    "    down_results = pd.DataFrame()"
   ]
  },
  {
   "cell_type": "code",
   "execution_count": null,
   "metadata": {},
   "outputs": [],
   "source": [
    "%%appyter code_exec\n",
    "# L1000 small molecules predicted to up-regulate the lncRNA of interest\n",
    "if len(up_results) > 0:\n",
    "    display(up_results[0:20])\n",
    "    display(Markdown(f\"*Table 7. L1000 small molecules predicted to up-regulate the lncRNA {query}.*\"))\n",
    "\n",
    "    # Create folder for tissue and cell line specific expression\n",
    "    if not os.path.exists(\"l1000_sm_predictions/\"):\n",
    "        os.makedirs(\"l1000_sm_predictions/\", exist_ok=True)\n",
    "    up_results.to_csv(\"l1000_sm_predictions/\" + query.replace('/','-') + '_l1000_sm_predictions_up' + '.csv')\n",
    "    display(FileLink(\"l1000_sm_predictions/\" + query.replace('/','-') + '_l1000_sm_predictions_up' + '.csv', result_html_prefix=str('Download Table 7: ')))\n",
    "else:\n",
    "    display(Markdown(f\"**There are no small molecules predicted to specifically up-regulate the expression of {query}.**\"))"
   ]
  },
  {
   "cell_type": "code",
   "execution_count": null,
   "metadata": {},
   "outputs": [],
   "source": [
    "%%appyter markdown\n",
    "### L1000 small molecules predicted to down-regulate {{query.raw_value}}"
   ]
  },
  {
   "cell_type": "code",
   "execution_count": null,
   "metadata": {},
   "outputs": [],
   "source": [
    "%%appyter markdown\n",
    "The prioritized small molecules below are predicted to specifically down-regulate {{query.raw_value}}."
   ]
  },
  {
   "cell_type": "code",
   "execution_count": null,
   "metadata": {},
   "outputs": [],
   "source": [
    "%%appyter code_exec\n",
    "# L1000 small molecules predicted to down-regulate the lncRNA of interest\n",
    "if len(down_results) > 0:\n",
    "    display(down_results[0:20])\n",
    "    display(Markdown(f\"*Table 8. L1000 small molecules predicted to down-regulate the lncRNA {query}.*\"))\n",
    "    # Create folder for tissue and cell line specific expression\n",
    "    if not os.path.exists(\"l1000_sm_predictions/\"):\n",
    "        os.makedirs(\"l1000_sm_predictions/\", exist_ok=True)\n",
    "    down_results.to_csv(\"l1000_sm_predictions/\" + query.replace('/','-') + '_l1000_sm_predictions_down' + '.csv')\n",
    "    display(FileLink(\"l1000_sm_predictions/\" + query.replace('/','-') + '_l1000_sm_predictions_down' + '.csv', result_html_prefix=str('Download Table 8: ')))\n",
    "else:\n",
    "    display(Markdown(f\"**There are no small molecules predicted to specifically down-regulate the expression of {query}.**\"))"
   ]
  },
  {
   "cell_type": "code",
   "execution_count": null,
   "metadata": {},
   "outputs": [],
   "source": [
    "# close h5 file\n",
    "f.close()"
   ]
  },
  {
   "cell_type": "markdown",
   "metadata": {},
   "source": [
    "### References\n",
    "[1] Frankish A, Diekhans M, Jungreis I, Lagarde J, Loveland Jane E, Mudge JM, Sisu C, Wright JC, Armstrong J, Barnes I: GENCODE 2021. Nucleic Acids Research 2021, 49(D1):D916-D923.\n",
    "\n",
    "[2] Howe KL, Achuthan P, Allen J, Allen J, Alvarez-Jarreta J, Amode MR, Armean IM, Azov AG, Bennett R, Bhai J: Ensembl 2021. Nucleic Acids Research 2021, 49(D1):D884-D891.\n",
    "\n",
    "[3] Tweedie S, Braschi B, Gray K, Jones TEM, Seal Ruth L, Yates B, Bruford EA: Genenames.org: the HGNC and VGNC resources in 2021. Nucleic Acids Research 2021, 49(D1):D939-D946.\n",
    "\n",
    "[4] Wilks C, Zheng SC, Chen FY, Charles R, Solomon B, Ling JP, Imada EL, Zhang D, Joseph L, Leek JT: recount3: summaries and queries for large-scale RNA-seq expression and splicing. bioRxiv 2021:2021.2005.2021.445138.\n",
    "\n",
    "[5] Xie Z, Bailey A, Kuleshov MV, Clarke DJB, Evangelista JE, Jenkins SL, Lachmann A, Wojciechowicz ML, Kropiwnicki E, Jagodnik KM: Gene Set Knowledge Discovery with Enrichr. Current Protocols 2021, 1(3):e90.\n",
    "\n",
    "[6] Chen EY, Tan CM, Kou Y, Duan Q, Wang Z, Meirelles GV, Clark NR, Ma’ayan A: Enrichr: interactive and collaborative HTML5 gene list enrichment analysis tool. BMC Bioinformatics 2013, 14(1):128.\n",
    "\n",
    "[7] Kuleshov MV, Jones MR, Rouillard AD, Fernandez NF, Duan Q, Wang Z, Koplev S, Jenkins SL, Jagodnik KM, Lachmann A: Enrichr: a comprehensive gene set enrichment analysis web server 2016 update. Nucleic Acids Research 2016, 44(W1):W90-W97.\n",
    "\n",
    "[8] McInnes L, Healy J, Melville J: Umap: Uniform manifold approximation and projection for dimension reduction. arXiv preprint arXiv:180203426 2018.\n",
    "\n",
    "[9] Evangelista et al. SigCom LINCS: Data and Metadata Search Engine for Gene Expression Signatures. 2021. In preparation."
   ]
  }
 ],
 "metadata": {
  "kernelspec": {
   "display_name": "Python 3.9",
   "language": "python",
   "name": "python3"
  },
  "language_info": {
   "codemirror_mode": {
    "name": "ipython",
    "version": 3
   },
   "file_extension": ".py",
   "mimetype": "text/x-python",
   "name": "python",
   "nbconvert_exporter": "python",
   "pygments_lexer": "ipython3",
   "version": "3.9.9"
  }
 },
 "nbformat": 4,
 "nbformat_minor": 4
}
