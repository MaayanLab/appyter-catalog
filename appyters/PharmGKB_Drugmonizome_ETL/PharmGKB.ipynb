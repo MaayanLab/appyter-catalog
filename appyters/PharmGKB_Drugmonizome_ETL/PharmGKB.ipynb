{
 "cells": [
  {
   "cell_type": "markdown",
   "metadata": {},
   "source": [
    "## Drugmonizome ETL: PharmGKB\n",
    "\n",
    "##### Author : Eryk Kropiwnicki | eryk.kropiwnicki@icahn.mssm.edu\n",
    "\n",
    "#### Data Source: https://www.pharmgkb.org/downloads"
   ]
  },
  {
   "cell_type": "code",
   "execution_count": null,
   "metadata": {},
   "outputs": [],
   "source": [
    "#%%appyter init\n",
    "from appyter import magic\n",
    "magic.init(lambda _=globals: _())"
   ]
  },
  {
   "cell_type": "code",
   "execution_count": null,
   "metadata": {},
   "outputs": [],
   "source": [
    "import os\n",
    "import sys\n",
    "import zipfile\n",
    "import datetime\n",
    "\n",
    "import pandas as pd\n",
    "import numpy as np\n",
    "import drugmonizome.utility_functions as uf\n",
    "import harmonizome.lookup as lookup"
   ]
  },
  {
   "cell_type": "code",
   "execution_count": null,
   "metadata": {},
   "outputs": [],
   "source": [
    "%load_ext autoreload\n",
    "%autoreload 2"
   ]
  },
  {
   "cell_type": "markdown",
   "metadata": {},
   "source": [
    "### Notebook Information"
   ]
  },
  {
   "cell_type": "code",
   "execution_count": null,
   "metadata": {},
   "outputs": [],
   "source": [
    "print('This notebook was run on:', datetime.date.today(), '\\nPython version:', sys.version)"
   ]
  },
  {
   "cell_type": "markdown",
   "metadata": {},
   "source": [
    "### Initializing Notebook"
   ]
  },
  {
   "cell_type": "code",
   "execution_count": null,
   "metadata": {},
   "outputs": [],
   "source": [
    "%%appyter hide_code\n",
    "\n",
    "{% do SectionField(\n",
    "    name='data',\n",
    "    title='Upload Data',\n",
    "    img='load_icon.png'\n",
    ") %}"
   ]
  },
  {
   "cell_type": "code",
   "execution_count": null,
   "metadata": {},
   "outputs": [],
   "source": [
    "%%appyter code_eval\n",
    "\n",
    "{% do DescriptionField(\n",
    "    name='description',\n",
    "    text='The example below was sourced from <a href=\"https://www.pharmgkb.org/downloads\" target=\"_blank\">https://www.pharmgkb.org/</a>. If clicking on the example does not work, it should be downloaded directly from the source website.',\n",
    "    section='data'\n",
    ") %}\n",
    "\n",
    "{% set data_file = FileField(\n",
    "    constraint='.*\\.zip$',\n",
    "    name='drug-attribute-relationships', \n",
    "    label='Drug-attribute relationship data (.zip)', \n",
    "    default='relationships.zip',\n",
    "    examples={\n",
    "        'relationships.zip': 'https://s3.pgkb.org/data/relationships.zip'\n",
    "    },\n",
    "    section='data'\n",
    ") %}\n",
    "\n",
    "{% set entity_type = ChoiceField(\n",
    "    name='entity_type',\n",
    "    label='Choose identifier type for exported small molecules',\n",
    "    choices=[\n",
    "        'Name',\n",
    "        'InChI Key',\n",
    "    ],\n",
    "    default='Name',\n",
    "    section='data'\n",
    ") %}\n",
    "\n",
    "{% set group = ChoiceField(\n",
    "    name='identifier',\n",
    "    label='Choose attribute group',\n",
    "    description='This will be used for the output file names.',\n",
    "    choices=['gene',\n",
    "             'variant'\n",
    "            ],\n",
    "    default='gene',\n",
    "    section='data'\n",
    ") %}"
   ]
  },
  {
   "cell_type": "code",
   "execution_count": null,
   "metadata": {},
   "outputs": [],
   "source": [
    "%%appyter markdown\n",
    "\n",
    "{% if group.value == 'gene' %}\n",
    "### Load Gene Mapping Dictionaries\n",
    "{% else %} \n",
    "{% endif %}"
   ]
  },
  {
   "cell_type": "code",
   "execution_count": null,
   "metadata": {},
   "outputs": [],
   "source": [
    "%%appyter code_exec\n",
    "\n",
    "{% if group.value == 'gene' %}\n",
    "symbol_lookup, geneid_lookup = lookup.get_lookups()\n",
    "{% else %} \n",
    "{% endif %}"
   ]
  },
  {
   "cell_type": "markdown",
   "metadata": {},
   "source": [
    "### Create Output Path"
   ]
  },
  {
   "cell_type": "code",
   "execution_count": null,
   "metadata": {},
   "outputs": [],
   "source": [
    "%%appyter code_exec\n",
    "\n",
    "output_name = 'pharmgkb'\n",
    "path = 'output/drugmonizome_pharmgkb'\n",
    "if not os.path.exists(path):\n",
    "    os.makedirs(path)"
   ]
  },
  {
   "cell_type": "markdown",
   "metadata": {},
   "source": [
    "### Load Drug-Variant Data"
   ]
  },
  {
   "cell_type": "code",
   "execution_count": null,
   "metadata": {},
   "outputs": [],
   "source": [
    "%%appyter code_exec\n",
    "\n",
    "with zipfile.ZipFile({{data_file}}) as zipf:\n",
    "    with zipf.open('relationships.tsv') as f:\n",
    "        df = pd.read_csv(f,\n",
    "                              delimiter = '\\t',\n",
    "                             usecols = ['Entity1_type','Entity1_name',\n",
    "                                       'Entity2_type', 'Entity2_id',\n",
    "                                       'Association'])\n",
    "df.head()"
   ]
  },
  {
   "cell_type": "code",
   "execution_count": null,
   "metadata": {},
   "outputs": [],
   "source": [
    "df.shape"
   ]
  },
  {
   "cell_type": "code",
   "execution_count": null,
   "metadata": {},
   "outputs": [],
   "source": [
    "%%appyter code_exec\n",
    "{% if group.value == 'variant' %}\n",
    "# Retaining relevant associations\n",
    "df = df[(df['Entity1_type'] == 'Haplotype') | (df['Entity1_type'] == 'Variant')]\n",
    "df = df[df['Entity2_type'] == 'Chemical']\n",
    "df = df[df['Association'] == 'associated']\n",
    "df.head()\n",
    "{% elif group.value == 'gene' %}\n",
    "df = df[(df['Entity1_type'] == 'Gene')]\n",
    "df = df[df['Entity2_type'] == 'Chemical']\n",
    "df = df[df['Association'] == 'associated']\n",
    "df.head()\n",
    "{% endif %}"
   ]
  },
  {
   "cell_type": "markdown",
   "metadata": {},
   "source": [
    "### Match PharmGKB chemical ids to DrugBank drugs\n",
    "#### Source files / scripts for mapping files: https://github.com/MaayanLab/Drugmonizome/tree/master/drugsetlibraries/metadata"
   ]
  },
  {
   "cell_type": "code",
   "execution_count": null,
   "metadata": {},
   "outputs": [],
   "source": [
    "# Import DrugBank mapping file\n",
    "drugbank_mapping = pd.read_csv('https://raw.githubusercontent.com/MaayanLab/Drugmonizome/master/drugsetlibraries/metadata/mapping_files/pharmgkb.tsv',\n",
    "                               sep = '\\t')\n",
    "drugbank_mapping['name'] = drugbank_mapping['name'].str.lower()\n",
    "drugbank_mapping.head()"
   ]
  },
  {
   "cell_type": "code",
   "execution_count": null,
   "metadata": {},
   "outputs": [],
   "source": [
    "df = df.merge(drugbank_mapping, left_on = 'Entity2_id', right_on = 'pharmgkb_id')\n",
    "df.head()"
   ]
  },
  {
   "cell_type": "markdown",
   "metadata": {},
   "source": [
    "### Index dataframe by user selected small molecule identifier"
   ]
  },
  {
   "cell_type": "code",
   "execution_count": null,
   "metadata": {},
   "outputs": [],
   "source": [
    "%%appyter code_exec\n",
    "\n",
    "{% if entity_type.raw_value == 'InChI Key' %}\n",
    "# Index small molecules by InChI Key\n",
    "df_output = df[['inchi_key','Entity1_name']]\n",
    "df_output.set_index('inchi_key', inplace = True)\n",
    "\n",
    "{% else %}\n",
    "# Index small molecules by name\n",
    "df_output = df[['name','Entity1_name']]\n",
    "df_output.set_index('name', inplace = True)\n",
    "\n",
    "{% endif %}"
   ]
  },
  {
   "cell_type": "code",
   "execution_count": null,
   "metadata": {},
   "outputs": [],
   "source": [
    "%%appyter markdown\n",
    "{% if group.value == 'gene' %}\n",
    "### Matching Gene Symbols to Approved Entrez Gene Symbols\n",
    "{% else %}\n",
    "{% endif %}"
   ]
  },
  {
   "cell_type": "code",
   "execution_count": null,
   "metadata": {},
   "outputs": [],
   "source": [
    "%%appyter code_exec\n",
    "{% if group.value == 'gene' %}\n",
    "df_output = uf.map_symbols(df_output, symbol_lookup)\n",
    "df_output.shape\n",
    "{% else %}\n",
    "{% endif %}"
   ]
  },
  {
   "cell_type": "markdown",
   "metadata": {},
   "source": [
    "## Analyze Data"
   ]
  },
  {
   "cell_type": "markdown",
   "metadata": {},
   "source": [
    "### Export Edge List"
   ]
  },
  {
   "cell_type": "code",
   "execution_count": null,
   "metadata": {},
   "outputs": [],
   "source": [
    "uf.save_data(df_output, path, output_name + '_edge_list', \n",
    "        ext='tsv', compression='gzip')"
   ]
  },
  {
   "cell_type": "markdown",
   "metadata": {},
   "source": [
    "### Create Binary Matrix"
   ]
  },
  {
   "cell_type": "code",
   "execution_count": null,
   "metadata": {},
   "outputs": [],
   "source": [
    "binary_matrix = uf.binary_matrix(df_output)\n",
    "binary_matrix.head()"
   ]
  },
  {
   "cell_type": "code",
   "execution_count": null,
   "metadata": {},
   "outputs": [],
   "source": [
    "binary_matrix.shape"
   ]
  },
  {
   "cell_type": "code",
   "execution_count": null,
   "metadata": {},
   "outputs": [],
   "source": [
    "uf.save_data(binary_matrix, path, output_name + '_binary_matrix', \n",
    "            compression='npz', dtype=np.uint8)"
   ]
  },
  {
   "cell_type": "markdown",
   "metadata": {},
   "source": [
    "### Create Drug and Attribute Set Library"
   ]
  },
  {
   "cell_type": "code",
   "execution_count": null,
   "metadata": {},
   "outputs": [],
   "source": [
    "uf.save_setlib(binary_matrix, 'drug', path, output_name + '_drug_setlibrary')"
   ]
  },
  {
   "cell_type": "code",
   "execution_count": null,
   "metadata": {},
   "outputs": [],
   "source": [
    "uf.save_setlib(binary_matrix, 'attribute', path, output_name + '_attribute_setlibrary')"
   ]
  },
  {
   "cell_type": "markdown",
   "metadata": {},
   "source": [
    "### Create Attribute Similarity Matrix"
   ]
  },
  {
   "cell_type": "code",
   "execution_count": null,
   "metadata": {},
   "outputs": [],
   "source": [
    "attribute_similarity_matrix = uf.similarity_matrix(binary_matrix.T, 'jaccard', sparse=True)\n",
    "attribute_similarity_matrix.head()"
   ]
  },
  {
   "cell_type": "code",
   "execution_count": null,
   "metadata": {},
   "outputs": [],
   "source": [
    "uf.save_data(attribute_similarity_matrix, path,\n",
    "            output_name + '_attribute_similarity_matrix', \n",
    "            compression='npz', symmetric=True, dtype=np.float32)"
   ]
  },
  {
   "cell_type": "markdown",
   "metadata": {},
   "source": [
    "### Create Drug Similarity Matrix"
   ]
  },
  {
   "cell_type": "code",
   "execution_count": null,
   "metadata": {},
   "outputs": [],
   "source": [
    "drug_similarity_matrix = uf.similarity_matrix(binary_matrix, 'jaccard', sparse=True)\n",
    "drug_similarity_matrix.head()"
   ]
  },
  {
   "cell_type": "code",
   "execution_count": null,
   "metadata": {},
   "outputs": [],
   "source": [
    "uf.save_data(drug_similarity_matrix, path,\n",
    "            output_name + '_drug_similarity_matrix', \n",
    "            compression='npz', symmetric=True, dtype=np.float32)"
   ]
  },
  {
   "cell_type": "markdown",
   "metadata": {},
   "source": [
    "### Create download folder with all outputs"
   ]
  },
  {
   "cell_type": "code",
   "execution_count": null,
   "metadata": {},
   "outputs": [],
   "source": [
    "uf.archive(path)"
   ]
  },
  {
   "cell_type": "markdown",
   "metadata": {},
   "source": [
    "### Link to the output folder: [Download](./output_archive.zip)"
   ]
  }
 ],
 "metadata": {
  "kernelspec": {
   "display_name": "Python 3",
   "language": "python",
   "name": "python3"
  },
  "language_info": {
   "codemirror_mode": {
    "name": "ipython",
    "version": 3
   },
   "file_extension": ".py",
   "mimetype": "text/x-python",
   "name": "python",
   "nbconvert_exporter": "python",
   "pygments_lexer": "ipython3",
   "version": "3.8.3"
  }
 },
 "nbformat": 4,
 "nbformat_minor": 2
}
