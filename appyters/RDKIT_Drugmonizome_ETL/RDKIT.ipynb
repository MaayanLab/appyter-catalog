{
 "cells": [
  {
   "cell_type": "markdown",
   "metadata": {},
   "source": [
    "## Drugmonizome ETL: RDKIT\n",
    "\n",
    "##### Author : Eryk Kropiwnicki | eryk.kropiwnicki@icahn.mssm.edu\n"
   ]
  },
  {
   "cell_type": "code",
   "execution_count": null,
   "metadata": {},
   "outputs": [],
   "source": [
    "# appyter init\n",
    "from appyter import magic\n",
    "magic.init(lambda _=globals: _())"
   ]
  },
  {
   "cell_type": "code",
   "execution_count": null,
   "metadata": {},
   "outputs": [],
   "source": [
    "import os\n",
    "import sys\n",
    "import zipfile\n",
    "import datetime\n",
    "\n",
    "import pandas as pd\n",
    "import numpy as np\n",
    "from rdkit import Chem\n",
    "from rdkit import DataStructs\n",
    "from rdkit.Chem import MACCSkeys\n",
    "from rdkit.Chem import PandasTools\n",
    "from rdkit.Chem import AllChem\n",
    "from rdkit import Avalon\n",
    "from rdkit.Chem.AtomPairs import Pairs\n",
    "from rdkit.Chem import rdMolDescriptors\n",
    "from rdkit.Chem.Fingerprints import FingerprintMols\n",
    "\n",
    "import drugmonizome.utility_functions as uf"
   ]
  },
  {
   "cell_type": "code",
   "execution_count": null,
   "metadata": {},
   "outputs": [],
   "source": [
    "%load_ext autoreload\n",
    "%autoreload 2"
   ]
  },
  {
   "cell_type": "markdown",
   "metadata": {},
   "source": [
    "### Notebook Information"
   ]
  },
  {
   "cell_type": "code",
   "execution_count": null,
   "metadata": {},
   "outputs": [],
   "source": [
    "print('This notebook was run on:', datetime.date.today(), '\\nPython version:', sys.version)"
   ]
  },
  {
   "cell_type": "markdown",
   "metadata": {},
   "source": [
    "### Initializing Notebook"
   ]
  },
  {
   "cell_type": "code",
   "execution_count": null,
   "metadata": {},
   "outputs": [],
   "source": [
    "%%appyter hide_code\n",
    "\n",
    "{% do SectionField(\n",
    "    name='data',\n",
    "    title='Upload Data',\n",
    "    img='load_icon.png'\n",
    ") %}"
   ]
  },
  {
   "cell_type": "code",
   "execution_count": null,
   "metadata": {},
   "outputs": [],
   "source": [
    "%%appyter code_eval\n",
    "\n",
    "{% do DescriptionField(\n",
    "    name='description',\n",
    "    text='This notebook allows for the conversion of SMILES string representations of small molecules into molecular fingerprints',\n",
    "    section='data'\n",
    ") %}\n",
    "\n",
    "{% set data_file = FileField(\n",
    "    constraint='.*\\.txt$',\n",
    "    name='SMILES representations of small molecules', \n",
    "    label='SMILES representations of small molecules (.txt)',\n",
    "    description = 'SMILES string representations of small molecules should be in a text file and separated by newlines. \\\n",
    "              If no file is selected, a default list will be used.',\n",
    "    default='smiles.txt',\n",
    "    examples={\n",
    "        'smiles.txt': 'https://appyters.maayanlab.cloud/storage/Drugmonizome_ETL_Appyters/RDKIT_smiles.txt'\n",
    "    },\n",
    "    section='data'\n",
    ") %}\n",
    "\n",
    "{% set fingerprint_type = ChoiceField(\n",
    "    name='fingerprint_type',\n",
    "    label='Choose chemical fingerprinting method',\n",
    "    choices=[\n",
    "        'MACCS Keys',\n",
    "        'Morgan Fingerprints',\n",
    "        'Avalon Fingerprints',\n",
    "        'AtomPair Fingerprints',\n",
    "        'Topological Fingerprints',\n",
    "        'RDKit Fingerprints',\n",
    "    ],\n",
    "    default= 'MACCS Keys',\n",
    "    section='data'\n",
    ") %}"
   ]
  },
  {
   "cell_type": "markdown",
   "metadata": {},
   "source": [
    "### Create Output Path"
   ]
  },
  {
   "cell_type": "code",
   "execution_count": null,
   "metadata": {},
   "outputs": [],
   "source": [
    "%%appyter code_exec\n",
    "\n",
    "output_name = 'rdkit_' + '{{ fingerprint_type }}'\n",
    "path = 'output/drugmonizome_rdkit_' + '{{ fingerprint_type }}'\n",
    "if not os.path.exists(path):\n",
    "    os.makedirs(path)"
   ]
  },
  {
   "cell_type": "markdown",
   "metadata": {},
   "source": [
    "### Load Data"
   ]
  },
  {
   "cell_type": "code",
   "execution_count": null,
   "metadata": {},
   "outputs": [],
   "source": [
    "%%appyter code_exec\n",
    "df = pd.read_table({{data_file}})\n",
    "df.columns = ['SMILES']\n",
    "df.drop_duplicates(inplace = True)\n",
    "df.head()"
   ]
  },
  {
   "cell_type": "code",
   "execution_count": null,
   "metadata": {},
   "outputs": [],
   "source": [
    "molecule = [Chem.MolFromSmiles(x) for x in df['SMILES']]\n",
    "df.loc[:,'Molecule'] = pd.Series(molecule, index=df.index)"
   ]
  },
  {
   "cell_type": "code",
   "execution_count": null,
   "metadata": {},
   "outputs": [],
   "source": [
    "# Drop invalid molecular representations\n",
    "df.dropna(inplace = True)\n",
    "df.shape"
   ]
  },
  {
   "cell_type": "code",
   "execution_count": null,
   "metadata": {},
   "outputs": [],
   "source": [
    "# Create list of drugs to index subsequent dataframes by\n",
    "all_drugs = list(df['SMILES'])"
   ]
  },
  {
   "cell_type": "code",
   "execution_count": null,
   "metadata": {},
   "outputs": [],
   "source": [
    "%%appyter markdown\n",
    "### {{ fingerprint_type }}"
   ]
  },
  {
   "cell_type": "code",
   "execution_count": null,
   "metadata": {},
   "outputs": [],
   "source": [
    "%%appyter code_exec\n",
    "{%if 'MACCS Keys' == fingerprint_type.value%}\n",
    "# Generating molecule bit vectors \n",
    "maccs_fps = [MACCSkeys.GenMACCSKeys(x) for x in df['Molecule']]\n",
    "# Converting bit vectors into binary array \n",
    "maccs_np_fps = []\n",
    "for fp in maccs_fps:\n",
    "    arr = np.zeros((1,))\n",
    "    DataStructs.ConvertToNumpyArray(fp, arr)\n",
    "    maccs_np_fps.append(arr)\n",
    "df_fps = pd.DataFrame(maccs_np_fps, index = all_drugs)\n",
    "\n",
    "{%elif 'Morgan Fingerprints' == fingerprint_type.value%}\n",
    "# change radius and useFeatures = True as needed \n",
    "info = {}\n",
    "morg_fps = [AllChem.GetMorganFingerprintAsBitVect(x,4,bitInfo=info) for x in df['Molecule']]\n",
    "# Converting bit vectors into binary array \n",
    "morg_np_fps = []\n",
    "for fp in morg_fps:\n",
    "    arr = np.zeros((1,))\n",
    "    DataStructs.ConvertToNumpyArray(fp, arr)\n",
    "    morg_np_fps.append(arr)\n",
    "df_fps = pd.DataFrame(morg_np_fps, index = all_drugs)\n",
    "\n",
    "{%elif 'Avalon Fingerprints' == fingerprint_type.value%}\n",
    "avalon_fps = [Avalon.pyAvalonTools.GetAvalonFP(x) for x in df['Molecule']]\n",
    "avalon_np_fps = []\n",
    "for fp in avalon_fps:\n",
    "    arr = np.zeros((1,))\n",
    "    DataStructs.ConvertToNumpyArray(fp, arr)\n",
    "    avalon_np_fps.append(arr)\n",
    "df_fps = pd.DataFrame(avalon_np_fps, index = all_drugs)\n",
    "\n",
    "{%elif 'AtomPair Fingerprints' == fingerprint_type.value%}\n",
    "atom_pairs_fps = [rdMolDescriptors.GetHashedAtomPairFingerprintAsBitVect(x) for x in df['Molecule']]\n",
    "ap_np_fps = []\n",
    "for fp in atom_pairs_fps:\n",
    "    arr = np.zeros((1,))\n",
    "    DataStructs.ConvertToNumpyArray(fp, arr)\n",
    "    ap_np_fps.append(arr)\n",
    "df_fps = pd.DataFrame(ap_np_fps, index = all_drugs)\n",
    "\n",
    "{%elif 'Topological Fingerprints' == fingerprint_type.value%}\n",
    "top_fps = [FingerprintMols.FingerprintMol(x , minPath = 1,\n",
    "                                          maxPath = 7, fpSize = 2048, bitsPerHash = 2,\n",
    "                                          useHs = True, tgtDensity = 0, minSize = 128) for x in df['Molecule']]\n",
    "top_np_fps = []\n",
    "for fp in top_fps:\n",
    "    arr = np.zeros((1,))\n",
    "    DataStructs.ConvertToNumpyArray(fp, arr)\n",
    "    top_np_fps.append(arr)\n",
    "df_fps = pd.DataFrame(top_np_fps, index = all_drugs)\n",
    "\n",
    "{%elif 'RDKit Fingerprints' == fingerprint_type.value%}\n",
    "rdk_fps = [Chem.RDKFingerprint(x,maxPath=2) for x in df['Molecule']]\n",
    "rdk_np_fps = []\n",
    "for fp in rdk_fps:\n",
    "    arr = np.zeros((1,))\n",
    "    DataStructs.ConvertToNumpyArray(fp, arr)\n",
    "    rdk_np_fps.append(arr)\n",
    "df_fps = pd.DataFrame(rdk_np_fps, index = all_drugs)\n",
    "\n",
    "{%else%}\n",
    "{%endif%}\n",
    "\n",
    "\n",
    "# Renaming column labels #\n",
    "column_labels = []\n",
    "for col in df_fps.columns:\n",
    "    column_labels.append('{{fingerprint_type}}'.split(' ')[0]+ str(col))\n",
    "df_fps.columns = column_labels\n",
    "df_fps.shape"
   ]
  },
  {
   "cell_type": "markdown",
   "metadata": {},
   "source": [
    "## Analyze Data"
   ]
  },
  {
   "cell_type": "markdown",
   "metadata": {},
   "source": [
    "### Export binary matrix"
   ]
  },
  {
   "cell_type": "code",
   "execution_count": null,
   "metadata": {},
   "outputs": [],
   "source": [
    "df_fps.head()"
   ]
  },
  {
   "cell_type": "code",
   "execution_count": null,
   "metadata": {},
   "outputs": [],
   "source": [
    "uf.save_data(df_fps, path, output_name + '_binary_matrix', \n",
    "            compression='npz', dtype=np.uint8)"
   ]
  },
  {
   "cell_type": "markdown",
   "metadata": {},
   "source": [
    "### Create drug and attribute set library"
   ]
  },
  {
   "cell_type": "code",
   "execution_count": null,
   "metadata": {},
   "outputs": [],
   "source": [
    "uf.save_setlib(df_fps, 'drug', path, output_name + '_drug_setlibrary')"
   ]
  },
  {
   "cell_type": "code",
   "execution_count": null,
   "metadata": {},
   "outputs": [],
   "source": [
    "uf.save_setlib(df_fps, 'attribute', path, output_name + '_attribute_setlibrary')"
   ]
  },
  {
   "cell_type": "markdown",
   "metadata": {},
   "source": [
    "### Create Attribute Similarity Matrix"
   ]
  },
  {
   "cell_type": "code",
   "execution_count": null,
   "metadata": {},
   "outputs": [],
   "source": [
    "attribute_similarity_matrix = uf.similarity_matrix(df_fps.T, 'jaccard', sparse=True)\n",
    "attribute_similarity_matrix.head()"
   ]
  },
  {
   "cell_type": "code",
   "execution_count": null,
   "metadata": {},
   "outputs": [],
   "source": [
    "uf.save_data(attribute_similarity_matrix, path,\n",
    "            output_name + '_attribute_similarity_matrix', \n",
    "            compression='npz', symmetric=True, dtype=np.float32)"
   ]
  },
  {
   "cell_type": "markdown",
   "metadata": {},
   "source": [
    "### Create Drug Similarity Matrix"
   ]
  },
  {
   "cell_type": "code",
   "execution_count": null,
   "metadata": {},
   "outputs": [],
   "source": [
    "drug_similarity_matrix = uf.similarity_matrix(df_fps, 'jaccard', sparse=True)\n",
    "drug_similarity_matrix.head()"
   ]
  },
  {
   "cell_type": "code",
   "execution_count": null,
   "metadata": {},
   "outputs": [],
   "source": [
    "uf.save_data(drug_similarity_matrix, path,\n",
    "            output_name + '_drug_similarity_matrix', \n",
    "            compression='npz', symmetric=True, dtype=np.float32)"
   ]
  },
  {
   "cell_type": "markdown",
   "metadata": {},
   "source": [
    "### Create download folder with all outputs"
   ]
  },
  {
   "cell_type": "code",
   "execution_count": null,
   "metadata": {},
   "outputs": [],
   "source": [
    "uf.archive(path)"
   ]
  },
  {
   "cell_type": "markdown",
   "metadata": {},
   "source": [
    "### Link to the output folder: [Download](./output_archive.zip)"
   ]
  }
 ],
 "metadata": {
  "kernelspec": {
   "display_name": "my-rdkit-env",
   "language": "python",
   "name": "my-rdkit-env"
  },
  "language_info": {
   "codemirror_mode": {
    "name": "ipython",
    "version": 3
   },
   "file_extension": ".py",
   "mimetype": "text/x-python",
   "name": "python",
   "nbconvert_exporter": "python",
   "pygments_lexer": "ipython3",
   "version": "3.7.7"
  }
 },
 "nbformat": 4,
 "nbformat_minor": 4
}
