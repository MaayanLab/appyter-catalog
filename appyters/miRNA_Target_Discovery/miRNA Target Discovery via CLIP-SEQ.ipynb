{
 "cells": [
  {
   "cell_type": "code",
   "execution_count": null,
   "metadata": {},
   "outputs": [],
   "source": [
    "#%%appyter init\n",
    "from appyter import magic\n",
    "magic.init(lambda _=globals: _())"
   ]
  },
  {
   "cell_type": "markdown",
   "metadata": {},
   "source": [
    "# miRNA Target Discovery via CLIP-SEQ"
   ]
  },
  {
   "cell_type": "code",
   "execution_count": null,
   "metadata": {},
   "outputs": [],
   "source": [
    "import json\n",
    "import pandas as pd\n",
    "import numpy as np\n",
    "import pybedtools\n",
    "import requests\n",
    "import base64\n",
    "import seaborn as sns\n",
    "import matplotlib.pyplot as plt\n",
    "import time\n",
    "from urllib.parse import urlparse\n",
    "from IPython.display import Markdown, display\n",
    "\n",
    "from matplotlib.ticker import MaxNLocator"
   ]
  },
  {
   "cell_type": "code",
   "execution_count": null,
   "metadata": {},
   "outputs": [],
   "source": [
    "%%appyter hide_code\n",
    "\n",
    "{% do SectionField(\n",
    "    name='DCLIP',\n",
    "    title='1. Upload dCLIP output',\n",
    "    subtitle='Upload results from running dCLIP (https://qbrc.swmed.edu/softwares.php).',\n",
    "    img='tilde.png'    \n",
    ") %}\n",
    "\n",
    "{% do SectionField(\n",
    "    name='GENOME',\n",
    "    title='2. Choose the genome',\n",
    "    subtitle='Choose the genome used for your study, you can also upload custom bed files',\n",
    "    img='dna.png'\n",
    "    \n",
    ") %}\n",
    "\n",
    "{% do SectionField(\n",
    "    name='ENRICHMENT',\n",
    "    title='3. Choose Enrichr Libraries for Enrichment',\n",
    "    subtitle='Choose libraries to use for enrichment',\n",
    "    img='enrichr.png'\n",
    "    \n",
    ") %}"
   ]
  },
  {
   "cell_type": "code",
   "execution_count": null,
   "metadata": {},
   "outputs": [],
   "source": [
    "# helper functions\n",
    "def is_url(text):\n",
    "    try:\n",
    "        result = urlparse(text)\n",
    "        return all([result.scheme, result.netloc])\n",
    "    except:\n",
    "        return False"
   ]
  },
  {
   "cell_type": "markdown",
   "metadata": {},
   "source": [
    "## Load input"
   ]
  },
  {
   "cell_type": "code",
   "execution_count": null,
   "metadata": {},
   "outputs": [],
   "source": [
    "%%appyter code_exec\n",
    "\n",
    "{% set dCLIP_experiment = ChoiceField(name='dCLIP experiment',\n",
    "                                  description='Condition for dCLIP',\n",
    "                                  label='type of experiment',\n",
    "                                  section=\"DCLIP\",\n",
    "                                  choices=['Perturbation v Negative Control', 'Perturbation v Positive Control'],\n",
    "                                  default='Perturbation v Negative Control').safe_value %}\n",
    "\n",
    "{% set dCLIP_output_file = FileField(\n",
    "    name='dclip_output_filename',\n",
    "    label='dclip output (dCLIP_output.txt)',\n",
    "    default='GSE137071_output.txt',\n",
    "    section=\"DCLIP\",\n",
    "    examples={\n",
    "        'GSE137071_output.txt': 'https://appyters.maayanlab.cloud/storage/miRNACLIPSEQ/sample_data/dCLIP_output.txt'\n",
    "    }\n",
    ") %}\n",
    "\n",
    "{% set dCLIP_summary_file = FileField(\n",
    "    name='dclip_summary_filename',\n",
    "    label='dclip output (dCLIP_summary.bed)',\n",
    "    default='GSE137071_summary.bed',\n",
    "    section=\"DCLIP\",\n",
    "    description='Upload dCLIP_summary.bed',\n",
    "    examples={\n",
    "        'GSE137071_summary.bed': 'https://appyters.maayanlab.cloud/storage/miRNACLIPSEQ/sample_data/dCLIP_summary.bed'\n",
    "    }\n",
    ") %}\n",
    "\n",
    "dCLIP_experiment = \"{{ dCLIP_experiment }}\"\n",
    "dCLIP_output_file = {{ dCLIP_output_file }}\n",
    "dCLIP_summary_file = {{ dCLIP_summary_file }}"
   ]
  },
  {
   "cell_type": "markdown",
   "metadata": {},
   "source": [
    "### dCLIP output\n",
    "`dCLIP_output.txt` is a tab separated file that contains information on differential binding of the samples. this is written in the state column.\n",
    "\n",
    "**state column**:\n",
    "\n",
    "0 refers to a bin with more binding in condition 2 than condition 1 <br>\n",
    "1 refers to a bin with equal binding in both conditions <br>\n",
    "2 refers to a bin with more binding in condition 1 than condition 2"
   ]
  },
  {
   "cell_type": "code",
   "execution_count": null,
   "metadata": {},
   "outputs": [],
   "source": [
    "dclip_output = pd.read_csv(dCLIP_output_file, sep=\"\\t\")\n",
    "dclip_output.head()"
   ]
  },
  {
   "cell_type": "markdown",
   "metadata": {},
   "source": [
    "**Table 1** dClip Output"
   ]
  },
  {
   "cell_type": "markdown",
   "metadata": {},
   "source": [
    "### dCLIP_summary.bed\n",
    "\n",
    "`dCLIP_summay.bed` contains the summary of the inference results. We note the following columns:\n",
    "\n",
    "**Column 3**: Cluster id <br>\n",
    "**Column 4**: \"The fifth column is the average binding strength of condition 1 in this continuous region if in state 2, the average binding strength of condition 2 if in state 0 and 0 if in state 1\""
   ]
  },
  {
   "cell_type": "code",
   "execution_count": null,
   "metadata": {},
   "outputs": [],
   "source": [
    "dCLIP_summary = pybedtools.BedTool(dCLIP_summary_file)    \n",
    "dCLIP_summary.head()"
   ]
  },
  {
   "cell_type": "markdown",
   "metadata": {},
   "source": [
    "#### Number of clusters"
   ]
  },
  {
   "cell_type": "code",
   "execution_count": null,
   "metadata": {},
   "outputs": [],
   "source": [
    "len(dclip_output.id.unique())"
   ]
  },
  {
   "cell_type": "code",
   "execution_count": null,
   "metadata": {},
   "outputs": [],
   "source": [
    "dclip_output[\"pos_concat\"] = dclip_output.id.astype(str) + dclip_output.chrom.astype(str) + dclip_output.position.astype(str)"
   ]
  },
  {
   "cell_type": "code",
   "execution_count": null,
   "metadata": {},
   "outputs": [],
   "source": [
    "%%appyter code_exec\n",
    "top_ranked = {{IntField(name='TopGenes', label='Top Genes', min=50, max=1000, default=500, section='DCLIP')}}"
   ]
  },
  {
   "cell_type": "markdown",
   "metadata": {},
   "source": [
    "## Genome files\n",
    "We load the bed files for the whole genes and 3' UTR as well as the gene name mapper"
   ]
  },
  {
   "cell_type": "code",
   "execution_count": null,
   "metadata": {},
   "outputs": [],
   "source": [
    "%%appyter code_exec\n",
    "genome_type = \"{{ ChoiceField(name='Genome',description='Name of Genome',label='Genome',choices=['UCSC human (hg38)', 'UCSC mouse (mm10)', 'custom'],default='UCSC human (hg38)',section='GENOME').safe_value }}\"\n",
    "\n",
    "whole_gene_bed_file = \"{{ FileField(name='whole_gene_bed_filename',label='Custom Whole Gene Bed File (Optional)',default='',description='Bed file for whole genes',section='GENOME').value }}\"\n",
    "\n",
    "utr_gene_bed_file = \"{{ FileField(name='utr_gene_bed_filename',label='3 UTR Bed File (Optional)',default='',description='Custom Bed file for 3 UTR',section='GENOME').value }}\"\n",
    "\n",
    "gene_name_map_file = \"{{ FileField(name='gene_name_map_file',label='Gene Mapping File (Optional)',default='',description='Custom Gene name mapper (Optional)',section='GENOME').value }}\""
   ]
  },
  {
   "cell_type": "code",
   "execution_count": null,
   "metadata": {},
   "outputs": [],
   "source": [
    "if not genome_type == \"custom\":\n",
    "    whole_gene_bed_file = \"wholegenes.bed\"\n",
    "    utr_gene_bed_file = \"3UTR.bed\"\n",
    "    gene_name_map_file = \"gene_name.tsv\"\n",
    "    if genome_type == \"UCSC mouse (mm10)\":\n",
    "        whole_gene_bed_url = \"https://appyters.maayanlab.cloud/storage/miRNACLIPSEQ/mm10/mm10.wholegenes.bed\"\n",
    "        utr_gene_bed_url = \"https://appyters.maayanlab.cloud/storage/miRNACLIPSEQ/mm10/mm10.3UTR.bed\"\n",
    "        gene_name_map_url = \"https://appyters.maayanlab.cloud/storage/miRNACLIPSEQ/mm10/mm10.gene_name.tsv\"\n",
    "    elif genome_type == \"UCSC human (hg38)\":\n",
    "        whole_gene_bed_url = \"https://appyters.maayanlab.cloud/storage/miRNACLIPSEQ/hg38/hg38.wholegenes.bed\"\n",
    "        utr_gene_bed_url = \"https://appyters.maayanlab.cloud/storage/miRNACLIPSEQ/hg38/hg38.3utr.bed\"\n",
    "        gene_name_map_url = \"https://appyters.maayanlab.cloud/storage/miRNACLIPSEQ/hg38/hg38.gene_name.tsv\"\n",
    "    \n",
    "    r = requests.get(whole_gene_bed_url)\n",
    "    with open(whole_gene_bed_file, 'wb') as f:\n",
    "        f.write(r.content)\n",
    "        \n",
    "    r = requests.get(utr_gene_bed_url)\n",
    "    with open(utr_gene_bed_file, 'wb') as f:\n",
    "        f.write(r.content)\n",
    "    \n",
    "    r = requests.get(gene_name_map_url)\n",
    "    with open(gene_name_map_file, 'wb') as f:\n",
    "        f.write(r.content)"
   ]
  },
  {
   "cell_type": "code",
   "execution_count": null,
   "metadata": {},
   "outputs": [],
   "source": [
    "bed_wholegenes = pybedtools.BedTool(whole_gene_bed_file)\n",
    "bed_3UTR = pybedtools.BedTool(utr_gene_bed_file)\n",
    "gene_names = pd.read_csv(gene_name_map_file, sep=\"\\t\", index_col=0).to_dict()[\"name2\"]"
   ]
  },
  {
   "cell_type": "markdown",
   "metadata": {},
   "source": [
    "## Extract differentially binding clusters\n",
    "Targets in the positive samples should have higher peaks than those in negative samples. Recall that:\n",
    "\n",
    "**state column**:\n",
    "\n",
    "0 refers to a bin with more binding in condition 2 than condition 1 <br>\n",
    "1 refers to a bin with equal binding in both conditions <br>\n",
    "2 refers to a bin with more binding in condition 1 than condition 2"
   ]
  },
  {
   "cell_type": "code",
   "execution_count": null,
   "metadata": {},
   "outputs": [],
   "source": [
    "state = 0 if dCLIP_experiment == \"Perturbation v Positive Control\" else 2\n",
    "pos_clusters = dclip_output[dclip_output.state==state]\n",
    "pos_clusters.loc[:,pos_clusters.columns != \"pos_concat\"].to_csv(\"positive_only.csv\")\n",
    "pos_clusters.head(10).loc[:,pos_clusters.columns != \"pos_concat\"]"
   ]
  },
  {
   "cell_type": "markdown",
   "metadata": {},
   "source": [
    "**Table 2** Filtered dclip_output containing only bins that binds more in the positive samples [download](./positive_only.csv)"
   ]
  },
  {
   "cell_type": "markdown",
   "metadata": {},
   "source": [
    "#### Number of clusters"
   ]
  },
  {
   "cell_type": "code",
   "execution_count": null,
   "metadata": {},
   "outputs": [],
   "source": [
    "len(pos_clusters.id.unique())"
   ]
  },
  {
   "cell_type": "markdown",
   "metadata": {},
   "source": [
    "## Get positive clusters only bed file"
   ]
  },
  {
   "cell_type": "code",
   "execution_count": null,
   "metadata": {},
   "outputs": [],
   "source": [
    "pos_concat = set(pos_clusters.pos_concat)\n",
    "def filter_pos(features):\n",
    "    position = str(features.start)\n",
    "    cluster_id = str(features.name)\n",
    "    chrom = str(features.chrom)\n",
    "    pos = \"%s%s%s\"%(cluster_id,chrom,position)\n",
    "    if pos in pos_concat:\n",
    "        return True\n",
    "    else:\n",
    "        return False"
   ]
  },
  {
   "cell_type": "code",
   "execution_count": null,
   "metadata": {},
   "outputs": [],
   "source": [
    "pos_only = dCLIP_summary.filter(filter_pos).saveas(\"pos_only.bed\", trackline='track name=\"positive\"')"
   ]
  },
  {
   "cell_type": "code",
   "execution_count": null,
   "metadata": {},
   "outputs": [],
   "source": [
    "pos_only.head()"
   ]
  },
  {
   "cell_type": "markdown",
   "metadata": {},
   "source": [
    "**File 1** Bed file containing clusters that binds more in the positive samples [download](./pos_only.bed)"
   ]
  },
  {
   "cell_type": "markdown",
   "metadata": {},
   "source": [
    "## Find clusters enriched in the 3'UTR\n",
    "\n",
    "To narrow our targets, we only select those that with differential peaks in the 3' UTR"
   ]
  },
  {
   "cell_type": "code",
   "execution_count": null,
   "metadata": {},
   "outputs": [],
   "source": [
    "pos_3UTR = pos_only.intersect(bed_3UTR, s=True).saveas(\"3UTRintersection.bed\", trackline='track name=\"pos 3UTR intersection\"')"
   ]
  },
  {
   "cell_type": "code",
   "execution_count": null,
   "metadata": {},
   "outputs": [],
   "source": [
    "len(pos_3UTR)"
   ]
  },
  {
   "cell_type": "code",
   "execution_count": null,
   "metadata": {},
   "outputs": [],
   "source": [
    "pos_3UTR.head()"
   ]
  },
  {
   "cell_type": "markdown",
   "metadata": {},
   "source": [
    "**File 2** Bed file showing only segments of File 1 that are in the 3'UTR [download](./3UTRintersection.bed)"
   ]
  },
  {
   "cell_type": "markdown",
   "metadata": {},
   "source": [
    "## Get gene ids\n",
    "Using the whole genes bed file, we extract the gene ids"
   ]
  },
  {
   "cell_type": "code",
   "execution_count": null,
   "metadata": {},
   "outputs": [],
   "source": [
    "gene_ids = pos_3UTR.intersect(bed_wholegenes, wa=True, wb=True, s=True).to_dataframe(header=None, names=range(21))"
   ]
  },
  {
   "cell_type": "code",
   "execution_count": null,
   "metadata": {},
   "outputs": [],
   "source": [
    "sorted_bed = gene_ids.sort_values(by=[4], ascending=False)"
   ]
  },
  {
   "cell_type": "code",
   "execution_count": null,
   "metadata": {},
   "outputs": [],
   "source": [
    "display(Markdown(\"## Top %d genes\"%top_ranked))"
   ]
  },
  {
   "cell_type": "code",
   "execution_count": null,
   "metadata": {},
   "outputs": [],
   "source": [
    "ranked_genes = []\n",
    "indices = []\n",
    "for i in sorted_bed[12].index:\n",
    "    gene_id = sorted_bed[12][i]\n",
    "    gene = gene_names[gene_id]\n",
    "    if gene not in ranked_genes:\n",
    "        ranked_genes.append(gene)\n",
    "        indices.append(i)\n",
    "        sorted_bed.loc[i,12] = gene\n",
    "    if len(ranked_genes) == top_ranked:\n",
    "        break\n",
    "with open(\"ranked_genes.txt\", \"w\") as o:\n",
    "    o.write(\"\\n\".join(ranked_genes))"
   ]
  },
  {
   "cell_type": "code",
   "execution_count": null,
   "metadata": {},
   "outputs": [],
   "source": [
    "top_genes = sorted_bed.loc[indices]"
   ]
  },
  {
   "cell_type": "code",
   "execution_count": null,
   "metadata": {},
   "outputs": [],
   "source": [
    "scores = pd.DataFrame(columns=[\"chrom\",\"start\", \"end\", \"name\", \"average binding strenth\", \"strand\", \"gene name\"])\n",
    "for i in top_genes.index:\n",
    "    row = pd.Series(list(top_genes.loc[i][0:6]) + [top_genes.loc[i,12]], index=[\"chrom\",\"start\", \"end\", \"name\", \"average binding strenth\", \"strand\", \"gene name\"])\n",
    "    row_frame = pd.DataFrame([row])\n",
    "    scores = pd.concat([scores,row_frame], sort=False, ignore_index=True)"
   ]
  },
  {
   "cell_type": "code",
   "execution_count": null,
   "metadata": {},
   "outputs": [],
   "source": [
    "scores.to_csv(\"top500.csv\")\n",
    "scores.head(10)"
   ]
  },
  {
   "cell_type": "markdown",
   "metadata": {},
   "source": [
    "**Table 3** Top 500 genes sorted by average binding strength [download](./top500.csv)"
   ]
  },
  {
   "cell_type": "markdown",
   "metadata": {},
   "source": [
    "[Download gene set](./ranked_genes.txt)"
   ]
  },
  {
   "cell_type": "markdown",
   "metadata": {},
   "source": [
    "## Enrichment"
   ]
  },
  {
   "cell_type": "code",
   "execution_count": null,
   "metadata": {},
   "outputs": [],
   "source": [
    "ENRICHR_URL = 'http://amp.pharm.mssm.edu/Enrichr'\n",
    "def enrichr_add_list(enrichr_gene_list, description):\n",
    "    genes_str = '\\n'.join(enrichr_gene_list)\n",
    "    payload = {\n",
    "        'list': (None, genes_str),\n",
    "        'description': (None, description)\n",
    "    }\n",
    "\n",
    "    response = requests.post(ENRICHR_URL + \"/addList\", files=payload)\n",
    "    if not response.ok:\n",
    "        raise Exception('Error analyzing gene list')\n",
    "    return json.loads(response.text)\n",
    "\n",
    "# Adapted from Megan's Appyter (https://github.com/MaayanLab/appyter-catalog/tree/main/appyters/Enrichr_compressed_bar_chart_figure)\n",
    "def enrich(library_name, user_list_id, short_id):\n",
    "    all_terms = []\n",
    "    all_pvalues =[] \n",
    "    all_adjusted_pvalues = []\n",
    "    time.sleep(0.5)\n",
    "    response = requests.get(\n",
    "        ENRICHR_URL + \"/enrich\", params={\n",
    "            \"userListId\": user_list_id,\n",
    "            \"backgroundType\": library_name\n",
    "        }\n",
    "     )\n",
    "    if not response.ok:\n",
    "        raise Exception('Error fetching enrichment results')\n",
    "\n",
    "    data = json.loads(response.text)\n",
    "\n",
    "    results_df  = pd.DataFrame(data[library_name][0:10])\n",
    "    all_terms.append(list(results_df[1]))\n",
    "    all_pvalues.append(list(results_df[2]))\n",
    "    all_adjusted_pvalues.append(list(results_df[6]))\n",
    "\n",
    "    return([all_terms,all_pvalues,all_adjusted_pvalues,str(short_id)])\n",
    "\n",
    "# Megan's code\n",
    "annot_dict = {}\n",
    "# Function plots results \n",
    "# Takes all terms, all p-values, all adjusted p-values, plot title, Enrichr libraries , and specified figure format\n",
    "def enrichr_figure(all_terms,all_pvalues, all_adjusted_pvalues, plot_names, all_libraries, fig_format, bar_color): \n",
    "    \n",
    "    # rows and columns depend on number of Enrichr libraries submitted \n",
    "    rows = []\n",
    "    cols = []\n",
    "    \n",
    "    # Bar colors\n",
    "    if bar_color!= 'lightgrey':\n",
    "        bar_color_not_sig = 'lightgrey'\n",
    "        edgecolor=None\n",
    "        linewidth=0\n",
    "    else:\n",
    "        bar_color_not_sig = 'white'\n",
    "        edgecolor='black'\n",
    "        linewidth=1\n",
    "    \n",
    "    # If only 1 Enrichr library selected, make simple plot \n",
    "    if len(all_libraries)==1:\n",
    "        #fig,axes = plt.subplots(1, 1,figsize=[8.5,6])\n",
    "        plt.figure(figsize=(10,4))\n",
    "        rows = [0]\n",
    "        cols = [0]\n",
    "        i = 0 \n",
    "        bar_colors = [bar_color if (x < 0.05) else bar_color_not_sig for x in all_pvalues[i]]\n",
    "        fig = sns.barplot(x=np.log10(all_pvalues[i])*-1, y=all_terms[i], palette=bar_colors, edgecolor=edgecolor, linewidth=linewidth)\n",
    "        fig.axes.get_yaxis().set_visible(False)\n",
    "        fig.set_title(all_libraries[i].replace('_',' '),fontsize=26)\n",
    "        fig.set_xlabel('-Log10(p-value)',fontsize=25)\n",
    "        fig.xaxis.set_major_locator(MaxNLocator(integer=True))\n",
    "        fig.tick_params(axis='x', which='major', labelsize=20)\n",
    "        if max(np.log10(all_pvalues[i])*-1)<1:\n",
    "            fig.xaxis.set_ticks(np.arange(0, max(np.log10(all_pvalues[i])*-1), 0.1))\n",
    "        for ii,annot in enumerate(all_terms[i]):\n",
    "            if annot in annot_dict.keys():\n",
    "                annot = annot_dict[annot]\n",
    "            if all_adjusted_pvalues[i][ii] < 0.05:\n",
    "                annot = '  *'.join([annot, str(str(np.format_float_scientific(all_pvalues[i][ii],precision=2)))]) \n",
    "            else:\n",
    "                annot = '  '.join([annot, str(str(np.format_float_scientific(all_pvalues[i][ii],precision=2)))])\n",
    "\n",
    "            title_start= max(fig.axes.get_xlim())/200\n",
    "            fig.text(title_start,ii,annot,ha='left',wrap = True, fontsize = 12)\n",
    "            fig.patch.set_edgecolor('black')  \n",
    "            fig.patch.set_linewidth('2')\n",
    "        \n",
    "    \n",
    "    # If there are an even number of Enrichr libraries below 6\n",
    "    # Plots 1x2 or 2x2\n",
    "    else:\n",
    "        if len(all_libraries) % 2 == 0 and len(all_libraries) < 5:\n",
    "                for i in range(0,int(len(all_libraries)/2)):    \n",
    "                    rows = rows + [i]*2\n",
    "                    cols = list(range(0,2))*int(len(all_libraries)/2)    \n",
    "                fig, axes = plt.subplots(len(np.unique(rows)), len(np.unique(cols)),figsize=[7,int(2* len(np.unique(rows)))]) \n",
    "    \n",
    "        \n",
    "        # All other # of libraries 6 and above will have 3 columns and a flexible number of rows to accomodate all plots\n",
    "        else:\n",
    "            for i in range(0,int(np.ceil(len(all_libraries)/3))):\n",
    "                rows = rows + [i]*3\n",
    "                cols = list(range(0,3))*int(np.ceil(len(all_libraries)/3))\n",
    "            fig, axes = plt.subplots(len(np.unique(rows)), len(np.unique(cols)),figsize=[8,int(2* len(np.unique(rows)))])\n",
    "           \n",
    "        # If final figure only has one row...\n",
    "        if len(np.unique(rows))==1:\n",
    "            for i,library_name in enumerate(all_libraries):\n",
    "                bar_colors = [bar_color if (x < 0.05) else bar_color_not_sig for x in all_pvalues[i]]\n",
    "                sns.barplot(x=np.log10(all_pvalues[i])*-1, y=all_terms[i],ax=axes[i], palette=bar_colors, edgecolor=edgecolor, linewidth=linewidth)\n",
    "                axes[i].axes.get_yaxis().set_visible(False)\n",
    "                axes[i].set_title(library_name.replace('_',' '),fontsize=36)\n",
    "                axes[i].set_xlabel('-Log10(p-value)',fontsize=35)\n",
    "                axes[i].xaxis.set_major_locator(MaxNLocator(integer=True))\n",
    "                axes[i].tick_params(axis='x', which='major', labelsize=30)\n",
    "                if max(np.log10(all_pvalues[i])*-1)<1:\n",
    "                    axes[i].xaxis.set_ticks(np.arange(0, max(np.log10(all_pvalues[i])*-1), 0.1))\n",
    "                for ii,annot in enumerate(all_terms[i]):\n",
    "                    if annot in annot_dict.keys():\n",
    "                        annot = annot_dict[annot]\n",
    "                    if all_adjusted_pvalues[i][ii] < 0.05:\n",
    "                        annot = '  *'.join([annot, str(str(np.format_float_scientific(all_pvalues[i][ii],precision=2)))]) \n",
    "                    else:\n",
    "                        annot = '  '.join([annot, str(str(np.format_float_scientific(all_pvalues[i][ii],precision=2)))])\n",
    "\n",
    "                    title_start= max(axes[i].axes.get_xlim())/200\n",
    "                    axes[i].text(title_start,ii,annot,ha='left',wrap = True, fontsize = 36)\n",
    "                    axes[i].patch.set_edgecolor('black')  \n",
    "                    axes[i].patch.set_linewidth('2')\n",
    "\n",
    "            plt.subplots_adjust(top=4.5, right = 4.7,wspace = 0.03,hspace = 0.2)\n",
    "\n",
    "\n",
    "        # If the final figure has more than one row...\n",
    "        else:\n",
    "\n",
    "\n",
    "            for i,library_name in enumerate(all_libraries):\n",
    "                bar_colors = [bar_color if (x < 0.05) else bar_color_not_sig for x in all_pvalues[i]]\n",
    "                sns.barplot(x=np.log10(all_pvalues[i])*-1, y=all_terms[i],ax=axes[rows[i],cols[i]], palette=bar_colors, edgecolor=edgecolor, linewidth=linewidth)\n",
    "                axes[rows[i],cols[i]].axes.get_yaxis().set_visible(False)\n",
    "                axes[rows[i],cols[i]].set_title(library_name.replace('_',' '),fontsize=36)\n",
    "                axes[rows[i],cols[i]].set_xlabel('-Log10(p-value)',fontsize=35)\n",
    "                axes[rows[i],cols[i]].xaxis.set_major_locator(MaxNLocator(integer=True))\n",
    "                axes[rows[i],cols[i]].tick_params(axis='x', which='major', labelsize=30)\n",
    "                if max(np.log10(all_pvalues[i])*-1)<1:\n",
    "                    axes[rows[i],cols[i]].xaxis.set_ticks(np.arange(0, max(np.log10(all_pvalues[i])*-1), 0.1))\n",
    "                for ii,annot in enumerate(all_terms[i]):\n",
    "                    if annot in annot_dict.keys():\n",
    "                        annot = annot_dict[annot]\n",
    "                    if all_adjusted_pvalues[i][ii] < 0.05:\n",
    "                        annot = '  *'.join([annot, str(str(np.format_float_scientific(all_pvalues[i][ii],precision=2)))]) \n",
    "                    else:\n",
    "                        annot = '  '.join([annot, str(str(np.format_float_scientific(all_pvalues[i][ii],precision=2)))])\n",
    "\n",
    "                    title_start= max(axes[rows[i],cols[i]].axes.get_xlim())/200\n",
    "                    axes[rows[i],cols[i]].text(title_start,ii,annot,ha='left',wrap = True, fontsize = 36)\n",
    "                    axes[rows[i],cols[i]].patch.set_edgecolor('black')  \n",
    "                    axes[rows[i],cols[i]].patch.set_linewidth('2')\n",
    "\n",
    "            plt.subplots_adjust(top=4.8, right = 4.7,wspace = 0.03,hspace = 0.2)\n",
    "\n",
    "\n",
    "        # If >6 libraries are chosen and is not a multiple of 3, delete empty plots\n",
    "        if len(np.unique(rows))*len(np.unique(cols)) != len(all_libraries):\n",
    "            diff = (len(np.unique(rows))*len(np.unique(cols))) - len(all_libraries)\n",
    "            for i in range (1,int(diff+1)):\n",
    "                fig.delaxes(axes[rows[-i]][cols[-i]])\n",
    "    \n",
    "    # Save results \n",
    "    for plot_name in plot_names:\n",
    "        plt.savefig(plot_name,bbox_inches = 'tight')\n",
    "    \n",
    "    # Show plot \n",
    "    plt.show()"
   ]
  },
  {
   "cell_type": "code",
   "execution_count": null,
   "metadata": {},
   "outputs": [],
   "source": [
    "%%appyter code_exec\n",
    "\n",
    "transcription_libraries = {{ MultiChoiceField(name='transcription_libraries', description='Select the Enrichr libraries you would like in your figure.', label='Transcription', default=[], section = 'ENRICHMENT',choices=[\n",
    "    'ARCHS4_TFs_Coexp',\n",
    "    'ChEA_2016',\n",
    "    'ENCODE_and_ChEA_Consensus_TFs_from_ChIP-X',\n",
    "    'ENCODE_Histone_Modifications_2015',\n",
    "    'ENCODE_TF_ChIP-seq_2015',\n",
    "    'Epigenomics_Roadmap_HM_ChIP-seq',\n",
    "    'Enrichr_Submissions_TF-Gene_Coocurrence',\n",
    "    'Genome_Browser_PWMs',\n",
    "    'lncHUB_lncRNA_Co-Expression',\n",
    "    'miRTarBase_2017',\n",
    "    'TargetScan_microRNA_2017',\n",
    "    'TF-LOF_Expression_from_GEO',\n",
    "    'TF_Perturbations_Followed_by_Expression',\n",
    "    'Transcription_Factor_PPIs',\n",
    "    'TRANSFAC_and_JASPAR_PWMs',\n",
    "    'TRRUST_Transcription_Factors_2019']) }}\n",
    "\n",
    "\n",
    "pathways_libraries = {{ MultiChoiceField(name='pathways_libraries', description='Select the Enrichr libraries you would like in your figure.', label='Pathways', default=[], section = 'ENRICHMENT',choices=[\n",
    "    'ARCHS4_Kinases_Coexp',\n",
    "    'BioCarta_2016',\n",
    "    'BioPlanet_2019',\n",
    "    'BioPlex_2017',\n",
    "    'CORUM',\n",
    "    'Elsevier_Pathway_Collection',\n",
    "    'HMS_LINCS_KinomeScan',\n",
    "    'HumanCyc_2016',\n",
    "    'huMAP',\n",
    "    'KEA_2015',\n",
    "    'KEGG_2019_Human',\n",
    "    'KEGG_2019_Mouse',\n",
    "    'Kinase_Perturbations_from_GEO_down',\n",
    "    'Kinase_Perturbations_from_GEO_up',\n",
    "    'L1000_Kinase_and_GPCR_Perturbations_down',\n",
    "    'L1000_Kinase_and_GPCR_Perturbations_up',\n",
    "    'NCI-Nature_2016',\n",
    "    'NURSA_Human_Endogenous_Complexome',\n",
    "    'Panther_2016',\n",
    "    'Phosphatase_Substrates_from_DEPOD',\n",
    "    'PPI_Hub_Proteins',\n",
    "    'Reactome_2016',\n",
    "    'SILAC_Phosphoproteomics',\n",
    "    'SubCell_BarCode',\n",
    "    'Virus-Host_PPI_P-HIPSTer_2020',\n",
    "    'WikiPathways_2019_Human',\n",
    "    'WikiPathways_2019_Mouse']) }}    \n",
    "    \n",
    "  \n",
    "ontologies_libraries = {{ MultiChoiceField(name='ontologies_libraries', description='Select the Enrichr libraries you would like in your figure.', label='Ontologies', default=[], section = 'ENRICHMENT',choices=[\n",
    "    'GO_Biological_Process_2018',\n",
    "    'GO_Cellular_Component_2018',\n",
    "    'GO_Molecular_Function_2018',\n",
    "    'Human_Phenotype_Ontology',\n",
    "    'Jensen_COMPARTMENTS',\n",
    "    'Jensen_DISEASES',\n",
    "    'Jensen_TISSUES',\n",
    "    'MGI_Mammalian_Phenotype_Level_4_2019']) }} \n",
    "\n",
    "    \n",
    "diseases_drugs_libraries = {{ MultiChoiceField(name='diseases_drugs_libraries', description='Select the Enrichr libraries you would like in your figure.', label='Diseases/Drugs', default=[], section = 'ENRICHMENT',choices=[    \n",
    "    'Achilles_fitness_decrease',\n",
    "    'Achilles_fitness_increase',\n",
    "    'ARCHS4_IDG_Coexp',\n",
    "    'ClinVar_2019',\n",
    "    'dbGaP',\n",
    "    'DepMap_WG_CRISPR_Screens_Broad_CellLines_2019',\n",
    "    'DepMap_WG_CRISPR_Screens_Sanger_CellLines_2019',\n",
    "    'DisGeNET',\n",
    "    'DrugMatrix',\n",
    "    'DSigDB',\n",
    "    'GeneSigDB',\n",
    "    'GWAS_Catalog_2019',\n",
    "    'LINCS_L1000_Chem_Pert_down',\n",
    "    'LINCS_L1000_Chem_Pert_up',\n",
    "    'LINCS_L1000_Ligand_Perturbations_down',\n",
    "    'LINCS_L1000_Ligand_Perturbations_up',\n",
    "    'MSigDB_Computational',\n",
    "    'MSigDB_Oncogenic_Signatures',\n",
    "    'Old_CMAP_down',\n",
    "    'Old_CMAP_up',\n",
    "    'OMIM_Disease',\n",
    "    'OMIM_Expanded',\n",
    "    'PheWeb_2019',\n",
    "    'Rare_Diseases_AutoRIF_ARCHS4_Predictions',\n",
    "    'Rare_Diseases_AutoRIF_Gene_Lists',\n",
    "    'Rare_Diseases_GeneRIF_ARCHS4_Predictions',\n",
    "    'Rare_Diseases_GeneRIF_Gene_Lists',\n",
    "    'UK_Biobank_GWAS_v1',\n",
    "    'Virus_Perturbations_from_GEO_down',\n",
    "    'Virus_Perturbations_from_GEO_up',\n",
    "    'VirusMINT']) }}"
   ]
  },
  {
   "cell_type": "code",
   "execution_count": null,
   "metadata": {},
   "outputs": [],
   "source": [
    "enrichment_libraries = transcription_libraries + pathways_libraries + ontologies_libraries + diseases_drugs_libraries or ['KEGG_2019_Human', 'Reactome_2016','GO_Biological_Process_2018', 'GO_Cellular_Component_2018', 'GO_Molecular_Function_2018']"
   ]
  },
  {
   "cell_type": "code",
   "execution_count": null,
   "metadata": {},
   "outputs": [],
   "source": [
    "description = 'top %d targets'%top_ranked\n",
    "\n",
    "data = enrichr_add_list(ranked_genes, description)\n",
    "user_list_id = data['userListId']\n",
    "short_id = data[\"shortId\"]"
   ]
  },
  {
   "cell_type": "code",
   "execution_count": null,
   "metadata": {},
   "outputs": [],
   "source": [
    "for i in enrichment_libraries:\n",
    "    results = enrich(i, user_list_id, short_id)\n",
    "    final_output_file_names = [\"%s.png\"%i]\n",
    "    enrichr_figure(results[0],results[1],results[2],final_output_file_names, [i],\"png\", \"tomato\")"
   ]
  },
  {
   "cell_type": "code",
   "execution_count": null,
   "metadata": {},
   "outputs": [],
   "source": [
    "display(Markdown('Access your complete Enrichment results [here](%s)'% str('https://amp.pharm.mssm.edu/Enrichr/enrich?dataset='+ short_id)))"
   ]
  },
  {
   "cell_type": "markdown",
   "metadata": {},
   "source": [
    "## References\n",
    "[1] Wang, T., Xie, Y. and Xiao, G., 2014. dCLIP: a computational approach for comparative CLIP-seq analyses. Genome biology, 15(1), p.R11.\n",
    "\n",
    "[2] Dale RK, Pedersen BS, and Quinlan AR. 2011. Pybedtools: a flexible Python library for manipulating genomic datasets and annotations. Bioinformatics 27(24):3423-3424.\n",
    "\n",
    "[3] Quinlan AR and Hall IM, 2010. BEDTools: a flexible suite of utilities for comparing genomic features. Bioinformatics 26(6):841–842.\n",
    "\n",
    "[4] Chen EY, Tan CM, Kou Y, Duan Q, Wang Z, Meirelles GV, Clark NR, Ma'ayan A. Enrichr: interactive and collaborative HTML5 gene list enrichment analysis tool. BMC Bioinformatics. 2013;128(14).\n",
    "\n",
    "[5] Kuleshov MV, Jones MR, Rouillard AD, Fernandez NF, Duan Q, Wang Z, Koplev S, Jenkins SL, Jagodnik KM, Lachmann A, McDermott MG, Monteiro CD, Gundersen GW, Ma'ayan A. Enrichr: a comprehensive gene set enrichment analysis web server 2016 update. Nucleic Acids Research. 2016; gkw377 ."
   ]
  }
 ],
 "metadata": {
  "kernelspec": {
   "display_name": "appyter-venv",
   "language": "python",
   "name": "appyter-venv"
  },
  "language_info": {
   "codemirror_mode": {
    "name": "ipython",
    "version": 3
   },
   "file_extension": ".py",
   "mimetype": "text/x-python",
   "name": "python",
   "nbconvert_exporter": "python",
   "pygments_lexer": "ipython3",
   "version": "3.7.7"
  }
 },
 "nbformat": 4,
 "nbformat_minor": 4
}
