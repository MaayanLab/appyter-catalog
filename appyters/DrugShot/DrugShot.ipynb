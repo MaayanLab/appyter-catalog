{
 "cells": [
  {
   "cell_type": "markdown",
   "metadata": {},
   "source": [
    "# DrugShot\n",
    "DrugShot searches PubMed for articles that co-mention any search term and terms that describe drugs.\n",
    "\n",
    "It then prioritizes the top literature associated drugs and predicts additional drugs based on shared properties in drug-drug similarity matrices."
   ]
  },
  {
   "cell_type": "code",
   "execution_count": null,
   "metadata": {},
   "outputs": [],
   "source": [
    "#%%appyter init\n",
    "from appyter import magic\n",
    "magic.init(lambda _=globals: _())"
   ]
  },
  {
   "cell_type": "code",
   "execution_count": null,
   "metadata": {},
   "outputs": [],
   "source": [
    "import os\n",
    "import sys\n",
    "import zipfile\n",
    "import datetime\n",
    "from collections import Counter\n",
    "\n",
    "import pandas as pd\n",
    "import numpy as np\n",
    "\n",
    "# Display / graphing\n",
    "from IPython.display import display, HTML\n",
    "import plotly.express as px\n",
    "import plotly.graph_objects as go\n",
    "import sklearn.metrics\n",
    "import seaborn as sns\n",
    "import matplotlib.pyplot as plt\n",
    "from matplotlib.ticker import MaxNLocator\n",
    "\n",
    "# API access\n",
    "import requests\n",
    "import io\n",
    "import time\n",
    "import json"
   ]
  },
  {
   "cell_type": "code",
   "execution_count": null,
   "metadata": {},
   "outputs": [],
   "source": [
    "# Notebook display util functions\n",
    "def make_clickable(link):\n",
    "    return f'<a target=\"_blank\" href=\"{link}\">{link}</a>'\n",
    "\n",
    "table_number = 0\n",
    "figure_number = 0\n",
    "def figure_header(label,title):\n",
    "    global table_number\n",
    "    global figure_number\n",
    "    if label == 'Table':\n",
    "        table_number += 1\n",
    "        label = f'Table {table_number}'\n",
    "    elif label == 'Figure':\n",
    "        figure_number += 1\n",
    "        label = f'Figure {figure_number}'\n",
    "    display(HTML(f\"<div style='font-size:1.25rem; padding:1rem 0;'><b>{label}</b>: {title}</div>\"))\n",
    "    \n",
    "def figure_legend(label,title,content=''):\n",
    "    global table_number\n",
    "    global figure_number\n",
    "    if label == 'Table':\n",
    "        label = f'Table {table_number}'\n",
    "    elif label == 'Figure':\n",
    "        label = f'Figure {figure_number}'\n",
    "    display(HTML(f'<style>div.caption {{text-align: center;}}</style><div class=caption><b>{label}</b>: <i>{title}</i>. {content} </div>'))\n",
    "    \n",
    "def drugenrichr_link(short_id):\n",
    "    display(HTML(f'<span><a href=\"https://maayanlab.cloud/DrugEnrichr/enrich?dataset={short_id}\">Access the complete enrichment analysis on the DrugEnrichr website. </a></span>'))"
   ]
  },
  {
   "cell_type": "code",
   "execution_count": null,
   "metadata": {},
   "outputs": [],
   "source": [
    "def DrugEnrichr_API(drug_list, description):\n",
    "    # takes a drug list and provides a shortID to view enrichment analysis results on DrugEnrichr website\n",
    "    global short_id\n",
    "    DRUG_ENRICHR_URL = 'http://amp.pharm.mssm.edu/DrugEnrichr/addList'\n",
    "    drugs_str = '\\n'.join(drug_list)\n",
    "    payload = {\n",
    "        'list': (None, drugs_str),\n",
    "        'description': (None, description)\n",
    "    }\n",
    "\n",
    "    response = requests.post(DRUG_ENRICHR_URL, files=payload)\n",
    "    if not response.ok:\n",
    "        raise Exception('Error analyzing drug list')\n",
    "\n",
    "    data = json.loads(response.text)\n",
    "    short_id = data['shortId']\n",
    "    user_list_id = data['userListId']\n",
    "\n",
    "    #sends generated userListId to DrugEnrichr enrichment API endpoint\n",
    "    results = {}\n",
    "    DRUG_ENRICHR_URL = 'http://amp.pharm.mssm.edu/DrugEnrichr/enrich'\n",
    "    query_string = '?userListId=%s&backgroundType=%s'\n",
    "    for drug_set_library in ['L1000FWD_GO_Biological_Processes_Up', 'L1000FWD_GO_Biological_Processes_Down',\n",
    "                   'SIDER_Side_Effects']:\n",
    "        response = requests.get(\n",
    "            DRUG_ENRICHR_URL + query_string % (user_list_id, drug_set_library)\n",
    "         )\n",
    "        if not response.ok:\n",
    "            raise Exception('Error fetching enrichment results')\n",
    "            \n",
    "        data = response.json()[drug_set_library]\n",
    "        try:\n",
    "            short_results_df  = pd.DataFrame(data).sort_values(by = [2])\n",
    "            results[drug_set_library] = {\n",
    "                'terms': short_results_df[1].head(10).tolist(),\n",
    "                'p-values': short_results_df[2].head(10).tolist(),\n",
    "                'adjusted p-values': short_results_df[6].head(10).tolist()\n",
    "            }\n",
    "        except KeyError:\n",
    "            pass\n",
    "        \n",
    "    return results\n",
    "            \n",
    "        \n",
    "# Create bar plot of top 10 enriched terms in L1000FWD & SIDER libraries\n",
    "def bar_plot(results): \n",
    "    # Bar colors\n",
    "    bar_color = 'pink'\n",
    "    bar_color_not_sig = 'lightgrey'\n",
    "    edgecolor=None\n",
    "    linewidth=0    \n",
    "\n",
    "    for library, values in results.items():\n",
    "        plt.figure(figsize=(24, 12))\n",
    "        bar_colors = [bar_color if (x < 0.05) else bar_color_not_sig for x in values['p-values']]\n",
    "        fig = sns.barplot(x=np.log10(values['p-values'])*-1,\n",
    "                          y= values['terms'],\n",
    "                          palette=bar_colors,\n",
    "                          edgecolor=edgecolor,\n",
    "                          linewidth=linewidth)\n",
    "\n",
    "        fig.axes.get_yaxis().set_visible(False)\n",
    "        fig.set_title(library.replace('_', ' '), fontsize=26)\n",
    "        fig.set_xlabel('−log₁₀(p‐value)', fontsize=25)\n",
    "        fig.xaxis.set_major_locator(MaxNLocator(integer=True))\n",
    "        fig.tick_params(axis='x', which='major', labelsize=20)\n",
    "        if max(np.log10(results[library]['p-values'])*-1)<1:\n",
    "            fig.xaxis.set_ticks(np.arange(0, max(np.log10(results[library]['p-values'])*-1), 0.1))\n",
    "        for index,term in enumerate(results[library]['terms']):\n",
    "            if results[library]['adjusted p-values'][index] < 0.05:\n",
    "                term = '  *'.join([term,\n",
    "                                    str(str(np.format_float_scientific(results[library]['p-values'][index],\n",
    "                                    precision=2)))]) \n",
    "            else:\n",
    "                term = '  '.join([term,\n",
    "                                   str(str(np.format_float_scientific(results[library]['p-values'][index],\n",
    "                                   precision=2)))])\n",
    "\n",
    "            title_start= max(fig.axes.get_xlim())/200\n",
    "            fig.text(title_start, index, term, ha='left', wrap = True, fontsize = 26)\n",
    "\n",
    "        fig.spines['right'].set_visible(False)\n",
    "        fig.spines['top'].set_visible(False)\n",
    "        plt.show()"
   ]
  },
  {
   "cell_type": "code",
   "execution_count": null,
   "metadata": {},
   "outputs": [],
   "source": [
    "%%appyter hide_code\n",
    "\n",
    "{% do SectionField(name='method_selection',\n",
    "                   title='Method Selection',\n",
    "                   subtitle='Choose between querying a biomedical term of interest to prioritize drugs and small molecules \\\n",
    "                            associated with the query term, or uploading a list of small molecules to be augmented using \\\n",
    "                            co-occurrence and co-expression matrices.')%}\n",
    "\n",
    "\n",
    "{% set method_field = TabField(\n",
    "    name='method_field',\n",
    "    label='Method Selection',\n",
    "    default='Biomedical Term',\n",
    "    description='Select input method',\n",
    "    choices={\n",
    "        'Biomedical Term': [\n",
    "            StringField(\n",
    "                name='input_term',\n",
    "                label='Biomedical Term',\n",
    "                default='Lung Cancer',\n",
    "                description='Input your biomedical term of interest.',\n",
    "                section = 'method_selection'\n",
    "            ),\n",
    "\n",
    "            IntField(\n",
    "                name = 'set_size',\n",
    "                label = 'Associated drug set size',\n",
    "                min = 50,\n",
    "                max = 200,\n",
    "                default = 50,\n",
    "                description = 'Size of drug set (between 50-200) used for predictions of additional compounds',\n",
    "                section = 'method_selection'),\n",
    "        ],\n",
    "        \n",
    "        'List': [\n",
    "            FileField(\n",
    "                name='druglist',\n",
    "                label='Upload List of Small Molecules',\n",
    "                description='Upload a list of compounds to be augmented using co-occurrence and co-expression\\\n",
    "                             prediction matrices. File format is a newline separated .txt file',\n",
    "                default='drug_augmentation_feature_example.txt',\n",
    "                examples={\n",
    "                    'drug_augmentation_feature_example.txt': 'https://appyters.maayanlab.cloud/storage/DrugShot/drug_augmentation_feature_example.txt'\n",
    "                },\n",
    "                section='method_selection'\n",
    "            )],\n",
    "    },\n",
    "    section = 'method_selection'\n",
    ") %}\n",
    "\n",
    "{% set term, set_size = '', 0 %}\n",
    "{% if method_field.raw_value == 'Biomedical Term' %}\n",
    "{% set term, set_size = method_field.value[0], method_field.value[1] %}\n",
    "{% endif %}"
   ]
  },
  {
   "cell_type": "code",
   "execution_count": null,
   "metadata": {},
   "outputs": [],
   "source": [
    "%%appyter markdown\n",
    "{% if method_field.raw_value == 'Biomedical Term' %}\n",
    "### Load DrugRIF\n",
    "{% endif %}"
   ]
  },
  {
   "cell_type": "code",
   "execution_count": null,
   "metadata": {},
   "outputs": [],
   "source": [
    "%%appyter code_exec\n",
    "{% if method_field.raw_value == 'Biomedical Term' %}\n",
    "DrugRIF = pd.read_csv('https://appyters.maayanlab.cloud/storage/DrugShot/DrugRIF.tsv.gz',\n",
    "                      sep = '\\t',\n",
    "                      usecols = ['name','PMID']).set_index('name')\n",
    "{% endif %}"
   ]
  },
  {
   "cell_type": "code",
   "execution_count": null,
   "metadata": {},
   "outputs": [],
   "source": [
    "%%appyter markdown\n",
    "{% if method_field.raw_value == 'Biomedical Term' %}\n",
    "### Query Term Using PubMed Eutils API\n",
    "{% endif %}"
   ]
  },
  {
   "cell_type": "code",
   "execution_count": null,
   "metadata": {},
   "outputs": [],
   "source": [
    "%%appyter code_exec\n",
    "{% if method_field.raw_value == 'Biomedical Term' %}\n",
    "i = 0\n",
    "results = []\n",
    "pubmed_url = (\"https://eutils.ncbi.nlm.nih.gov/entrez\"+\n",
    "             \"/eutils/esearch.fcgi\"+\n",
    "             \"?db=pubmed&term={}\"+\n",
    "             \"&retmax=100000\"+\n",
    "             \"&retstart={}\"+\n",
    "             \"&retmode=json\")\n",
    "\n",
    "res = requests.get(pubmed_url.format({{term}}, i)).json()\n",
    "if int(res['esearchresult']['count']) > 0:\n",
    "    while i <= int(res['esearchresult']['count']):\n",
    "        results.extend(requests.get(pubmed_url.format({{term}},i)).json()['esearchresult']['idlist'])\n",
    "        i += len(res['esearchresult']['idlist'])\n",
    "        time.sleep(0.2)\n",
    "\n",
    "results = list(map(int, results))\n",
    "{% endif %}"
   ]
  },
  {
   "cell_type": "code",
   "execution_count": null,
   "metadata": {},
   "outputs": [],
   "source": [
    "%%appyter markdown\n",
    "{% if method_field.raw_value == 'Biomedical Term' %}\n",
    "### Associated Drug Table\n",
    "{% endif %}"
   ]
  },
  {
   "cell_type": "code",
   "execution_count": null,
   "metadata": {},
   "outputs": [],
   "source": [
    "%%appyter code_exec\n",
    "{% if method_field.raw_value == 'Biomedical Term' %}\n",
    "# Retrieve associated drugs from DrugRIF based on search term co-mentions in the literature\n",
    "df_associated = pd.DataFrame(DrugRIF[DrugRIF['PMID'].isin(results) == True].index.value_counts())\\\n",
    ".rename(columns = {'name':'Publications with Search Term'})\n",
    "\n",
    "# Get counts of each drug in DrugRIF\n",
    "drug_counts = Counter(DrugRIF[DrugRIF.index.isin(df_associated.index)].index)\n",
    "\n",
    "# Calculate fraction of publications associated with drug+term / drug only\n",
    "normalized_fraction = [(df_associated.loc[index][0]/drug_counts[index]) for index in df_associated.index]\n",
    "df_associated['Publications with Search Term / Total Publications']= normalized_fraction\n",
    "\n",
    "# Calculate (Publications with Search Term * Normalized Fraction) used as metric to rank unweighted drug set\n",
    "df_associated['Score'] = df_associated['Publications with Search Term'] * df_associated['Publications with Search Term / Total Publications']\n",
    "\n",
    "del(DrugRIF)\n",
    "{% endif %}"
   ]
  },
  {
   "cell_type": "code",
   "execution_count": null,
   "metadata": {},
   "outputs": [],
   "source": [
    "%%appyter code_exec\n",
    "{% if method_field.raw_value == 'Biomedical Term' %}\n",
    "associated_table = df_associated.sort_values(by = ['Publications with Search Term'], ascending = False)\n",
    "associated_table.to_csv({{term}}.replace(' ','_')+'_associated_drug_table.csv')\n",
    "\n",
    "figure_header('Table', 'Top Associated Compounds<br>({})</br>'.format(make_clickable({{term}}.replace(' ','_')+'_associated_drug_table.csv')))\n",
    "display(associated_table[associated_table.columns[0:2]].head(20))\n",
    "figure_legend('Table', 'Top 20 Drugs associated with '+{{term}})\n",
    "\n",
    "del(df_associated)\n",
    "{% endif %}"
   ]
  },
  {
   "cell_type": "code",
   "execution_count": null,
   "metadata": {},
   "outputs": [],
   "source": [
    "%%appyter markdown\n",
    "{% if method_field.raw_value == 'Biomedical Term' %}\n",
    "### Scatter Plot of Drug Frequency in Literature\n",
    "{% endif %}"
   ]
  },
  {
   "cell_type": "code",
   "execution_count": null,
   "metadata": {},
   "outputs": [],
   "source": [
    "%%appyter code_exec\n",
    "{% if method_field.raw_value == 'Biomedical Term' %}\n",
    "fig = px.scatter(associated_table.reset_index().rename(columns = {'index':'chemical'}),\n",
    "                 x = 'Publications with Search Term',\n",
    "                 y = 'Publications with Search Term / Total Publications',\n",
    "                 hover_name = 'chemical',\n",
    "                 title={{term}})\n",
    "fig.show()\n",
    "{% endif %}"
   ]
  },
  {
   "cell_type": "code",
   "execution_count": null,
   "metadata": {},
   "outputs": [],
   "source": [
    "%%appyter markdown\n",
    "{% if method_field.raw_value == 'Biomedical Term' %}\n",
    "Create list of top associated compounds ranked by Publications with Search Term * Publications with Search Term / Total Publications to treat as an unweighted drug set for further predictions\n",
    "{% endif %}"
   ]
  },
  {
   "cell_type": "code",
   "execution_count": null,
   "metadata": {},
   "outputs": [],
   "source": [
    "%%appyter code_exec\n",
    "{% if method_field.raw_value == 'Biomedical Term' %}\n",
    "associated_compounds = associated_table.sort_values(by = 'Score',\n",
    "                                                    ascending = False)[0:{{set_size}}].index.tolist()\n",
    "{% endif %}"
   ]
  },
  {
   "cell_type": "code",
   "execution_count": null,
   "metadata": {},
   "outputs": [],
   "source": [
    "%%appyter markdown\n",
    "{% if method_field.raw_value == 'List' %}\n",
    "### Import user-specified small molecule list from which predictions will be made\n",
    "{% endif %}"
   ]
  },
  {
   "cell_type": "code",
   "execution_count": null,
   "metadata": {},
   "outputs": [],
   "source": [
    "%%appyter code_exec\n",
    "{% if method_field.raw_value == 'List' %}\n",
    "with open({{method_field.value[0]}}, 'r') as f:\n",
    "    associated_compounds = list(set(map(str.strip, f)))\n",
    "associated_compounds = [x.lower() for x in associated_compounds]\n",
    "print('%i small molecules in the associated drug set' % len(associated_compounds))\n",
    "{% endif %}"
   ]
  },
  {
   "cell_type": "code",
   "execution_count": null,
   "metadata": {},
   "outputs": [],
   "source": [
    "%%appyter markdown\n",
    "### Predicted DrugRIF Co-occurrence\n",
    "Predicted compounds are computed based on average co-occurrence counts of PubMedIDs between the unweighted drug set and other drugs & small molecules within DrugRIF"
   ]
  },
  {
   "cell_type": "code",
   "execution_count": null,
   "metadata": {},
   "outputs": [],
   "source": [
    "# Load cooccurrence matrix into pandas DataFrame\n",
    "df_cooccurrence = pd.read_csv('https://appyters.maayanlab.cloud/storage/DrugShot/DrugRIF_cooccurence_matrix.tsv.gz',\n",
    "                              sep = '\\t',\n",
    "                              index_col = 0)"
   ]
  },
  {
   "cell_type": "code",
   "execution_count": null,
   "metadata": {},
   "outputs": [],
   "source": [
    "%%appyter code_exec\n",
    "# Calculate average co-occurrence for each drug in the prediction matrix with the associated drug set\n",
    "df_cooccurrence = df_cooccurrence.loc[df_cooccurrence.index.isin(associated_compounds)]\n",
    "print('%i small molecules matched in the co-occurrence matrix from the associated drug set' % len(df_cooccurrence.index))\n",
    "df_cooccurrence.loc['Score'] = df_cooccurrence[df_cooccurrence.columns].mean()\n",
    "df_cooccurrence.sort_values(by = ['Score'], axis = 1, ascending = False, inplace = True)"
   ]
  },
  {
   "cell_type": "code",
   "execution_count": null,
   "metadata": {},
   "outputs": [],
   "source": [
    "# Calculating FPR and TPR for co-occurrence predictions\n",
    "y_score = df_cooccurrence.loc['Score'].sort_values(ascending = False).values\n",
    "true_indices = sorted([df_cooccurrence.loc['Score'].sort_values(ascending = False).\\\n",
    "                       index.get_loc(x) for x in associated_compounds if x in df_cooccurrence.index])\n",
    "y_true = np.zeros(len(df_cooccurrence.columns))\n",
    "np.put(y_true, true_indices, 1)\n",
    "fpr, tpr, thresholds = sklearn.metrics.roc_curve(y_true, y_score)\n",
    "auc_score = sklearn.metrics.roc_auc_score(y_true, y_score)\n",
    "\n",
    "# ROC Curve\n",
    "fig = go.Figure()\n",
    "name = f\"(AUC={auc_score:.2f})\"\n",
    "fig.add_trace(go.Scatter(x=fpr, y=tpr, showlegend=True, name=name, mode='lines'))\n",
    "fig.add_shape(\n",
    "    type='line', line=dict(dash='dash'),\n",
    "    x0=0, x1=1, y0=0, y1=1)\n",
    "fig.layout.update(\n",
    "    title = 'ROC Curve for Associated Compound Rankings in Co-occurrence Prediction Matrix',\n",
    "    xaxis_title='False Positive Rate',\n",
    "    yaxis_title='True Positive Rate',\n",
    "    yaxis=dict(scaleanchor=\"x\", scaleratio=0.65),\n",
    "    xaxis=dict(constrain='domain'),\n",
    "    width=800, height=500\n",
    ")\n",
    "fig.show()"
   ]
  },
  {
   "cell_type": "code",
   "execution_count": null,
   "metadata": {},
   "outputs": [],
   "source": [
    "%%appyter code_exec\n",
    "predicted_table = pd.DataFrame(df_cooccurrence.loc['Score'])\n",
    "predicted_table = predicted_table[~predicted_table.index.isin(associated_compounds)]\n",
    "{% if method_field.raw_value == 'Biomedical Term' %}\n",
    "predicted_table.to_csv({{term}}.replace(' ','_')+'_cooccurrence_similarity_predicted_drug_table.csv')\n",
    "figure_header('Table', 'Top Predicted Compounds From Co-occurrence<br>({})</br>'.format(make_clickable({{term}}.replace(' ','_')+'_cooccurrence_similarity_predicted_drug_table.csv')))\n",
    "display(predicted_table.head(20))\n",
    "figure_legend('Table', 'Top 20 drugs predicted to be associated with {} based on DrugRIF co-occurrence'.format({{term}}))\n",
    "{% else %}\n",
    "predicted_table.to_csv('cooccurrence_similarity_predicted_drug_table.csv')\n",
    "figure_header('Table', 'Top Predicted Compounds From Co-occurrence<br>({})</br>'.format(make_clickable('cooccurrence_similarity_predicted_drug_table.csv')))\n",
    "display(predicted_table.head(20))\n",
    "figure_legend('Table', 'Top 20 drugs predicted to be associated with the input drug set based on DrugRIF co-occurrence')\n",
    "{% endif %}\n",
    "del(df_cooccurrence)"
   ]
  },
  {
   "cell_type": "markdown",
   "metadata": {},
   "source": [
    "### DrugEnrichr Analysis of Co-occurrence Predicted Drugs"
   ]
  },
  {
   "cell_type": "markdown",
   "metadata": {},
   "source": [
    "The top 50 co-occurrence predicted small molecules are submitted for drug set enrichment analysis using DrugEnrichr\n",
    "<br><br>\n",
    "The output bar charts show the top 10 enriched terms in each library, along with their corresponding p-values. Colored bars correspond to terms with significant p-values (<0.05). An asterisk (*) next to a p-value indicates the term also has a significant adjusted p-value (<0.05)."
   ]
  },
  {
   "cell_type": "code",
   "execution_count": null,
   "metadata": {},
   "outputs": [],
   "source": [
    "%%appyter code_exec\n",
    "{% if method_field.raw_value == 'List' %}\n",
    "drug_list = predicted_table.index[0:50].tolist()\n",
    "filename = {{method_field.value[0]}}.split('.txt')[0]\n",
    "results = DrugEnrichr_API(drug_list,'%s (DrugShot Co-occurrence)'% filename)\n",
    "bar_plot(results)\n",
    "{% else %}\n",
    "drug_list = predicted_table.index[0:50].tolist()\n",
    "results = DrugEnrichr_API(drug_list,'%s (DrugShot Co-occurrence)'% {{term}})\n",
    "bar_plot(results)\n",
    "{% endif %}"
   ]
  },
  {
   "cell_type": "markdown",
   "metadata": {},
   "source": [
    "**Link to the complete enrichment analysis results is output below**"
   ]
  },
  {
   "cell_type": "code",
   "execution_count": null,
   "metadata": {},
   "outputs": [],
   "source": [
    "drugenrichr_link(short_id)"
   ]
  },
  {
   "cell_type": "code",
   "execution_count": null,
   "metadata": {},
   "outputs": [],
   "source": [
    "%%appyter markdown\n",
    "### Predicted L1000 Co-expression\n",
    "Predicted compounds are computed based on average cosine similarity of drug-induced L1000 gene expression signatures between the unweighted drug set and thousands of approved and experimental small molecules from [SEP-L1000](https://maayanlab.net/SEP-L1000/index.html)"
   ]
  },
  {
   "cell_type": "code",
   "execution_count": null,
   "metadata": {},
   "outputs": [],
   "source": [
    "# Load correlation matrix into pandas DataFrame\n",
    "response = requests.get('https://appyters.maayanlab.cloud/storage/DrugShot/L1000_similarity_matrix.npz')\n",
    "coexpression_matrix = np.load(io.BytesIO(response.content), allow_pickle = True)\n",
    "df_coexpression = pd.DataFrame(data = coexpression_matrix['correlations'], columns = coexpression_matrix['index'],\n",
    "                               index = coexpression_matrix['index'])\n",
    "del(coexpression_matrix)"
   ]
  },
  {
   "cell_type": "code",
   "execution_count": null,
   "metadata": {},
   "outputs": [],
   "source": [
    "%%appyter code_exec\n",
    "# Calculate average similarity for each drug in the prediction matrix with the associated drug set\n",
    "df_coexpression = df_coexpression.loc[df_coexpression.index.isin(associated_compounds)]\n",
    "print('%i small molecules matched in the co-expression matrix from the associated drug set' % len(df_coexpression.index))\n",
    "df_coexpression.loc['Score'] = df_coexpression[df_coexpression.columns].mean()\n",
    "df_coexpression.sort_values(by = ['Score'], axis = 1, ascending = False, inplace = True)"
   ]
  },
  {
   "cell_type": "code",
   "execution_count": null,
   "metadata": {},
   "outputs": [],
   "source": [
    "# Calculating FPR and TPR for co-expression predictions\n",
    "y_score = df_coexpression.loc['Score'].sort_values(ascending = False).values\n",
    "true_indices = sorted([df_coexpression.loc['Score'].sort_values(ascending = False).\\\n",
    "                       index.get_loc(x) for x in associated_compounds if x in df_coexpression.index])\n",
    "y_true = np.zeros(len(df_coexpression.columns))\n",
    "np.put(y_true, true_indices, 1)\n",
    "fpr, tpr, thresholds = sklearn.metrics.roc_curve(y_true, y_score)\n",
    "auc_score = sklearn.metrics.roc_auc_score(y_true, y_score)\n",
    "\n",
    "# ROC Curve\n",
    "fig = go.Figure()\n",
    "name = f\"(AUC={auc_score:.2f})\"\n",
    "fig.add_trace(go.Scatter(x=fpr, y=tpr, showlegend=True, name=name, mode='lines'))\n",
    "fig.add_shape(\n",
    "    type='line', line=dict(dash='dash'),\n",
    "    x0=0, x1=1, y0=0, y1=1)\n",
    "fig.layout.update(\n",
    "    title = 'ROC Curve for Associated Compound Rankings in Co-expression Prediction Matrix',\n",
    "    xaxis_title='False Positive Rate',\n",
    "    yaxis_title='True Positive Rate',\n",
    "    yaxis=dict(scaleanchor=\"x\", scaleratio=0.65),\n",
    "    xaxis=dict(constrain='domain'),\n",
    "    width=800, height=500\n",
    ")\n",
    "fig.show()"
   ]
  },
  {
   "cell_type": "code",
   "execution_count": null,
   "metadata": {},
   "outputs": [],
   "source": [
    "%%appyter code_exec\n",
    "predicted_table = pd.DataFrame(df_coexpression.loc['Score'])\n",
    "predicted_table = predicted_table[~predicted_table.index.isin(associated_compounds)]\n",
    "{% if method_field.raw_value == 'Biomedical Term' %}\n",
    "predicted_table.to_csv({{term}}.replace(' ','_')+'_coexpression_similarity_predicted_drug_table.csv')\n",
    "figure_header('Table', 'Top Predicted Compounds from Co-expression<br>({})</br>'.format(make_clickable({{term}}.replace(' ','_')+'_coexpression_similarity_predicted_drug_table.csv')))\n",
    "display(predicted_table.head(20))\n",
    "figure_legend('Table', 'Top 20 drugs predicted to be associated with {} based on co-expression'.format({{term}}))\n",
    "{% else %}\n",
    "predicted_table.to_csv('coexpression_similarity_predicted_drug_table.csv')\n",
    "figure_header('Table', 'Top Predicted Compounds From Co-expression<br>({})</br>'.format(make_clickable('coexpression_similarity_predicted_drug_table.csv')))\n",
    "display(predicted_table.head(20))\n",
    "figure_legend('Table', 'Top 20 drugs predicted to be associated with the input drug set based on L1000 co-expression')\n",
    "{% endif %}"
   ]
  },
  {
   "cell_type": "markdown",
   "metadata": {},
   "source": [
    "### DrugEnrichr Analysis of Co-expression Predicted Drugs"
   ]
  },
  {
   "cell_type": "markdown",
   "metadata": {},
   "source": [
    "The top 50 co-expression predicted small molecules are submitted for drug set enrichment analysis using DrugEnrichr\n",
    "<br><br>\n",
    "The output bar charts show the top 10 enriched terms in each library, along with their corresponding p-values. Colored bars correspond to terms with significant p-values (<0.05). An asterisk (*) next to a p-value indicates the term also has a significant adjusted p-value (<0.05)."
   ]
  },
  {
   "cell_type": "code",
   "execution_count": null,
   "metadata": {},
   "outputs": [],
   "source": [
    "%%appyter code_exec\n",
    "{% if method_field.raw_value == 'List' %}\n",
    "drug_list = predicted_table.index[0:50].tolist()\n",
    "filename = {{method_field.value[0]}}.split('.txt')[0]\n",
    "results = DrugEnrichr_API(drug_list,'%s (DrugShot Co-expression)'% filename)\n",
    "bar_plot(results)\n",
    "{% else %}\n",
    "drug_list = predicted_table.index[0:50].tolist()\n",
    "results = DrugEnrichr_API(drug_list,'%s (DrugShot Co-expression)'% {{term}})\n",
    "bar_plot(results)\n",
    "{% endif %}"
   ]
  },
  {
   "cell_type": "markdown",
   "metadata": {},
   "source": [
    "**Link to the complete enrichment analysis results is output below**"
   ]
  },
  {
   "cell_type": "code",
   "execution_count": null,
   "metadata": {},
   "outputs": [],
   "source": [
    "drugenrichr_link(short_id)"
   ]
  }
 ],
 "metadata": {
  "kernelspec": {
   "display_name": "DrugShot",
   "language": "python",
   "name": "drugshot"
  },
  "language_info": {
   "codemirror_mode": {
    "name": "ipython",
    "version": 3
   },
   "file_extension": ".py",
   "mimetype": "text/x-python",
   "name": "python",
   "nbconvert_exporter": "python",
   "pygments_lexer": "ipython3",
   "version": "3.8.3"
  }
 },
 "nbformat": 4,
 "nbformat_minor": 4
}
